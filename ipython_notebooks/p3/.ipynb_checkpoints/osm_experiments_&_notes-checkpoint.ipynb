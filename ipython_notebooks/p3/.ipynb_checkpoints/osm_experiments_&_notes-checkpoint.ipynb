{
 "cells": [
  {
   "cell_type": "markdown",
   "metadata": {},
   "source": [
    "The purpose of this file is to perform experiments and keep notes. I prefer to do it this way to keep the other files cleaner and minimize necessary cleanup work later."
   ]
  },
  {
   "cell_type": "code",
   "execution_count": 3,
   "metadata": {
    "collapsed": true
   },
   "outputs": [],
   "source": [
    "import pandas as pd\n",
    "from pymongo import MongoClient\n",
    "\n",
    "client = MongoClient()\n",
    "db = client.osm\n",
    "\n",
    "df = pd.DataFrame(list(db.bergen.find()))"
   ]
  },
  {
   "cell_type": "code",
   "execution_count": 19,
   "metadata": {
    "collapsed": true
   },
   "outputs": [],
   "source": [
    "feature_list = list(db.bergen.find())"
   ]
  },
  {
   "cell_type": "code",
   "execution_count": 21,
   "metadata": {
    "collapsed": false
   },
   "outputs": [
    {
     "data": {
      "text/plain": [
       "[{'_id': ObjectId('58664d22fff9a2e7e4db1e0b'),\n",
       "  'created': {'changeset': '40217297',\n",
       "   'timestamp': '2016-06-23T01:14:21Z',\n",
       "   'uid': '103253',\n",
       "   'user': 'gormur',\n",
       "   'version': '7'},\n",
       "  'id': '674445',\n",
       "  'pos': [60.3903627, 5.3130335],\n",
       "  'type': 'node'}]"
      ]
     },
     "execution_count": 21,
     "metadata": {},
     "output_type": "execute_result"
    }
   ],
   "source": [
    "feature_list[1000:1001]"
   ]
  },
  {
   "cell_type": "code",
   "execution_count": 23,
   "metadata": {
    "collapsed": false
   },
   "outputs": [
    {
     "data": {
      "text/plain": [
       "1    {'user': 'danerikk', 'changeset': '6007582', '...\n",
       "2    {'user': 'danerikk', 'changeset': '6007582', '...\n",
       "3    {'user': 'danerikk', 'changeset': '6007582', '...\n",
       "4    {'user': 'danerikk', 'changeset': '6007582', '...\n",
       "5    {'user': 'danerikk', 'changeset': '6007582', '...\n",
       "6    {'user': 'danerikk', 'changeset': '6007582', '...\n",
       "7    {'user': 'JackRyan', 'changeset': '1288', 'ver...\n",
       "8    {'user': 'JackRyan', 'changeset': '1288', 'ver...\n",
       "9    {'user': 'JackRyan', 'changeset': '1288', 'ver...\n",
       "Name: created, dtype: object"
      ]
     },
     "execution_count": 23,
     "metadata": {},
     "output_type": "execute_result"
    }
   ],
   "source": [
    "df['created'][1:10]"
   ]
  },
  {
   "cell_type": "code",
   "execution_count": 18,
   "metadata": {
    "collapsed": false
   },
   "outputs": [
    {
     "data": {
      "text/plain": [
       "1    NaN\n",
       "2    NaN\n",
       "3    NaN\n",
       "4    NaN\n",
       "5    NaN\n",
       "6    NaN\n",
       "7    NaN\n",
       "8    NaN\n",
       "9    NaN\n",
       "Name: address, dtype: object"
      ]
     },
     "execution_count": 18,
     "metadata": {},
     "output_type": "execute_result"
    }
   ],
   "source": [
    "df['address'][1:10]"
   ]
  },
  {
   "cell_type": "code",
   "execution_count": 39,
   "metadata": {
    "collapsed": false
   },
   "outputs": [
    {
     "data": {
      "text/plain": [
       "84625"
      ]
     },
     "execution_count": 39,
     "metadata": {},
     "output_type": "execute_result"
    }
   ],
   "source": [
    "from IPython import display\n",
    "from IPython.display import HTML\n",
    "\n",
    "#Getting count of documents with address field\n",
    "\n",
    "address_query = { 'address' : {'$exists' : True } }\n",
    "address_documents = db.bergen.find(address_query)\n",
    "address_count = address_documents.count()\n",
    "\n",
    "address_count"
   ]
  },
  {
   "cell_type": "code",
   "execution_count": 96,
   "metadata": {
    "collapsed": false
   },
   "outputs": [],
   "source": [
    "address_documents = db.bergen.find(address_query)#, { \n",
    "#         'address.street': 1,'address.housenumber': 1,'address.postcode': 1,'address.city': 1\n",
    "#     }\n",
    "#                                   )"
   ]
  },
  {
   "cell_type": "code",
   "execution_count": 97,
   "metadata": {
    "collapsed": true
   },
   "outputs": [],
   "source": [
    "tmp_list = list(address_documents)"
   ]
  },
  {
   "cell_type": "code",
   "execution_count": 121,
   "metadata": {
    "collapsed": false
   },
   "outputs": [
    {
     "data": {
      "text/plain": [
       "84625"
      ]
     },
     "execution_count": 121,
     "metadata": {},
     "output_type": "execute_result"
    }
   ],
   "source": [
    "len(tmp_list)"
   ]
  },
  {
   "cell_type": "code",
   "execution_count": 122,
   "metadata": {
    "collapsed": false
   },
   "outputs": [
    {
     "data": {
      "text/plain": [
       "{'_id': ObjectId('58664d2dfff9a2e7e4de9de3'),\n",
       " 'address': {'city': 'Ask',\n",
       "  'housenumber': '1',\n",
       "  'postcode': '5307',\n",
       "  'street': 'Barstadskogen'},\n",
       " 'created': {'changeset': '26184573',\n",
       "  'timestamp': '2014-10-19T03:26:16Z',\n",
       "  'uid': '103253',\n",
       "  'user': 'gormur',\n",
       "  'version': '1'},\n",
       " 'id': '3137783424',\n",
       " 'pos': [60.4720553, 5.2158713],\n",
       " 'type': 'node'}"
      ]
     },
     "execution_count": 122,
     "metadata": {},
     "output_type": "execute_result"
    }
   ],
   "source": [
    "tmp_list[1]"
   ]
  },
  {
   "cell_type": "code",
   "execution_count": 105,
   "metadata": {
    "collapsed": true
   },
   "outputs": [],
   "source": [
    "from pprint import pprint"
   ]
  },
  {
   "cell_type": "code",
   "execution_count": 124,
   "metadata": {
    "collapsed": false
   },
   "outputs": [],
   "source": [
    "\n",
    "\n",
    "to_df = list()\n",
    "# columns = ['street','housenumber','postcode','city']\n",
    "count = 0 \n",
    "\n",
    "for doc in tmp_list:\n",
    "    record = { 'id': doc['id'], 'type': doc['type'] }\n",
    "    \n",
    "    for key,val in doc['address'].items():\n",
    "        record[key] = val\n",
    "        \n",
    "    for key,val in doc['created'].items():\n",
    "        record['created_' + key] = val\n",
    "    \n",
    "    if 'pos' in doc.keys():\n",
    "        record['lat'] = doc['pos'][0]\n",
    "        record['lon'] = doc['pos'][1]\n",
    "    \n",
    "    to_df.append(record)"
   ]
  },
  {
   "cell_type": "code",
   "execution_count": 137,
   "metadata": {
    "collapsed": false
   },
   "outputs": [],
   "source": [
    "\n",
    "tmp_set = set()\n",
    "\n",
    "for doc in tmp_list:\n",
    "    \n",
    "    for k,v in doc.items():\n",
    "        \n",
    "        if k in ('address','created'):\n",
    "            for key,val in v.items():\n",
    "                tmp_set.add(k+'_'+key)\n",
    "        else:\n",
    "            tmp_set.add(k)\n",
    "    "
   ]
  },
  {
   "cell_type": "code",
   "execution_count": 138,
   "metadata": {
    "collapsed": false
   },
   "outputs": [
    {
     "data": {
      "text/plain": [
       "{'_id',\n",
       " 'address_city',\n",
       " 'address_country',\n",
       " 'address_floor',\n",
       " 'address_full',\n",
       " 'address_housename',\n",
       " 'address_housenumber',\n",
       " 'address_postcode',\n",
       " 'address_street',\n",
       " 'building',\n",
       " 'contact',\n",
       " 'created_changeset',\n",
       " 'created_timestamp',\n",
       " 'created_uid',\n",
       " 'created_user',\n",
       " 'created_version',\n",
       " 'description',\n",
       " 'diet',\n",
       " 'drink',\n",
       " 'fuel',\n",
       " 'health_facility',\n",
       " 'health_specialty',\n",
       " 'id',\n",
       " 'internet_access',\n",
       " 'isced',\n",
       " 'medical_system',\n",
       " 'name',\n",
       " 'node_refs',\n",
       " 'note',\n",
       " 'operator',\n",
       " 'payment',\n",
       " 'pos',\n",
       " 'recycling',\n",
       " 'roof',\n",
       " 'socket',\n",
       " 'source',\n",
       " 'toilets',\n",
       " 'type',\n",
       " 'website',\n",
       " 'wheelchair'}"
      ]
     },
     "execution_count": 138,
     "metadata": {},
     "output_type": "execute_result"
    }
   ],
   "source": [
    "tmp_set"
   ]
  },
  {
   "cell_type": "code",
   "execution_count": 125,
   "metadata": {
    "collapsed": false
   },
   "outputs": [],
   "source": [
    "df_address = pd.DataFrame(to_df, columns = [\n",
    "        'id','street','housenumber','city','postcode','created_uid','created_user',\n",
    "        'created_version','created_timestamp','created_uid',\n",
    "    'lat','lon','type'] )"
   ]
  },
  {
   "cell_type": "code",
   "execution_count": 126,
   "metadata": {
    "collapsed": false
   },
   "outputs": [
    {
     "data": {
      "text/html": [
       "<div>\n",
       "<table border=\"1\" class=\"dataframe\">\n",
       "  <thead>\n",
       "    <tr style=\"text-align: right;\">\n",
       "      <th></th>\n",
       "      <th>id</th>\n",
       "      <th>street</th>\n",
       "      <th>housenumber</th>\n",
       "      <th>city</th>\n",
       "      <th>postcode</th>\n",
       "      <th>created_uid</th>\n",
       "      <th>created_user</th>\n",
       "      <th>created_version</th>\n",
       "      <th>created_timestamp</th>\n",
       "      <th>created_uid</th>\n",
       "      <th>lat</th>\n",
       "      <th>lon</th>\n",
       "      <th>type</th>\n",
       "    </tr>\n",
       "  </thead>\n",
       "  <tbody>\n",
       "    <tr>\n",
       "      <th>1</th>\n",
       "      <td>3137783424</td>\n",
       "      <td>Barstadskogen</td>\n",
       "      <td>1</td>\n",
       "      <td>Ask</td>\n",
       "      <td>5307</td>\n",
       "      <td>103253</td>\n",
       "      <td>gormur</td>\n",
       "      <td>1</td>\n",
       "      <td>2014-10-19T03:26:16Z</td>\n",
       "      <td>103253</td>\n",
       "      <td>60.472055</td>\n",
       "      <td>5.215871</td>\n",
       "      <td>node</td>\n",
       "    </tr>\n",
       "    <tr>\n",
       "      <th>2</th>\n",
       "      <td>3137783640</td>\n",
       "      <td>Floridavegen</td>\n",
       "      <td>1</td>\n",
       "      <td>Ask</td>\n",
       "      <td>5307</td>\n",
       "      <td>103253</td>\n",
       "      <td>gormur</td>\n",
       "      <td>1</td>\n",
       "      <td>2014-10-19T03:26:17Z</td>\n",
       "      <td>103253</td>\n",
       "      <td>60.478239</td>\n",
       "      <td>5.214275</td>\n",
       "      <td>node</td>\n",
       "    </tr>\n",
       "    <tr>\n",
       "      <th>3</th>\n",
       "      <td>3137783657</td>\n",
       "      <td>Hylenborgvegen</td>\n",
       "      <td>1</td>\n",
       "      <td>Ask</td>\n",
       "      <td>5307</td>\n",
       "      <td>103253</td>\n",
       "      <td>gormur</td>\n",
       "      <td>1</td>\n",
       "      <td>2014-10-19T03:26:18Z</td>\n",
       "      <td>103253</td>\n",
       "      <td>60.461613</td>\n",
       "      <td>5.232743</td>\n",
       "      <td>node</td>\n",
       "    </tr>\n",
       "    <tr>\n",
       "      <th>4</th>\n",
       "      <td>3137783662</td>\n",
       "      <td>Kirkevikvegen</td>\n",
       "      <td>1</td>\n",
       "      <td>Ask</td>\n",
       "      <td>5307</td>\n",
       "      <td>103253</td>\n",
       "      <td>gormur</td>\n",
       "      <td>1</td>\n",
       "      <td>2014-10-19T03:26:18Z</td>\n",
       "      <td>103253</td>\n",
       "      <td>60.485959</td>\n",
       "      <td>5.210424</td>\n",
       "      <td>node</td>\n",
       "    </tr>\n",
       "    <tr>\n",
       "      <th>5</th>\n",
       "      <td>4147095077</td>\n",
       "      <td>Signalvegen</td>\n",
       "      <td>1</td>\n",
       "      <td>Ask</td>\n",
       "      <td>5307</td>\n",
       "      <td>103253</td>\n",
       "      <td>gormur</td>\n",
       "      <td>1</td>\n",
       "      <td>2016-04-25T16:17:12Z</td>\n",
       "      <td>103253</td>\n",
       "      <td>60.497969</td>\n",
       "      <td>5.181503</td>\n",
       "      <td>node</td>\n",
       "    </tr>\n",
       "    <tr>\n",
       "      <th>6</th>\n",
       "      <td>4147095084</td>\n",
       "      <td>Hanevikvegen</td>\n",
       "      <td>10</td>\n",
       "      <td>Ask</td>\n",
       "      <td>5307</td>\n",
       "      <td>103253</td>\n",
       "      <td>gormur</td>\n",
       "      <td>1</td>\n",
       "      <td>2016-04-25T16:17:12Z</td>\n",
       "      <td>103253</td>\n",
       "      <td>60.492297</td>\n",
       "      <td>5.140319</td>\n",
       "      <td>node</td>\n",
       "    </tr>\n",
       "    <tr>\n",
       "      <th>7</th>\n",
       "      <td>3137783877</td>\n",
       "      <td>Hopshavn</td>\n",
       "      <td>10</td>\n",
       "      <td>Ask</td>\n",
       "      <td>5307</td>\n",
       "      <td>103253</td>\n",
       "      <td>gormur</td>\n",
       "      <td>1</td>\n",
       "      <td>2014-10-19T03:26:25Z</td>\n",
       "      <td>103253</td>\n",
       "      <td>60.474412</td>\n",
       "      <td>5.218128</td>\n",
       "      <td>node</td>\n",
       "    </tr>\n",
       "    <tr>\n",
       "      <th>8</th>\n",
       "      <td>3137783878</td>\n",
       "      <td>Hylenborgvegen</td>\n",
       "      <td>10</td>\n",
       "      <td>Ask</td>\n",
       "      <td>5307</td>\n",
       "      <td>103253</td>\n",
       "      <td>gormur</td>\n",
       "      <td>1</td>\n",
       "      <td>2014-10-19T03:26:25Z</td>\n",
       "      <td>103253</td>\n",
       "      <td>60.462090</td>\n",
       "      <td>5.233743</td>\n",
       "      <td>node</td>\n",
       "    </tr>\n",
       "    <tr>\n",
       "      <th>9</th>\n",
       "      <td>3137783886</td>\n",
       "      <td>Kirkevikvegen</td>\n",
       "      <td>10</td>\n",
       "      <td>Ask</td>\n",
       "      <td>5307</td>\n",
       "      <td>103253</td>\n",
       "      <td>gormur</td>\n",
       "      <td>1</td>\n",
       "      <td>2014-10-19T03:26:25Z</td>\n",
       "      <td>103253</td>\n",
       "      <td>60.486063</td>\n",
       "      <td>5.207789</td>\n",
       "      <td>node</td>\n",
       "    </tr>\n",
       "  </tbody>\n",
       "</table>\n",
       "</div>"
      ],
      "text/plain": [
       "           id          street housenumber city postcode created_uid  \\\n",
       "1  3137783424   Barstadskogen           1  Ask     5307      103253   \n",
       "2  3137783640    Floridavegen           1  Ask     5307      103253   \n",
       "3  3137783657  Hylenborgvegen           1  Ask     5307      103253   \n",
       "4  3137783662   Kirkevikvegen           1  Ask     5307      103253   \n",
       "5  4147095077     Signalvegen           1  Ask     5307      103253   \n",
       "6  4147095084    Hanevikvegen          10  Ask     5307      103253   \n",
       "7  3137783877        Hopshavn          10  Ask     5307      103253   \n",
       "8  3137783878  Hylenborgvegen          10  Ask     5307      103253   \n",
       "9  3137783886   Kirkevikvegen          10  Ask     5307      103253   \n",
       "\n",
       "  created_user created_version     created_timestamp created_uid        lat  \\\n",
       "1       gormur               1  2014-10-19T03:26:16Z      103253  60.472055   \n",
       "2       gormur               1  2014-10-19T03:26:17Z      103253  60.478239   \n",
       "3       gormur               1  2014-10-19T03:26:18Z      103253  60.461613   \n",
       "4       gormur               1  2014-10-19T03:26:18Z      103253  60.485959   \n",
       "5       gormur               1  2016-04-25T16:17:12Z      103253  60.497969   \n",
       "6       gormur               1  2016-04-25T16:17:12Z      103253  60.492297   \n",
       "7       gormur               1  2014-10-19T03:26:25Z      103253  60.474412   \n",
       "8       gormur               1  2014-10-19T03:26:25Z      103253  60.462090   \n",
       "9       gormur               1  2014-10-19T03:26:25Z      103253  60.486063   \n",
       "\n",
       "        lon  type  \n",
       "1  5.215871  node  \n",
       "2  5.214275  node  \n",
       "3  5.232743  node  \n",
       "4  5.210424  node  \n",
       "5  5.181503  node  \n",
       "6  5.140319  node  \n",
       "7  5.218128  node  \n",
       "8  5.233743  node  \n",
       "9  5.207789  node  "
      ]
     },
     "execution_count": 126,
     "metadata": {},
     "output_type": "execute_result"
    }
   ],
   "source": [
    "df_address[1:10]"
   ]
  },
  {
   "cell_type": "code",
   "execution_count": 127,
   "metadata": {
    "collapsed": false
   },
   "outputs": [
    {
     "data": {
      "text/plain": [
       "id                   84625\n",
       "street               84441\n",
       "housenumber          84375\n",
       "city                 84386\n",
       "postcode             84390\n",
       "created_uid          84625\n",
       "created_user         84625\n",
       "created_version      84625\n",
       "created_timestamp    84625\n",
       "created_uid          84625\n",
       "lat                  83998\n",
       "lon                  83998\n",
       "type                 84625\n",
       "dtype: int64"
      ]
     },
     "execution_count": 127,
     "metadata": {},
     "output_type": "execute_result"
    }
   ],
   "source": [
    "df_address.count()"
   ]
  },
  {
   "cell_type": "code",
   "execution_count": 26,
   "metadata": {
    "collapsed": false
   },
   "outputs": [
    {
     "name": "stdout",
     "output_type": "stream",
     "text": [
      "  changeset             timestamp     uid      user version\n",
      "1   6007582  2010-10-10T22:30:29Z  114230  danerikk       3\n",
      "2   6007582  2010-10-10T22:30:51Z  114230  danerikk       2\n",
      "3   6007582  2010-10-10T22:30:50Z  114230  danerikk       3\n",
      "4   6007582  2010-10-10T22:30:34Z  114230  danerikk       2\n",
      "5   6007582  2010-10-10T22:29:56Z  114230  danerikk       2\n",
      "6   6007582  2010-10-10T22:29:55Z  114230  danerikk       3\n",
      "7      1288  2005-12-27T13:49:02Z     157  JackRyan       1\n",
      "8      1288  2005-12-27T13:49:03Z     157  JackRyan       1\n",
      "9      1288  2005-12-27T13:49:04Z     157  JackRyan       1\n"
     ]
    }
   ],
   "source": [
    "values = []\n",
    "for cc in db.bergen.find():\n",
    "  values.append(cc['created'])\n",
    "\n",
    "print(pd.DataFrame(values)[1:10])"
   ]
  }
 ],
 "metadata": {
  "kernelspec": {
   "display_name": "Python [Root]",
   "language": "python",
   "name": "Python [Root]"
  },
  "language_info": {
   "codemirror_mode": {
    "name": "ipython",
    "version": 3
   },
   "file_extension": ".py",
   "mimetype": "text/x-python",
   "name": "python",
   "nbconvert_exporter": "python",
   "pygments_lexer": "ipython3",
   "version": "3.5.2"
  }
 },
 "nbformat": 4,
 "nbformat_minor": 0
}
