{
 "cells": [
  {
   "cell_type": "markdown",
   "metadata": {},
   "source": [
    "### Data Wrangling with MongoDB: OpenStreetMap Project\n",
    "*by Gisle JT Gaasemyr*"
   ]
  },
  {
   "cell_type": "markdown",
   "metadata": {},
   "source": [
    "The primary goal of this analysis is to determine the quality of OpenStreetMap address data in the Bergen, Norway region. The main focus will be on postcode accuracy and duplicate discovery. It is not within the scope of this project to correct any errors, but rather to point out discovered errors and areas which should be investigated further."
   ]
  },
  {
   "cell_type": "markdown",
   "metadata": {},
   "source": [
    "Before performing the analysis below, I cleaned the downloaded data file in preparation for mongodb import. I corrected incorrect postcodes and streetnames, using official government resources for quality control. For complete information about this process, see the notebook osm_data_wrangling.ipynb (html version: osm_data_wrangling.html)."
   ]
  },
  {
   "cell_type": "code",
   "execution_count": 1,
   "metadata": {
    "collapsed": false
   },
   "outputs": [],
   "source": [
    "#importing classes from display and pretty print modules\n",
    "from pprint import pprint\n",
    "from IPython.display import HTML\n",
    "from IPython.display import display\n",
    "#importing other necessary modules and packages\n",
    "import pandas as pd\n",
    "from collections import defaultdict\n",
    "from pymongo import MongoClient\n",
    "from operator import itemgetter\n",
    "import difflib\n",
    "from fuzzywuzzy import fuzz\n",
    "from matplotlib import pyplot as plt\n",
    "import seaborn as sns\n",
    "\n",
    "#For convenience imports are also included in individual cells where relevant"
   ]
  },
  {
   "cell_type": "code",
   "execution_count": 2,
   "metadata": {
    "collapsed": false
   },
   "outputs": [],
   "source": [
    "#Setting up MongoDB connection\n",
    "from pymongo import MongoClient\n",
    "\n",
    "client = MongoClient(\"mongodb://localhost:27017\")\n",
    "db = client.osm\n",
    "#Creating db.bergen as a variable for the sake of brevity\n",
    "bergen = db.bergen"
   ]
  },
  {
   "cell_type": "code",
   "execution_count": 3,
   "metadata": {
    "collapsed": false
   },
   "outputs": [
    {
     "data": {
      "text/html": [
       "<b>Count of documents in database:</b>"
      ],
      "text/plain": [
       "<IPython.core.display.HTML object>"
      ]
     },
     "metadata": {},
     "output_type": "display_data"
    },
    {
     "data": {
      "text/plain": [
       "681172"
      ]
     },
     "metadata": {},
     "output_type": "display_data"
    },
    {
     "data": {
      "text/html": [
       "<b>First record:</b>"
      ],
      "text/plain": [
       "<IPython.core.display.HTML object>"
      ]
     },
     "metadata": {},
     "output_type": "display_data"
    },
    {
     "name": "stdout",
     "output_type": "stream",
     "text": [
      "{'_id': ObjectId('58b9c8cc3aa9a8938e3f5d2f'),\n",
      " 'created': {'changeset': '6007582',\n",
      "             'timestamp': '2010-10-10T22:30:34Z',\n",
      "             'uid': '114230',\n",
      "             'user': 'danerikk',\n",
      "             'version': '2'},\n",
      " 'id': '358065',\n",
      " 'pos': [60.5320227, 5.2557628],\n",
      " 'type': 'node'}\n"
     ]
    }
   ],
   "source": [
    "#Getting an initial overview of the data\n",
    "display(HTML('<b>Count of documents in database:</b>'),bergen.count())\n",
    "display(HTML('<b>First record:</b>'))\n",
    "pprint(bergen.find_one())"
   ]
  },
  {
   "cell_type": "code",
   "execution_count": 4,
   "metadata": {
    "collapsed": false
   },
   "outputs": [
    {
     "data": {
      "text/plain": [
       "'address_1_address.street_1_address.housenumber_1'"
      ]
     },
     "execution_count": 4,
     "metadata": {},
     "output_type": "execute_result"
    }
   ],
   "source": [
    "#Creating indexes\n",
    "\n",
    "from pymongo import ASCENDING\n",
    "\n",
    "bergen.create_index([('address', ASCENDING),('address.street', ASCENDING),('address.housenumber', ASCENDING)])\n"
   ]
  },
  {
   "cell_type": "code",
   "execution_count": 5,
   "metadata": {
    "collapsed": false
   },
   "outputs": [
    {
     "data": {
      "text/html": [
       "<b>Number of addresses in dataset:</b>"
      ],
      "text/plain": [
       "<IPython.core.display.HTML object>"
      ]
     },
     "metadata": {},
     "output_type": "display_data"
    },
    {
     "data": {
      "text/plain": [
       "84625"
      ]
     },
     "metadata": {},
     "output_type": "display_data"
    }
   ],
   "source": [
    "#Getting count of documents with address field\n",
    "\n",
    "address_query = { 'address' : {'$exists' : True }}\n",
    "address_documents = bergen.find(address_query)\n",
    "address_count = address_documents.count()\n",
    "\n",
    "display(HTML('<b>Number of addresses in dataset:</b>'),address_count)\n"
   ]
  },
  {
   "cell_type": "code",
   "execution_count": 6,
   "metadata": {
    "collapsed": false,
    "scrolled": true
   },
   "outputs": [
    {
     "name": "stdout",
     "output_type": "stream",
     "text": [
      "total addresses in Bergen: 84625\n",
      "number of streetnames: 2231\n"
     ]
    }
   ],
   "source": [
    "#Getting counts for streetnames and addresses\n",
    "\n",
    "aggregated = bergen.aggregate([  \n",
    "        {'$match' : {'address': {'$exists' : True } } },\n",
    "        { \"$group\" : { \n",
    "                \"_id\" : \"$address.street\",\"count\" : { \"$sum\" : 1} } }\n",
    "    ])\n",
    "\n",
    "household_count = 0\n",
    "unique_street_count = 0\n",
    "addresses_on_street = {}\n",
    "\n",
    "for doc in aggregated:\n",
    "    household_count += doc['count']\n",
    "    unique_street_count += 1\n",
    "    \n",
    "    addresses_on_street[doc['_id']] = doc['count']\n",
    "\n",
    "print(\"total addresses in Bergen:\", household_count)\n",
    "print(\"number of streetnames:\", unique_street_count)"
   ]
  },
  {
   "cell_type": "markdown",
   "metadata": {},
   "source": [
    "According to January 2016 data from Statistics Norway (SSB), there are 134,328 households in Bergen. The data used by Statistics Norway is collected from the National Registry, and the data includes unit numbers for a minimum 95% of the addresses where such a number exists. The available OSM data does not contain unit numbers. Several addresses in Bergen contain multiple home units, and although the OSM data also contains non-household addresses (businesses, public institutions etc.) the number of addresses in the OSM data seems reasonable."
   ]
  },
  {
   "cell_type": "markdown",
   "metadata": {},
   "source": [
    "Next I will take a look at the streets with the most addresses on them, to see if any of the top 10 streets are surprising, and if any of the streets have a surprisingly high number of addresses."
   ]
  },
  {
   "cell_type": "code",
   "execution_count": 7,
   "metadata": {
    "collapsed": false
   },
   "outputs": [
    {
     "data": {
      "text/html": [
       "<b>Streets with most addresses on them:</b>"
      ],
      "text/plain": [
       "<IPython.core.display.HTML object>"
      ]
     },
     "metadata": {},
     "output_type": "display_data"
    },
    {
     "name": "stdout",
     "output_type": "stream",
     "text": [
      "Myrdalskogen 442\n",
      "Askvegen 397\n",
      "Søråshøgda 377\n",
      "Kringlebotn 304\n",
      "Flaktveitvegen 293\n",
      "Stongafjellsvegen 289\n",
      "Hjellestadvegen 277\n",
      "Hetlevikåsen 276\n",
      "Langarinden 273\n",
      "Nipedalen 250\n"
     ]
    }
   ],
   "source": [
    "#Taking a look at the streets with the most addresses\n",
    "\n",
    "from operator import itemgetter\n",
    "\n",
    "streetnames_sorted_dict = dict(sorted(addresses_on_street.items(), key=lambda x: x[1], reverse=True)[:10])\n",
    "streetnames_sorted_list = sorted(addresses_on_street.items(), key=lambda x: x[1], reverse=True)\n",
    "\n",
    "\n",
    "display(HTML(\"<b>Streets with most addresses on them:</b>\"))\n",
    "\n",
    "for street,count in streetnames_sorted_list[0:10]:\n",
    "    print(street,count)"
   ]
  },
  {
   "cell_type": "markdown",
   "metadata": {},
   "source": [
    "Based on my local knowledge of the area, the list above is not very surprising. None of the streets have a higher number of addresses than I expected."
   ]
  },
  {
   "cell_type": "code",
   "execution_count": 8,
   "metadata": {
    "collapsed": false
   },
   "outputs": [
    {
     "name": "stdout",
     "output_type": "stream",
     "text": [
      "Thormøhlens gate 47\n"
     ]
    }
   ],
   "source": [
    "#Ensuring corrected street names in cleaning script are in fact corrected in the database\n",
    "for street,count in streetnames_sorted_list:\n",
    "    \n",
    "    if street is None:\n",
    "        pass\n",
    "    \n",
    "    elif ('Thormøhlens' or 'Smøråshøgda 9' or 'Laguneveien 1' or 'Gate' or '.' or 'Tokanten') in street:\n",
    "        #expecting 1 result\n",
    "        print(street,count)"
   ]
  },
  {
   "cell_type": "code",
   "execution_count": 9,
   "metadata": {
    "collapsed": false
   },
   "outputs": [],
   "source": [
    "#Ensuring all postcodes starting with 'NO-' are corrected. Expecting 0 results from query.\n",
    "for doc in bergen.find( {'address.postcode': {'$regex': 'NO.*'} } ):\n",
    "    pprint(doc['address'])\n",
    "    print('----------')"
   ]
  },
  {
   "cell_type": "markdown",
   "metadata": {},
   "source": [
    "### Misspelled street names"
   ]
  },
  {
   "cell_type": "code",
   "execution_count": 10,
   "metadata": {
    "collapsed": false
   },
   "outputs": [],
   "source": [
    "#Checking for potential duplicate data due to misspelled street names\n",
    "\n",
    "import difflib\n",
    "from fuzzywuzzy import fuzz\n",
    "\n",
    "def fuzzy_streets(ratio,house_count):\n",
    "    \n",
    "    fuzzy_matches = list()\n",
    "    compare_count = 0\n",
    "    \n",
    "    for k1 in streetnames_sorted_list:\n",
    "\n",
    "        if k1[0] is None:\n",
    "            print(\"Addresses without street name:\",k1[1])\n",
    "\n",
    "        #Only comparing street names with less addresses than house_count\n",
    "        elif k1[1] <= house_count:\n",
    "            \n",
    "            compare_count += 1\n",
    "\n",
    "            for k2 in streetnames_sorted_list:\n",
    "\n",
    "                if k2[0] is None:\n",
    "                    pass\n",
    "\n",
    "                elif k2[0] == k1[0]:\n",
    "                    pass\n",
    "\n",
    "                else:                    \n",
    "                    \n",
    "                    fuzz_ratio = fuzz.ratio(k1[0],k2[0])\n",
    "                    \n",
    "                    if fuzz_ratio >= ratio:\n",
    "                        fuzzy_matches.append({k1: k2,\"fuzz ratio\": fuzz_ratio})\n",
    "\n",
    "    print(\"Number of street names compared: {0} of {1}\".format(compare_count,len(streetnames_sorted_list)))\n",
    "    \n",
    "    return fuzzy_matches"
   ]
  },
  {
   "cell_type": "code",
   "execution_count": 11,
   "metadata": {
    "collapsed": false
   },
   "outputs": [
    {
     "name": "stdout",
     "output_type": "stream",
     "text": [
      "Addresses without street name: 184\n",
      "Number of street names compared: 526 of 2231\n"
     ]
    }
   ],
   "source": [
    "#Lower than 90 fuzzy ratio gives too many false positives. Same goes for higher than 10 addresses on the street.\n",
    "potential_misspellings = fuzzy_streets(92,10)"
   ]
  },
  {
   "cell_type": "code",
   "execution_count": 12,
   "metadata": {
    "collapsed": false
   },
   "outputs": [
    {
     "data": {
      "text/html": [
       "<div>\n",
       "<table border=\"1\" class=\"dataframe\">\n",
       "  <thead>\n",
       "    <tr style=\"text-align: right;\">\n",
       "      <th></th>\n",
       "      <th>high_spelling</th>\n",
       "      <th>high_count</th>\n",
       "      <th>low_spelling</th>\n",
       "      <th>low_count</th>\n",
       "      <th>fuzz_ratio</th>\n",
       "    </tr>\n",
       "  </thead>\n",
       "  <tbody>\n",
       "    <tr>\n",
       "      <th>7</th>\n",
       "      <td>Austrevågen</td>\n",
       "      <td>21</td>\n",
       "      <td>Austevågen</td>\n",
       "      <td>5</td>\n",
       "      <td>95</td>\n",
       "    </tr>\n",
       "    <tr>\n",
       "      <th>18</th>\n",
       "      <td>Bønesskogen</td>\n",
       "      <td>222</td>\n",
       "      <td>Børnesskogen</td>\n",
       "      <td>1</td>\n",
       "      <td>96</td>\n",
       "    </tr>\n",
       "    <tr>\n",
       "      <th>13</th>\n",
       "      <td>C. Sundts gate</td>\n",
       "      <td>53</td>\n",
       "      <td>C.Sundtsgate</td>\n",
       "      <td>2</td>\n",
       "      <td>92</td>\n",
       "    </tr>\n",
       "    <tr>\n",
       "      <th>1</th>\n",
       "      <td>Dreggsallmenningen</td>\n",
       "      <td>10</td>\n",
       "      <td>Dreggsallmenning</td>\n",
       "      <td>1</td>\n",
       "      <td>94</td>\n",
       "    </tr>\n",
       "    <tr>\n",
       "      <th>19</th>\n",
       "      <td>Espelandsvegen</td>\n",
       "      <td>76</td>\n",
       "      <td>Espelandsveien</td>\n",
       "      <td>1</td>\n",
       "      <td>93</td>\n",
       "    </tr>\n",
       "    <tr>\n",
       "      <th>5</th>\n",
       "      <td>Flyplassvegen</td>\n",
       "      <td>27</td>\n",
       "      <td>Flyplassveien</td>\n",
       "      <td>7</td>\n",
       "      <td>92</td>\n",
       "    </tr>\n",
       "    <tr>\n",
       "      <th>6</th>\n",
       "      <td>Haakon Sheteligs plass</td>\n",
       "      <td>6</td>\n",
       "      <td>Haakon Shetelings plass</td>\n",
       "      <td>2</td>\n",
       "      <td>98</td>\n",
       "    </tr>\n",
       "    <tr>\n",
       "      <th>17</th>\n",
       "      <td>Hallvardsvegen</td>\n",
       "      <td>14</td>\n",
       "      <td>Halvardsvegen</td>\n",
       "      <td>1</td>\n",
       "      <td>96</td>\n",
       "    </tr>\n",
       "    <tr>\n",
       "      <th>2</th>\n",
       "      <td>Herman Foss’ gate</td>\n",
       "      <td>9</td>\n",
       "      <td>Herman Foss' gate</td>\n",
       "      <td>1</td>\n",
       "      <td>94</td>\n",
       "    </tr>\n",
       "    <tr>\n",
       "      <th>22</th>\n",
       "      <td>Lars Hilles gate</td>\n",
       "      <td>26</td>\n",
       "      <td>Lars Hillesgate</td>\n",
       "      <td>1</td>\n",
       "      <td>97</td>\n",
       "    </tr>\n",
       "    <tr>\n",
       "      <th>9</th>\n",
       "      <td>Nesttunvegen</td>\n",
       "      <td>59</td>\n",
       "      <td>Nesttunveien</td>\n",
       "      <td>3</td>\n",
       "      <td>92</td>\n",
       "    </tr>\n",
       "    <tr>\n",
       "      <th>15</th>\n",
       "      <td>Siljustølvegen</td>\n",
       "      <td>14</td>\n",
       "      <td>Siljustølveien</td>\n",
       "      <td>1</td>\n",
       "      <td>93</td>\n",
       "    </tr>\n",
       "    <tr>\n",
       "      <th>4</th>\n",
       "      <td>Solhaugvegen</td>\n",
       "      <td>22</td>\n",
       "      <td>Solhaugveien</td>\n",
       "      <td>7</td>\n",
       "      <td>92</td>\n",
       "    </tr>\n",
       "    <tr>\n",
       "      <th>20</th>\n",
       "      <td>Søråshøgda</td>\n",
       "      <td>377</td>\n",
       "      <td>Smøråshøgda</td>\n",
       "      <td>1</td>\n",
       "      <td>95</td>\n",
       "    </tr>\n",
       "    <tr>\n",
       "      <th>12</th>\n",
       "      <td>Torgallmenningen</td>\n",
       "      <td>29</td>\n",
       "      <td>Torgalmenningen</td>\n",
       "      <td>2</td>\n",
       "      <td>97</td>\n",
       "    </tr>\n",
       "    <tr>\n",
       "      <th>23</th>\n",
       "      <td>Totlandsvegen</td>\n",
       "      <td>211</td>\n",
       "      <td>Totlandsveien</td>\n",
       "      <td>1</td>\n",
       "      <td>92</td>\n",
       "    </tr>\n",
       "    <tr>\n",
       "      <th>10</th>\n",
       "      <td>Travparkvegen</td>\n",
       "      <td>3</td>\n",
       "      <td>Travparkveien</td>\n",
       "      <td>1</td>\n",
       "      <td>92</td>\n",
       "    </tr>\n",
       "    <tr>\n",
       "      <th>8</th>\n",
       "      <td>Vestre Mulelvsmauet</td>\n",
       "      <td>4</td>\n",
       "      <td>Østre Mulelvsmauet</td>\n",
       "      <td>3</td>\n",
       "      <td>92</td>\n",
       "    </tr>\n",
       "    <tr>\n",
       "      <th>16</th>\n",
       "      <td>Vestre Murallmenningen</td>\n",
       "      <td>27</td>\n",
       "      <td>Vestre murallmenningen</td>\n",
       "      <td>1</td>\n",
       "      <td>95</td>\n",
       "    </tr>\n",
       "    <tr>\n",
       "      <th>3</th>\n",
       "      <td>Vilhelm Bjerknes’ vei</td>\n",
       "      <td>111</td>\n",
       "      <td>Vilhelm Bjerknesvei</td>\n",
       "      <td>9</td>\n",
       "      <td>95</td>\n",
       "    </tr>\n",
       "  </tbody>\n",
       "</table>\n",
       "</div>"
      ],
      "text/plain": [
       "             high_spelling high_count             low_spelling low_count  \\\n",
       "7              Austrevågen         21               Austevågen         5   \n",
       "18             Bønesskogen        222             Børnesskogen         1   \n",
       "13          C. Sundts gate         53             C.Sundtsgate         2   \n",
       "1       Dreggsallmenningen         10         Dreggsallmenning         1   \n",
       "19          Espelandsvegen         76           Espelandsveien         1   \n",
       "5            Flyplassvegen         27            Flyplassveien         7   \n",
       "6   Haakon Sheteligs plass          6  Haakon Shetelings plass         2   \n",
       "17          Hallvardsvegen         14            Halvardsvegen         1   \n",
       "2        Herman Foss’ gate          9        Herman Foss' gate         1   \n",
       "22        Lars Hilles gate         26          Lars Hillesgate         1   \n",
       "9             Nesttunvegen         59             Nesttunveien         3   \n",
       "15          Siljustølvegen         14           Siljustølveien         1   \n",
       "4             Solhaugvegen         22             Solhaugveien         7   \n",
       "20              Søråshøgda        377              Smøråshøgda         1   \n",
       "12        Torgallmenningen         29          Torgalmenningen         2   \n",
       "23           Totlandsvegen        211            Totlandsveien         1   \n",
       "10           Travparkvegen          3            Travparkveien         1   \n",
       "8      Vestre Mulelvsmauet          4       Østre Mulelvsmauet         3   \n",
       "16  Vestre Murallmenningen         27   Vestre murallmenningen         1   \n",
       "3    Vilhelm Bjerknes’ vei        111      Vilhelm Bjerknesvei         9   \n",
       "\n",
       "   fuzz_ratio  \n",
       "7          95  \n",
       "18         96  \n",
       "13         92  \n",
       "1          94  \n",
       "19         93  \n",
       "5          92  \n",
       "6          98  \n",
       "17         96  \n",
       "2          94  \n",
       "22         97  \n",
       "9          92  \n",
       "15         93  \n",
       "4          92  \n",
       "20         95  \n",
       "12         97  \n",
       "23         92  \n",
       "10         92  \n",
       "8          92  \n",
       "16         95  \n",
       "3          95  "
      ]
     },
     "execution_count": 12,
     "metadata": {},
     "output_type": "execute_result"
    }
   ],
   "source": [
    "#Printing out the potential misspellings\n",
    "import pandas as pd\n",
    "\n",
    "df_potential_misspellings = pd.DataFrame(columns = [\n",
    "        'high_spelling','high_count','low_spelling','low_count','fuzz_ratio'])\n",
    "\n",
    "#Adding index to make it easier to sort out the items I need to investigate further\n",
    "count = 0\n",
    "\n",
    "for spellings in potential_misspellings:\n",
    "    count += 1\n",
    "    df_potential_misspellings.loc[count] = None\n",
    "    for key, val in spellings.items():\n",
    "        if type(key) == tuple:\n",
    "            if key[1] > val[1]:\n",
    "                df_potential_misspellings.loc[count]['high_spelling'] = key[0]\n",
    "                df_potential_misspellings.loc[count]['low_spelling'] = val[0]\n",
    "                df_potential_misspellings.loc[count]['high_count'] = key[1]\n",
    "                df_potential_misspellings.loc[count]['low_count'] = val[1]\n",
    "\n",
    "            else:\n",
    "                df_potential_misspellings.loc[count]['high_spelling'] = val[0]\n",
    "                df_potential_misspellings.loc[count]['low_spelling'] = key[0]\n",
    "                df_potential_misspellings.loc[count]['high_count'] = val[1]\n",
    "                df_potential_misspellings.loc[count]['low_count'] = key[1]\n",
    "        else:\n",
    "            df_potential_misspellings.loc[count]['fuzz_ratio'] = val\n",
    "\n",
    "df_potential_misspellings.drop_duplicates().sort_values('high_spelling',ascending=True)"
   ]
  },
  {
   "cell_type": "code",
   "execution_count": 13,
   "metadata": {
    "collapsed": false
   },
   "outputs": [],
   "source": [
    "df_misspelled_streets = df_potential_misspellings.loc[[18,13,1,19,6,17,2,22,9,15,12,23,10,16,3]]\n",
    "df_correct_spellings = df_potential_misspellings.loc[8]\n",
    "df_spellings_require_research = df_potential_misspellings.loc[[4,7,5,20]]\n",
    "\n",
    "df_misspelled_streets.to_csv('data/misspelled_streets.csv',index=False)\n",
    "df_spellings_require_research.to_csv('data/research_streets_spelling.csv',index=False)"
   ]
  },
  {
   "cell_type": "markdown",
   "metadata": {},
   "source": [
    "Above I have performed some QA on the street names from the Bergen OSM dataset. I have taken a closer look at the street names with less than 10 house numbers, and I have compared those street with the other street names to spot potential misspelled and duplicate street names. Based on lingual and local knowledge, I have sorted the potential misspelled streetnames into three categories: actual misspelled names, correctly spelled names and names which require more research."
   ]
  },
  {
   "cell_type": "markdown",
   "metadata": {},
   "source": [
    "### Duplicate addresses"
   ]
  },
  {
   "cell_type": "code",
   "execution_count": 14,
   "metadata": {
    "collapsed": false
   },
   "outputs": [
    {
     "name": "stdout",
     "output_type": "stream",
     "text": [
      "Number of potential duplicate addresses: 904\n"
     ]
    }
   ],
   "source": [
    "#Finding duplicate addresses\n",
    "\n",
    "pipeline = [\n",
    "    { '$group': { \n",
    "            '_id': { 'street': '$address.street', 'housenumber': '$address.housenumber' }, \n",
    "                'postcodes': { '$addToSet': '$address.postcode' }, \n",
    "            'count': {'$sum': 1 }\n",
    "            }\n",
    "        },\n",
    "    { '$match': {'count': {'$gt': 1} } },\n",
    "    {'$sort' : {'count' : -1} } ]\n",
    "\n",
    "duplicate_addresses = []\n",
    "\n",
    "for doc in bergen.aggregate(pipeline):\n",
    "    duplicate_addresses.append(doc)\n",
    "\n",
    "print(\"Number of potential duplicate addresses:\", len(duplicate_addresses))"
   ]
  },
  {
   "cell_type": "code",
   "execution_count": 15,
   "metadata": {
    "collapsed": false
   },
   "outputs": [
    {
     "data": {
      "text/html": [
       "<div>\n",
       "<table border=\"1\" class=\"dataframe\">\n",
       "  <thead>\n",
       "    <tr style=\"text-align: right;\">\n",
       "      <th></th>\n",
       "      <th>street</th>\n",
       "      <th>housenumber</th>\n",
       "      <th>count</th>\n",
       "      <th>postcodes</th>\n",
       "    </tr>\n",
       "  </thead>\n",
       "  <tbody>\n",
       "    <tr>\n",
       "      <th>0</th>\n",
       "      <td>NaN</td>\n",
       "      <td>NaN</td>\n",
       "      <td>596731</td>\n",
       "      <td>[5021, 5835, 5281, 5116, 5918]</td>\n",
       "    </tr>\n",
       "    <tr>\n",
       "      <th>1</th>\n",
       "      <td>Kanalveien</td>\n",
       "      <td>66</td>\n",
       "      <td>13</td>\n",
       "      <td>[5068]</td>\n",
       "    </tr>\n",
       "    <tr>\n",
       "      <th>2</th>\n",
       "      <td>Lyngmarka</td>\n",
       "      <td>NaN</td>\n",
       "      <td>12</td>\n",
       "      <td>[5302]</td>\n",
       "    </tr>\n",
       "    <tr>\n",
       "      <th>3</th>\n",
       "      <td>Valkendorfsgaten</td>\n",
       "      <td>6</td>\n",
       "      <td>12</td>\n",
       "      <td>[5012]</td>\n",
       "    </tr>\n",
       "    <tr>\n",
       "      <th>4</th>\n",
       "      <td>Kalfarveien</td>\n",
       "      <td>37</td>\n",
       "      <td>11</td>\n",
       "      <td>[5022]</td>\n",
       "    </tr>\n",
       "    <tr>\n",
       "      <th>5</th>\n",
       "      <td>Kanalveien</td>\n",
       "      <td>64</td>\n",
       "      <td>10</td>\n",
       "      <td>[5068]</td>\n",
       "    </tr>\n",
       "    <tr>\n",
       "      <th>6</th>\n",
       "      <td>Sandslihaugen</td>\n",
       "      <td>10</td>\n",
       "      <td>10</td>\n",
       "      <td>[5254]</td>\n",
       "    </tr>\n",
       "  </tbody>\n",
       "</table>\n",
       "</div>"
      ],
      "text/plain": [
       "             street housenumber   count                       postcodes\n",
       "0               NaN         NaN  596731  [5021, 5835, 5281, 5116, 5918]\n",
       "1        Kanalveien          66      13                          [5068]\n",
       "2         Lyngmarka         NaN      12                          [5302]\n",
       "3  Valkendorfsgaten           6      12                          [5012]\n",
       "4       Kalfarveien          37      11                          [5022]\n",
       "5        Kanalveien          64      10                          [5068]\n",
       "6     Sandslihaugen          10      10                          [5254]"
      ]
     },
     "execution_count": 15,
     "metadata": {},
     "output_type": "execute_result"
    }
   ],
   "source": [
    "#Converting result of duplicate address query to Pandas dataframe for easier view\n",
    "\n",
    "from pandas.io.json import json_normalize\n",
    "\n",
    "df_duplicate_addresses = json_normalize(duplicate_addresses)\n",
    "\n",
    "#Changing column names\n",
    "df_duplicate_addresses.rename(columns={'_id.housenumber': 'housenumber','_id.street':'street'},inplace=True)\n",
    "#Changing column order\n",
    "df_duplicate_addresses = df_duplicate_addresses[['street', 'housenumber', 'count', 'postcodes']]\n",
    "\n",
    "df_duplicate_addresses.head(7)"
   ]
  },
  {
   "cell_type": "code",
   "execution_count": 16,
   "metadata": {
    "collapsed": false
   },
   "outputs": [
    {
     "name": "stdout",
     "output_type": "stream",
     "text": [
      "Number of duplicate addresses with different postcodes: 251\n",
      "Duplicate addresses where all the duplicates have unique postcodes: 241\n"
     ]
    },
    {
     "data": {
      "text/html": [
       "<div>\n",
       "<table border=\"1\" class=\"dataframe\">\n",
       "  <thead>\n",
       "    <tr style=\"text-align: right;\">\n",
       "      <th></th>\n",
       "      <th>street</th>\n",
       "      <th>housenumber</th>\n",
       "      <th>count</th>\n",
       "      <th>postcodes</th>\n",
       "      <th>postcode_count</th>\n",
       "    </tr>\n",
       "  </thead>\n",
       "  <tbody>\n",
       "    <tr>\n",
       "      <th>0</th>\n",
       "      <td>NaN</td>\n",
       "      <td>NaN</td>\n",
       "      <td>596731</td>\n",
       "      <td>[5021, 5835, 5281, 5116, 5918]</td>\n",
       "      <td>5</td>\n",
       "    </tr>\n",
       "    <tr>\n",
       "      <th>137</th>\n",
       "      <td>Liavegen</td>\n",
       "      <td>17</td>\n",
       "      <td>3</td>\n",
       "      <td>[5307, 5132, 5378]</td>\n",
       "      <td>3</td>\n",
       "    </tr>\n",
       "    <tr>\n",
       "      <th>39</th>\n",
       "      <td>Liavegen</td>\n",
       "      <td>10</td>\n",
       "      <td>4</td>\n",
       "      <td>[5307, 5132, 5378]</td>\n",
       "      <td>3</td>\n",
       "    </tr>\n",
       "    <tr>\n",
       "      <th>84</th>\n",
       "      <td>Haugane</td>\n",
       "      <td>4</td>\n",
       "      <td>3</td>\n",
       "      <td>[5307, 5212, 5360]</td>\n",
       "      <td>3</td>\n",
       "    </tr>\n",
       "    <tr>\n",
       "      <th>136</th>\n",
       "      <td>Liavegen</td>\n",
       "      <td>12</td>\n",
       "      <td>3</td>\n",
       "      <td>[5307, 5132, 5378]</td>\n",
       "      <td>3</td>\n",
       "    </tr>\n",
       "    <tr>\n",
       "      <th>666</th>\n",
       "      <td>Lynghaugen</td>\n",
       "      <td>4</td>\n",
       "      <td>2</td>\n",
       "      <td>[5038, 5350]</td>\n",
       "      <td>2</td>\n",
       "    </tr>\n",
       "    <tr>\n",
       "      <th>662</th>\n",
       "      <td>Liavegen</td>\n",
       "      <td>4</td>\n",
       "      <td>2</td>\n",
       "      <td>[5307, 5378]</td>\n",
       "      <td>2</td>\n",
       "    </tr>\n",
       "  </tbody>\n",
       "</table>\n",
       "</div>"
      ],
      "text/plain": [
       "         street housenumber   count                       postcodes  \\\n",
       "0           NaN         NaN  596731  [5021, 5835, 5281, 5116, 5918]   \n",
       "137    Liavegen          17       3              [5307, 5132, 5378]   \n",
       "39     Liavegen          10       4              [5307, 5132, 5378]   \n",
       "84      Haugane           4       3              [5307, 5212, 5360]   \n",
       "136    Liavegen          12       3              [5307, 5132, 5378]   \n",
       "666  Lynghaugen           4       2                    [5038, 5350]   \n",
       "662    Liavegen           4       2                    [5307, 5378]   \n",
       "\n",
       "     postcode_count  \n",
       "0                 5  \n",
       "137               3  \n",
       "39                3  \n",
       "84                3  \n",
       "136               3  \n",
       "666               2  \n",
       "662               2  "
      ]
     },
     "execution_count": 16,
     "metadata": {},
     "output_type": "execute_result"
    }
   ],
   "source": [
    "#Getting some information about duplicate addresses with different postcodes\n",
    "\n",
    "df_different_postcodes = df_duplicate_addresses[df_duplicate_addresses['postcodes'].apply(lambda x: len(x) > 1)]\n",
    "\n",
    "# Adding column for count of postcodes for the address\n",
    "df_different_postcodes = df_different_postcodes.assign(postcode_count=df_different_postcodes['postcodes'].str.len())\n",
    "\n",
    "print('Number of duplicate addresses with different postcodes:',len(df_different_postcodes) )\n",
    "print('Duplicate addresses where all the duplicates have unique postcodes:',len(\n",
    "    df_different_postcodes[df_different_postcodes['count'] == df_different_postcodes['postcode_count']]))\n",
    "\n",
    "df_different_postcodes.sort_values('postcode_count', ascending=False).head(7)"
   ]
  },
  {
   "cell_type": "markdown",
   "metadata": {},
   "source": [
    "241 of the 904 potential duplicate addresses are likely not true duplicates, as they have unique postcodes for the address."
   ]
  },
  {
   "cell_type": "code",
   "execution_count": 17,
   "metadata": {
    "collapsed": false
   },
   "outputs": [],
   "source": [
    "#Function for printing individual address search results\n",
    "\n",
    "def search_one_address(street, housenumber):\n",
    "        \n",
    "    query = { 'address.street': street, 'address.housenumber': {'$in': [str(housenumber),housenumber ] } }\n",
    "        \n",
    "    for doc in bergen.find(query):\n",
    "        pprint(doc)"
   ]
  },
  {
   "cell_type": "code",
   "execution_count": 18,
   "metadata": {
    "collapsed": false
   },
   "outputs": [
    {
     "name": "stdout",
     "output_type": "stream",
     "text": [
      "{'_id': ObjectId('58b9c8d83aa9a8938e488195'),\n",
      " 'address': {'city': 'Bergen',\n",
      "             'housenumber': '66',\n",
      "             'postcode': '5068',\n",
      "             'street': 'Kanalveien'},\n",
      " 'created': {'changeset': '40278280',\n",
      "             'timestamp': '2016-06-25T09:11:13Z',\n",
      "             'uid': '1965308',\n",
      "             'user': 'FredrikLindseth',\n",
      "             'version': '1'},\n",
      " 'id': '4264196717',\n",
      " 'pos': [60.3621861, 5.3469652],\n",
      " 'type': 'node'}\n",
      "{'_id': ObjectId('58b9c8d83aa9a8938e488196'),\n",
      " 'address': {'city': 'Bergen',\n",
      "             'housenumber': '66',\n",
      "             'postcode': '5068',\n",
      "             'street': 'Kanalveien'},\n",
      " 'created': {'changeset': '40278280',\n",
      "             'timestamp': '2016-06-25T09:11:13Z',\n",
      "             'uid': '1965308',\n",
      "             'user': 'FredrikLindseth',\n",
      "             'version': '1'},\n",
      " 'id': '4264196718',\n",
      " 'pos': [60.3620529, 5.3469736],\n",
      " 'type': 'node'}\n",
      "{'_id': ObjectId('58b9c8d83aa9a8938e488198'),\n",
      " 'address': {'city': 'Bergen',\n",
      "             'housenumber': '66',\n",
      "             'postcode': '5068',\n",
      "             'street': 'Kanalveien'},\n",
      " 'created': {'changeset': '40278280',\n",
      "             'timestamp': '2016-06-25T09:11:13Z',\n",
      "             'uid': '1965308',\n",
      "             'user': 'FredrikLindseth',\n",
      "             'version': '1'},\n",
      " 'id': '4264196720',\n",
      " 'pos': [60.3622241, 5.3469629],\n",
      " 'type': 'node'}\n",
      "{'_id': ObjectId('58b9c8d83aa9a8938e488199'),\n",
      " 'address': {'city': 'Bergen',\n",
      "             'housenumber': '66',\n",
      "             'postcode': '5068',\n",
      "             'street': 'Kanalveien'},\n",
      " 'created': {'changeset': '40278280',\n",
      "             'timestamp': '2016-06-25T09:11:13Z',\n",
      "             'uid': '1965308',\n",
      "             'user': 'FredrikLindseth',\n",
      "             'version': '1'},\n",
      " 'id': '4264196721',\n",
      " 'pos': [60.362129, 5.3469688],\n",
      " 'type': 'node'}\n",
      "{'_id': ObjectId('58b9c8d83aa9a8938e48819b'),\n",
      " 'address': {'city': 'Bergen',\n",
      "             'housenumber': '66',\n",
      "             'postcode': '5068',\n",
      "             'street': 'Kanalveien'},\n",
      " 'created': {'changeset': '40278280',\n",
      "             'timestamp': '2016-06-25T09:11:14Z',\n",
      "             'uid': '1965308',\n",
      "             'user': 'FredrikLindseth',\n",
      "             'version': '1'},\n",
      " 'id': '4264196723',\n",
      " 'pos': [60.3622432, 5.3469617],\n",
      " 'type': 'node'}\n",
      "{'_id': ObjectId('58b9c8d83aa9a8938e48819d'),\n",
      " 'address': {'city': 'Bergen',\n",
      "             'housenumber': '66',\n",
      "             'postcode': '5068',\n",
      "             'street': 'Kanalveien'},\n",
      " 'created': {'changeset': '40278280',\n",
      "             'timestamp': '2016-06-25T09:11:14Z',\n",
      "             'uid': '1965308',\n",
      "             'user': 'FredrikLindseth',\n",
      "             'version': '1'},\n",
      " 'id': '4264196725',\n",
      " 'pos': [60.36211, 5.34697],\n",
      " 'type': 'node'}\n",
      "{'_id': ObjectId('58b9c8d83aa9a8938e4881a1'),\n",
      " 'address': {'city': 'Bergen',\n",
      "             'housenumber': '66',\n",
      "             'postcode': '5068',\n",
      "             'street': 'Kanalveien'},\n",
      " 'created': {'changeset': '40278280',\n",
      "             'timestamp': '2016-06-25T09:11:14Z',\n",
      "             'uid': '1965308',\n",
      "             'user': 'FredrikLindseth',\n",
      "             'version': '1'},\n",
      " 'id': '4264196729',\n",
      " 'pos': [60.3620909, 5.3469712],\n",
      " 'type': 'node'}\n",
      "{'_id': ObjectId('58b9c8d83aa9a8938e4881a4'),\n",
      " 'address': {'city': 'Bergen',\n",
      "             'housenumber': '66',\n",
      "             'postcode': '5068',\n",
      "             'street': 'Kanalveien'},\n",
      " 'created': {'changeset': '40278280',\n",
      "             'timestamp': '2016-06-25T09:11:15Z',\n",
      "             'uid': '1965308',\n",
      "             'user': 'FredrikLindseth',\n",
      "             'version': '1'},\n",
      " 'id': '4264196732',\n",
      " 'pos': [60.362148, 5.3469676],\n",
      " 'type': 'node'}\n",
      "{'_id': ObjectId('58b9c8d83aa9a8938e4881a6'),\n",
      " 'address': {'city': 'Bergen',\n",
      "             'housenumber': '66',\n",
      "             'postcode': '5068',\n",
      "             'street': 'Kanalveien'},\n",
      " 'created': {'changeset': '40278280',\n",
      "             'timestamp': '2016-06-25T09:11:15Z',\n",
      "             'uid': '1965308',\n",
      "             'user': 'FredrikLindseth',\n",
      "             'version': '1'},\n",
      " 'id': '4264196734',\n",
      " 'pos': [60.3620719, 5.3469724],\n",
      " 'type': 'node'}\n",
      "{'_id': ObjectId('58b9c8d83aa9a8938e4881a7'),\n",
      " 'address': {'city': 'Bergen',\n",
      "             'housenumber': '66',\n",
      "             'postcode': '5068',\n",
      "             'street': 'Kanalveien'},\n",
      " 'created': {'changeset': '40278280',\n",
      "             'timestamp': '2016-06-25T09:11:15Z',\n",
      "             'uid': '1965308',\n",
      "             'user': 'FredrikLindseth',\n",
      "             'version': '1'},\n",
      " 'id': '4264196735',\n",
      " 'pos': [60.3622051, 5.3469641],\n",
      " 'type': 'node'}\n",
      "{'_id': ObjectId('58b9c8d83aa9a8938e4881a9'),\n",
      " 'address': {'city': 'Bergen',\n",
      "             'housenumber': '66',\n",
      "             'postcode': '5068',\n",
      "             'street': 'Kanalveien'},\n",
      " 'created': {'changeset': '40278280',\n",
      "             'timestamp': '2016-06-25T09:11:15Z',\n",
      "             'uid': '1965308',\n",
      "             'user': 'FredrikLindseth',\n",
      "             'version': '1'},\n",
      " 'id': '4264196737',\n",
      " 'pos': [60.362167, 5.3469664],\n",
      " 'type': 'node'}\n",
      "{'_id': ObjectId('58b9c8d83aa9a8938e4881af'),\n",
      " 'address': {'city': 'Bergen',\n",
      "             'housenumber': '66',\n",
      "             'postcode': '5068',\n",
      "             'street': 'Kanalveien'},\n",
      " 'created': {'changeset': '40278280',\n",
      "             'timestamp': '2016-06-25T09:11:16Z',\n",
      "             'uid': '1965308',\n",
      "             'user': 'FredrikLindseth',\n",
      "             'version': '1'},\n",
      " 'id': '4264196743',\n",
      " 'pos': [60.3622622, 5.3469605],\n",
      " 'type': 'node'}\n",
      "{'_id': ObjectId('58b9c8da3aa9a8938e49b711'),\n",
      " 'address': {'city': 'Bergen',\n",
      "             'housenumber': '66',\n",
      "             'postcode': '5068',\n",
      "             'street': 'Kanalveien'},\n",
      " 'created': {'changeset': '40278280',\n",
      "             'timestamp': '2016-06-25T09:11:22Z',\n",
      "             'uid': '1965308',\n",
      "             'user': 'FredrikLindseth',\n",
      "             'version': '1'},\n",
      " 'id': '427177702',\n",
      " 'node_refs': ['4264197042',\n",
      "               '4264197043',\n",
      "               '4264197020',\n",
      "               '4264197027',\n",
      "               '4264197029',\n",
      "               '4264197030',\n",
      "               '4264197033',\n",
      "               '4264197040',\n",
      "               '4264197044',\n",
      "               '4264197045',\n",
      "               '4264197042'],\n",
      " 'type': 'way'}\n"
     ]
    }
   ],
   "source": [
    "#Looking at all documents with the top duplicate address\n",
    "search_one_address('Kanalveien','66')"
   ]
  },
  {
   "cell_type": "code",
   "execution_count": 19,
   "metadata": {
    "collapsed": false
   },
   "outputs": [
    {
     "data": {
      "text/plain": [
       "{'_id': ObjectId('58b9c8d83aa9a8938e488269'),\n",
       " 'created': {'changeset': '40278280',\n",
       "  'timestamp': '2016-06-25T09:11:20Z',\n",
       "  'uid': '1965308',\n",
       "  'user': 'FredrikLindseth',\n",
       "  'version': '1'},\n",
       " 'id': '4264197029',\n",
       " 'pos': [60.3620325, 5.3469011],\n",
       " 'type': 'node'}"
      ]
     },
     "execution_count": 19,
     "metadata": {},
     "output_type": "execute_result"
    }
   ],
   "source": [
    "#Looking at one of the nodes\n",
    "\n",
    "bergen.find_one({'id': '4264197029'})"
   ]
  },
  {
   "cell_type": "markdown",
   "metadata": {},
   "source": [
    "<img src=\"data/kanalveien_66_duplicates.png\" align=\"right\" width=\"250\">\n",
    "\n",
    "Looking up the address with the most duplicates (13), Kanalveien 66, on the OpenStreetMap.org website, it becomes apparent that at least part of the reason for the many duplicates is that there are multiple business located at that address, and each business seems to have gotten its own address. \n",
    "\n",
    "According to the [OSM wiki](http://wiki.openstreetmap.org/wiki/Addresses#How_to_map_addresses), the policy on duplicate addresses is unclear in such cases: \"However, there is still some debate on that point (see for example Address information in POI *and* building? on help.openstreetmap.org). Also, the community in some countries has established their own rules.\""
   ]
  },
  {
   "cell_type": "code",
   "execution_count": 20,
   "metadata": {
    "collapsed": false
   },
   "outputs": [],
   "source": [
    "#Function for checking individual addresses for duplicates\n",
    "\n",
    "def duplicate_count(street,housenumber, return_list=False):\n",
    "    display((HTML('<em>{0} {1}</em>'.format(street,housenumber) ) ) )\n",
    "    query = { 'address.street': street, 'address.housenumber': {'$in': [str(housenumber),housenumber ] } }\n",
    "    \n",
    "    count = -1\n",
    "    re_list = list()\n",
    "    postcodes = defaultdict(int)\n",
    "    \n",
    "    for doc in bergen.find(query):\n",
    "        count += 1\n",
    "        postcodes[doc['address']['postcode']] += 1\n",
    "        if return_list:\n",
    "            re_list.append(doc)\n",
    "    \n",
    "    if count == -1:\n",
    "        print(\"Address not found.\")\n",
    "    else:\n",
    "        print(\"Duplicate records:\", count)\n",
    "        print(\"Postcodes:\",dict(postcodes))\n",
    "        if return_list:\n",
    "            return re_list"
   ]
  },
  {
   "cell_type": "code",
   "execution_count": 21,
   "metadata": {
    "collapsed": false
   },
   "outputs": [
    {
     "data": {
      "text/html": [
       "<em>Laguneveien 1</em>"
      ],
      "text/plain": [
       "<IPython.core.display.HTML object>"
      ]
     },
     "metadata": {},
     "output_type": "display_data"
    },
    {
     "name": "stdout",
     "output_type": "stream",
     "text": [
      "Duplicate records: 4\n",
      "Postcodes: {'5235': 1, '5239': 4}\n"
     ]
    },
    {
     "data": {
      "text/html": [
       "<em>Smøråshøgda 9</em>"
      ],
      "text/plain": [
       "<IPython.core.display.HTML object>"
      ]
     },
     "metadata": {},
     "output_type": "display_data"
    },
    {
     "name": "stdout",
     "output_type": "stream",
     "text": [
      "Duplicate records: 0\n",
      "Postcodes: {'5235': 1}\n"
     ]
    },
    {
     "data": {
      "text/html": [
       "<em>Steinsvikvegen 430</em>"
      ],
      "text/plain": [
       "<IPython.core.display.HTML object>"
      ]
     },
     "metadata": {},
     "output_type": "display_data"
    },
    {
     "name": "stdout",
     "output_type": "stream",
     "text": [
      "Duplicate records: 0\n",
      "Postcodes: {'5239': 1}\n"
     ]
    },
    {
     "data": {
      "text/html": [
       "<em>Vilhelm Bjerknesvei 4-10</em>"
      ],
      "text/plain": [
       "<IPython.core.display.HTML object>"
      ]
     },
     "metadata": {},
     "output_type": "display_data"
    },
    {
     "name": "stdout",
     "output_type": "stream",
     "text": [
      "Duplicate records: 6\n",
      "Postcodes: {'5081': 7}\n"
     ]
    },
    {
     "data": {
      "text/html": [
       "<em>Vilhelm Bjerknesvei 4</em>"
      ],
      "text/plain": [
       "<IPython.core.display.HTML object>"
      ]
     },
     "metadata": {},
     "output_type": "display_data"
    },
    {
     "name": "stdout",
     "output_type": "stream",
     "text": [
      "Address not found.\n"
     ]
    },
    {
     "data": {
      "text/html": [
       "<em>Vilhelm Bjerknesvei 5</em>"
      ],
      "text/plain": [
       "<IPython.core.display.HTML object>"
      ]
     },
     "metadata": {},
     "output_type": "display_data"
    },
    {
     "name": "stdout",
     "output_type": "stream",
     "text": [
      "Address not found.\n"
     ]
    },
    {
     "data": {
      "text/html": [
       "<em>Vilhelm Bjerknesvei 6</em>"
      ],
      "text/plain": [
       "<IPython.core.display.HTML object>"
      ]
     },
     "metadata": {},
     "output_type": "display_data"
    },
    {
     "name": "stdout",
     "output_type": "stream",
     "text": [
      "Address not found.\n"
     ]
    },
    {
     "data": {
      "text/html": [
       "<em>Vilhelm Bjerknesvei 7</em>"
      ],
      "text/plain": [
       "<IPython.core.display.HTML object>"
      ]
     },
     "metadata": {},
     "output_type": "display_data"
    },
    {
     "name": "stdout",
     "output_type": "stream",
     "text": [
      "Address not found.\n"
     ]
    },
    {
     "data": {
      "text/html": [
       "<em>Vilhelm Bjerknesvei 8</em>"
      ],
      "text/plain": [
       "<IPython.core.display.HTML object>"
      ]
     },
     "metadata": {},
     "output_type": "display_data"
    },
    {
     "name": "stdout",
     "output_type": "stream",
     "text": [
      "Address not found.\n"
     ]
    },
    {
     "data": {
      "text/html": [
       "<em>Vilhelm Bjerknesvei 9</em>"
      ],
      "text/plain": [
       "<IPython.core.display.HTML object>"
      ]
     },
     "metadata": {},
     "output_type": "display_data"
    },
    {
     "name": "stdout",
     "output_type": "stream",
     "text": [
      "Address not found.\n"
     ]
    },
    {
     "data": {
      "text/html": [
       "<em>Vilhelm Bjerknesvei 10</em>"
      ],
      "text/plain": [
       "<IPython.core.display.HTML object>"
      ]
     },
     "metadata": {},
     "output_type": "display_data"
    },
    {
     "name": "stdout",
     "output_type": "stream",
     "text": [
      "Address not found.\n"
     ]
    }
   ],
   "source": [
    "'''\n",
    "Checking for duplicates among the cleaned addresses which had housenumber \\\n",
    "as part of the address name in the pre-cleaned file. \n",
    "'''\n",
    "duplicate_count('Laguneveien',1)\n",
    "duplicate_count('Smøråshøgda',9)\n",
    "duplicate_count('Steinsvikvegen',430)\n",
    "\n",
    "#For Vilhelm Bjerknesvei checking both individual addresses and range housenumber\n",
    "duplicate_count('Vilhelm Bjerknesvei','4-10')\n",
    "for i in range(4,11):\n",
    "    duplicate_count('Vilhelm Bjerknesvei',i)"
   ]
  },
  {
   "cell_type": "markdown",
   "metadata": {},
   "source": [
    "There are seven documents with address Vilhelm Bjerknesvei 4-10, and no documents for the individual addresses in the 4-10 range (e.g. Vilhelm Bernesvei 7). While this is a data error, the documents with address Vilhelm Bjerknesvei 4-10 are probably not true duplicates."
   ]
  },
  {
   "cell_type": "markdown",
   "metadata": {},
   "source": [
    "I will take a closer look at the duplicate Laguneveien 1 documents."
   ]
  },
  {
   "cell_type": "code",
   "execution_count": 22,
   "metadata": {
    "collapsed": false
   },
   "outputs": [
    {
     "name": "stdout",
     "output_type": "stream",
     "text": [
      "{'_id': ObjectId('58b9c8ce3aa9a8938e410ead'),\n",
      " 'address': {'city': 'Rådal',\n",
      "             'housenumber': 1,\n",
      "             'postcode': '5235',\n",
      "             'street': 'Laguneveien'},\n",
      " 'created': {'changeset': '39294271',\n",
      "             'timestamp': '2016-05-13T14:59:10Z',\n",
      "             'uid': '1965308',\n",
      "             'user': 'FredrikLindseth',\n",
      "             'version': '6'},\n",
      " 'id': '1652908136',\n",
      " 'pos': [60.2962144, 5.3301382],\n",
      " 'type': 'node'}\n",
      "{'_id': ObjectId('58b9c8cf3aa9a8938e41d318'),\n",
      " 'address': {'city': 'Rådal',\n",
      "             'housenumber': '1',\n",
      "             'postcode': '5239',\n",
      "             'street': 'Laguneveien'},\n",
      " 'created': {'changeset': '26026343',\n",
      "             'timestamp': '2014-10-12T14:10:49Z',\n",
      "             'uid': '103253',\n",
      "             'user': 'gormur',\n",
      "             'version': '1'},\n",
      " 'id': '3125931672',\n",
      " 'pos': [60.2968652, 5.3311546],\n",
      " 'type': 'node'}\n",
      "{'_id': ObjectId('58b9c8d63aa9a8938e469084'),\n",
      " 'address': {'city': 'Rådal',\n",
      "             'floor': '1',\n",
      "             'housenumber': '1',\n",
      "             'postcode': '5239',\n",
      "             'street': 'Laguneveien'},\n",
      " 'contact': {'facebook': 'https://www.facebook.com/arnasomogstrikkas'},\n",
      " 'created': {'changeset': '36459796',\n",
      "             'timestamp': '2016-01-09T09:12:57Z',\n",
      "             'uid': '1965308',\n",
      "             'user': 'FredrikLindseth',\n",
      "             'version': '1'},\n",
      " 'id': '3935489347',\n",
      " 'pos': [60.2968112, 5.3317375],\n",
      " 'type': 'node'}\n",
      "{'_id': ObjectId('58b9c8d83aa9a8938e484a42'),\n",
      " 'address': {'city': 'Rådal',\n",
      "             'housenumber': '1',\n",
      "             'postcode': '5239',\n",
      "             'street': 'Laguneveien'},\n",
      " 'created': {'changeset': '39294271',\n",
      "             'timestamp': '2016-05-13T14:58:29Z',\n",
      "             'uid': '1965308',\n",
      "             'user': 'FredrikLindseth',\n",
      "             'version': '1'},\n",
      " 'id': '4183728796',\n",
      " 'pos': [60.2961383, 5.3304506],\n",
      " 'type': 'node'}\n",
      "{'_id': ObjectId('58b9c8d93aa9a8938e490b8f'),\n",
      " 'address': {'city': 'Rådal',\n",
      "             'housenumber': 1,\n",
      "             'postcode': '5239',\n",
      "             'street': 'Laguneveien'},\n",
      " 'created': {'changeset': '29734356',\n",
      "             'timestamp': '2015-03-25T18:31:16Z',\n",
      "             'uid': '170061',\n",
      "             'user': 'frokor',\n",
      "             'version': '10'},\n",
      " 'id': '27124386',\n",
      " 'node_refs': ['297595267',\n",
      "               '3400479104',\n",
      "               '297595268',\n",
      "               '297595290',\n",
      "               '297595289',\n",
      "               '297595288',\n",
      "               '297595287',\n",
      "               '297595269',\n",
      "               '3400478963',\n",
      "               '3400478964',\n",
      "               '3400478962',\n",
      "               '297595285',\n",
      "               '3398583851',\n",
      "               '3398583850',\n",
      "               '297595286',\n",
      "               '3417936946',\n",
      "               '3417936950',\n",
      "               '3417936961',\n",
      "               '3417936974',\n",
      "               '3417936977',\n",
      "               '3417936979',\n",
      "               '297595349',\n",
      "               '3417936986',\n",
      "               '3417936987',\n",
      "               '2319279407',\n",
      "               '2319279409',\n",
      "               '297595267'],\n",
      " 'type': 'way'}\n"
     ]
    }
   ],
   "source": [
    "#Searching for duplicates of Laguneveien 1\n",
    "\n",
    "search_one_address('Laguneveien',1)"
   ]
  },
  {
   "cell_type": "code",
   "execution_count": 23,
   "metadata": {
    "collapsed": false
   },
   "outputs": [
    {
     "name": "stdout",
     "output_type": "stream",
     "text": [
      "{'_id': '5239', 'count': 19}\n",
      "{'_id': '5235', 'count': 1}\n"
     ]
    }
   ],
   "source": [
    "pipeline = [\n",
    "    { '$match': { 'address.street': 'Laguneveien' } },\n",
    "    { '$group': { \n",
    "            '_id': '$address.postcode', 'count' : {'$sum': 1 } \n",
    "        } \n",
    "    },\n",
    "    {'$sort' : {'count' : -1} }\n",
    "    \n",
    "]\n",
    "\n",
    "for doc in bergen.aggregate(pipeline):\n",
    "    pprint(doc)"
   ]
  },
  {
   "cell_type": "code",
   "execution_count": 24,
   "metadata": {
    "collapsed": false
   },
   "outputs": [
    {
     "name": "stdout",
     "output_type": "stream",
     "text": [
      "{'_id': ObjectId('58b9c8ce3aa9a8938e410ead'),\n",
      " 'address': {'city': 'Rådal',\n",
      "             'housenumber': 1,\n",
      "             'postcode': '5235',\n",
      "             'street': 'Laguneveien'},\n",
      " 'created': {'changeset': '39294271',\n",
      "             'timestamp': '2016-05-13T14:59:10Z',\n",
      "             'uid': '1965308',\n",
      "             'user': 'FredrikLindseth',\n",
      "             'version': '6'},\n",
      " 'id': '1652908136',\n",
      " 'pos': [60.2962144, 5.3301382],\n",
      " 'type': 'node'}\n"
     ]
    }
   ],
   "source": [
    "query = { 'address.street': 'Laguneveien', 'address.postcode': '5235', 'address.housenumber': 1 }\n",
    "\n",
    "for doc in bergen.find(query):\n",
    "    pprint(doc)"
   ]
  },
  {
   "cell_type": "markdown",
   "metadata": {},
   "source": [
    "According to The Norwegian Mapping Authority, the correct postal code for Laguneveien is 5239. The 5235 document is incorrect."
   ]
  },
  {
   "cell_type": "markdown",
   "metadata": {},
   "source": [
    "### Contributors"
   ]
  },
  {
   "cell_type": "code",
   "execution_count": 25,
   "metadata": {
    "collapsed": false
   },
   "outputs": [
    {
     "name": "stdout",
     "output_type": "stream",
     "text": [
      "Total user count: 399\n",
      "Average contributions per user: 1707.2\n",
      "Median contributions per user: 11\n",
      "Mode of contribution count: 76 contributors (19.05%) submitted 1 edit.\n"
     ]
    }
   ],
   "source": [
    "from collections import defaultdict\n",
    "\n",
    "user_count_query = bergen.aggregate( [\n",
    "   {\n",
    "     '$group': {\n",
    "        '_id' : { 'uid': '$created.uid', 'username': '$created.user' }\n",
    "           }\n",
    "        },\n",
    "   {\n",
    "     '$group': {\n",
    "        '_id': 'null',\n",
    "        'count': { '$sum': 1 }\n",
    "     }\n",
    "   }\n",
    "] )\n",
    "\n",
    "for doc in user_count_query:\n",
    "    user_count = doc['count']\n",
    "\n",
    "average_contributions = bergen.aggregate( [\n",
    "   {\n",
    "          '$group': \n",
    "            {\n",
    "                '_id' : \n",
    "                { 'uid': '$created.uid', 'username': '$created.user' },\n",
    "                'count': { '$sum': 1 } \n",
    "            } \n",
    "    },\n",
    "    { \n",
    "            '$group': \n",
    "            {\n",
    "                '_id': 'null',\n",
    "                'avg': { '$avg': '$count' } \n",
    "            }\n",
    "    }\n",
    "] )\n",
    "\n",
    "for doc in average_contributions:\n",
    "    user_average = round(doc['avg'],2)\n",
    "    \n",
    "grouped_users = list(bergen.aggregate([  \n",
    "        { \n",
    "            \"$group\" : \n",
    "            { \n",
    "                \"_id\" : { \"uid\": \"$created.uid\", \"username\": \"$created.user\" },\n",
    "                \"count\" : { \"$sum\" : 1} \n",
    "            } \n",
    "        },\n",
    "        { \"$sort\" : { \"count\" : 1 } }\n",
    "        ]))\n",
    "\n",
    "user_no = 0\n",
    "halfway = round(user_count / 2)\n",
    "mode_dict = defaultdict(int)\n",
    "\n",
    "for doc in grouped_users:\n",
    "        user_no += 1\n",
    "        val = doc['count']\n",
    "        if user_no == halfway:\n",
    "            user_median = val\n",
    "        \n",
    "        mode_dict[val] += 1\n",
    "\n",
    "\n",
    "        \n",
    "user_mode = max(mode_dict.items(), key=lambda a: a[1])\n",
    "mode_percentage = round((user_mode[1] / user_count) * 100,2)\n",
    "            \n",
    "print(\"Total user count:\",user_count)\n",
    "print(\"Average contributions per user:\",user_average)\n",
    "print(\"Median contributions per user:\",user_median)\n",
    "print(\"Mode of contribution count: {0} contributors ({1}%) submitted {2} edit.\".format(\n",
    "    user_mode[1],mode_percentage,user_mode[0] ) )\n",
    "\n"
   ]
  },
  {
   "cell_type": "markdown",
   "metadata": {},
   "source": [
    "Based on the difference between the median and the average I suspect that the OSM comunity has a few heavy contributors working on the Bergen data. To further investigate this, I will plot the data."
   ]
  },
  {
   "cell_type": "code",
   "execution_count": 26,
   "metadata": {
    "collapsed": false
   },
   "outputs": [
    {
     "data": {
      "text/html": [
       "<div>\n",
       "<table border=\"1\" class=\"dataframe\">\n",
       "  <thead>\n",
       "    <tr style=\"text-align: right;\">\n",
       "      <th></th>\n",
       "      <th>contributions</th>\n",
       "      <th>count</th>\n",
       "      <th>bracket</th>\n",
       "    </tr>\n",
       "  </thead>\n",
       "  <tbody>\n",
       "    <tr>\n",
       "      <th>1</th>\n",
       "      <td>1</td>\n",
       "      <td>76</td>\n",
       "      <td>1 to 10</td>\n",
       "    </tr>\n",
       "    <tr>\n",
       "      <th>2</th>\n",
       "      <td>2</td>\n",
       "      <td>30</td>\n",
       "      <td>1 to 10</td>\n",
       "    </tr>\n",
       "    <tr>\n",
       "      <th>3</th>\n",
       "      <td>3</td>\n",
       "      <td>23</td>\n",
       "      <td>1 to 10</td>\n",
       "    </tr>\n",
       "  </tbody>\n",
       "</table>\n",
       "</div>"
      ],
      "text/plain": [
       "   contributions  count  bracket\n",
       "1              1     76  1 to 10\n",
       "2              2     30  1 to 10\n",
       "3              3     23  1 to 10"
      ]
     },
     "metadata": {},
     "output_type": "display_data"
    },
    {
     "data": {
      "text/html": [
       "<div>\n",
       "<table border=\"1\" class=\"dataframe\">\n",
       "  <thead>\n",
       "    <tr style=\"text-align: right;\">\n",
       "      <th></th>\n",
       "      <th>contributions</th>\n",
       "      <th>count</th>\n",
       "      <th>bracket</th>\n",
       "    </tr>\n",
       "  </thead>\n",
       "  <tbody>\n",
       "    <tr>\n",
       "      <th>80243</th>\n",
       "      <td>80243</td>\n",
       "      <td>1</td>\n",
       "      <td>50K to 100K</td>\n",
       "    </tr>\n",
       "    <tr>\n",
       "      <th>133655</th>\n",
       "      <td>133655</td>\n",
       "      <td>1</td>\n",
       "      <td>100K to 150K</td>\n",
       "    </tr>\n",
       "    <tr>\n",
       "      <th>140794</th>\n",
       "      <td>140794</td>\n",
       "      <td>1</td>\n",
       "      <td>100K to 150K</td>\n",
       "    </tr>\n",
       "  </tbody>\n",
       "</table>\n",
       "</div>"
      ],
      "text/plain": [
       "        contributions  count       bracket\n",
       "80243           80243      1   50K to 100K\n",
       "133655         133655      1  100K to 150K\n",
       "140794         140794      1  100K to 150K"
      ]
     },
     "metadata": {},
     "output_type": "display_data"
    }
   ],
   "source": [
    "#Creating dataframe and bins for bar chart\n",
    "\n",
    "df_mode_dict = pd.DataFrame(pd.Series(mode_dict),columns=['count'])\n",
    "df_mode_dict['contributions'] = df_mode_dict.index\n",
    "df_mode_dict = df_mode_dict[['contributions','count']]\n",
    "\n",
    "#Creating bins of various lengths\n",
    "bins = list(range(0,100,10) ) + \\\n",
    "list(range(100,1000,100) ) + list(range(1000,10000,5000) ) + \\\n",
    "list(range(10000,50000,20000) ) + list(range(50000,151000,50000) )\n",
    "\n",
    "#Generating labels for the bins\n",
    "bracket_names = list()\n",
    "for item in bins:\n",
    "    if item != bins[-1]:\n",
    "#         if item < 10:\n",
    "#             bracket_names.append(str(item+1)) \n",
    "#         else:\n",
    "        start = item + 1\n",
    "        next = bins[bins.index(item) + 1]\n",
    "        if start > 1000:\n",
    "            start = str(start)[:-3] + 'K'\n",
    "            next = str(next)[:-3] + 'K'\n",
    "        bracket_names.append('{0} to {1}'.format(start,next))\n",
    "\n",
    "#Assigning the bins to dataframe\n",
    "categories = pd.Series(pd.cut(df_mode_dict['contributions'], bins ,\n",
    "                              labels=bracket_names, include_lowest=True ) )\n",
    "df_mode_dict['bracket'] = categories\n",
    "\n",
    "display(df_mode_dict.head(3))\n",
    "display(df_mode_dict.tail(3))"
   ]
  },
  {
   "cell_type": "code",
   "execution_count": 27,
   "metadata": {
    "collapsed": false
   },
   "outputs": [
    {
     "data": {
      "image/png": "[encoded data removed]",
      "text/plain": [
       "<matplotlib.figure.Figure at 0x11b234eb8>"
      ]
     },
     "metadata": {},
     "output_type": "display_data"
    }
   ],
   "source": [
    "from matplotlib import pyplot as plt\n",
    "import seaborn as sns\n",
    "%matplotlib inline\n",
    "\n",
    "for_plot = df_mode_dict.groupby('bracket')['count'].agg('sum')\n",
    "\n",
    "fig = plt.figure(figsize=(10,4))\n",
    "ax = plt.subplot(1,1,1)\n",
    "\n",
    "#all passengers plot\n",
    "rects = for_plot.plot(kind='bar',ax=ax,color='g')\n",
    "ax.set_title('Contributions per user',fontsize='large',fontweight='bold')\n",
    "ax.set_xlabel('Number of contributions (uneven bin sizes)',fontsize='medium')\n",
    "ax.set_ylabel('User count',fontsize='medium')\n",
    "ax.set_xticklabels(for_plot.index.values,rotation='70',fontsize='small')\n",
    "\n",
    "plt.show()"
   ]
  },
  {
   "cell_type": "code",
   "execution_count": 28,
   "metadata": {
    "collapsed": false
   },
   "outputs": [],
   "source": [
    "total_contributions = 0\n",
    "\n",
    "for doc in grouped_users:\n",
    "    try:\n",
    "        total_contributions += int(doc['count'])\n",
    "    except TypeError:\n",
    "        pprint(doc)\n",
    "    \n"
   ]
  },
  {
   "cell_type": "code",
   "execution_count": 29,
   "metadata": {
    "collapsed": false,
    "scrolled": true
   },
   "outputs": [
    {
     "name": "stdout",
     "output_type": "stream",
     "text": [
      "{'_id': {'uid': '2114448', 'username': 'FredrikLindseth_import'}, 'count': 140794}\n",
      "{'_id': {'uid': '2836853', 'username': 'frokor_import'}, 'count': 133655}\n",
      "{'_id': {'uid': '103253', 'username': 'gormur'}, 'count': 80243}\n",
      "{'_id': {'uid': '992708', 'username': 'Christian Madsen'}, 'count': 39789}\n",
      "{'_id': {'uid': '722193', 'username': 'daviesp12'}, 'count': 36440}\n",
      "{'_id': {'uid': '170061', 'username': 'frokor'}, 'count': 31427}\n",
      "{'_id': {'uid': '1965308', 'username': 'FredrikLindseth'}, 'count': 29969}\n",
      "{'_id': {'uid': '715936', 'username': 'Gazer75'}, 'count': 22168}\n",
      "{'_id': {'uid': '3119148', 'username': 'cmeeren_import'}, 'count': 19287}\n",
      "{'_id': {'uid': '8313', 'username': 'gisle'}, 'count': 16081}\n",
      "----\n",
      "Total contributors: 681172\n",
      "Total contributions by top 10 contributors: 549853, 80.72%\n"
     ]
    }
   ],
   "source": [
    "# Looking at top 10 contributors\n",
    "\n",
    "top_users = list(bergen.aggregate([  \n",
    "        { \"$group\" : { \n",
    "                \"_id\" : { \"uid\": \"$created.uid\", \"username\": \"$created.user\" },\"count\" : { \"$sum\" : 1} } },\n",
    "        { \"$sort\" : { \"count\" : -1 } },\n",
    "         { \"$limit\" : 10 }\n",
    "#         { \"$project\" : { \"_id\": 0, \"user\": \"$created.user\" } } \n",
    "    ]))\n",
    "\n",
    "for doc in top_users:\n",
    "    print(doc)\n",
    "    \n",
    "#Calculating total user contributions for comparison\n",
    "total_contributions = 0\n",
    "for doc in grouped_users:\n",
    "    try:\n",
    "        total_contributions += int(doc['count'])\n",
    "    except TypeError:\n",
    "        pprint('TYPE ERROR:',doc['count'])\n",
    "print('----')\n",
    "print('Total contributors:',total_contributions)\n",
    "\n",
    "total_top_10 = 0\n",
    "for doc in top_users:\n",
    "    total_top_10 += doc['count']\n",
    "\n",
    "top_10_percentage = round((total_top_10/total_contributions)*100,2)\n",
    "\n",
    "print('Total contributions by top 10 contributors: {0}, {1}%'.format(total_top_10,top_10_percentage))"
   ]
  },
  {
   "cell_type": "markdown",
   "metadata": {},
   "source": [
    "We see here that the large majority of contributions are made by a tiny portion (2.5%) of the contributing users. It seems like a lot of the contributions are automated in some way, as 4 of the top 10 usernames end in \"\\_import\". Any potential contribution patterns these few users have is likely to heavily impact the Bergen OSM data."
   ]
  },
  {
   "cell_type": "markdown",
   "metadata": {},
   "source": [
    "According to the address page of the OSM wiki, in mid-2014 all Norwegian official addresses were released to the public. Efforts are being made by OSM volunteers to include the released data in OSM, and the progress is being tracked using a tool called [Beebeetle](http://osm.beebeetle.com/addrnodeimportstatus.php). As of March 4, 2017, the Bergen import is listed as 99.83% complete. 1 known address duplicate is listed on the site."
   ]
  },
  {
   "cell_type": "markdown",
   "metadata": {},
   "source": [
    "### Final Thoughts\n",
    "\n",
    "There are 184 address documents without street names in the dataset. Further investigation into those documments is recommended. \n",
    "\n",
    "To address the duplicate issue in detail, I suggest following up by looking at the individual duplicate addresses. You could for example start by looking at the three streets with the most individual duplicate addresses to see if there are any useful patterns to be found. Since a few users are very heavy contributors to the Bergen OSM data, it might also be worth searching for user patterns regarding the duplicate addresses.\n",
    "\n",
    "I would also recommend correcting the misspelled street names, which are stored in data/misspelled_streets.csv, and conduct online research for the street names in data/research_streets_spelling.csv."
   ]
  }
 ],
 "metadata": {
  "anaconda-cloud": {},
  "kernelspec": {
   "display_name": "Python 3",
   "language": "python",
   "name": "python3"
  },
  "language_info": {
   "codemirror_mode": {
    "name": "ipython",
    "version": 3
   },
   "file_extension": ".py",
   "mimetype": "text/x-python",
   "name": "python",
   "nbconvert_exporter": "python",
   "pygments_lexer": "ipython3",
   "version": "3.6.0"
  }
 },
 "nbformat": 4,
 "nbformat_minor": 0
}
