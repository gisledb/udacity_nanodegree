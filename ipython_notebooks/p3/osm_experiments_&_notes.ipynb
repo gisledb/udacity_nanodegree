{
 "cells": [
  {
   "cell_type": "markdown",
   "metadata": {},
   "source": [
    "The purpose of this file is to perform experiments and keep notes. I prefer to do it this way to keep the other files cleaner and minimize necessary cleanup work later."
   ]
  },
  {
   "cell_type": "code",
   "execution_count": 5,
   "metadata": {
    "collapsed": true
   },
   "outputs": [],
   "source": [
    "import pandas as pd\n",
    "from pymongo import MongoClient\n",
    "\n",
    "client = MongoClient()\n",
    "db = client.osm\n",
    "bergen = db.bergen\n",
    "\n",
    "# df = pd.DataFrame(list(db.bergen.find()))"
   ]
  },
  {
   "cell_type": "code",
   "execution_count": 6,
   "metadata": {
    "collapsed": false
   },
   "outputs": [],
   "source": [
    "feature_list = list(db.bergen.find())"
   ]
  },
  {
   "cell_type": "code",
   "execution_count": 7,
   "metadata": {
    "collapsed": false
   },
   "outputs": [
    {
     "data": {
      "text/plain": [
       "[{'_id': ObjectId('58b9c8cc3aa9a8938e3f6118'),\n",
       "  'created': {'changeset': '34180559',\n",
       "   'timestamp': '2015-09-22T11:02:06Z',\n",
       "   'uid': '3252623',\n",
       "   'user': 'Alex_K_B',\n",
       "   'version': '8'},\n",
       "  'id': '674462',\n",
       "  'pos': [60.3924968, 5.3184896],\n",
       "  'type': 'node'}]"
      ]
     },
     "execution_count": 7,
     "metadata": {},
     "output_type": "execute_result"
    }
   ],
   "source": [
    "feature_list[1000:1001]"
   ]
  },
  {
   "cell_type": "code",
   "execution_count": 9,
   "metadata": {
    "collapsed": false
   },
   "outputs": [
    {
     "ename": "NameError",
     "evalue": "name 'df' is not defined",
     "output_type": "error",
     "traceback": [
      "\u001b[0;31m---------------------------------------------------------------------------\u001b[0m",
      "\u001b[0;31mNameError\u001b[0m                                 Traceback (most recent call last)",
      "\u001b[0;32m<ipython-input-9-0c6dd7450b9e>\u001b[0m in \u001b[0;36m<module>\u001b[0;34m()\u001b[0m\n\u001b[0;32m----> 1\u001b[0;31m \u001b[0mdf\u001b[0m\u001b[0;34m[\u001b[0m\u001b[0;34m'created'\u001b[0m\u001b[0;34m]\u001b[0m\u001b[0;34m[\u001b[0m\u001b[0;36m1\u001b[0m\u001b[0;34m:\u001b[0m\u001b[0;36m10\u001b[0m\u001b[0;34m]\u001b[0m\u001b[0;34m\u001b[0m\u001b[0m\n\u001b[0m",
      "\u001b[0;31mNameError\u001b[0m: name 'df' is not defined"
     ]
    }
   ],
   "source": [
    "df['created'][1:10]"
   ]
  },
  {
   "cell_type": "code",
   "execution_count": 10,
   "metadata": {
    "collapsed": false
   },
   "outputs": [
    {
     "ename": "NameError",
     "evalue": "name 'df' is not defined",
     "output_type": "error",
     "traceback": [
      "\u001b[0;31m---------------------------------------------------------------------------\u001b[0m",
      "\u001b[0;31mNameError\u001b[0m                                 Traceback (most recent call last)",
      "\u001b[0;32m<ipython-input-10-8eccbd1182a0>\u001b[0m in \u001b[0;36m<module>\u001b[0;34m()\u001b[0m\n\u001b[0;32m----> 1\u001b[0;31m \u001b[0mdf\u001b[0m\u001b[0;34m[\u001b[0m\u001b[0;34m'address'\u001b[0m\u001b[0;34m]\u001b[0m\u001b[0;34m[\u001b[0m\u001b[0;36m1\u001b[0m\u001b[0;34m:\u001b[0m\u001b[0;36m10\u001b[0m\u001b[0;34m]\u001b[0m\u001b[0;34m\u001b[0m\u001b[0m\n\u001b[0m",
      "\u001b[0;31mNameError\u001b[0m: name 'df' is not defined"
     ]
    }
   ],
   "source": [
    "df['address'][1:10]"
   ]
  },
  {
   "cell_type": "code",
   "execution_count": 12,
   "metadata": {
    "collapsed": false
   },
   "outputs": [
    {
     "data": {
      "text/plain": [
       "84625"
      ]
     },
     "execution_count": 12,
     "metadata": {},
     "output_type": "execute_result"
    }
   ],
   "source": [
    "from IPython.display import display\n",
    "from IPython.display import HTML\n",
    "\n",
    "#Getting count of documents with address field\n",
    "\n",
    "address_query = { 'address' : {'$exists' : True } }\n",
    "address_documents = db.bergen.find(address_query)\n",
    "address_count = address_documents.count()\n",
    "\n",
    "address_count"
   ]
  },
  {
   "cell_type": "code",
   "execution_count": 13,
   "metadata": {
    "collapsed": false
   },
   "outputs": [],
   "source": [
    "address_documents = db.bergen.find(address_query)#, { \n",
    "#         'address.street': 1,'address.housenumber': 1,'address.postcode': 1,'address.city': 1\n",
    "#     }\n",
    "#                                   )"
   ]
  },
  {
   "cell_type": "code",
   "execution_count": 14,
   "metadata": {
    "collapsed": true
   },
   "outputs": [],
   "source": [
    "tmp_list = list(address_documents)"
   ]
  },
  {
   "cell_type": "code",
   "execution_count": 15,
   "metadata": {
    "collapsed": false
   },
   "outputs": [
    {
     "data": {
      "text/plain": [
       "84625"
      ]
     },
     "execution_count": 15,
     "metadata": {},
     "output_type": "execute_result"
    }
   ],
   "source": [
    "len(tmp_list)"
   ]
  },
  {
   "cell_type": "code",
   "execution_count": 16,
   "metadata": {
    "collapsed": false
   },
   "outputs": [
    {
     "data": {
      "text/plain": [
       "{'_id': ObjectId('58b9c8d13aa9a8938e42e6b5'),\n",
       " 'address': {'city': 'Ask',\n",
       "  'housenumber': '14',\n",
       "  'postcode': '5307',\n",
       "  'street': 'Alléen'},\n",
       " 'created': {'changeset': '26184573',\n",
       "  'timestamp': '2014-10-19T03:27:36Z',\n",
       "  'uid': '103253',\n",
       "  'user': 'gormur',\n",
       "  'version': '1'},\n",
       " 'id': '3137785479',\n",
       " 'pos': [60.4722042, 5.2151076],\n",
       " 'type': 'node'}"
      ]
     },
     "execution_count": 16,
     "metadata": {},
     "output_type": "execute_result"
    }
   ],
   "source": [
    "tmp_list[1]"
   ]
  },
  {
   "cell_type": "code",
   "execution_count": 17,
   "metadata": {
    "collapsed": true
   },
   "outputs": [],
   "source": [
    "from pprint import pprint"
   ]
  },
  {
   "cell_type": "code",
   "execution_count": 18,
   "metadata": {
    "collapsed": false
   },
   "outputs": [],
   "source": [
    "\n",
    "\n",
    "to_df = list()\n",
    "# columns = ['street','housenumber','postcode','city']\n",
    "count = 0 \n",
    "\n",
    "for doc in tmp_list:\n",
    "    record = { 'id': doc['id'], 'type': doc['type'] }\n",
    "    \n",
    "    for key,val in doc['address'].items():\n",
    "        record[key] = val\n",
    "        \n",
    "    for key,val in doc['created'].items():\n",
    "        record['created_' + key] = val\n",
    "    \n",
    "    if 'pos' in doc.keys():\n",
    "        record['lat'] = doc['pos'][0]\n",
    "        record['lon'] = doc['pos'][1]\n",
    "    \n",
    "    to_df.append(record)"
   ]
  },
  {
   "cell_type": "code",
   "execution_count": 19,
   "metadata": {
    "collapsed": false
   },
   "outputs": [],
   "source": [
    "\n",
    "tmp_set = set()\n",
    "\n",
    "for doc in tmp_list:\n",
    "    \n",
    "    for k,v in doc.items():\n",
    "        \n",
    "        if k in ('address','created'):\n",
    "            for key,val in v.items():\n",
    "                tmp_set.add(k+'_'+key)\n",
    "        else:\n",
    "            tmp_set.add(k)\n",
    "    "
   ]
  },
  {
   "cell_type": "code",
   "execution_count": 20,
   "metadata": {
    "collapsed": false
   },
   "outputs": [
    {
     "data": {
      "text/plain": [
       "{'_id',\n",
       " 'address_city',\n",
       " 'address_country',\n",
       " 'address_floor',\n",
       " 'address_full',\n",
       " 'address_housename',\n",
       " 'address_housenumber',\n",
       " 'address_postcode',\n",
       " 'address_street',\n",
       " 'building',\n",
       " 'contact',\n",
       " 'created_changeset',\n",
       " 'created_timestamp',\n",
       " 'created_uid',\n",
       " 'created_user',\n",
       " 'created_version',\n",
       " 'description',\n",
       " 'diet',\n",
       " 'drink',\n",
       " 'fuel',\n",
       " 'health_facility',\n",
       " 'health_specialty',\n",
       " 'id',\n",
       " 'internet_access',\n",
       " 'isced',\n",
       " 'medical_system',\n",
       " 'name',\n",
       " 'node_refs',\n",
       " 'note',\n",
       " 'operator',\n",
       " 'payment',\n",
       " 'pos',\n",
       " 'recycling',\n",
       " 'roof',\n",
       " 'socket',\n",
       " 'source',\n",
       " 'toilets',\n",
       " 'type',\n",
       " 'website',\n",
       " 'wheelchair'}"
      ]
     },
     "execution_count": 20,
     "metadata": {},
     "output_type": "execute_result"
    }
   ],
   "source": [
    "tmp_set"
   ]
  },
  {
   "cell_type": "code",
   "execution_count": 21,
   "metadata": {
    "collapsed": false
   },
   "outputs": [],
   "source": [
    "df_address = pd.DataFrame(to_df, columns = [\n",
    "        'id','street','housenumber','city','postcode','created_uid','created_user',\n",
    "        'created_version','created_timestamp','created_uid',\n",
    "    'lat','lon','type'] )"
   ]
  },
  {
   "cell_type": "code",
   "execution_count": 22,
   "metadata": {
    "collapsed": false
   },
   "outputs": [
    {
     "data": {
      "text/html": [
       "<div>\n",
       "<table border=\"1\" class=\"dataframe\">\n",
       "  <thead>\n",
       "    <tr style=\"text-align: right;\">\n",
       "      <th></th>\n",
       "      <th>id</th>\n",
       "      <th>street</th>\n",
       "      <th>housenumber</th>\n",
       "      <th>city</th>\n",
       "      <th>postcode</th>\n",
       "      <th>created_uid</th>\n",
       "      <th>created_user</th>\n",
       "      <th>created_version</th>\n",
       "      <th>created_timestamp</th>\n",
       "      <th>created_uid</th>\n",
       "      <th>lat</th>\n",
       "      <th>lon</th>\n",
       "      <th>type</th>\n",
       "    </tr>\n",
       "  </thead>\n",
       "  <tbody>\n",
       "    <tr>\n",
       "      <th>1</th>\n",
       "      <td>3137785479</td>\n",
       "      <td>Alléen</td>\n",
       "      <td>14</td>\n",
       "      <td>Ask</td>\n",
       "      <td>5307</td>\n",
       "      <td>103253</td>\n",
       "      <td>gormur</td>\n",
       "      <td>1</td>\n",
       "      <td>2014-10-19T03:27:36Z</td>\n",
       "      <td>103253</td>\n",
       "      <td>60.472204</td>\n",
       "      <td>5.215108</td>\n",
       "      <td>node</td>\n",
       "    </tr>\n",
       "    <tr>\n",
       "      <th>2</th>\n",
       "      <td>3137785745</td>\n",
       "      <td>Alléen</td>\n",
       "      <td>15</td>\n",
       "      <td>Ask</td>\n",
       "      <td>5307</td>\n",
       "      <td>103253</td>\n",
       "      <td>gormur</td>\n",
       "      <td>1</td>\n",
       "      <td>2014-10-19T03:27:52Z</td>\n",
       "      <td>103253</td>\n",
       "      <td>60.472915</td>\n",
       "      <td>5.214824</td>\n",
       "      <td>node</td>\n",
       "    </tr>\n",
       "    <tr>\n",
       "      <th>3</th>\n",
       "      <td>3137785986</td>\n",
       "      <td>Alléen</td>\n",
       "      <td>16</td>\n",
       "      <td>Ask</td>\n",
       "      <td>5307</td>\n",
       "      <td>103253</td>\n",
       "      <td>gormur</td>\n",
       "      <td>1</td>\n",
       "      <td>2014-10-19T03:28:06Z</td>\n",
       "      <td>103253</td>\n",
       "      <td>60.472478</td>\n",
       "      <td>5.214310</td>\n",
       "      <td>node</td>\n",
       "    </tr>\n",
       "    <tr>\n",
       "      <th>4</th>\n",
       "      <td>3137786308</td>\n",
       "      <td>Alléen</td>\n",
       "      <td>17</td>\n",
       "      <td>Ask</td>\n",
       "      <td>5307</td>\n",
       "      <td>103253</td>\n",
       "      <td>gormur</td>\n",
       "      <td>1</td>\n",
       "      <td>2014-10-19T03:28:19Z</td>\n",
       "      <td>103253</td>\n",
       "      <td>60.472849</td>\n",
       "      <td>5.213429</td>\n",
       "      <td>node</td>\n",
       "    </tr>\n",
       "    <tr>\n",
       "      <th>5</th>\n",
       "      <td>3137783419</td>\n",
       "      <td>Askehavn</td>\n",
       "      <td>1</td>\n",
       "      <td>Ask</td>\n",
       "      <td>5307</td>\n",
       "      <td>103253</td>\n",
       "      <td>gormur</td>\n",
       "      <td>1</td>\n",
       "      <td>2014-10-19T03:26:16Z</td>\n",
       "      <td>103253</td>\n",
       "      <td>60.479432</td>\n",
       "      <td>5.214483</td>\n",
       "      <td>node</td>\n",
       "    </tr>\n",
       "    <tr>\n",
       "      <th>6</th>\n",
       "      <td>3137784381</td>\n",
       "      <td>Askehavn</td>\n",
       "      <td>11</td>\n",
       "      <td>Ask</td>\n",
       "      <td>5307</td>\n",
       "      <td>103253</td>\n",
       "      <td>gormur</td>\n",
       "      <td>1</td>\n",
       "      <td>2014-10-19T03:26:42Z</td>\n",
       "      <td>103253</td>\n",
       "      <td>60.479185</td>\n",
       "      <td>5.216010</td>\n",
       "      <td>node</td>\n",
       "    </tr>\n",
       "    <tr>\n",
       "      <th>7</th>\n",
       "      <td>3137785127</td>\n",
       "      <td>Askehavn</td>\n",
       "      <td>13</td>\n",
       "      <td>Ask</td>\n",
       "      <td>5307</td>\n",
       "      <td>103253</td>\n",
       "      <td>gormur</td>\n",
       "      <td>1</td>\n",
       "      <td>2014-10-19T03:27:18Z</td>\n",
       "      <td>103253</td>\n",
       "      <td>60.479242</td>\n",
       "      <td>5.216137</td>\n",
       "      <td>node</td>\n",
       "    </tr>\n",
       "    <tr>\n",
       "      <th>8</th>\n",
       "      <td>3137785747</td>\n",
       "      <td>Askehavn</td>\n",
       "      <td>15</td>\n",
       "      <td>Ask</td>\n",
       "      <td>5307</td>\n",
       "      <td>103253</td>\n",
       "      <td>gormur</td>\n",
       "      <td>1</td>\n",
       "      <td>2014-10-19T03:27:52Z</td>\n",
       "      <td>103253</td>\n",
       "      <td>60.479303</td>\n",
       "      <td>5.216265</td>\n",
       "      <td>node</td>\n",
       "    </tr>\n",
       "    <tr>\n",
       "      <th>9</th>\n",
       "      <td>3137786310</td>\n",
       "      <td>Askehavn</td>\n",
       "      <td>17</td>\n",
       "      <td>Ask</td>\n",
       "      <td>5307</td>\n",
       "      <td>103253</td>\n",
       "      <td>gormur</td>\n",
       "      <td>1</td>\n",
       "      <td>2014-10-19T03:28:19Z</td>\n",
       "      <td>103253</td>\n",
       "      <td>60.479506</td>\n",
       "      <td>5.216458</td>\n",
       "      <td>node</td>\n",
       "    </tr>\n",
       "  </tbody>\n",
       "</table>\n",
       "</div>"
      ],
      "text/plain": [
       "           id    street housenumber city postcode created_uid created_user  \\\n",
       "1  3137785479    Alléen          14  Ask     5307      103253       gormur   \n",
       "2  3137785745    Alléen          15  Ask     5307      103253       gormur   \n",
       "3  3137785986    Alléen          16  Ask     5307      103253       gormur   \n",
       "4  3137786308    Alléen          17  Ask     5307      103253       gormur   \n",
       "5  3137783419  Askehavn           1  Ask     5307      103253       gormur   \n",
       "6  3137784381  Askehavn          11  Ask     5307      103253       gormur   \n",
       "7  3137785127  Askehavn          13  Ask     5307      103253       gormur   \n",
       "8  3137785747  Askehavn          15  Ask     5307      103253       gormur   \n",
       "9  3137786310  Askehavn          17  Ask     5307      103253       gormur   \n",
       "\n",
       "  created_version     created_timestamp created_uid        lat       lon  type  \n",
       "1               1  2014-10-19T03:27:36Z      103253  60.472204  5.215108  node  \n",
       "2               1  2014-10-19T03:27:52Z      103253  60.472915  5.214824  node  \n",
       "3               1  2014-10-19T03:28:06Z      103253  60.472478  5.214310  node  \n",
       "4               1  2014-10-19T03:28:19Z      103253  60.472849  5.213429  node  \n",
       "5               1  2014-10-19T03:26:16Z      103253  60.479432  5.214483  node  \n",
       "6               1  2014-10-19T03:26:42Z      103253  60.479185  5.216010  node  \n",
       "7               1  2014-10-19T03:27:18Z      103253  60.479242  5.216137  node  \n",
       "8               1  2014-10-19T03:27:52Z      103253  60.479303  5.216265  node  \n",
       "9               1  2014-10-19T03:28:19Z      103253  60.479506  5.216458  node  "
      ]
     },
     "execution_count": 22,
     "metadata": {},
     "output_type": "execute_result"
    }
   ],
   "source": [
    "df_address[1:10]"
   ]
  },
  {
   "cell_type": "code",
   "execution_count": 23,
   "metadata": {
    "collapsed": false
   },
   "outputs": [
    {
     "data": {
      "text/plain": [
       "id                   84625\n",
       "street               84441\n",
       "housenumber          84377\n",
       "city                 84386\n",
       "postcode             84390\n",
       "created_uid          84625\n",
       "created_user         84625\n",
       "created_version      84625\n",
       "created_timestamp    84625\n",
       "created_uid          84625\n",
       "lat                  83998\n",
       "lon                  83998\n",
       "type                 84625\n",
       "dtype: int64"
      ]
     },
     "execution_count": 23,
     "metadata": {},
     "output_type": "execute_result"
    }
   ],
   "source": [
    "df_address.count()"
   ]
  },
  {
   "cell_type": "code",
   "execution_count": 24,
   "metadata": {
    "collapsed": false
   },
   "outputs": [
    {
     "name": "stdout",
     "output_type": "stream",
     "text": [
      "  changeset             timestamp     uid      user version\n",
      "1   6007582  2010-10-10T22:30:31Z  114230  danerikk       2\n",
      "2   6007582  2010-10-10T22:30:50Z  114230  danerikk       3\n",
      "3   6007582  2010-10-10T22:29:55Z  114230  danerikk       3\n",
      "4   6007582  2010-10-10T22:30:29Z  114230  danerikk       3\n",
      "5   6007582  2010-10-10T22:29:54Z  114230  danerikk       2\n",
      "6   6007582  2010-10-10T22:30:51Z  114230  danerikk       2\n",
      "7   6007582  2010-10-10T22:30:31Z  114230  danerikk       2\n",
      "8   6007582  2010-10-10T22:30:34Z  114230  danerikk       2\n",
      "9   6007582  2010-10-10T22:29:56Z  114230  danerikk       2\n"
     ]
    }
   ],
   "source": [
    "values = []\n",
    "for cc in db.bergen.find():\n",
    "  values.append(cc['created'])\n",
    "\n",
    "print(pd.DataFrame(values)[1:10])"
   ]
  },
  {
   "cell_type": "code",
   "execution_count": 25,
   "metadata": {
    "collapsed": false
   },
   "outputs": [
    {
     "data": {
      "text/html": [
       "<div>\n",
       "<table border=\"1\" class=\"dataframe\">\n",
       "  <thead>\n",
       "    <tr style=\"text-align: right;\">\n",
       "      <th></th>\n",
       "      <th>postal_code</th>\n",
       "      <th>postal_place</th>\n",
       "      <th>muni_number</th>\n",
       "      <th>muni_name</th>\n",
       "      <th>category</th>\n",
       "    </tr>\n",
       "  </thead>\n",
       "  <tbody>\n",
       "    <tr>\n",
       "      <th>0</th>\n",
       "      <td>0010</td>\n",
       "      <td>OSLO</td>\n",
       "      <td>301</td>\n",
       "      <td>OSLO</td>\n",
       "      <td>B</td>\n",
       "    </tr>\n",
       "    <tr>\n",
       "      <th>1</th>\n",
       "      <td>0015</td>\n",
       "      <td>OSLO</td>\n",
       "      <td>301</td>\n",
       "      <td>OSLO</td>\n",
       "      <td>B</td>\n",
       "    </tr>\n",
       "    <tr>\n",
       "      <th>2</th>\n",
       "      <td>0018</td>\n",
       "      <td>OSLO</td>\n",
       "      <td>301</td>\n",
       "      <td>OSLO</td>\n",
       "      <td>G</td>\n",
       "    </tr>\n",
       "    <tr>\n",
       "      <th>3</th>\n",
       "      <td>0021</td>\n",
       "      <td>OSLO</td>\n",
       "      <td>301</td>\n",
       "      <td>OSLO</td>\n",
       "      <td>P</td>\n",
       "    </tr>\n",
       "    <tr>\n",
       "      <th>4</th>\n",
       "      <td>0024</td>\n",
       "      <td>OSLO</td>\n",
       "      <td>301</td>\n",
       "      <td>OSLO</td>\n",
       "      <td>P</td>\n",
       "    </tr>\n",
       "  </tbody>\n",
       "</table>\n",
       "</div>"
      ],
      "text/plain": [
       "  postal_code postal_place  muni_number muni_name category\n",
       "0        0010         OSLO          301      OSLO        B\n",
       "1        0015         OSLO          301      OSLO        B\n",
       "2        0018         OSLO          301      OSLO        G\n",
       "3        0021         OSLO          301      OSLO        P\n",
       "4        0024         OSLO          301      OSLO        P"
      ]
     },
     "execution_count": 25,
     "metadata": {},
     "output_type": "execute_result"
    }
   ],
   "source": [
    "import pandas as pd\n",
    "\n",
    "postcodes_per_municipality = pd.read_csv('data/Postnummerregister_ansi.tsv', encoding='utf-8',delimiter='\\t',header=0, names=[\n",
    "        'postal_code','postal_place','muni_number','muni_name','category'],\n",
    "            dtype = {'postal_code': str, 'municipality_number': str})\n",
    "\n",
    "postcodes_per_municipality.head(5)"
   ]
  },
  {
   "cell_type": "code",
   "execution_count": 26,
   "metadata": {
    "collapsed": true
   },
   "outputs": [],
   "source": [
    "postcodes_per_municipality['postcodes_per_municipality'] = pd.to_numeric(postcodes_per_municipality['postal_code'])"
   ]
  },
  {
   "cell_type": "code",
   "execution_count": 27,
   "metadata": {
    "collapsed": false
   },
   "outputs": [
    {
     "name": "stdout",
     "output_type": "stream",
     "text": [
      "-0.0006307479998213239\n",
      "0.0005075660010334104\n",
      "-0.00040529199759475887\n",
      "0.0012145240034442395\n"
     ]
    }
   ],
   "source": [
    "import timeit\n",
    "tmp_sl = postcodes_per_municipality['postal_code']\n",
    "\n",
    "\n",
    "start = timeit.timeit()\n",
    "for i in tmp_sl:\n",
    "    if i == 5151:\n",
    "        print('series for and if equal')\n",
    "\n",
    "end = timeit.timeit()\n",
    "print(end - start)\n",
    "\n",
    "start = timeit.timeit()\n",
    "\n",
    "if 5140 in tmp_sl.values:\n",
    "        print('series if in')\n",
    "    \n",
    "end = timeit.timeit()\n",
    "print(end - start)\n",
    "\n",
    "tmp_sl = list(tmp_sl)\n",
    "\n",
    "start = timeit.timeit()\n",
    "for i in tmp_sl:\n",
    "    if i == 5151:\n",
    "        print('list for and if equal')\n",
    "\n",
    "end = timeit.timeit()\n",
    "print(end - start)\n",
    "\n",
    "start = timeit.timeit()\n",
    "\n",
    "if 5140 in tmp_sl:\n",
    "        print('list if in')\n",
    "    \n",
    "end = timeit.timeit()\n",
    "print(end - start)\n",
    "\n",
    "# for func in f:\n",
    "#     f = ['value = [val[5] for col,val in dictionary.items()]', 'value = s.loc[5]', 'value = df.iloc[5]']\n",
    "\n",
    "#     print(min(timeit.Timer(func, setup).repeat(3, 100000)))"
   ]
  },
  {
   "cell_type": "code",
   "execution_count": 28,
   "metadata": {
    "collapsed": false
   },
   "outputs": [
    {
     "name": "stdout",
     "output_type": "stream",
     "text": [
      "Created `%t` as an alias for `%timeit`.\n",
      "Created `%%t` as an alias for `%%timeit`.\n",
      "series if in\n",
      "series if in\n",
      "series if in\n",
      "1 loop, best of 3: 352 µs per loop\n",
      "list if in\n",
      "list if in\n",
      "list if in\n",
      "1 loop, best of 3: 193 µs per loop\n"
     ]
    }
   ],
   "source": [
    "%alias_magic t timeit\n",
    "\n",
    "import timeit\n",
    "tmp_sl = postcodes_per_municipality['postal_code']\n",
    "\n",
    "\n",
    "for i in tmp_sl:\n",
    "    if i == 5151:\n",
    "        print('series for and if equal')\n",
    "\n",
    "%t -n1 if str(5146) in tmp_sl.values: print('series if in')\n",
    "\n",
    "tmp_sl = list(tmp_sl)\n",
    "\n",
    "for i in tmp_sl: \n",
    "    if i == 5151: \n",
    "        print('list for and if equal')\n",
    "\n",
    "%t -n1 if str(5146) in tmp_sl: print('list if in')\n",
    "\n",
    "# for func in f:\n",
    "#     f = ['value = [val[5] for col,val in dictionary.items()]', 'value = s.loc[5]', 'value = df.iloc[5]']\n",
    "\n",
    "#     print(min(timeit.Timer(func, setup).repeat(3, 100000)))"
   ]
  },
  {
   "cell_type": "code",
   "execution_count": 29,
   "metadata": {
    "collapsed": false
   },
   "outputs": [
    {
     "data": {
      "text/plain": [
       "array(['0010', '0015', '0018', ..., '9982', '9990', '9991'], dtype=object)"
      ]
     },
     "execution_count": 29,
     "metadata": {},
     "output_type": "execute_result"
    }
   ],
   "source": [
    "tmp_sl = postcodes_per_municipality['postal_code']\n",
    "\n",
    "\n",
    "tmp_sl.values"
   ]
  },
  {
   "cell_type": "code",
   "execution_count": 30,
   "metadata": {
    "collapsed": true
   },
   "outputs": [],
   "source": [
    "#Removed cell February 9, 2017\n",
    "\n",
    "# aggregated = bergen.aggregate([  \n",
    "#         {'$match' :  { 'address': {'$exists' : True }, 'type': 'way' } },\n",
    "#         { \"$group\" : { \n",
    "#                 \"_id\" : \"$id\",\"count\" : { \"$sum\" : 1} } }\n",
    "#     ])\n",
    "\n",
    "# unique_street_count = 0\n",
    "\n",
    "# for doc in aggregated:\n",
    "# #     household_count += doc['count']\n",
    "#     unique_street_count += 1\n",
    "\n",
    "# print(unique_street_count)"
   ]
  },
  {
   "cell_type": "markdown",
   "metadata": {
    "collapsed": true
   },
   "source": [
    "#Removed cell, February 9, 2017\n",
    "\n",
    "#EXPERIMENTAL, WILL BE REMOVED\n",
    "streetnames_sorted_dict = dict(sorted(addresses_on_street.items(), key=lambda x: x[1], reverse=True))\n",
    "\n",
    "for rec in streetnames_sorted_dict:\n",
    "    if streetnames_sorted_dict[rec] == 184:\n",
    "        print (rec,streetnames_sorted_dict[rec],type(rec))"
   ]
  },
  {
   "cell_type": "markdown",
   "metadata": {
    "collapsed": true
   },
   "source": [
    "#Removed cell February 9, 2017\n",
    "\n",
    "#EXPERIMENTAL, WILL BE REMOVED\n",
    "tmp_agg = db.bergen.aggregate([\n",
    "         { \"$group\" : { \"_id\" : \"$address.street\",\n",
    "                       \"mset\" : {\n",
    "                         \"$addToSet\" : \"$address.house_number\"\n",
    "                 } } },\n",
    "         { \"$unwind\" : \"$mset\"},\n",
    "         { \"$group\" : { \"_id\" : \"$_id\",\n",
    "                       \"count\" : { \"$sum\" : 1} } },\n",
    "         { \"$sort\" : { \"count\" : -1 } },\n",
    "         { \"$limit\" : 10 } ] )\n",
    "\n",
    "for doc in tmp_agg:\n",
    "    print(doc)"
   ]
  },
  {
   "cell_type": "markdown",
   "metadata": {
    "collapsed": true
   },
   "source": [
    "#Removed cell February 20, 2017\n",
    "\n",
    "#Converting list for dataframe usage\n",
    "to_df = []\n",
    "\n",
    "for dic in duplicate_addresses:\n",
    "    dictionary = dict()\n",
    "    \n",
    "#     for key,val in dic.items():\n",
    "#         dictionary[key] = val\n",
    "        \n",
    "#         if key == '_id':\n",
    "    for key,val in dic['_id'].items():\n",
    "        dictionary[key] = val\n",
    "        \n",
    "    dictionary['count'] = dic['count']\n",
    "                \n",
    "        \n",
    "    to_df.append(dictionary)\n",
    "    \n",
    "to_df"
   ]
  },
  {
   "cell_type": "markdown",
   "metadata": {
    "collapsed": true
   },
   "source": [
    "#Removed from cleaning part February 20, 2017\n",
    "\n",
    "            if count < 10:\n",
    "                pass\n",
    "            elif count == 10:\n",
    "                pprint(data)\n",
    "            else:\n",
    "                break\n",
    "        \n",
    "        addr_count = 0\n",
    "        for node in data:\n",
    "            if (addr_count < 20) and 'address' in node.keys():-=0\n",
    "                addr_count += 1\n",
    "                pprint(node['address'])  "
   ]
  },
  {
   "cell_type": "code",
   "execution_count": 31,
   "metadata": {
    "collapsed": false
   },
   "outputs": [
    {
     "name": "stdout",
     "output_type": "stream",
     "text": [
      "Total user count: 399\n",
      "Average contributions per user: 1707.2\n",
      "Median contributions per user: 11\n",
      "Mode of contribution count: 76 contributors (19.05%) submitted 1 edit.\n"
     ]
    }
   ],
   "source": [
    "from collections import defaultdict\n",
    "\n",
    "user_count_query = bergen.aggregate( [\n",
    "   {\n",
    "     '$group': {\n",
    "        '_id' : { 'uid': '$created.uid', 'username': '$created.user' }\n",
    "           }\n",
    "        },\n",
    "   {\n",
    "     '$group': {\n",
    "        '_id': 'null',\n",
    "        'count': { '$sum': 1 }\n",
    "     }\n",
    "   }\n",
    "] )\n",
    "\n",
    "for doc in user_count_query:\n",
    "    user_count = doc['count']\n",
    "\n",
    "average_contributions = bergen.aggregate( [\n",
    "   {\n",
    "          '$group': \n",
    "            {\n",
    "                '_id' : \n",
    "                { 'uid': '$created.uid', 'username': '$created.user' },\n",
    "                'count': { '$sum': 1 } \n",
    "            } \n",
    "    },\n",
    "    { \n",
    "            '$group': \n",
    "            {\n",
    "                '_id': 'null',\n",
    "                'avg': { '$avg': '$count' } \n",
    "            }\n",
    "    }\n",
    "] )\n",
    "\n",
    "for doc in average_contributions:\n",
    "    user_average = round(doc['avg'],2)\n",
    "    \n",
    "grouped_users = list(bergen.aggregate([  \n",
    "        { \n",
    "            \"$group\" : \n",
    "            { \n",
    "                \"_id\" : { \"uid\": \"$created.uid\", \"username\": \"$created.user\" },\n",
    "                \"count\" : { \"$sum\" : 1} \n",
    "            } \n",
    "        },\n",
    "        { \"$sort\" : { \"count\" : 1 } }\n",
    "        ]))\n",
    "\n",
    "user_no = 0\n",
    "halfway = round(user_count / 2)\n",
    "mode_dict = defaultdict(int)\n",
    "\n",
    "for doc in grouped_users:\n",
    "        user_no += 1\n",
    "        val = doc['count']\n",
    "        if user_no == halfway:\n",
    "            user_median = val\n",
    "        \n",
    "        mode_dict[val] += 1\n",
    "\n",
    "user_mode = max(mode_dict.items(), key=lambda a: a[1])\n",
    "mode_percentage = round((user_mode[1] / user_count) * 100,2)\n",
    "            \n",
    "print(\"Total user count:\",user_count)\n",
    "print(\"Average contributions per user:\",user_average)\n",
    "print(\"Median contributions per user:\",user_median)\n",
    "print(\"Mode of contribution count: {0} contributors ({1}%) submitted {2} edit.\".format(\n",
    "    user_mode[1],mode_percentage,user_mode[0] ) )\n",
    "\n"
   ]
  },
  {
   "cell_type": "code",
   "execution_count": 32,
   "metadata": {
    "collapsed": false
   },
   "outputs": [
    {
     "name": "stdout",
     "output_type": "stream",
     "text": [
      "10000\n"
     ]
    },
    {
     "data": {
      "text/plain": [
       "(array([ 371.,    7.,    1.,    2.,    2.,    1.,    1.,    1.,    2.,\n",
       "           1.,    0.,    1.,    0.,    1.,    0.,    1.,    0.,    0.,\n",
       "           0.,    0.,    0.,    1.,    1.,    0.,    0.,    1.,    0.,\n",
       "           0.,    1.,    0.,    0.,    0.,    0.,    0.,    0.,    0.,\n",
       "           0.,    0.,    0.,    0.,    0.,    0.,    0.,    0.,    0.,\n",
       "           0.,    0.,    0.,    0.,    0.,    0.,    0.,    0.,    0.,\n",
       "           0.,    0.,    1.,    0.,    0.,    0.,    0.,    0.,    0.,\n",
       "           0.,    0.,    0.,    0.,    0.,    0.,    0.,    0.,    0.,\n",
       "           0.,    0.,    0.,    0.,    0.,    0.,    0.,    0.,    0.,\n",
       "           0.,    0.,    0.,    0.,    0.,    0.,    0.,    0.,    0.,\n",
       "           0.,    0.,    0.,    0.,    1.,    0.,    0.,    0.,    0.,    1.]),\n",
       " array([  1.00000000e+00,   1.40893000e+03,   2.81686000e+03,\n",
       "          4.22479000e+03,   5.63272000e+03,   7.04065000e+03,\n",
       "          8.44858000e+03,   9.85651000e+03,   1.12644400e+04,\n",
       "          1.26723700e+04,   1.40803000e+04,   1.54882300e+04,\n",
       "          1.68961600e+04,   1.83040900e+04,   1.97120200e+04,\n",
       "          2.11199500e+04,   2.25278800e+04,   2.39358100e+04,\n",
       "          2.53437400e+04,   2.67516700e+04,   2.81596000e+04,\n",
       "          2.95675300e+04,   3.09754600e+04,   3.23833900e+04,\n",
       "          3.37913200e+04,   3.51992500e+04,   3.66071800e+04,\n",
       "          3.80151100e+04,   3.94230400e+04,   4.08309700e+04,\n",
       "          4.22389000e+04,   4.36468300e+04,   4.50547600e+04,\n",
       "          4.64626900e+04,   4.78706200e+04,   4.92785500e+04,\n",
       "          5.06864800e+04,   5.20944100e+04,   5.35023400e+04,\n",
       "          5.49102700e+04,   5.63182000e+04,   5.77261300e+04,\n",
       "          5.91340600e+04,   6.05419900e+04,   6.19499200e+04,\n",
       "          6.33578500e+04,   6.47657800e+04,   6.61737100e+04,\n",
       "          6.75816400e+04,   6.89895700e+04,   7.03975000e+04,\n",
       "          7.18054300e+04,   7.32133600e+04,   7.46212900e+04,\n",
       "          7.60292200e+04,   7.74371500e+04,   7.88450800e+04,\n",
       "          8.02530100e+04,   8.16609400e+04,   8.30688700e+04,\n",
       "          8.44768000e+04,   8.58847300e+04,   8.72926600e+04,\n",
       "          8.87005900e+04,   9.01085200e+04,   9.15164500e+04,\n",
       "          9.29243800e+04,   9.43323100e+04,   9.57402400e+04,\n",
       "          9.71481700e+04,   9.85561000e+04,   9.99640300e+04,\n",
       "          1.01371960e+05,   1.02779890e+05,   1.04187820e+05,\n",
       "          1.05595750e+05,   1.07003680e+05,   1.08411610e+05,\n",
       "          1.09819540e+05,   1.11227470e+05,   1.12635400e+05,\n",
       "          1.14043330e+05,   1.15451260e+05,   1.16859190e+05,\n",
       "          1.18267120e+05,   1.19675050e+05,   1.21082980e+05,\n",
       "          1.22490910e+05,   1.23898840e+05,   1.25306770e+05,\n",
       "          1.26714700e+05,   1.28122630e+05,   1.29530560e+05,\n",
       "          1.30938490e+05,   1.32346420e+05,   1.33754350e+05,\n",
       "          1.35162280e+05,   1.36570210e+05,   1.37978140e+05,\n",
       "          1.39386070e+05,   1.40794000e+05]),\n",
       " <a list of 100 Patch objects>)"
      ]
     },
     "execution_count": 32,
     "metadata": {},
     "output_type": "execute_result"
    },
    {
     "data": {
      "image/png": "[encoded data removed]",
      "text/plain": [
       "<matplotlib.figure.Figure at 0x18cf36278>"
      ]
     },
     "metadata": {},
     "output_type": "display_data"
    }
   ],
   "source": [
    "import numpy as np\n",
    "from matplotlib import pyplot as plt\n",
    "% matplotlib inline\n",
    "\n",
    "\n",
    "mu, sigma = 100, 15\n",
    "x = mu + sigma*np.random.randn(10000)\n",
    "\n",
    "bah = np.array(list(doc['count'] for doc in grouped_users))\n",
    "\n",
    "print(len(x))\n",
    "\n",
    "plt.hist(bah,bins=100)\n"
   ]
  },
  {
   "cell_type": "code",
   "execution_count": 33,
   "metadata": {
    "collapsed": true
   },
   "outputs": [],
   "source": [
    "s_mode_dict = pd.Series(mode_dict)"
   ]
  },
  {
   "cell_type": "code",
   "execution_count": 34,
   "metadata": {
    "collapsed": false
   },
   "outputs": [],
   "source": [
    "df_mode_dict = pd.DataFrame(s_mode_dict,columns=['count'])"
   ]
  },
  {
   "cell_type": "code",
   "execution_count": 35,
   "metadata": {
    "collapsed": false
   },
   "outputs": [],
   "source": [
    "df_mode_dict['contributions'] = df_mode_dict.index"
   ]
  },
  {
   "cell_type": "code",
   "execution_count": 36,
   "metadata": {
    "collapsed": false
   },
   "outputs": [],
   "source": [
    "df_mode_dict = df_mode_dict[['contributions','count']]"
   ]
  },
  {
   "cell_type": "code",
   "execution_count": 37,
   "metadata": {
    "collapsed": false
   },
   "outputs": [
    {
     "data": {
      "text/plain": [
       "[2, 3, 4, [1, 3, 5, 7, 9]]"
      ]
     },
     "execution_count": 37,
     "metadata": {},
     "output_type": "execute_result"
    }
   ],
   "source": [
    "[2,3,4,list(range(1,10,2))]"
   ]
  },
  {
   "cell_type": "code",
   "execution_count": 38,
   "metadata": {
    "collapsed": false
   },
   "outputs": [
    {
     "data": {
      "text/plain": [
       "[1, 3, 5, 7, 9, 1, 2, 3]"
      ]
     },
     "execution_count": 38,
     "metadata": {},
     "output_type": "execute_result"
    }
   ],
   "source": [
    "list(range(1,10,2)) + list(range(1,4))"
   ]
  },
  {
   "cell_type": "markdown",
   "metadata": {
    "collapsed": false
   },
   "source": [
    "from collections import OrderedDict\n",
    "\n",
    "bracket_names = OrderedDict()\n",
    "for item in bins:\n",
    "    if item != bins[-1]:\n",
    "        if item < 10:\n",
    "            bracket_names[str(item)] = item  \n",
    "        else:\n",
    "            next = bins[bins.index(item) + 1]\n",
    "            bracket_names['{0} to {1}'.format(item,next)] = item\n",
    "            \n",
    "bracket_names"
   ]
  },
  {
   "cell_type": "code",
   "execution_count": 41,
   "metadata": {
    "collapsed": false
   },
   "outputs": [
    {
     "data": {
      "text/plain": [
       "odict_keys([])"
      ]
     },
     "execution_count": 41,
     "metadata": {},
     "output_type": "execute_result"
    }
   ],
   "source": [
    "bracket_names.keys()"
   ]
  },
  {
   "cell_type": "code",
   "execution_count": 42,
   "metadata": {
    "collapsed": false
   },
   "outputs": [
    {
     "data": {
      "text/plain": [
       "0"
      ]
     },
     "execution_count": 42,
     "metadata": {},
     "output_type": "execute_result"
    }
   ],
   "source": [
    "# for key,val in (bracket_names.keys(),bracket_names.values()):\n",
    "#     print(key,val)\n",
    "\n",
    "len(bracket_names.values())"
   ]
  },
  {
   "cell_type": "markdown",
   "metadata": {
    "collapsed": false
   },
   "source": [
    "print(bins)\n",
    "print(list(bracket_names.values()))"
   ]
  },
  {
   "cell_type": "markdown",
   "metadata": {
    "collapsed": false
   },
   "source": [
    "tmp_dict = dict()\n",
    "\n",
    "for item in bins:\n",
    "    bin_index = bins.index(item)\n",
    "        \n",
    "    try:\n",
    "        tmp_dict[bracket_names[bin_index]] = item\n",
    "    except IndexError:\n",
    "        print(item)\n",
    "    \n",
    "tmp_dict"
   ]
  },
  {
   "cell_type": "code",
   "execution_count": 45,
   "metadata": {
    "collapsed": false
   },
   "outputs": [
    {
     "data": {
      "text/plain": [
       "contributions    int64\n",
       "count            int64\n",
       "dtype: object"
      ]
     },
     "execution_count": 45,
     "metadata": {},
     "output_type": "execute_result"
    }
   ],
   "source": [
    "df_mode_dict.dtypes"
   ]
  },
  {
   "cell_type": "code",
   "execution_count": 46,
   "metadata": {
    "collapsed": false
   },
   "outputs": [
    {
     "data": {
      "text/plain": [
       "'11K'"
      ]
     },
     "execution_count": 46,
     "metadata": {},
     "output_type": "execute_result"
    }
   ],
   "source": [
    "str(11000)[:-3] + 'K'"
   ]
  },
  {
   "cell_type": "code",
   "execution_count": 47,
   "metadata": {
    "collapsed": false
   },
   "outputs": [
    {
     "data": {
      "text/html": [
       "<div>\n",
       "<table border=\"1\" class=\"dataframe\">\n",
       "  <thead>\n",
       "    <tr style=\"text-align: right;\">\n",
       "      <th></th>\n",
       "      <th>contributions</th>\n",
       "      <th>count</th>\n",
       "      <th>bracket</th>\n",
       "    </tr>\n",
       "  </thead>\n",
       "  <tbody>\n",
       "    <tr>\n",
       "      <th>1</th>\n",
       "      <td>1</td>\n",
       "      <td>76</td>\n",
       "      <td>1</td>\n",
       "    </tr>\n",
       "    <tr>\n",
       "      <th>2</th>\n",
       "      <td>2</td>\n",
       "      <td>30</td>\n",
       "      <td>2</td>\n",
       "    </tr>\n",
       "    <tr>\n",
       "      <th>3</th>\n",
       "      <td>3</td>\n",
       "      <td>23</td>\n",
       "      <td>3</td>\n",
       "    </tr>\n",
       "    <tr>\n",
       "      <th>4</th>\n",
       "      <td>4</td>\n",
       "      <td>15</td>\n",
       "      <td>4</td>\n",
       "    </tr>\n",
       "    <tr>\n",
       "      <th>5</th>\n",
       "      <td>5</td>\n",
       "      <td>14</td>\n",
       "      <td>5</td>\n",
       "    </tr>\n",
       "    <tr>\n",
       "      <th>6</th>\n",
       "      <td>6</td>\n",
       "      <td>9</td>\n",
       "      <td>6</td>\n",
       "    </tr>\n",
       "    <tr>\n",
       "      <th>7</th>\n",
       "      <td>7</td>\n",
       "      <td>5</td>\n",
       "      <td>7</td>\n",
       "    </tr>\n",
       "    <tr>\n",
       "      <th>8</th>\n",
       "      <td>8</td>\n",
       "      <td>10</td>\n",
       "      <td>8</td>\n",
       "    </tr>\n",
       "    <tr>\n",
       "      <th>9</th>\n",
       "      <td>9</td>\n",
       "      <td>11</td>\n",
       "      <td>9</td>\n",
       "    </tr>\n",
       "    <tr>\n",
       "      <th>10</th>\n",
       "      <td>10</td>\n",
       "      <td>3</td>\n",
       "      <td>10</td>\n",
       "    </tr>\n",
       "    <tr>\n",
       "      <th>11</th>\n",
       "      <td>11</td>\n",
       "      <td>4</td>\n",
       "      <td>11 to 20</td>\n",
       "    </tr>\n",
       "    <tr>\n",
       "      <th>12</th>\n",
       "      <td>12</td>\n",
       "      <td>4</td>\n",
       "      <td>11 to 20</td>\n",
       "    </tr>\n",
       "    <tr>\n",
       "      <th>13</th>\n",
       "      <td>13</td>\n",
       "      <td>2</td>\n",
       "      <td>11 to 20</td>\n",
       "    </tr>\n",
       "    <tr>\n",
       "      <th>14</th>\n",
       "      <td>14</td>\n",
       "      <td>4</td>\n",
       "      <td>11 to 20</td>\n",
       "    </tr>\n",
       "    <tr>\n",
       "      <th>15</th>\n",
       "      <td>15</td>\n",
       "      <td>3</td>\n",
       "      <td>11 to 20</td>\n",
       "    </tr>\n",
       "    <tr>\n",
       "      <th>16</th>\n",
       "      <td>16</td>\n",
       "      <td>6</td>\n",
       "      <td>11 to 20</td>\n",
       "    </tr>\n",
       "    <tr>\n",
       "      <th>17</th>\n",
       "      <td>17</td>\n",
       "      <td>6</td>\n",
       "      <td>11 to 20</td>\n",
       "    </tr>\n",
       "    <tr>\n",
       "      <th>18</th>\n",
       "      <td>18</td>\n",
       "      <td>5</td>\n",
       "      <td>11 to 20</td>\n",
       "    </tr>\n",
       "    <tr>\n",
       "      <th>19</th>\n",
       "      <td>19</td>\n",
       "      <td>4</td>\n",
       "      <td>11 to 20</td>\n",
       "    </tr>\n",
       "    <tr>\n",
       "      <th>20</th>\n",
       "      <td>20</td>\n",
       "      <td>1</td>\n",
       "      <td>11 to 20</td>\n",
       "    </tr>\n",
       "    <tr>\n",
       "      <th>21</th>\n",
       "      <td>21</td>\n",
       "      <td>7</td>\n",
       "      <td>21 to 30</td>\n",
       "    </tr>\n",
       "    <tr>\n",
       "      <th>22</th>\n",
       "      <td>22</td>\n",
       "      <td>3</td>\n",
       "      <td>21 to 30</td>\n",
       "    </tr>\n",
       "    <tr>\n",
       "      <th>24</th>\n",
       "      <td>24</td>\n",
       "      <td>1</td>\n",
       "      <td>21 to 30</td>\n",
       "    </tr>\n",
       "    <tr>\n",
       "      <th>25</th>\n",
       "      <td>25</td>\n",
       "      <td>1</td>\n",
       "      <td>21 to 30</td>\n",
       "    </tr>\n",
       "    <tr>\n",
       "      <th>26</th>\n",
       "      <td>26</td>\n",
       "      <td>2</td>\n",
       "      <td>21 to 30</td>\n",
       "    </tr>\n",
       "    <tr>\n",
       "      <th>27</th>\n",
       "      <td>27</td>\n",
       "      <td>2</td>\n",
       "      <td>21 to 30</td>\n",
       "    </tr>\n",
       "    <tr>\n",
       "      <th>28</th>\n",
       "      <td>28</td>\n",
       "      <td>1</td>\n",
       "      <td>21 to 30</td>\n",
       "    </tr>\n",
       "    <tr>\n",
       "      <th>29</th>\n",
       "      <td>29</td>\n",
       "      <td>2</td>\n",
       "      <td>21 to 30</td>\n",
       "    </tr>\n",
       "    <tr>\n",
       "      <th>30</th>\n",
       "      <td>30</td>\n",
       "      <td>4</td>\n",
       "      <td>21 to 30</td>\n",
       "    </tr>\n",
       "    <tr>\n",
       "      <th>32</th>\n",
       "      <td>32</td>\n",
       "      <td>1</td>\n",
       "      <td>31 to 40</td>\n",
       "    </tr>\n",
       "  </tbody>\n",
       "</table>\n",
       "</div>"
      ],
      "text/plain": [
       "    contributions  count   bracket\n",
       "1               1     76         1\n",
       "2               2     30         2\n",
       "3               3     23         3\n",
       "4               4     15         4\n",
       "5               5     14         5\n",
       "6               6      9         6\n",
       "7               7      5         7\n",
       "8               8     10         8\n",
       "9               9     11         9\n",
       "10             10      3        10\n",
       "11             11      4  11 to 20\n",
       "12             12      4  11 to 20\n",
       "13             13      2  11 to 20\n",
       "14             14      4  11 to 20\n",
       "15             15      3  11 to 20\n",
       "16             16      6  11 to 20\n",
       "17             17      6  11 to 20\n",
       "18             18      5  11 to 20\n",
       "19             19      4  11 to 20\n",
       "20             20      1  11 to 20\n",
       "21             21      7  21 to 30\n",
       "22             22      3  21 to 30\n",
       "24             24      1  21 to 30\n",
       "25             25      1  21 to 30\n",
       "26             26      2  21 to 30\n",
       "27             27      2  21 to 30\n",
       "28             28      1  21 to 30\n",
       "29             29      2  21 to 30\n",
       "30             30      4  21 to 30\n",
       "32             32      1  31 to 40"
      ]
     },
     "metadata": {},
     "output_type": "display_data"
    },
    {
     "data": {
      "text/html": [
       "<div>\n",
       "<table border=\"1\" class=\"dataframe\">\n",
       "  <thead>\n",
       "    <tr style=\"text-align: right;\">\n",
       "      <th></th>\n",
       "      <th>contributions</th>\n",
       "      <th>count</th>\n",
       "      <th>bracket</th>\n",
       "    </tr>\n",
       "  </thead>\n",
       "  <tbody>\n",
       "    <tr>\n",
       "      <th>39789</th>\n",
       "      <td>39789</td>\n",
       "      <td>1</td>\n",
       "      <td>30K to 50K</td>\n",
       "    </tr>\n",
       "    <tr>\n",
       "      <th>80243</th>\n",
       "      <td>80243</td>\n",
       "      <td>1</td>\n",
       "      <td>50K to 100K</td>\n",
       "    </tr>\n",
       "    <tr>\n",
       "      <th>133655</th>\n",
       "      <td>133655</td>\n",
       "      <td>1</td>\n",
       "      <td>100K to 150K</td>\n",
       "    </tr>\n",
       "    <tr>\n",
       "      <th>140794</th>\n",
       "      <td>140794</td>\n",
       "      <td>1</td>\n",
       "      <td>100K to 150K</td>\n",
       "    </tr>\n",
       "  </tbody>\n",
       "</table>\n",
       "</div>"
      ],
      "text/plain": [
       "        contributions  count       bracket\n",
       "39789           39789      1    30K to 50K\n",
       "80243           80243      1   50K to 100K\n",
       "133655         133655      1  100K to 150K\n",
       "140794         140794      1  100K to 150K"
      ]
     },
     "metadata": {},
     "output_type": "display_data"
    }
   ],
   "source": [
    "#Creating age brackets and removing records with missing ageb\n",
    "\n",
    "bins = list(range(0,10,1) ) + list(range(10,100,10) ) + \\\n",
    "list(range(100,1000,100) ) + list(range(1000,10000,5000) ) + \\\n",
    "list(range(10000,50000,20000) ) + list(range(50000,151000,50000) )\n",
    "\n",
    "bracket_names = list()\n",
    "for item in bins:\n",
    "    if item != bins[-1]:\n",
    "        if item < 10:\n",
    "            bracket_names.append(str(item+1)) \n",
    "        else:\n",
    "            start = item + 1\n",
    "            next = bins[bins.index(item) + 1]\n",
    "            if start > 1000:\n",
    "                start = str(start)[:-3] + 'K'\n",
    "                next = str(next)[:-3] + 'K'\n",
    "            bracket_names.append('{0} to {1}'.format(start,next))\n",
    "        \n",
    "categories = pd.Series(pd.cut(df_mode_dict['contributions'], bins ,\n",
    "                              labels=bracket_names, include_lowest=True ) )\n",
    "\n",
    "df_mode_dict['bracket'] = categories\n",
    "#pd.cut does not work perfectly for what I want, so I have to adjust some brackets\n",
    "# df_mode_dict['bracket'][df_mode_dict['contributions'] < 11] = df_mode_dict['contributions']\n",
    "\n",
    "display(df_mode_dict.head(30))\n",
    "display(df_mode_dict.tail(4))\n",
    "\n",
    "# print(\"Number of passengers used for age analysis:\", len(age_data))"
   ]
  },
  {
   "cell_type": "code",
   "execution_count": 48,
   "metadata": {
    "collapsed": false
   },
   "outputs": [],
   "source": [
    "for_plot = df_mode_dict.groupby('bracket')['count'].agg('sum')"
   ]
  },
  {
   "cell_type": "code",
   "execution_count": 49,
   "metadata": {
    "collapsed": false
   },
   "outputs": [
    {
     "data": {
      "text/plain": [
       "bracket\n",
       "1               76\n",
       "2               30\n",
       "3               23\n",
       "4               15\n",
       "5               14\n",
       "6                9\n",
       "7                5\n",
       "8               10\n",
       "9               11\n",
       "10               3\n",
       "11 to 20        39\n",
       "21 to 30        23\n",
       "31 to 40        14\n",
       "41 to 50        11\n",
       "51 to 60        10\n",
       "61 to 70         9\n",
       "71 to 80         7\n",
       "81 to 90         7\n",
       "91 to 100        1\n",
       "101 to 200      19\n",
       "201 to 300       8\n",
       "301 to 400       8\n",
       "401 to 500       2\n",
       "501 to 600       1\n",
       "601 to 700       3\n",
       "701 to 800       1\n",
       "801 to 900       4\n",
       "901 to 1000      1\n",
       "1K to 6K        18\n",
       "6K to 10K        3\n",
       "10K to 30K       8\n",
       "30K to 50K       3\n",
       "50K to 100K      1\n",
       "100K to 150K     2\n",
       "Name: count, dtype: int64"
      ]
     },
     "execution_count": 49,
     "metadata": {},
     "output_type": "execute_result"
    }
   ],
   "source": [
    "for_plot"
   ]
  },
  {
   "cell_type": "code",
   "execution_count": 50,
   "metadata": {
    "collapsed": false
   },
   "outputs": [
    {
     "data": {
      "image/png": "[encoded data removed]",
      "text/plain": [
       "<matplotlib.figure.Figure at 0x16b73cef0>"
      ]
     },
     "metadata": {},
     "output_type": "display_data"
    }
   ],
   "source": [
    "import seaborn as sns\n",
    "\n",
    "fig = plt.figure(figsize=(8,5))\n",
    "ax = plt.subplot(1,1,1)\n",
    "\n",
    "#all passengers plot\n",
    "rects = for_plot.plot(kind='bar',ax=ax,color='g')\n",
    "ax.set_title('Contributions per user',fontsize='large',fontweight='bold')\n",
    "ax.set_xlabel('Number of contributions',fontsize='small')\n",
    "ax.set_ylabel('User count',fontsize='small')\n",
    "ax.set_xticklabels(for_plot.index.values,rotation='70',fontsize='x-small')\n",
    "\n",
    "plt.show()"
   ]
  },
  {
   "cell_type": "code",
   "execution_count": 51,
   "metadata": {
    "collapsed": false
   },
   "outputs": [
    {
     "data": {
      "text/plain": [
       "<matplotlib.axes._subplots.AxesSubplot at 0x16c645630>"
      ]
     },
     "execution_count": 51,
     "metadata": {},
     "output_type": "execute_result"
    },
    {
     "data": {
      "image/png": "[encoded data removed]",
      "text/plain": [
       "<matplotlib.figure.Figure at 0x169daa668>"
      ]
     },
     "metadata": {},
     "output_type": "display_data"
    }
   ],
   "source": [
    "s_mode_dict.plot.hist(bins=10)"
   ]
  },
  {
   "cell_type": "code",
   "execution_count": 52,
   "metadata": {
    "collapsed": false
   },
   "outputs": [
    {
     "data": {
      "text/plain": [
       "140794"
      ]
     },
     "execution_count": 52,
     "metadata": {},
     "output_type": "execute_result"
    }
   ],
   "source": [
    "bah_list = list(bah)\n",
    "\n",
    "bah_list.sort()\n",
    "\n",
    "bah_list[-1]"
   ]
  },
  {
   "cell_type": "code",
   "execution_count": 54,
   "metadata": {
    "collapsed": false
   },
   "outputs": [
    {
     "data": {
      "text/plain": [
       "(array([ 196.,   39.,   23., ...,    0.,    0.,    0.]),\n",
       " array([     1,     11,     21, ..., 140771, 140781, 140791]),\n",
       " <a list of 14079 Patch objects>)"
      ]
     },
     "execution_count": 54,
     "metadata": {},
     "output_type": "execute_result"
    },
    {
     "data": {
      "image/png": "[encoded data removed]",
      "text/plain": [
       "<matplotlib.figure.Figure at 0x19100fc18>"
      ]
     },
     "metadata": {},
     "output_type": "display_data"
    }
   ],
   "source": [
    "s_grouped_users = pd.Series(list(doc['count'] for doc in grouped_users))\n",
    "\n",
    "s_grouped_users.plot(kind='hist')\n",
    "\n",
    "data = s_grouped_users\n",
    "\n",
    "plt.hist(data, bins=range(min(data), max(data) + 5, 10))"
   ]
  },
  {
   "cell_type": "code",
   "execution_count": 55,
   "metadata": {
    "collapsed": false
   },
   "outputs": [
    {
     "data": {
      "text/plain": [
       "<matplotlib.axes._subplots.AxesSubplot at 0x18ee0e978>"
      ]
     },
     "execution_count": 55,
     "metadata": {},
     "output_type": "execute_result"
    },
    {
     "data": {
      "image/png": "[encoded data removed]",
      "text/plain": [
       "<matplotlib.figure.Figure at 0x190f83c18>"
      ]
     },
     "metadata": {},
     "output_type": "display_data"
    }
   ],
   "source": [
    "s_grouped_users.hist(bins=[0, 10, 20, 30, 40, 50, 100])"
   ]
  },
  {
   "cell_type": "code",
   "execution_count": 56,
   "metadata": {
    "collapsed": false
   },
   "outputs": [
    {
     "data": {
      "text/html": [
       "<div>\n",
       "<table border=\"1\" class=\"dataframe\">\n",
       "  <thead>\n",
       "    <tr style=\"text-align: right;\">\n",
       "      <th></th>\n",
       "      <th>contributions</th>\n",
       "      <th>count</th>\n",
       "      <th>bracket</th>\n",
       "    </tr>\n",
       "  </thead>\n",
       "  <tbody>\n",
       "    <tr>\n",
       "      <th>62</th>\n",
       "      <td>62</td>\n",
       "      <td>1</td>\n",
       "      <td>61 to 70</td>\n",
       "    </tr>\n",
       "    <tr>\n",
       "      <th>63</th>\n",
       "      <td>63</td>\n",
       "      <td>2</td>\n",
       "      <td>61 to 70</td>\n",
       "    </tr>\n",
       "    <tr>\n",
       "      <th>64</th>\n",
       "      <td>64</td>\n",
       "      <td>2</td>\n",
       "      <td>61 to 70</td>\n",
       "    </tr>\n",
       "    <tr>\n",
       "      <th>68</th>\n",
       "      <td>68</td>\n",
       "      <td>2</td>\n",
       "      <td>61 to 70</td>\n",
       "    </tr>\n",
       "    <tr>\n",
       "      <th>69</th>\n",
       "      <td>69</td>\n",
       "      <td>1</td>\n",
       "      <td>61 to 70</td>\n",
       "    </tr>\n",
       "    <tr>\n",
       "      <th>70</th>\n",
       "      <td>70</td>\n",
       "      <td>1</td>\n",
       "      <td>61 to 70</td>\n",
       "    </tr>\n",
       "    <tr>\n",
       "      <th>71</th>\n",
       "      <td>71</td>\n",
       "      <td>1</td>\n",
       "      <td>71 to 80</td>\n",
       "    </tr>\n",
       "    <tr>\n",
       "      <th>77</th>\n",
       "      <td>77</td>\n",
       "      <td>1</td>\n",
       "      <td>71 to 80</td>\n",
       "    </tr>\n",
       "    <tr>\n",
       "      <th>78</th>\n",
       "      <td>78</td>\n",
       "      <td>1</td>\n",
       "      <td>71 to 80</td>\n",
       "    </tr>\n",
       "    <tr>\n",
       "      <th>79</th>\n",
       "      <td>79</td>\n",
       "      <td>3</td>\n",
       "      <td>71 to 80</td>\n",
       "    </tr>\n",
       "    <tr>\n",
       "      <th>80</th>\n",
       "      <td>80</td>\n",
       "      <td>1</td>\n",
       "      <td>71 to 80</td>\n",
       "    </tr>\n",
       "    <tr>\n",
       "      <th>84</th>\n",
       "      <td>84</td>\n",
       "      <td>1</td>\n",
       "      <td>81 to 90</td>\n",
       "    </tr>\n",
       "    <tr>\n",
       "      <th>85</th>\n",
       "      <td>85</td>\n",
       "      <td>1</td>\n",
       "      <td>81 to 90</td>\n",
       "    </tr>\n",
       "    <tr>\n",
       "      <th>86</th>\n",
       "      <td>86</td>\n",
       "      <td>1</td>\n",
       "      <td>81 to 90</td>\n",
       "    </tr>\n",
       "    <tr>\n",
       "      <th>89</th>\n",
       "      <td>89</td>\n",
       "      <td>1</td>\n",
       "      <td>81 to 90</td>\n",
       "    </tr>\n",
       "    <tr>\n",
       "      <th>90</th>\n",
       "      <td>90</td>\n",
       "      <td>3</td>\n",
       "      <td>81 to 90</td>\n",
       "    </tr>\n",
       "    <tr>\n",
       "      <th>92</th>\n",
       "      <td>92</td>\n",
       "      <td>1</td>\n",
       "      <td>91 to 100</td>\n",
       "    </tr>\n",
       "    <tr>\n",
       "      <th>101</th>\n",
       "      <td>101</td>\n",
       "      <td>1</td>\n",
       "      <td>101 to 200</td>\n",
       "    </tr>\n",
       "    <tr>\n",
       "      <th>106</th>\n",
       "      <td>106</td>\n",
       "      <td>2</td>\n",
       "      <td>101 to 200</td>\n",
       "    </tr>\n",
       "    <tr>\n",
       "      <th>108</th>\n",
       "      <td>108</td>\n",
       "      <td>1</td>\n",
       "      <td>101 to 200</td>\n",
       "    </tr>\n",
       "    <tr>\n",
       "      <th>111</th>\n",
       "      <td>111</td>\n",
       "      <td>1</td>\n",
       "      <td>101 to 200</td>\n",
       "    </tr>\n",
       "    <tr>\n",
       "      <th>118</th>\n",
       "      <td>118</td>\n",
       "      <td>1</td>\n",
       "      <td>101 to 200</td>\n",
       "    </tr>\n",
       "    <tr>\n",
       "      <th>131</th>\n",
       "      <td>131</td>\n",
       "      <td>1</td>\n",
       "      <td>101 to 200</td>\n",
       "    </tr>\n",
       "    <tr>\n",
       "      <th>132</th>\n",
       "      <td>132</td>\n",
       "      <td>2</td>\n",
       "      <td>101 to 200</td>\n",
       "    </tr>\n",
       "    <tr>\n",
       "      <th>144</th>\n",
       "      <td>144</td>\n",
       "      <td>1</td>\n",
       "      <td>101 to 200</td>\n",
       "    </tr>\n",
       "    <tr>\n",
       "      <th>152</th>\n",
       "      <td>152</td>\n",
       "      <td>1</td>\n",
       "      <td>101 to 200</td>\n",
       "    </tr>\n",
       "    <tr>\n",
       "      <th>157</th>\n",
       "      <td>157</td>\n",
       "      <td>1</td>\n",
       "      <td>101 to 200</td>\n",
       "    </tr>\n",
       "    <tr>\n",
       "      <th>159</th>\n",
       "      <td>159</td>\n",
       "      <td>1</td>\n",
       "      <td>101 to 200</td>\n",
       "    </tr>\n",
       "    <tr>\n",
       "      <th>166</th>\n",
       "      <td>166</td>\n",
       "      <td>1</td>\n",
       "      <td>101 to 200</td>\n",
       "    </tr>\n",
       "    <tr>\n",
       "      <th>167</th>\n",
       "      <td>167</td>\n",
       "      <td>1</td>\n",
       "      <td>101 to 200</td>\n",
       "    </tr>\n",
       "    <tr>\n",
       "      <th>...</th>\n",
       "      <td>...</td>\n",
       "      <td>...</td>\n",
       "      <td>...</td>\n",
       "    </tr>\n",
       "    <tr>\n",
       "      <th>1332</th>\n",
       "      <td>1332</td>\n",
       "      <td>1</td>\n",
       "      <td>1K to 6K</td>\n",
       "    </tr>\n",
       "    <tr>\n",
       "      <th>1374</th>\n",
       "      <td>1374</td>\n",
       "      <td>1</td>\n",
       "      <td>1K to 6K</td>\n",
       "    </tr>\n",
       "    <tr>\n",
       "      <th>1469</th>\n",
       "      <td>1469</td>\n",
       "      <td>1</td>\n",
       "      <td>1K to 6K</td>\n",
       "    </tr>\n",
       "    <tr>\n",
       "      <th>1544</th>\n",
       "      <td>1544</td>\n",
       "      <td>1</td>\n",
       "      <td>1K to 6K</td>\n",
       "    </tr>\n",
       "    <tr>\n",
       "      <th>1580</th>\n",
       "      <td>1580</td>\n",
       "      <td>1</td>\n",
       "      <td>1K to 6K</td>\n",
       "    </tr>\n",
       "    <tr>\n",
       "      <th>1852</th>\n",
       "      <td>1852</td>\n",
       "      <td>1</td>\n",
       "      <td>1K to 6K</td>\n",
       "    </tr>\n",
       "    <tr>\n",
       "      <th>1971</th>\n",
       "      <td>1971</td>\n",
       "      <td>1</td>\n",
       "      <td>1K to 6K</td>\n",
       "    </tr>\n",
       "    <tr>\n",
       "      <th>2006</th>\n",
       "      <td>2006</td>\n",
       "      <td>1</td>\n",
       "      <td>1K to 6K</td>\n",
       "    </tr>\n",
       "    <tr>\n",
       "      <th>2254</th>\n",
       "      <td>2254</td>\n",
       "      <td>1</td>\n",
       "      <td>1K to 6K</td>\n",
       "    </tr>\n",
       "    <tr>\n",
       "      <th>3447</th>\n",
       "      <td>3447</td>\n",
       "      <td>1</td>\n",
       "      <td>1K to 6K</td>\n",
       "    </tr>\n",
       "    <tr>\n",
       "      <th>4262</th>\n",
       "      <td>4262</td>\n",
       "      <td>1</td>\n",
       "      <td>1K to 6K</td>\n",
       "    </tr>\n",
       "    <tr>\n",
       "      <th>4426</th>\n",
       "      <td>4426</td>\n",
       "      <td>1</td>\n",
       "      <td>1K to 6K</td>\n",
       "    </tr>\n",
       "    <tr>\n",
       "      <th>5727</th>\n",
       "      <td>5727</td>\n",
       "      <td>1</td>\n",
       "      <td>1K to 6K</td>\n",
       "    </tr>\n",
       "    <tr>\n",
       "      <th>6432</th>\n",
       "      <td>6432</td>\n",
       "      <td>1</td>\n",
       "      <td>6K to 10K</td>\n",
       "    </tr>\n",
       "    <tr>\n",
       "      <th>7343</th>\n",
       "      <td>7343</td>\n",
       "      <td>1</td>\n",
       "      <td>6K to 10K</td>\n",
       "    </tr>\n",
       "    <tr>\n",
       "      <th>9840</th>\n",
       "      <td>9840</td>\n",
       "      <td>1</td>\n",
       "      <td>6K to 10K</td>\n",
       "    </tr>\n",
       "    <tr>\n",
       "      <th>10069</th>\n",
       "      <td>10069</td>\n",
       "      <td>1</td>\n",
       "      <td>10K to 30K</td>\n",
       "    </tr>\n",
       "    <tr>\n",
       "      <th>12327</th>\n",
       "      <td>12327</td>\n",
       "      <td>1</td>\n",
       "      <td>10K to 30K</td>\n",
       "    </tr>\n",
       "    <tr>\n",
       "      <th>12522</th>\n",
       "      <td>12522</td>\n",
       "      <td>1</td>\n",
       "      <td>10K to 30K</td>\n",
       "    </tr>\n",
       "    <tr>\n",
       "      <th>12712</th>\n",
       "      <td>12712</td>\n",
       "      <td>1</td>\n",
       "      <td>10K to 30K</td>\n",
       "    </tr>\n",
       "    <tr>\n",
       "      <th>16081</th>\n",
       "      <td>16081</td>\n",
       "      <td>1</td>\n",
       "      <td>10K to 30K</td>\n",
       "    </tr>\n",
       "    <tr>\n",
       "      <th>19287</th>\n",
       "      <td>19287</td>\n",
       "      <td>1</td>\n",
       "      <td>10K to 30K</td>\n",
       "    </tr>\n",
       "    <tr>\n",
       "      <th>22168</th>\n",
       "      <td>22168</td>\n",
       "      <td>1</td>\n",
       "      <td>10K to 30K</td>\n",
       "    </tr>\n",
       "    <tr>\n",
       "      <th>29969</th>\n",
       "      <td>29969</td>\n",
       "      <td>1</td>\n",
       "      <td>10K to 30K</td>\n",
       "    </tr>\n",
       "    <tr>\n",
       "      <th>31427</th>\n",
       "      <td>31427</td>\n",
       "      <td>1</td>\n",
       "      <td>30K to 50K</td>\n",
       "    </tr>\n",
       "    <tr>\n",
       "      <th>36440</th>\n",
       "      <td>36440</td>\n",
       "      <td>1</td>\n",
       "      <td>30K to 50K</td>\n",
       "    </tr>\n",
       "    <tr>\n",
       "      <th>39789</th>\n",
       "      <td>39789</td>\n",
       "      <td>1</td>\n",
       "      <td>30K to 50K</td>\n",
       "    </tr>\n",
       "    <tr>\n",
       "      <th>80243</th>\n",
       "      <td>80243</td>\n",
       "      <td>1</td>\n",
       "      <td>50K to 100K</td>\n",
       "    </tr>\n",
       "    <tr>\n",
       "      <th>133655</th>\n",
       "      <td>133655</td>\n",
       "      <td>1</td>\n",
       "      <td>100K to 150K</td>\n",
       "    </tr>\n",
       "    <tr>\n",
       "      <th>140794</th>\n",
       "      <td>140794</td>\n",
       "      <td>1</td>\n",
       "      <td>100K to 150K</td>\n",
       "    </tr>\n",
       "  </tbody>\n",
       "</table>\n",
       "<p>97 rows × 3 columns</p>\n",
       "</div>"
      ],
      "text/plain": [
       "        contributions  count       bracket\n",
       "62                 62      1      61 to 70\n",
       "63                 63      2      61 to 70\n",
       "64                 64      2      61 to 70\n",
       "68                 68      2      61 to 70\n",
       "69                 69      1      61 to 70\n",
       "70                 70      1      61 to 70\n",
       "71                 71      1      71 to 80\n",
       "77                 77      1      71 to 80\n",
       "78                 78      1      71 to 80\n",
       "79                 79      3      71 to 80\n",
       "80                 80      1      71 to 80\n",
       "84                 84      1      81 to 90\n",
       "85                 85      1      81 to 90\n",
       "86                 86      1      81 to 90\n",
       "89                 89      1      81 to 90\n",
       "90                 90      3      81 to 90\n",
       "92                 92      1     91 to 100\n",
       "101               101      1    101 to 200\n",
       "106               106      2    101 to 200\n",
       "108               108      1    101 to 200\n",
       "111               111      1    101 to 200\n",
       "118               118      1    101 to 200\n",
       "131               131      1    101 to 200\n",
       "132               132      2    101 to 200\n",
       "144               144      1    101 to 200\n",
       "152               152      1    101 to 200\n",
       "157               157      1    101 to 200\n",
       "159               159      1    101 to 200\n",
       "166               166      1    101 to 200\n",
       "167               167      1    101 to 200\n",
       "...               ...    ...           ...\n",
       "1332             1332      1      1K to 6K\n",
       "1374             1374      1      1K to 6K\n",
       "1469             1469      1      1K to 6K\n",
       "1544             1544      1      1K to 6K\n",
       "1580             1580      1      1K to 6K\n",
       "1852             1852      1      1K to 6K\n",
       "1971             1971      1      1K to 6K\n",
       "2006             2006      1      1K to 6K\n",
       "2254             2254      1      1K to 6K\n",
       "3447             3447      1      1K to 6K\n",
       "4262             4262      1      1K to 6K\n",
       "4426             4426      1      1K to 6K\n",
       "5727             5727      1      1K to 6K\n",
       "6432             6432      1     6K to 10K\n",
       "7343             7343      1     6K to 10K\n",
       "9840             9840      1     6K to 10K\n",
       "10069           10069      1    10K to 30K\n",
       "12327           12327      1    10K to 30K\n",
       "12522           12522      1    10K to 30K\n",
       "12712           12712      1    10K to 30K\n",
       "16081           16081      1    10K to 30K\n",
       "19287           19287      1    10K to 30K\n",
       "22168           22168      1    10K to 30K\n",
       "29969           29969      1    10K to 30K\n",
       "31427           31427      1    30K to 50K\n",
       "36440           36440      1    30K to 50K\n",
       "39789           39789      1    30K to 50K\n",
       "80243           80243      1   50K to 100K\n",
       "133655         133655      1  100K to 150K\n",
       "140794         140794      1  100K to 150K\n",
       "\n",
       "[97 rows x 3 columns]"
      ]
     },
     "execution_count": 56,
     "metadata": {},
     "output_type": "execute_result"
    }
   ],
   "source": [
    "df_mode_dict.iloc[50:]"
   ]
  },
  {
   "cell_type": "code",
   "execution_count": 57,
   "metadata": {
    "collapsed": false
   },
   "outputs": [
    {
     "data": {
      "text/plain": [
       "DescribeResult(nobs=399, minmax=(1, 140794), mean=1707.1979949874687, variance=125050201.11899096, skewness=10.144399415922146, kurtosis=113.09548750905759)"
      ]
     },
     "execution_count": 57,
     "metadata": {},
     "output_type": "execute_result"
    }
   ],
   "source": [
    "from scipy import stats\n",
    "\n",
    "stats.describe(bah)"
   ]
  },
  {
   "cell_type": "markdown",
   "metadata": {},
   "source": [
    "#### Misspelled streets"
   ]
  },
  {
   "cell_type": "code",
   "execution_count": 58,
   "metadata": {
    "collapsed": false
   },
   "outputs": [
    {
     "name": "stdout",
     "output_type": "stream",
     "text": [
      "total addresses in Bergen: 84625\n",
      "number of streetnames: 2231\n"
     ]
    }
   ],
   "source": [
    "#Getting counts for streetnames and addresses\n",
    "\n",
    "aggregated = bergen.aggregate([  \n",
    "        {'$match' : {'address': {'$exists' : True } } },\n",
    "        { \"$group\" : { \n",
    "                \"_id\" : \"$address.street\",\"count\" : { \"$sum\" : 1} } }\n",
    "    ])\n",
    "\n",
    "household_count = 0\n",
    "unique_street_count = 0\n",
    "addresses_on_street = {}\n",
    "\n",
    "for doc in aggregated:\n",
    "    household_count += doc['count']\n",
    "    unique_street_count += 1\n",
    "    \n",
    "    addresses_on_street[doc['_id']] = doc['count']\n",
    "\n",
    "print(\"total addresses in Bergen:\", household_count)\n",
    "print(\"number of streetnames:\", unique_street_count)"
   ]
  },
  {
   "cell_type": "code",
   "execution_count": 59,
   "metadata": {
    "collapsed": false
   },
   "outputs": [
    {
     "data": {
      "text/html": [
       "<b>Streets with most addresses on them:</b>"
      ],
      "text/plain": [
       "<IPython.core.display.HTML object>"
      ]
     },
     "metadata": {},
     "output_type": "display_data"
    },
    {
     "name": "stdout",
     "output_type": "stream",
     "text": [
      "Myrdalskogen 442\n",
      "Askvegen 397\n",
      "Søråshøgda 377\n",
      "Kringlebotn 304\n",
      "Flaktveitvegen 293\n",
      "Stongafjellsvegen 289\n",
      "Hjellestadvegen 277\n",
      "Hetlevikåsen 276\n",
      "Langarinden 273\n",
      "Nipedalen 250\n"
     ]
    }
   ],
   "source": [
    "#Taking a look at the streets with the most addresses\n",
    "\n",
    "from operator import itemgetter\n",
    "\n",
    "streetnames_sorted_dict = dict(sorted(addresses_on_street.items(), key=lambda x: x[1], reverse=True)[:10])\n",
    "streetnames_sorted_list = sorted(addresses_on_street.items(), key=lambda x: x[1], reverse=True)\n",
    "\n",
    "\n",
    "display(HTML(\"<b>Streets with most addresses on them:</b>\"))\n",
    "\n",
    "for street,count in streetnames_sorted_list[0:10]:\n",
    "    print(street,count)"
   ]
  },
  {
   "cell_type": "code",
   "execution_count": 63,
   "metadata": {
    "collapsed": true
   },
   "outputs": [],
   "source": [
    "#Checking for potential duplicate data due to misspelled street names\n",
    "\n",
    "import difflib\n",
    "from fuzzywuzzy import fuzz\n",
    "\n",
    "def fuzzy_streets(ratio,house_count):\n",
    "    \n",
    "    fuzzy_matches = list()\n",
    "    compare_count = 0\n",
    "    \n",
    "    for k1 in streetnames_sorted_list:\n",
    "\n",
    "        if k1[0] is None:\n",
    "            print(\"Addresses without street name:\",k1[1])\n",
    "\n",
    "        #Only comparing street names with less addresses than house_count\n",
    "        elif k1[1] <= house_count:\n",
    "            \n",
    "            compare_count += 1\n",
    "\n",
    "            for k2 in streetnames_sorted_list:\n",
    "\n",
    "                if k2[0] is None:\n",
    "                    pass\n",
    "\n",
    "                elif k2[0] == k1[0]:\n",
    "                    pass\n",
    "\n",
    "                else:                    \n",
    "                    \n",
    "                    fuzz_ratio = fuzz.ratio(k1[0],k2[0])\n",
    "                    \n",
    "                    if fuzz_ratio >= ratio:\n",
    "                        fuzzy_matches.append({k1: k2,\"fuzz ratio\": fuzz_ratio})\n",
    "\n",
    "    print(\"Number of street names compared: {0} of {1}\".format(compare_count,len(streetnames_sorted_list)))\n",
    "    \n",
    "    return fuzzy_matches"
   ]
  },
  {
   "cell_type": "code",
   "execution_count": 64,
   "metadata": {
    "collapsed": false
   },
   "outputs": [
    {
     "name": "stdout",
     "output_type": "stream",
     "text": [
      "Addresses without street name: 184\n",
      "Number of street names compared: 526 of 2231\n"
     ]
    }
   ],
   "source": [
    "potential_misspellings = fuzzy_streets(92,10)"
   ]
  },
  {
   "cell_type": "code",
   "execution_count": 65,
   "metadata": {
    "collapsed": false
   },
   "outputs": [
    {
     "data": {
      "text/html": [
       "<div>\n",
       "<table border=\"1\" class=\"dataframe\">\n",
       "  <thead>\n",
       "    <tr style=\"text-align: right;\">\n",
       "      <th></th>\n",
       "      <th>high_spelling</th>\n",
       "      <th>high_count</th>\n",
       "      <th>low_spelling</th>\n",
       "      <th>low_count</th>\n",
       "      <th>fuzz_ratio</th>\n",
       "    </tr>\n",
       "  </thead>\n",
       "  <tbody>\n",
       "    <tr>\n",
       "      <th>7</th>\n",
       "      <td>Austrevågen</td>\n",
       "      <td>21</td>\n",
       "      <td>Austevågen</td>\n",
       "      <td>5</td>\n",
       "      <td>95</td>\n",
       "    </tr>\n",
       "    <tr>\n",
       "      <th>18</th>\n",
       "      <td>Bønesskogen</td>\n",
       "      <td>222</td>\n",
       "      <td>Børnesskogen</td>\n",
       "      <td>1</td>\n",
       "      <td>96</td>\n",
       "    </tr>\n",
       "    <tr>\n",
       "      <th>13</th>\n",
       "      <td>C. Sundts gate</td>\n",
       "      <td>53</td>\n",
       "      <td>C.Sundtsgate</td>\n",
       "      <td>2</td>\n",
       "      <td>92</td>\n",
       "    </tr>\n",
       "    <tr>\n",
       "      <th>1</th>\n",
       "      <td>Dreggsallmenningen</td>\n",
       "      <td>10</td>\n",
       "      <td>Dreggsallmenning</td>\n",
       "      <td>1</td>\n",
       "      <td>94</td>\n",
       "    </tr>\n",
       "    <tr>\n",
       "      <th>19</th>\n",
       "      <td>Espelandsvegen</td>\n",
       "      <td>76</td>\n",
       "      <td>Espelandsveien</td>\n",
       "      <td>1</td>\n",
       "      <td>93</td>\n",
       "    </tr>\n",
       "    <tr>\n",
       "      <th>5</th>\n",
       "      <td>Flyplassvegen</td>\n",
       "      <td>27</td>\n",
       "      <td>Flyplassveien</td>\n",
       "      <td>7</td>\n",
       "      <td>92</td>\n",
       "    </tr>\n",
       "    <tr>\n",
       "      <th>6</th>\n",
       "      <td>Haakon Sheteligs plass</td>\n",
       "      <td>6</td>\n",
       "      <td>Haakon Shetelings plass</td>\n",
       "      <td>2</td>\n",
       "      <td>98</td>\n",
       "    </tr>\n",
       "    <tr>\n",
       "      <th>17</th>\n",
       "      <td>Hallvardsvegen</td>\n",
       "      <td>14</td>\n",
       "      <td>Halvardsvegen</td>\n",
       "      <td>1</td>\n",
       "      <td>96</td>\n",
       "    </tr>\n",
       "    <tr>\n",
       "      <th>2</th>\n",
       "      <td>Herman Foss’ gate</td>\n",
       "      <td>9</td>\n",
       "      <td>Herman Foss' gate</td>\n",
       "      <td>1</td>\n",
       "      <td>94</td>\n",
       "    </tr>\n",
       "    <tr>\n",
       "      <th>22</th>\n",
       "      <td>Lars Hilles gate</td>\n",
       "      <td>26</td>\n",
       "      <td>Lars Hillesgate</td>\n",
       "      <td>1</td>\n",
       "      <td>97</td>\n",
       "    </tr>\n",
       "    <tr>\n",
       "      <th>9</th>\n",
       "      <td>Nesttunvegen</td>\n",
       "      <td>59</td>\n",
       "      <td>Nesttunveien</td>\n",
       "      <td>3</td>\n",
       "      <td>92</td>\n",
       "    </tr>\n",
       "    <tr>\n",
       "      <th>15</th>\n",
       "      <td>Siljustølvegen</td>\n",
       "      <td>14</td>\n",
       "      <td>Siljustølveien</td>\n",
       "      <td>1</td>\n",
       "      <td>93</td>\n",
       "    </tr>\n",
       "    <tr>\n",
       "      <th>4</th>\n",
       "      <td>Solhaugvegen</td>\n",
       "      <td>22</td>\n",
       "      <td>Solhaugveien</td>\n",
       "      <td>7</td>\n",
       "      <td>92</td>\n",
       "    </tr>\n",
       "    <tr>\n",
       "      <th>20</th>\n",
       "      <td>Søråshøgda</td>\n",
       "      <td>377</td>\n",
       "      <td>Smøråshøgda</td>\n",
       "      <td>1</td>\n",
       "      <td>95</td>\n",
       "    </tr>\n",
       "    <tr>\n",
       "      <th>12</th>\n",
       "      <td>Torgallmenningen</td>\n",
       "      <td>29</td>\n",
       "      <td>Torgalmenningen</td>\n",
       "      <td>2</td>\n",
       "      <td>97</td>\n",
       "    </tr>\n",
       "    <tr>\n",
       "      <th>23</th>\n",
       "      <td>Totlandsvegen</td>\n",
       "      <td>211</td>\n",
       "      <td>Totlandsveien</td>\n",
       "      <td>1</td>\n",
       "      <td>92</td>\n",
       "    </tr>\n",
       "    <tr>\n",
       "      <th>10</th>\n",
       "      <td>Travparkvegen</td>\n",
       "      <td>3</td>\n",
       "      <td>Travparkveien</td>\n",
       "      <td>1</td>\n",
       "      <td>92</td>\n",
       "    </tr>\n",
       "    <tr>\n",
       "      <th>8</th>\n",
       "      <td>Vestre Mulelvsmauet</td>\n",
       "      <td>4</td>\n",
       "      <td>Østre Mulelvsmauet</td>\n",
       "      <td>3</td>\n",
       "      <td>92</td>\n",
       "    </tr>\n",
       "    <tr>\n",
       "      <th>16</th>\n",
       "      <td>Vestre Murallmenningen</td>\n",
       "      <td>27</td>\n",
       "      <td>Vestre murallmenningen</td>\n",
       "      <td>1</td>\n",
       "      <td>95</td>\n",
       "    </tr>\n",
       "    <tr>\n",
       "      <th>3</th>\n",
       "      <td>Vilhelm Bjerknes’ vei</td>\n",
       "      <td>111</td>\n",
       "      <td>Vilhelm Bjerknesvei</td>\n",
       "      <td>9</td>\n",
       "      <td>95</td>\n",
       "    </tr>\n",
       "  </tbody>\n",
       "</table>\n",
       "</div>"
      ],
      "text/plain": [
       "             high_spelling high_count             low_spelling low_count  \\\n",
       "7              Austrevågen         21               Austevågen         5   \n",
       "18             Bønesskogen        222             Børnesskogen         1   \n",
       "13          C. Sundts gate         53             C.Sundtsgate         2   \n",
       "1       Dreggsallmenningen         10         Dreggsallmenning         1   \n",
       "19          Espelandsvegen         76           Espelandsveien         1   \n",
       "5            Flyplassvegen         27            Flyplassveien         7   \n",
       "6   Haakon Sheteligs plass          6  Haakon Shetelings plass         2   \n",
       "17          Hallvardsvegen         14            Halvardsvegen         1   \n",
       "2        Herman Foss’ gate          9        Herman Foss' gate         1   \n",
       "22        Lars Hilles gate         26          Lars Hillesgate         1   \n",
       "9             Nesttunvegen         59             Nesttunveien         3   \n",
       "15          Siljustølvegen         14           Siljustølveien         1   \n",
       "4             Solhaugvegen         22             Solhaugveien         7   \n",
       "20              Søråshøgda        377              Smøråshøgda         1   \n",
       "12        Torgallmenningen         29          Torgalmenningen         2   \n",
       "23           Totlandsvegen        211            Totlandsveien         1   \n",
       "10           Travparkvegen          3            Travparkveien         1   \n",
       "8      Vestre Mulelvsmauet          4       Østre Mulelvsmauet         3   \n",
       "16  Vestre Murallmenningen         27   Vestre murallmenningen         1   \n",
       "3    Vilhelm Bjerknes’ vei        111      Vilhelm Bjerknesvei         9   \n",
       "\n",
       "   fuzz_ratio  \n",
       "7          95  \n",
       "18         96  \n",
       "13         92  \n",
       "1          94  \n",
       "19         93  \n",
       "5          92  \n",
       "6          98  \n",
       "17         96  \n",
       "2          94  \n",
       "22         97  \n",
       "9          92  \n",
       "15         93  \n",
       "4          92  \n",
       "20         95  \n",
       "12         97  \n",
       "23         92  \n",
       "10         92  \n",
       "8          92  \n",
       "16         95  \n",
       "3          95  "
      ]
     },
     "execution_count": 65,
     "metadata": {},
     "output_type": "execute_result"
    }
   ],
   "source": [
    "#Printing out the potential misspellings\n",
    "\n",
    "df_potential_misspellings = pd.DataFrame(columns = [\n",
    "        'high_spelling','high_count','low_spelling','low_count','fuzz_ratio'])\n",
    "\n",
    "#Adding index to make it easier to sort out the items I need to investigate further\n",
    "count = 0\n",
    "\n",
    "for spellings in potential_misspellings:\n",
    "    count += 1\n",
    "    df_potential_misspellings.loc[count] = None\n",
    "    for key, val in spellings.items():\n",
    "        if type(key) == tuple:\n",
    "            if key[1] > val[1]:\n",
    "                df_potential_misspellings.loc[count]['high_spelling'] = key[0]\n",
    "                df_potential_misspellings.loc[count]['low_spelling'] = val[0]\n",
    "                df_potential_misspellings.loc[count]['high_count'] = key[1]\n",
    "                df_potential_misspellings.loc[count]['low_count'] = val[1]\n",
    "\n",
    "            else:\n",
    "                df_potential_misspellings.loc[count]['high_spelling'] = val[0]\n",
    "                df_potential_misspellings.loc[count]['low_spelling'] = key[0]\n",
    "                df_potential_misspellings.loc[count]['high_count'] = val[1]\n",
    "                df_potential_misspellings.loc[count]['low_count'] = key[1]\n",
    "        else:\n",
    "            df_potential_misspellings.loc[count]['fuzz_ratio'] = val\n",
    "\n",
    "df_potential_misspellings.drop_duplicates().sort_values('high_spelling',ascending=True)"
   ]
  },
  {
   "cell_type": "markdown",
   "metadata": {},
   "source": [
    "Contributors"
   ]
  },
  {
   "cell_type": "code",
   "execution_count": null,
   "metadata": {
    "collapsed": true
   },
   "outputs": [],
   "source": [
    "#Getting counts for streetnames and addresses\n",
    "\n",
    "user_count = bergen.aggregate([  \n",
    "        { \"$group\" : { \n",
    "                \"_id\" : { \"uid\": \"$created.uid\", \"mset\": {\"username\": \"$created.user\" } } } },\n",
    "        { \"$unwind\" : \"$mset\"},\n",
    "        { \"$group\" : { \"_id\" : \"$uid\",\n",
    "                      \"count\" : { \"$sum\" : 1} } }        \n",
    "    ])\n",
    "\n",
    "# household_count = 0\n",
    "# unique_street_count = 0\n",
    "# addresses_on_street = {}\n",
    "\n",
    "# for doc in aggregated:\n",
    "#     household_count += doc['count']\n",
    "#     unique_street_count += 1\n",
    "    \n",
    "#     addresses_on_street[doc['_id']] = doc['count']\n",
    "\n",
    "# print(\"total addresses in Bergen:\", household_count)\n",
    "# print(\"number of streetnames:\", unique_street_count)\n",
    "\n",
    "for doc in user_count:\n",
    "    print(doc)"
   ]
  },
  {
   "cell_type": "markdown",
   "metadata": {},
   "source": [
    "### Plan going forward:\n",
    "\n",
    "- Export list of duplicate addresses in two formats: full data in json/osm, addresses in 2 or 3 columns (3 with postcode)\n",
    "- Wrangling file: add postcode cleaning"
   ]
  }
 ],
 "metadata": {
  "anaconda-cloud": {},
  "kernelspec": {
   "display_name": "Python 3",
   "language": "python",
   "name": "python3"
  },
  "language_info": {
   "codemirror_mode": {
    "name": "ipython",
    "version": 3
   },
   "file_extension": ".py",
   "mimetype": "text/x-python",
   "name": "python",
   "nbconvert_exporter": "python",
   "pygments_lexer": "ipython3",
   "version": "3.6.0"
  }
 },
 "nbformat": 4,
 "nbformat_minor": 0
}
