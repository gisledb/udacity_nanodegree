{
 "cells": [
  {
   "cell_type": "markdown",
   "metadata": {
    "deletable": true,
    "editable": true
   },
   "source": [
    "The purpose of this file is to perform experiments and keep notes. I prefer to do it this way to keep the other files cleaner and minimize necessary cleanup work later."
   ]
  },
  {
   "cell_type": "code",
   "execution_count": 1,
   "metadata": {
    "collapsed": true,
    "deletable": true,
    "editable": true
   },
   "outputs": [],
   "source": [
    "from collections import defaultdict\n",
    "from pprint import pprint"
   ]
  },
  {
   "cell_type": "code",
   "execution_count": 2,
   "metadata": {
    "collapsed": true,
    "deletable": true,
    "editable": true
   },
   "outputs": [],
   "source": [
    "import pandas as pd\n",
    "from pymongo import MongoClient\n",
    "\n",
    "client = MongoClient()\n",
    "db = client.osm\n",
    "bergen = db.bergen\n",
    "\n",
    "# df = pd.DataFrame(list(db.bergen.find()))"
   ]
  },
  {
   "cell_type": "code",
   "execution_count": 3,
   "metadata": {
    "collapsed": false,
    "deletable": true,
    "editable": true
   },
   "outputs": [],
   "source": [
    "#Creating function to list documents with a given feature\n",
    "\n",
    "def docs_with_feature(feature,max_docs=5,value=None):\n",
    "    \n",
    "    if value:\n",
    "        query_cursor = bergen.find( { feature: value } )\n",
    "    else:\n",
    "        query_cursor = bergen.find( { feature: {'$exists': True} } )\n",
    "    cursor_count = query_cursor.count()\n",
    "    \n",
    "    print(cursor_count,\" documents have feature.\")\n",
    "    \n",
    "    if cursor_count < max_docs+1:\n",
    "        for doc in query_cursor:\n",
    "            pprint(doc)\n",
    "            print('----')\n",
    "            \n",
    "    else:\n",
    "        count = 0\n",
    "        print(\"Printing first {0} matching documents.\".format(max_docs) )\n",
    "        \n",
    "        for doc in query_cursor:\n",
    "            count += 1\n",
    "            if count < max_docs:\n",
    "                pprint(doc)\n",
    "                print('----')\n",
    "    "
   ]
  },
  {
   "cell_type": "code",
   "execution_count": 4,
   "metadata": {
    "collapsed": false,
    "deletable": true,
    "editable": true
   },
   "outputs": [
    {
     "name": "stdout",
     "output_type": "stream",
     "text": [
      "3423  documents have feature.\n",
      "Printing first 5 matching documents.\n",
      "{'_id': ObjectId('58ee99f28a51df7ed61f5595'),\n",
      " 'address': {'city': 'Frekhaug',\n",
      "             'housenumber': '3',\n",
      "             'postcode': '5918',\n",
      "             'street': 'Holtermandsvegen'},\n",
      " 'amenity': 'school',\n",
      " 'created': {'changeset': '25431710',\n",
      "             'timestamp': '2014-09-14T13:03:49Z',\n",
      "             'uid': '88164',\n",
      "             'user': 'Med',\n",
      "             'version': '4'},\n",
      " 'id': '659034',\n",
      " 'name': 'Nordhordaland folkehøgskule',\n",
      " 'operator': 'Nordhordland Indremisjon',\n",
      " 'pos': [60.514765, 5.2414095],\n",
      " 'type': 'node',\n",
      " 'website': 'http://www.skolen.info/',\n",
      " 'wikipedia': 'no:Nordhordland Folkehøgskule'}\n",
      "----\n",
      "{'_id': ObjectId('58ee99f28a51df7ed61f5bae'),\n",
      " 'access': 'permissive',\n",
      " 'amenity': 'parking_entrance',\n",
      " 'created': {'changeset': '37097944',\n",
      "             'timestamp': '2016-02-09T10:20:29Z',\n",
      "             'uid': '1965308',\n",
      "             'user': 'FredrikLindseth',\n",
      "             'version': '11'},\n",
      " 'foot': 'permissive',\n",
      " 'id': '15992473',\n",
      " 'name': 'Klostergarasjen',\n",
      " 'operator': 'Bergen Parkering AS',\n",
      " 'parking': 'underground',\n",
      " 'pos': [60.3935479, 5.3171617],\n",
      " 'type': 'underground',\n",
      " 'vehicle': 'permissive',\n",
      " 'wheelchair': 'yes'}\n",
      "----\n",
      "{'_id': ObjectId('58ee99f28a51df7ed61f611c'),\n",
      " 'amenity': 'library',\n",
      " 'created': {'changeset': '27870884',\n",
      "             'timestamp': '2015-01-02T19:03:14Z',\n",
      "             'uid': '1694',\n",
      "             'user': 'M E Menk',\n",
      "             'version': '4'},\n",
      " 'id': '21468575',\n",
      " 'name': 'Meland Bibliotet',\n",
      " 'pos': [60.5178256, 5.2389793],\n",
      " 'type': 'node'}\n",
      "----\n",
      "{'_id': ObjectId('58ee99f28a51df7ed61f6171'),\n",
      " 'amenity': 'post_box',\n",
      " 'created': {'changeset': '36880099',\n",
      "             'timestamp': '2016-01-29T14:09:35Z',\n",
      "             'uid': '1965308',\n",
      "             'user': 'FredrikLindseth',\n",
      "             'version': '4'},\n",
      " 'id': '21558362',\n",
      " 'level': '0',\n",
      " 'pos': [60.3892575, 5.3319294],\n",
      " 'type': 'node'}\n",
      "----\n"
     ]
    }
   ],
   "source": [
    "docs_with_feature('amenity')"
   ]
  },
  {
   "cell_type": "code",
   "execution_count": 5,
   "metadata": {
    "collapsed": false,
    "deletable": true,
    "editable": true
   },
   "outputs": [],
   "source": [
    "feature_list = list(db.bergen.find())"
   ]
  },
  {
   "cell_type": "code",
   "execution_count": 6,
   "metadata": {
    "collapsed": false,
    "deletable": true,
    "editable": true
   },
   "outputs": [
    {
     "data": {
      "text/plain": [
       "[{'_id': ObjectId('58ee99f28a51df7ed61f55fb'),\n",
       "  'created': {'changeset': '34180559',\n",
       "   'timestamp': '2015-09-22T11:02:06Z',\n",
       "   'uid': '3252623',\n",
       "   'user': 'Alex_K_B',\n",
       "   'version': '8'},\n",
       "  'highway': 'traffic_signals',\n",
       "  'id': '674462',\n",
       "  'pos': [60.3924968, 5.3184896],\n",
       "  'type': 'node'}]"
      ]
     },
     "execution_count": 6,
     "metadata": {},
     "output_type": "execute_result"
    }
   ],
   "source": [
    "feature_list[1000:1001]"
   ]
  },
  {
   "cell_type": "code",
   "execution_count": 7,
   "metadata": {
    "collapsed": false,
    "deletable": true,
    "editable": true
   },
   "outputs": [
    {
     "ename": "NameError",
     "evalue": "name 'df' is not defined",
     "output_type": "error",
     "traceback": [
      "\u001b[0;31m---------------------------------------------------------------------------\u001b[0m",
      "\u001b[0;31mNameError\u001b[0m                                 Traceback (most recent call last)",
      "\u001b[0;32m<ipython-input-7-0c6dd7450b9e>\u001b[0m in \u001b[0;36m<module>\u001b[0;34m()\u001b[0m\n\u001b[0;32m----> 1\u001b[0;31m \u001b[0mdf\u001b[0m\u001b[0;34m[\u001b[0m\u001b[0;34m'created'\u001b[0m\u001b[0;34m]\u001b[0m\u001b[0;34m[\u001b[0m\u001b[0;36m1\u001b[0m\u001b[0;34m:\u001b[0m\u001b[0;36m10\u001b[0m\u001b[0;34m]\u001b[0m\u001b[0;34m\u001b[0m\u001b[0m\n\u001b[0m",
      "\u001b[0;31mNameError\u001b[0m: name 'df' is not defined"
     ]
    }
   ],
   "source": [
    "df['created'][1:10]"
   ]
  },
  {
   "cell_type": "code",
   "execution_count": null,
   "metadata": {
    "collapsed": false,
    "deletable": true,
    "editable": true
   },
   "outputs": [],
   "source": [
    "df['address'][1:10]"
   ]
  },
  {
   "cell_type": "code",
   "execution_count": null,
   "metadata": {
    "collapsed": false,
    "deletable": true,
    "editable": true
   },
   "outputs": [],
   "source": [
    "tmp_find_one= bergen.find_one()\n",
    "\n",
    "for col in tmp_find_one: \n",
    "    print(col)"
   ]
  },
  {
   "cell_type": "code",
   "execution_count": null,
   "metadata": {
    "collapsed": false,
    "deletable": true,
    "editable": true
   },
   "outputs": [],
   "source": [
    "from IPython.display import display\n",
    "from IPython.display import HTML\n",
    "\n",
    "#Getting count of documents with address field\n",
    "\n",
    "address_query = { 'address' : {'$exists' : True } }\n",
    "address_documents = db.bergen.find(address_query)\n",
    "address_count = address_documents.count()\n",
    "\n",
    "address_count"
   ]
  },
  {
   "cell_type": "code",
   "execution_count": null,
   "metadata": {
    "collapsed": false,
    "deletable": true,
    "editable": true
   },
   "outputs": [],
   "source": [
    "address_documents = db.bergen.find(address_query)#, { \n",
    "#         'address.street': 1,'address.housenumber': 1,'address.postcode': 1,'address.city': 1\n",
    "#     }\n",
    "#                                   )"
   ]
  },
  {
   "cell_type": "code",
   "execution_count": null,
   "metadata": {
    "collapsed": true,
    "deletable": true,
    "editable": true
   },
   "outputs": [],
   "source": [
    "tmp_list = list(address_documents)"
   ]
  },
  {
   "cell_type": "code",
   "execution_count": null,
   "metadata": {
    "collapsed": false,
    "deletable": true,
    "editable": true
   },
   "outputs": [],
   "source": [
    "len(tmp_list)"
   ]
  },
  {
   "cell_type": "code",
   "execution_count": null,
   "metadata": {
    "collapsed": false,
    "deletable": true,
    "editable": true
   },
   "outputs": [],
   "source": [
    "tmp_list[1]"
   ]
  },
  {
   "cell_type": "code",
   "execution_count": null,
   "metadata": {
    "collapsed": true,
    "deletable": true,
    "editable": true
   },
   "outputs": [],
   "source": [
    "from pprint import pprint"
   ]
  },
  {
   "cell_type": "code",
   "execution_count": null,
   "metadata": {
    "collapsed": false,
    "deletable": true,
    "editable": true
   },
   "outputs": [],
   "source": [
    "\n",
    "\n",
    "to_df = list()\n",
    "# columns = ['street','housenumber','postcode','city']\n",
    "count = 0 \n",
    "\n",
    "for doc in tmp_list:\n",
    "    record = { 'id': doc['id'], 'type': doc['type'] }\n",
    "    \n",
    "    for key,val in doc['address'].items():\n",
    "        record[key] = val\n",
    "        \n",
    "    for key,val in doc['created'].items():\n",
    "        record['created_' + key] = val\n",
    "    \n",
    "    if 'pos' in doc.keys():\n",
    "        record['lat'] = doc['pos'][0]\n",
    "        record['lon'] = doc['pos'][1]\n",
    "    \n",
    "    to_df.append(record)"
   ]
  },
  {
   "cell_type": "code",
   "execution_count": null,
   "metadata": {
    "collapsed": false,
    "deletable": true,
    "editable": true
   },
   "outputs": [],
   "source": [
    "tmp_list[1]"
   ]
  },
  {
   "cell_type": "code",
   "execution_count": null,
   "metadata": {
    "collapsed": false,
    "deletable": true,
    "editable": true
   },
   "outputs": [],
   "source": [
    "from collections import defaultdict\n",
    "# tmp_set = set()\n",
    "tmp_def_dict = defaultdict(int)\n",
    "for doc in tmp_list:\n",
    "    \n",
    "    for k,v in doc.items():\n",
    "        \n",
    "#         if k in ('address','created'):\n",
    "        try:\n",
    "            for key,val in v.items():\n",
    "#             tmp_set.add(k+'_'+key)\n",
    "                tmp_def_dict[k+':'+key] += 1\n",
    "#         else:\n",
    "        except AttributeError:\n",
    "            tmp_def_dict[k] += 1\n",
    "#             tmp_set.add(k)\n",
    "    "
   ]
  },
  {
   "cell_type": "code",
   "execution_count": null,
   "metadata": {
    "collapsed": false,
    "deletable": true,
    "editable": true
   },
   "outputs": [],
   "source": [
    "tmp_def_dict"
   ]
  },
  {
   "cell_type": "code",
   "execution_count": null,
   "metadata": {
    "collapsed": false,
    "deletable": true,
    "editable": true
   },
   "outputs": [],
   "source": [
    "tmp_def_dict.keys()"
   ]
  },
  {
   "cell_type": "code",
   "execution_count": null,
   "metadata": {
    "collapsed": false,
    "deletable": true,
    "editable": true
   },
   "outputs": [],
   "source": [
    "for doc in bergen.find( {'name': {'$exists': True}}):\n",
    "    pprint(doc)"
   ]
  },
  {
   "cell_type": "code",
   "execution_count": null,
   "metadata": {
    "collapsed": false,
    "deletable": true,
    "editable": true
   },
   "outputs": [],
   "source": [
    "tmp_s = pd.Series(tmp_def_dict)\n",
    "\n",
    "tmp_s.sort_values(ascending=False).to_frame('count')"
   ]
  },
  {
   "cell_type": "code",
   "execution_count": null,
   "metadata": {
    "collapsed": false,
    "deletable": true,
    "editable": true
   },
   "outputs": [],
   "source": [
    "pd.DataFrame(tmp_def_dict,index=range(len(tmp_def_dict.keys())) )"
   ]
  },
  {
   "cell_type": "code",
   "execution_count": null,
   "metadata": {
    "collapsed": false,
    "deletable": true,
    "editable": true
   },
   "outputs": [],
   "source": [
    "tmp_set"
   ]
  },
  {
   "cell_type": "code",
   "execution_count": null,
   "metadata": {
    "collapsed": false,
    "deletable": true,
    "editable": true
   },
   "outputs": [],
   "source": [
    "df_address = pd.DataFrame(to_df, columns = [\n",
    "        'id','street','housenumber','city','postcode','created_uid','created_user',\n",
    "        'created_version','created_timestamp','created_uid',\n",
    "    'lat','lon','type'] )"
   ]
  },
  {
   "cell_type": "code",
   "execution_count": null,
   "metadata": {
    "collapsed": false,
    "deletable": true,
    "editable": true
   },
   "outputs": [],
   "source": [
    "df_address[1:10]"
   ]
  },
  {
   "cell_type": "code",
   "execution_count": null,
   "metadata": {
    "collapsed": false,
    "deletable": true,
    "editable": true
   },
   "outputs": [],
   "source": [
    "df_address.count()"
   ]
  },
  {
   "cell_type": "code",
   "execution_count": null,
   "metadata": {
    "collapsed": false,
    "deletable": true,
    "editable": true
   },
   "outputs": [],
   "source": [
    "values = []\n",
    "for cc in db.bergen.find():\n",
    "  values.append(cc['created'])\n",
    "\n",
    "print(pd.DataFrame(values)[1:10])"
   ]
  },
  {
   "cell_type": "code",
   "execution_count": null,
   "metadata": {
    "collapsed": false,
    "deletable": true,
    "editable": true
   },
   "outputs": [],
   "source": [
    "import pandas as pd\n",
    "\n",
    "postcodes_per_municipality = pd.read_csv('data/Postnummerregister_ansi.tsv', encoding='utf-8',delimiter='\\t',header=0, names=[\n",
    "        'postal_code','postal_place','muni_number','muni_name','category'],\n",
    "            dtype = {'postal_code': str, 'municipality_number': str})\n",
    "\n",
    "postcodes_per_municipality.head(5)"
   ]
  },
  {
   "cell_type": "code",
   "execution_count": null,
   "metadata": {
    "collapsed": true,
    "deletable": true,
    "editable": true
   },
   "outputs": [],
   "source": [
    "postcodes_per_municipality['postcodes_per_municipality'] = pd.to_numeric(postcodes_per_municipality['postal_code'])"
   ]
  },
  {
   "cell_type": "code",
   "execution_count": null,
   "metadata": {
    "collapsed": false,
    "deletable": true,
    "editable": true
   },
   "outputs": [],
   "source": [
    "import timeit\n",
    "tmp_sl = postcodes_per_municipality['postal_code']\n",
    "\n",
    "\n",
    "start = timeit.timeit()\n",
    "for i in tmp_sl:\n",
    "    if i == 5151:\n",
    "        print('series for and if equal')\n",
    "\n",
    "end = timeit.timeit()\n",
    "print(end - start)\n",
    "\n",
    "start = timeit.timeit()\n",
    "\n",
    "if 5140 in tmp_sl.values:\n",
    "        print('series if in')\n",
    "    \n",
    "end = timeit.timeit()\n",
    "print(end - start)\n",
    "\n",
    "tmp_sl = list(tmp_sl)\n",
    "\n",
    "start = timeit.timeit()\n",
    "for i in tmp_sl:\n",
    "    if i == 5151:\n",
    "        print('list for and if equal')\n",
    "\n",
    "end = timeit.timeit()\n",
    "print(end - start)\n",
    "\n",
    "start = timeit.timeit()\n",
    "\n",
    "if 5140 in tmp_sl:\n",
    "        print('list if in')\n",
    "    \n",
    "end = timeit.timeit()\n",
    "print(end - start)\n",
    "\n",
    "# for func in f:\n",
    "#     f = ['value = [val[5] for col,val in dictionary.items()]', 'value = s.loc[5]', 'value = df.iloc[5]']\n",
    "\n",
    "#     print(min(timeit.Timer(func, setup).repeat(3, 100000)))"
   ]
  },
  {
   "cell_type": "code",
   "execution_count": null,
   "metadata": {
    "collapsed": false,
    "deletable": true,
    "editable": true
   },
   "outputs": [],
   "source": [
    "%alias_magic t timeit\n",
    "\n",
    "import timeit\n",
    "tmp_sl = postcodes_per_municipality['postal_code']\n",
    "\n",
    "\n",
    "for i in tmp_sl:\n",
    "    if i == 5151:\n",
    "        print('series for and if equal')\n",
    "\n",
    "%t -n1 if str(5146) in tmp_sl.values: print('series if in')\n",
    "\n",
    "tmp_sl = list(tmp_sl)\n",
    "\n",
    "for i in tmp_sl: \n",
    "    if i == 5151: \n",
    "        print('list for and if equal')\n",
    "\n",
    "%t -n1 if str(5146) in tmp_sl: print('list if in')\n",
    "\n",
    "# for func in f:\n",
    "#     f = ['value = [val[5] for col,val in dictionary.items()]', 'value = s.loc[5]', 'value = df.iloc[5]']\n",
    "\n",
    "#     print(min(timeit.Timer(func, setup).repeat(3, 100000)))"
   ]
  },
  {
   "cell_type": "code",
   "execution_count": null,
   "metadata": {
    "collapsed": false,
    "deletable": true,
    "editable": true
   },
   "outputs": [],
   "source": [
    "tmp_sl = postcodes_per_municipality['postal_code']\n",
    "\n",
    "\n",
    "tmp_sl.values"
   ]
  },
  {
   "cell_type": "code",
   "execution_count": null,
   "metadata": {
    "collapsed": true,
    "deletable": true,
    "editable": true
   },
   "outputs": [],
   "source": [
    "#Removed cell February 9, 2017\n",
    "\n",
    "# aggregated = bergen.aggregate([  \n",
    "#         {'$match' :  { 'address': {'$exists' : True }, 'type': 'way' } },\n",
    "#         { \"$group\" : { \n",
    "#                 \"_id\" : \"$id\",\"count\" : { \"$sum\" : 1} } }\n",
    "#     ])\n",
    "\n",
    "# unique_street_count = 0\n",
    "\n",
    "# for doc in aggregated:\n",
    "# #     household_count += doc['count']\n",
    "#     unique_street_count += 1\n",
    "\n",
    "# print(unique_street_count)"
   ]
  },
  {
   "cell_type": "markdown",
   "metadata": {
    "collapsed": true,
    "deletable": true,
    "editable": true
   },
   "source": [
    "#Removed cell, February 9, 2017\n",
    "\n",
    "#EXPERIMENTAL, WILL BE REMOVED\n",
    "streetnames_sorted_dict = dict(sorted(addresses_on_street.items(), key=lambda x: x[1], reverse=True))\n",
    "\n",
    "for rec in streetnames_sorted_dict:\n",
    "    if streetnames_sorted_dict[rec] == 184:\n",
    "        print (rec,streetnames_sorted_dict[rec],type(rec))"
   ]
  },
  {
   "cell_type": "markdown",
   "metadata": {
    "collapsed": true,
    "deletable": true,
    "editable": true
   },
   "source": [
    "#Removed cell February 9, 2017\n",
    "\n",
    "#EXPERIMENTAL, WILL BE REMOVED\n",
    "tmp_agg = db.bergen.aggregate([\n",
    "         { \"$group\" : { \"_id\" : \"$address.street\",\n",
    "                       \"mset\" : {\n",
    "                         \"$addToSet\" : \"$address.house_number\"\n",
    "                 } } },\n",
    "         { \"$unwind\" : \"$mset\"},\n",
    "         { \"$group\" : { \"_id\" : \"$_id\",\n",
    "                       \"count\" : { \"$sum\" : 1} } },\n",
    "         { \"$sort\" : { \"count\" : -1 } },\n",
    "         { \"$limit\" : 10 } ] )\n",
    "\n",
    "for doc in tmp_agg:\n",
    "    print(doc)"
   ]
  },
  {
   "cell_type": "markdown",
   "metadata": {
    "collapsed": true,
    "deletable": true,
    "editable": true
   },
   "source": [
    "#Removed cell February 20, 2017\n",
    "\n",
    "#Converting list for dataframe usage\n",
    "to_df = []\n",
    "\n",
    "for dic in duplicate_addresses:\n",
    "    dictionary = dict()\n",
    "    \n",
    "#     for key,val in dic.items():\n",
    "#         dictionary[key] = val\n",
    "        \n",
    "#         if key == '_id':\n",
    "    for key,val in dic['_id'].items():\n",
    "        dictionary[key] = val\n",
    "        \n",
    "    dictionary['count'] = dic['count']\n",
    "                \n",
    "        \n",
    "    to_df.append(dictionary)\n",
    "    \n",
    "to_df"
   ]
  },
  {
   "cell_type": "markdown",
   "metadata": {
    "collapsed": true,
    "deletable": true,
    "editable": true
   },
   "source": [
    "#Removed from cleaning part February 20, 2017\n",
    "\n",
    "            if count < 10:\n",
    "                pass\n",
    "            elif count == 10:\n",
    "                pprint(data)\n",
    "            else:\n",
    "                break\n",
    "        \n",
    "        addr_count = 0\n",
    "        for node in data:\n",
    "            if (addr_count < 20) and 'address' in node.keys():-=0\n",
    "                addr_count += 1\n",
    "                pprint(node['address'])  "
   ]
  },
  {
   "cell_type": "code",
   "execution_count": null,
   "metadata": {
    "collapsed": false,
    "deletable": true,
    "editable": true
   },
   "outputs": [],
   "source": [
    "from collections import defaultdict\n",
    "\n",
    "user_count_query = bergen.aggregate( [\n",
    "   {\n",
    "     '$group': {\n",
    "        '_id' : { 'uid': '$created.uid', 'username': '$created.user' }\n",
    "           }\n",
    "        },\n",
    "   {\n",
    "     '$group': {\n",
    "        '_id': 'null',\n",
    "        'count': { '$sum': 1 }\n",
    "     }\n",
    "   }\n",
    "] )\n",
    "\n",
    "for doc in user_count_query:\n",
    "    user_count = doc['count']\n",
    "\n",
    "average_contributions = bergen.aggregate( [\n",
    "   {\n",
    "          '$group': \n",
    "            {\n",
    "                '_id' : \n",
    "                { 'uid': '$created.uid', 'username': '$created.user' },\n",
    "                'count': { '$sum': 1 } \n",
    "            } \n",
    "    },\n",
    "    { \n",
    "            '$group': \n",
    "            {\n",
    "                '_id': 'null',\n",
    "                'avg': { '$avg': '$count' } \n",
    "            }\n",
    "    }\n",
    "] )\n",
    "\n",
    "for doc in average_contributions:\n",
    "    user_average = round(doc['avg'],2)\n",
    "    \n",
    "grouped_users = list(bergen.aggregate([  \n",
    "        { \n",
    "            \"$group\" : \n",
    "            { \n",
    "                \"_id\" : { \"uid\": \"$created.uid\", \"username\": \"$created.user\" },\n",
    "                \"count\" : { \"$sum\" : 1} \n",
    "            } \n",
    "        },\n",
    "        { \"$sort\" : { \"count\" : 1 } }\n",
    "        ]))\n",
    "\n",
    "user_no = 0\n",
    "halfway = round(user_count / 2)\n",
    "mode_dict = defaultdict(int)\n",
    "\n",
    "for doc in grouped_users:\n",
    "        user_no += 1\n",
    "        val = doc['count']\n",
    "        if user_no == halfway:\n",
    "            user_median = val\n",
    "        \n",
    "        mode_dict[val] += 1\n",
    "\n",
    "user_mode = max(mode_dict.items(), key=lambda a: a[1])\n",
    "mode_percentage = round((user_mode[1] / user_count) * 100,2)\n",
    "            \n",
    "print(\"Total user count:\",user_count)\n",
    "print(\"Average contributions per user:\",user_average)\n",
    "print(\"Median contributions per user:\",user_median)\n",
    "print(\"Mode of contribution count: {0} contributors ({1}%) submitted {2} edit.\".format(\n",
    "    user_mode[1],mode_percentage,user_mode[0] ) )\n",
    "\n"
   ]
  },
  {
   "cell_type": "code",
   "execution_count": null,
   "metadata": {
    "collapsed": false,
    "deletable": true,
    "editable": true
   },
   "outputs": [],
   "source": [
    "import numpy as np\n",
    "from matplotlib import pyplot as plt\n",
    "% matplotlib inline\n",
    "\n",
    "\n",
    "mu, sigma = 100, 15\n",
    "x = mu + sigma*np.random.randn(10000)\n",
    "\n",
    "bah = np.array(list(doc['count'] for doc in grouped_users))\n",
    "\n",
    "print(len(x))\n",
    "\n",
    "plt.hist(bah,bins=100)\n"
   ]
  },
  {
   "cell_type": "code",
   "execution_count": null,
   "metadata": {
    "collapsed": true,
    "deletable": true,
    "editable": true
   },
   "outputs": [],
   "source": [
    "s_mode_dict = pd.Series(mode_dict)"
   ]
  },
  {
   "cell_type": "code",
   "execution_count": null,
   "metadata": {
    "collapsed": false,
    "deletable": true,
    "editable": true
   },
   "outputs": [],
   "source": [
    "df_mode_dict = pd.DataFrame(s_mode_dict,columns=['count'])"
   ]
  },
  {
   "cell_type": "code",
   "execution_count": null,
   "metadata": {
    "collapsed": false,
    "deletable": true,
    "editable": true
   },
   "outputs": [],
   "source": [
    "df_mode_dict['contributions'] = df_mode_dict.index"
   ]
  },
  {
   "cell_type": "code",
   "execution_count": null,
   "metadata": {
    "collapsed": false,
    "deletable": true,
    "editable": true
   },
   "outputs": [],
   "source": [
    "df_mode_dict = df_mode_dict[['contributions','count']]"
   ]
  },
  {
   "cell_type": "code",
   "execution_count": null,
   "metadata": {
    "collapsed": false,
    "deletable": true,
    "editable": true
   },
   "outputs": [],
   "source": [
    "[2,3,4,list(range(1,10,2))]"
   ]
  },
  {
   "cell_type": "code",
   "execution_count": null,
   "metadata": {
    "collapsed": false,
    "deletable": true,
    "editable": true
   },
   "outputs": [],
   "source": [
    "list(range(1,10,2)) + list(range(1,4))"
   ]
  },
  {
   "cell_type": "markdown",
   "metadata": {
    "collapsed": false,
    "deletable": true,
    "editable": true
   },
   "source": [
    "from collections import OrderedDict\n",
    "\n",
    "bracket_names = OrderedDict()\n",
    "for item in bins:\n",
    "    if item != bins[-1]:\n",
    "        if item < 10:\n",
    "            bracket_names[str(item)] = item  \n",
    "        else:\n",
    "            next = bins[bins.index(item) + 1]\n",
    "            bracket_names['{0} to {1}'.format(item,next)] = item\n",
    "            \n",
    "bracket_names"
   ]
  },
  {
   "cell_type": "code",
   "execution_count": null,
   "metadata": {
    "collapsed": false,
    "deletable": true,
    "editable": true
   },
   "outputs": [],
   "source": [
    "bracket_names.keys()"
   ]
  },
  {
   "cell_type": "code",
   "execution_count": null,
   "metadata": {
    "collapsed": false,
    "deletable": true,
    "editable": true
   },
   "outputs": [],
   "source": [
    "# for key,val in (bracket_names.keys(),bracket_names.values()):\n",
    "#     print(key,val)\n",
    "\n",
    "len(bracket_names.values())"
   ]
  },
  {
   "cell_type": "markdown",
   "metadata": {
    "collapsed": false,
    "deletable": true,
    "editable": true
   },
   "source": [
    "print(bins)\n",
    "print(list(bracket_names.values()))"
   ]
  },
  {
   "cell_type": "markdown",
   "metadata": {
    "collapsed": false,
    "deletable": true,
    "editable": true
   },
   "source": [
    "tmp_dict = dict()\n",
    "\n",
    "for item in bins:\n",
    "    bin_index = bins.index(item)\n",
    "        \n",
    "    try:\n",
    "        tmp_dict[bracket_names[bin_index]] = item\n",
    "    except IndexError:\n",
    "        print(item)\n",
    "    \n",
    "tmp_dict"
   ]
  },
  {
   "cell_type": "code",
   "execution_count": null,
   "metadata": {
    "collapsed": false,
    "deletable": true,
    "editable": true
   },
   "outputs": [],
   "source": [
    "df_mode_dict.dtypes"
   ]
  },
  {
   "cell_type": "code",
   "execution_count": null,
   "metadata": {
    "collapsed": false,
    "deletable": true,
    "editable": true
   },
   "outputs": [],
   "source": [
    "str(11000)[:-3] + 'K'"
   ]
  },
  {
   "cell_type": "code",
   "execution_count": null,
   "metadata": {
    "collapsed": false,
    "deletable": true,
    "editable": true
   },
   "outputs": [],
   "source": [
    "#Creating age brackets and removing records with missing ageb\n",
    "\n",
    "bins = list(range(0,10,1) ) + list(range(10,100,10) ) + \\\n",
    "list(range(100,1000,100) ) + list(range(1000,10000,5000) ) + \\\n",
    "list(range(10000,50000,20000) ) + list(range(50000,151000,50000) )\n",
    "\n",
    "bracket_names = list()\n",
    "for item in bins:\n",
    "    if item != bins[-1]:\n",
    "        if item < 10:\n",
    "            bracket_names.append(str(item+1)) \n",
    "        else:\n",
    "            start = item + 1\n",
    "            next = bins[bins.index(item) + 1]\n",
    "            if start > 1000:\n",
    "                start = str(start)[:-3] + 'K'\n",
    "                next = str(next)[:-3] + 'K'\n",
    "            bracket_names.append('{0} to {1}'.format(start,next))\n",
    "        \n",
    "categories = pd.Series(pd.cut(df_mode_dict['contributions'], bins ,\n",
    "                              labels=bracket_names, include_lowest=True ) )\n",
    "\n",
    "df_mode_dict['bracket'] = categories\n",
    "#pd.cut does not work perfectly for what I want, so I have to adjust some brackets\n",
    "# df_mode_dict['bracket'][df_mode_dict['contributions'] < 11] = df_mode_dict['contributions']\n",
    "\n",
    "display(df_mode_dict.head(30))\n",
    "display(df_mode_dict.tail(4))\n",
    "\n",
    "# print(\"Number of passengers used for age analysis:\", len(age_data))"
   ]
  },
  {
   "cell_type": "code",
   "execution_count": null,
   "metadata": {
    "collapsed": false,
    "deletable": true,
    "editable": true
   },
   "outputs": [],
   "source": [
    "for_plot = df_mode_dict.groupby('bracket')['count'].agg('sum')"
   ]
  },
  {
   "cell_type": "code",
   "execution_count": null,
   "metadata": {
    "collapsed": false,
    "deletable": true,
    "editable": true
   },
   "outputs": [],
   "source": [
    "for_plot"
   ]
  },
  {
   "cell_type": "code",
   "execution_count": null,
   "metadata": {
    "collapsed": false,
    "deletable": true,
    "editable": true
   },
   "outputs": [],
   "source": [
    "import seaborn as sns\n",
    "\n",
    "fig = plt.figure(figsize=(8,5))\n",
    "ax = plt.subplot(1,1,1)\n",
    "\n",
    "#all passengers plot\n",
    "rects = for_plot.plot(kind='bar',ax=ax,color='g')\n",
    "ax.set_title('Contributions per user',fontsize='large',fontweight='bold')\n",
    "ax.set_xlabel('Number of contributions',fontsize='small')\n",
    "ax.set_ylabel('User count',fontsize='small')\n",
    "ax.set_xticklabels(for_plot.index.values,rotation='70',fontsize='x-small')\n",
    "\n",
    "plt.show()"
   ]
  },
  {
   "cell_type": "code",
   "execution_count": null,
   "metadata": {
    "collapsed": false,
    "deletable": true,
    "editable": true
   },
   "outputs": [],
   "source": [
    "s_mode_dict.plot.hist(bins=10)"
   ]
  },
  {
   "cell_type": "code",
   "execution_count": null,
   "metadata": {
    "collapsed": false,
    "deletable": true,
    "editable": true
   },
   "outputs": [],
   "source": [
    "bah_list = list(bah)\n",
    "\n",
    "bah_list.sort()\n",
    "\n",
    "bah_list[-1]"
   ]
  },
  {
   "cell_type": "code",
   "execution_count": null,
   "metadata": {
    "collapsed": false,
    "deletable": true,
    "editable": true
   },
   "outputs": [],
   "source": [
    "s_grouped_users = pd.Series(list(doc['count'] for doc in grouped_users))\n",
    "\n",
    "s_grouped_users.plot(kind='hist')\n",
    "\n",
    "data = s_grouped_users\n",
    "\n",
    "plt.hist(data, bins=range(min(data), max(data) + 5, 10))"
   ]
  },
  {
   "cell_type": "code",
   "execution_count": null,
   "metadata": {
    "collapsed": false,
    "deletable": true,
    "editable": true
   },
   "outputs": [],
   "source": [
    "s_grouped_users.hist(bins=[0, 10, 20, 30, 40, 50, 100])"
   ]
  },
  {
   "cell_type": "code",
   "execution_count": null,
   "metadata": {
    "collapsed": false,
    "deletable": true,
    "editable": true
   },
   "outputs": [],
   "source": [
    "df_mode_dict.iloc[50:]"
   ]
  },
  {
   "cell_type": "code",
   "execution_count": null,
   "metadata": {
    "collapsed": false,
    "deletable": true,
    "editable": true
   },
   "outputs": [],
   "source": [
    "from scipy import stats\n",
    "\n",
    "stats.describe(bah)"
   ]
  },
  {
   "cell_type": "markdown",
   "metadata": {
    "deletable": true,
    "editable": true
   },
   "source": [
    "#### Misspelled streets"
   ]
  },
  {
   "cell_type": "code",
   "execution_count": null,
   "metadata": {
    "collapsed": false,
    "deletable": true,
    "editable": true
   },
   "outputs": [],
   "source": [
    "#Getting counts for streetnames and addresses\n",
    "\n",
    "aggregated = bergen.aggregate([  \n",
    "        {'$match' : {'address': {'$exists' : True } } },\n",
    "        { \"$group\" : { \n",
    "                \"_id\" : \"$address.street\",\"count\" : { \"$sum\" : 1} } }\n",
    "    ])\n",
    "\n",
    "household_count = 0\n",
    "unique_street_count = 0\n",
    "addresses_on_street = {}\n",
    "\n",
    "for doc in aggregated:\n",
    "    household_count += doc['count']\n",
    "    unique_street_count += 1\n",
    "    \n",
    "    addresses_on_street[doc['_id']] = doc['count']\n",
    "\n",
    "print(\"total addresses in Bergen:\", household_count)\n",
    "print(\"number of streetnames:\", unique_street_count)"
   ]
  },
  {
   "cell_type": "code",
   "execution_count": null,
   "metadata": {
    "collapsed": false,
    "deletable": true,
    "editable": true
   },
   "outputs": [],
   "source": [
    "#Taking a look at the streets with the most addresses\n",
    "\n",
    "from operator import itemgetter\n",
    "\n",
    "streetnames_sorted_dict = dict(sorted(addresses_on_street.items(), key=lambda x: x[1], reverse=True)[:10])\n",
    "streetnames_sorted_list = sorted(addresses_on_street.items(), key=lambda x: x[1], reverse=True)\n",
    "\n",
    "\n",
    "display(HTML(\"<b>Streets with most addresses on them:</b>\"))\n",
    "\n",
    "for street,count in streetnames_sorted_list[0:10]:\n",
    "    print(street,count)"
   ]
  },
  {
   "cell_type": "code",
   "execution_count": null,
   "metadata": {
    "collapsed": true,
    "deletable": true,
    "editable": true
   },
   "outputs": [],
   "source": [
    "#Checking for potential duplicate data due to misspelled street names\n",
    "\n",
    "import difflib\n",
    "from fuzzywuzzy import fuzz\n",
    "\n",
    "def fuzzy_streets(ratio,house_count):\n",
    "    \n",
    "    fuzzy_matches = list()\n",
    "    compare_count = 0\n",
    "    \n",
    "    for k1 in streetnames_sorted_list:\n",
    "\n",
    "        if k1[0] is None:\n",
    "            print(\"Addresses without street name:\",k1[1])\n",
    "\n",
    "        #Only comparing street names with less addresses than house_count\n",
    "        elif k1[1] <= house_count:\n",
    "            \n",
    "            compare_count += 1\n",
    "\n",
    "            for k2 in streetnames_sorted_list:\n",
    "\n",
    "                if k2[0] is None:\n",
    "                    pass\n",
    "\n",
    "                elif k2[0] == k1[0]:\n",
    "                    pass\n",
    "\n",
    "                else:                    \n",
    "                    \n",
    "                    fuzz_ratio = fuzz.ratio(k1[0],k2[0])\n",
    "                    \n",
    "                    if fuzz_ratio >= ratio:\n",
    "                        fuzzy_matches.append({k1: k2,\"fuzz ratio\": fuzz_ratio})\n",
    "\n",
    "    print(\"Number of street names compared: {0} of {1}\".format(compare_count,len(streetnames_sorted_list)))\n",
    "    \n",
    "    return fuzzy_matches"
   ]
  },
  {
   "cell_type": "code",
   "execution_count": null,
   "metadata": {
    "collapsed": false,
    "deletable": true,
    "editable": true
   },
   "outputs": [],
   "source": [
    "potential_misspellings = fuzzy_streets(92,10)"
   ]
  },
  {
   "cell_type": "code",
   "execution_count": null,
   "metadata": {
    "collapsed": false,
    "deletable": true,
    "editable": true
   },
   "outputs": [],
   "source": [
    "#Printing out the potential misspellings\n",
    "\n",
    "df_potential_misspellings = pd.DataFrame(columns = [\n",
    "        'high_spelling','high_count','low_spelling','low_count','fuzz_ratio'])\n",
    "\n",
    "#Adding index to make it easier to sort out the items I need to investigate further\n",
    "count = 0\n",
    "\n",
    "for spellings in potential_misspellings:\n",
    "    count += 1\n",
    "    df_potential_misspellings.loc[count] = None\n",
    "    for key, val in spellings.items():\n",
    "        if type(key) == tuple:\n",
    "            if key[1] > val[1]:\n",
    "                df_potential_misspellings.loc[count]['high_spelling'] = key[0]\n",
    "                df_potential_misspellings.loc[count]['low_spelling'] = val[0]\n",
    "                df_potential_misspellings.loc[count]['high_count'] = key[1]\n",
    "                df_potential_misspellings.loc[count]['low_count'] = val[1]\n",
    "\n",
    "            else:\n",
    "                df_potential_misspellings.loc[count]['high_spelling'] = val[0]\n",
    "                df_potential_misspellings.loc[count]['low_spelling'] = key[0]\n",
    "                df_potential_misspellings.loc[count]['high_count'] = val[1]\n",
    "                df_potential_misspellings.loc[count]['low_count'] = key[1]\n",
    "        else:\n",
    "            df_potential_misspellings.loc[count]['fuzz_ratio'] = val\n",
    "\n",
    "df_potential_misspellings.drop_duplicates().sort_values('high_spelling',ascending=True)"
   ]
  },
  {
   "cell_type": "markdown",
   "metadata": {
    "deletable": true,
    "editable": true
   },
   "source": [
    "Contributors"
   ]
  },
  {
   "cell_type": "code",
   "execution_count": null,
   "metadata": {
    "collapsed": true,
    "deletable": true,
    "editable": true
   },
   "outputs": [],
   "source": [
    "#Getting counts for streetnames and addresses\n",
    "\n",
    "user_count = bergen.aggregate([  \n",
    "        { \"$group\" : { \n",
    "                \"_id\" : { \"uid\": \"$created.uid\", \"mset\": {\"username\": \"$created.user\" } } } },\n",
    "        { \"$unwind\" : \"$mset\"},\n",
    "        { \"$group\" : { \"_id\" : \"$uid\",\n",
    "                      \"count\" : { \"$sum\" : 1} } }        \n",
    "    ])\n",
    "\n",
    "# household_count = 0\n",
    "# unique_street_count = 0\n",
    "# addresses_on_street = {}\n",
    "\n",
    "# for doc in aggregated:\n",
    "#     household_count += doc['count']\n",
    "#     unique_street_count += 1\n",
    "    \n",
    "#     addresses_on_street[doc['_id']] = doc['count']\n",
    "\n",
    "# print(\"total addresses in Bergen:\", household_count)\n",
    "# print(\"number of streetnames:\", unique_street_count)\n",
    "\n",
    "for doc in user_count:\n",
    "    print(doc)"
   ]
  },
  {
   "cell_type": "markdown",
   "metadata": {
    "deletable": true,
    "editable": true
   },
   "source": [
    "### Plan going forward:\n",
    "\n",
    "- Export list of duplicate addresses in two formats: full data in json/osm, addresses in 2 or 3 columns (3 with postcode)\n",
    "- Wrangling file: add postcode cleaning"
   ]
  },
  {
   "cell_type": "code",
   "execution_count": null,
   "metadata": {
    "collapsed": false,
    "deletable": true,
    "editable": true
   },
   "outputs": [],
   "source": [
    "type({'a':1})"
   ]
  },
  {
   "cell_type": "code",
   "execution_count": null,
   "metadata": {
    "collapsed": false,
    "deletable": true,
    "editable": true
   },
   "outputs": [],
   "source": [
    "for key,val in {'type': 'node', '_id': '58ee99f28a51df7ed61f5213',\n",
    "  'created': {\n",
    "      'version': '3', 'uid': '114230', 'user': 'danerikk', 'changeset': '6007582', \n",
    "      'timestamp': '2010-10-10T22:30:50Z'}, 'id': '358067', 'pos': [60.5314263, 5.2552169]}.items():\n",
    "    print(key,val)"
   ]
  },
  {
   "cell_type": "code",
   "execution_count": null,
   "metadata": {
    "collapsed": false,
    "deletable": true,
    "editable": true
   },
   "outputs": [],
   "source": [
    "\n",
    "features = defaultdict(int)\n",
    "count = 0\n",
    "\n",
    "for doc in list(bergen.find()):    \n",
    "\n",
    "    for k,v in doc.items():\n",
    "        \n",
    "        if k == 'node_refs':\n",
    "            count += 1\n",
    "        try:\n",
    "            for key,val in v.items():\n",
    "#             tmp_set.add(k+'_'+key)\n",
    "                features[k+':'+key] += 1\n",
    "#         else:\n",
    "        except AttributeError:\n",
    "            if type(v) == list:\n",
    "                for item in v:\n",
    "                    if type(item) == dict:\n",
    "                        for key,val in item.items():\n",
    "                            features[k+':'+key] += 1\n",
    "                    else:\n",
    "                        features[k] += 1\n",
    "                \n",
    "            elif type(v) == str:\n",
    "                features[k] += 1\n",
    "                if doc['id'] == '616726':\n",
    "                    print(k,v)\n",
    "            elif type(v) == dict:\n",
    "                print('whah')\n",
    "                print(key)\n",
    "                print(val)\n",
    "                break\n",
    "            elif k != '_id':\n",
    "                print(\"SOMETHING FISHY\")\n",
    "                print(k)\n",
    "                print(v)\n",
    "                print(type(v))\n",
    "                print('----')\n",
    "                break\n",
    "                \n",
    "count"
   ]
  },
  {
   "cell_type": "code",
   "execution_count": null,
   "metadata": {
    "collapsed": false,
    "deletable": true,
    "editable": true
   },
   "outputs": [],
   "source": [
    "cow_dict = {'a':1,'b':2,'c':3}\n",
    "\n",
    "1 in cow_dict"
   ]
  },
  {
   "cell_type": "code",
   "execution_count": null,
   "metadata": {
    "collapsed": false,
    "deletable": true,
    "editable": true
   },
   "outputs": [],
   "source": [
    "count = 0\n",
    "\n",
    "for doc in bergen.find({\"subject\":{'$exists': 1}, \"subject.en\":{'$exists': 0 } } ):\n",
    "    count += 1\n",
    "    \n",
    "print(count)"
   ]
  },
  {
   "cell_type": "code",
   "execution_count": null,
   "metadata": {
    "collapsed": false,
    "deletable": true,
    "editable": true
   },
   "outputs": [],
   "source": [
    "for feature in features.keys():\n",
    "    if ':' not in feature:\n",
    "        print(feature,features[feature])"
   ]
  },
  {
   "cell_type": "code",
   "execution_count": null,
   "metadata": {
    "collapsed": false,
    "deletable": true,
    "editable": true
   },
   "outputs": [],
   "source": [
    "features"
   ]
  },
  {
   "cell_type": "code",
   "execution_count": null,
   "metadata": {
    "collapsed": false,
    "deletable": true,
    "editable": true
   },
   "outputs": [],
   "source": [
    "for key in sorted(features,key=features.get,reverse=True):\n",
    "    print(key,features[key])"
   ]
  },
  {
   "cell_type": "code",
   "execution_count": null,
   "metadata": {
    "collapsed": false,
    "deletable": true,
    "editable": true
   },
   "outputs": [],
   "source": [
    "bergen.find_one({'amenity': {'$exists': True}})"
   ]
  },
  {
   "cell_type": "code",
   "execution_count": null,
   "metadata": {
    "collapsed": false,
    "deletable": true,
    "editable": true
   },
   "outputs": [],
   "source": [
    "aggregated = bergen.aggregate([  \n",
    "        {'$match' :  { 'amenity': {'$exists' : True }} },\n",
    "        { \"$group\" : { \n",
    "                \"_id\" : \"amenity\",\"count\" : { \"$sum\" : 1} } },\n",
    "    { \"$sort\" : { \"count\" : -1 } }\n",
    "    ])\n",
    "\n",
    "# for amenity in aggregated:\n",
    "#     print(amenity)"
   ]
  },
  {
   "cell_type": "code",
   "execution_count": null,
   "metadata": {
    "collapsed": false,
    "deletable": true,
    "editable": true
   },
   "outputs": [],
   "source": [
    "aggregated2 = bergen.aggregate([  \n",
    "        {'$match' :  { 'leisure': {'$exists' : True }} },\n",
    "        { \"$group\" : { \n",
    "                \"_id\" : \"$leisure\",\"count\" : { \"$sum\" : 1} } },\n",
    "    { \"$sort\" : { \"count\" : -1 } }\n",
    "    ])\n",
    "\n",
    "for doc in aggregated2:\n",
    "    print(doc)"
   ]
  },
  {
   "cell_type": "code",
   "execution_count": null,
   "metadata": {
    "collapsed": false,
    "deletable": true,
    "editable": true
   },
   "outputs": [],
   "source": [
    "for amenity in aggregated:\n",
    "    for leisure in aggregated2:\n",
    "        if leisure['_id'] == amenity['_id']:\n",
    "            print(amenity)\n",
    "            print(leisure)\n",
    "            print('----')"
   ]
  },
  {
   "cell_type": "code",
   "execution_count": null,
   "metadata": {
    "collapsed": false,
    "deletable": true,
    "editable": true
   },
   "outputs": [],
   "source": [
    "aggregated = bergen.aggregate([  \n",
    "        {'$match' :  { 'node_refs': {'$exists' : False }} },\n",
    "        { \"$group\" : { \n",
    "                \"_id\" : \"$amenity\",\"count\" : { \"$sum\" : 1} } },\n",
    "    { \"$sort\" : { \"count\" : -1 } }\n",
    "    ])\n",
    "\n",
    "for doc in aggregated:\n",
    "    print(doc)"
   ]
  },
  {
   "cell_type": "code",
   "execution_count": null,
   "metadata": {
    "collapsed": false,
    "deletable": true,
    "editable": true
   },
   "outputs": [],
   "source": [
    "docs_with_feature('name',20)"
   ]
  },
  {
   "cell_type": "code",
   "execution_count": null,
   "metadata": {
    "collapsed": false,
    "deletable": true,
    "editable": true
   },
   "outputs": [],
   "source": [
    "for doc in bergen.find( {'name': {'$regex': 'ingo'}}):\n",
    "    pprint(doc)\n",
    "    print('----')"
   ]
  },
  {
   "cell_type": "code",
   "execution_count": null,
   "metadata": {
    "collapsed": false,
    "deletable": true,
    "editable": true
   },
   "outputs": [],
   "source": [
    "docs_with_feature('gambling')"
   ]
  },
  {
   "cell_type": "code",
   "execution_count": null,
   "metadata": {
    "collapsed": false,
    "deletable": true,
    "editable": true
   },
   "outputs": [],
   "source": [
    "for doc in bergen.find( { 'amenity': {'$exists': True}, 'leisure': {'$exists': True} } ):\n",
    "    pprint(doc)\n",
    "    print('----')"
   ]
  },
  {
   "cell_type": "code",
   "execution_count": null,
   "metadata": {
    "collapsed": false,
    "deletable": true,
    "editable": true
   },
   "outputs": [],
   "source": [
    "from operator import itemgetter\n",
    "\n",
    "sorted(features.items(), key=itemgetter(1), reverse=True)"
   ]
  },
  {
   "cell_type": "code",
   "execution_count": null,
   "metadata": {
    "collapsed": false,
    "deletable": true,
    "editable": true
   },
   "outputs": [],
   "source": [
    "from collections import defaultdict\n",
    "\n",
    "features = defaultdict(int)\n",
    "\n",
    "for doc in list(bergen.find( { 'node_refs': {'$exists' : False } } )):    \n",
    "\n",
    "    for k,v in doc.items():\n",
    "        \n",
    "        \n",
    "        if type(v) == dict:\n",
    "            for key,val in v.items():\n",
    "#             tmp_set.add(k+'_'+key)\n",
    "                features[k+':'+key] += 1\n",
    "#         else:\n",
    "        elif type(v) == list:\n",
    "            for item in v:\n",
    "                if type(item) == dict:\n",
    "                    for key,val in item.items():\n",
    "                        features[k+':'+key] += 1\n",
    "                else:\n",
    "                    features[k] += 1\n",
    "\n",
    "        elif type(v) == str:\n",
    "            features[k] += 1\n",
    "            if doc['id'] == '616726':\n",
    "                print(k,v)"
   ]
  },
  {
   "cell_type": "code",
   "execution_count": null,
   "metadata": {
    "collapsed": false,
    "deletable": true,
    "editable": true
   },
   "outputs": [],
   "source": [
    "bergen.find( { 'node_refs': {'$exists' : True } } ).count()"
   ]
  },
  {
   "cell_type": "code",
   "execution_count": null,
   "metadata": {
    "collapsed": false,
    "deletable": true,
    "editable": true
   },
   "outputs": [],
   "source": [
    "bergen.find( { 'address.city': {'$exists' : True } } ).count()"
   ]
  },
  {
   "cell_type": "code",
   "execution_count": null,
   "metadata": {
    "collapsed": false,
    "deletable": true,
    "editable": true
   },
   "outputs": [],
   "source": [
    "tmp_city = bergen.find( { 'address.city': {'$exists' : True } } )\n",
    "\n",
    "count = 0\n",
    "\n",
    "for doc in tmp_city:\n",
    "    for k,v in doc.items():\n",
    "        if k == 'address':\n",
    "            for addr_type,value in v.items():\n",
    "                if addr_type == 'city':\n",
    "                    count += 1\n",
    "                    \n",
    "                    \n",
    "count"
   ]
  },
  {
   "cell_type": "code",
   "execution_count": null,
   "metadata": {
    "collapsed": false,
    "deletable": true,
    "editable": true
   },
   "outputs": [],
   "source": [
    "for key in sorted(features,key=features.get,reverse=True):\n",
    "    print(key,features[key])"
   ]
  },
  {
   "cell_type": "code",
   "execution_count": null,
   "metadata": {
    "collapsed": false,
    "deletable": true,
    "editable": true
   },
   "outputs": [],
   "source": [
    "for key in sorted(features,key=features.get,reverse=True):\n",
    "    print(key,features[key])"
   ]
  },
  {
   "cell_type": "code",
   "execution_count": null,
   "metadata": {
    "collapsed": false,
    "deletable": true,
    "editable": true
   },
   "outputs": [],
   "source": [
    "# node_ref_count_query = bergen.aggregate( [\n",
    "#    {\n",
    "#      '$group': {\n",
    "#         '_id' : { 'node_refs': '$node_refs'}\n",
    "#            }\n",
    "#         },\n",
    "#     { \"$sort\" : { \"count\" : -1 } }\n",
    "# ] )\n",
    "       \n",
    "# for doc in node_ref_count_query:\n",
    "#        print(doc)\n",
    "        \n",
    "# # aggregated = bergen.aggregate([  \n",
    "# #         {'$match' :  { 'node_refs': {'$exists' : False }} },\n",
    "# #         { \"$group\" : { \n",
    "# #                 \"_id\" : \"$amenity\",\"count\" : { \"$sum\" : 1} } },\n",
    "# #     { \"$sort\" : { \"count\" : -1 } }\n",
    "# #     ])\n",
    "\n",
    "# # for doc in aggregated:\n",
    "# #     print(doc)"
   ]
  },
  {
   "cell_type": "code",
   "execution_count": 11,
   "metadata": {
    "collapsed": false,
    "deletable": true,
    "editable": true
   },
   "outputs": [],
   "source": [
    "node_refs_cursor = bergen.find( { 'node_refs': {'$exists' : True } } )\n",
    "\n",
    "node_ref_counts = defaultdict(int)\n",
    "\n",
    "for doc in node_refs_cursor:\n",
    "    for node_ref in doc['node_refs']:\n",
    "        node_ref_counts[node_ref] += 1"
   ]
  },
  {
   "cell_type": "code",
   "execution_count": 12,
   "metadata": {
    "collapsed": false
   },
   "outputs": [
    {
     "name": "stdout",
     "output_type": "stream",
     "text": [
      "29784574 8\n",
      "659176 7\n",
      "331537177 7\n",
      "2958740469 7\n",
      "3463353550 7\n",
      "653922 7\n",
      "388603237 6\n",
      "3459139122 6\n",
      "3462350855 6\n",
      "3463351284 6\n",
      "1380827404 6\n",
      "3792014898 6\n",
      "43522929 6\n",
      "2028740048 6\n",
      "3473524850 6\n",
      "3463351083 6\n",
      "406569423 6\n",
      "3464903679 6\n",
      "21397989 6\n",
      "3462350892 6\n",
      "3466223356 6\n",
      "3466223742 6\n",
      "3468102863 6\n",
      "3469622707 6\n",
      "3469622699 6\n",
      "197829725 6\n",
      "2007965551 6\n",
      "1589792064 6\n",
      "15992470 6\n",
      "941663311 6\n",
      "843232472 6\n",
      "2958740440 6\n",
      "3465315221 6\n",
      "113924307 6\n",
      "29679011 6\n",
      "3463353552 6\n",
      "31092129 6\n",
      "3463352812 6\n",
      "21632993 6\n",
      "29876839 6\n",
      "3694806525 6\n",
      "29562543 6\n",
      "3464903405 6\n",
      "26082309 6\n",
      "43523002 6\n",
      "3465315270 6\n",
      "3464903021 6\n",
      "2405180799 6\n",
      "3437743939 6\n",
      "14917507 6\n",
      "2485014527 6\n",
      "3462996275 6\n",
      "3464903664 6\n",
      "3473490762 6\n",
      "3680075086 6\n",
      "29943011 6\n",
      "83075348 5\n",
      "3473536848 5\n",
      "3461476470 5\n",
      "3468151029 5\n",
      "29922468 5\n",
      "26082306 5\n",
      "3464903428 5\n",
      "3469571846 5\n",
      "265629308 5\n",
      "3462014229 5\n",
      "3469591093 5\n",
      "29598840 5\n",
      "3462357486 5\n",
      "3466225246 5\n",
      "3463351062 5\n",
      "125494576 5\n",
      "3462995841 5\n",
      "48881406 5\n",
      "3463353304 5\n",
      "188991191 5\n",
      "320778501 5\n",
      "3695731689 5\n",
      "289974402 5\n",
      "17354882 5\n",
      "746497503 5\n",
      "3465315210 5\n",
      "3463350890 5\n",
      "2958740451 5\n",
      "3415103240 5\n",
      "3462357396 5\n",
      "25643359 5\n",
      "10396270 5\n",
      "1388184525 5\n",
      "3462359781 5\n",
      "3468103600 5\n",
      "3463353583 5\n",
      "674426 5\n",
      "3469591121 5\n",
      "1769672990 5\n",
      "3459138857 5\n",
      "3463823684 5\n",
      "2932518711 5\n",
      "3462014294 5\n",
      "3466225272 5\n"
     ]
    }
   ],
   "source": [
    "count = 0\n",
    "\n",
    "for key in sorted(node_ref_counts,key=node_ref_counts.get,reverse=True):\n",
    "    count += 1\n",
    "    \n",
    "    if count > 100:\n",
    "        break\n",
    "    else:\n",
    "        print(key,node_ref_counts[key])"
   ]
  },
  {
   "cell_type": "code",
   "execution_count": 13,
   "metadata": {
    "collapsed": false
   },
   "outputs": [
    {
     "data": {
      "text/plain": [
       "{'_id': ObjectId('58ee99f28a51df7ed61f81e3'),\n",
       " 'created': {'changeset': '34017753',\n",
       "  'timestamp': '2015-09-14T10:51:19Z',\n",
       "  'uid': '715936',\n",
       "  'user': 'Gazer75',\n",
       "  'version': '6'},\n",
       " 'id': '29784574',\n",
       " 'pos': [60.3864274, 5.3213204],\n",
       " 'type': 'node'}"
      ]
     },
     "execution_count": 13,
     "metadata": {},
     "output_type": "execute_result"
    }
   ],
   "source": [
    "bergen.find_one( {'id': '29784574'})"
   ]
  },
  {
   "cell_type": "code",
   "execution_count": 21,
   "metadata": {
    "collapsed": false
   },
   "outputs": [
    {
     "name": "stdout",
     "output_type": "stream",
     "text": [
      "{'_id': ObjectId('58ee9a118a51df7ed628ee29'),\n",
      " 'created': {'changeset': '14097785',\n",
      "             'timestamp': '2012-11-30T11:58:27Z',\n",
      "             'uid': '715936',\n",
      "             'user': 'Gazer75',\n",
      "             'version': '2'},\n",
      " 'highway': 'unclassified',\n",
      " 'id': '4685644',\n",
      " 'node_refs': ['29784573', '29784574'],\n",
      " 'type': 'way'}\n",
      "------\n",
      "{'_id': ObjectId('58ee9a128a51df7ed6291a6a'),\n",
      " 'created': {'changeset': '11749235',\n",
      "             'timestamp': '2012-05-30T14:35:21Z',\n",
      "             'uid': '420980',\n",
      "             'user': 'NorNorth',\n",
      "             'version': '1'},\n",
      " 'highway': 'service',\n",
      " 'id': '165510865',\n",
      " 'name': 'Menneskerettighetenes plass',\n",
      " 'node_refs': ['1770495753', '1769659574', '29784577', '29784574', '29784576'],\n",
      " 'type': 'way'}\n",
      "------\n",
      "{'_id': ObjectId('58ee9a128a51df7ed6291e13'),\n",
      " 'created': {'changeset': '39349421',\n",
      "             'timestamp': '2016-05-16T11:00:45Z',\n",
      "             'uid': '1965308',\n",
      "             'user': 'FredrikLindseth',\n",
      "             'version': '7'},\n",
      " 'id': '194290985',\n",
      " 'landuse': 'residential',\n",
      " 'node_refs': ['29784574',\n",
      "               '2051134390',\n",
      "               '2051134384',\n",
      "               '1769656161',\n",
      "               '1769656151',\n",
      "               '1769656155',\n",
      "               '1769656145',\n",
      "               '3944739783',\n",
      "               '3944739781',\n",
      "               '29902936',\n",
      "               '3944739778',\n",
      "               '3944739774',\n",
      "               '387482701',\n",
      "               '3944738930',\n",
      "               '29881827',\n",
      "               '3944738929',\n",
      "               '2048126476',\n",
      "               '2048126477',\n",
      "               '2048126475',\n",
      "               '3944738928',\n",
      "               '3944738926',\n",
      "               '2048126474',\n",
      "               '25650619',\n",
      "               '25650617',\n",
      "               '1769605893',\n",
      "               '1770583214',\n",
      "               '2048149596',\n",
      "               '2048149595',\n",
      "               '29930784',\n",
      "               '29933137',\n",
      "               '29933139',\n",
      "               '2052104688',\n",
      "               '2052104689',\n",
      "               '29933140',\n",
      "               '2052775205',\n",
      "               '29930785',\n",
      "               '1433154732',\n",
      "               '1769656189',\n",
      "               '1769656201',\n",
      "               '1769656114',\n",
      "               '1769656156',\n",
      "               '1769656173',\n",
      "               '2051134383',\n",
      "               '1769656125',\n",
      "               '1769656176',\n",
      "               '4183335806',\n",
      "               '1769656115',\n",
      "               '4189327374',\n",
      "               '1769656163',\n",
      "               '1770495746',\n",
      "               '29784573',\n",
      "               '29784574'],\n",
      " 'type': 'way'}\n",
      "------\n",
      "{'_id': ObjectId('58ee9a128a51df7ed6291e13'),\n",
      " 'created': {'changeset': '39349421',\n",
      "             'timestamp': '2016-05-16T11:00:45Z',\n",
      "             'uid': '1965308',\n",
      "             'user': 'FredrikLindseth',\n",
      "             'version': '7'},\n",
      " 'id': '194290985',\n",
      " 'landuse': 'residential',\n",
      " 'node_refs': ['29784574',\n",
      "               '2051134390',\n",
      "               '2051134384',\n",
      "               '1769656161',\n",
      "               '1769656151',\n",
      "               '1769656155',\n",
      "               '1769656145',\n",
      "               '3944739783',\n",
      "               '3944739781',\n",
      "               '29902936',\n",
      "               '3944739778',\n",
      "               '3944739774',\n",
      "               '387482701',\n",
      "               '3944738930',\n",
      "               '29881827',\n",
      "               '3944738929',\n",
      "               '2048126476',\n",
      "               '2048126477',\n",
      "               '2048126475',\n",
      "               '3944738928',\n",
      "               '3944738926',\n",
      "               '2048126474',\n",
      "               '25650619',\n",
      "               '25650617',\n",
      "               '1769605893',\n",
      "               '1770583214',\n",
      "               '2048149596',\n",
      "               '2048149595',\n",
      "               '29930784',\n",
      "               '29933137',\n",
      "               '29933139',\n",
      "               '2052104688',\n",
      "               '2052104689',\n",
      "               '29933140',\n",
      "               '2052775205',\n",
      "               '29930785',\n",
      "               '1433154732',\n",
      "               '1769656189',\n",
      "               '1769656201',\n",
      "               '1769656114',\n",
      "               '1769656156',\n",
      "               '1769656173',\n",
      "               '2051134383',\n",
      "               '1769656125',\n",
      "               '1769656176',\n",
      "               '4183335806',\n",
      "               '1769656115',\n",
      "               '4189327374',\n",
      "               '1769656163',\n",
      "               '1770495746',\n",
      "               '29784573',\n",
      "               '29784574'],\n",
      " 'type': 'way'}\n",
      "------\n",
      "{'_id': ObjectId('58ee9a128a51df7ed6291e1d'),\n",
      " 'amenity': 'university',\n",
      " 'created': {'changeset': '39349421',\n",
      "             'timestamp': '2016-05-16T11:00:40Z',\n",
      "             'uid': '1965308',\n",
      "             'user': 'FredrikLindseth',\n",
      "             'version': '6'},\n",
      " 'id': '194453149',\n",
      " 'node_refs': ['2049580265',\n",
      "               '2049580262',\n",
      "               '2049580263',\n",
      "               '2049580261',\n",
      "               '29904842',\n",
      "               '29784576',\n",
      "               '29784574',\n",
      "               '29784573',\n",
      "               '4181285201',\n",
      "               '4189330442',\n",
      "               '29904841',\n",
      "               '4161366877',\n",
      "               '3944739750',\n",
      "               '4181285257',\n",
      "               '29943026',\n",
      "               '2049580265'],\n",
      " 'operator': ['Universitetet i Bergen', {'en': 'University of Bergen'}],\n",
      " 'type': 'way'}\n",
      "------\n",
      "{'_id': ObjectId('58ee9a128a51df7ed6291ed5'),\n",
      " 'created': {'changeset': '36557447',\n",
      "             'timestamp': '2016-01-13T19:36:33Z',\n",
      "             'uid': '2114448',\n",
      "             'user': 'FredrikLindseth_import',\n",
      "             'version': '2'},\n",
      " 'id': '194609923',\n",
      " 'landuse': 'residential',\n",
      " 'node_refs': ['29784574',\n",
      "               '29784576',\n",
      "               '29904842',\n",
      "               '2051134397',\n",
      "               '2041800561',\n",
      "               '1843714778',\n",
      "               '2041800543',\n",
      "               '29943125',\n",
      "               '2041800540',\n",
      "               '2041800537',\n",
      "               '29943130',\n",
      "               '2041800531',\n",
      "               '2041800532',\n",
      "               '2041800530',\n",
      "               '3944739725',\n",
      "               '29784574'],\n",
      " 'type': 'way'}\n",
      "------\n",
      "{'_id': ObjectId('58ee9a128a51df7ed6291ed5'),\n",
      " 'created': {'changeset': '36557447',\n",
      "             'timestamp': '2016-01-13T19:36:33Z',\n",
      "             'uid': '2114448',\n",
      "             'user': 'FredrikLindseth_import',\n",
      "             'version': '2'},\n",
      " 'id': '194609923',\n",
      " 'landuse': 'residential',\n",
      " 'node_refs': ['29784574',\n",
      "               '29784576',\n",
      "               '29904842',\n",
      "               '2051134397',\n",
      "               '2041800561',\n",
      "               '1843714778',\n",
      "               '2041800543',\n",
      "               '29943125',\n",
      "               '2041800540',\n",
      "               '2041800537',\n",
      "               '29943130',\n",
      "               '2041800531',\n",
      "               '2041800532',\n",
      "               '2041800530',\n",
      "               '3944739725',\n",
      "               '29784574'],\n",
      " 'type': 'way'}\n",
      "------\n",
      "{'_id': ObjectId('58ee9a148a51df7ed6299faf'),\n",
      " 'created': {'changeset': '39036821',\n",
      "             'timestamp': '2016-05-02T12:02:13Z',\n",
      "             'uid': '1965308',\n",
      "             'user': 'FredrikLindseth',\n",
      "             'version': '1'},\n",
      " 'highway': 'footway',\n",
      " 'id': '415046339',\n",
      " 'node_refs': ['29784574', '3944739725'],\n",
      " 'surface': 'sett',\n",
      " 'type': 'way'}\n",
      "------\n"
     ]
    }
   ],
   "source": [
    "node_refs_cursor = bergen.find( { 'node_refs': {'$exists' : True } } )\n",
    "\n",
    "for doc in node_refs_cursor:\n",
    "    for node_ref in doc['node_refs']:\n",
    "        if node_ref == '29784574':\n",
    "            pprint(doc)\n",
    "            print('------')"
   ]
  }
 ],
 "metadata": {
  "anaconda-cloud": {},
  "kernelspec": {
   "display_name": "Python [default]",
   "language": "python",
   "name": "python3"
  },
  "language_info": {
   "codemirror_mode": {
    "name": "ipython",
    "version": 3
   },
   "file_extension": ".py",
   "mimetype": "text/x-python",
   "name": "python",
   "nbconvert_exporter": "python",
   "pygments_lexer": "ipython3",
   "version": "3.5.3"
  }
 },
 "nbformat": 4,
 "nbformat_minor": 0
}
