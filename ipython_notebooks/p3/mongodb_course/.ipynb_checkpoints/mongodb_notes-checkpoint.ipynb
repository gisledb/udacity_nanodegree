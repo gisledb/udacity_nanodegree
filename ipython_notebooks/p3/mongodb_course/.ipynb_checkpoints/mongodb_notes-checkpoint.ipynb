{
 "cells": [
  {
   "cell_type": "code",
   "execution_count": 4,
   "metadata": {
    "collapsed": true
   },
   "outputs": [],
   "source": [
    "from pymongo import MongoClient"
   ]
  },
  {
   "cell_type": "code",
   "execution_count": null,
   "metadata": {
    "collapsed": false
   },
   "outputs": [],
   "source": []
  },
  {
   "cell_type": "code",
   "execution_count": 179,
   "metadata": {
    "collapsed": false
   },
   "outputs": [
    {
     "name": "stdout",
     "output_type": "stream",
     "text": [
      "{'name': 'Bergen', '_id': ObjectId('58206f494dd9620a3dc336ee')}\n"
     ]
    }
   ],
   "source": [
    "#Quiz: Kicking the tires on MongoDB\n",
    "\n",
    "\"\"\"\n",
    "Your task is to sucessfully run the exercise to see how pymongo works\n",
    "and how easy it is to start using it.\n",
    "You don't actually have to change anything in this exercise,\n",
    "but you can change the city name in the add_city function if you like.\n",
    "\n",
    "Your code will be run against a MongoDB instance that we have provided.\n",
    "If you want to run this code locally on your machine,\n",
    "you have to install MongoDB (see Instructor comments for link to installation information)\n",
    "and uncomment the get_db function.\n",
    "\"\"\"\n",
    "\n",
    "def add_city(db):\n",
    "    # Changes to this function will be reflected in the output. \n",
    "    # All other functions are for local use only.\n",
    "    # Try changing the name of the city to be inserted\n",
    "    db.cities.insert_one({\"name\" : \"Bergen\"})\n",
    "    \n",
    "def get_city(db):\n",
    "    return db.cities.find_one()\n",
    "\n",
    "def get_db():\n",
    "    # For local use\n",
    "    from pymongo import MongoClient\n",
    "    client = MongoClient('localhost:27017')\n",
    "    # 'examples' here is the database name. It will be created if it does not exist.\n",
    "    db = client.examples\n",
    "    return db\n",
    "\n",
    "if __name__ == \"__main__\":\n",
    "    # For local use\n",
    "    db = get_db() # uncomment this line if you want to run this locally\n",
    "    add_city(db)\n",
    "    print(get_city(db))"
   ]
  },
  {
   "cell_type": "code",
   "execution_count": 180,
   "metadata": {
    "collapsed": false
   },
   "outputs": [
    {
     "data": {
      "text/plain": [
       "Collection(Database(MongoClient(host=['localhost:27017'], document_class=dict, tz_aware=False, connect=True), 'examples'), 'cities')"
      ]
     },
     "execution_count": 180,
     "metadata": {},
     "output_type": "execute_result"
    }
   ],
   "source": [
    "db.cities"
   ]
  },
  {
   "cell_type": "code",
   "execution_count": 73,
   "metadata": {
    "collapsed": false
   },
   "outputs": [
    {
     "data": {
      "text/plain": [
       "{'_id': ObjectId('58207e32d27f3a7c119c7f02'),\n",
       " 'assembly': ['Finland', 'Germany', 'Stuttgart', 'Uusikaupunki'],\n",
       " 'bodyStyle': 'roadster',\n",
       " 'class': 'sports car',\n",
       " 'layout': 'rear mid-engine rear-wheel-drive layout',\n",
       " 'manufacturer': 'Porsche',\n",
       " 'modelYears': [],\n",
       " 'name': 'Porsche Boxster',\n",
       " 'productionYears': []}"
      ]
     },
     "execution_count": 73,
     "metadata": {},
     "output_type": "execute_result"
    }
   ],
   "source": [
    "db.autos.find_one({\"manufacturer\" : \"Porsche\"})"
   ]
  },
  {
   "cell_type": "code",
   "execution_count": null,
   "metadata": {
    "collapsed": true
   },
   "outputs": [],
   "source": []
  },
  {
   "cell_type": "code",
   "execution_count": 4,
   "metadata": {
    "collapsed": false
   },
   "outputs": [
    {
     "name": "stdout",
     "output_type": "stream",
     "text": [
      "Printing first 3 results\n",
      "\n",
      "{'_id': ObjectId('58207e32d27f3a7c119c7f02'),\n",
      " 'assembly': ['Finland', 'Germany', 'Stuttgart', 'Uusikaupunki'],\n",
      " 'bodyStyle': 'roadster',\n",
      " 'class': 'sports car',\n",
      " 'layout': 'rear mid-engine rear-wheel-drive layout',\n",
      " 'manufacturer': 'Porsche',\n",
      " 'modelYears': [],\n",
      " 'name': 'Porsche Boxster',\n",
      " 'productionYears': []}\n"
     ]
    }
   ],
   "source": [
    "#Quiz: Finding Porsche\n",
    "\n",
    "#!/usr/bin/env python\n",
    "\"\"\"\n",
    "Your task is to complete the 'porsche_query' function and in particular the query\n",
    "to find all autos where the manufacturer field matches \"Porsche\".\n",
    "Please modify only 'porsche_query' function, as only that will be taken into account.\n",
    "\n",
    "Your code will be run against a MongoDB instance that we have provided.\n",
    "If you want to run this code locally on your machine,\n",
    "you have to install MongoDB and download and insert the dataset.\n",
    "For instructions related to MongoDB setup and datasets please see Course Materials at\n",
    "the following link:\n",
    "https://www.udacity.com/wiki/ud032\n",
    "\"\"\"\n",
    "\n",
    "def porsche_query():\n",
    "    # Please fill in the query to find all autos manuafactured by Porsche.\n",
    "    query = {\"manufacturer\" : \"Porsche\"}\n",
    "    return query\n",
    "\n",
    "\n",
    "# Do not edit code below this line in the online code editor.\n",
    "# Code here is for local use on your own computer.\n",
    "def get_db(db_name):\n",
    "    # For local use\n",
    "    from pymongo import MongoClient\n",
    "    client = MongoClient('localhost:27017')\n",
    "    db = client[db_name]\n",
    "    return db\n",
    "\n",
    "def find_porsche(db, query):\n",
    "    # For local use\n",
    "    return db.autos.find(query)\n",
    "\n",
    "\n",
    "if __name__ == \"__main__\":\n",
    "    # For local use\n",
    "    db = get_db('examples')\n",
    "    query = porsche_query()\n",
    "    results = find_porsche(db, query)\n",
    "\n",
    "    print(\"Printing first 3 results\\n\")\n",
    "    import pprint\n",
    "    for car in results[:3]:\n",
    "        pprint.pprint(car)"
   ]
  },
  {
   "cell_type": "code",
   "execution_count": 7,
   "metadata": {
    "collapsed": false
   },
   "outputs": [
    {
     "data": {
      "text/plain": [
       "['examples', 'autos', 'cities', 'arachnid']"
      ]
     },
     "execution_count": 7,
     "metadata": {},
     "output_type": "execute_result"
    }
   ],
   "source": [
    "db.collection_names()"
   ]
  },
  {
   "cell_type": "code",
   "execution_count": 6,
   "metadata": {
    "collapsed": false
   },
   "outputs": [],
   "source": [
    "db.example_car.drop()\n",
    "db.cars.drop()"
   ]
  },
  {
   "cell_type": "code",
   "execution_count": 7,
   "metadata": {
    "collapsed": false
   },
   "outputs": [],
   "source": [
    "client = MongoClient('localhost:27017')\n",
    "db = client['examples']\n",
    "    \n",
    "db.examples.cars.find_one('manufacturer')"
   ]
  },
  {
   "cell_type": "code",
   "execution_count": 8,
   "metadata": {
    "collapsed": false
   },
   "outputs": [
    {
     "data": {
      "text/plain": [
       "<pymongo.cursor.Cursor at 0x105706470>"
      ]
     },
     "execution_count": 8,
     "metadata": {},
     "output_type": "execute_result"
    }
   ],
   "source": [
    "db.examples.find({\"manufacturer\" : \"Porsche\"})"
   ]
  },
  {
   "cell_type": "code",
   "execution_count": 9,
   "metadata": {
    "collapsed": false
   },
   "outputs": [],
   "source": [
    "for f in db.cars.find({\"manufacturer\" : \"Porsche\"}):\n",
    "    print(f)"
   ]
  },
  {
   "cell_type": "code",
   "execution_count": 10,
   "metadata": {
    "collapsed": false
   },
   "outputs": [
    {
     "data": {
      "text/plain": [
       "<pymongo.cursor.Cursor at 0x10570e128>"
      ]
     },
     "execution_count": 10,
     "metadata": {},
     "output_type": "execute_result"
    }
   ],
   "source": [
    "db.cars.find()"
   ]
  },
  {
   "cell_type": "code",
   "execution_count": 11,
   "metadata": {
    "collapsed": false
   },
   "outputs": [
    {
     "name": "stdout",
     "output_type": "stream",
     "text": [
      "{'productionYears': [], 'assembly': ['Finland', 'Germany', 'Stuttgart', 'Uusikaupunki'], 'bodyStyle': 'roadster', 'class': 'sports car', '_id': ObjectId('58207e32d27f3a7c119c7f02'), 'layout': 'rear mid-engine rear-wheel-drive layout', 'name': 'Porsche Boxster', 'modelYears': [], 'manufacturer': 'Porsche'}\n"
     ]
    }
   ],
   "source": [
    "#Quiz: Inserting multiple documents\n",
    "\n",
    "#!/usr/bin/env python\n",
    "\"\"\" \n",
    "Add a single line of code to the insert_autos function that will insert the\n",
    "automobile data into the 'autos' collection. The data variable that is\n",
    "returned from the process_file function is a list of dictionaries, as in the\n",
    "example in the previous video.\n",
    "\"\"\"\n",
    "\n",
    "# from autos import process_file\n",
    "\n",
    "\n",
    "def insert_autos(infile, db):\n",
    "    data = process_file(infile)\n",
    "    # Add your code here. Insert the data in one command.\n",
    "    db.autos.insert_many(data)\n",
    "  \n",
    "if __name__ == \"__main__\":\n",
    "    # Code here is for local use on your own computer.\n",
    "    from pymongo import MongoClient\n",
    "    client = MongoClient(\"mongodb://localhost:27017\")\n",
    "    db = client.examples\n",
    "\n",
    "    insert_autos('data/autos-small.csv', db)\n",
    "    print(db.autos.find_one())"
   ]
  },
  {
   "cell_type": "code",
   "execution_count": 181,
   "metadata": {
    "collapsed": false
   },
   "outputs": [
    {
     "data": {
      "text/plain": [
       "<pymongo.results.InsertOneResult at 0x1068ebaf8>"
      ]
     },
     "execution_count": 181,
     "metadata": {},
     "output_type": "execute_result"
    }
   ],
   "source": [
    "#importing data needed for next quiz\n",
    "\n",
    "import datetime\n",
    "\n",
    "db.cities.insert_one({\n",
    " 'areaCode': ['916'],\n",
    " 'areaLand': 109271000.0,\n",
    " 'country': 'United States',\n",
    " 'elevation': 13.716,\n",
    " 'foundingDate': datetime.datetime(2001, 7, 1, 0, 0),\n",
    " 'governmentType': ['Council\\u2013manager government'],\n",
    " 'homepage': ['http://elkgrovecity.org/'],\n",
    " 'isPartOf': ['California', u'Sacramento County California'],\n",
    " 'lat': 38.4383,\n",
    " 'leaderTitle': 'Chief Of Police',\n",
    " 'lon': -121.382,\n",
    " 'motto': 'Proud Heritage Bright Future',\n",
    " 'name': 'City of Elk Grove',\n",
    " 'population': 155937,\n",
    " 'postalCode': '95624 95757 95758 95759',\n",
    " 'timeZone': ['Pacific Time Zone'],\n",
    " 'utcOffset': ['-7', '-8']\n",
    "})"
   ]
  },
  {
   "cell_type": "code",
   "execution_count": 215,
   "metadata": {
    "collapsed": false
   },
   "outputs": [
    {
     "name": "stdout",
     "output_type": "stream",
     "text": [
      "Found cities: 2\n",
      "{'_id': ObjectId('5820f8574dd9620c1de02036'),\n",
      " 'areaCode': ['916'],\n",
      " 'areaLand': 109271000.0,\n",
      " 'country': 'United States',\n",
      " 'elevation': 13.716,\n",
      " 'foundingDate': datetime.datetime(2001, 7, 1, 0, 0),\n",
      " 'governmentType': ['Council–manager government'],\n",
      " 'homepage': ['http://elkgrovecity.org/'],\n",
      " 'isPartOf': ['California', 'Sacramento County California'],\n",
      " 'lat': 38.4383,\n",
      " 'leaderTitle': 'Chief Of Police',\n",
      " 'lon': -121.382,\n",
      " 'motto': 'Proud Heritage Bright Future',\n",
      " 'name': 'City of Elk Grove',\n",
      " 'population': 155937,\n",
      " 'postalCode': '95624 95757 95758 95759',\n",
      " 'timeZone': ['Pacific Time Zone'],\n",
      " 'utcOffset': ['-7', '-8']}\n"
     ]
    }
   ],
   "source": [
    "#Quiz: Range queries\n",
    "\n",
    "#!/usr/bin/env python\n",
    "\"\"\"\n",
    "Your task is to write a query that will return all cities\n",
    "that are founded in 21st century.\n",
    "Please modify only 'range_query' function, as only that will be taken into account.\n",
    "\n",
    "Your code will be run against a MongoDB instance that we have provided.\n",
    "If you want to run this code locally on your machine,\n",
    "you have to install MongoDB, download and insert the dataset.\n",
    "For instructions related to MongoDB setup and datasets please see Course Materials.\n",
    "\"\"\"\n",
    "\n",
    "from datetime import datetime\n",
    "    \n",
    "def range_query():\n",
    "    # Modify the below line with your query.\n",
    "    # You can use datetime(year, month, day) to specify date in the query\n",
    "    query = {\"foundingDate\" : {\"$gte\" : datetime(2001,1,1), \n",
    "                               \"$lte\" : datetime(2100,12,31)}} \n",
    "    return query\n",
    "\n",
    "# Do not edit code below this line in the online code editor.\n",
    "# Code here is for local use on your own computer.\n",
    "def get_db():\n",
    "    from pymongo import MongoClient\n",
    "    client = MongoClient('localhost:27017')\n",
    "    db = client.examples\n",
    "    return db\n",
    "\n",
    "if __name__ == \"__main__\":\n",
    "    # For local use\n",
    "    db = get_db()\n",
    "    query = range_query()\n",
    "    cities = db.cities.find(query)\n",
    "\n",
    "    print(\"Found cities:\", cities.count())\n",
    "    import pprint\n",
    "    pprint.pprint(cities[0])\n"
   ]
  },
  {
   "cell_type": "code",
   "execution_count": 216,
   "metadata": {
    "collapsed": false
   },
   "outputs": [
    {
     "data": {
      "text/plain": [
       "{'_id': ObjectId('5820f2524dd9620c1de02032'),\n",
       " 'areaCode': ['916'],\n",
       " 'areaLand': 109271000.0,\n",
       " 'country': 'United States',\n",
       " 'elevation': 13.716,\n",
       " 'foundingDate': datetime.datetime(2000, 7, 1, 0, 0),\n",
       " 'governmentType': ['Council–manager government'],\n",
       " 'homepage': ['http://elkgrovecity.org/'],\n",
       " 'isPartOf': ['California', 'Sacramento County California'],\n",
       " 'lat': 38.4383,\n",
       " 'leaderTitle': 'Chief Of Police',\n",
       " 'lon': -121.382,\n",
       " 'motto': 'Proud Heritage Bright Future',\n",
       " 'name': 'City of Elk Grove',\n",
       " 'population': 155937,\n",
       " 'postalCode': '95624 95757 95758 95759',\n",
       " 'timeZone': ['Pacific Time Zone'],\n",
       " 'utcOffset': ['-7', '-8']}"
      ]
     },
     "execution_count": 216,
     "metadata": {},
     "output_type": "execute_result"
    }
   ],
   "source": [
    "db.cities.find()[2]"
   ]
  },
  {
   "cell_type": "code",
   "execution_count": 184,
   "metadata": {
    "collapsed": false
   },
   "outputs": [
    {
     "data": {
      "text/plain": [
       "{'_id': ObjectId('5820f2524dd9620c1de02032'),\n",
       " 'areaCode': ['916'],\n",
       " 'areaLand': 109271000.0,\n",
       " 'country': 'United States',\n",
       " 'elevation': 13.716,\n",
       " 'foundingDate': datetime.datetime(2000, 7, 1, 0, 0),\n",
       " 'governmentType': ['Council–manager government'],\n",
       " 'homepage': ['http://elkgrovecity.org/'],\n",
       " 'isPartOf': ['California', 'Sacramento County California'],\n",
       " 'lat': 38.4383,\n",
       " 'leaderTitle': 'Chief Of Police',\n",
       " 'lon': -121.382,\n",
       " 'motto': 'Proud Heritage Bright Future',\n",
       " 'name': 'City of Elk Grove',\n",
       " 'population': 155937,\n",
       " 'postalCode': '95624 95757 95758 95759',\n",
       " 'timeZone': ['Pacific Time Zone'],\n",
       " 'utcOffset': ['-7', '-8']}"
      ]
     },
     "execution_count": 184,
     "metadata": {},
     "output_type": "execute_result"
    }
   ],
   "source": [
    "db.cities.find_one({'country': 'United States'})"
   ]
  },
  {
   "cell_type": "code",
   "execution_count": 63,
   "metadata": {
    "collapsed": false
   },
   "outputs": [
    {
     "name": "stdout",
     "output_type": "stream",
     "text": [
      "Found autos: 0\n"
     ]
    }
   ],
   "source": [
    "#Quiz: Using $in operator\n",
    "\n",
    "#!/usr/bin/env python\n",
    "\"\"\"\n",
    "Your task is to write a query that will return all cars manufactured by\n",
    "\"Ford Motor Company\" that are assembled in Germany, United Kingdom, or Japan.\n",
    "Please modify only 'in_query' function, as only that will be taken into account.\n",
    "\n",
    "Your code will be run against a MongoDB instance that we have provided.\n",
    "If you want to run this code locally on your machine,\n",
    "you have to install MongoDB, download and insert the dataset.\n",
    "For instructions related to MongoDB setup and datasets please see Course Materials.\n",
    "\"\"\"\n",
    "\n",
    "\n",
    "def in_query():\n",
    "    # Modify the below line with your query; try to use the $in operator.\n",
    "    query = {\"manufacturer\" : \"Ford Motor Company\", \n",
    "             \"assembly\" : {\"$in\" : [\"Germany\", \"United Kingdom\", \"Japan\"]}}\n",
    "    \n",
    "    return query\n",
    "\n",
    "\n",
    "# Do not edit code below this line in the online code editor.\n",
    "# Code here is for local use on your own computer.\n",
    "def get_db():\n",
    "    from pymongo import MongoClient\n",
    "    client = MongoClient('localhost:27017')\n",
    "    db = client.examples\n",
    "    return db\n",
    "\n",
    "\n",
    "if __name__ == \"__main__\":\n",
    "\n",
    "    db = get_db()\n",
    "    query = in_query()\n",
    "    autos = db.autos.find(query, {\"name\":1, \"manufacturer\":1, \"assembly\": 1, \"_id\":0})\n",
    "\n",
    "    print(\"Found autos:\", autos.count())\n",
    "    import pprint\n",
    "    for a in autos:\n",
    "        pprint.pprint(a)\n"
   ]
  },
  {
   "cell_type": "code",
   "execution_count": 96,
   "metadata": {
    "collapsed": false
   },
   "outputs": [
    {
     "ename": "DuplicateKeyError",
     "evalue": "E11000 duplicate key error collection: examples.autos index: _id_ dup key: { : \"52fd438b5a98d65507d288cf\" }",
     "output_type": "error",
     "traceback": [
      "\u001b[0;31m---------------------------------------------------------------------------\u001b[0m",
      "\u001b[0;31mDuplicateKeyError\u001b[0m                         Traceback (most recent call last)",
      "\u001b[0;32m<ipython-input-96-d96dccb24a80>\u001b[0m in \u001b[0;36m<module>\u001b[0;34m()\u001b[0m\n\u001b[1;32m     11\u001b[0m \u001b[0;34m\"productionYears\"\u001b[0m \u001b[0;34m:\u001b[0m \u001b[0;34m[\u001b[0m \u001b[0;34m]\u001b[0m\u001b[0;34m,\u001b[0m\u001b[0;34m\u001b[0m\u001b[0m\n\u001b[1;32m     12\u001b[0m \u001b[0;34m\"manufacturer\"\u001b[0m \u001b[0;34m:\u001b[0m \u001b[0;34m\"Marion Power Shovel Company\"\u001b[0m\u001b[0;34m,\u001b[0m\u001b[0;34m\u001b[0m\u001b[0m\n\u001b[0;32m---> 13\u001b[0;31m \u001b[0;34m\"name\"\u001b[0m \u001b[0;34m:\u001b[0m \u001b[0;34m\"Crawler-transporter\"\u001b[0m\u001b[0;34m\u001b[0m\u001b[0m\n\u001b[0m\u001b[1;32m     14\u001b[0m })\n",
      "\u001b[0;32m/Users/ggaasemyr/anaconda3/lib/python3.5/site-packages/pymongo/collection.py\u001b[0m in \u001b[0;36minsert_one\u001b[0;34m(self, document, bypass_document_validation)\u001b[0m\n\u001b[1;32m    628\u001b[0m             return InsertOneResult(\n\u001b[1;32m    629\u001b[0m                 self._insert(sock_info, document,\n\u001b[0;32m--> 630\u001b[0;31m                              bypass_doc_val=bypass_document_validation),\n\u001b[0m\u001b[1;32m    631\u001b[0m                 self.write_concern.acknowledged)\n\u001b[1;32m    632\u001b[0m \u001b[0;34m\u001b[0m\u001b[0m\n",
      "\u001b[0;32m/Users/ggaasemyr/anaconda3/lib/python3.5/site-packages/pymongo/collection.py\u001b[0m in \u001b[0;36m_insert\u001b[0;34m(self, sock_info, docs, ordered, check_keys, manipulate, write_concern, op_id, bypass_doc_val)\u001b[0m\n\u001b[1;32m    533\u001b[0m             return self._insert_one(\n\u001b[1;32m    534\u001b[0m                 \u001b[0msock_info\u001b[0m\u001b[0;34m,\u001b[0m \u001b[0mdocs\u001b[0m\u001b[0;34m,\u001b[0m \u001b[0mordered\u001b[0m\u001b[0;34m,\u001b[0m\u001b[0;34m\u001b[0m\u001b[0m\n\u001b[0;32m--> 535\u001b[0;31m                 check_keys, manipulate, write_concern, op_id, bypass_doc_val)\n\u001b[0m\u001b[1;32m    536\u001b[0m \u001b[0;34m\u001b[0m\u001b[0m\n\u001b[1;32m    537\u001b[0m         \u001b[0mids\u001b[0m \u001b[0;34m=\u001b[0m \u001b[0;34m[\u001b[0m\u001b[0;34m]\u001b[0m\u001b[0;34m\u001b[0m\u001b[0m\n",
      "\u001b[0;32m/Users/ggaasemyr/anaconda3/lib/python3.5/site-packages/pymongo/collection.py\u001b[0m in \u001b[0;36m_insert_one\u001b[0;34m(self, sock_info, doc, ordered, check_keys, manipulate, write_concern, op_id, bypass_doc_val)\u001b[0m\n\u001b[1;32m    515\u001b[0m                 \u001b[0mcodec_options\u001b[0m\u001b[0;34m=\u001b[0m\u001b[0mself\u001b[0m\u001b[0;34m.\u001b[0m\u001b[0m__write_response_codec_options\u001b[0m\u001b[0;34m,\u001b[0m\u001b[0;34m\u001b[0m\u001b[0m\n\u001b[1;32m    516\u001b[0m                 check_keys=check_keys)\n\u001b[0;32m--> 517\u001b[0;31m             \u001b[0m_check_write_command_response\u001b[0m\u001b[0;34m(\u001b[0m\u001b[0;34m[\u001b[0m\u001b[0;34m(\u001b[0m\u001b[0;36m0\u001b[0m\u001b[0;34m,\u001b[0m \u001b[0mresult\u001b[0m\u001b[0;34m)\u001b[0m\u001b[0;34m]\u001b[0m\u001b[0;34m)\u001b[0m\u001b[0;34m\u001b[0m\u001b[0m\n\u001b[0m\u001b[1;32m    518\u001b[0m         \u001b[0;32melse\u001b[0m\u001b[0;34m:\u001b[0m\u001b[0;34m\u001b[0m\u001b[0m\n\u001b[1;32m    519\u001b[0m             \u001b[0;31m# Legacy OP_INSERT.\u001b[0m\u001b[0;34m\u001b[0m\u001b[0;34m\u001b[0m\u001b[0m\n",
      "\u001b[0;32m/Users/ggaasemyr/anaconda3/lib/python3.5/site-packages/pymongo/helpers.py\u001b[0m in \u001b[0;36m_check_write_command_response\u001b[0;34m(results)\u001b[0m\n\u001b[1;32m    307\u001b[0m             \u001b[0merror\u001b[0m\u001b[0;34m[\u001b[0m\u001b[0;34m\"index\"\u001b[0m\u001b[0;34m]\u001b[0m \u001b[0;34m+=\u001b[0m \u001b[0moffset\u001b[0m\u001b[0;34m\u001b[0m\u001b[0m\n\u001b[1;32m    308\u001b[0m             \u001b[0;32mif\u001b[0m \u001b[0merror\u001b[0m\u001b[0;34m.\u001b[0m\u001b[0mget\u001b[0m\u001b[0;34m(\u001b[0m\u001b[0;34m\"code\"\u001b[0m\u001b[0;34m)\u001b[0m \u001b[0;34m==\u001b[0m \u001b[0;36m11000\u001b[0m\u001b[0;34m:\u001b[0m\u001b[0;34m\u001b[0m\u001b[0m\n\u001b[0;32m--> 309\u001b[0;31m                 \u001b[0;32mraise\u001b[0m \u001b[0mDuplicateKeyError\u001b[0m\u001b[0;34m(\u001b[0m\u001b[0merror\u001b[0m\u001b[0;34m.\u001b[0m\u001b[0mget\u001b[0m\u001b[0;34m(\u001b[0m\u001b[0;34m\"errmsg\"\u001b[0m\u001b[0;34m)\u001b[0m\u001b[0;34m,\u001b[0m \u001b[0;36m11000\u001b[0m\u001b[0;34m,\u001b[0m \u001b[0merror\u001b[0m\u001b[0;34m)\u001b[0m\u001b[0;34m\u001b[0m\u001b[0m\n\u001b[0m\u001b[1;32m    310\u001b[0m             \u001b[0;32mraise\u001b[0m \u001b[0mWriteError\u001b[0m\u001b[0;34m(\u001b[0m\u001b[0merror\u001b[0m\u001b[0;34m.\u001b[0m\u001b[0mget\u001b[0m\u001b[0;34m(\u001b[0m\u001b[0;34m\"errmsg\"\u001b[0m\u001b[0;34m)\u001b[0m\u001b[0;34m,\u001b[0m \u001b[0merror\u001b[0m\u001b[0;34m.\u001b[0m\u001b[0mget\u001b[0m\u001b[0;34m(\u001b[0m\u001b[0;34m\"code\"\u001b[0m\u001b[0;34m)\u001b[0m\u001b[0;34m,\u001b[0m \u001b[0merror\u001b[0m\u001b[0;34m)\u001b[0m\u001b[0;34m\u001b[0m\u001b[0m\n\u001b[1;32m    311\u001b[0m         \u001b[0;32melse\u001b[0m\u001b[0;34m:\u001b[0m\u001b[0;34m\u001b[0m\u001b[0m\n",
      "\u001b[0;31mDuplicateKeyError\u001b[0m: E11000 duplicate key error collection: examples.autos index: _id_ dup key: { : \"52fd438b5a98d65507d288cf\" }"
     ]
    }
   ],
   "source": [
    "db.autos.insert_one({\n",
    "\"_id\" : \"52fd438b5a98d65507d288cf\",\n",
    "\"engine\" : \"Crawler-transporter__1\",\n",
    "\"dimensions\" : {\n",
    "\"width\" : 34.7472,\n",
    "\"length\" : 39.9288,\n",
    "\"weight\" : 2721000\n",
    "},\n",
    "\"transmission\" : \"16 traction motors powered by four  generators\",\n",
    "\"modelYears\" : [ ],\n",
    "\"productionYears\" : [ ],\n",
    "\"manufacturer\" : \"Marion Power Shovel Company\",\n",
    "\"name\" : \"Crawler-transporter\"\n",
    "})"
   ]
  },
  {
   "cell_type": "code",
   "execution_count": 113,
   "metadata": {
    "collapsed": false
   },
   "outputs": [
    {
     "name": "stdout",
     "output_type": "stream",
     "text": [
      "Printing first 3 results\n",
      "\n",
      "{'_id': '52fd438b5a98d65507d288cf',\n",
      " 'dimensions': {'length': 39.9288, 'weight': 2721000, 'width': 34.7472},\n",
      " 'engine': 'Crawler-transporter__1',\n",
      " 'manufacturer': 'Marion Power Shovel Company',\n",
      " 'modelYears': [],\n",
      " 'name': 'Crawler-transporter',\n",
      " 'productionYears': [],\n",
      " 'transmission': '16 traction motors powered by four  generators'}\n"
     ]
    }
   ],
   "source": [
    "#Quiz: Dot notation\n",
    "\n",
    "#!/usr/bin/env python\n",
    "\"\"\"\n",
    "Your task is to write a query that will return all cars with width dimension\n",
    "greater than 2.5. Please modify only the 'dot_query' function, as only that\n",
    "will be taken into account.\n",
    "\n",
    "Your code will be run against a MongoDB instance that we have provided.\n",
    "If you want to run this code locally on your machine, you will need to install\n",
    "MongoDB, download and insert the dataset. For instructions related to MongoDB\n",
    "setup and datasets, please see the Course Materials.\n",
    "\"\"\"\n",
    "\n",
    "\n",
    "def dot_query():\n",
    "    # Edit the line below with your query - try to use dot notation.\n",
    "    # You can check out example_auto.txt for an example of the document\n",
    "    # structure in the collection.\n",
    "    query = {'dimensions.width' : {'$gt' : 2.5}}\n",
    "    return query\n",
    "\n",
    "\n",
    "# Do not edit code below this line in the online code editor.\n",
    "# Code here is for local use on your own computer.\n",
    "def get_db():\n",
    "    from pymongo import MongoClient\n",
    "    client = MongoClient('localhost:27017')\n",
    "    db = client.examples\n",
    "    return db\n",
    "\n",
    "\n",
    "if __name__ == \"__main__\":\n",
    "    db = get_db()\n",
    "    query = dot_query()\n",
    "    cars = db.autos.find(query)\n",
    "\n",
    "    print(\"Printing first 3 results\\n\")\n",
    "    import pprint\n",
    "    for car in cars[:3]:\n",
    "        pprint.pprint(car)\n"
   ]
  },
  {
   "cell_type": "code",
   "execution_count": 112,
   "metadata": {
    "collapsed": false
   },
   "outputs": [
    {
     "name": "stdout",
     "output_type": "stream",
     "text": [
      "{'productionYears': [], 'transmission': '16 traction motors powered by four  generators', 'engine': 'Crawler-transporter__1', 'dimensions': {'width': 34.7472, 'length': 39.9288, 'weight': 2721000}, 'modelYears': [], 'name': 'Crawler-transporter', '_id': '52fd438b5a98d65507d288cf', 'manufacturer': 'Marion Power Shovel Company'}\n"
     ]
    }
   ],
   "source": [
    "query = {'dimensions.width' : {'$gt' : 2.5}}\n",
    "\n",
    "for car in db.autos.find(query):\n",
    "    print(car)"
   ]
  },
  {
   "cell_type": "code",
   "execution_count": 110,
   "metadata": {
    "collapsed": false
   },
   "outputs": [
    {
     "name": "stdout",
     "output_type": "stream",
     "text": [
      "{'_id': ObjectId('58207e32d27f3a7c119c7f02')}\n",
      "{'_id': ObjectId('5820eb624dd9620c1de02019')}\n",
      "{'_id': ObjectId('5820eb624dd9620c1de0201a')}\n",
      "{'_id': ObjectId('5820eb624dd9620c1de0201b')}\n",
      "{'_id': ObjectId('5820eb624dd9620c1de0201c'), 'dimensions': {'width': 2.0}}\n",
      "{'_id': ObjectId('5820eb624dd9620c1de0201d'), 'dimensions': {'width': 1.65}}\n",
      "{'_id': ObjectId('5820eb624dd9620c1de0201e'), 'dimensions': {'width': 1.55}}\n",
      "{'_id': ObjectId('5820eb624dd9620c1de0201f')}\n",
      "{'_id': ObjectId('5820eb624dd9620c1de02020')}\n",
      "{'_id': ObjectId('5820eb624dd9620c1de02021'), 'dimensions': {}}\n",
      "{'_id': ObjectId('5820eb624dd9620c1de02022')}\n",
      "{'_id': ObjectId('5820eb624dd9620c1de02023')}\n",
      "{'_id': ObjectId('5820eb624dd9620c1de02024')}\n",
      "{'_id': ObjectId('5820eb624dd9620c1de02025'), 'dimensions': {'width': 1.1}}\n",
      "{'_id': ObjectId('5820eb624dd9620c1de02026')}\n",
      "{'_id': ObjectId('5820eb624dd9620c1de02027'), 'dimensions': {}}\n",
      "{'_id': ObjectId('5820eb624dd9620c1de02028')}\n",
      "{'_id': ObjectId('5820eb624dd9620c1de02029')}\n",
      "{'_id': ObjectId('5820eb624dd9620c1de0202a')}\n",
      "{'_id': ObjectId('5820eb624dd9620c1de0202b')}\n",
      "{'_id': ObjectId('5820eb624dd9620c1de0202c')}\n",
      "{'_id': ObjectId('5820fad5d27f3a7c119c7f03')}\n",
      "{'_id': '52fd438b5a98d65507d288cf', 'dimensions': {'width': 34.7472}}\n"
     ]
    }
   ],
   "source": [
    "for car in db.autos.find({},{\"dimensions.width\" : 1}):\n",
    "    print(car)"
   ]
  },
  {
   "cell_type": "markdown",
   "metadata": {},
   "source": [
    "## Problem set"
   ]
  },
  {
   "cell_type": "code",
   "execution_count": 170,
   "metadata": {
    "collapsed": false
   },
   "outputs": [
    {
     "name": "stdout",
     "output_type": "stream",
     "text": [
      "<_sre.SRE_Match object; span=(2, 8), match='_field'>\n"
     ]
    }
   ],
   "source": [
    "print(re.search('_field','la_field'))"
   ]
  },
  {
   "cell_type": "code",
   "execution_count": 48,
   "metadata": {
    "collapsed": false
   },
   "outputs": [
    {
     "name": "stdout",
     "output_type": "stream",
     "text": [
      "Your first entry:\n",
      "{'classification': {'class': 'Arachnid',\n",
      "                    'family': 'Orb-weaver spider',\n",
      "                    'genus': None,\n",
      "                    'kingdom': 'Animal',\n",
      "                    'order': 'Spider',\n",
      "                    'phylum': 'Arthropod'},\n",
      " 'description': 'The genus Argiope includes rather large and spectacular '\n",
      "                'spiders that often have a strikingly coloured abdomen. These '\n",
      "                'spiders are distributed throughout the world. Most countries '\n",
      "                'in tropical or temperate climates host one or more species '\n",
      "                'that are similar in appearance. The etymology of the name is '\n",
      "                'from a Greek name meaning silver-faced.',\n",
      " 'label': 'Argiope',\n",
      " 'name': 'Argiope',\n",
      " 'synonym': None,\n",
      " 'uri': 'http://dbpedia.org/resource/Argiope_(spider)'}\n"
     ]
    }
   ],
   "source": [
    "#Quiz: Preparing data\n",
    "\n",
    "#!/usr/bin/env python\n",
    "# -*- coding: utf-8 -*-\n",
    "\"\"\"\n",
    "In this problem set you work with another type of infobox data, audit it,\n",
    "clean it, come up with a data model, insert it into MongoDB and then run some\n",
    "queries against your database. The set contains data about Arachnid class\n",
    "animals.\n",
    "\n",
    "Your task in this exercise is to parse the file, process only the fields that\n",
    "are listed in the FIELDS dictionary as keys, and return a list of dictionaries\n",
    "of cleaned values. \n",
    "\n",
    "The following things should be done:\n",
    "- keys of the dictionary changed according to the mapping in FIELDS dictionary\n",
    "- trim out redundant description in parenthesis from the 'rdf-schema#label'\n",
    "  field, like \"(spider)\"\n",
    "- if 'name' is \"NULL\" or contains non-alphanumeric characters, set it to the\n",
    "  same value as 'label'.\n",
    "- if a value of a field is \"NULL\", convert it to None\n",
    "- if there is a value in 'synonym', it should be converted to an array (list)\n",
    "  by stripping the \"{}\" characters and splitting the string on \"|\". Rest of the\n",
    "  cleanup is up to you, e.g. removing \"*\" prefixes etc. If there is a singular\n",
    "  synonym, the value should still be formatted in a list.\n",
    "- strip leading and ending whitespace from all fields, if there is any\n",
    "- the output structure should be as follows:\n",
    "\n",
    "[ { 'label': 'Argiope',\n",
    "    'uri': 'http://dbpedia.org/resource/Argiope_(spider)',\n",
    "    'description': 'The genus Argiope includes rather large and spectacular spiders that often ...',\n",
    "    'name': 'Argiope',\n",
    "    'synonym': [\"One\", \"Two\"],\n",
    "    'classification': {\n",
    "                      'family': 'Orb-weaver spider',\n",
    "                      'class': 'Arachnid',\n",
    "                      'phylum': 'Arthropod',\n",
    "                      'order': 'Spider',\n",
    "                      'kingdom': 'Animal',\n",
    "                      'genus': None\n",
    "                      }\n",
    "  },\n",
    "  { 'label': ... , }, ...\n",
    "]\n",
    "\n",
    "  * Note that the value associated with the classification key is a dictionary\n",
    "    with taxonomic labels.\n",
    "\"\"\"\n",
    "import codecs\n",
    "import csv\n",
    "import json\n",
    "import pprint\n",
    "import re\n",
    "\n",
    "DATAFILE = 'data/arachnid.csv'\n",
    "FIELDS ={'rdf-schema#label': 'label',\n",
    "         'URI': 'uri',\n",
    "         'rdf-schema#comment': 'description',\n",
    "         'synonym': 'synonym',\n",
    "         'name': 'name',\n",
    "         'family_label': 'family',\n",
    "         'class_label': 'class',\n",
    "         'phylum_label': 'phylum',\n",
    "         'order_label': 'order',\n",
    "         'kingdom_label': 'kingdom',\n",
    "         'genus_label': 'genus'}\n",
    "\n",
    "\n",
    "def process_file(filename, fields):\n",
    "\n",
    "    process_fields = fields.keys()\n",
    "    data = []\n",
    "    with open(filename, \"r\") as f:\n",
    "        reader = csv.DictReader(f)\n",
    "        for i in range(3):\n",
    "            l = next(reader)\n",
    "\n",
    "        for line in reader:\n",
    "            # YOUR CODE HERE\n",
    "            record = dict()\n",
    "            classification = dict()\n",
    "            label_val = re.sub(' \\(.*?\\)$','',line['rdf-schema#label'])\n",
    "            \n",
    "            for key in fields.keys():\n",
    "                if re.search('_label',key):\n",
    "                    field_val = line[key].strip()\n",
    "                    \n",
    "                    if field_val == 'NULL':\n",
    "                        classification[fields[key]] = None\n",
    "                    else:\n",
    "                        classification[fields[key]] = field_val\n",
    "                            \n",
    "                elif key == \"rdf-schema#label\":\n",
    "                    if label_val == 'NULL':\n",
    "                        record['label'] = None\n",
    "                    else:\n",
    "                        record['label'] = label_val\n",
    "                \n",
    "                elif key == 'name' and (line['name'] == 'NULL' or re.search('\\W',line['name'])):\n",
    "                    record['name'] = label_val\n",
    "                \n",
    "                elif key == 'synonym' and line['synonym'] != ('' or 'NULL'):\n",
    "\n",
    "                    synonym_val = re.sub('\\*','',line['synonym']).strip('{}').split('|')\n",
    "                    record['synonym'] = list(map(str.strip,synonym_val))\n",
    "               \n",
    "                else:\n",
    "                    field_val = line[key].strip()\n",
    "                    \n",
    "                    if field_val == 'NULL':\n",
    "                        record[fields[key]] = None\n",
    "                    else:\n",
    "                        record[fields[key]] = field_val\n",
    "\n",
    "            record['classification'] = classification  \n",
    "            data.append(record)\n",
    "        \n",
    "    return data\n",
    "\n",
    "\n",
    "def parse_array(v):\n",
    "    if (v[0] == \"{\") and (v[-1] == \"}\"):\n",
    "        v = v.lstrip(\"{\")\n",
    "        v = v.rstrip(\"}\")\n",
    "        v_array = v.split(\"|\")\n",
    "        v_array = [i.strip() for i in v_array]\n",
    "        return v_array\n",
    "    return [v]\n",
    "\n",
    "\n",
    "def test():\n",
    "    data = process_file(DATAFILE, FIELDS)\n",
    "    print(\"Your first entry:\")\n",
    "    pprint.pprint(data[0])\n",
    "    first_entry = {\n",
    "        \"synonym\": None, \n",
    "        \"name\": \"Argiope\", \n",
    "        \"classification\": {\n",
    "            \"kingdom\": \"Animal\", \n",
    "            \"family\": \"Orb-weaver spider\", \n",
    "            \"order\": \"Spider\", \n",
    "            \"phylum\": \"Arthropod\", \n",
    "            \"genus\": None, \n",
    "            \"class\": \"Arachnid\"\n",
    "        }, \n",
    "        \"uri\": \"http://dbpedia.org/resource/Argiope_(spider)\", \n",
    "        \"label\": \"Argiope\", \n",
    "        \"description\": \"The genus Argiope includes rather large and spectacular spiders that often have a strikingly coloured abdomen. These spiders are distributed throughout the world. Most countries in tropical or temperate climates host one or more species that are similar in appearance. The etymology of the name is from a Greek name meaning silver-faced.\"\n",
    "    }\n",
    "\n",
    "    assert len(data) == 76\n",
    "    assert data[0] == first_entry\n",
    "    assert data[17][\"name\"] == \"Ogdenia\"\n",
    "    assert data[48][\"label\"] == \"Hydrachnidiae\"\n",
    "    assert data[14][\"synonym\"] == [\"Cyrene Peckham & Peckham\"]\n",
    "    \n",
    "    return data\n",
    "\n",
    "if __name__ == \"__main__\":\n",
    "    tmp_data = test()"
   ]
  },
  {
   "cell_type": "code",
   "execution_count": 79,
   "metadata": {
    "collapsed": false
   },
   "outputs": [
    {
     "data": {
      "text/plain": [
       "{'_id': ObjectId('5825f1864dd9620c1de02040'),\n",
       " 'classification': {'class': 'Arachnid',\n",
       "  'family': 'Orb-weaver spider',\n",
       "  'genus': None,\n",
       "  'kingdom': 'Animal',\n",
       "  'order': 'Spider',\n",
       "  'phylum': 'Arthropod'},\n",
       " 'description': 'The genus Argiope includes rather large and spectacular spiders that often have a strikingly coloured abdomen. These spiders are distributed throughout the world. Most countries in tropical or temperate climates host one or more species that are similar in appearance. The etymology of the name is from a Greek name meaning silver-faced.',\n",
       " 'label': 'Argiope',\n",
       " 'name': 'Argiope',\n",
       " 'synonym': None,\n",
       " 'uri': 'http://dbpedia.org/resource/Argiope_(spider)'}"
      ]
     },
     "execution_count": 79,
     "metadata": {},
     "output_type": "execute_result"
    }
   ],
   "source": [
    "db.arachnid.find_one({\"classification.family\" : \"Orb-weaver spider\"})"
   ]
  },
  {
   "cell_type": "code",
   "execution_count": 188,
   "metadata": {
    "collapsed": false
   },
   "outputs": [
    {
     "data": {
      "text/plain": [
       "<pymongo.results.InsertManyResult at 0x106b56360>"
      ]
     },
     "execution_count": 188,
     "metadata": {},
     "output_type": "execute_result"
    }
   ],
   "source": [
    "# db.arachnid.insert_many(tmp_data)"
   ]
  },
  {
   "cell_type": "code",
   "execution_count": 50,
   "metadata": {
    "collapsed": false
   },
   "outputs": [
    {
     "name": "stdout",
     "output_type": "stream",
     "text": [
      "{'name': 'Argiope', 'uri': 'http://dbpedia.org/resource/Argiope_(spider)', 'label': 'Argiope', 'description': 'The genus Argiope includes rather large and spectacular spiders that often have a strikingly coloured abdomen. These spiders are distributed throughout the world. Most countries in tropical or temperate climates host one or more species that are similar in appearance. The etymology of the name is from a Greek name meaning silver-faced.', 'synonym': None, 'classification': {'phylum': 'Arthropod', 'order': 'Spider', 'genus': None, 'class': 'Arachnid', 'kingdom': 'Animal', 'family': 'Orb-weaver spider'}, '_id': ObjectId('5825f1864dd9620c1de02040')}\n"
     ]
    }
   ],
   "source": [
    "#Quiz: Inserting into DB\n",
    "\n",
    "\"\"\"\n",
    "Complete the insert_data function to insert the data into MongoDB.\n",
    "\"\"\"\n",
    "\n",
    "import json\n",
    "\n",
    "def insert_data(data, db):\n",
    "\n",
    "    # Your code here. Insert the data into a collection 'arachnid'\n",
    "    db.arachnid.insert_many(data)\n",
    "\n",
    "\n",
    "if __name__ == \"__main__\":\n",
    "    \n",
    "    from pymongo import MongoClient\n",
    "    client = MongoClient(\"mongodb://localhost:27017\")\n",
    "    db = client.examples\n",
    "\n",
    "    with open('data/arachnid.json') as f:\n",
    "        data = json.loads(f.read())\n",
    "        insert_data(data, db)\n",
    "        print(db.arachnid.find_one())"
   ]
  },
  {
   "cell_type": "code",
   "execution_count": 55,
   "metadata": {
    "collapsed": false
   },
   "outputs": [
    {
     "data": {
      "text/plain": [
       "{'_id': ObjectId('5825f1864dd9620c1de02040'),\n",
       " 'classification': {'class': 'Arachnid',\n",
       "  'family': 'Orb-weaver spider',\n",
       "  'genus': None,\n",
       "  'kingdom': 'Animal',\n",
       "  'order': 'Spider',\n",
       "  'phylum': 'Arthropod'},\n",
       " 'description': 'The genus Argiope includes rather large and spectacular spiders that often have a strikingly coloured abdomen. These spiders are distributed throughout the world. Most countries in tropical or temperate climates host one or more species that are similar in appearance. The etymology of the name is from a Greek name meaning silver-faced.',\n",
       " 'label': 'Argiope',\n",
       " 'name': 'Argiope',\n",
       " 'synonym': None,\n",
       " 'uri': 'http://dbpedia.org/resource/Argiope_(spider)'}"
      ]
     },
     "execution_count": 55,
     "metadata": {},
     "output_type": "execute_result"
    }
   ],
   "source": [
    "db.arachnid.find_one()#.classification.find_one()"
   ]
  },
  {
   "cell_type": "markdown",
   "metadata": {},
   "source": [
    "## Analyzing data"
   ]
  },
  {
   "cell_type": "code",
   "execution_count": 207,
   "metadata": {
    "collapsed": false
   },
   "outputs": [],
   "source": [
    "#Needed for quiz below\n",
    "import json\n",
    "with open('data/tweet.json') as f:\n",
    "    \n",
    "    data = json.loads(f.read())\n",
    "    \n",
    "    db.tweets.insert_one(data)"
   ]
  },
  {
   "cell_type": "code",
   "execution_count": 69,
   "metadata": {
    "collapsed": false
   },
   "outputs": [
    {
     "data": {
      "text/plain": [
       "0"
      ]
     },
     "execution_count": 69,
     "metadata": {},
     "output_type": "execute_result"
    }
   ],
   "source": [
    "db.twitter.user.find({'favourites_count': 1}).count()"
   ]
  },
  {
   "cell_type": "code",
   "execution_count": 87,
   "metadata": {
    "collapsed": false
   },
   "outputs": [
    {
     "data": {
      "text/plain": [
       "{'_id': '5304e2e3cc9e684aa98bef97', 'source': 'web'}"
      ]
     },
     "execution_count": 87,
     "metadata": {},
     "output_type": "execute_result"
    }
   ],
   "source": [
    "db.twitter.find_one({},{\"source\" : 1})"
   ]
  },
  {
   "cell_type": "code",
   "execution_count": 106,
   "metadata": {
    "collapsed": false
   },
   "outputs": [
    {
     "data": {
      "text/plain": [
       "{'_id': '5304e2e3cc9e684aa98bef97',\n",
       " 'contributors': None,\n",
       " 'coordinates': None,\n",
       " 'created_at': 'Thu Sep 02 18:11:25 +0000 2010',\n",
       " 'entities': {'hashtags': [], 'urls': [], 'user_mentions': []},\n",
       " 'favorited': False,\n",
       " 'geo': None,\n",
       " 'id': '22819398300',\n",
       " 'in_reply_to_screen_name': None,\n",
       " 'in_reply_to_status_id': None,\n",
       " 'in_reply_to_user_id': None,\n",
       " 'place': None,\n",
       " 'retweet_count': None,\n",
       " 'retweeted': False,\n",
       " 'source': 'web',\n",
       " 'text': 'First week of school is over :P',\n",
       " 'truncated': False,\n",
       " 'user': {'contributors_enabled': False,\n",
       "  'created_at': 'Sun May 03 19:51:04 +0000 2009',\n",
       "  'description': '',\n",
       "  'favourites_count': 1,\n",
       "  'follow_request_sent': None,\n",
       "  'followers_count': 169,\n",
       "  'following': None,\n",
       "  'friends_count': 145,\n",
       "  'geo_enabled': False,\n",
       "  'id': 37486277,\n",
       "  'lang': 'en',\n",
       "  'listed_count': 77,\n",
       "  'location': 'Ireland :)',\n",
       "  'name': 'Catherine Mullane',\n",
       "  'notifications': None,\n",
       "  'profile_background_color': 'FF6699',\n",
       "  'profile_background_image_url': 'http://a3.twimg.com/profile_background_images/138228501/149174881-8cd806890274b828ed56598091c84e71_4c6fd4d8-full.jpg',\n",
       "  'profile_background_tile': True,\n",
       "  'profile_image_url': 'http://a1.twimg.com/profile_images/1107778717/phpkHoxzmAM_normal.jpg',\n",
       "  'profile_link_color': 'B40B43',\n",
       "  'profile_sidebar_border_color': 'CC3366',\n",
       "  'profile_sidebar_fill_color': 'E5507E',\n",
       "  'profile_text_color': '362720',\n",
       "  'profile_use_background_image': True,\n",
       "  'protected': False,\n",
       "  'screen_name': 'Catherinemull',\n",
       "  'show_all_inline_media': False,\n",
       "  'statuses_count': 2475,\n",
       "  'time_zone': None,\n",
       "  'url': None,\n",
       "  'utc_offset': None,\n",
       "  'verified': False}}"
      ]
     },
     "execution_count": 106,
     "metadata": {},
     "output_type": "execute_result"
    }
   ],
   "source": [
    "db.twitter.find_one({'source': 'web'})"
   ]
  },
  {
   "cell_type": "code",
   "execution_count": 82,
   "metadata": {
    "collapsed": false
   },
   "outputs": [
    {
     "name": "stdout",
     "output_type": "stream",
     "text": [
      "{'_id': '5304e2e3cc9e684aa98bef97',\n",
      " 'contributors': None,\n",
      " 'coordinates': None,\n",
      " 'created_at': 'Thu Sep 02 18:11:25 +0000 2010',\n",
      " 'entities': {'hashtags': [], 'urls': [], 'user_mentions': []},\n",
      " 'favorited': False,\n",
      " 'geo': None,\n",
      " 'id': '22819398300',\n",
      " 'in_reply_to_screen_name': None,\n",
      " 'in_reply_to_status_id': None,\n",
      " 'in_reply_to_user_id': None,\n",
      " 'place': None,\n",
      " 'retweet_count': None,\n",
      " 'retweeted': False,\n",
      " 'source': 'web',\n",
      " 'text': 'First week of school is over :P',\n",
      " 'truncated': False,\n",
      " 'user': {'contributors_enabled': False,\n",
      "          'created_at': 'Sun May 03 19:51:04 +0000 2009',\n",
      "          'description': '',\n",
      "          'favourites_count': 1,\n",
      "          'follow_request_sent': None,\n",
      "          'followers_count': 169,\n",
      "          'following': None,\n",
      "          'friends_count': 145,\n",
      "          'geo_enabled': False,\n",
      "          'id': 37486277,\n",
      "          'lang': 'en',\n",
      "          'listed_count': 77,\n",
      "          'location': 'Ireland :)',\n",
      "          'name': 'Catherine Mullane',\n",
      "          'notifications': None,\n",
      "          'profile_background_color': 'FF6699',\n",
      "          'profile_background_image_url': 'http://a3.twimg.com/profile_background_images/138228501/149174881-8cd806890274b828ed56598091c84e71_4c6fd4d8-full.jpg',\n",
      "          'profile_background_tile': True,\n",
      "          'profile_image_url': 'http://a1.twimg.com/profile_images/1107778717/phpkHoxzmAM_normal.jpg',\n",
      "          'profile_link_color': 'B40B43',\n",
      "          'profile_sidebar_border_color': 'CC3366',\n",
      "          'profile_sidebar_fill_color': 'E5507E',\n",
      "          'profile_text_color': '362720',\n",
      "          'profile_use_background_image': True,\n",
      "          'protected': False,\n",
      "          'screen_name': 'Catherinemull',\n",
      "          'show_all_inline_media': False,\n",
      "          'statuses_count': 2475,\n",
      "          'time_zone': None,\n",
      "          'url': None,\n",
      "          'utc_offset': None,\n",
      "          'verified': False}}\n"
     ]
    }
   ],
   "source": [
    "#db.twitter.find().count()\n",
    "\n",
    "for rec in db.twitter.find():\n",
    "    pprint.pprint(rec)"
   ]
  },
  {
   "cell_type": "code",
   "execution_count": 115,
   "metadata": {
    "collapsed": false
   },
   "outputs": [
    {
     "name": "stdout",
     "output_type": "stream",
     "text": [
      "{'count': 1, '_id': 'web'}\n"
     ]
    }
   ],
   "source": [
    "for doc in db.twitter.aggregate([{\"$group\" : {\"_id\" : \"$source\",\"count\" : {\"$sum\" :1} } } ]):\n",
    "    print(doc)"
   ]
  },
  {
   "cell_type": "code",
   "execution_count": 123,
   "metadata": {
    "collapsed": false
   },
   "outputs": [
    {
     "name": "stdout",
     "output_type": "stream",
     "text": [
      "{'_id': 'web', 'count': 1}\n"
     ]
    },
    {
     "ename": "AssertionError",
     "evalue": "",
     "output_type": "error",
     "traceback": [
      "\u001b[0;31m---------------------------------------------------------------------------\u001b[0m",
      "\u001b[0;31mAssertionError\u001b[0m                            Traceback (most recent call last)",
      "\u001b[0;32m<ipython-input-123-a66d8f1addaa>\u001b[0m in \u001b[0;36m<module>\u001b[0;34m()\u001b[0m\n\u001b[1;32m     50\u001b[0m     \u001b[0;32mimport\u001b[0m \u001b[0mpprint\u001b[0m\u001b[0;34m\u001b[0m\u001b[0m\n\u001b[1;32m     51\u001b[0m     \u001b[0mpprint\u001b[0m\u001b[0;34m.\u001b[0m\u001b[0mpprint\u001b[0m\u001b[0;34m(\u001b[0m\u001b[0mresult\u001b[0m\u001b[0;34m[\u001b[0m\u001b[0;36m0\u001b[0m\u001b[0;34m]\u001b[0m\u001b[0;34m)\u001b[0m\u001b[0;34m\u001b[0m\u001b[0m\n\u001b[0;32m---> 52\u001b[0;31m     \u001b[0;32massert\u001b[0m \u001b[0mresult\u001b[0m\u001b[0;34m[\u001b[0m\u001b[0;36m0\u001b[0m\u001b[0;34m]\u001b[0m \u001b[0;34m==\u001b[0m \u001b[0;34m{\u001b[0m\u001b[0;34mu'count'\u001b[0m\u001b[0;34m:\u001b[0m \u001b[0;36m868\u001b[0m\u001b[0;34m,\u001b[0m \u001b[0;34mu'_id'\u001b[0m\u001b[0;34m:\u001b[0m \u001b[0;34mu'web'\u001b[0m\u001b[0;34m}\u001b[0m\u001b[0;34m\u001b[0m\u001b[0m\n\u001b[0m",
      "\u001b[0;31mAssertionError\u001b[0m: "
     ]
    }
   ],
   "source": [
    "#Quiz: Using group\n",
    "\n",
    "#!/usr/bin/env python\n",
    "\"\"\"\n",
    "The tweets in our twitter collection have a field called \"source\". This field describes the application\n",
    "that was used to create the tweet. Following the examples for using the $group operator, your task is \n",
    "to modify the 'make-pipeline' function to identify most used applications for creating tweets. \n",
    "As a check on your query, 'web' is listed as the most frequently used application.\n",
    "'Ubertwitter' is the second most used. The number of counts should be stored in a field named 'count'\n",
    "(see the assertion at the end of the script).\n",
    "\n",
    "Please modify only the 'make_pipeline' function so that it creates and returns an aggregation pipeline\n",
    "that can be passed to the MongoDB aggregate function. As in our examples in this lesson, the aggregation \n",
    "pipeline should be a list of one or more dictionary objects. \n",
    "Please review the lesson examples if you are unsure of the syntax.\n",
    "\n",
    "Your code will be run against a MongoDB instance that we have provided. \n",
    "If you want to run this code locally on your machine, you have to install MongoDB, \n",
    "download and insert the dataset.\n",
    "For instructions related to MongoDB setup and datasets please see Course Materials.\n",
    "\n",
    "Please note that the dataset you are using here is a smaller version of the twitter dataset \n",
    "used in examples in this lesson. \n",
    "If you attempt some of the same queries that we looked at in the lesson examples,\n",
    "your results will be different.\n",
    "\"\"\"\n",
    "\n",
    "\n",
    "def get_db(db_name):\n",
    "    from pymongo import MongoClient\n",
    "    client = MongoClient('localhost:27017')\n",
    "    db = client[db_name]\n",
    "    return db\n",
    "\n",
    "def make_pipeline():\n",
    "    # complete the aggregation pipeline\n",
    "#     pipeline = []\n",
    "    pipeline = [{\"$group\" : {\"_id\" : \"$source\",\n",
    "                            \"count\" : {\"$sum\" :1} } },\n",
    "                 {\"$sort\" : {\"count\" : -1} } ]\n",
    "    return pipeline\n",
    "\n",
    "def tweet_sources(db, pipeline):\n",
    "    return [doc for doc in db.tweets.aggregate(pipeline)]\n",
    "\n",
    "if __name__ == '__main__':\n",
    "    db = get_db('twitter')\n",
    "    pipeline = make_pipeline()\n",
    "    result = tweet_sources(db, pipeline)\n",
    "    import pprint\n",
    "    pprint.pprint(result[0])\n",
    "    assert result[0] == {u'count': 868, u'_id': u'web'}\n"
   ]
  },
  {
   "cell_type": "code",
   "execution_count": 134,
   "metadata": {
    "collapsed": false
   },
   "outputs": [
    {
     "name": "stdout",
     "output_type": "stream",
     "text": [
      "{'ratio': 1.1655172413793105, 'screen_name': 'Catherinemull', '_id': '5304e2e3cc9e684aa98bef97'}\n"
     ]
    }
   ],
   "source": [
    "#example use of $match and $project operators\n",
    "for rec in db.tweets.aggregate([\n",
    "        { \"$match\" : { \"user.friends_count\": {\"$gt\" : 0},\n",
    "                    \"user.followers_count\": {\"$gt\" : 0} } },\n",
    "        { \"$project\" : { \"ratio\" :{ \"$divide\" : [\"$user.followers_count\",\n",
    "                                                \"$user.friends_count\"]},\n",
    "                       \"screen_name\": \"$user.screen_name\"} },\n",
    "        { \"$sort\" : { \"ratio\" : -1} },\n",
    "        { \"$limit\" : 1 } ]):\n",
    "        print(rec)"
   ]
  },
  {
   "cell_type": "code",
   "execution_count": 131,
   "metadata": {
    "collapsed": false
   },
   "outputs": [
    {
     "name": "stdout",
     "output_type": "stream",
     "text": [
      "{'ratio': 1.1655172413793105, 'screen_name': 'Catherinemull', '_id': '5304e2e3cc9e684aa98bef97'}\n"
     ]
    }
   ],
   "source": [
    "#example use of $project operator\n",
    "for rec in db.tweets.aggregate([\n",
    "        { \"$project\" : { \"ratio\" :{ \"$divide\" : [\"$user.followers_count\",\n",
    "                                                \"$user.friends_count\"]},\n",
    "                       \"screen_name\": \"$user.screen_name\"} }]):\n",
    "    print(rec)"
   ]
  },
  {
   "cell_type": "code",
   "execution_count": 137,
   "metadata": {
    "collapsed": false
   },
   "outputs": [
    {
     "ename": "DuplicateKeyError",
     "evalue": "E11000 duplicate key error collection: twitter.tweets index: _id_ dup key: { : \"5304e2e3cc9e684aa98bef97\" }",
     "output_type": "error",
     "traceback": [
      "\u001b[0;31m---------------------------------------------------------------------------\u001b[0m",
      "\u001b[0;31mDuplicateKeyError\u001b[0m                         Traceback (most recent call last)",
      "\u001b[0;32m<ipython-input-137-d98bc7de358a>\u001b[0m in \u001b[0;36m<module>\u001b[0;34m()\u001b[0m\n\u001b[1;32m      4\u001b[0m     \u001b[0mdata\u001b[0m \u001b[0;34m=\u001b[0m \u001b[0mjson\u001b[0m\u001b[0;34m.\u001b[0m\u001b[0mload\u001b[0m\u001b[0;34m(\u001b[0m\u001b[0mf\u001b[0m\u001b[0;34m)\u001b[0m\u001b[0;34m\u001b[0m\u001b[0m\n\u001b[1;32m      5\u001b[0m \u001b[0;34m\u001b[0m\u001b[0m\n\u001b[0;32m----> 6\u001b[0;31m     \u001b[0mdb\u001b[0m\u001b[0;34m.\u001b[0m\u001b[0mtweets\u001b[0m\u001b[0;34m.\u001b[0m\u001b[0minsert_one\u001b[0m\u001b[0;34m(\u001b[0m\u001b[0mdata\u001b[0m\u001b[0;34m)\u001b[0m\u001b[0;34m\u001b[0m\u001b[0m\n\u001b[0m",
      "\u001b[0;32m/Users/ggaasemyr/anaconda3/lib/python3.5/site-packages/pymongo/collection.py\u001b[0m in \u001b[0;36minsert_one\u001b[0;34m(self, document, bypass_document_validation)\u001b[0m\n\u001b[1;32m    628\u001b[0m             return InsertOneResult(\n\u001b[1;32m    629\u001b[0m                 self._insert(sock_info, document,\n\u001b[0;32m--> 630\u001b[0;31m                              bypass_doc_val=bypass_document_validation),\n\u001b[0m\u001b[1;32m    631\u001b[0m                 self.write_concern.acknowledged)\n\u001b[1;32m    632\u001b[0m \u001b[0;34m\u001b[0m\u001b[0m\n",
      "\u001b[0;32m/Users/ggaasemyr/anaconda3/lib/python3.5/site-packages/pymongo/collection.py\u001b[0m in \u001b[0;36m_insert\u001b[0;34m(self, sock_info, docs, ordered, check_keys, manipulate, write_concern, op_id, bypass_doc_val)\u001b[0m\n\u001b[1;32m    533\u001b[0m             return self._insert_one(\n\u001b[1;32m    534\u001b[0m                 \u001b[0msock_info\u001b[0m\u001b[0;34m,\u001b[0m \u001b[0mdocs\u001b[0m\u001b[0;34m,\u001b[0m \u001b[0mordered\u001b[0m\u001b[0;34m,\u001b[0m\u001b[0;34m\u001b[0m\u001b[0m\n\u001b[0;32m--> 535\u001b[0;31m                 check_keys, manipulate, write_concern, op_id, bypass_doc_val)\n\u001b[0m\u001b[1;32m    536\u001b[0m \u001b[0;34m\u001b[0m\u001b[0m\n\u001b[1;32m    537\u001b[0m         \u001b[0mids\u001b[0m \u001b[0;34m=\u001b[0m \u001b[0;34m[\u001b[0m\u001b[0;34m]\u001b[0m\u001b[0;34m\u001b[0m\u001b[0m\n",
      "\u001b[0;32m/Users/ggaasemyr/anaconda3/lib/python3.5/site-packages/pymongo/collection.py\u001b[0m in \u001b[0;36m_insert_one\u001b[0;34m(self, sock_info, doc, ordered, check_keys, manipulate, write_concern, op_id, bypass_doc_val)\u001b[0m\n\u001b[1;32m    515\u001b[0m                 \u001b[0mcodec_options\u001b[0m\u001b[0;34m=\u001b[0m\u001b[0mself\u001b[0m\u001b[0;34m.\u001b[0m\u001b[0m__write_response_codec_options\u001b[0m\u001b[0;34m,\u001b[0m\u001b[0;34m\u001b[0m\u001b[0m\n\u001b[1;32m    516\u001b[0m                 check_keys=check_keys)\n\u001b[0;32m--> 517\u001b[0;31m             \u001b[0m_check_write_command_response\u001b[0m\u001b[0;34m(\u001b[0m\u001b[0;34m[\u001b[0m\u001b[0;34m(\u001b[0m\u001b[0;36m0\u001b[0m\u001b[0;34m,\u001b[0m \u001b[0mresult\u001b[0m\u001b[0;34m)\u001b[0m\u001b[0;34m]\u001b[0m\u001b[0;34m)\u001b[0m\u001b[0;34m\u001b[0m\u001b[0m\n\u001b[0m\u001b[1;32m    518\u001b[0m         \u001b[0;32melse\u001b[0m\u001b[0;34m:\u001b[0m\u001b[0;34m\u001b[0m\u001b[0m\n\u001b[1;32m    519\u001b[0m             \u001b[0;31m# Legacy OP_INSERT.\u001b[0m\u001b[0;34m\u001b[0m\u001b[0;34m\u001b[0m\u001b[0m\n",
      "\u001b[0;32m/Users/ggaasemyr/anaconda3/lib/python3.5/site-packages/pymongo/helpers.py\u001b[0m in \u001b[0;36m_check_write_command_response\u001b[0;34m(results)\u001b[0m\n\u001b[1;32m    307\u001b[0m             \u001b[0merror\u001b[0m\u001b[0;34m[\u001b[0m\u001b[0;34m\"index\"\u001b[0m\u001b[0;34m]\u001b[0m \u001b[0;34m+=\u001b[0m \u001b[0moffset\u001b[0m\u001b[0;34m\u001b[0m\u001b[0m\n\u001b[1;32m    308\u001b[0m             \u001b[0;32mif\u001b[0m \u001b[0merror\u001b[0m\u001b[0;34m.\u001b[0m\u001b[0mget\u001b[0m\u001b[0;34m(\u001b[0m\u001b[0;34m\"code\"\u001b[0m\u001b[0;34m)\u001b[0m \u001b[0;34m==\u001b[0m \u001b[0;36m11000\u001b[0m\u001b[0;34m:\u001b[0m\u001b[0;34m\u001b[0m\u001b[0m\n\u001b[0;32m--> 309\u001b[0;31m                 \u001b[0;32mraise\u001b[0m \u001b[0mDuplicateKeyError\u001b[0m\u001b[0;34m(\u001b[0m\u001b[0merror\u001b[0m\u001b[0;34m.\u001b[0m\u001b[0mget\u001b[0m\u001b[0;34m(\u001b[0m\u001b[0;34m\"errmsg\"\u001b[0m\u001b[0;34m)\u001b[0m\u001b[0;34m,\u001b[0m \u001b[0;36m11000\u001b[0m\u001b[0;34m,\u001b[0m \u001b[0merror\u001b[0m\u001b[0;34m)\u001b[0m\u001b[0;34m\u001b[0m\u001b[0m\n\u001b[0m\u001b[1;32m    310\u001b[0m             \u001b[0;32mraise\u001b[0m \u001b[0mWriteError\u001b[0m\u001b[0;34m(\u001b[0m\u001b[0merror\u001b[0m\u001b[0;34m.\u001b[0m\u001b[0mget\u001b[0m\u001b[0;34m(\u001b[0m\u001b[0;34m\"errmsg\"\u001b[0m\u001b[0;34m)\u001b[0m\u001b[0;34m,\u001b[0m \u001b[0merror\u001b[0m\u001b[0;34m.\u001b[0m\u001b[0mget\u001b[0m\u001b[0;34m(\u001b[0m\u001b[0;34m\"code\"\u001b[0m\u001b[0;34m)\u001b[0m\u001b[0;34m,\u001b[0m \u001b[0merror\u001b[0m\u001b[0;34m)\u001b[0m\u001b[0;34m\u001b[0m\u001b[0m\n\u001b[1;32m    311\u001b[0m         \u001b[0;32melse\u001b[0m\u001b[0;34m:\u001b[0m\u001b[0;34m\u001b[0m\u001b[0m\n",
      "\u001b[0;31mDuplicateKeyError\u001b[0m: E11000 duplicate key error collection: twitter.tweets index: _id_ dup key: { : \"5304e2e3cc9e684aa98bef97\" }"
     ]
    }
   ],
   "source": [
    "#importing data needed for quiz below\n",
    "\n",
    "with open('data/tweet2.json','r') as f:\n",
    "    data = json.load(f)\n",
    "    \n",
    "    db.tweets.insert_one(data)"
   ]
  },
  {
   "cell_type": "code",
   "execution_count": 168,
   "metadata": {
    "collapsed": false
   },
   "outputs": [
    {
     "name": "stdout",
     "output_type": "stream",
     "text": [
      "[]\n"
     ]
    },
    {
     "ename": "AssertionError",
     "evalue": "",
     "output_type": "error",
     "traceback": [
      "\u001b[0;31m---------------------------------------------------------------------------\u001b[0m",
      "\u001b[0;31mAssertionError\u001b[0m                            Traceback (most recent call last)",
      "\u001b[0;32m<ipython-input-168-29caef942c9e>\u001b[0m in \u001b[0;36m<module>\u001b[0;34m()\u001b[0m\n\u001b[1;32m     66\u001b[0m     \u001b[0;32mimport\u001b[0m \u001b[0mpprint\u001b[0m\u001b[0;34m\u001b[0m\u001b[0m\n\u001b[1;32m     67\u001b[0m     \u001b[0mpprint\u001b[0m\u001b[0;34m.\u001b[0m\u001b[0mpprint\u001b[0m\u001b[0;34m(\u001b[0m\u001b[0mresult\u001b[0m\u001b[0;34m)\u001b[0m\u001b[0;34m\u001b[0m\u001b[0m\n\u001b[0;32m---> 68\u001b[0;31m     \u001b[0;32massert\u001b[0m \u001b[0mlen\u001b[0m\u001b[0;34m(\u001b[0m\u001b[0mresult\u001b[0m\u001b[0;34m)\u001b[0m \u001b[0;34m==\u001b[0m \u001b[0;36m1\u001b[0m\u001b[0;34m\u001b[0m\u001b[0m\n\u001b[0m\u001b[1;32m     69\u001b[0m     \u001b[0;32massert\u001b[0m \u001b[0mresult\u001b[0m\u001b[0;34m[\u001b[0m\u001b[0;36m0\u001b[0m\u001b[0;34m]\u001b[0m\u001b[0;34m[\u001b[0m\u001b[0;34m\"followers\"\u001b[0m\u001b[0;34m]\u001b[0m \u001b[0;34m==\u001b[0m \u001b[0;36m17209\u001b[0m\u001b[0;34m\u001b[0m\u001b[0m\n\u001b[1;32m     70\u001b[0m \u001b[0;34m\u001b[0m\u001b[0m\n",
      "\u001b[0;31mAssertionError\u001b[0m: "
     ]
    }
   ],
   "source": [
    "#Quiz: Using match and project\n",
    "\n",
    "#!/usr/bin/env python\n",
    "\"\"\"\n",
    "Write an aggregation query to answer this question:\n",
    "\n",
    "Of the users in the \"Brasilia\" timezone who have tweeted 100 times or more,\n",
    "who has the largest number of followers?\n",
    "\n",
    "The following hints will help you solve this problem:\n",
    "- Time zone is found in the \"time_zone\" field of the user object in each tweet.\n",
    "- The number of tweets for each user is found in the \"statuses_count\" field.\n",
    "  To access these fields you will need to use dot notation (from Lesson 4)\n",
    "- Your aggregation query should return something like the following:\n",
    "{u'ok': 1.0,\n",
    " u'result': [{u'_id': ObjectId('52fd2490bac3fa1975477702'),\n",
    "                  u'followers': 2597,\n",
    "                  u'screen_name': u'marbles',\n",
    "                  u'tweets': 12334}]}\n",
    "Note that you will need to create the fields 'followers', 'screen_name' and 'tweets'.\n",
    "\n",
    "Please modify only the 'make_pipeline' function so that it creates and returns an aggregation \n",
    "pipeline that can be passed to the MongoDB aggregate function. As in our examples in this lesson,\n",
    "the aggregation pipeline should be a list of one or more dictionary objects. \n",
    "Please review the lesson examples if you are unsure of the syntax.\n",
    "\n",
    "Your code will be run against a MongoDB instance that we have provided. If you want to run this code\n",
    "locally on your machine, you have to install MongoDB, download and insert the dataset.\n",
    "For instructions related to MongoDB setup and datasets please see Course Materials.\n",
    "\n",
    "Please note that the dataset you are using here is a smaller version of the twitter dataset used \n",
    "in examples in this lesson. If you attempt some of the same queries that we looked at in the lesson \n",
    "examples, your results will be different.\n",
    "\"\"\"\n",
    "\n",
    "def get_db(db_name):\n",
    "    from pymongo import MongoClient\n",
    "    client = MongoClient('localhost:27017')\n",
    "    db = client[db_name]\n",
    "    return db\n",
    "\n",
    "def make_pipeline():\n",
    "    # complete the aggregation pipeline\n",
    "    pipeline = [ { \"$match\" : {\"user.time_zone\": \"Brasilia\", \"user.statuses_count\" : {\"$gte\" : 100} } },\n",
    "               {\"$project\" : {\"followers\" : \"$user.followers_count\",\n",
    "                              \"screen_name\" : \"$user.screen_name\",\n",
    "                             \"tweets\" : \"$user.statuses_count\"} },\n",
    "                {\"$sort\" : {\"followers\": -1} },\n",
    "               {\"$limit\": 1} ]\n",
    "    return pipeline\n",
    "\n",
    "#  u'result': [{u'_id': ObjectId('52fd2490bac3fa1975477702'),\n",
    "#                   u'followers': 2597,\n",
    "#                   u'screen_name': u'marbles',\n",
    "#                   u'tweets': 12334}]}\n",
    "\n",
    "\n",
    "def aggregate(db, pipeline):\n",
    "    return [doc for doc in db.tweets.aggregate(pipeline)]\n",
    "\n",
    "\n",
    "if __name__ == '__main__':\n",
    "    db = get_db('twitter')\n",
    "    pipeline = make_pipeline()\n",
    "    result = aggregate(db, pipeline)\n",
    "    import pprint\n",
    "    pprint.pprint(result)\n",
    "    assert len(result) == 1\n",
    "    assert result[0][\"followers\"] == 17209\n",
    "\n"
   ]
  },
  {
   "cell_type": "code",
   "execution_count": 173,
   "metadata": {
    "collapsed": false
   },
   "outputs": [],
   "source": [
    "#Unwind operator example\n",
    "for rec in db.tweets.aggregate([\n",
    "        { \"$unwind\" : \"$entities.user_mentions\" },\n",
    "        { \"$group\" : { \"_id\" : \"$user.screen_name\",\n",
    "                    \"count\" : { \"$sum\" : 1 } } },\n",
    "        { \"$sort\" : { \"count\" : -1 } },\n",
    "        { \"$limit\" : 1 } ] ):\n",
    "    print(rec)"
   ]
  },
  {
   "cell_type": "code",
   "execution_count": 140,
   "metadata": {
    "collapsed": false
   },
   "outputs": [
    {
     "data": {
      "text/plain": [
       "{'_id': '5304e2e3cc9e684aa98bef97',\n",
       " 'contributors': None,\n",
       " 'coordinates': None,\n",
       " 'created_at': 'Thu Sep 02 18:11:25 +0000 2010',\n",
       " 'entities': {'hashtags': [], 'urls': [], 'user_mentions': []},\n",
       " 'favorited': False,\n",
       " 'geo': None,\n",
       " 'id': '22819398300',\n",
       " 'in_reply_to_screen_name': None,\n",
       " 'in_reply_to_status_id': None,\n",
       " 'in_reply_to_user_id': None,\n",
       " 'place': None,\n",
       " 'retweet_count': None,\n",
       " 'retweeted': False,\n",
       " 'source': 'web',\n",
       " 'text': 'First week of school is over :P',\n",
       " 'truncated': False,\n",
       " 'user': {'contributors_enabled': False,\n",
       "  'created_at': 'Sun May 03 19:51:04 +0000 2009',\n",
       "  'description': '',\n",
       "  'favourites_count': 1,\n",
       "  'follow_request_sent': None,\n",
       "  'followers_count': 169,\n",
       "  'following': None,\n",
       "  'friends_count': 145,\n",
       "  'geo_enabled': False,\n",
       "  'id': 37486277,\n",
       "  'lang': 'en',\n",
       "  'listed_count': 77,\n",
       "  'location': 'Ireland :)',\n",
       "  'name': 'Catherine Mullane',\n",
       "  'notifications': None,\n",
       "  'profile_background_color': 'FF6699',\n",
       "  'profile_background_image_url': 'http://a3.twimg.com/profile_background_images/138228501/149174881-8cd806890274b828ed56598091c84e71_4c6fd4d8-full.jpg',\n",
       "  'profile_background_tile': True,\n",
       "  'profile_image_url': 'http://a1.twimg.com/profile_images/1107778717/phpkHoxzmAM_normal.jpg',\n",
       "  'profile_link_color': 'B40B43',\n",
       "  'profile_sidebar_border_color': 'CC3366',\n",
       "  'profile_sidebar_fill_color': 'E5507E',\n",
       "  'profile_text_color': '362720',\n",
       "  'profile_use_background_image': True,\n",
       "  'protected': False,\n",
       "  'screen_name': 'Catherinemull',\n",
       "  'show_all_inline_media': False,\n",
       "  'statuses_count': 2475,\n",
       "  'time_zone': None,\n",
       "  'url': None,\n",
       "  'utc_offset': None,\n",
       "  'verified': False}}"
      ]
     },
     "execution_count": 140,
     "metadata": {},
     "output_type": "execute_result"
    }
   ],
   "source": [
    "db.tweets.find_one({\"user.time_zone\" : None})"
   ]
  },
  {
   "cell_type": "code",
   "execution_count": 197,
   "metadata": {
    "collapsed": false
   },
   "outputs": [
    {
     "data": {
      "text/plain": [
       "{'_id': ObjectId('5820f2524dd9620c1de02032'),\n",
       " 'areaCode': ['916'],\n",
       " 'areaLand': 109271000.0,\n",
       " 'country': 'United States',\n",
       " 'elevation': 13.716,\n",
       " 'foundingDate': datetime.datetime(2000, 7, 1, 0, 0),\n",
       " 'governmentType': ['Council–manager government'],\n",
       " 'homepage': ['http://elkgrovecity.org/'],\n",
       " 'isPartOf': ['California', 'Sacramento County California'],\n",
       " 'lat': 38.4383,\n",
       " 'leaderTitle': 'Chief Of Police',\n",
       " 'lon': -121.382,\n",
       " 'motto': 'Proud Heritage Bright Future',\n",
       " 'name': 'City of Elk Grove',\n",
       " 'population': 155937,\n",
       " 'postalCode': '95624 95757 95758 95759',\n",
       " 'timeZone': ['Pacific Time Zone'],\n",
       " 'utcOffset': ['-7', '-8']}"
      ]
     },
     "execution_count": 197,
     "metadata": {},
     "output_type": "execute_result"
    }
   ],
   "source": [
    "db.cities.find()[2]"
   ]
  },
  {
   "cell_type": "code",
   "execution_count": 198,
   "metadata": {
    "collapsed": false
   },
   "outputs": [
    {
     "name": "stdout",
     "output_type": "stream",
     "text": [
      "Printing the first result:\n"
     ]
    },
    {
     "ename": "IndexError",
     "evalue": "list index out of range",
     "output_type": "error",
     "traceback": [
      "\u001b[0;31m---------------------------------------------------------------------------\u001b[0m",
      "\u001b[0;31mIndexError\u001b[0m                                Traceback (most recent call last)",
      "\u001b[0;32m<ipython-input-198-016e208f2df4>\u001b[0m in \u001b[0;36m<module>\u001b[0;34m()\u001b[0m\n\u001b[1;32m     53\u001b[0m     \u001b[0mprint\u001b[0m\u001b[0;34m(\u001b[0m\u001b[0;34m\"Printing the first result:\"\u001b[0m\u001b[0;34m)\u001b[0m\u001b[0;34m\u001b[0m\u001b[0m\n\u001b[1;32m     54\u001b[0m     \u001b[0;32mimport\u001b[0m \u001b[0mpprint\u001b[0m\u001b[0;34m\u001b[0m\u001b[0m\n\u001b[0;32m---> 55\u001b[0;31m     \u001b[0mpprint\u001b[0m\u001b[0;34m.\u001b[0m\u001b[0mpprint\u001b[0m\u001b[0;34m(\u001b[0m\u001b[0mresult\u001b[0m\u001b[0;34m[\u001b[0m\u001b[0;36m0\u001b[0m\u001b[0;34m]\u001b[0m\u001b[0;34m)\u001b[0m\u001b[0;34m\u001b[0m\u001b[0m\n\u001b[0m\u001b[1;32m     56\u001b[0m     \u001b[0;32massert\u001b[0m \u001b[0mresult\u001b[0m\u001b[0;34m[\u001b[0m\u001b[0;36m0\u001b[0m\u001b[0;34m]\u001b[0m\u001b[0;34m[\u001b[0m\u001b[0;34m\"_id\"\u001b[0m\u001b[0;34m]\u001b[0m \u001b[0;34m==\u001b[0m \u001b[0;34m\"Uttar Pradesh\"\u001b[0m\u001b[0;34m\u001b[0m\u001b[0m\n\u001b[1;32m     57\u001b[0m     \u001b[0;32massert\u001b[0m \u001b[0mresult\u001b[0m\u001b[0;34m[\u001b[0m\u001b[0;36m0\u001b[0m\u001b[0;34m]\u001b[0m\u001b[0;34m[\u001b[0m\u001b[0;34m\"count\"\u001b[0m\u001b[0;34m]\u001b[0m \u001b[0;34m==\u001b[0m \u001b[0;36m623\u001b[0m\u001b[0;34m\u001b[0m\u001b[0m\n",
      "\u001b[0;31mIndexError\u001b[0m: list index out of range"
     ]
    }
   ],
   "source": [
    "#Quiz: Using Unwind\n",
    "\n",
    "#!/usr/bin/env python\n",
    "\"\"\"\n",
    "For this exercise, let's return to our cities infobox dataset. The question we would like you to answer\n",
    "is as follows:  Which region or district in India contains the most cities? (Make sure that the count of\n",
    "cities is stored in a field named 'count'; see the assertions at the end of the script.)\n",
    "\n",
    "As a starting point, use the solution for the example question we looked at -- \"Who includes the most\n",
    "user mentions in their tweets?\"\n",
    "\n",
    "One thing to note about the cities data is that the \"isPartOf\" field contains an array of regions or \n",
    "districts in which a given city is found. See the example document in Instructor Comments below.\n",
    "\n",
    "Please modify only the 'make_pipeline' function so that it creates and returns an aggregation pipeline \n",
    "that can be passed to the MongoDB aggregate function. As in our examples in this lesson, the aggregation \n",
    "pipeline should be a list of one or more dictionary objects. Please review the lesson examples if you \n",
    "are unsure of the syntax.\n",
    "\n",
    "Your code will be run against a MongoDB instance that we have provided. If you want to run this code \n",
    "locally on your machine, you have to install MongoDB, download and insert the dataset.\n",
    "For instructions related to MongoDB setup and datasets please see Course Materials.\n",
    "\n",
    "Please note that the dataset you are using here is a smaller version of the cities collection used in \n",
    "examples in this lesson. If you attempt some of the same queries that we looked at in the lesson \n",
    "examples, your results may be different.\n",
    "\"\"\"\n",
    "\n",
    "def get_db(db_name):\n",
    "    from pymongo import MongoClient\n",
    "    client = MongoClient('localhost:27017')\n",
    "    db = client[db_name]\n",
    "    return db\n",
    "\n",
    "def make_pipeline():\n",
    "    # complete the aggregation pipeline\n",
    "    pipeline = [{ \"$unwind\" : \"$isPartOf\" },\n",
    "                { \"$match\" : {\"country\" : \"India\" } },\n",
    "                { \"$group\" : {\"_id\" : \"$isPartOf\",\n",
    "                             \"count\" : {\"$sum\" : 1} } },\n",
    "                { \"$sort\" : {\"count\" : -1 } } \n",
    "                ]\n",
    "    \n",
    "    return pipeline\n",
    "\n",
    "def aggregate(db, pipeline):\n",
    "    return [doc for doc in db.cities.aggregate(pipeline)]\n",
    "\n",
    "if __name__ == '__main__':\n",
    "    db = get_db('examples')\n",
    "    pipeline = make_pipeline()\n",
    "    result = aggregate(db, pipeline)\n",
    "    print(\"Printing the first result:\")\n",
    "    import pprint\n",
    "    pprint.pprint(result[0])\n",
    "    assert result[0][\"_id\"] == \"Uttar Pradesh\"\n",
    "    assert result[0][\"count\"] == 623\n",
    "\n",
    "\n"
   ]
  },
  {
   "cell_type": "code",
   "execution_count": 203,
   "metadata": {
    "collapsed": false
   },
   "outputs": [
    {
     "data": {
      "text/plain": [
       "<pymongo.command_cursor.CommandCursor at 0x106b02588>"
      ]
     },
     "execution_count": 203,
     "metadata": {},
     "output_type": "execute_result"
    }
   ],
   "source": [
    "#Example of $group with $avg operator\n",
    "#goal: find average number of retweets for any tweet using a particular hashtag\n",
    "\n",
    "db.tweets.aggregate([\n",
    "        { \"$unwind\" : \"$entities.hashtags\" },\n",
    "        { \"$group\" : { \"_id\" : \"$entities.hashtags.text\",\n",
    "                     \"retweet_avg\" : {\"$avg\" : \"$retweet_count\"}\n",
    "                     } },\n",
    "        { \"$sort\" : { \"retweet_avg\" : -1} } ] )"
   ]
  },
  {
   "cell_type": "code",
   "execution_count": 204,
   "metadata": {
    "collapsed": false
   },
   "outputs": [
    {
     "data": {
      "text/plain": [
       "<pymongo.command_cursor.CommandCursor at 0x106b02ac8>"
      ]
     },
     "execution_count": 204,
     "metadata": {},
     "output_type": "execute_result"
    }
   ],
   "source": [
    "#Example of $addToSet operator\n",
    "\n",
    "db.tweets.aggregate([\n",
    "        { \"$unwind\" : \"$entities.hashtags\" },\n",
    "        { \"$group\" : { \"_id\" : \"$user.screen_name\",\n",
    "                      \"unique_hashtags\" : {\n",
    "                            \"$addToSet\" : \"$entities.hashtags.text\"\n",
    "                }\n",
    "                     } },\n",
    "        { \"$sort\" : { \"_id\" : -1} } ] )"
   ]
  },
  {
   "cell_type": "code",
   "execution_count": 208,
   "metadata": {
    "collapsed": false
   },
   "outputs": [
    {
     "data": {
      "text/plain": [
       "{'_id': '5304e2e3cc9e684aa98bef97',\n",
       " 'contributors': None,\n",
       " 'coordinates': None,\n",
       " 'created_at': 'Thu Sep 02 18:11:25 +0000 2010',\n",
       " 'entities': {'hashtags': [], 'urls': [], 'user_mentions': []},\n",
       " 'favorited': False,\n",
       " 'geo': None,\n",
       " 'id': '22819398300',\n",
       " 'in_reply_to_screen_name': None,\n",
       " 'in_reply_to_status_id': None,\n",
       " 'in_reply_to_user_id': None,\n",
       " 'place': None,\n",
       " 'retweet_count': None,\n",
       " 'retweeted': False,\n",
       " 'source': 'web',\n",
       " 'text': 'First week of school is over :P',\n",
       " 'truncated': False,\n",
       " 'user': {'contributors_enabled': False,\n",
       "  'created_at': 'Sun May 03 19:51:04 +0000 2009',\n",
       "  'description': '',\n",
       "  'favourites_count': 1,\n",
       "  'follow_request_sent': None,\n",
       "  'followers_count': 169,\n",
       "  'following': None,\n",
       "  'friends_count': 145,\n",
       "  'geo_enabled': False,\n",
       "  'id': 37486277,\n",
       "  'lang': 'en',\n",
       "  'listed_count': 77,\n",
       "  'location': 'Ireland :)',\n",
       "  'name': 'Catherine Mullane',\n",
       "  'notifications': None,\n",
       "  'profile_background_color': 'FF6699',\n",
       "  'profile_background_image_url': 'http://a3.twimg.com/profile_background_images/138228501/149174881-8cd806890274b828ed56598091c84e71_4c6fd4d8-full.jpg',\n",
       "  'profile_background_tile': True,\n",
       "  'profile_image_url': 'http://a1.twimg.com/profile_images/1107778717/phpkHoxzmAM_normal.jpg',\n",
       "  'profile_link_color': 'B40B43',\n",
       "  'profile_sidebar_border_color': 'CC3366',\n",
       "  'profile_sidebar_fill_color': 'E5507E',\n",
       "  'profile_text_color': '362720',\n",
       "  'profile_use_background_image': True,\n",
       "  'protected': False,\n",
       "  'screen_name': 'Catherinemull',\n",
       "  'show_all_inline_media': False,\n",
       "  'statuses_count': 2475,\n",
       "  'time_zone': None,\n",
       "  'url': None,\n",
       "  'utc_offset': None,\n",
       "  'verified': False}}"
      ]
     },
     "execution_count": 208,
     "metadata": {},
     "output_type": "execute_result"
    }
   ],
   "source": [
    "db.tweets.find_one()"
   ]
  },
  {
   "cell_type": "code",
   "execution_count": 210,
   "metadata": {
    "collapsed": false
   },
   "outputs": [
    {
     "name": "stdout",
     "output_type": "stream",
     "text": [
      "[{'_id': 'Catherinemull',\n",
      "  'count': 1,\n",
      "  'tweet_texts': ['First week of school is over :P']}]\n"
     ]
    },
    {
     "ename": "AssertionError",
     "evalue": "",
     "output_type": "error",
     "traceback": [
      "\u001b[0;31m---------------------------------------------------------------------------\u001b[0m",
      "\u001b[0;31mAssertionError\u001b[0m                            Traceback (most recent call last)",
      "\u001b[0;32m<ipython-input-210-c6e74f3d425d>\u001b[0m in \u001b[0;36m<module>\u001b[0;34m()\u001b[0m\n\u001b[1;32m     54\u001b[0m     \u001b[0;32mimport\u001b[0m \u001b[0mpprint\u001b[0m\u001b[0;34m\u001b[0m\u001b[0m\n\u001b[1;32m     55\u001b[0m     \u001b[0mpprint\u001b[0m\u001b[0;34m.\u001b[0m\u001b[0mpprint\u001b[0m\u001b[0;34m(\u001b[0m\u001b[0mresult\u001b[0m\u001b[0;34m)\u001b[0m\u001b[0;34m\u001b[0m\u001b[0m\n\u001b[0;32m---> 56\u001b[0;31m     \u001b[0;32massert\u001b[0m \u001b[0mlen\u001b[0m\u001b[0;34m(\u001b[0m\u001b[0mresult\u001b[0m\u001b[0;34m)\u001b[0m \u001b[0;34m==\u001b[0m \u001b[0;36m5\u001b[0m\u001b[0;34m\u001b[0m\u001b[0m\n\u001b[0m\u001b[1;32m     57\u001b[0m     \u001b[0;32massert\u001b[0m \u001b[0mresult\u001b[0m\u001b[0;34m[\u001b[0m\u001b[0;36m0\u001b[0m\u001b[0;34m]\u001b[0m\u001b[0;34m[\u001b[0m\u001b[0;34m\"count\"\u001b[0m\u001b[0;34m]\u001b[0m \u001b[0;34m>\u001b[0m \u001b[0mresult\u001b[0m\u001b[0;34m[\u001b[0m\u001b[0;36m4\u001b[0m\u001b[0;34m]\u001b[0m\u001b[0;34m[\u001b[0m\u001b[0;34m\"count\"\u001b[0m\u001b[0;34m]\u001b[0m\u001b[0;34m\u001b[0m\u001b[0m\n\u001b[1;32m     58\u001b[0m     \u001b[0msample_tweet_text\u001b[0m \u001b[0;34m=\u001b[0m \u001b[0;34mu'Take my money! #liesguystell http://movie.sras2.ayorganes.com'\u001b[0m\u001b[0;34m\u001b[0m\u001b[0m\n",
      "\u001b[0;31mAssertionError\u001b[0m: "
     ]
    }
   ],
   "source": [
    "#Quiz: Using push\n",
    "\n",
    "#!/usr/bin/env python\n",
    "\"\"\"\n",
    "$push is similar to $addToSet. The difference is that rather than accumulating only unique values \n",
    "it aggregates all values into an array.\n",
    "\n",
    "Using an aggregation query, count the number of tweets for each user. In the same $group stage, \n",
    "use $push to accumulate all the tweet texts for each user. Limit your output to the 5 users\n",
    "with the most tweets. \n",
    "Your result documents should include only the fields:\n",
    "\"_id\" (screen name of user), \n",
    "\"count\" (number of tweets found for the user),\n",
    "\"tweet_texts\" (a list of the tweet texts found for the user).  \n",
    "\n",
    "Please modify only the 'make_pipeline' function so that it creates and returns an aggregation \n",
    "pipeline that can be passed to the MongoDB aggregate function. As in our examples in this lesson, \n",
    "the aggregation pipeline should be a list of one or more dictionary objects. \n",
    "Please review the lesson examples if you are unsure of the syntax.\n",
    "\n",
    "Your code will be run against a MongoDB instance that we have provided. If you want to run this code \n",
    "locally on your machine, you have to install MongoDB, download and insert the dataset.\n",
    "For instructions related to MongoDB setup and datasets please see Course Materials.\n",
    "\n",
    "Please note that the dataset you are using here is a smaller version of the twitter dataset used in \n",
    "examples in this lesson. If you attempt some of the same queries that we looked at in the lesson \n",
    "examples, your results will be different.\n",
    "\"\"\"\n",
    "\n",
    "def get_db(db_name):\n",
    "    from pymongo import MongoClient\n",
    "    client = MongoClient('localhost:27017')\n",
    "    db = client[db_name]\n",
    "    return db\n",
    "\n",
    "def make_pipeline():\n",
    "    # complete the aggregation pipeline\n",
    "    pipeline = [ {\"$group\" :{\"_id\" : \"$user.screen_name\", \n",
    "                            \"count\" : {\"$sum\" : 1},\n",
    "                            \"tweet_texts\" : {\"$push\" : \"$text\" } } },\n",
    "                {\"$sort\" : {\"count\" : -1} },\n",
    "                {\"$limit\" : 5}\n",
    "               ]\n",
    "    return pipeline\n",
    "\n",
    "def aggregate(db, pipeline):\n",
    "    return [doc for doc in db.twitter.aggregate(pipeline)]\n",
    "\n",
    "\n",
    "if __name__ == '__main__':\n",
    "    db = get_db('twitter')\n",
    "    pipeline = make_pipeline()\n",
    "    result = aggregate(db, pipeline)\n",
    "    import pprint\n",
    "    pprint.pprint(result)\n",
    "    assert len(result) == 5\n",
    "    assert result[0][\"count\"] > result[4][\"count\"]\n",
    "    sample_tweet_text = u'Take my money! #liesguystell http://movie.sras2.ayorganes.com'\n",
    "    assert result[4][\"tweet_texts\"][0] == sample_tweet_text\n",
    "    "
   ]
  },
  {
   "cell_type": "code",
   "execution_count": 233,
   "metadata": {
    "collapsed": false
   },
   "outputs": [],
   "source": [
    "#Example for using the same operator in multiple stages\n",
    "\n",
    "for doc in db.tweets.aggregate([\n",
    "        { \"$unwind\" : \"$entities.user_mentions\" },\n",
    "        { \"$group\" : { \"_id\" : \"$user.screen_name\",\n",
    "                      \"mset\" : {\n",
    "                        \"$addToSet\" : \"$entities.user_mentions.screen_name\"\n",
    "                } } },\n",
    "        { \"$unwind\" : \"$mset\"},\n",
    "        { \"$group\" : { \"_id\" : \"$_id\", \n",
    "                      \"count\" : { \"$sum\" : 1} } },\n",
    "        { \"$sort\" : { \"count\" : -1 } },\n",
    "        { \"$limit\" : 10 } ] ):\n",
    "    print(doc)"
   ]
  },
  {
   "cell_type": "code",
   "execution_count": 235,
   "metadata": {
    "collapsed": false
   },
   "outputs": [
    {
     "data": {
      "text/plain": [
       "{'_id': '5304e2e3cc9e684aa98bef97',\n",
       " 'contributors': None,\n",
       " 'coordinates': None,\n",
       " 'created_at': 'Thu Sep 02 18:11:25 +0000 2010',\n",
       " 'entities': {'hashtags': [], 'urls': [], 'user_mentions': []},\n",
       " 'favorited': False,\n",
       " 'geo': None,\n",
       " 'id': '22819398300',\n",
       " 'in_reply_to_screen_name': None,\n",
       " 'in_reply_to_status_id': None,\n",
       " 'in_reply_to_user_id': None,\n",
       " 'place': None,\n",
       " 'retweet_count': None,\n",
       " 'retweeted': False,\n",
       " 'source': 'web',\n",
       " 'text': 'First week of school is over :P',\n",
       " 'truncated': False,\n",
       " 'user': {'contributors_enabled': False,\n",
       "  'created_at': 'Sun May 03 19:51:04 +0000 2009',\n",
       "  'description': '',\n",
       "  'favourites_count': 1,\n",
       "  'follow_request_sent': None,\n",
       "  'followers_count': 169,\n",
       "  'following': None,\n",
       "  'friends_count': 145,\n",
       "  'geo_enabled': False,\n",
       "  'id': 37486277,\n",
       "  'lang': 'en',\n",
       "  'listed_count': 77,\n",
       "  'location': 'Ireland :)',\n",
       "  'name': 'Catherine Mullane',\n",
       "  'notifications': None,\n",
       "  'profile_background_color': 'FF6699',\n",
       "  'profile_background_image_url': 'http://a3.twimg.com/profile_background_images/138228501/149174881-8cd806890274b828ed56598091c84e71_4c6fd4d8-full.jpg',\n",
       "  'profile_background_tile': True,\n",
       "  'profile_image_url': 'http://a1.twimg.com/profile_images/1107778717/phpkHoxzmAM_normal.jpg',\n",
       "  'profile_link_color': 'B40B43',\n",
       "  'profile_sidebar_border_color': 'CC3366',\n",
       "  'profile_sidebar_fill_color': 'E5507E',\n",
       "  'profile_text_color': '362720',\n",
       "  'profile_use_background_image': True,\n",
       "  'protected': False,\n",
       "  'screen_name': 'Catherinemull',\n",
       "  'show_all_inline_media': False,\n",
       "  'statuses_count': 2475,\n",
       "  'time_zone': None,\n",
       "  'url': None,\n",
       "  'utc_offset': None,\n",
       "  'verified': False}}"
      ]
     },
     "execution_count": 235,
     "metadata": {},
     "output_type": "execute_result"
    }
   ],
   "source": [
    "db.tweets.find_one()"
   ]
  },
  {
   "cell_type": "markdown",
   "metadata": {},
   "source": [
    "#notes for quiz below: how I would solve it in mysql\n",
    "select avg(pop) from (select avg(population) from table t \n",
    "                      where country = 'India'\n",
    "group by region)"
   ]
  },
  {
   "cell_type": "code",
   "execution_count": 310,
   "metadata": {
    "collapsed": false
   },
   "outputs": [
    {
     "name": "stdout",
     "output_type": "stream",
     "text": [
      "{'average_population': 155937.0, '_id': None}\n"
     ]
    }
   ],
   "source": [
    "#notes for quiz below\n",
    "for doc in db.cities.aggregate([\n",
    "        { \"$match\" : { \"country\" : \"United States\" } },\n",
    "        { \"$unwind\" : \"$isPartOf\" },\n",
    "        { \"$group\" : {\n",
    "                \"_id\" : {\"region\": \"$isPartOf\"},\n",
    "                    \"average_population\" : { \"$avg\" : \"$population\" },\n",
    "                    \"rset\" : { \"$addToSet\" : \"$isPartOf\" } } },\n",
    "        { \"$unwind\" : \"$rset\" },\n",
    "        { \"$group\" : { \"_id\" : \"$_id.country\",\n",
    "          \"average_population\" : {\"$avg\" : \"$average_population\" } } }\n",
    "        ]):\n",
    "    print(doc)"
   ]
  },
  {
   "cell_type": "code",
   "execution_count": 309,
   "metadata": {
    "collapsed": false
   },
   "outputs": [
    {
     "ename": "AssertionError",
     "evalue": "",
     "output_type": "error",
     "traceback": [
      "\u001b[0;31m---------------------------------------------------------------------------\u001b[0m",
      "\u001b[0;31mAssertionError\u001b[0m                            Traceback (most recent call last)",
      "\u001b[0;32m<ipython-input-309-2d88406c2177>\u001b[0m in \u001b[0;36m<module>\u001b[0;34m()\u001b[0m\n\u001b[1;32m     57\u001b[0m     \u001b[0mpipeline\u001b[0m \u001b[0;34m=\u001b[0m \u001b[0mmake_pipeline\u001b[0m\u001b[0;34m(\u001b[0m\u001b[0;34m)\u001b[0m\u001b[0;34m\u001b[0m\u001b[0m\n\u001b[1;32m     58\u001b[0m     \u001b[0mresult\u001b[0m \u001b[0;34m=\u001b[0m \u001b[0maggregate\u001b[0m\u001b[0;34m(\u001b[0m\u001b[0mdb\u001b[0m\u001b[0;34m,\u001b[0m \u001b[0mpipeline\u001b[0m\u001b[0;34m)\u001b[0m\u001b[0;34m\u001b[0m\u001b[0m\n\u001b[0;32m---> 59\u001b[0;31m     \u001b[0;32massert\u001b[0m \u001b[0mlen\u001b[0m\u001b[0;34m(\u001b[0m\u001b[0mresult\u001b[0m\u001b[0;34m)\u001b[0m \u001b[0;34m==\u001b[0m \u001b[0;36m1\u001b[0m\u001b[0;34m\u001b[0m\u001b[0m\n\u001b[0m\u001b[1;32m     60\u001b[0m     \u001b[0;31m# Your result should be close to the value after the minus sign.\u001b[0m\u001b[0;34m\u001b[0m\u001b[0;34m\u001b[0m\u001b[0m\n\u001b[1;32m     61\u001b[0m     \u001b[0;32massert\u001b[0m \u001b[0mabs\u001b[0m\u001b[0;34m(\u001b[0m\u001b[0mresult\u001b[0m\u001b[0;34m[\u001b[0m\u001b[0;36m0\u001b[0m\u001b[0;34m]\u001b[0m\u001b[0;34m[\u001b[0m\u001b[0;34m\"avg\"\u001b[0m\u001b[0;34m]\u001b[0m \u001b[0;34m-\u001b[0m \u001b[0;36m201128.0241546919\u001b[0m\u001b[0;34m)\u001b[0m \u001b[0;34m<\u001b[0m \u001b[0;36m10\u001b[0m \u001b[0;34m**\u001b[0m \u001b[0;34m-\u001b[0m\u001b[0;36m8\u001b[0m\u001b[0;34m\u001b[0m\u001b[0m\n",
      "\u001b[0;31mAssertionError\u001b[0m: "
     ]
    }
   ],
   "source": [
    "#Quiz: same operator\n",
    "\n",
    "#!/usr/bin/env python\n",
    "\"\"\"\n",
    "In an earlier exercise we looked at the cities dataset and asked which region in India contains \n",
    "the most cities. In this exercise, we'd like you to answer a related question regarding regions in \n",
    "India. What is the average city population for a region in India? Calculate your answer by first \n",
    "finding the average population of cities in each region and then by calculating the average of the \n",
    "regional averages.\n",
    "\n",
    "Hint: If you want to accumulate using values from all input documents to a group stage, you may use \n",
    "a constant as the value of the \"_id\" field. For example, \n",
    "    { \"$group\" : {\"_id\" : \"India Regional City Population Average\",\n",
    "      ... }\n",
    "\n",
    "Please modify only the 'make_pipeline' function so that it creates and returns an aggregation \n",
    "pipeline that can be passed to the MongoDB aggregate function. As in our examples in this lesson, \n",
    "the aggregation pipeline should be a list of one or more dictionary objects. \n",
    "Please review the lesson examples if you are unsure of the syntax.\n",
    "\n",
    "Your code will be run against a MongoDB instance that we have provided. If you want to run this code \n",
    "locally on your machine, you have to install MongoDB, download and insert the dataset.\n",
    "For instructions related to MongoDB setup and datasets please see Course Materials.\n",
    "\n",
    "Please note that the dataset you are using here is a smaller version of the twitter dataset used \n",
    "in examples in this lesson. If you attempt some of the same queries that we looked at in the lesson \n",
    "examples, your results will be different.\n",
    "\"\"\"\n",
    "\n",
    "def get_db(db_name):\n",
    "    from pymongo import MongoClient\n",
    "    client = MongoClient('localhost:27017')\n",
    "    db = client[db_name]\n",
    "    return db\n",
    "\n",
    "def make_pipeline():\n",
    "    # complete the aggregation pipeline\n",
    "    pipeline = [ \n",
    "        { \"$match\" : { \"country\" : \"India\" } },\n",
    "        { \"$unwind\" : \"$isPartOf\" },\n",
    "        { \"$group\" : {\n",
    "                \"_id\" : {\"region\": \"$isPartOf\"},\n",
    "                    \"average_population\" : { \"$avg\" : \"$population\" },\n",
    "                    \"rset\" : { \"$addToSet\" : \"$isPartOf\" } } },\n",
    "        { \"$unwind\" : \"$rset\" },\n",
    "        { \"$group\" : { \"_id\" : \"$_id.country\",\n",
    "          \"average_population\" : {\"$avg\" : \"$average_population\" } } } \n",
    "    ]\n",
    "    return pipeline\n",
    "\n",
    "def aggregate(db, pipeline):\n",
    "    return [doc for doc in db.cities.aggregate(pipeline)]\n",
    "\n",
    "\n",
    "if __name__ == '__main__':\n",
    "    db = get_db('examples')\n",
    "    pipeline = make_pipeline()\n",
    "    result = aggregate(db, pipeline)\n",
    "    assert len(result) == 1\n",
    "    # Your result should be close to the value after the minus sign.\n",
    "    assert abs(result[0][\"avg\"] - 201128.0241546919) < 10 ** -8\n",
    "    import pprint\n",
    "    pprint.pprint(result)\n"
   ]
  },
  {
   "cell_type": "markdown",
   "metadata": {},
   "source": [
    "The above works, but is failing due to different dataset from what the test is based on. It is however not 100% optimal, see https://discussions.udacity.com/t/lesson-5-same-operator-p/7291/10 for more details."
   ]
  }
 ],
 "metadata": {
  "anaconda-cloud": {},
  "kernelspec": {
   "display_name": "Python [Root]",
   "language": "python",
   "name": "Python [Root]"
  },
  "language_info": {
   "codemirror_mode": {
    "name": "ipython",
    "version": 3
   },
   "file_extension": ".py",
   "mimetype": "text/x-python",
   "name": "python",
   "nbconvert_exporter": "python",
   "pygments_lexer": "ipython3",
   "version": "3.5.2"
  }
 },
 "nbformat": 4,
 "nbformat_minor": 0
}
