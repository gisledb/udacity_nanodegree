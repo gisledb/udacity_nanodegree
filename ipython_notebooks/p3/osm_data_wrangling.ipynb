{
 "cells": [
  {
   "cell_type": "code",
   "execution_count": 36,
   "metadata": {
    "collapsed": false
   },
   "outputs": [],
   "source": [
    "#Generating sample for initial exploration\n",
    "\n",
    "#!/usr/bin/env python\n",
    "# -*- coding: utf-8 -*-\n",
    "\n",
    "import xml.etree.ElementTree as ET  # Use cElementTree or lxml if too slow\n",
    "\n",
    "OSM_FILE = \"data/bergen.osm\"  # Replace this with your osm file\n",
    "SAMPLE_FILE = \"data/sample.osm\"\n",
    "\n",
    "k = 20 # Parameter: take every k-th top level element\n",
    "\n",
    "def get_element(osm_file, tags=('node', 'way', 'relation')):\n",
    "    \"\"\"Yield element if it is the right type of tag\n",
    "\n",
    "    Reference:\n",
    "    http://stackoverflow.com/questions/3095434/inserting-newlines-in-xml-file-generated-via-xml-etree-elementtree-in-python\n",
    "    \"\"\"\n",
    "    context = iter(ET.iterparse(osm_file, events=('start', 'end')))\n",
    "    _, root = next(context)\n",
    "    for event, elem in context:\n",
    "        if event == 'end' and elem.tag in tags:\n",
    "            yield elem\n",
    "            root.clear()\n",
    "\n",
    "\n",
    "with open(SAMPLE_FILE, 'wb') as output:\n",
    "    output.write(b'<?xml version=\"1.0\" encoding=\"UTF-8\"?>\\n')\n",
    "    output.write(b'<osm>\\n  ')\n",
    "\n",
    "    # Write every kth top level element\n",
    "    for i, element in enumerate(get_element(OSM_FILE)):\n",
    "        if i % k == 0:\n",
    "            output.write(ET.tostring(element, encoding='utf-8'))\n",
    "\n",
    "    output.write(b'</osm>')"
   ]
  },
  {
   "cell_type": "code",
   "execution_count": 37,
   "metadata": {
    "collapsed": false
   },
   "outputs": [
    {
     "name": "stdout",
     "output_type": "stream",
     "text": [
      "{'osm': 1, 'tag': 25747, 'way': 2620, 'nd': 30939, 'relation': 130, 'member': 1055, 'node': 31439}\n"
     ]
    }
   ],
   "source": [
    "with open('data/sample.osm') as f:\n",
    "    tree = ET.parse(f)\n",
    "    root = tree.getroot()\n",
    "    \n",
    "    tag_dict = {}\n",
    "    \n",
    "    for line in root.iter():\n",
    "        tag = line.tag\n",
    "        \n",
    "        tag_dict[tag] = tag_dict.get(tag, 0) + 1\n",
    "        \n",
    "    print(tag_dict)\n"
   ]
  },
  {
   "cell_type": "code",
   "execution_count": 138,
   "metadata": {
    "collapsed": false
   },
   "outputs": [],
   "source": [
    "#Generating list of all Bergen street names as of 2005. Source: Wikipedia.\n",
    "\n",
    "import requests\n",
    "from bs4 import BeautifulSoup\n",
    "\n",
    "bergen_street_names = []\n",
    "\n",
    "r = requests.get('https://no.wikipedia.org/wiki/Liste_over_Bergens_gater')\n",
    "\n",
    "wiki_soup = BeautifulSoup(r.text, 'lxml')\n",
    "\n",
    "street_div = wiki_soup.find(id='mw-content-text')\n",
    "\n",
    "for name in street_div.find_all('li'):\n",
    "    #Åstveitveien is the last name of the page, so stopping after that row to avoid bad data entries\n",
    "    if name.string == 'Åstveitveien':\n",
    "        bergen_street_names.append(name.string)\n",
    "        break\n",
    "    else:\n",
    "        bergen_street_names.append(name.string)\n",
    "    \n",
    "\n",
    "#Defining search query for characters that should not be found in street names\n",
    "problemchars = re.compile(r'[=\\+/&<>;\"\\?%#$@\\,:<>\\t\\r\\n]')\n",
    "\n",
    "#Removing incorrect items from street name list. Printing them out for transparency/QA.\n",
    "for item in bergen_street_names:\n",
    "    if problemchars.search(item):\n",
    "        print('PROBLEM STREET NAME:',item)\n",
    "        print('DELETING NAME', bergen_street_names[count], 'FROM STREET NAME LIST.')\n",
    "        del(bergen_street_names[count])\n",
    "        "
   ]
  },
  {
   "cell_type": "markdown",
   "metadata": {},
   "source": [
    "Next I will audit the quality of the street names in the data set. One tricky part is that Norwegian street names are concatenated with no clear distinction between the different words. For example, the equivalent of Main Street is Hovedgaten.\n",
    "\n",
    "Due to this the main audit criteria will be whether the name exists in the Bergen street name list generated above."
   ]
  },
  {
   "cell_type": "code",
   "execution_count": 179,
   "metadata": {
    "collapsed": false
   },
   "outputs": [
    {
     "name": "stdout",
     "output_type": "stream",
     "text": [
      "{'eien 1': {'Laguneveien 1'},\n",
      " 's Gate': {'Thormøhlens Gate'},\n",
      " 'øgda 9': {'Smøråshøgda 9'}}\n"
     ]
    }
   ],
   "source": [
    "#Auditing street name quiality\n",
    "\n",
    "from collections import defaultdict\n",
    "from pprint import pprint\n",
    "import re\n",
    "\n",
    "#Auditing street names\n",
    "\n",
    "OSMFILE = \"data/bergen.osm\"\n",
    "\n",
    "def is_street_name(elem):\n",
    "    return (elem.attrib.setdefault('k',None) == \"addr:street\")\n",
    "\n",
    "street_types = defaultdict(set)\n",
    "\n",
    "expected = [\"gate\", \"gaten\", \"vei\", \"veien\", \"veg\", \"vegen\", \"lien\", \"neset\", \"smauet\", \"allé\",\n",
    "           \"høgda\", \"plass\", \"dalen\", \"haugen\", \"myra\"]\n",
    "expected_long = [\"allmenningen\", \"fjorden\",\"Flagget\",\"Smålonane\",\"Tangen\"]\n",
    "\n",
    "def audit_street_type(street_types, street_name):\n",
    "\n",
    "    valid = 0\n",
    "    street_type = street_name[-6::]\n",
    "    \n",
    "    if street_name in bergen_street_names:\n",
    "        valid = 1\n",
    "    \n",
    "    else:\n",
    "        for s_type in expected:\n",
    "\n",
    "            if s_type in street_type:\n",
    "                valid = 1\n",
    "            else:\n",
    "                for name in expected_long:\n",
    "                    if street_type in name:\n",
    "                        valid = 1                    \n",
    "\n",
    "    if valid == 0:\n",
    "        street_types[street_type].add(street_name)\n",
    "            \n",
    "def print_sorted_dict(d):\n",
    "    keys = d.keys()\n",
    "    keys = sorted(keys, key=lambda s: s.lower())\n",
    "    for k in keys:\n",
    "        v = d[k]\n",
    "        print('{0}: {1}'.format(k, v))\n",
    "\n",
    "def audit():\n",
    "    for event, elem in ET.iterparse(OSMFILE, events=(\"start\",)):\n",
    "        if elem.tag == \"way\":\n",
    "            for tag in elem.iter(\"tag\"):\n",
    "                if is_street_name(tag):\n",
    "                    audit_street_type(street_types, tag.attrib['v'])\n",
    "    pprint(dict(street_types))\n",
    "            \n",
    "            \n",
    "audit()"
   ]
  },
  {
   "cell_type": "code",
   "execution_count": 181,
   "metadata": {
    "collapsed": false
   },
   "outputs": [
    {
     "data": {
      "text/plain": [
       "{'Laguneveien 1': 'Laguneveien',\n",
       " 'Smøråshøgda 9': 'Smøråshøgda',\n",
       " 'Thormøhlens Gate': 'Thormøhlens gate'}"
      ]
     },
     "execution_count": 181,
     "metadata": {},
     "output_type": "execute_result"
    }
   ],
   "source": [
    "#Improving names\n",
    "\n",
    "mapping = { \"Gate\": \"gate\",\n",
    "            }\n",
    "\n",
    "def update_name(name, mapping):\n",
    "\n",
    "    # YOUR CODE HERE\n",
    "    m = street_type_re.search(name)\n",
    "    street_type = m.group()\n",
    "    \n",
    "    if street_type in mapping.keys():\n",
    "        name = re.sub(street_type,mapping[street_type],name)\n",
    "\n",
    "    return name\n",
    "\n",
    "def generate_new_names(street_types):\n",
    "    better_names = {}\n",
    "    for st_type, ways in street_types.items():\n",
    "\n",
    "        for old_name in ways:\n",
    "            \n",
    "            #if old_name ends in street number, remove street number\n",
    "            if re.search(' [0-9]*$',old_name):\n",
    "                better_name = re.sub(' [0-9]*$','',old_name)\n",
    "                \n",
    "            else:\n",
    "                better_name = update_name(old_name, mapping)\n",
    "            better_names[old_name] = better_name\n",
    "            \n",
    "    return better_names\n",
    "\n",
    "generate_new_names(street_types)"
   ]
  },
  {
   "cell_type": "markdown",
   "metadata": {},
   "source": [
    "Sources:\n",
    "\n",
    "For downloading map data: \n",
    "- https://mapzen.com/data/metro-extracts/ \n",
    "- https://mapzen.com/documentation/metro-extracts/file-format/ \n",
    "\n",
    "http://www.openstreetmap.org/relation/404159#map=10/60.3572/5.4163"
   ]
  }
 ],
 "metadata": {
  "anaconda-cloud": {},
  "kernelspec": {
   "display_name": "Python [Root]",
   "language": "python",
   "name": "Python [Root]"
  },
  "language_info": {
   "codemirror_mode": {
    "name": "ipython",
    "version": 3
   },
   "file_extension": ".py",
   "mimetype": "text/x-python",
   "name": "python",
   "nbconvert_exporter": "python",
   "pygments_lexer": "ipython3",
   "version": "3.5.2"
  }
 },
 "nbformat": 4,
 "nbformat_minor": 0
}
