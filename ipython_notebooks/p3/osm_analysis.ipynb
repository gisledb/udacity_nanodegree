{
 "cells": [
  {
   "cell_type": "code",
   "execution_count": 1,
   "metadata": {
    "collapsed": true
   },
   "outputs": [],
   "source": []
  },
  {
   "cell_type": "code",
   "execution_count": 6,
   "metadata": {
    "collapsed": true
   },
   "outputs": [],
   "source": [
    "from pymongo import MongoClient\n",
    "\n",
    "client = MongoClient(\"mongodb://localhost:27017\")\n",
    "db = client.osm\n",
    "bergen = db.bergen"
   ]
  },
  {
   "cell_type": "code",
   "execution_count": 81,
   "metadata": {
    "collapsed": false
   },
   "outputs": [
    {
     "data": {
      "text/html": [
       "<b>Count of documents in database:</b>"
      ],
      "text/plain": [
       "<IPython.core.display.HTML object>"
      ]
     },
     "metadata": {},
     "output_type": "display_data"
    },
    {
     "data": {
      "text/plain": [
       "681172"
      ]
     },
     "metadata": {},
     "output_type": "display_data"
    },
    {
     "data": {
      "text/html": [
       "<b>First record:</b>"
      ],
      "text/plain": [
       "<IPython.core.display.HTML object>"
      ]
     },
     "metadata": {},
     "output_type": "display_data"
    },
    {
     "name": "stdout",
     "output_type": "stream",
     "text": [
      "{'_id': ObjectId('5853faf0d5e52a8815541def'),\n",
      " 'created': {'changeset': '6007582',\n",
      "             'timestamp': '2010-10-10T22:30:31Z',\n",
      "             'uid': '114230',\n",
      "             'user': 'danerikk',\n",
      "             'version': '2'},\n",
      " 'id': '358079',\n",
      " 'pos': [60.5286712, 5.2485526],\n",
      " 'type': 'node'}\n"
     ]
    }
   ],
   "source": [
    "from pprint import pprint\n",
    "from IPython.display import HTML\n",
    "\n",
    "display(HTML('<b>Count of documents in database:</b>'),bergen.count())\n",
    "display(HTML('<b>First record:</b>'))\n",
    "pprint(bergen.find_one())"
   ]
  },
  {
   "cell_type": "code",
   "execution_count": 95,
   "metadata": {
    "collapsed": false
   },
   "outputs": [
    {
     "data": {
      "text/plain": [
       "'address_1_address.street_1_address.housenumber_1'"
      ]
     },
     "execution_count": 95,
     "metadata": {},
     "output_type": "execute_result"
    }
   ],
   "source": [
    "#Creating indexes\n",
    "\n",
    "from pymongo import ASCENDING\n",
    "\n",
    "bergen.create_index([('address', ASCENDING),('address.street', ASCENDING),('address.housenumber', ASCENDING)])\n"
   ]
  },
  {
   "cell_type": "code",
   "execution_count": 96,
   "metadata": {
    "collapsed": false
   },
   "outputs": [
    {
     "data": {
      "text/html": [
       "<b>Number of addresses in dataset:</b>"
      ],
      "text/plain": [
       "<IPython.core.display.HTML object>"
      ]
     },
     "metadata": {},
     "output_type": "display_data"
    },
    {
     "data": {
      "text/plain": [
       "84625"
      ]
     },
     "metadata": {},
     "output_type": "display_data"
    }
   ],
   "source": [
    "#Getting count of documents with address field\n",
    "\n",
    "address_query = { 'address' : {'$exists' : True } }\n",
    "address_documents = bergen.find(address_query)\n",
    "address_count = address_documents.count()\n",
    "\n",
    "display(HTML('<b>Number of addresses in dataset:</b>'),address_count)\n",
    "\n",
    "\n",
    "\n",
    "\n"
   ]
  },
  {
   "cell_type": "code",
   "execution_count": 54,
   "metadata": {
    "collapsed": false
   },
   "outputs": [
    {
     "ename": "TypeError",
     "evalue": "aggregate() takes 2 positional arguments but 3 were given",
     "output_type": "error",
     "traceback": [
      "\u001b[0;31m---------------------------------------------------------------------------\u001b[0m",
      "\u001b[0;31mTypeError\u001b[0m                                 Traceback (most recent call last)",
      "\u001b[0;32m<ipython-input-54-4e4ba04eab0f>\u001b[0m in \u001b[0;36m<module>\u001b[0;34m()\u001b[0m\n\u001b[1;32m      7\u001b[0m     { '$group' : {\n\u001b[1;32m      8\u001b[0m         \u001b[0;34m'_id'\u001b[0m \u001b[0;34m:\u001b[0m \u001b[0;34m\"all\"\u001b[0m\u001b[0;34m,\u001b[0m\u001b[0;34m\u001b[0m\u001b[0m\n\u001b[0;32m----> 9\u001b[0;31m         \u001b[0;34m'count'\u001b[0m \u001b[0;34m:\u001b[0m \u001b[0;34m{\u001b[0m \u001b[0;34m'$sum'\u001b[0m \u001b[0;34m:\u001b[0m \u001b[0;36m1\u001b[0m \u001b[0;34m}\u001b[0m\u001b[0;34m,\u001b[0m\u001b[0;34m\u001b[0m\u001b[0m\n\u001b[0m\u001b[1;32m     10\u001b[0m         }\n\u001b[1;32m     11\u001b[0m     }\n",
      "\u001b[0;31mTypeError\u001b[0m: aggregate() takes 2 positional arguments but 3 were given"
     ]
    }
   ],
   "source": [
    "db.bergen.aggregate(\n",
    "    { '$group' : {\n",
    "        '_id' : \"address\",\n",
    "        \"count\" : { \"$sum\" : 1}\n",
    "        }\n",
    "\n",
    ");"
   ]
  },
  {
   "cell_type": "code",
   "execution_count": 61,
   "metadata": {
    "collapsed": false
   },
   "outputs": [],
   "source": [
    "tmp_agg = db.bergen.aggregate([\n",
    "         { \"$group\" : { \"_id\" : \"$address.street\",\n",
    "                       \"mset\" : {\n",
    "                         \"$addToSet\" : \"$address.house_number\"\n",
    "                 } } },\n",
    "         { \"$unwind\" : \"$mset\"},\n",
    "         { \"$group\" : { \"_id\" : \"$_id\",\n",
    "                       \"count\" : { \"$sum\" : 1} } },\n",
    "         { \"$sort\" : { \"count\" : -1 } },\n",
    "         { \"$limit\" : 10 } ] )\n",
    "\n",
    "for doc in tmp_agg:\n",
    "    print(doc)"
   ]
  },
  {
   "cell_type": "code",
   "execution_count": null,
   "metadata": {
    "collapsed": true
   },
   "outputs": [],
   "source": [
    "* db.tweets.aggregate([\n",
    "*         { \"$match\" : { \"user.friends_count\": {\"$gt\" : 0},\n",
    "*                     \"user.followers_count\": {\"$gt\" : 0} } },\n",
    "*         { \"$project\" : { \"ratio\" :{ \"$divide\" : [\"$user.followers_count\",\n",
    "*                                                 \"$user.friends_count\"]},\n",
    "*                        \"screen_name\": \"$user.screen_name\"} },\n",
    "*         { \"$sort\" : { \"ratio\" : -1} },\n",
    "*         { \"$limit\" : 1 } ])\n"
   ]
  },
  {
   "cell_type": "code",
   "execution_count": null,
   "metadata": {
    "collapsed": true
   },
   "outputs": [],
   "source": [
    "* db.tweets.aggregate([\n",
    "*         { \"$unwind\" : \"$entities.hashtags\" },\n",
    "*         { \"$group\" : { \"_id\" : \"$user.screen_name\",\n",
    "*                       \"unique_hashtags\" : {\n",
    "*                             \"$addToSet\" : \"$entities.hashtags.text\"\n",
    "*                 }\n",
    "*                      } },\n",
    "*         { \"$sort\" : { \"_id\" : -1} } ] )\n"
   ]
  },
  {
   "cell_type": "code",
   "execution_count": null,
   "metadata": {
    "collapsed": true
   },
   "outputs": [],
   "source": [
    " tmp_agg = bergen.aggregate{ '$group': { '_id': \"$myIndexedNonUniqueField\"}  },\n",
    "    { $group: { _id: 1, count: { $sum: 1 } } }"
   ]
  },
  {
   "cell_type": "code",
   "execution_count": 140,
   "metadata": {
    "collapsed": false,
    "scrolled": true
   },
   "outputs": [
    {
     "name": "stdout",
     "output_type": "stream",
     "text": [
      "total addresses in Bergen: 84625\n",
      "number of streetnames: 2239\n"
     ]
    }
   ],
   "source": [
    "tmp_agg = bergen.aggregate([  \n",
    "        {'$match' : {'address': {'$exists' : True } } },\n",
    "        { \"$group\" : { \n",
    "                \"_id\" : \"$address.street\",\"count\" : { \"$sum\" : 1} } }\n",
    "    ])\n",
    "\n",
    "household_count = 0\n",
    "unique_street_count = 0\n",
    "addresses_on_street = {}\n",
    "\n",
    "for doc in tmp_agg:\n",
    "    household_count += doc['count']\n",
    "    unique_street_count += 1\n",
    "    \n",
    "    addresses_on_street[doc['_id']] = doc['count']\n",
    "\n",
    "print(\"total addresses in Bergen:\", household_count)\n",
    "print(\"number of streetnames:\", unique_street_count)"
   ]
  },
  {
   "cell_type": "markdown",
   "metadata": {},
   "source": [
    "According to January 2016 data from Statistics Norway (SSB), there are 134,328 households in Bergen. The data used by Statistics Norway is collected from the National Registry, and the data include unit numbers for minimum 95% of the addresses where such a number exists. The available OSM data does not contain unit numbers. Several addresses in Bergen contain multiple home units, and although the OSM data also contains non-household addresses (businesses, public institutions etc.) the number of addresses in the OSM data seems reasonable."
   ]
  },
  {
   "cell_type": "code",
   "execution_count": null,
   "metadata": {
    "collapsed": true
   },
   "outputs": [],
   "source": [
    "dict(tmp_agg.items)"
   ]
  },
  {
   "cell_type": "code",
   "execution_count": 205,
   "metadata": {
    "collapsed": false
   },
   "outputs": [
    {
     "name": "stdout",
     "output_type": "stream",
     "text": [
      "None 184 <class 'NoneType'>\n",
      "Olsvikmarken 184 <class 'str'>\n",
      "Skjenlien 184 <class 'str'>\n",
      "Grimstadvegen 184 <class 'str'>\n"
     ]
    }
   ],
   "source": [
    "streetnames_sorted_dict = dict(sorted(addresses_on_street.items(), key=lambda x: x[1], reverse=True))\n",
    "\n",
    "for rec in streetnames_sorted_dict:\n",
    "    if streetnames_sorted_dict[rec] == 184:\n",
    "        print (rec,streetnames_sorted_dict[rec],type(rec))"
   ]
  },
  {
   "cell_type": "code",
   "execution_count": 210,
   "metadata": {
    "collapsed": false
   },
   "outputs": [
    {
     "name": "stdout",
     "output_type": "stream",
     "text": [
      "Streets with most addresses on them:\n",
      "Myrdalskogen 442\n",
      "Askvegen 397\n",
      "Søråshøgda 377\n",
      "Kringlebotn 304\n",
      "Flaktveitvegen 293\n",
      "Stongafjellsvegen 289\n",
      "Hjellestadvegen 277\n",
      "Hetlevikåsen 276\n",
      "Langarinden 273\n",
      "Nipedalen 250\n"
     ]
    }
   ],
   "source": [
    "from operator import itemgetter\n",
    "\n",
    "streetnames_sorted_dict = dict(sorted(addresses_on_street.items(), key=lambda x: x[1], reverse=True)[:10])\n",
    "streetnames_sorted_list = sorted(addresses_on_street.items(), key=lambda x: x[1], reverse=True)\n",
    "\n",
    "\n",
    "print(\"Streets with most addresses on them:\")\n",
    "\n",
    "for street,count in streetnames_sorted_list[0:10]:\n",
    "    print(street,count)"
   ]
  },
  {
   "cell_type": "code",
   "execution_count": 243,
   "metadata": {
    "collapsed": false
   },
   "outputs": [],
   "source": [
    "import difflib\n",
    "from fuzzywuzzy import fuzz\n",
    "\n",
    "#Checking for potential duplicate data due to misspelled street names\n",
    "\n",
    "def fuzzy_streets(ratio,house_count):\n",
    "    \n",
    "    fuzzy_matches = list()\n",
    "    compare_count = 0\n",
    "    \n",
    "    for k1 in streetnames_sorted_list:\n",
    "\n",
    "        if k1[0] is None:\n",
    "            print(\"Addresses without street name:\",k1[1])\n",
    "\n",
    "        #Only comparing street names with less addresses than house_count\n",
    "        elif k1[1] <= house_count:\n",
    "            \n",
    "            compare_count += 1\n",
    "\n",
    "            for k2 in streetnames_sorted_list:\n",
    "\n",
    "                if k2[0] is None:\n",
    "                    pass\n",
    "\n",
    "                elif k2[0] == k1[0]:\n",
    "                    pass\n",
    "\n",
    "                else:                    \n",
    "                    \n",
    "                    fuzz_ratio = fuzz.ratio(k1[0],k2[0])\n",
    "                    \n",
    "                    if fuzz_ratio >= ratio:\n",
    "                        fuzzy_matches.append({k1: k2,\"fuzz ratio\": fuzz_ratio})\n",
    "\n",
    "    print(\"Number of street names compared: {0} of {1}\".format(compare_count,len(streetnames_sorted_list)))\n",
    "    \n",
    "    return fuzzy_matches"
   ]
  },
  {
   "cell_type": "code",
   "execution_count": 244,
   "metadata": {
    "collapsed": false
   },
   "outputs": [
    {
     "name": "stdout",
     "output_type": "stream",
     "text": [
      "Addresses without street name: 184\n",
      "Number of street names compared: 534 of 2239\n"
     ]
    }
   ],
   "source": [
    "#Lower than 90 fuzzy ratio gives too many false positives. Same goes for higher than 10 addresses on the street.\n",
    "potential_misspellings = fuzzy_streets(92,10)"
   ]
  },
  {
   "cell_type": "code",
   "execution_count": 245,
   "metadata": {
    "collapsed": false
   },
   "outputs": [
    {
     "name": "stdout",
     "output_type": "stream",
     "text": [
      "0 {('Dreggsallmenningen', 10): ('Dreggsallmenning', 1), 'fuzz ratio': 94}\n",
      "1 {'fuzz ratio': 94, ('Herman Foss’ gate', 9): (\"Herman Foss' gate\", 1)}\n",
      "2 {('Vilhelm Bjerknesvei', 8): ('Vilhelm Bjerknes’ vei', 111), 'fuzz ratio': 95}\n",
      "3 {('Solhaugveien', 7): ('Solhaugvegen', 22), 'fuzz ratio': 92}\n",
      "4 {('Flyplassveien', 7): ('Flyplassvegen', 27), 'fuzz ratio': 92}\n",
      "5 {('Haakon Sheteligs plass', 6): ('Haakon Shetelings plass', 2), 'fuzz ratio': 98}\n",
      "6 {('Austevågen', 5): ('Austrevågen', 21), 'fuzz ratio': 95}\n",
      "7 {'fuzz ratio': 92, ('Vestre Mulelvsmauet', 4): ('Østre Mulelvsmauet', 3)}\n",
      "8 {('Østre Mulelvsmauet', 3): ('Vestre Mulelvsmauet', 4), 'fuzz ratio': 92}\n",
      "9 {('Travparkvegen', 3): ('Travparkveien', 1), 'fuzz ratio': 92}\n",
      "10 {'fuzz ratio': 92, ('Nesttunveien', 2): ('Nesttunvegen', 59)}\n",
      "11 {('Thormøhlens Gate', 2): ('Thormøhlens gate', 45), 'fuzz ratio': 94}\n",
      "12 {'fuzz ratio': 98, ('Haakon Shetelings plass', 2): ('Haakon Sheteligs plass', 6)}\n",
      "13 {('Torgalmenningen', 2): ('Torgallmenningen', 29), 'fuzz ratio': 97}\n",
      "14 {('Laguneveien 1', 2): ('Laguneveien', 18), 'fuzz ratio': 92}\n",
      "15 {('C.Sundtsgate', 2): ('C. Sundts gate', 53), 'fuzz ratio': 92}\n",
      "16 {('Dreggsallmenning', 1): ('Dreggsallmenningen', 10), 'fuzz ratio': 94}\n",
      "17 {('Børnesskogen', 1): ('Bønesskogen', 222), 'fuzz ratio': 96}\n",
      "18 {('Espelandsveien', 1): ('Espelandsvegen', 76), 'fuzz ratio': 93}\n",
      "19 {('Christies Gate', 1): ('Christies gate', 27), 'fuzz ratio': 93}\n",
      "20 {('Siljustølveien', 1): ('Siljustølvegen', 14), 'fuzz ratio': 93}\n",
      "21 {('Vestre murallmenningen', 1): ('Vestre Murallmenningen', 27), 'fuzz ratio': 95}\n",
      "22 {('Totlandsveien', 1): ('Totlandsvegen', 211), 'fuzz ratio': 92}\n",
      "23 {('Halvardsvegen', 1): ('Hallvardsvegen', 14), 'fuzz ratio': 96}\n",
      "24 {('Lars Hillesgate', 1): ('Lars Hilles gate', 26), 'fuzz ratio': 97}\n",
      "25 {('Travparkveien', 1): ('Travparkvegen', 3), 'fuzz ratio': 92}\n",
      "26 {(\"Herman Foss' gate\", 1): ('Herman Foss’ gate', 9), 'fuzz ratio': 94}\n"
     ]
    }
   ],
   "source": [
    "for index, item in enumerate(potential_misspellings):\n",
    "    print(index, item)"
   ]
  },
  {
   "cell_type": "code",
   "execution_count": 249,
   "metadata": {
    "collapsed": false
   },
   "outputs": [
    {
     "name": "stdout",
     "output_type": "stream",
     "text": [
      "Thormøhlens gate 45\n",
      "Thormøhlens Gate 2\n"
     ]
    }
   ],
   "source": [
    "for street,count in streetnames_sorted_list:\n",
    "    \n",
    "    if street is None:\n",
    "        pass\n",
    "    \n",
    "    elif 'Thormøhlens' in street:\n",
    "        print(street,count)\n",
    "        \n",
    "# INVESTIGATE FURTHER"
   ]
  },
  {
   "cell_type": "code",
   "execution_count": 246,
   "metadata": {
    "collapsed": false
   },
   "outputs": [
    {
     "ename": "KeyError",
     "evalue": "0",
     "output_type": "error",
     "traceback": [
      "\u001b[0;31m---------------------------------------------------------------------------\u001b[0m",
      "\u001b[0;31mKeyError\u001b[0m                                  Traceback (most recent call last)",
      "\u001b[0;32m<ipython-input-246-6e85cbe5623d>\u001b[0m in \u001b[0;36m<module>\u001b[0;34m()\u001b[0m\n\u001b[1;32m      3\u001b[0m \u001b[0;34m\u001b[0m\u001b[0m\n\u001b[1;32m      4\u001b[0m \u001b[0;32mfor\u001b[0m \u001b[0mindex\u001b[0m\u001b[0;34m,\u001b[0m \u001b[0mitem\u001b[0m \u001b[0;32min\u001b[0m \u001b[0menumerate\u001b[0m\u001b[0;34m(\u001b[0m\u001b[0mpotential_misspellings\u001b[0m\u001b[0;34m)\u001b[0m\u001b[0;34m:\u001b[0m\u001b[0;34m\u001b[0m\u001b[0m\n\u001b[0;32m----> 5\u001b[0;31m     \u001b[0mprint\u001b[0m\u001b[0;34m(\u001b[0m\u001b[0mitem\u001b[0m\u001b[0;34m[\u001b[0m\u001b[0;36m0\u001b[0m\u001b[0;34m]\u001b[0m\u001b[0;34m)\u001b[0m\u001b[0;31m# in (6,17,19,)\u001b[0m\u001b[0;34m\u001b[0m\u001b[0m\n\u001b[0m",
      "\u001b[0;31mKeyError\u001b[0m: 0"
     ]
    }
   ],
   "source": [
    "true_duplicates = []\n",
    "investigate_further = []\n",
    "\n",
    "# for index, item in enumerate(potential_misspellings):\n",
    "#     if item[0] in (6,17,1,)"
   ]
  },
  {
   "cell_type": "markdown",
   "metadata": {},
   "source": [
    "Above I have performed some QA on the street names from the Bergen OSM dataset. I have taken a closer look at the street names with less than 10 house numbers, and I have compared those street with the other street names to spot potential misspelled and duplicate street names.\n",
    "\n",
    "I have manually reviewed the returned list of (fuzzy) matched street names, and I have added what I consider true duplicates (based on local knowledge) to a new list, `true_duplicates`. Some of the matched street names require further investigation, and I have therefore created a separate list for those items, called `investigate_further`."
   ]
  },
  {
   "cell_type": "markdown",
   "metadata": {},
   "source": [
    "### Sources\n",
    "\n",
    "https://ssb.no/befolkning/statistikker/familie/aar/2016-04-14  \n",
    "https://www.ssb.no/befolkning/samordnet-statistikk-for-husholdninger-og-boliger \n",
    "\n"
   ]
  }
 ],
 "metadata": {
  "anaconda-cloud": {},
  "kernelspec": {
   "display_name": "Python [Root]",
   "language": "python",
   "name": "Python [Root]"
  },
  "language_info": {
   "codemirror_mode": {
    "name": "ipython",
    "version": 3
   },
   "file_extension": ".py",
   "mimetype": "text/x-python",
   "name": "python",
   "nbconvert_exporter": "python",
   "pygments_lexer": "ipython3",
   "version": "3.5.2"
  }
 },
 "nbformat": 4,
 "nbformat_minor": 0
}
