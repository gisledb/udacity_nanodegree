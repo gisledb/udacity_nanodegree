{
 "cells": [
  {
   "cell_type": "markdown",
   "metadata": {},
   "source": [
    "### Introduction"
   ]
  },
  {
   "cell_type": "markdown",
   "metadata": {},
   "source": [
    "In this project I will analyze passenger data from the passenger liner RMS Titanic's tragic maiden voyage in April of 1912. I will use the dataset located at https://www.udacity.com/api/nodes/5420148578/supplemental_media/titanic-datacsv/download?_ga=1.248296128.651510525.1453551417 as the basis for my analysis. The dataset \"contains demographics and passenger information from 891 of the 2224 passengers and crew on board the Titanic\"."
   ]
  },
  {
   "cell_type": "markdown",
   "metadata": {},
   "source": [
    "**Dataset description** from Kaggle:\n",
    "\n",
    "~~~~\n",
    "VARIABLE DESCRIPTIONS:\n",
    "survival        Survival\n",
    "                (0 = No; 1 = Yes)\n",
    "pclass          Passenger Class\n",
    "                (1 = 1st; 2 = 2nd; 3 = 3rd)\n",
    "name            Name\n",
    "sex             Sex\n",
    "age             Age\n",
    "sibsp           Number of Siblings/Spouses Aboard\n",
    "parch           Number of Parents/Children Aboard\n",
    "ticket          Ticket Number\n",
    "fare            Passenger Fare\n",
    "cabin           Cabin\n",
    "embarked        Port of Embarkation\n",
    "                (C = Cherbourg; Q = Queenstown; S = Southampton)\n",
    "~~~~"
   ]
  },
  {
   "cell_type": "markdown",
   "metadata": {},
   "source": [
    "I will start by doing some exploratory data analysis with the following initial question in mind:\n",
    "- **Which factor(s) had the greatest impact on passenger survival rate?**"
   ]
  },
  {
   "cell_type": "code",
   "execution_count": 1,
   "metadata": {
    "collapsed": true
   },
   "outputs": [],
   "source": [
    "#Importing libraries and modules\n",
    "import numpy as np\n",
    "import pandas as pd\n",
    "import matplotlib.pyplot as plt\n",
    "import matplotlib.style as style\n",
    "import seaborn as sns\n",
    "from IPython.display import display\n",
    "from IPython.display import HTML\n",
    "from scipy import stats\n",
    "\n",
    "%matplotlib inline"
   ]
  },
  {
   "cell_type": "code",
   "execution_count": 2,
   "metadata": {
    "collapsed": false
   },
   "outputs": [],
   "source": [
    "#loading data\n",
    "\n",
    "titanic = pd.read_csv('titanic_data.csv')"
   ]
  },
  {
   "cell_type": "code",
   "execution_count": 3,
   "metadata": {
    "collapsed": false
   },
   "outputs": [
    {
     "name": "stdout",
     "output_type": "stream",
     "text": [
      "Index(['PassengerId', 'Survived', 'Pclass', 'Name', 'Sex', 'Age', 'SibSp',\n",
      "       'Parch', 'Ticket', 'Fare', 'Cabin', 'Embarked'],\n",
      "      dtype='object')\n",
      "number of passenger records: 891\n"
     ]
    },
    {
     "data": {
      "text/html": [
       "<div>\n",
       "<table border=\"1\" class=\"dataframe\">\n",
       "  <thead>\n",
       "    <tr style=\"text-align: right;\">\n",
       "      <th></th>\n",
       "      <th>PassengerId</th>\n",
       "      <th>Survived</th>\n",
       "      <th>Pclass</th>\n",
       "      <th>Name</th>\n",
       "      <th>Sex</th>\n",
       "      <th>Age</th>\n",
       "      <th>SibSp</th>\n",
       "      <th>Parch</th>\n",
       "      <th>Ticket</th>\n",
       "      <th>Fare</th>\n",
       "      <th>Cabin</th>\n",
       "      <th>Embarked</th>\n",
       "    </tr>\n",
       "  </thead>\n",
       "  <tbody>\n",
       "    <tr>\n",
       "      <th>0</th>\n",
       "      <td>1</td>\n",
       "      <td>0</td>\n",
       "      <td>3</td>\n",
       "      <td>Braund, Mr. Owen Harris</td>\n",
       "      <td>male</td>\n",
       "      <td>22.0</td>\n",
       "      <td>1</td>\n",
       "      <td>0</td>\n",
       "      <td>A/5 21171</td>\n",
       "      <td>7.2500</td>\n",
       "      <td>NaN</td>\n",
       "      <td>S</td>\n",
       "    </tr>\n",
       "    <tr>\n",
       "      <th>1</th>\n",
       "      <td>2</td>\n",
       "      <td>1</td>\n",
       "      <td>1</td>\n",
       "      <td>Cumings, Mrs. John Bradley (Florence Briggs Th...</td>\n",
       "      <td>female</td>\n",
       "      <td>38.0</td>\n",
       "      <td>1</td>\n",
       "      <td>0</td>\n",
       "      <td>PC 17599</td>\n",
       "      <td>71.2833</td>\n",
       "      <td>C85</td>\n",
       "      <td>C</td>\n",
       "    </tr>\n",
       "    <tr>\n",
       "      <th>2</th>\n",
       "      <td>3</td>\n",
       "      <td>1</td>\n",
       "      <td>3</td>\n",
       "      <td>Heikkinen, Miss. Laina</td>\n",
       "      <td>female</td>\n",
       "      <td>26.0</td>\n",
       "      <td>0</td>\n",
       "      <td>0</td>\n",
       "      <td>STON/O2. 3101282</td>\n",
       "      <td>7.9250</td>\n",
       "      <td>NaN</td>\n",
       "      <td>S</td>\n",
       "    </tr>\n",
       "    <tr>\n",
       "      <th>3</th>\n",
       "      <td>4</td>\n",
       "      <td>1</td>\n",
       "      <td>1</td>\n",
       "      <td>Futrelle, Mrs. Jacques Heath (Lily May Peel)</td>\n",
       "      <td>female</td>\n",
       "      <td>35.0</td>\n",
       "      <td>1</td>\n",
       "      <td>0</td>\n",
       "      <td>113803</td>\n",
       "      <td>53.1000</td>\n",
       "      <td>C123</td>\n",
       "      <td>S</td>\n",
       "    </tr>\n",
       "    <tr>\n",
       "      <th>4</th>\n",
       "      <td>5</td>\n",
       "      <td>0</td>\n",
       "      <td>3</td>\n",
       "      <td>Allen, Mr. William Henry</td>\n",
       "      <td>male</td>\n",
       "      <td>35.0</td>\n",
       "      <td>0</td>\n",
       "      <td>0</td>\n",
       "      <td>373450</td>\n",
       "      <td>8.0500</td>\n",
       "      <td>NaN</td>\n",
       "      <td>S</td>\n",
       "    </tr>\n",
       "  </tbody>\n",
       "</table>\n",
       "</div>"
      ],
      "text/plain": [
       "   PassengerId  Survived  Pclass  \\\n",
       "0            1         0       3   \n",
       "1            2         1       1   \n",
       "2            3         1       3   \n",
       "3            4         1       1   \n",
       "4            5         0       3   \n",
       "\n",
       "                                                Name     Sex   Age  SibSp  \\\n",
       "0                            Braund, Mr. Owen Harris    male  22.0      1   \n",
       "1  Cumings, Mrs. John Bradley (Florence Briggs Th...  female  38.0      1   \n",
       "2                             Heikkinen, Miss. Laina  female  26.0      0   \n",
       "3       Futrelle, Mrs. Jacques Heath (Lily May Peel)  female  35.0      1   \n",
       "4                           Allen, Mr. William Henry    male  35.0      0   \n",
       "\n",
       "   Parch            Ticket     Fare Cabin Embarked  \n",
       "0      0         A/5 21171   7.2500   NaN        S  \n",
       "1      0          PC 17599  71.2833   C85        C  \n",
       "2      0  STON/O2. 3101282   7.9250   NaN        S  \n",
       "3      0            113803  53.1000  C123        S  \n",
       "4      0            373450   8.0500   NaN        S  "
      ]
     },
     "metadata": {},
     "output_type": "display_data"
    },
    {
     "data": {
      "text/plain": [
       "PassengerId                   6\n",
       "Survived                      0\n",
       "Pclass                        3\n",
       "Name           Moran, Mr. James\n",
       "Sex                        male\n",
       "Age                         NaN\n",
       "SibSp                         0\n",
       "Parch                         0\n",
       "Ticket                   330877\n",
       "Fare                     8.4583\n",
       "Cabin                       NaN\n",
       "Embarked                      Q\n",
       "Name: 5, dtype: object"
      ]
     },
     "metadata": {},
     "output_type": "display_data"
    },
    {
     "name": "stdout",
     "output_type": "stream",
     "text": [
      "<class 'pandas.core.frame.DataFrame'>\n",
      "RangeIndex: 891 entries, 0 to 890\n",
      "Data columns (total 12 columns):\n",
      "PassengerId    891 non-null int64\n",
      "Survived       891 non-null int64\n",
      "Pclass         891 non-null int64\n",
      "Name           891 non-null object\n",
      "Sex            891 non-null object\n",
      "Age            714 non-null float64\n",
      "SibSp          891 non-null int64\n",
      "Parch          891 non-null int64\n",
      "Ticket         891 non-null object\n",
      "Fare           891 non-null float64\n",
      "Cabin          204 non-null object\n",
      "Embarked       889 non-null object\n",
      "dtypes: float64(2), int64(5), object(5)\n",
      "memory usage: 83.6+ KB\n"
     ]
    },
    {
     "data": {
      "text/plain": [
       "None"
      ]
     },
     "metadata": {},
     "output_type": "display_data"
    }
   ],
   "source": [
    "#Inital exploration\n",
    "\n",
    "from IPython.display import display\n",
    "\n",
    "print(titanic.columns)\n",
    "\n",
    "print(\"number of passenger records:\", len(titanic))\n",
    "\n",
    "display(titanic.head(5))\n",
    "\n",
    "display(titanic.iloc[5])\n",
    "\n",
    "display(titanic.info())"
   ]
  },
  {
   "cell_type": "markdown",
   "metadata": {},
   "source": [
    "Some of the variables (Name, Sex, Ticket, Cabin, Embarked) are not numeric. Of these, 'Sex' and 'Embarked' are interesting for analysis, and I will therefore convert them into boolean variables to be able to perform mathematical operations on them. \n",
    "\n",
    "'Cabin' could also be interesting to take a closer look at, but since the dataset only contains cabin data for 204 of 891 records, I will not focus on cabins in my analysis. It is possible the passenger records containing cabin data is skewed in one or more ways."
   ]
  },
  {
   "cell_type": "code",
   "execution_count": 4,
   "metadata": {
    "collapsed": false
   },
   "outputs": [
    {
     "data": {
      "text/html": [
       "<div>\n",
       "<table border=\"1\" class=\"dataframe\">\n",
       "  <thead>\n",
       "    <tr style=\"text-align: right;\">\n",
       "      <th></th>\n",
       "      <th>PassengerId</th>\n",
       "      <th>Survived</th>\n",
       "      <th>Pclass</th>\n",
       "      <th>Name</th>\n",
       "      <th>Sex</th>\n",
       "      <th>Age</th>\n",
       "      <th>SibSp</th>\n",
       "      <th>Parch</th>\n",
       "      <th>Ticket</th>\n",
       "      <th>Fare</th>\n",
       "      <th>Cabin</th>\n",
       "      <th>Embarked</th>\n",
       "      <th>is_female</th>\n",
       "      <th>is_male</th>\n",
       "      <th>embarked_C</th>\n",
       "      <th>embarked_Q</th>\n",
       "      <th>embarked_S</th>\n",
       "    </tr>\n",
       "  </thead>\n",
       "  <tbody>\n",
       "    <tr>\n",
       "      <th>0</th>\n",
       "      <td>1</td>\n",
       "      <td>0</td>\n",
       "      <td>3</td>\n",
       "      <td>Braund, Mr. Owen Harris</td>\n",
       "      <td>male</td>\n",
       "      <td>22.0</td>\n",
       "      <td>1</td>\n",
       "      <td>0</td>\n",
       "      <td>A/5 21171</td>\n",
       "      <td>7.2500</td>\n",
       "      <td>NaN</td>\n",
       "      <td>S</td>\n",
       "      <td>0.0</td>\n",
       "      <td>1.0</td>\n",
       "      <td>0.0</td>\n",
       "      <td>0.0</td>\n",
       "      <td>1.0</td>\n",
       "    </tr>\n",
       "    <tr>\n",
       "      <th>1</th>\n",
       "      <td>2</td>\n",
       "      <td>1</td>\n",
       "      <td>1</td>\n",
       "      <td>Cumings, Mrs. John Bradley (Florence Briggs Th...</td>\n",
       "      <td>female</td>\n",
       "      <td>38.0</td>\n",
       "      <td>1</td>\n",
       "      <td>0</td>\n",
       "      <td>PC 17599</td>\n",
       "      <td>71.2833</td>\n",
       "      <td>C85</td>\n",
       "      <td>C</td>\n",
       "      <td>1.0</td>\n",
       "      <td>0.0</td>\n",
       "      <td>1.0</td>\n",
       "      <td>0.0</td>\n",
       "      <td>0.0</td>\n",
       "    </tr>\n",
       "    <tr>\n",
       "      <th>2</th>\n",
       "      <td>3</td>\n",
       "      <td>1</td>\n",
       "      <td>3</td>\n",
       "      <td>Heikkinen, Miss. Laina</td>\n",
       "      <td>female</td>\n",
       "      <td>26.0</td>\n",
       "      <td>0</td>\n",
       "      <td>0</td>\n",
       "      <td>STON/O2. 3101282</td>\n",
       "      <td>7.9250</td>\n",
       "      <td>NaN</td>\n",
       "      <td>S</td>\n",
       "      <td>1.0</td>\n",
       "      <td>0.0</td>\n",
       "      <td>0.0</td>\n",
       "      <td>0.0</td>\n",
       "      <td>1.0</td>\n",
       "    </tr>\n",
       "    <tr>\n",
       "      <th>3</th>\n",
       "      <td>4</td>\n",
       "      <td>1</td>\n",
       "      <td>1</td>\n",
       "      <td>Futrelle, Mrs. Jacques Heath (Lily May Peel)</td>\n",
       "      <td>female</td>\n",
       "      <td>35.0</td>\n",
       "      <td>1</td>\n",
       "      <td>0</td>\n",
       "      <td>113803</td>\n",
       "      <td>53.1000</td>\n",
       "      <td>C123</td>\n",
       "      <td>S</td>\n",
       "      <td>1.0</td>\n",
       "      <td>0.0</td>\n",
       "      <td>0.0</td>\n",
       "      <td>0.0</td>\n",
       "      <td>1.0</td>\n",
       "    </tr>\n",
       "    <tr>\n",
       "      <th>4</th>\n",
       "      <td>5</td>\n",
       "      <td>0</td>\n",
       "      <td>3</td>\n",
       "      <td>Allen, Mr. William Henry</td>\n",
       "      <td>male</td>\n",
       "      <td>35.0</td>\n",
       "      <td>0</td>\n",
       "      <td>0</td>\n",
       "      <td>373450</td>\n",
       "      <td>8.0500</td>\n",
       "      <td>NaN</td>\n",
       "      <td>S</td>\n",
       "      <td>0.0</td>\n",
       "      <td>1.0</td>\n",
       "      <td>0.0</td>\n",
       "      <td>0.0</td>\n",
       "      <td>1.0</td>\n",
       "    </tr>\n",
       "  </tbody>\n",
       "</table>\n",
       "</div>"
      ],
      "text/plain": [
       "   PassengerId  Survived  Pclass  \\\n",
       "0            1         0       3   \n",
       "1            2         1       1   \n",
       "2            3         1       3   \n",
       "3            4         1       1   \n",
       "4            5         0       3   \n",
       "\n",
       "                                                Name     Sex   Age  SibSp  \\\n",
       "0                            Braund, Mr. Owen Harris    male  22.0      1   \n",
       "1  Cumings, Mrs. John Bradley (Florence Briggs Th...  female  38.0      1   \n",
       "2                             Heikkinen, Miss. Laina  female  26.0      0   \n",
       "3       Futrelle, Mrs. Jacques Heath (Lily May Peel)  female  35.0      1   \n",
       "4                           Allen, Mr. William Henry    male  35.0      0   \n",
       "\n",
       "   Parch            Ticket     Fare Cabin Embarked  is_female  is_male  \\\n",
       "0      0         A/5 21171   7.2500   NaN        S        0.0      1.0   \n",
       "1      0          PC 17599  71.2833   C85        C        1.0      0.0   \n",
       "2      0  STON/O2. 3101282   7.9250   NaN        S        1.0      0.0   \n",
       "3      0            113803  53.1000  C123        S        1.0      0.0   \n",
       "4      0            373450   8.0500   NaN        S        0.0      1.0   \n",
       "\n",
       "   embarked_C  embarked_Q  embarked_S  \n",
       "0         0.0         0.0         1.0  \n",
       "1         1.0         0.0         0.0  \n",
       "2         0.0         0.0         1.0  \n",
       "3         0.0         0.0         1.0  \n",
       "4         0.0         0.0         1.0  "
      ]
     },
     "execution_count": 4,
     "metadata": {},
     "output_type": "execute_result"
    }
   ],
   "source": [
    "#Making 'Sex' and 'Embarked' numeric to be able to perform mathematical operations using the variables\n",
    "titanic = pd.concat([titanic,pd.get_dummies(titanic['Sex'],prefix='is'),\n",
    "                    pd.get_dummies(titanic['Embarked'],prefix='embarked')], axis=1)\n",
    "                     \n",
    "\n",
    "titanic.head(5)"
   ]
  },
  {
   "cell_type": "code",
   "execution_count": 5,
   "metadata": {
    "collapsed": false
   },
   "outputs": [
    {
     "data": {
      "text/html": [
       "<div>\n",
       "<table border=\"1\" class=\"dataframe\">\n",
       "  <thead>\n",
       "    <tr style=\"text-align: right;\">\n",
       "      <th></th>\n",
       "      <th>PassengerId</th>\n",
       "      <th>Survived</th>\n",
       "      <th>Pclass</th>\n",
       "      <th>Name</th>\n",
       "      <th>Sex</th>\n",
       "      <th>Age</th>\n",
       "      <th>SibSp</th>\n",
       "      <th>Parch</th>\n",
       "      <th>Ticket</th>\n",
       "      <th>Fare</th>\n",
       "      <th>Cabin</th>\n",
       "      <th>Embarked</th>\n",
       "      <th>is_female</th>\n",
       "      <th>is_male</th>\n",
       "      <th>embarked_C</th>\n",
       "      <th>embarked_Q</th>\n",
       "      <th>embarked_S</th>\n",
       "    </tr>\n",
       "  </thead>\n",
       "  <tbody>\n",
       "  </tbody>\n",
       "</table>\n",
       "</div>"
      ],
      "text/plain": [
       "Empty DataFrame\n",
       "Columns: [PassengerId, Survived, Pclass, Name, Sex, Age, SibSp, Parch, Ticket, Fare, Cabin, Embarked, is_female, is_male, embarked_C, embarked_Q, embarked_S]\n",
       "Index: []"
      ]
     },
     "metadata": {},
     "output_type": "display_data"
    },
    {
     "name": "stdout",
     "output_type": "stream",
     "text": [
      "Expecting 0 records returned.\n"
     ]
    }
   ],
   "source": [
    "#Checking data is correct\n",
    "display(titanic[(\n",
    "        (titanic['is_male'] == 1) & (titanic['Sex'] != 'male') |\n",
    "        (titanic['is_female'] == 1) & (titanic['Sex'] != 'female') |\n",
    "        (titanic['embarked_S'] == 1) & (titanic['Embarked'] != 'S') |\n",
    "        (titanic['embarked_C'] == 1) & (titanic['Embarked'] != 'C') |\n",
    "        (titanic['embarked_Q'] == 1) & (titanic['Embarked'] != 'Q')\n",
    "        )])\n",
    "\n",
    "print(\"Expecting 0 records returned.\")"
   ]
  },
  {
   "cell_type": "code",
   "execution_count": 6,
   "metadata": {
    "collapsed": false,
    "scrolled": true
   },
   "outputs": [
    {
     "name": "stderr",
     "output_type": "stream",
     "text": [
      "/Users/ggaasemyr/anaconda3/lib/python3.5/site-packages/numpy/lib/function_base.py:3834: RuntimeWarning: Invalid value encountered in percentile\n",
      "  RuntimeWarning)\n"
     ]
    },
    {
     "data": {
      "text/html": [
       "<div>\n",
       "<table border=\"1\" class=\"dataframe\">\n",
       "  <thead>\n",
       "    <tr style=\"text-align: right;\">\n",
       "      <th></th>\n",
       "      <th>PassengerId</th>\n",
       "      <th>Survived</th>\n",
       "      <th>Pclass</th>\n",
       "      <th>Age</th>\n",
       "      <th>SibSp</th>\n",
       "      <th>Parch</th>\n",
       "      <th>Fare</th>\n",
       "      <th>is_female</th>\n",
       "      <th>is_male</th>\n",
       "      <th>embarked_C</th>\n",
       "      <th>embarked_Q</th>\n",
       "      <th>embarked_S</th>\n",
       "    </tr>\n",
       "  </thead>\n",
       "  <tbody>\n",
       "    <tr>\n",
       "      <th>count</th>\n",
       "      <td>891.00</td>\n",
       "      <td>891.00</td>\n",
       "      <td>891.00</td>\n",
       "      <td>714.00</td>\n",
       "      <td>891.00</td>\n",
       "      <td>891.00</td>\n",
       "      <td>891.00</td>\n",
       "      <td>891.00</td>\n",
       "      <td>891.00</td>\n",
       "      <td>891.00</td>\n",
       "      <td>891.00</td>\n",
       "      <td>891.00</td>\n",
       "    </tr>\n",
       "    <tr>\n",
       "      <th>mean</th>\n",
       "      <td>446.00</td>\n",
       "      <td>0.38</td>\n",
       "      <td>2.31</td>\n",
       "      <td>29.70</td>\n",
       "      <td>0.52</td>\n",
       "      <td>0.38</td>\n",
       "      <td>32.20</td>\n",
       "      <td>0.35</td>\n",
       "      <td>0.65</td>\n",
       "      <td>0.19</td>\n",
       "      <td>0.09</td>\n",
       "      <td>0.72</td>\n",
       "    </tr>\n",
       "    <tr>\n",
       "      <th>std</th>\n",
       "      <td>257.35</td>\n",
       "      <td>0.49</td>\n",
       "      <td>0.84</td>\n",
       "      <td>14.53</td>\n",
       "      <td>1.10</td>\n",
       "      <td>0.81</td>\n",
       "      <td>49.69</td>\n",
       "      <td>0.48</td>\n",
       "      <td>0.48</td>\n",
       "      <td>0.39</td>\n",
       "      <td>0.28</td>\n",
       "      <td>0.45</td>\n",
       "    </tr>\n",
       "    <tr>\n",
       "      <th>min</th>\n",
       "      <td>1.00</td>\n",
       "      <td>0.00</td>\n",
       "      <td>1.00</td>\n",
       "      <td>0.42</td>\n",
       "      <td>0.00</td>\n",
       "      <td>0.00</td>\n",
       "      <td>0.00</td>\n",
       "      <td>0.00</td>\n",
       "      <td>0.00</td>\n",
       "      <td>0.00</td>\n",
       "      <td>0.00</td>\n",
       "      <td>0.00</td>\n",
       "    </tr>\n",
       "    <tr>\n",
       "      <th>25%</th>\n",
       "      <td>223.50</td>\n",
       "      <td>0.00</td>\n",
       "      <td>2.00</td>\n",
       "      <td>NaN</td>\n",
       "      <td>0.00</td>\n",
       "      <td>0.00</td>\n",
       "      <td>7.91</td>\n",
       "      <td>0.00</td>\n",
       "      <td>0.00</td>\n",
       "      <td>0.00</td>\n",
       "      <td>0.00</td>\n",
       "      <td>0.00</td>\n",
       "    </tr>\n",
       "    <tr>\n",
       "      <th>50%</th>\n",
       "      <td>446.00</td>\n",
       "      <td>0.00</td>\n",
       "      <td>3.00</td>\n",
       "      <td>NaN</td>\n",
       "      <td>0.00</td>\n",
       "      <td>0.00</td>\n",
       "      <td>14.45</td>\n",
       "      <td>0.00</td>\n",
       "      <td>1.00</td>\n",
       "      <td>0.00</td>\n",
       "      <td>0.00</td>\n",
       "      <td>1.00</td>\n",
       "    </tr>\n",
       "    <tr>\n",
       "      <th>75%</th>\n",
       "      <td>668.50</td>\n",
       "      <td>1.00</td>\n",
       "      <td>3.00</td>\n",
       "      <td>NaN</td>\n",
       "      <td>1.00</td>\n",
       "      <td>0.00</td>\n",
       "      <td>31.00</td>\n",
       "      <td>1.00</td>\n",
       "      <td>1.00</td>\n",
       "      <td>0.00</td>\n",
       "      <td>0.00</td>\n",
       "      <td>1.00</td>\n",
       "    </tr>\n",
       "    <tr>\n",
       "      <th>max</th>\n",
       "      <td>891.00</td>\n",
       "      <td>1.00</td>\n",
       "      <td>3.00</td>\n",
       "      <td>80.00</td>\n",
       "      <td>8.00</td>\n",
       "      <td>6.00</td>\n",
       "      <td>512.33</td>\n",
       "      <td>1.00</td>\n",
       "      <td>1.00</td>\n",
       "      <td>1.00</td>\n",
       "      <td>1.00</td>\n",
       "      <td>1.00</td>\n",
       "    </tr>\n",
       "  </tbody>\n",
       "</table>\n",
       "</div>"
      ],
      "text/plain": [
       "       PassengerId  Survived  Pclass     Age   SibSp   Parch    Fare  \\\n",
       "count       891.00    891.00  891.00  714.00  891.00  891.00  891.00   \n",
       "mean        446.00      0.38    2.31   29.70    0.52    0.38   32.20   \n",
       "std         257.35      0.49    0.84   14.53    1.10    0.81   49.69   \n",
       "min           1.00      0.00    1.00    0.42    0.00    0.00    0.00   \n",
       "25%         223.50      0.00    2.00     NaN    0.00    0.00    7.91   \n",
       "50%         446.00      0.00    3.00     NaN    0.00    0.00   14.45   \n",
       "75%         668.50      1.00    3.00     NaN    1.00    0.00   31.00   \n",
       "max         891.00      1.00    3.00   80.00    8.00    6.00  512.33   \n",
       "\n",
       "       is_female  is_male  embarked_C  embarked_Q  embarked_S  \n",
       "count     891.00   891.00      891.00      891.00      891.00  \n",
       "mean        0.35     0.65        0.19        0.09        0.72  \n",
       "std         0.48     0.48        0.39        0.28        0.45  \n",
       "min         0.00     0.00        0.00        0.00        0.00  \n",
       "25%         0.00     0.00        0.00        0.00        0.00  \n",
       "50%         0.00     1.00        0.00        0.00        1.00  \n",
       "75%         1.00     1.00        0.00        0.00        1.00  \n",
       "max         1.00     1.00        1.00        1.00        1.00  "
      ]
     },
     "execution_count": 6,
     "metadata": {},
     "output_type": "execute_result"
    }
   ],
   "source": [
    "#Getting a quick overview by aggregating the dataset\n",
    "round(titanic.describe(),2)"
   ]
  },
  {
   "cell_type": "markdown",
   "metadata": {},
   "source": [
    "From this we observe some interesting details:\n",
    "* 38% of the passengers survived\n",
    "* 65% of the passengers were male; 35% of the passengers were female\n",
    "* The average age of the passengers was almost 30 years old\n",
    "* A large majority (72%) of the passengers embarked from Southampton, while 19% embarked from Cherbourg, and 9% embarked from Queenstown."
   ]
  },
  {
   "cell_type": "code",
   "execution_count": 7,
   "metadata": {
    "collapsed": false
   },
   "outputs": [
    {
     "data": {
      "text/html": [
       "<div>\n",
       "<table border=\"1\" class=\"dataframe\">\n",
       "  <thead>\n",
       "    <tr style=\"text-align: right;\">\n",
       "      <th></th>\n",
       "      <th>Survived</th>\n",
       "    </tr>\n",
       "  </thead>\n",
       "  <tbody>\n",
       "    <tr>\n",
       "      <th>PassengerId</th>\n",
       "      <td>-0.01</td>\n",
       "    </tr>\n",
       "    <tr>\n",
       "      <th>Survived</th>\n",
       "      <td>1.00</td>\n",
       "    </tr>\n",
       "    <tr>\n",
       "      <th>Pclass</th>\n",
       "      <td>-0.34</td>\n",
       "    </tr>\n",
       "    <tr>\n",
       "      <th>Age</th>\n",
       "      <td>-0.08</td>\n",
       "    </tr>\n",
       "    <tr>\n",
       "      <th>SibSp</th>\n",
       "      <td>-0.04</td>\n",
       "    </tr>\n",
       "    <tr>\n",
       "      <th>Parch</th>\n",
       "      <td>0.08</td>\n",
       "    </tr>\n",
       "    <tr>\n",
       "      <th>Fare</th>\n",
       "      <td>0.26</td>\n",
       "    </tr>\n",
       "    <tr>\n",
       "      <th>is_female</th>\n",
       "      <td>0.54</td>\n",
       "    </tr>\n",
       "    <tr>\n",
       "      <th>is_male</th>\n",
       "      <td>-0.54</td>\n",
       "    </tr>\n",
       "    <tr>\n",
       "      <th>embarked_C</th>\n",
       "      <td>0.17</td>\n",
       "    </tr>\n",
       "    <tr>\n",
       "      <th>embarked_Q</th>\n",
       "      <td>0.00</td>\n",
       "    </tr>\n",
       "    <tr>\n",
       "      <th>embarked_S</th>\n",
       "      <td>-0.16</td>\n",
       "    </tr>\n",
       "  </tbody>\n",
       "</table>\n",
       "</div>"
      ],
      "text/plain": [
       "             Survived\n",
       "PassengerId     -0.01\n",
       "Survived         1.00\n",
       "Pclass          -0.34\n",
       "Age             -0.08\n",
       "SibSp           -0.04\n",
       "Parch            0.08\n",
       "Fare             0.26\n",
       "is_female        0.54\n",
       "is_male         -0.54\n",
       "embarked_C       0.17\n",
       "embarked_Q       0.00\n",
       "embarked_S      -0.16"
      ]
     },
     "metadata": {},
     "output_type": "display_data"
    },
    {
     "data": {
      "image/png": "[encoded data removed]",
      "text/plain": [
       "<matplotlib.figure.Figure at 0x119c12208>"
      ]
     },
     "metadata": {},
     "output_type": "display_data"
    },
    {
     "data": {
      "text/plain": [
       "<matplotlib.axes._subplots.AxesSubplot at 0x119b6e198>"
      ]
     },
     "execution_count": 7,
     "metadata": {},
     "output_type": "execute_result"
    },
    {
     "data": {
      "image/png": "[encoded data removed]",
      "text/plain": [
       "<matplotlib.figure.Figure at 0x119a5e3c8>"
      ]
     },
     "metadata": {},
     "output_type": "display_data"
    }
   ],
   "source": [
    "#Looking at survival correlation using the Pandas corr() (Pearson's correlation coefficient) function\n",
    "\n",
    "survival_correlation = titanic.corr(method='pearson')['Survived']\n",
    "\n",
    "display(round(survival_correlation,2).to_frame())\n",
    "\n",
    "survival_correlation.plot()\n",
    "plt.show()\n",
    "\n",
    "#Squaring the correlation coefficients to clearer visualize the comparative correlation strengths\n",
    "np.sqrt(survival_correlation ** 2).plot(kind='bar')"
   ]
  },
  {
   "cell_type": "markdown",
   "metadata": {},
   "source": [
    "This indicates that 'sex' (being female) and 'passenger class' were the most important factors for survival on the Titanic, with high and medium correlation scores. 'Ticket price' also has a fairly large correlation score (Pearson's correlation coefficient). I suspect this is due to better ticket classes costing more, which I will look into next."
   ]
  },
  {
   "cell_type": "code",
   "execution_count": 8,
   "metadata": {
    "collapsed": false
   },
   "outputs": [
    {
     "data": {
      "text/html": [
       "<div>\n",
       "<table border=\"1\" class=\"dataframe\">\n",
       "  <thead>\n",
       "    <tr style=\"text-align: right;\">\n",
       "      <th></th>\n",
       "      <th>Fare</th>\n",
       "    </tr>\n",
       "  </thead>\n",
       "  <tbody>\n",
       "    <tr>\n",
       "      <th>PassengerId</th>\n",
       "      <td>0.01</td>\n",
       "    </tr>\n",
       "    <tr>\n",
       "      <th>Survived</th>\n",
       "      <td>0.26</td>\n",
       "    </tr>\n",
       "    <tr>\n",
       "      <th>Pclass</th>\n",
       "      <td>-0.55</td>\n",
       "    </tr>\n",
       "    <tr>\n",
       "      <th>Age</th>\n",
       "      <td>0.10</td>\n",
       "    </tr>\n",
       "    <tr>\n",
       "      <th>SibSp</th>\n",
       "      <td>0.16</td>\n",
       "    </tr>\n",
       "    <tr>\n",
       "      <th>Parch</th>\n",
       "      <td>0.22</td>\n",
       "    </tr>\n",
       "    <tr>\n",
       "      <th>Fare</th>\n",
       "      <td>1.00</td>\n",
       "    </tr>\n",
       "    <tr>\n",
       "      <th>is_female</th>\n",
       "      <td>0.18</td>\n",
       "    </tr>\n",
       "    <tr>\n",
       "      <th>is_male</th>\n",
       "      <td>-0.18</td>\n",
       "    </tr>\n",
       "    <tr>\n",
       "      <th>embarked_C</th>\n",
       "      <td>0.27</td>\n",
       "    </tr>\n",
       "    <tr>\n",
       "      <th>embarked_Q</th>\n",
       "      <td>-0.12</td>\n",
       "    </tr>\n",
       "    <tr>\n",
       "      <th>embarked_S</th>\n",
       "      <td>-0.17</td>\n",
       "    </tr>\n",
       "  </tbody>\n",
       "</table>\n",
       "</div>"
      ],
      "text/plain": [
       "             Fare\n",
       "PassengerId  0.01\n",
       "Survived     0.26\n",
       "Pclass      -0.55\n",
       "Age          0.10\n",
       "SibSp        0.16\n",
       "Parch        0.22\n",
       "Fare         1.00\n",
       "is_female    0.18\n",
       "is_male     -0.18\n",
       "embarked_C   0.27\n",
       "embarked_Q  -0.12\n",
       "embarked_S  -0.17"
      ]
     },
     "metadata": {},
     "output_type": "display_data"
    },
    {
     "data": {
      "text/html": [
       "<div>\n",
       "<table border=\"1\" class=\"dataframe\">\n",
       "  <thead>\n",
       "    <tr style=\"text-align: right;\">\n",
       "      <th></th>\n",
       "      <th></th>\n",
       "      <th>Fare</th>\n",
       "    </tr>\n",
       "    <tr>\n",
       "      <th>Pclass</th>\n",
       "      <th></th>\n",
       "      <th></th>\n",
       "    </tr>\n",
       "  </thead>\n",
       "  <tbody>\n",
       "    <tr>\n",
       "      <th rowspan=\"8\" valign=\"top\">1</th>\n",
       "      <th>count</th>\n",
       "      <td>216.00</td>\n",
       "    </tr>\n",
       "    <tr>\n",
       "      <th>mean</th>\n",
       "      <td>84.15</td>\n",
       "    </tr>\n",
       "    <tr>\n",
       "      <th>std</th>\n",
       "      <td>78.38</td>\n",
       "    </tr>\n",
       "    <tr>\n",
       "      <th>min</th>\n",
       "      <td>0.00</td>\n",
       "    </tr>\n",
       "    <tr>\n",
       "      <th>25%</th>\n",
       "      <td>30.92</td>\n",
       "    </tr>\n",
       "    <tr>\n",
       "      <th>50%</th>\n",
       "      <td>60.29</td>\n",
       "    </tr>\n",
       "    <tr>\n",
       "      <th>75%</th>\n",
       "      <td>93.50</td>\n",
       "    </tr>\n",
       "    <tr>\n",
       "      <th>max</th>\n",
       "      <td>512.33</td>\n",
       "    </tr>\n",
       "    <tr>\n",
       "      <th rowspan=\"8\" valign=\"top\">2</th>\n",
       "      <th>count</th>\n",
       "      <td>184.00</td>\n",
       "    </tr>\n",
       "    <tr>\n",
       "      <th>mean</th>\n",
       "      <td>20.66</td>\n",
       "    </tr>\n",
       "    <tr>\n",
       "      <th>std</th>\n",
       "      <td>13.42</td>\n",
       "    </tr>\n",
       "    <tr>\n",
       "      <th>min</th>\n",
       "      <td>0.00</td>\n",
       "    </tr>\n",
       "    <tr>\n",
       "      <th>25%</th>\n",
       "      <td>13.00</td>\n",
       "    </tr>\n",
       "    <tr>\n",
       "      <th>50%</th>\n",
       "      <td>14.25</td>\n",
       "    </tr>\n",
       "    <tr>\n",
       "      <th>75%</th>\n",
       "      <td>26.00</td>\n",
       "    </tr>\n",
       "    <tr>\n",
       "      <th>max</th>\n",
       "      <td>73.50</td>\n",
       "    </tr>\n",
       "    <tr>\n",
       "      <th rowspan=\"8\" valign=\"top\">3</th>\n",
       "      <th>count</th>\n",
       "      <td>491.00</td>\n",
       "    </tr>\n",
       "    <tr>\n",
       "      <th>mean</th>\n",
       "      <td>13.68</td>\n",
       "    </tr>\n",
       "    <tr>\n",
       "      <th>std</th>\n",
       "      <td>11.78</td>\n",
       "    </tr>\n",
       "    <tr>\n",
       "      <th>min</th>\n",
       "      <td>0.00</td>\n",
       "    </tr>\n",
       "    <tr>\n",
       "      <th>25%</th>\n",
       "      <td>7.75</td>\n",
       "    </tr>\n",
       "    <tr>\n",
       "      <th>50%</th>\n",
       "      <td>8.05</td>\n",
       "    </tr>\n",
       "    <tr>\n",
       "      <th>75%</th>\n",
       "      <td>15.50</td>\n",
       "    </tr>\n",
       "    <tr>\n",
       "      <th>max</th>\n",
       "      <td>69.55</td>\n",
       "    </tr>\n",
       "  </tbody>\n",
       "</table>\n",
       "</div>"
      ],
      "text/plain": [
       "                Fare\n",
       "Pclass              \n",
       "1      count  216.00\n",
       "       mean    84.15\n",
       "       std     78.38\n",
       "       min      0.00\n",
       "       25%     30.92\n",
       "       50%     60.29\n",
       "       75%     93.50\n",
       "       max    512.33\n",
       "2      count  184.00\n",
       "       mean    20.66\n",
       "       std     13.42\n",
       "       min      0.00\n",
       "       25%     13.00\n",
       "       50%     14.25\n",
       "       75%     26.00\n",
       "       max     73.50\n",
       "3      count  491.00\n",
       "       mean    13.68\n",
       "       std     11.78\n",
       "       min      0.00\n",
       "       25%      7.75\n",
       "       50%      8.05\n",
       "       75%     15.50\n",
       "       max     69.55"
      ]
     },
     "metadata": {},
     "output_type": "display_data"
    }
   ],
   "source": [
    "#Checking correlation of fare and the other variables. Focusing mainly on Pclass.\n",
    "display(round(titanic.corr(method='pearson')['Fare'],2).to_frame())\n",
    "\n",
    "display(round(titanic.groupby('Pclass')['Fare'].describe(),2).to_frame())"
   ]
  },
  {
   "cell_type": "markdown",
   "metadata": {},
   "source": [
    "Each ticket class had some passengers who paid zero fare for their tickets. I will take a closer look at these passengers."
   ]
  },
  {
   "cell_type": "code",
   "execution_count": 9,
   "metadata": {
    "collapsed": false,
    "scrolled": true
   },
   "outputs": [
    {
     "data": {
      "text/html": [
       "<div>\n",
       "<table border=\"1\" class=\"dataframe\">\n",
       "  <thead>\n",
       "    <tr style=\"text-align: right;\">\n",
       "      <th></th>\n",
       "      <th>PassengerId</th>\n",
       "      <th>Survived</th>\n",
       "      <th>Pclass</th>\n",
       "      <th>Name</th>\n",
       "      <th>Sex</th>\n",
       "      <th>Age</th>\n",
       "      <th>SibSp</th>\n",
       "      <th>Parch</th>\n",
       "      <th>Ticket</th>\n",
       "      <th>Fare</th>\n",
       "      <th>Cabin</th>\n",
       "      <th>Embarked</th>\n",
       "      <th>is_female</th>\n",
       "      <th>is_male</th>\n",
       "      <th>embarked_C</th>\n",
       "      <th>embarked_Q</th>\n",
       "      <th>embarked_S</th>\n",
       "    </tr>\n",
       "  </thead>\n",
       "  <tbody>\n",
       "    <tr>\n",
       "      <th>263</th>\n",
       "      <td>264</td>\n",
       "      <td>0</td>\n",
       "      <td>1</td>\n",
       "      <td>Harrison, Mr. William</td>\n",
       "      <td>male</td>\n",
       "      <td>40.0</td>\n",
       "      <td>0</td>\n",
       "      <td>0</td>\n",
       "      <td>112059</td>\n",
       "      <td>0.0</td>\n",
       "      <td>B94</td>\n",
       "      <td>S</td>\n",
       "      <td>0.0</td>\n",
       "      <td>1.0</td>\n",
       "      <td>0.0</td>\n",
       "      <td>0.0</td>\n",
       "      <td>1.0</td>\n",
       "    </tr>\n",
       "    <tr>\n",
       "      <th>633</th>\n",
       "      <td>634</td>\n",
       "      <td>0</td>\n",
       "      <td>1</td>\n",
       "      <td>Parr, Mr. William Henry Marsh</td>\n",
       "      <td>male</td>\n",
       "      <td>NaN</td>\n",
       "      <td>0</td>\n",
       "      <td>0</td>\n",
       "      <td>112052</td>\n",
       "      <td>0.0</td>\n",
       "      <td>NaN</td>\n",
       "      <td>S</td>\n",
       "      <td>0.0</td>\n",
       "      <td>1.0</td>\n",
       "      <td>0.0</td>\n",
       "      <td>0.0</td>\n",
       "      <td>1.0</td>\n",
       "    </tr>\n",
       "    <tr>\n",
       "      <th>806</th>\n",
       "      <td>807</td>\n",
       "      <td>0</td>\n",
       "      <td>1</td>\n",
       "      <td>Andrews, Mr. Thomas Jr</td>\n",
       "      <td>male</td>\n",
       "      <td>39.0</td>\n",
       "      <td>0</td>\n",
       "      <td>0</td>\n",
       "      <td>112050</td>\n",
       "      <td>0.0</td>\n",
       "      <td>A36</td>\n",
       "      <td>S</td>\n",
       "      <td>0.0</td>\n",
       "      <td>1.0</td>\n",
       "      <td>0.0</td>\n",
       "      <td>0.0</td>\n",
       "      <td>1.0</td>\n",
       "    </tr>\n",
       "    <tr>\n",
       "      <th>815</th>\n",
       "      <td>816</td>\n",
       "      <td>0</td>\n",
       "      <td>1</td>\n",
       "      <td>Fry, Mr. Richard</td>\n",
       "      <td>male</td>\n",
       "      <td>NaN</td>\n",
       "      <td>0</td>\n",
       "      <td>0</td>\n",
       "      <td>112058</td>\n",
       "      <td>0.0</td>\n",
       "      <td>B102</td>\n",
       "      <td>S</td>\n",
       "      <td>0.0</td>\n",
       "      <td>1.0</td>\n",
       "      <td>0.0</td>\n",
       "      <td>0.0</td>\n",
       "      <td>1.0</td>\n",
       "    </tr>\n",
       "    <tr>\n",
       "      <th>822</th>\n",
       "      <td>823</td>\n",
       "      <td>0</td>\n",
       "      <td>1</td>\n",
       "      <td>Reuchlin, Jonkheer. John George</td>\n",
       "      <td>male</td>\n",
       "      <td>38.0</td>\n",
       "      <td>0</td>\n",
       "      <td>0</td>\n",
       "      <td>19972</td>\n",
       "      <td>0.0</td>\n",
       "      <td>NaN</td>\n",
       "      <td>S</td>\n",
       "      <td>0.0</td>\n",
       "      <td>1.0</td>\n",
       "      <td>0.0</td>\n",
       "      <td>0.0</td>\n",
       "      <td>1.0</td>\n",
       "    </tr>\n",
       "    <tr>\n",
       "      <th>277</th>\n",
       "      <td>278</td>\n",
       "      <td>0</td>\n",
       "      <td>2</td>\n",
       "      <td>Parkes, Mr. Francis \"Frank\"</td>\n",
       "      <td>male</td>\n",
       "      <td>NaN</td>\n",
       "      <td>0</td>\n",
       "      <td>0</td>\n",
       "      <td>239853</td>\n",
       "      <td>0.0</td>\n",
       "      <td>NaN</td>\n",
       "      <td>S</td>\n",
       "      <td>0.0</td>\n",
       "      <td>1.0</td>\n",
       "      <td>0.0</td>\n",
       "      <td>0.0</td>\n",
       "      <td>1.0</td>\n",
       "    </tr>\n",
       "    <tr>\n",
       "      <th>413</th>\n",
       "      <td>414</td>\n",
       "      <td>0</td>\n",
       "      <td>2</td>\n",
       "      <td>Cunningham, Mr. Alfred Fleming</td>\n",
       "      <td>male</td>\n",
       "      <td>NaN</td>\n",
       "      <td>0</td>\n",
       "      <td>0</td>\n",
       "      <td>239853</td>\n",
       "      <td>0.0</td>\n",
       "      <td>NaN</td>\n",
       "      <td>S</td>\n",
       "      <td>0.0</td>\n",
       "      <td>1.0</td>\n",
       "      <td>0.0</td>\n",
       "      <td>0.0</td>\n",
       "      <td>1.0</td>\n",
       "    </tr>\n",
       "    <tr>\n",
       "      <th>466</th>\n",
       "      <td>467</td>\n",
       "      <td>0</td>\n",
       "      <td>2</td>\n",
       "      <td>Campbell, Mr. William</td>\n",
       "      <td>male</td>\n",
       "      <td>NaN</td>\n",
       "      <td>0</td>\n",
       "      <td>0</td>\n",
       "      <td>239853</td>\n",
       "      <td>0.0</td>\n",
       "      <td>NaN</td>\n",
       "      <td>S</td>\n",
       "      <td>0.0</td>\n",
       "      <td>1.0</td>\n",
       "      <td>0.0</td>\n",
       "      <td>0.0</td>\n",
       "      <td>1.0</td>\n",
       "    </tr>\n",
       "    <tr>\n",
       "      <th>481</th>\n",
       "      <td>482</td>\n",
       "      <td>0</td>\n",
       "      <td>2</td>\n",
       "      <td>Frost, Mr. Anthony Wood \"Archie\"</td>\n",
       "      <td>male</td>\n",
       "      <td>NaN</td>\n",
       "      <td>0</td>\n",
       "      <td>0</td>\n",
       "      <td>239854</td>\n",
       "      <td>0.0</td>\n",
       "      <td>NaN</td>\n",
       "      <td>S</td>\n",
       "      <td>0.0</td>\n",
       "      <td>1.0</td>\n",
       "      <td>0.0</td>\n",
       "      <td>0.0</td>\n",
       "      <td>1.0</td>\n",
       "    </tr>\n",
       "    <tr>\n",
       "      <th>674</th>\n",
       "      <td>675</td>\n",
       "      <td>0</td>\n",
       "      <td>2</td>\n",
       "      <td>Watson, Mr. Ennis Hastings</td>\n",
       "      <td>male</td>\n",
       "      <td>NaN</td>\n",
       "      <td>0</td>\n",
       "      <td>0</td>\n",
       "      <td>239856</td>\n",
       "      <td>0.0</td>\n",
       "      <td>NaN</td>\n",
       "      <td>S</td>\n",
       "      <td>0.0</td>\n",
       "      <td>1.0</td>\n",
       "      <td>0.0</td>\n",
       "      <td>0.0</td>\n",
       "      <td>1.0</td>\n",
       "    </tr>\n",
       "    <tr>\n",
       "      <th>732</th>\n",
       "      <td>733</td>\n",
       "      <td>0</td>\n",
       "      <td>2</td>\n",
       "      <td>Knight, Mr. Robert J</td>\n",
       "      <td>male</td>\n",
       "      <td>NaN</td>\n",
       "      <td>0</td>\n",
       "      <td>0</td>\n",
       "      <td>239855</td>\n",
       "      <td>0.0</td>\n",
       "      <td>NaN</td>\n",
       "      <td>S</td>\n",
       "      <td>0.0</td>\n",
       "      <td>1.0</td>\n",
       "      <td>0.0</td>\n",
       "      <td>0.0</td>\n",
       "      <td>1.0</td>\n",
       "    </tr>\n",
       "    <tr>\n",
       "      <th>179</th>\n",
       "      <td>180</td>\n",
       "      <td>0</td>\n",
       "      <td>3</td>\n",
       "      <td>Leonard, Mr. Lionel</td>\n",
       "      <td>male</td>\n",
       "      <td>36.0</td>\n",
       "      <td>0</td>\n",
       "      <td>0</td>\n",
       "      <td>LINE</td>\n",
       "      <td>0.0</td>\n",
       "      <td>NaN</td>\n",
       "      <td>S</td>\n",
       "      <td>0.0</td>\n",
       "      <td>1.0</td>\n",
       "      <td>0.0</td>\n",
       "      <td>0.0</td>\n",
       "      <td>1.0</td>\n",
       "    </tr>\n",
       "    <tr>\n",
       "      <th>271</th>\n",
       "      <td>272</td>\n",
       "      <td>1</td>\n",
       "      <td>3</td>\n",
       "      <td>Tornquist, Mr. William Henry</td>\n",
       "      <td>male</td>\n",
       "      <td>25.0</td>\n",
       "      <td>0</td>\n",
       "      <td>0</td>\n",
       "      <td>LINE</td>\n",
       "      <td>0.0</td>\n",
       "      <td>NaN</td>\n",
       "      <td>S</td>\n",
       "      <td>0.0</td>\n",
       "      <td>1.0</td>\n",
       "      <td>0.0</td>\n",
       "      <td>0.0</td>\n",
       "      <td>1.0</td>\n",
       "    </tr>\n",
       "    <tr>\n",
       "      <th>302</th>\n",
       "      <td>303</td>\n",
       "      <td>0</td>\n",
       "      <td>3</td>\n",
       "      <td>Johnson, Mr. William Cahoone Jr</td>\n",
       "      <td>male</td>\n",
       "      <td>19.0</td>\n",
       "      <td>0</td>\n",
       "      <td>0</td>\n",
       "      <td>LINE</td>\n",
       "      <td>0.0</td>\n",
       "      <td>NaN</td>\n",
       "      <td>S</td>\n",
       "      <td>0.0</td>\n",
       "      <td>1.0</td>\n",
       "      <td>0.0</td>\n",
       "      <td>0.0</td>\n",
       "      <td>1.0</td>\n",
       "    </tr>\n",
       "    <tr>\n",
       "      <th>597</th>\n",
       "      <td>598</td>\n",
       "      <td>0</td>\n",
       "      <td>3</td>\n",
       "      <td>Johnson, Mr. Alfred</td>\n",
       "      <td>male</td>\n",
       "      <td>49.0</td>\n",
       "      <td>0</td>\n",
       "      <td>0</td>\n",
       "      <td>LINE</td>\n",
       "      <td>0.0</td>\n",
       "      <td>NaN</td>\n",
       "      <td>S</td>\n",
       "      <td>0.0</td>\n",
       "      <td>1.0</td>\n",
       "      <td>0.0</td>\n",
       "      <td>0.0</td>\n",
       "      <td>1.0</td>\n",
       "    </tr>\n",
       "  </tbody>\n",
       "</table>\n",
       "</div>"
      ],
      "text/plain": [
       "     PassengerId  Survived  Pclass                              Name   Sex  \\\n",
       "263          264         0       1             Harrison, Mr. William  male   \n",
       "633          634         0       1     Parr, Mr. William Henry Marsh  male   \n",
       "806          807         0       1            Andrews, Mr. Thomas Jr  male   \n",
       "815          816         0       1                  Fry, Mr. Richard  male   \n",
       "822          823         0       1   Reuchlin, Jonkheer. John George  male   \n",
       "277          278         0       2       Parkes, Mr. Francis \"Frank\"  male   \n",
       "413          414         0       2    Cunningham, Mr. Alfred Fleming  male   \n",
       "466          467         0       2             Campbell, Mr. William  male   \n",
       "481          482         0       2  Frost, Mr. Anthony Wood \"Archie\"  male   \n",
       "674          675         0       2        Watson, Mr. Ennis Hastings  male   \n",
       "732          733         0       2              Knight, Mr. Robert J  male   \n",
       "179          180         0       3               Leonard, Mr. Lionel  male   \n",
       "271          272         1       3      Tornquist, Mr. William Henry  male   \n",
       "302          303         0       3   Johnson, Mr. William Cahoone Jr  male   \n",
       "597          598         0       3               Johnson, Mr. Alfred  male   \n",
       "\n",
       "      Age  SibSp  Parch  Ticket  Fare Cabin Embarked  is_female  is_male  \\\n",
       "263  40.0      0      0  112059   0.0   B94        S        0.0      1.0   \n",
       "633   NaN      0      0  112052   0.0   NaN        S        0.0      1.0   \n",
       "806  39.0      0      0  112050   0.0   A36        S        0.0      1.0   \n",
       "815   NaN      0      0  112058   0.0  B102        S        0.0      1.0   \n",
       "822  38.0      0      0   19972   0.0   NaN        S        0.0      1.0   \n",
       "277   NaN      0      0  239853   0.0   NaN        S        0.0      1.0   \n",
       "413   NaN      0      0  239853   0.0   NaN        S        0.0      1.0   \n",
       "466   NaN      0      0  239853   0.0   NaN        S        0.0      1.0   \n",
       "481   NaN      0      0  239854   0.0   NaN        S        0.0      1.0   \n",
       "674   NaN      0      0  239856   0.0   NaN        S        0.0      1.0   \n",
       "732   NaN      0      0  239855   0.0   NaN        S        0.0      1.0   \n",
       "179  36.0      0      0    LINE   0.0   NaN        S        0.0      1.0   \n",
       "271  25.0      0      0    LINE   0.0   NaN        S        0.0      1.0   \n",
       "302  19.0      0      0    LINE   0.0   NaN        S        0.0      1.0   \n",
       "597  49.0      0      0    LINE   0.0   NaN        S        0.0      1.0   \n",
       "\n",
       "     embarked_C  embarked_Q  embarked_S  \n",
       "263         0.0         0.0         1.0  \n",
       "633         0.0         0.0         1.0  \n",
       "806         0.0         0.0         1.0  \n",
       "815         0.0         0.0         1.0  \n",
       "822         0.0         0.0         1.0  \n",
       "277         0.0         0.0         1.0  \n",
       "413         0.0         0.0         1.0  \n",
       "466         0.0         0.0         1.0  \n",
       "481         0.0         0.0         1.0  \n",
       "674         0.0         0.0         1.0  \n",
       "732         0.0         0.0         1.0  \n",
       "179         0.0         0.0         1.0  \n",
       "271         0.0         0.0         1.0  \n",
       "302         0.0         0.0         1.0  \n",
       "597         0.0         0.0         1.0  "
      ]
     },
     "metadata": {},
     "output_type": "display_data"
    },
    {
     "name": "stdout",
     "output_type": "stream",
     "text": [
      "1st class passenger with 0 ticket price: 5\n",
      "2nd class passenger with 0 ticket price: 6\n",
      "3rd class passenger with 0 ticket price: 4\n"
     ]
    }
   ],
   "source": [
    "#Looking further at the passengers who did not pay for their tickets (ticket price 0)\n",
    "\n",
    "zero_fare = (titanic[titanic['Fare'] == 0].sort_values('Pclass'))\n",
    "\n",
    "display(zero_fare)\n",
    "\n",
    "print(\"1st class passenger with 0 ticket price:\",zero_fare[zero_fare['Pclass'] == 1]['Pclass'].count())\n",
    "print(\"2nd class passenger with 0 ticket price:\",zero_fare[zero_fare['Pclass'] == 2]['Pclass'].count())\n",
    "print(\"3rd class passenger with 0 ticket price:\",zero_fare[zero_fare['Pclass'] == 3]['Pclass'].count())"
   ]
  },
  {
   "cell_type": "markdown",
   "metadata": {},
   "source": [
    "There were relatively few passengers in each class who paid 0 fare for their tickets, but it's still worth excluding these records and take a look at correlation again."
   ]
  },
  {
   "cell_type": "code",
   "execution_count": 10,
   "metadata": {
    "collapsed": false
   },
   "outputs": [
    {
     "data": {
      "text/html": [
       "<div>\n",
       "<table border=\"1\" class=\"dataframe\">\n",
       "  <thead>\n",
       "    <tr style=\"text-align: right;\">\n",
       "      <th></th>\n",
       "      <th>Fare</th>\n",
       "    </tr>\n",
       "  </thead>\n",
       "  <tbody>\n",
       "    <tr>\n",
       "      <th>PassengerId</th>\n",
       "      <td>0.02</td>\n",
       "    </tr>\n",
       "    <tr>\n",
       "      <th>Survived</th>\n",
       "      <td>0.25</td>\n",
       "    </tr>\n",
       "    <tr>\n",
       "      <th>Pclass</th>\n",
       "      <td>-0.56</td>\n",
       "    </tr>\n",
       "    <tr>\n",
       "      <th>Age</th>\n",
       "      <td>0.10</td>\n",
       "    </tr>\n",
       "    <tr>\n",
       "      <th>SibSp</th>\n",
       "      <td>0.16</td>\n",
       "    </tr>\n",
       "    <tr>\n",
       "      <th>Parch</th>\n",
       "      <td>0.21</td>\n",
       "    </tr>\n",
       "    <tr>\n",
       "      <th>Fare</th>\n",
       "      <td>1.00</td>\n",
       "    </tr>\n",
       "    <tr>\n",
       "      <th>is_female</th>\n",
       "      <td>0.18</td>\n",
       "    </tr>\n",
       "    <tr>\n",
       "      <th>is_male</th>\n",
       "      <td>-0.18</td>\n",
       "    </tr>\n",
       "    <tr>\n",
       "      <th>embarked_C</th>\n",
       "      <td>0.27</td>\n",
       "    </tr>\n",
       "    <tr>\n",
       "      <th>embarked_Q</th>\n",
       "      <td>-0.12</td>\n",
       "    </tr>\n",
       "    <tr>\n",
       "      <th>embarked_S</th>\n",
       "      <td>-0.16</td>\n",
       "    </tr>\n",
       "  </tbody>\n",
       "</table>\n",
       "</div>"
      ],
      "text/plain": [
       "             Fare\n",
       "PassengerId  0.02\n",
       "Survived     0.25\n",
       "Pclass      -0.56\n",
       "Age          0.10\n",
       "SibSp        0.16\n",
       "Parch        0.21\n",
       "Fare         1.00\n",
       "is_female    0.18\n",
       "is_male     -0.18\n",
       "embarked_C   0.27\n",
       "embarked_Q  -0.12\n",
       "embarked_S  -0.16"
      ]
     },
     "metadata": {},
     "output_type": "display_data"
    }
   ],
   "source": [
    "#Checking for corelation again, excluding passenger who did not pay for their tickets.\n",
    "\n",
    "display(round((titanic[titanic['Fare'] > 0].corr(method='pearson')['Fare']),2).to_frame())"
   ]
  },
  {
   "cell_type": "markdown",
   "metadata": {},
   "source": [
    "Since the correlation between ticket class and ticket price is very high, I will consider ticket class alone as sufficent for analyzing the impact of social class on survival rate."
   ]
  },
  {
   "cell_type": "markdown",
   "metadata": {},
   "source": [
    "### Sex and ticket class"
   ]
  },
  {
   "cell_type": "code",
   "execution_count": 11,
   "metadata": {
    "collapsed": false
   },
   "outputs": [
    {
     "data": {
      "text/html": [
       "<div>\n",
       "<table border=\"1\" class=\"dataframe\">\n",
       "  <thead>\n",
       "    <tr style=\"text-align: right;\">\n",
       "      <th></th>\n",
       "      <th></th>\n",
       "      <th>Passengers</th>\n",
       "      <th>Survived</th>\n",
       "      <th>percent_survived</th>\n",
       "    </tr>\n",
       "    <tr>\n",
       "      <th>Pclass</th>\n",
       "      <th>Sex</th>\n",
       "      <th></th>\n",
       "      <th></th>\n",
       "      <th></th>\n",
       "    </tr>\n",
       "  </thead>\n",
       "  <tbody>\n",
       "    <tr>\n",
       "      <th rowspan=\"2\" valign=\"top\">1</th>\n",
       "      <th>female</th>\n",
       "      <td>94</td>\n",
       "      <td>91</td>\n",
       "      <td>96.81</td>\n",
       "    </tr>\n",
       "    <tr>\n",
       "      <th>male</th>\n",
       "      <td>122</td>\n",
       "      <td>45</td>\n",
       "      <td>36.89</td>\n",
       "    </tr>\n",
       "    <tr>\n",
       "      <th rowspan=\"2\" valign=\"top\">2</th>\n",
       "      <th>female</th>\n",
       "      <td>76</td>\n",
       "      <td>70</td>\n",
       "      <td>92.11</td>\n",
       "    </tr>\n",
       "    <tr>\n",
       "      <th>male</th>\n",
       "      <td>108</td>\n",
       "      <td>17</td>\n",
       "      <td>15.74</td>\n",
       "    </tr>\n",
       "    <tr>\n",
       "      <th rowspan=\"2\" valign=\"top\">3</th>\n",
       "      <th>female</th>\n",
       "      <td>144</td>\n",
       "      <td>72</td>\n",
       "      <td>50.00</td>\n",
       "    </tr>\n",
       "    <tr>\n",
       "      <th>male</th>\n",
       "      <td>347</td>\n",
       "      <td>47</td>\n",
       "      <td>13.54</td>\n",
       "    </tr>\n",
       "  </tbody>\n",
       "</table>\n",
       "</div>"
      ],
      "text/plain": [
       "               Passengers  Survived  percent_survived\n",
       "Pclass Sex                                           \n",
       "1      female          94        91             96.81\n",
       "       male           122        45             36.89\n",
       "2      female          76        70             92.11\n",
       "       male           108        17             15.74\n",
       "3      female         144        72             50.00\n",
       "       male           347        47             13.54"
      ]
     },
     "metadata": {},
     "output_type": "display_data"
    },
    {
     "data": {
      "text/html": [
       "<div>\n",
       "<table border=\"1\" class=\"dataframe\">\n",
       "  <thead>\n",
       "    <tr style=\"text-align: right;\">\n",
       "      <th></th>\n",
       "      <th>Passengers</th>\n",
       "      <th>Survived</th>\n",
       "      <th>percent_survived</th>\n",
       "    </tr>\n",
       "    <tr>\n",
       "      <th>Sex</th>\n",
       "      <th></th>\n",
       "      <th></th>\n",
       "      <th></th>\n",
       "    </tr>\n",
       "  </thead>\n",
       "  <tbody>\n",
       "    <tr>\n",
       "      <th>female</th>\n",
       "      <td>314</td>\n",
       "      <td>233</td>\n",
       "      <td>74.20</td>\n",
       "    </tr>\n",
       "    <tr>\n",
       "      <th>male</th>\n",
       "      <td>577</td>\n",
       "      <td>109</td>\n",
       "      <td>18.89</td>\n",
       "    </tr>\n",
       "  </tbody>\n",
       "</table>\n",
       "</div>"
      ],
      "text/plain": [
       "        Passengers  Survived  percent_survived\n",
       "Sex                                           \n",
       "female         314       233             74.20\n",
       "male           577       109             18.89"
      ]
     },
     "metadata": {},
     "output_type": "display_data"
    }
   ],
   "source": [
    "#counting survivors by ticket class and sex\n",
    "gb_survival_class_sex = titanic.groupby(['Pclass','Sex'])['Survived'].agg({'Passengers':'count','Survived':'sum'})\n",
    "#calculating percentage of survivors\n",
    "gb_survival_class_sex['percent_survived'] = round(\n",
    "    (gb_survival_class_sex['Survived'] / gb_survival_class_sex['Passengers']) * 100,2\n",
    ")\n",
    "\n",
    "#counting survivors by sex\n",
    "gb_survival_by_sex = titanic.groupby(['Sex'])['Survived'].agg({'Passengers':'count','Survived':'sum'})\n",
    "#calculating percentage of survivors\n",
    "gb_survival_by_sex['percent_survived'] = round(\n",
    "    (gb_survival_by_sex['Survived'].div(gb_survival_by_sex['Passengers'],level='Sex')) * 100,2)\n",
    "\n",
    "display(gb_survival_class_sex)\n",
    "display(gb_survival_by_sex)"
   ]
  },
  {
   "cell_type": "markdown",
   "metadata": {},
   "source": [
    "We see here why the correlation between survival and sex is so high: 74.2% of females survived, but only 18.9% of males survived."
   ]
  },
  {
   "cell_type": "code",
   "execution_count": 12,
   "metadata": {
    "collapsed": false
   },
   "outputs": [
    {
     "data": {
      "text/html": [
       "<div>\n",
       "<table border=\"1\" class=\"dataframe\">\n",
       "  <thead>\n",
       "    <tr style=\"text-align: right;\">\n",
       "      <th></th>\n",
       "      <th></th>\n",
       "      <th>Passengers</th>\n",
       "      <th>Survived</th>\n",
       "      <th>percent_survived</th>\n",
       "      <th>Died</th>\n",
       "    </tr>\n",
       "    <tr>\n",
       "      <th>Pclass</th>\n",
       "      <th>Sex</th>\n",
       "      <th></th>\n",
       "      <th></th>\n",
       "      <th></th>\n",
       "      <th></th>\n",
       "    </tr>\n",
       "  </thead>\n",
       "  <tbody>\n",
       "    <tr>\n",
       "      <th rowspan=\"2\" valign=\"top\">1</th>\n",
       "      <th>female</th>\n",
       "      <td>94</td>\n",
       "      <td>91</td>\n",
       "      <td>96.81</td>\n",
       "      <td>3</td>\n",
       "    </tr>\n",
       "    <tr>\n",
       "      <th>male</th>\n",
       "      <td>122</td>\n",
       "      <td>45</td>\n",
       "      <td>36.89</td>\n",
       "      <td>77</td>\n",
       "    </tr>\n",
       "    <tr>\n",
       "      <th rowspan=\"2\" valign=\"top\">2</th>\n",
       "      <th>female</th>\n",
       "      <td>76</td>\n",
       "      <td>70</td>\n",
       "      <td>92.11</td>\n",
       "      <td>6</td>\n",
       "    </tr>\n",
       "    <tr>\n",
       "      <th>male</th>\n",
       "      <td>108</td>\n",
       "      <td>17</td>\n",
       "      <td>15.74</td>\n",
       "      <td>91</td>\n",
       "    </tr>\n",
       "    <tr>\n",
       "      <th rowspan=\"2\" valign=\"top\">3</th>\n",
       "      <th>female</th>\n",
       "      <td>144</td>\n",
       "      <td>72</td>\n",
       "      <td>50.00</td>\n",
       "      <td>72</td>\n",
       "    </tr>\n",
       "    <tr>\n",
       "      <th>male</th>\n",
       "      <td>347</td>\n",
       "      <td>47</td>\n",
       "      <td>13.54</td>\n",
       "      <td>300</td>\n",
       "    </tr>\n",
       "  </tbody>\n",
       "</table>\n",
       "</div>"
      ],
      "text/plain": [
       "               Passengers  Survived  percent_survived  Died\n",
       "Pclass Sex                                                 \n",
       "1      female          94        91             96.81     3\n",
       "       male           122        45             36.89    77\n",
       "2      female          76        70             92.11     6\n",
       "       male           108        17             15.74    91\n",
       "3      female         144        72             50.00    72\n",
       "       male           347        47             13.54   300"
      ]
     },
     "metadata": {},
     "output_type": "display_data"
    },
    {
     "data": {
      "image/png": "[encoded data removed]",
      "text/plain": [
       "<matplotlib.figure.Figure at 0x11c19b208>"
      ]
     },
     "metadata": {},
     "output_type": "display_data"
    }
   ],
   "source": [
    "gb_survival_class_sex['Died'] = gb_survival_class_sex['Passengers'] - gb_survival_class_sex['Survived']\n",
    "\n",
    "display(gb_survival_class_sex)\n",
    "\n",
    "fig,axes=plt.subplots(nrows=2,ncols=1,figsize=(10,10))\n",
    "\n",
    "plt.title(\"Number of survivors per ticket class and sex\")\n",
    "\n",
    "gbplot1 = gb_survival_class_sex[['Died','Survived']].plot(\n",
    "    kind='barh',ax=axes[0],color=['r','g'])\n",
    "\n",
    "gbplot1.set_xlabel(\"Passengers\",fontweight='bold')\n",
    "gbplot1.set_ylabel(\"\")\n",
    "gbplot1.set_title(\"Number of survivors per ticket class and sex\",\n",
    "                  fontsize='x-large',fontweight='bold')\n",
    "\n",
    "gbplot2 = gb_survival_class_sex['percent_survived'].plot(kind='barh',ax=axes[1])\n",
    "\n",
    "gbplot2.set_xlabel(\"Survival percentage\",fontweight='bold')\n",
    "gbplot2.set_ylabel(\"\")\n",
    "gbplot2.set_title(\"Percent survivors per ticket class and sex\",\n",
    "                 fontsize='x-large',fontweight='bold')\n",
    "\n",
    "plt.tight_layout(pad=0.4, w_pad=0.5, h_pad=2.0)\n"
   ]
  },
  {
   "cell_type": "markdown",
   "metadata": {},
   "source": [
    "The plots above highlight how much class determined one's likelihood of survival on the Titanic. We see that while the large majority of females in 2nd class and 1st class survived, only half of the females in 3rd class survived. It's interesting to observe that this group of passengers still had a higher survival rate than any of the male groups, where the highest survival rates were found in the first class passenger group. Only a little over a third of the male first class passengers survived."
   ]
  },
  {
   "cell_type": "code",
   "execution_count": 13,
   "metadata": {
    "collapsed": false
   },
   "outputs": [
    {
     "name": "stdout",
     "output_type": "stream",
     "text": [
      "Testing statistical significance of male and female survival rate\n",
      "t-test    t: 19.3   p: 1.4060661308802594e-69\n"
     ]
    }
   ],
   "source": [
    "#T-test to test for statistical significance of difference between male and female survival rate\n",
    "t,p = stats.ttest_ind(\n",
    "    titanic[titanic['is_female'] == 1]['Survived'],\n",
    "    titanic[titanic['is_male'] == 1]['Survived'])\n",
    "\n",
    "print(\"Testing statistical significance of male and female survival rate\")\n",
    "print((\"t-test    t: {0}   p: {1}\").format(round(t,2),p))"
   ]
  },
  {
   "cell_type": "code",
   "execution_count": 54,
   "metadata": {
    "collapsed": false
   },
   "outputs": [
    {
     "name": "stdout",
     "output_type": "stream",
     "text": [
      "Testing statistical signficance of differences in survival rate per ticket class.\n",
      "One-way Anova test:    F-statistic: 57.96   p: 2.1832474151179777e-24\n"
     ]
    }
   ],
   "source": [
    "first_class_survived = titanic[titanic['Pclass'] == 1]['Survived']\n",
    "second_class_survived = titanic[titanic['Pclass'] == 2]['Survived']\n",
    "third_class_survived = titanic[titanic['Pclass'] == 3]['Survived']\n",
    "\n",
    "f,p = stats.f_oneway(first_class_survived,second_class_survived,third_class_survived)\n",
    "\n",
    "print(\"Testing statistical signficance of differences in survival rate per ticket class.\")\n",
    "print((\"One-way Anova test:    F-statistic: {0}   p: {1}\").format(round(f,2),p))"
   ]
  },
  {
   "cell_type": "markdown",
   "metadata": {},
   "source": [
    "### Embarked"
   ]
  },
  {
   "cell_type": "code",
   "execution_count": 17,
   "metadata": {
    "collapsed": false
   },
   "outputs": [
    {
     "data": {
      "text/html": [
       "<div>\n",
       "<table border=\"1\" class=\"dataframe\">\n",
       "  <thead>\n",
       "    <tr style=\"text-align: right;\">\n",
       "      <th></th>\n",
       "      <th>Survived</th>\n",
       "    </tr>\n",
       "  </thead>\n",
       "  <tbody>\n",
       "    <tr>\n",
       "      <th>Survived</th>\n",
       "      <td>1.00000</td>\n",
       "    </tr>\n",
       "    <tr>\n",
       "      <th>embarked_C</th>\n",
       "      <td>0.16824</td>\n",
       "    </tr>\n",
       "    <tr>\n",
       "      <th>embarked_Q</th>\n",
       "      <td>0.00365</td>\n",
       "    </tr>\n",
       "    <tr>\n",
       "      <th>embarked_S</th>\n",
       "      <td>-0.15566</td>\n",
       "    </tr>\n",
       "  </tbody>\n",
       "</table>\n",
       "</div>"
      ],
      "text/plain": [
       "            Survived\n",
       "Survived     1.00000\n",
       "embarked_C   0.16824\n",
       "embarked_Q   0.00365\n",
       "embarked_S  -0.15566"
      ]
     },
     "execution_count": 17,
     "metadata": {},
     "output_type": "execute_result"
    }
   ],
   "source": [
    "#Survival correlation for ports of departure\n",
    "titanic[['Survived','embarked_C','embarked_Q','embarked_S']].corr()['Survived'].to_frame()"
   ]
  },
  {
   "cell_type": "markdown",
   "metadata": {},
   "source": [
    "Pearson correlation coefficients for 'Survival' indicates different survival rates depending upon which port the passenger embarked from on their journey on the Titanic. It will be interesting to see if we can figure out what caused this."
   ]
  },
  {
   "cell_type": "code",
   "execution_count": 18,
   "metadata": {
    "collapsed": false
   },
   "outputs": [
    {
     "data": {
      "text/html": [
       "<div>\n",
       "<table border=\"1\" class=\"dataframe\">\n",
       "  <thead>\n",
       "    <tr style=\"text-align: right;\">\n",
       "      <th>Survived</th>\n",
       "      <th>0</th>\n",
       "      <th>1</th>\n",
       "      <th>All</th>\n",
       "      <th>percent_survived</th>\n",
       "    </tr>\n",
       "    <tr>\n",
       "      <th>Embarked</th>\n",
       "      <th></th>\n",
       "      <th></th>\n",
       "      <th></th>\n",
       "      <th></th>\n",
       "    </tr>\n",
       "  </thead>\n",
       "  <tbody>\n",
       "    <tr>\n",
       "      <th>C</th>\n",
       "      <td>75</td>\n",
       "      <td>93</td>\n",
       "      <td>168</td>\n",
       "      <td>55.36</td>\n",
       "    </tr>\n",
       "    <tr>\n",
       "      <th>Q</th>\n",
       "      <td>47</td>\n",
       "      <td>30</td>\n",
       "      <td>77</td>\n",
       "      <td>38.96</td>\n",
       "    </tr>\n",
       "    <tr>\n",
       "      <th>S</th>\n",
       "      <td>427</td>\n",
       "      <td>217</td>\n",
       "      <td>644</td>\n",
       "      <td>33.70</td>\n",
       "    </tr>\n",
       "    <tr>\n",
       "      <th>All</th>\n",
       "      <td>549</td>\n",
       "      <td>340</td>\n",
       "      <td>889</td>\n",
       "      <td>38.25</td>\n",
       "    </tr>\n",
       "  </tbody>\n",
       "</table>\n",
       "</div>"
      ],
      "text/plain": [
       "Survived    0    1  All  percent_survived\n",
       "Embarked                                 \n",
       "C          75   93  168             55.36\n",
       "Q          47   30   77             38.96\n",
       "S         427  217  644             33.70\n",
       "All       549  340  889             38.25"
      ]
     },
     "metadata": {},
     "output_type": "display_data"
    },
    {
     "data": {
      "text/plain": [
       "<matplotlib.text.Text at 0x119a5e908>"
      ]
     },
     "execution_count": 18,
     "metadata": {},
     "output_type": "execute_result"
    },
    {
     "data": {
      "image/png": "[encoded data removed]",
      "text/plain": [
       "<matplotlib.figure.Figure at 0x119a3e6a0>"
      ]
     },
     "metadata": {},
     "output_type": "display_data"
    }
   ],
   "source": [
    "survival_by_embarked = pd.crosstab(titanic['Embarked'],titanic['Survived'],margins=True)\n",
    "survival_by_embarked['percent_survived'] = round((survival_by_embarked[1] / survival_by_embarked['All'])*100,2)\n",
    "\n",
    "display(survival_by_embarked)\n",
    "\n",
    "ax = survival_by_embarked.loc[['C','Q','S']]['percent_survived'].plot(kind='bar',color='g')\n",
    "\n",
    "#ax.set_xticklabels(['Cherbourg','Queenstown','Southampton'],rotation=0)\n",
    "\n",
    "ax.set_title('Survival % by port of departure',fontsize='x-large',fontweight='bold')\n",
    "ax.set_xticklabels(['Cherbourg','Queenstown','Southampton'],rotation='horizontal',fontsize='large')\n",
    "ax.set_xlabel('')"
   ]
  },
  {
   "cell_type": "markdown",
   "metadata": {},
   "source": [
    "We see here that passengers embarking from Cherbourg had drastically higher survival rates than passengers embarking from Queenstown or Southampton. Before I consider other factors, I want to find out if this difference is statistically significant."
   ]
  },
  {
   "cell_type": "code",
   "execution_count": 19,
   "metadata": {
    "collapsed": false
   },
   "outputs": [
    {
     "name": "stdout",
     "output_type": "stream",
     "text": [
      "F-statistic: 13.61    P: 1.514339014290716e-06\n"
     ]
    }
   ],
   "source": [
    "#One-way Anova test for statistical significance\n",
    "from scipy import stats\n",
    "\n",
    "embarked_cherbourg = titanic[titanic['Embarked'] == 'C']\n",
    "embarked_queenstown = titanic[titanic['Embarked'] == 'Q']\n",
    "embarked_southampton = titanic[titanic['Embarked'] == 'S']\n",
    "\n",
    "f,p = stats.f_oneway(\n",
    "    embarked_cherbourg['Survived'],embarked_queenstown['Survived'],embarked_southampton['Survived'])\n",
    "\n",
    "print(\"F-statistic: {0}    P: {1}\".format(round(f,2),p))"
   ]
  },
  {
   "cell_type": "markdown",
   "metadata": {},
   "source": [
    "According to the f statistic and p value returned from the anova test, the different survival rates between the ports of departure are very statistically significant. Next, I will take a closer look at 'Sex' as a potential factor impacting the higher survival rate for passengers embarking from Cherbourg. Perhaps the female ratio, which we know is a statistically significant factor for survival, is higher?"
   ]
  },
  {
   "cell_type": "code",
   "execution_count": 20,
   "metadata": {
    "collapsed": false
   },
   "outputs": [
    {
     "data": {
      "text/html": [
       "<div>\n",
       "<table border=\"1\" class=\"dataframe\">\n",
       "  <thead>\n",
       "    <tr style=\"text-align: right;\">\n",
       "      <th>Sex</th>\n",
       "      <th>female</th>\n",
       "      <th>male</th>\n",
       "      <th>All</th>\n",
       "      <th>percent_female</th>\n",
       "      <th>percent_male</th>\n",
       "    </tr>\n",
       "    <tr>\n",
       "      <th>Embarked</th>\n",
       "      <th></th>\n",
       "      <th></th>\n",
       "      <th></th>\n",
       "      <th></th>\n",
       "      <th></th>\n",
       "    </tr>\n",
       "  </thead>\n",
       "  <tbody>\n",
       "    <tr>\n",
       "      <th>C</th>\n",
       "      <td>73</td>\n",
       "      <td>95</td>\n",
       "      <td>168</td>\n",
       "      <td>43.45</td>\n",
       "      <td>56.55</td>\n",
       "    </tr>\n",
       "    <tr>\n",
       "      <th>Q</th>\n",
       "      <td>36</td>\n",
       "      <td>41</td>\n",
       "      <td>77</td>\n",
       "      <td>46.75</td>\n",
       "      <td>53.25</td>\n",
       "    </tr>\n",
       "    <tr>\n",
       "      <th>S</th>\n",
       "      <td>203</td>\n",
       "      <td>441</td>\n",
       "      <td>644</td>\n",
       "      <td>31.52</td>\n",
       "      <td>68.48</td>\n",
       "    </tr>\n",
       "    <tr>\n",
       "      <th>All</th>\n",
       "      <td>312</td>\n",
       "      <td>577</td>\n",
       "      <td>889</td>\n",
       "      <td>35.10</td>\n",
       "      <td>64.90</td>\n",
       "    </tr>\n",
       "  </tbody>\n",
       "</table>\n",
       "</div>"
      ],
      "text/plain": [
       "Sex       female  male  All  percent_female  percent_male\n",
       "Embarked                                                 \n",
       "C             73    95  168           43.45         56.55\n",
       "Q             36    41   77           46.75         53.25\n",
       "S            203   441  644           31.52         68.48\n",
       "All          312   577  889           35.10         64.90"
      ]
     },
     "execution_count": 20,
     "metadata": {},
     "output_type": "execute_result"
    }
   ],
   "source": [
    "#Looking at percentage of females and males embarking in the different cities\n",
    "sex_by_embarked = pd.crosstab(titanic['Embarked'],titanic['Sex'],margins=True)\n",
    "sex_by_embarked['percent_female'] = round((sex_by_embarked['female'] / sex_by_embarked['All']) * 100,2)\n",
    "sex_by_embarked['percent_male'] = round((sex_by_embarked['male'] / sex_by_embarked['All']) * 100,2)\n",
    "\n",
    "sex_by_embarked"
   ]
  },
  {
   "cell_type": "code",
   "execution_count": 21,
   "metadata": {
    "collapsed": false
   },
   "outputs": [
    {
     "name": "stdout",
     "output_type": "stream",
     "text": [
      "Testing statistical significance of female ratio differences between Cherbourg and Queenstown.\n",
      "t-test    t: -0.48   p: 0.6310202034628892\n"
     ]
    }
   ],
   "source": [
    "#T-test to for statistical significance of difference between ratio of Cherbourg and Southampton female passengers\n",
    "\n",
    "t,p = stats.ttest_ind(embarked_cherbourg['is_female'],embarked_queenstown['is_female'])\n",
    "\n",
    "print(\"Testing statistical significance of female ratio differences between Cherbourg and Queenstown.\")\n",
    "print((\"t-test    t: {0}   p: {1}\").format(round(t,2),p))"
   ]
  },
  {
   "cell_type": "markdown",
   "metadata": {},
   "source": [
    "Passengers embarking from Cherbourg had 12 percentage points more women than passengers embarking from Southampton. The difference between female percentage of Cherbourg and Queenstown passengers, however, was only 3.3 percentage points. This is not a statistically significant difference (p-value 0.63).\n",
    "\n",
    "Next I will take a look to see if the males and females of the different embarking groups had similar survival rates."
   ]
  },
  {
   "cell_type": "code",
   "execution_count": 76,
   "metadata": {
    "collapsed": false
   },
   "outputs": [
    {
     "data": {
      "text/html": [
       "<div>\n",
       "<table border=\"1\" class=\"dataframe\">\n",
       "  <thead>\n",
       "    <tr style=\"text-align: right;\">\n",
       "      <th></th>\n",
       "      <th></th>\n",
       "      <th>Passengers</th>\n",
       "      <th>Survived</th>\n",
       "      <th>percent_survived</th>\n",
       "    </tr>\n",
       "    <tr>\n",
       "      <th>Embarked</th>\n",
       "      <th>Sex</th>\n",
       "      <th></th>\n",
       "      <th></th>\n",
       "      <th></th>\n",
       "    </tr>\n",
       "  </thead>\n",
       "  <tbody>\n",
       "    <tr>\n",
       "      <th rowspan=\"2\" valign=\"top\">C</th>\n",
       "      <th>female</th>\n",
       "      <td>73</td>\n",
       "      <td>64</td>\n",
       "      <td>87.67</td>\n",
       "    </tr>\n",
       "    <tr>\n",
       "      <th>male</th>\n",
       "      <td>95</td>\n",
       "      <td>29</td>\n",
       "      <td>30.53</td>\n",
       "    </tr>\n",
       "    <tr>\n",
       "      <th rowspan=\"2\" valign=\"top\">Q</th>\n",
       "      <th>female</th>\n",
       "      <td>36</td>\n",
       "      <td>27</td>\n",
       "      <td>75.00</td>\n",
       "    </tr>\n",
       "    <tr>\n",
       "      <th>male</th>\n",
       "      <td>41</td>\n",
       "      <td>3</td>\n",
       "      <td>7.32</td>\n",
       "    </tr>\n",
       "    <tr>\n",
       "      <th rowspan=\"2\" valign=\"top\">S</th>\n",
       "      <th>female</th>\n",
       "      <td>203</td>\n",
       "      <td>140</td>\n",
       "      <td>68.97</td>\n",
       "    </tr>\n",
       "    <tr>\n",
       "      <th>male</th>\n",
       "      <td>441</td>\n",
       "      <td>77</td>\n",
       "      <td>17.46</td>\n",
       "    </tr>\n",
       "  </tbody>\n",
       "</table>\n",
       "</div>"
      ],
      "text/plain": [
       "                 Passengers  Survived  percent_survived\n",
       "Embarked Sex                                           \n",
       "C        female          73        64             87.67\n",
       "         male            95        29             30.53\n",
       "Q        female          36        27             75.00\n",
       "         male            41         3              7.32\n",
       "S        female         203       140             68.97\n",
       "         male           441        77             17.46"
      ]
     },
     "metadata": {},
     "output_type": "display_data"
    },
    {
     "data": {
      "text/plain": [
       "<matplotlib.text.Text at 0x11da11e10>"
      ]
     },
     "execution_count": 76,
     "metadata": {},
     "output_type": "execute_result"
    },
    {
     "data": {
      "image/png": "[encoded data removed]",
      "text/plain": [
       "<matplotlib.figure.Figure at 0x11da0cbe0>"
      ]
     },
     "metadata": {},
     "output_type": "display_data"
    }
   ],
   "source": [
    "gb_survival_embarked_sex = titanic.groupby(\n",
    "    ['Embarked','Sex'])['Survived'].agg({'Passengers':'count','Survived':'sum'})\n",
    "#calculating percentage of survivors\n",
    "gb_survival_embarked_sex['percent_survived'] = round(\n",
    "    (gb_survival_embarked_sex['Survived'] / gb_survival_embarked_sex['Passengers']) * 100,2\n",
    ")\n",
    "\n",
    "\n",
    "\n",
    "display(gb_survival_embarked_sex)\n",
    "\n",
    "ax = gb_survival_embarked_sex.sort_index(level='Sex')['percent_survived'].plot(kind='bar',color='g')\n",
    "\n",
    "ax.set_title('Survival % by port of departure and sex',fontsize='x-large',fontweight='bold')\n"
   ]
  },
  {
   "cell_type": "markdown",
   "metadata": {},
   "source": [
    "Of the passengers embarking from Cherbourg, both males and females had a greater survival rate compared to males and females embarking from the other port cities. This suggests that the sex of the passengers was not the primary cause for the larger Cherbourg survival rate."
   ]
  },
  {
   "cell_type": "code",
   "execution_count": 23,
   "metadata": {
    "collapsed": false
   },
   "outputs": [
    {
     "data": {
      "text/html": [
       "<div>\n",
       "<table border=\"1\" class=\"dataframe\">\n",
       "  <thead>\n",
       "    <tr style=\"text-align: right;\">\n",
       "      <th></th>\n",
       "      <th>embarked_C</th>\n",
       "      <th>embarked_Q</th>\n",
       "      <th>embarked_S</th>\n",
       "    </tr>\n",
       "  </thead>\n",
       "  <tbody>\n",
       "    <tr>\n",
       "      <th>PassengerId</th>\n",
       "      <td>-0.001205</td>\n",
       "      <td>-0.033606</td>\n",
       "      <td>0.022148</td>\n",
       "    </tr>\n",
       "    <tr>\n",
       "      <th>Survived</th>\n",
       "      <td>0.168240</td>\n",
       "      <td>0.003650</td>\n",
       "      <td>-0.155660</td>\n",
       "    </tr>\n",
       "    <tr>\n",
       "      <th>Pclass</th>\n",
       "      <td>-0.243292</td>\n",
       "      <td>0.221009</td>\n",
       "      <td>0.081720</td>\n",
       "    </tr>\n",
       "    <tr>\n",
       "      <th>Age</th>\n",
       "      <td>0.036261</td>\n",
       "      <td>-0.022405</td>\n",
       "      <td>-0.032523</td>\n",
       "    </tr>\n",
       "    <tr>\n",
       "      <th>SibSp</th>\n",
       "      <td>-0.059528</td>\n",
       "      <td>-0.026354</td>\n",
       "      <td>0.070941</td>\n",
       "    </tr>\n",
       "    <tr>\n",
       "      <th>Parch</th>\n",
       "      <td>-0.011069</td>\n",
       "      <td>-0.081228</td>\n",
       "      <td>0.063036</td>\n",
       "    </tr>\n",
       "    <tr>\n",
       "      <th>Fare</th>\n",
       "      <td>0.269335</td>\n",
       "      <td>-0.117216</td>\n",
       "      <td>-0.166603</td>\n",
       "    </tr>\n",
       "    <tr>\n",
       "      <th>is_female</th>\n",
       "      <td>0.082853</td>\n",
       "      <td>0.074115</td>\n",
       "      <td>-0.125722</td>\n",
       "    </tr>\n",
       "    <tr>\n",
       "      <th>is_male</th>\n",
       "      <td>-0.082853</td>\n",
       "      <td>-0.074115</td>\n",
       "      <td>0.125722</td>\n",
       "    </tr>\n",
       "    <tr>\n",
       "      <th>embarked_C</th>\n",
       "      <td>1.000000</td>\n",
       "      <td>-0.148258</td>\n",
       "      <td>-0.778359</td>\n",
       "    </tr>\n",
       "    <tr>\n",
       "      <th>embarked_Q</th>\n",
       "      <td>-0.148258</td>\n",
       "      <td>1.000000</td>\n",
       "      <td>-0.496624</td>\n",
       "    </tr>\n",
       "    <tr>\n",
       "      <th>embarked_S</th>\n",
       "      <td>-0.778359</td>\n",
       "      <td>-0.496624</td>\n",
       "      <td>1.000000</td>\n",
       "    </tr>\n",
       "  </tbody>\n",
       "</table>\n",
       "</div>"
      ],
      "text/plain": [
       "             embarked_C  embarked_Q  embarked_S\n",
       "PassengerId   -0.001205   -0.033606    0.022148\n",
       "Survived       0.168240    0.003650   -0.155660\n",
       "Pclass        -0.243292    0.221009    0.081720\n",
       "Age            0.036261   -0.022405   -0.032523\n",
       "SibSp         -0.059528   -0.026354    0.070941\n",
       "Parch         -0.011069   -0.081228    0.063036\n",
       "Fare           0.269335   -0.117216   -0.166603\n",
       "is_female      0.082853    0.074115   -0.125722\n",
       "is_male       -0.082853   -0.074115    0.125722\n",
       "embarked_C     1.000000   -0.148258   -0.778359\n",
       "embarked_Q    -0.148258    1.000000   -0.496624\n",
       "embarked_S    -0.778359   -0.496624    1.000000"
      ]
     },
     "metadata": {},
     "output_type": "display_data"
    }
   ],
   "source": [
    "#Looking for departure city correlations\n",
    "\n",
    "display(titanic.corr(method='pearson')[['embarked_C','embarked_Q','embarked_S']])"
   ]
  },
  {
   "cell_type": "markdown",
   "metadata": {},
   "source": [
    "This shows a fairly strong correlation between embarking in Cherbourg and Passenger class."
   ]
  },
  {
   "cell_type": "code",
   "execution_count": 24,
   "metadata": {
    "collapsed": false
   },
   "outputs": [
    {
     "data": {
      "text/html": [
       "<div>\n",
       "<table border=\"1\" class=\"dataframe\">\n",
       "  <thead>\n",
       "    <tr style=\"text-align: right;\">\n",
       "      <th>Pclass</th>\n",
       "      <th>1</th>\n",
       "      <th>2</th>\n",
       "      <th>3</th>\n",
       "      <th>All</th>\n",
       "      <th>percent_1st_class</th>\n",
       "    </tr>\n",
       "    <tr>\n",
       "      <th>Embarked</th>\n",
       "      <th></th>\n",
       "      <th></th>\n",
       "      <th></th>\n",
       "      <th></th>\n",
       "      <th></th>\n",
       "    </tr>\n",
       "  </thead>\n",
       "  <tbody>\n",
       "    <tr>\n",
       "      <th>C</th>\n",
       "      <td>85.00</td>\n",
       "      <td>17.0</td>\n",
       "      <td>66.00</td>\n",
       "      <td>168.0</td>\n",
       "      <td>50.60</td>\n",
       "    </tr>\n",
       "    <tr>\n",
       "      <th>Q</th>\n",
       "      <td>2.00</td>\n",
       "      <td>3.0</td>\n",
       "      <td>72.00</td>\n",
       "      <td>77.0</td>\n",
       "      <td>2.60</td>\n",
       "    </tr>\n",
       "    <tr>\n",
       "      <th>S</th>\n",
       "      <td>127.00</td>\n",
       "      <td>164.0</td>\n",
       "      <td>353.00</td>\n",
       "      <td>644.0</td>\n",
       "      <td>19.72</td>\n",
       "    </tr>\n",
       "    <tr>\n",
       "      <th>All</th>\n",
       "      <td>214.00</td>\n",
       "      <td>184.0</td>\n",
       "      <td>491.00</td>\n",
       "      <td>889.0</td>\n",
       "      <td>24.07</td>\n",
       "    </tr>\n",
       "    <tr>\n",
       "      <th>percent_in_class</th>\n",
       "      <td>24.07</td>\n",
       "      <td>20.7</td>\n",
       "      <td>55.23</td>\n",
       "      <td>100.0</td>\n",
       "      <td>2.71</td>\n",
       "    </tr>\n",
       "  </tbody>\n",
       "</table>\n",
       "</div>"
      ],
      "text/plain": [
       "Pclass                 1      2       3    All  percent_1st_class\n",
       "Embarked                                                         \n",
       "C                  85.00   17.0   66.00  168.0              50.60\n",
       "Q                   2.00    3.0   72.00   77.0               2.60\n",
       "S                 127.00  164.0  353.00  644.0              19.72\n",
       "All               214.00  184.0  491.00  889.0              24.07\n",
       "percent_in_class   24.07   20.7   55.23  100.0               2.71"
      ]
     },
     "metadata": {},
     "output_type": "display_data"
    },
    {
     "data": {
      "text/plain": [
       "<matplotlib.text.Text at 0x11ccd0a20>"
      ]
     },
     "execution_count": 24,
     "metadata": {},
     "output_type": "execute_result"
    },
    {
     "data": {
      "image/png": "[encoded data removed]",
      "text/plain": [
       "<matplotlib.figure.Figure at 0x119b6e518>"
      ]
     },
     "metadata": {},
     "output_type": "display_data"
    }
   ],
   "source": [
    "embarked_by_class = pd.crosstab(titanic['Embarked'],titanic['Pclass'],margins=True)\n",
    "\n",
    "embarked_by_class['percent_1st_class'] = round((embarked_by_class[1] / embarked_by_class['All'])*100,2)\n",
    "embarked_by_class.loc['percent_in_class'] = round(\n",
    "    (embarked_by_class.loc['All'] / embarked_by_class['All']['All'])*100,2)\n",
    "\n",
    "display(embarked_by_class)\n",
    "\n",
    "#ax = embarked_by_class.sort_index(level='Sex')['percent_survived'].plot(kind='bar',color='g')\n",
    "ax = embarked_by_class['percent_1st_class'][['Q','S','C']].plot(\n",
    "    kind='bar',color='g')\n",
    "\n",
    "ax.set_title('Percent of passengers traveling in first class',fontsize='x-large',fontweight='bold')\n",
    "ax.set_xticklabels(['Queenstown','Southampton','Cherbourg'],rotation='horizontal',fontsize='large')\n",
    "ax.set_xlabel('')"
   ]
  },
  {
   "cell_type": "markdown",
   "metadata": {},
   "source": [
    "Based on this data, it seems like one of the reasons for the higher survival rate of passengers departing from Cherbourg was the much larger percentage of passengers travelling in first class, compared to the passengers who embarked from Southampton and Queenstown."
   ]
  },
  {
   "cell_type": "markdown",
   "metadata": {},
   "source": [
    "### Age"
   ]
  },
  {
   "cell_type": "markdown",
   "metadata": {},
   "source": [
    "Although the correlation coefficiant for survival and age wasn't very high, it will be interesting to take a look to see if there was an age cutoff that changed the survival rate drastically."
   ]
  },
  {
   "cell_type": "code",
   "execution_count": 25,
   "metadata": {
    "collapsed": false
   },
   "outputs": [
    {
     "data": {
      "text/html": [
       "<div>\n",
       "<table border=\"1\" class=\"dataframe\">\n",
       "  <thead>\n",
       "    <tr style=\"text-align: right;\">\n",
       "      <th></th>\n",
       "      <th>Age</th>\n",
       "      <th>Survived</th>\n",
       "      <th>Sex</th>\n",
       "      <th>age_brackets</th>\n",
       "    </tr>\n",
       "  </thead>\n",
       "  <tbody>\n",
       "    <tr>\n",
       "      <th>0</th>\n",
       "      <td>22.0</td>\n",
       "      <td>0</td>\n",
       "      <td>male</td>\n",
       "      <td>21 to 30</td>\n",
       "    </tr>\n",
       "    <tr>\n",
       "      <th>1</th>\n",
       "      <td>38.0</td>\n",
       "      <td>1</td>\n",
       "      <td>female</td>\n",
       "      <td>31 to 40</td>\n",
       "    </tr>\n",
       "    <tr>\n",
       "      <th>2</th>\n",
       "      <td>26.0</td>\n",
       "      <td>1</td>\n",
       "      <td>female</td>\n",
       "      <td>21 to 30</td>\n",
       "    </tr>\n",
       "    <tr>\n",
       "      <th>3</th>\n",
       "      <td>35.0</td>\n",
       "      <td>1</td>\n",
       "      <td>female</td>\n",
       "      <td>31 to 40</td>\n",
       "    </tr>\n",
       "    <tr>\n",
       "      <th>4</th>\n",
       "      <td>35.0</td>\n",
       "      <td>0</td>\n",
       "      <td>male</td>\n",
       "      <td>31 to 40</td>\n",
       "    </tr>\n",
       "  </tbody>\n",
       "</table>\n",
       "</div>"
      ],
      "text/plain": [
       "    Age  Survived     Sex age_brackets\n",
       "0  22.0         0    male     21 to 30\n",
       "1  38.0         1  female     31 to 40\n",
       "2  26.0         1  female     21 to 30\n",
       "3  35.0         1  female     31 to 40\n",
       "4  35.0         0    male     31 to 40"
      ]
     },
     "metadata": {},
     "output_type": "display_data"
    },
    {
     "name": "stdout",
     "output_type": "stream",
     "text": [
      "Number of passengers used for age analysis: 714\n"
     ]
    }
   ],
   "source": [
    "#Creating age brackets and removing records with missing ageb\n",
    "\n",
    "#Removing records that are missing age data\n",
    "age_data = titanic[titanic['Age'].isnull() == False][['Age','Survived','Sex']]\n",
    "\n",
    "#Earlier we saw that the maximum age is 80, so I am setting the cutoff at 80\n",
    "bins = [0,5,10,15,20,30,40,50,60,70,80]\n",
    "bracket_names = ['0 to 5','6 to 10','11 to 15','16 to 20','21 to 30','31 to 40','41 to 50','51 to 60',\n",
    "              '61 to 70','71 to 80']\n",
    "categories = pd.Series(pd.cut(age_data['Age'], bins ,labels=bracket_names))\n",
    "\n",
    "age_data['age_brackets'] = categories\n",
    "\n",
    "display(age_data.head(5))\n",
    "\n",
    "print(\"Number of passengers used for age analysis:\", len(age_data))"
   ]
  },
  {
   "cell_type": "code",
   "execution_count": 26,
   "metadata": {
    "collapsed": false
   },
   "outputs": [
    {
     "data": {
      "text/html": [
       "<div>\n",
       "<table border=\"1\" class=\"dataframe\">\n",
       "  <thead>\n",
       "    <tr style=\"text-align: right;\">\n",
       "      <th>Sex</th>\n",
       "      <th>female</th>\n",
       "      <th>male</th>\n",
       "    </tr>\n",
       "    <tr>\n",
       "      <th>age_brackets</th>\n",
       "      <th></th>\n",
       "      <th></th>\n",
       "    </tr>\n",
       "  </thead>\n",
       "  <tbody>\n",
       "    <tr>\n",
       "      <th>0 to 5</th>\n",
       "      <td>21</td>\n",
       "      <td>23</td>\n",
       "    </tr>\n",
       "    <tr>\n",
       "      <th>6 to 10</th>\n",
       "      <td>10</td>\n",
       "      <td>10</td>\n",
       "    </tr>\n",
       "    <tr>\n",
       "      <th>11 to 15</th>\n",
       "      <td>12</td>\n",
       "      <td>7</td>\n",
       "    </tr>\n",
       "    <tr>\n",
       "      <th>16 to 20</th>\n",
       "      <td>34</td>\n",
       "      <td>62</td>\n",
       "    </tr>\n",
       "    <tr>\n",
       "      <th>21 to 30</th>\n",
       "      <td>81</td>\n",
       "      <td>149</td>\n",
       "    </tr>\n",
       "    <tr>\n",
       "      <th>31 to 40</th>\n",
       "      <td>55</td>\n",
       "      <td>100</td>\n",
       "    </tr>\n",
       "    <tr>\n",
       "      <th>41 to 50</th>\n",
       "      <td>31</td>\n",
       "      <td>55</td>\n",
       "    </tr>\n",
       "    <tr>\n",
       "      <th>51 to 60</th>\n",
       "      <td>14</td>\n",
       "      <td>28</td>\n",
       "    </tr>\n",
       "    <tr>\n",
       "      <th>61 to 70</th>\n",
       "      <td>3</td>\n",
       "      <td>14</td>\n",
       "    </tr>\n",
       "    <tr>\n",
       "      <th>71 to 80</th>\n",
       "      <td>0</td>\n",
       "      <td>5</td>\n",
       "    </tr>\n",
       "  </tbody>\n",
       "</table>\n",
       "</div>"
      ],
      "text/plain": [
       "Sex           female  male\n",
       "age_brackets              \n",
       "0 to 5            21    23\n",
       "6 to 10           10    10\n",
       "11 to 15          12     7\n",
       "16 to 20          34    62\n",
       "21 to 30          81   149\n",
       "31 to 40          55   100\n",
       "41 to 50          31    55\n",
       "51 to 60          14    28\n",
       "61 to 70           3    14\n",
       "71 to 80           0     5"
      ]
     },
     "execution_count": 26,
     "metadata": {},
     "output_type": "execute_result"
    }
   ],
   "source": [
    "##Looking at the distribution of males and females in the different age brackets\n",
    "pd.crosstab(age_data['age_brackets'],age_data['Sex'])"
   ]
  },
  {
   "cell_type": "markdown",
   "metadata": {},
   "source": [
    "Looking at the aggregated data like this, it becomes clear that some of the age brackets have very few passengers in them. It is possible this may affect the statistical signficance of further passenger age analysis."
   ]
  },
  {
   "cell_type": "code",
   "execution_count": 27,
   "metadata": {
    "collapsed": false
   },
   "outputs": [
    {
     "data": {
      "text/plain": [
       "<matplotlib.text.Text at 0x11cf71898>"
      ]
     },
     "execution_count": 27,
     "metadata": {},
     "output_type": "execute_result"
    },
    {
     "data": {
      "image/png": "[encoded data removed]",
      "text/plain": [
       "<matplotlib.figure.Figure at 0x11c6be2e8>"
      ]
     },
     "metadata": {},
     "output_type": "display_data"
    }
   ],
   "source": [
    "#Plotting age brackets for all passengers as well as for males and females\n",
    "\n",
    "#Grouping brackets\n",
    "age_count = age_data.groupby('age_brackets')['age_brackets'].agg('count')\n",
    "age_male_count = age_data[age_data['Sex'] == 'male'].groupby('age_brackets')['age_brackets'].agg('count')\n",
    "age_female_count = age_data[age_data['Sex'] == 'female'].groupby('age_brackets')['age_brackets'].agg('count')\n",
    "\n",
    "#Grouping by age of survivors\n",
    "survivor_ages = age_data[age_data['Survived'] == True]\n",
    "\n",
    "#Grouping by age and sex of survivors                                            \n",
    "survivor_ages_males = age_data[(age_data['Survived'] == True) & (age_data['Sex'] == 'male')]\n",
    "survivor_ages_females = age_data[(age_data['Survived'] == True) & (age_data['Sex'] == 'female')]\n",
    "\n",
    "survived_age_count = survivor_ages.groupby('age_brackets')['age_brackets'].agg('count')\n",
    "survived_age_male_count = survivor_ages_males.groupby('age_brackets')['age_brackets'].agg('count')\n",
    "survived_age_female_count = survivor_ages_females.groupby('age_brackets')['age_brackets'].agg('count')\n",
    "\n",
    "survivor_age_groups = (survived_age_count / age_count) * 100\n",
    "survivor_age_male_groups = (survived_age_male_count / age_male_count) * 100\n",
    "survivor_age_female_groups = (survived_age_female_count / age_female_count) * 100\n",
    "\n",
    "\n",
    "fig = plt.figure(figsize=(12,10))\n",
    "ax1 = plt.subplot2grid((2,2), (0,0), colspan=2,)\n",
    "ax2 = plt.subplot2grid((2,2), (1, 0))\n",
    "ax3 = plt.subplot2grid((2,2), (1, 1))\n",
    "\n",
    "#all passengers plot\n",
    "survivor_age_groups.plot(kind='bar',ax=ax1)\n",
    "ax1.set_title('Survival % by age, all passengers',fontsize='x-large',fontweight='bold')\n",
    "ax1.set_xticklabels(survivor_age_groups.index.values,rotation='10',\n",
    "                    fontweight='bold',fontsize='large'),\n",
    "ax1.set_xlabel('Age brackets',fontsize='large')\n",
    "ax1.set_ylabel('%',fontsize='x-large',fontweight='bold')\n",
    "\n",
    "#male plot\n",
    "survivor_age_male_groups.plot(kind='bar',ax=ax2)\n",
    "ax2.set_title('Survival % by age, males',fontsize='x-large',fontweight='bold')\n",
    "ax2.set_xticklabels(survivor_age_groups.index.values,rotation='30',\n",
    "                    fontweight='bold',fontsize='medium')\n",
    "ax2.set_xlabel('Age brackets',fontsize='large')\n",
    "ax2.set_ylabel('%',fontsize='x-large',fontweight='bold')\n",
    "\n",
    "#female plot\n",
    "survivor_age_female_groups.plot(kind='bar', ax=ax3)\n",
    "ax3.set_title('Survival % by age, females',fontsize='x-large',fontweight='bold')\n",
    "ax3.set_xticklabels(survivor_age_groups.index.values,rotation='30',\n",
    "                    fontweight='bold',fontsize='medium')\n",
    "ax3.set_xlabel('Age brackets',fontsize='large')\n",
    "ax3.set_ylabel('%',fontsize='x-large',fontweight='bold')\n"
   ]
  },
  {
   "cell_type": "markdown",
   "metadata": {},
   "source": [
    "We see here that the youngest children seemed to be prioritized for the lifeboats on Titanic, as the 0 to 5 age bracket had the highest survival rate. Somewhat surprisingly, this is not also the case for the children of age 6 to 10, which had a much lower survival rate. This might be due to small sample size: only 20 out of 714 passengers fall into this age bracket."
   ]
  },
  {
   "cell_type": "code",
   "execution_count": 51,
   "metadata": {
    "collapsed": false
   },
   "outputs": [
    {
     "name": "stdout",
     "output_type": "stream",
     "text": [
      "T-statistic: -0.51    P: 0.6136902134462902\n"
     ]
    }
   ],
   "source": [
    "#scipy.stats.ttest_1samp(a, popmean, axis=0, nan_policy='propagate')\n",
    "\n",
    "t_test_sample = age_data[age_data['age_brackets'] == '6 to 10']['Survived']\n",
    "pop_mean = age_data['Survived'].mean()\n",
    "\n",
    "t,p = stats.ttest_1samp(t_test_sample,pop_mean)\n",
    "\n",
    "print(\"T-statistic: {0}    P: {1}\".format(round(t,2),p))"
   ]
  },
  {
   "cell_type": "markdown",
   "metadata": {},
   "source": [
    "The one-sample t-test confirms the suspicion: the survival rate of 6-10 year olds is not statistically significant."
   ]
  },
  {
   "cell_type": "code",
   "execution_count": 44,
   "metadata": {
    "collapsed": false
   },
   "outputs": [
    {
     "name": "stdout",
     "output_type": "stream",
     "text": [
      "F-statistic: 2.97    P: 0.0017923299329817362\n"
     ]
    }
   ],
   "source": [
    "#One-way Anova test for statistical significance of differences in survival rates between the different age groups.\n",
    "\n",
    "f,p = stats.f_oneway(*[age_data[age_data['age_brackets'] == bracket]['Survived'] for \n",
    "                       bracket in bracket_names])\n",
    "\n",
    "print(\"F-statistic: {0}    P: {1}\".format(round(f,2),p))"
   ]
  },
  {
   "cell_type": "code",
   "execution_count": 66,
   "metadata": {
    "collapsed": false
   },
   "outputs": [
    {
     "name": "stdout",
     "output_type": "stream",
     "text": [
      "Passengers between age 0 to 5 had a 182.26% greater chance of surviving than the mean survival rate for other passengers.\n",
      "T-statistic: 4.29    P: 0.0001\n"
     ]
    }
   ],
   "source": [
    "young_greater_chance = round((age_data[age_data['age_brackets'] == '0 to 5']['Survived'].mean() \n",
    "                        / age_data[age_data['age_brackets'] != '0 to 5']['Survived'].mean()) * 100,2)\n",
    "\n",
    "print(\n",
    "    \"Passengers between age 0 to 5 had a {}% greater chance of surviving than the mean survival rate for other passengers.\"\n",
    "    .format(young_greater_chance))\n",
    "\n",
    "t_test_sample = age_data[age_data['age_brackets'] == '0 to 5']['Survived']\n",
    "pop_mean = age_data['Survived'].mean()\n",
    "\n",
    "t,p = stats.ttest_1samp(t_test_sample,pop_mean)\n",
    "\n",
    "print(\"T-statistic: {0}    P: {1}\".format(round(t,2),round(p,6)))"
   ]
  },
  {
   "cell_type": "markdown",
   "metadata": {},
   "source": [
    "The survival rate for 0 to 5 year old passengers is statistically significant."
   ]
  },
  {
   "cell_type": "markdown",
   "metadata": {},
   "source": [
    "### Concluding thoughts:"
   ]
  },
  {
   "cell_type": "code",
   "execution_count": 75,
   "metadata": {
    "collapsed": false
   },
   "outputs": [
    {
     "name": "stdout",
     "output_type": "stream",
     "text": [
      "Higher chance of surviving for females: 25.46%\n",
      "Higher chance of surviving for 1st class compared to 2nd class: 133.16%\n",
      "Higher chance of surviving for 1st class compared to 3rd class: 259.79%\n"
     ]
    }
   ],
   "source": [
    "#simple comparisons\n",
    "\n",
    "def greater_survival(df,parameter,value1,value2):\n",
    "    \n",
    "    if value2 == 0:\n",
    "       percentage = (df[df[parameter] == value1]['Survived'].mean() / \n",
    "                     df[df[parameter] != value1]['Survived'].mean()) * 100\n",
    "    else:\n",
    "       percentage = (df[df[parameter] == value1]['Survived'].mean() /\n",
    "                     df[df[parameter] == value2]['Survived'].mean()) * 100 \n",
    "    \n",
    "    return round(percentage,2)\n",
    "\n",
    "print(\"Higher chance of surviving for females: {}%\".format(greater_survival(titanic,'Sex','male',0)))\n",
    "print(\"Higher chance of surviving for 1st class compared to 2nd class: {}%\".\n",
    "      format(greater_survival(titanic,'Pclass',1,2)))\n",
    "print(\"Higher chance of surviving for 1st class compared to 3rd class: {}%\".\n",
    "      format(greater_survival(titanic,'Pclass',1,3)))"
   ]
  },
  {
   "cell_type": "markdown",
   "metadata": {},
   "source": [
    "The analysis of the Titanic dataset suggests that three major factors affecting the survival rate of passengers on the Titanic were: sex (females were 25% more likely to survive the incident, regardless of other factors such as class and age), class (first class passengers were 133% more likely to survive than passengers in 2nd class, and 260% more likely to survive than passengers in 3rd class), and finally, age, where children between the ages of 0 and 5 years were 182% more likely to survive than all other passengers."
   ]
  },
  {
   "cell_type": "markdown",
   "metadata": {},
   "source": [
    "### _Sources_\n",
    "\n",
    "\n",
    "__Python documentation, book:__  \n",
    "McKinney, Wes, 2012. _Python for Data Analysis_. O'Reilly Media\n",
    "\n",
    "__Python documentation, websites:__  \n",
    "http://docs.scipy.org/doc/scipy/reference/index.html\n",
    "http://iaingallagher.tumblr.com/post/50980987285/t-tests-in-python\n",
    "http://matplotlib.org/api/pyplot_api.html\n",
    "http://nullege.com/codes/search/scipy.stats.f_oneway\n",
    "http://pandas.pydata.org/pandas-docs/stable/\n",
    "http://pandas.pydata.org/pandas-docs/stable/index.html\n",
    "http://stackoverflow.com/\n",
    "https://www.analyticsvidhya.com/blog/2016/01/12-pandas-techniques-python-data-manipulation/\n",
    "\n",
    "__Dataset details:__  \n",
    "https://www.kaggle.com/c/titanic/data\n",
    "\n",
    "\n",
    "\n",
    "__Statistics resources:__  \n",
    "Statistical methods and terminology are largely based on teachings from the Descriptive Statistics and Inferential Statistics Udacity courses."
   ]
  }
 ],
 "metadata": {
  "anaconda-cloud": {},
  "kernelspec": {
   "display_name": "Python [Root]",
   "language": "python",
   "name": "Python [Root]"
  },
  "language_info": {
   "codemirror_mode": {
    "name": "ipython",
    "version": 3
   },
   "file_extension": ".py",
   "mimetype": "text/x-python",
   "name": "python",
   "nbconvert_exporter": "python",
   "pygments_lexer": "ipython3",
   "version": "3.5.2"
  }
 },
 "nbformat": 4,
 "nbformat_minor": 0
}
