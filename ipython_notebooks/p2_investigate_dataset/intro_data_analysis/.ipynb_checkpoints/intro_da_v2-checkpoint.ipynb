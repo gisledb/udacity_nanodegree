{
 "cells": [
  {
   "cell_type": "code",
   "execution_count": 31,
   "metadata": {
    "collapsed": false
   },
   "outputs": [
    {
     "name": "stdout",
     "output_type": "stream",
     "text": [
      "{'is_canceled': 'True', 'days_to_cancel': '65', 'account_key': '448', 'join_date': '2014-11-10', 'status': 'canceled', 'cancel_date': '2015-01-14', 'is_udacity': 'True'}\n",
      "{'lessons_completed': '0.0', 'projects_completed': '0.0', 'num_courses_visited': '1.0', 'acct': '0', 'utc_date': '2015-01-09', 'total_minutes_visited': '11.6793745'}\n",
      "{'lesson_key': '3176718735', 'account_key': '256', 'creation_date': '2015-01-14', 'assigned_rating': 'UNGRADED', 'processing_state': 'EVALUATED', 'completion_date': '2015-01-16'}\n"
     ]
    }
   ],
   "source": [
    "#CSVs in Python\n",
    "#write as function\n",
    "import unicodecsv\n",
    "\n",
    "def read_csv(filename):\n",
    "    with open(filename, 'rb') as f:\n",
    "        reader = unicodecsv.DictReader(f)\n",
    "        return list(reader)\n",
    "\n",
    "enrollments = read_csv('enrollments.csv')\n",
    "daily_engagement = read_csv('daily_engagement.csv')\n",
    "project_submissions = read_csv('project_submissions.csv')\n",
    "\n",
    "print(enrollments[0])\n",
    "print(daily_engagement[0])\n",
    "print(project_submissions[0])"
   ]
  },
  {
   "cell_type": "code",
   "execution_count": 32,
   "metadata": {
    "collapsed": false
   },
   "outputs": [],
   "source": [
    "#Fixing data types\n",
    "#taken from L1_Starter_code\n",
    "from datetime import datetime as dt\n",
    "\n",
    "# Takes a date as a string, and returns a Python datetime object. \n",
    "# If there is no date given, returns None\n",
    "def parse_date(date):\n",
    "    if date == '':\n",
    "        return None\n",
    "    else:\n",
    "        return dt.strptime(date, '%Y-%m-%d')\n",
    "    \n",
    "# Takes a string which is either an empty string or represents an integer,\n",
    "# and returns an int or None.\n",
    "def parse_maybe_int(i):\n",
    "    if i == '':\n",
    "        return None\n",
    "    else:\n",
    "        return int(i)"
   ]
  },
  {
   "cell_type": "code",
   "execution_count": 33,
   "metadata": {
    "collapsed": false
   },
   "outputs": [
    {
     "data": {
      "text/plain": [
       "{'account_key': '448',\n",
       " 'cancel_date': datetime.datetime(2015, 1, 14, 0, 0),\n",
       " 'days_to_cancel': 65,\n",
       " 'is_canceled': True,\n",
       " 'is_udacity': True,\n",
       " 'join_date': datetime.datetime(2014, 11, 10, 0, 0),\n",
       " 'status': 'canceled'}"
      ]
     },
     "execution_count": 33,
     "metadata": {},
     "output_type": "execute_result"
    }
   ],
   "source": [
    "# Clean up the data types in the enrollments table\n",
    "for enrollment in enrollments:\n",
    "    enrollment['cancel_date'] = parse_date(enrollment['cancel_date'])\n",
    "    enrollment['days_to_cancel'] = parse_maybe_int(enrollment['days_to_cancel'])\n",
    "    enrollment['is_canceled'] = enrollment['is_canceled'] == 'True'\n",
    "    enrollment['is_udacity'] = enrollment['is_udacity'] == 'True'\n",
    "    enrollment['join_date'] = parse_date(enrollment['join_date'])\n",
    "    \n",
    "enrollments[0]"
   ]
  },
  {
   "cell_type": "code",
   "execution_count": 34,
   "metadata": {
    "collapsed": false
   },
   "outputs": [
    {
     "data": {
      "text/plain": [
       "{'acct': '0',\n",
       " 'lessons_completed': 0,\n",
       " 'num_courses_visited': 1,\n",
       " 'projects_completed': 0,\n",
       " 'total_minutes_visited': 11.6793745,\n",
       " 'utc_date': datetime.datetime(2015, 1, 9, 0, 0)}"
      ]
     },
     "execution_count": 34,
     "metadata": {},
     "output_type": "execute_result"
    }
   ],
   "source": [
    "# Clean up the data types in the engagement table\n",
    "for engagement_record in daily_engagement:\n",
    "    engagement_record['lessons_completed'] = int(float(engagement_record['lessons_completed']))\n",
    "    engagement_record['num_courses_visited'] = int(float(engagement_record['num_courses_visited']))\n",
    "    engagement_record['projects_completed'] = int(float(engagement_record['projects_completed']))\n",
    "    engagement_record['total_minutes_visited'] = float(engagement_record['total_minutes_visited'])\n",
    "    engagement_record['utc_date'] = parse_date(engagement_record['utc_date'])\n",
    "    \n",
    "daily_engagement[0]"
   ]
  },
  {
   "cell_type": "code",
   "execution_count": 35,
   "metadata": {
    "collapsed": false
   },
   "outputs": [
    {
     "data": {
      "text/plain": [
       "{'account_key': '256',\n",
       " 'assigned_rating': 'UNGRADED',\n",
       " 'completion_date': datetime.datetime(2015, 1, 16, 0, 0),\n",
       " 'creation_date': datetime.datetime(2015, 1, 14, 0, 0),\n",
       " 'lesson_key': '3176718735',\n",
       " 'processing_state': 'EVALUATED'}"
      ]
     },
     "execution_count": 35,
     "metadata": {},
     "output_type": "execute_result"
    }
   ],
   "source": [
    "# Clean up the data types in the submissions table\n",
    "for submission in project_submissions:\n",
    "    submission['completion_date'] = parse_date(submission['completion_date'])\n",
    "    submission['creation_date'] = parse_date(submission['creation_date'])\n",
    "\n",
    "project_submissions[0]"
   ]
  },
  {
   "cell_type": "markdown",
   "metadata": {},
   "source": [
    "__Quiz: Questions about Student...__\n",
    "Questions to answer during analysis\n",
    "1. Does time of day for enrollment affect count or frequency of project submissions?\n",
    "2. Is there a point of daily engagement which noticeably increases or decreases count of project submissions?\n",
    "3. What is the average lessons completed per project submission?\n",
    "4. Of students who have submitted at least 1 project, what is the average number of project submissions within 6 months of enrolling?\n",
    "5. Looking only at students enrolled for at least 3 months, how many have submitted at least 1 project?\n",
    "6. On average, how long does it take to complete 6 projects?"
   ]
  },
  {
   "cell_type": "code",
   "execution_count": 36,
   "metadata": {
    "collapsed": false
   },
   "outputs": [
    {
     "name": "stdout",
     "output_type": "stream",
     "text": [
      "Enrollment count: 1640, projects count: 136240, engagement count: 3642\n",
      "Unique enrollments: 1640, Users with project submissions: 136240, users with some daily activity: 3642\n"
     ]
    }
   ],
   "source": [
    "#Quiz: Investigating the data: counts unique\n",
    "def unique_acc(table,col):\n",
    "    accounts = []\n",
    "    for account in table:\n",
    "        if account[col] not in accounts:\n",
    "            accounts.append(account[col])\n",
    "    return len(accounts)\n",
    "\n",
    "enrollment_num_rows = len(enrollments)            \n",
    "enrollment_num_unique_students = unique_acc(enrollments,'account_key')  \n",
    "\n",
    "engagement_num_rows = len(daily_engagement)             \n",
    "engagement_num_unique_students = unique_acc(daily_engagement,'acct')  \n",
    "\n",
    "submission_num_rows = len(project_submissions)             \n",
    "submission_num_unique_students = unique_acc(project_submissions,'account_key')  \n",
    "\n",
    "print('Enrollment count: {0}, projects count: {1}, engagement count: {2}'.format(\n",
    "enrollment_num_rows,engagement_num_rows,submission_num_rows))\n",
    "\n",
    "print('Unique enrollments: {0}, Users with project submissions: {1}, \\\n",
    "users with some daily activity: {2}'.format(\n",
    "enrollment_num_rows,engagement_num_rows,submission_num_rows))\n"
   ]
  },
  {
   "cell_type": "code",
   "execution_count": 37,
   "metadata": {
    "collapsed": false
   },
   "outputs": [
    {
     "name": "stdout",
     "output_type": "stream",
     "text": [
      "unique students: 1302\n",
      "unique engaged students: 1237\n",
      "unique project submitters: 743\n"
     ]
    }
   ],
   "source": [
    "##Quiz: Investigating the data: add unique tables\n",
    "def unique_table(table,variable):\n",
    "    tmp_table = set()\n",
    "    for record in table:\n",
    "        tmp_table.add(record[variable])\n",
    "    return tmp_table\n",
    "\n",
    "unique_enrolled_students = unique_table(enrollments,'account_key')\n",
    "unique_engagement_students = unique_table(daily_engagement,'acct')\n",
    "unique_project_submitters = unique_table(project_submissions,'account_key')\n",
    "\n",
    "print('unique students:',len(unique_enrolled_students))\n",
    "print('unique engaged students:',len(unique_engagement_students))\n",
    "print('unique project submitters:',len(unique_project_submitters))"
   ]
  },
  {
   "cell_type": "code",
   "execution_count": 38,
   "metadata": {
    "collapsed": false
   },
   "outputs": [
    {
     "name": "stdout",
     "output_type": "stream",
     "text": [
      "0\n",
      "0\n"
     ]
    }
   ],
   "source": [
    "#Quiz: Problems in the data\n",
    "#Unifying name for account key in all tables (dictionaries)\n",
    "\n",
    "print(daily_engagement[3]['acct'])\n",
    "\n",
    "for rec in daily_engagement:\n",
    "    rec['account_key'] = rec['acct']\n",
    "    del[rec['acct']]\n",
    "\n",
    "print(daily_engagement[3]['account_key'])"
   ]
  },
  {
   "cell_type": "code",
   "execution_count": 39,
   "metadata": {
    "collapsed": false
   },
   "outputs": [
    {
     "name": "stdout",
     "output_type": "stream",
     "text": [
      "['1025', '1120', '733', '1190', '871', '750', '902', '739', '799', '1291']\n",
      "{'is_canceled': True, 'days_to_cancel': 0, 'account_key': '1025', 'join_date': datetime.datetime(2015, 6, 7, 0, 0), 'status': 'canceled', 'cancel_date': datetime.datetime(2015, 6, 7, 0, 0), 'is_udacity': False}\n",
      "{'is_canceled': True, 'days_to_cancel': 0, 'account_key': '1120', 'join_date': datetime.datetime(2014, 12, 4, 0, 0), 'status': 'canceled', 'cancel_date': datetime.datetime(2014, 12, 4, 0, 0), 'is_udacity': False}\n",
      "{'is_canceled': True, 'days_to_cancel': 0, 'account_key': '733', 'join_date': datetime.datetime(2015, 1, 12, 0, 0), 'status': 'canceled', 'cancel_date': datetime.datetime(2015, 1, 12, 0, 0), 'is_udacity': False}\n",
      "{'is_canceled': True, 'days_to_cancel': 0, 'account_key': '1190', 'join_date': datetime.datetime(2015, 3, 6, 0, 0), 'status': 'canceled', 'cancel_date': datetime.datetime(2015, 3, 6, 0, 0), 'is_udacity': False}\n",
      "{'is_canceled': True, 'days_to_cancel': 0, 'account_key': '871', 'join_date': datetime.datetime(2014, 11, 13, 0, 0), 'status': 'canceled', 'cancel_date': datetime.datetime(2014, 11, 13, 0, 0), 'is_udacity': False}\n"
     ]
    }
   ],
   "source": [
    "#Quiz: Missing engagement reports: Looking at some missing records\n",
    "\n",
    "missing_enrolled = []\n",
    "\n",
    "for missing in unique_enrolled_students:\n",
    "    if missing not in unique_engagement_students:\n",
    "        missing_enrolled.append(missing)\n",
    "        \n",
    "print(missing_enrolled[0:10])\n",
    "\n",
    "for missing in missing_enrolled[0:5]:\n",
    "    for match in enrollments:\n",
    "        if match['account_key'] == missing:\n",
    "            print(match)"
   ]
  },
  {
   "cell_type": "code",
   "execution_count": 40,
   "metadata": {
    "collapsed": false
   },
   "outputs": [
    {
     "name": "stdout",
     "output_type": "stream",
     "text": [
      "Not canceled: 1\n",
      "Canceled first day: 68\n",
      "Canceled later: 2\n"
     ]
    }
   ],
   "source": [
    "#Quiz: Missing engagement reports: Looking further at cancelations\n",
    "\n",
    "#hypothesis: cancelation on day 0 is not counted as daily engagement\n",
    "#Starting by checking count of missing not canceled \n",
    "#then checking count of canceled not canceled on day 0\n",
    "\n",
    "not_canceled = []\n",
    "days_to_cancel_zero = []\n",
    "canceled_later = []\n",
    "\n",
    "for missing in missing_enrolled:\n",
    "    for match in enrollments:\n",
    "        if match['account_key'] == missing:\n",
    "            if match['is_canceled'] == False:\n",
    "                not_canceled.append(match)\n",
    "            elif match['days_to_cancel'] == 0:\n",
    "                days_to_cancel_zero.append(match)\n",
    "            else:\n",
    "                canceled_later.append(match)\n",
    "\n",
    "print('Not canceled:',len(not_canceled))\n",
    "print('Canceled first day:',len(days_to_cancel_zero))\n",
    "print('Canceled later:',len(canceled_later))"
   ]
  },
  {
   "cell_type": "code",
   "execution_count": 41,
   "metadata": {
    "collapsed": false
   },
   "outputs": [
    {
     "name": "stdout",
     "output_type": "stream",
     "text": [
      "[{'is_canceled': False, 'days_to_cancel': None, 'account_key': '1101', 'join_date': datetime.datetime(2015, 2, 25, 0, 0), 'status': 'current', 'cancel_date': None, 'is_udacity': True}]\n",
      "[{'is_canceled': True, 'days_to_cancel': 59, 'account_key': '1304', 'join_date': datetime.datetime(2015, 1, 10, 0, 0), 'status': 'canceled', 'cancel_date': datetime.datetime(2015, 3, 10, 0, 0), 'is_udacity': True}, {'is_canceled': True, 'days_to_cancel': 99, 'account_key': '1304', 'join_date': datetime.datetime(2015, 3, 10, 0, 0), 'status': 'canceled', 'cancel_date': datetime.datetime(2015, 6, 17, 0, 0), 'is_udacity': True}]\n"
     ]
    }
   ],
   "source": [
    "#Quiz: Missing engagement reports: Looking at non-canceled and later-canceled\n",
    "\n",
    "print(not_canceled)\n",
    "print(canceled_later)"
   ]
  },
  {
   "cell_type": "code",
   "execution_count": 42,
   "metadata": {
    "collapsed": false
   },
   "outputs": [
    {
     "name": "stdout",
     "output_type": "stream",
     "text": [
      "udacity testers missing from engagement: 4\n"
     ]
    }
   ],
   "source": [
    "#Quiz: Missing engagement reports: is_udacity count\n",
    "\n",
    "\n",
    "#checking count of is_udacity missing engagement records\n",
    "enrolled_is_udacity = []\n",
    "\n",
    "for missing in missing_enrolled:\n",
    "    for enrolled in enrollments:\n",
    "        if enrolled['account_key'] == missing:\n",
    "            if enrolled['is_udacity'] == True:\n",
    "                enrolled_is_udacity.append(missing)\n",
    "                \n",
    "print('udacity testers missing from engagement:',len(enrolled_is_udacity))"
   ]
  },
  {
   "cell_type": "code",
   "execution_count": 43,
   "metadata": {
    "collapsed": false
   },
   "outputs": [
    {
     "name": "stdout",
     "output_type": "stream",
     "text": [
      "['1304', '1304', '1101', '1069']\n"
     ]
    }
   ],
   "source": [
    "#Quiz: Missing engagement reports: is_udacity records\n",
    "\n",
    "print(enrolled_is_udacity)\n"
   ]
  },
  {
   "cell_type": "code",
   "execution_count": 44,
   "metadata": {
    "collapsed": false
   },
   "outputs": [
    {
     "name": "stdout",
     "output_type": "stream",
     "text": [
      "{'is_canceled': True, 'days_to_cancel': 59, 'account_key': '1304', 'join_date': datetime.datetime(2015, 1, 10, 0, 0), 'status': 'canceled', 'cancel_date': datetime.datetime(2015, 3, 10, 0, 0), 'is_udacity': True}\n",
      "{'is_canceled': True, 'days_to_cancel': 99, 'account_key': '1304', 'join_date': datetime.datetime(2015, 3, 10, 0, 0), 'status': 'canceled', 'cancel_date': datetime.datetime(2015, 6, 17, 0, 0), 'is_udacity': True}\n",
      "{'is_canceled': True, 'days_to_cancel': 0, 'account_key': '1069', 'join_date': datetime.datetime(2015, 6, 1, 0, 0), 'status': 'canceled', 'cancel_date': datetime.datetime(2015, 6, 1, 0, 0), 'is_udacity': True}\n",
      "{'is_canceled': False, 'days_to_cancel': None, 'account_key': '1101', 'join_date': datetime.datetime(2015, 2, 25, 0, 0), 'status': 'current', 'cancel_date': None, 'is_udacity': True}\n"
     ]
    }
   ],
   "source": [
    "for record in enrollments:\n",
    "    if record['account_key'] in ('1101', '1069', '1304', '1304'):\n",
    "        print(record)"
   ]
  },
  {
   "cell_type": "code",
   "execution_count": 45,
   "metadata": {
    "collapsed": false
   },
   "outputs": [
    {
     "name": "stdout",
     "output_type": "stream",
     "text": [
      "{'is_canceled': True, 'days_to_cancel': 59, 'account_key': '1304', 'join_date': datetime.datetime(2015, 1, 10, 0, 0), 'status': 'canceled', 'cancel_date': datetime.datetime(2015, 3, 10, 0, 0), 'is_udacity': True}\n",
      "{'is_canceled': True, 'days_to_cancel': 99, 'account_key': '1304', 'join_date': datetime.datetime(2015, 3, 10, 0, 0), 'status': 'canceled', 'cancel_date': datetime.datetime(2015, 6, 17, 0, 0), 'is_udacity': True}\n",
      "{'is_canceled': False, 'days_to_cancel': None, 'account_key': '1101', 'join_date': datetime.datetime(2015, 2, 25, 0, 0), 'status': 'current', 'cancel_date': None, 'is_udacity': True}\n",
      "3\n",
      "{'is_canceled': True, 'days_to_cancel': 59, 'account_key': '1304', 'join_date': datetime.datetime(2015, 1, 10, 0, 0), 'status': 'canceled', 'cancel_date': datetime.datetime(2015, 3, 10, 0, 0), 'is_udacity': True}\n",
      "{'is_canceled': True, 'days_to_cancel': 99, 'account_key': '1304', 'join_date': datetime.datetime(2015, 3, 10, 0, 0), 'status': 'canceled', 'cancel_date': datetime.datetime(2015, 6, 17, 0, 0), 'is_udacity': True}\n",
      "{'is_canceled': False, 'days_to_cancel': None, 'account_key': '1101', 'join_date': datetime.datetime(2015, 2, 25, 0, 0), 'status': 'current', 'cancel_date': None, 'is_udacity': True}\n"
     ]
    }
   ],
   "source": [
    "#Quiz: checking for more problems:\n",
    "#finding number of suspicious records not canceled on day 1 (answer from video)\n",
    "\n",
    "num_problem_students = 0\n",
    "for enrollment in enrollments:\n",
    "    student = enrollment['account_key']\n",
    "    if (student not in unique_engagement_students and \n",
    "            enrollment['join_date'] != enrollment['cancel_date']):\n",
    "        print(enrollment)\n",
    "        num_problem_students += 1\n",
    "        \n",
    "print(num_problem_students)\n",
    "#Suspecting it's the same as Udacity records, I am printing those as well\n",
    "for record in enrollments:\n",
    "    if record['account_key'] in ('1101', '1069', '1304', '1304'):\n",
    "        if record['days_to_cancel'] != 0:\n",
    "            print(record)"
   ]
  },
  {
   "cell_type": "code",
   "execution_count": 46,
   "metadata": {
    "collapsed": false
   },
   "outputs": [
    {
     "name": "stdout",
     "output_type": "stream",
     "text": [
      "6\n"
     ]
    }
   ],
   "source": [
    "#Tracking down remainining problems\n",
    "#Removing udacity accounts from data (inspired by video)\n",
    "udacity_test_accounts = set()\n",
    "\n",
    "for tester in enrollments:\n",
    "    if tester['is_udacity'] == True:\n",
    "        udacity_test_accounts.add(tester['account_key'])\n",
    "        \n",
    "print(len(udacity_test_accounts))\n",
    "\n",
    "#function to remove testers\n",
    "def remove_testers(table):\n",
    "    non_testers = list()\n",
    "    for record in table:\n",
    "        if record['account_key'] not in udacity_test_accounts:\n",
    "            non_testers.append(record) \n",
    "    return non_testers\n",
    "\n"
   ]
  },
  {
   "cell_type": "code",
   "execution_count": 47,
   "metadata": {
    "collapsed": false
   },
   "outputs": [
    {
     "name": "stdout",
     "output_type": "stream",
     "text": [
      "enrollments before: 1640 after: 1622\n",
      "engagement before: 136240 after: 135656\n",
      "submissions before: 3642 after: 3634\n"
     ]
    }
   ],
   "source": [
    "#calling function to remove testers\n",
    "\n",
    "non_udacity_enrollments = remove_testers(enrollments)\n",
    "non_udacity_engagement = remove_testers(daily_engagement)\n",
    "non_udacity_submissions = remove_testers(project_submissions)\n",
    "\n",
    "print('enrollments before:',len(enrollments),'after:',len(non_udacity_enrollments))\n",
    "print('engagement before:',len(daily_engagement),'after:',len(non_udacity_engagement))\n",
    "print('submissions before:',len(project_submissions),'after:',len(non_udacity_submissions))\n"
   ]
  },
  {
   "cell_type": "code",
   "execution_count": 48,
   "metadata": {
    "collapsed": false
   },
   "outputs": [
    {
     "name": "stdout",
     "output_type": "stream",
     "text": [
      "995\n",
      "162 2015-05-11 00:00:00\n",
      "885 2015-07-16 00:00:00\n",
      "397 2015-04-01 00:00:00\n",
      "1236 2014-12-05 00:00:00\n",
      "1082 2015-03-06 00:00:00\n"
     ]
    }
   ],
   "source": [
    "#Quiz: refining the question\n",
    "'''\n",
    "Exploration question: How do numbers in the daily engagement table differ for students who pass their first project?\n",
    "Revision after identifying Q problem areas: Only look at engagement from first week,\n",
    "and exclude students who cancel within a week\n",
    "'''\n",
    "\n",
    "#Creating table (dictionary). Conditions: have not canceled or have stayed enrolled more than 7 days.\n",
    "#Keys account_key, values enrollment_date\n",
    "paid_students = {}\n",
    "\n",
    "for paid in non_udacity_enrollments:\n",
    "    if paid['cancel_date'] == None or paid['days_to_cancel'] > 7:\n",
    "        account_key = paid['account_key']\n",
    "        enrollment_date = paid['join_date']\n",
    "        #if statement to ensure we're keeping the latest enrollment_date\n",
    "        if account_key not in paid_students or paid_students[account_key] < enrollment_date:\n",
    "            paid_students[account_key] = enrollment_date\n",
    "\n",
    "print(len(paid_students))\n",
    "\n",
    "count = 0\n",
    "for rec in paid_students:\n",
    "    count += 1 \n",
    "    print(rec,paid_students[rec])\n",
    "    if count == 5:\n",
    "        break\n",
    "        "
   ]
  },
  {
   "cell_type": "code",
   "execution_count": 49,
   "metadata": {
    "collapsed": false
   },
   "outputs": [
    {
     "name": "stdout",
     "output_type": "stream",
     "text": [
      "1293\n",
      "134549\n",
      "3618\n"
     ]
    }
   ],
   "source": [
    "#Quiz: getting data from first week, remove free trials\n",
    "#half own solution, half video\n",
    "\n",
    "\n",
    "def remove_free_trials(table):\n",
    "    no_trials = list()\n",
    "    for row in table:\n",
    "        if row['account_key'] in paid_students:\n",
    "            no_trials.append(row)\n",
    "    return no_trials\n",
    "            \n",
    "paid_enrollments = remove_free_trials(non_udacity_enrollments)\n",
    "paid_engagement = remove_free_trials(non_udacity_engagement)\n",
    "paid_submissions = remove_free_trials(non_udacity_submissions)\n",
    "\n",
    "print(len(paid_enrollments))\n",
    "print(len(paid_engagement))\n",
    "print(len(paid_submissions))\n"
   ]
  },
  {
   "cell_type": "code",
   "execution_count": 50,
   "metadata": {
    "collapsed": true
   },
   "outputs": [],
   "source": [
    "# import timeit\n",
    "\n",
    "# start = timeit.default_timer()\n",
    "\n",
    "# #Quiz: getting data from first week: first week engagement\n",
    "# def within_one_week(join_date, engagement_date):\n",
    "#     time_delta = engagement_date - join_date\n",
    "#     return time_delta.days < 7 #and time_delta.days >= 0\n",
    "\n",
    "# engagement_first_week = list()\n",
    "\n",
    "# for row in paid_enrollments:\n",
    "#     for active in paid_engagement:\n",
    "#         if within_one_week(row['join_date'],active['utc_date']):\n",
    "#             engagement_first_week.append(active)\n",
    "            \n",
    "# stop = timeit.default_timer()\n",
    "\n",
    "# print(stop-start)\n",
    "\n",
    "##too slow, abandoning"
   ]
  },
  {
   "cell_type": "code",
   "execution_count": 51,
   "metadata": {
    "collapsed": false
   },
   "outputs": [
    {
     "name": "stdout",
     "output_type": "stream",
     "text": [
      "21508\n",
      "{'lessons_completed': 0, 'account_key': '0', 'projects_completed': 0, 'num_courses_visited': 1, 'utc_date': datetime.datetime(2015, 1, 9, 0, 0), 'total_minutes_visited': 11.6793745}\n",
      "{'lessons_completed': 0, 'account_key': '0', 'projects_completed': 0, 'num_courses_visited': 2, 'utc_date': datetime.datetime(2015, 1, 10, 0, 0), 'total_minutes_visited': 37.2848873333}\n",
      "{'lessons_completed': 0, 'account_key': '0', 'projects_completed': 0, 'num_courses_visited': 2, 'utc_date': datetime.datetime(2015, 1, 11, 0, 0), 'total_minutes_visited': 53.6337463333}\n",
      "{'lessons_completed': 0, 'account_key': '0', 'projects_completed': 0, 'num_courses_visited': 1, 'utc_date': datetime.datetime(2015, 1, 12, 0, 0), 'total_minutes_visited': 33.4892696667}\n",
      "{'lessons_completed': 0, 'account_key': '0', 'projects_completed': 0, 'num_courses_visited': 1, 'utc_date': datetime.datetime(2015, 1, 13, 0, 0), 'total_minutes_visited': 64.7796776667}\n"
     ]
    }
   ],
   "source": [
    "#Quiz: getting data from first week: first week engagement\n",
    "#inspired by quick look at lesson answer\n",
    "\n",
    "def within_one_week(join_date, engagement_date):\n",
    "    time_delta = engagement_date - join_date\n",
    "    return time_delta.days < 7 #and time_delta.days >= 0\n",
    "\n",
    "paid_engagement_first_week = list()\n",
    "\n",
    "for engagement in paid_engagement:\n",
    "    account_key = engagement['account_key']\n",
    "    join_date = paid_students[account_key]\n",
    "    engagement_date = engagement['utc_date']\n",
    "    \n",
    "    if within_one_week(join_date,engagement_date):\n",
    "        paid_engagement_first_week.append(engagement)\n",
    "        \n",
    "print(len(paid_engagement_first_week))\n",
    "five_rows(paid_engagement_first_week)"
   ]
  },
  {
   "cell_type": "code",
   "execution_count": 52,
   "metadata": {
    "collapsed": false
   },
   "outputs": [
    {
     "name": "stdout",
     "output_type": "stream",
     "text": [
      "55887489\n",
      "134549\n"
     ]
    }
   ],
   "source": [
    "print(len(engagement_first_week))\n",
    "print(len(paid_engagement))"
   ]
  },
  {
   "cell_type": "code",
   "execution_count": 53,
   "metadata": {
    "collapsed": false
   },
   "outputs": [
    {
     "data": {
      "text/plain": [
       "set"
      ]
     },
     "execution_count": 53,
     "metadata": {},
     "output_type": "execute_result"
    }
   ],
   "source": [
    "type(udacity_test_accounts)"
   ]
  },
  {
   "cell_type": "code",
   "execution_count": 54,
   "metadata": {
    "collapsed": true
   },
   "outputs": [],
   "source": [
    "#function to print 5 rows\n",
    "def five_rows(table):\n",
    "    count = 0\n",
    "    \n",
    "    if type(table) == dict:\n",
    "        for row in table:\n",
    "            count += 1 \n",
    "            print(row,table[row])\n",
    "            if count == 5:\n",
    "                break\n",
    "    else:\n",
    "        for row in table:\n",
    "            count += 1 \n",
    "            print(row)\n",
    "            if count == 5:\n",
    "                break"
   ]
  },
  {
   "cell_type": "code",
   "execution_count": 55,
   "metadata": {
    "collapsed": false
   },
   "outputs": [],
   "source": [
    "#Exploring student engagement, code from video\n",
    "from collections import defaultdict\n",
    "\n",
    "# Create a dictionary of engagement grouped by student.\n",
    "# The keys are account keys, and the values are lists of engagement records.\n",
    "engagement_by_account = defaultdict(list)\n",
    "for engagement_record in paid_engagement_first_week:\n",
    "    account_key = engagement_record['account_key']\n",
    "    engagement_by_account[account_key].append(engagement_record)"
   ]
  },
  {
   "cell_type": "code",
   "execution_count": 56,
   "metadata": {
    "collapsed": true
   },
   "outputs": [],
   "source": [
    "#Exploring student engagement, code from video\n",
    "\n",
    "\n",
    "# Create a dictionary with the total minutes each student spent in the classroom during the first week.\n",
    "# The keys are account keys, and the values are numbers (total minutes)\n",
    "total_minutes_by_account = {}\n",
    "for account_key, engagement_for_student in engagement_by_account.items():\n",
    "    total_minutes = 0\n",
    "    for engagement_record in engagement_for_student:\n",
    "        total_minutes += engagement_record['total_minutes_visited']\n",
    "    total_minutes_by_account[account_key] = total_minutes"
   ]
  },
  {
   "cell_type": "code",
   "execution_count": 57,
   "metadata": {
    "collapsed": false
   },
   "outputs": [
    {
     "name": "stdout",
     "output_type": "stream",
     "text": [
      "Mean: 647.590173826\n",
      "Standard deviation: 1129.27121042\n",
      "Minimum: 0.0\n",
      "Maximum: 10568.1008673\n"
     ]
    }
   ],
   "source": [
    "#Exploring student engagement, code from video\n",
    "#My edit: made total_minutes into list, a necessity in Python 3\n",
    "\n",
    "import numpy as np\n",
    "\n",
    "# Summarize the data about minutes spent in the classroom\n",
    "total_minutes = list(total_minutes_by_account.values())\n",
    "print('Mean:', np.mean(total_minutes))\n",
    "print('Standard deviation:', np.std(total_minutes))\n",
    "print('Minimum:', np.min(total_minutes))\n",
    "print('Maximum:', np.max(total_minutes))"
   ]
  },
  {
   "cell_type": "markdown",
   "metadata": {},
   "source": [
    "We here see that maximum is greater than total number of hours in the week. It's time for debugging."
   ]
  },
  {
   "cell_type": "code",
   "execution_count": 58,
   "metadata": {
    "collapsed": false
   },
   "outputs": [
    {
     "name": "stdout",
     "output_type": "stream",
     "text": [
      "Minutes in a week: 10080\n",
      "ID: 108    Minutes: 10568.1   fraction of week: 1.05\n",
      "ID: 460    Minutes: 7482.94   fraction of week: 0.74\n",
      "ID: 140    Minutes: 7263.99   fraction of week: 0.72\n",
      "ID: 78    Minutes: 7229.79   fraction of week: 0.72\n",
      "ID: 412    Minutes: 6882.98   fraction of week: 0.68\n",
      "ID: 142    Minutes: 6709.42   fraction of week: 0.67\n",
      "ID: 366    Minutes: 6284.62   fraction of week: 0.62\n",
      "ID: 191    Minutes: 6027.85   fraction of week: 0.6\n",
      "ID: 74    Minutes: 5879.23   fraction of week: 0.58\n",
      "ID: 558    Minutes: 5822.26   fraction of week: 0.58\n"
     ]
    }
   ],
   "source": [
    "#Quiz: Debugging Data Analysis Code: identifying troublesome records\n",
    "\n",
    "import operator\n",
    "\n",
    "sorted_total = sorted(total_minutes_by_account.items(), key=operator.itemgetter(1),reverse=True)\n",
    "\n",
    "minutes_in_week = 60*24*7\n",
    "print('Minutes in a week: {0}'.format(minutes_in_week))\n",
    "\n",
    "for i in sorted_total[0:10]:\n",
    "    print('ID: {0}    Minutes: {1}   fraction of week: {2}'.format(i[0],round(i[1],2),round((i[1]/minutes_in_week),2)))\n",
    "    "
   ]
  },
  {
   "cell_type": "code",
   "execution_count": 59,
   "metadata": {
    "collapsed": false
   },
   "outputs": [
    {
     "name": "stdout",
     "output_type": "stream",
     "text": [
      "{'lessons_completed': 0, 'account_key': '108', 'projects_completed': 0, 'num_courses_visited': 1, 'utc_date': datetime.datetime(2015, 1, 7, 0, 0), 'total_minutes_visited': 50.9938951667}\n",
      "{'lessons_completed': 5, 'account_key': '108', 'projects_completed': 0, 'num_courses_visited': 2, 'utc_date': datetime.datetime(2015, 1, 8, 0, 0), 'total_minutes_visited': 688.3034385}\n",
      "{'lessons_completed': 1, 'account_key': '108', 'projects_completed': 0, 'num_courses_visited': 2, 'utc_date': datetime.datetime(2015, 1, 9, 0, 0), 'total_minutes_visited': 427.691757667}\n",
      "{'lessons_completed': 0, 'account_key': '108', 'projects_completed': 0, 'num_courses_visited': 3, 'utc_date': datetime.datetime(2015, 1, 10, 0, 0), 'total_minutes_visited': 165.6270925}\n",
      "{'lessons_completed': 0, 'account_key': '108', 'projects_completed': 0, 'num_courses_visited': 0, 'utc_date': datetime.datetime(2015, 1, 11, 0, 0), 'total_minutes_visited': 0.0}\n",
      "{'lessons_completed': 0, 'account_key': '108', 'projects_completed': 0, 'num_courses_visited': 2, 'utc_date': datetime.datetime(2015, 1, 12, 0, 0), 'total_minutes_visited': 199.746703834}\n",
      "{'lessons_completed': 0, 'account_key': '108', 'projects_completed': 0, 'num_courses_visited': 1, 'utc_date': datetime.datetime(2015, 1, 13, 0, 0), 'total_minutes_visited': 522.626804333}\n",
      "{'lessons_completed': 0, 'account_key': '108', 'projects_completed': 0, 'num_courses_visited': 1, 'utc_date': datetime.datetime(2015, 1, 14, 0, 0), 'total_minutes_visited': 19.3757686667}\n",
      "{'lessons_completed': 1, 'account_key': '108', 'projects_completed': 0, 'num_courses_visited': 1, 'utc_date': datetime.datetime(2015, 1, 15, 0, 0), 'total_minutes_visited': 159.846594}\n",
      "{'lessons_completed': 0, 'account_key': '108', 'projects_completed': 0, 'num_courses_visited': 2, 'utc_date': datetime.datetime(2015, 1, 16, 0, 0), 'total_minutes_visited': 188.953028166}\n",
      "{'lessons_completed': 1, 'account_key': '108', 'projects_completed': 0, 'num_courses_visited': 3, 'utc_date': datetime.datetime(2015, 1, 17, 0, 0), 'total_minutes_visited': 150.338208833}\n",
      "{'lessons_completed': 0, 'account_key': '108', 'projects_completed': 0, 'num_courses_visited': 2, 'utc_date': datetime.datetime(2015, 1, 18, 0, 0), 'total_minutes_visited': 46.2042118333}\n",
      "{'lessons_completed': 0, 'account_key': '108', 'projects_completed': 0, 'num_courses_visited': 0, 'utc_date': datetime.datetime(2015, 1, 19, 0, 0), 'total_minutes_visited': 0.0}\n",
      "{'lessons_completed': 0, 'account_key': '108', 'projects_completed': 0, 'num_courses_visited': 0, 'utc_date': datetime.datetime(2015, 1, 20, 0, 0), 'total_minutes_visited': 0.0}\n",
      "{'lessons_completed': 0, 'account_key': '108', 'projects_completed': 0, 'num_courses_visited': 0, 'utc_date': datetime.datetime(2015, 1, 21, 0, 0), 'total_minutes_visited': 0.0}\n",
      "{'lessons_completed': 0, 'account_key': '108', 'projects_completed': 0, 'num_courses_visited': 2, 'utc_date': datetime.datetime(2015, 1, 22, 0, 0), 'total_minutes_visited': 31.7297723333}\n",
      "{'lessons_completed': 0, 'account_key': '108', 'projects_completed': 0, 'num_courses_visited': 1, 'utc_date': datetime.datetime(2015, 1, 23, 0, 0), 'total_minutes_visited': 206.586538333}\n",
      "{'lessons_completed': 0, 'account_key': '108', 'projects_completed': 0, 'num_courses_visited': 0, 'utc_date': datetime.datetime(2015, 1, 24, 0, 0), 'total_minutes_visited': 0.0}\n",
      "{'lessons_completed': 0, 'account_key': '108', 'projects_completed': 0, 'num_courses_visited': 0, 'utc_date': datetime.datetime(2015, 1, 25, 0, 0), 'total_minutes_visited': 0.0}\n",
      "{'lessons_completed': 0, 'account_key': '108', 'projects_completed': 0, 'num_courses_visited': 1, 'utc_date': datetime.datetime(2015, 1, 26, 0, 0), 'total_minutes_visited': 129.350111833}\n",
      "{'lessons_completed': 0, 'account_key': '108', 'projects_completed': 0, 'num_courses_visited': 1, 'utc_date': datetime.datetime(2015, 1, 27, 0, 0), 'total_minutes_visited': 73.5691376667}\n",
      "{'lessons_completed': 0, 'account_key': '108', 'projects_completed': 0, 'num_courses_visited': 0, 'utc_date': datetime.datetime(2015, 1, 28, 0, 0), 'total_minutes_visited': 0.0}\n",
      "{'lessons_completed': 0, 'account_key': '108', 'projects_completed': 0, 'num_courses_visited': 1, 'utc_date': datetime.datetime(2015, 1, 29, 0, 0), 'total_minutes_visited': 271.0895865}\n",
      "{'lessons_completed': 1, 'account_key': '108', 'projects_completed': 0, 'num_courses_visited': 1, 'utc_date': datetime.datetime(2015, 1, 30, 0, 0), 'total_minutes_visited': 432.252650333}\n",
      "{'lessons_completed': 0, 'account_key': '108', 'projects_completed': 0, 'num_courses_visited': 1, 'utc_date': datetime.datetime(2015, 1, 31, 0, 0), 'total_minutes_visited': 196.13898}\n",
      "{'lessons_completed': 0, 'account_key': '108', 'projects_completed': 0, 'num_courses_visited': 1, 'utc_date': datetime.datetime(2015, 2, 1, 0, 0), 'total_minutes_visited': 68.9915653333}\n",
      "{'lessons_completed': 0, 'account_key': '108', 'projects_completed': 0, 'num_courses_visited': 2, 'utc_date': datetime.datetime(2015, 2, 2, 0, 0), 'total_minutes_visited': 86.3277713333}\n",
      "{'lessons_completed': 0, 'account_key': '108', 'projects_completed': 0, 'num_courses_visited': 0, 'utc_date': datetime.datetime(2015, 2, 3, 0, 0), 'total_minutes_visited': 0.0}\n",
      "{'lessons_completed': 0, 'account_key': '108', 'projects_completed': 0, 'num_courses_visited': 0, 'utc_date': datetime.datetime(2015, 2, 4, 0, 0), 'total_minutes_visited': 0.0}\n",
      "{'lessons_completed': 0, 'account_key': '108', 'projects_completed': 0, 'num_courses_visited': 1, 'utc_date': datetime.datetime(2015, 2, 5, 0, 0), 'total_minutes_visited': 153.230525}\n",
      "{'lessons_completed': 0, 'account_key': '108', 'projects_completed': 0, 'num_courses_visited': 0, 'utc_date': datetime.datetime(2015, 2, 6, 0, 0), 'total_minutes_visited': 0.0}\n",
      "{'lessons_completed': 0, 'account_key': '108', 'projects_completed': 0, 'num_courses_visited': 0, 'utc_date': datetime.datetime(2015, 2, 7, 0, 0), 'total_minutes_visited': 0.0}\n",
      "{'lessons_completed': 0, 'account_key': '108', 'projects_completed': 0, 'num_courses_visited': 0, 'utc_date': datetime.datetime(2015, 2, 8, 0, 0), 'total_minutes_visited': 0.0}\n",
      "{'lessons_completed': 0, 'account_key': '108', 'projects_completed': 0, 'num_courses_visited': 1, 'utc_date': datetime.datetime(2015, 2, 9, 0, 0), 'total_minutes_visited': 16.687455}\n",
      "{'lessons_completed': 0, 'account_key': '108', 'projects_completed': 0, 'num_courses_visited': 1, 'utc_date': datetime.datetime(2015, 2, 10, 0, 0), 'total_minutes_visited': 133.047518833}\n",
      "{'lessons_completed': 0, 'account_key': '108', 'projects_completed': 0, 'num_courses_visited': 2, 'utc_date': datetime.datetime(2015, 2, 11, 0, 0), 'total_minutes_visited': 60.2176756667}\n",
      "{'lessons_completed': 0, 'account_key': '108', 'projects_completed': 0, 'num_courses_visited': 3, 'utc_date': datetime.datetime(2015, 2, 12, 0, 0), 'total_minutes_visited': 160.438302667}\n",
      "{'lessons_completed': 4, 'account_key': '108', 'projects_completed': 0, 'num_courses_visited': 2, 'utc_date': datetime.datetime(2015, 2, 13, 0, 0), 'total_minutes_visited': 506.220547}\n",
      "{'lessons_completed': 0, 'account_key': '108', 'projects_completed': 0, 'num_courses_visited': 1, 'utc_date': datetime.datetime(2015, 2, 14, 0, 0), 'total_minutes_visited': 105.095858167}\n",
      "{'lessons_completed': 0, 'account_key': '108', 'projects_completed': 0, 'num_courses_visited': 0, 'utc_date': datetime.datetime(2015, 2, 15, 0, 0), 'total_minutes_visited': 0.0}\n",
      "{'lessons_completed': 0, 'account_key': '108', 'projects_completed': 0, 'num_courses_visited': 0, 'utc_date': datetime.datetime(2015, 2, 16, 0, 0), 'total_minutes_visited': 0.0}\n",
      "{'lessons_completed': 0, 'account_key': '108', 'projects_completed': 0, 'num_courses_visited': 1, 'utc_date': datetime.datetime(2015, 2, 17, 0, 0), 'total_minutes_visited': 2.851689}\n",
      "{'lessons_completed': 1, 'account_key': '108', 'projects_completed': 0, 'num_courses_visited': 1, 'utc_date': datetime.datetime(2015, 2, 18, 0, 0), 'total_minutes_visited': 10.9540768333}\n",
      "{'lessons_completed': 3, 'account_key': '108', 'projects_completed': 0, 'num_courses_visited': 1, 'utc_date': datetime.datetime(2015, 2, 19, 0, 0), 'total_minutes_visited': 474.2906025}\n",
      "{'lessons_completed': 5, 'account_key': '108', 'projects_completed': 0, 'num_courses_visited': 2, 'utc_date': datetime.datetime(2015, 2, 20, 0, 0), 'total_minutes_visited': 820.879483167}\n",
      "{'lessons_completed': 2, 'account_key': '108', 'projects_completed': 0, 'num_courses_visited': 2, 'utc_date': datetime.datetime(2015, 2, 21, 0, 0), 'total_minutes_visited': 189.447189334}\n",
      "{'lessons_completed': 1, 'account_key': '108', 'projects_completed': 0, 'num_courses_visited': 2, 'utc_date': datetime.datetime(2015, 2, 22, 0, 0), 'total_minutes_visited': 97.7356985}\n",
      "{'lessons_completed': 0, 'account_key': '108', 'projects_completed': 0, 'num_courses_visited': 1, 'utc_date': datetime.datetime(2015, 2, 23, 0, 0), 'total_minutes_visited': 16.399642}\n",
      "{'lessons_completed': 0, 'account_key': '108', 'projects_completed': 0, 'num_courses_visited': 0, 'utc_date': datetime.datetime(2015, 2, 24, 0, 0), 'total_minutes_visited': 0.0}\n",
      "{'lessons_completed': 0, 'account_key': '108', 'projects_completed': 0, 'num_courses_visited': 0, 'utc_date': datetime.datetime(2015, 2, 25, 0, 0), 'total_minutes_visited': 0.0}\n",
      "{'lessons_completed': 0, 'account_key': '108', 'projects_completed': 0, 'num_courses_visited': 0, 'utc_date': datetime.datetime(2015, 2, 26, 0, 0), 'total_minutes_visited': 0.0}\n",
      "{'lessons_completed': 0, 'account_key': '108', 'projects_completed': 0, 'num_courses_visited': 0, 'utc_date': datetime.datetime(2015, 2, 27, 0, 0), 'total_minutes_visited': 0.0}\n",
      "{'lessons_completed': 0, 'account_key': '108', 'projects_completed': 0, 'num_courses_visited': 0, 'utc_date': datetime.datetime(2015, 2, 28, 0, 0), 'total_minutes_visited': 0.0}\n",
      "{'lessons_completed': 0, 'account_key': '108', 'projects_completed': 0, 'num_courses_visited': 0, 'utc_date': datetime.datetime(2015, 3, 1, 0, 0), 'total_minutes_visited': 0.0}\n",
      "{'lessons_completed': 0, 'account_key': '108', 'projects_completed': 0, 'num_courses_visited': 0, 'utc_date': datetime.datetime(2015, 3, 2, 0, 0), 'total_minutes_visited': 0.0}\n",
      "{'lessons_completed': 0, 'account_key': '108', 'projects_completed': 0, 'num_courses_visited': 0, 'utc_date': datetime.datetime(2015, 3, 3, 0, 0), 'total_minutes_visited': 0.0}\n",
      "{'lessons_completed': 0, 'account_key': '108', 'projects_completed': 0, 'num_courses_visited': 1, 'utc_date': datetime.datetime(2015, 3, 4, 0, 0), 'total_minutes_visited': 2.0494365}\n",
      "{'lessons_completed': 0, 'account_key': '108', 'projects_completed': 0, 'num_courses_visited': 0, 'utc_date': datetime.datetime(2015, 3, 5, 0, 0), 'total_minutes_visited': 0.0}\n",
      "{'lessons_completed': 2, 'account_key': '108', 'projects_completed': 0, 'num_courses_visited': 2, 'utc_date': datetime.datetime(2015, 3, 6, 0, 0), 'total_minutes_visited': 431.799976167}\n",
      "{'lessons_completed': 1, 'account_key': '108', 'projects_completed': 0, 'num_courses_visited': 1, 'utc_date': datetime.datetime(2015, 3, 7, 0, 0), 'total_minutes_visited': 119.514411833}\n",
      "{'lessons_completed': 1, 'account_key': '108', 'projects_completed': 0, 'num_courses_visited': 1, 'utc_date': datetime.datetime(2015, 3, 8, 0, 0), 'total_minutes_visited': 164.2608825}\n",
      "{'lessons_completed': 0, 'account_key': '108', 'projects_completed': 0, 'num_courses_visited': 2, 'utc_date': datetime.datetime(2015, 3, 9, 0, 0), 'total_minutes_visited': 179.749760666}\n",
      "{'lessons_completed': 0, 'account_key': '108', 'projects_completed': 0, 'num_courses_visited': 0, 'utc_date': datetime.datetime(2015, 3, 10, 0, 0), 'total_minutes_visited': 0.0}\n",
      "{'lessons_completed': 0, 'account_key': '108', 'projects_completed': 0, 'num_courses_visited': 0, 'utc_date': datetime.datetime(2015, 3, 11, 0, 0), 'total_minutes_visited': 0.0}\n",
      "{'lessons_completed': 0, 'account_key': '108', 'projects_completed': 0, 'num_courses_visited': 1, 'utc_date': datetime.datetime(2015, 3, 12, 0, 0), 'total_minutes_visited': 10.787165}\n",
      "{'lessons_completed': 0, 'account_key': '108', 'projects_completed': 0, 'num_courses_visited': 1, 'utc_date': datetime.datetime(2015, 3, 13, 0, 0), 'total_minutes_visited': 53.0065191667}\n",
      "{'lessons_completed': 1, 'account_key': '108', 'projects_completed': 0, 'num_courses_visited': 1, 'utc_date': datetime.datetime(2015, 3, 14, 0, 0), 'total_minutes_visited': 203.048973667}\n",
      "{'lessons_completed': 0, 'account_key': '108', 'projects_completed': 0, 'num_courses_visited': 1, 'utc_date': datetime.datetime(2015, 3, 15, 0, 0), 'total_minutes_visited': 51.2993831667}\n",
      "{'lessons_completed': 0, 'account_key': '108', 'projects_completed': 0, 'num_courses_visited': 0, 'utc_date': datetime.datetime(2015, 3, 16, 0, 0), 'total_minutes_visited': 0.0}\n",
      "{'lessons_completed': 0, 'account_key': '108', 'projects_completed': 0, 'num_courses_visited': 1, 'utc_date': datetime.datetime(2015, 3, 17, 0, 0), 'total_minutes_visited': 148.2304025}\n",
      "{'lessons_completed': 0, 'account_key': '108', 'projects_completed': 0, 'num_courses_visited': 1, 'utc_date': datetime.datetime(2015, 3, 18, 0, 0), 'total_minutes_visited': 27.5826056667}\n",
      "{'lessons_completed': 0, 'account_key': '108', 'projects_completed': 0, 'num_courses_visited': 0, 'utc_date': datetime.datetime(2015, 3, 19, 0, 0), 'total_minutes_visited': 0.0}\n",
      "{'lessons_completed': 0, 'account_key': '108', 'projects_completed': 0, 'num_courses_visited': 0, 'utc_date': datetime.datetime(2015, 3, 20, 0, 0), 'total_minutes_visited': 0.0}\n",
      "{'lessons_completed': 0, 'account_key': '108', 'projects_completed': 0, 'num_courses_visited': 1, 'utc_date': datetime.datetime(2015, 3, 21, 0, 0), 'total_minutes_visited': 14.4492643333}\n",
      "{'lessons_completed': 1, 'account_key': '108', 'projects_completed': 0, 'num_courses_visited': 1, 'utc_date': datetime.datetime(2015, 3, 22, 0, 0), 'total_minutes_visited': 159.175812667}\n",
      "{'lessons_completed': 0, 'account_key': '108', 'projects_completed': 0, 'num_courses_visited': 1, 'utc_date': datetime.datetime(2015, 3, 23, 0, 0), 'total_minutes_visited': 23.0641448333}\n",
      "{'lessons_completed': 3, 'account_key': '108', 'projects_completed': 1, 'num_courses_visited': 2, 'utc_date': datetime.datetime(2015, 3, 24, 0, 0), 'total_minutes_visited': 327.687187333}\n",
      "{'lessons_completed': 5, 'account_key': '108', 'projects_completed': 0, 'num_courses_visited': 1, 'utc_date': datetime.datetime(2015, 3, 25, 0, 0), 'total_minutes_visited': 210.324669}\n",
      "{'lessons_completed': 0, 'account_key': '108', 'projects_completed': 0, 'num_courses_visited': 2, 'utc_date': datetime.datetime(2015, 3, 26, 0, 0), 'total_minutes_visited': 114.421496}\n",
      "{'lessons_completed': 0, 'account_key': '108', 'projects_completed': 0, 'num_courses_visited': 1, 'utc_date': datetime.datetime(2015, 3, 27, 0, 0), 'total_minutes_visited': 85.2018686667}\n",
      "{'lessons_completed': 0, 'account_key': '108', 'projects_completed': 0, 'num_courses_visited': 1, 'utc_date': datetime.datetime(2015, 3, 28, 0, 0), 'total_minutes_visited': 9.53501516667}\n",
      "{'lessons_completed': 0, 'account_key': '108', 'projects_completed': 0, 'num_courses_visited': 0, 'utc_date': datetime.datetime(2015, 3, 29, 0, 0), 'total_minutes_visited': 0.0}\n",
      "{'lessons_completed': 0, 'account_key': '108', 'projects_completed': 0, 'num_courses_visited': 0, 'utc_date': datetime.datetime(2015, 3, 30, 0, 0), 'total_minutes_visited': 0.0}\n",
      "{'lessons_completed': 0, 'account_key': '108', 'projects_completed': 0, 'num_courses_visited': 0, 'utc_date': datetime.datetime(2015, 3, 31, 0, 0), 'total_minutes_visited': 0.0}\n",
      "{'lessons_completed': 0, 'account_key': '108', 'projects_completed': 0, 'num_courses_visited': 3, 'utc_date': datetime.datetime(2015, 4, 1, 0, 0), 'total_minutes_visited': 147.569145833}\n",
      "{'lessons_completed': 0, 'account_key': '108', 'projects_completed': 0, 'num_courses_visited': 3, 'utc_date': datetime.datetime(2015, 4, 2, 0, 0), 'total_minutes_visited': 77.2467501667}\n",
      "{'lessons_completed': 0, 'account_key': '108', 'projects_completed': 0, 'num_courses_visited': 3, 'utc_date': datetime.datetime(2015, 4, 3, 0, 0), 'total_minutes_visited': 84.8263243333}\n",
      "{'lessons_completed': 0, 'account_key': '108', 'projects_completed': 0, 'num_courses_visited': 0, 'utc_date': datetime.datetime(2015, 4, 4, 0, 0), 'total_minutes_visited': 0.0}\n",
      "{'lessons_completed': 0, 'account_key': '108', 'projects_completed': 0, 'num_courses_visited': 0, 'utc_date': datetime.datetime(2015, 4, 5, 0, 0), 'total_minutes_visited': 0.0}\n",
      "{'lessons_completed': 0, 'account_key': '108', 'projects_completed': 0, 'num_courses_visited': 2, 'utc_date': datetime.datetime(2015, 4, 6, 0, 0), 'total_minutes_visited': 32.9969003333}\n",
      "{'lessons_completed': 0, 'account_key': '108', 'projects_completed': 0, 'num_courses_visited': 1, 'utc_date': datetime.datetime(2015, 4, 7, 0, 0), 'total_minutes_visited': 173.764699333}\n",
      "{'lessons_completed': 0, 'account_key': '108', 'projects_completed': 0, 'num_courses_visited': 0, 'utc_date': datetime.datetime(2015, 4, 8, 0, 0), 'total_minutes_visited': 0.0}\n",
      "{'lessons_completed': 0, 'account_key': '108', 'projects_completed': 0, 'num_courses_visited': 1, 'utc_date': datetime.datetime(2015, 4, 9, 0, 0), 'total_minutes_visited': 85.6887951667}\n",
      "{'lessons_completed': 0, 'account_key': '108', 'projects_completed': 0, 'num_courses_visited': 2, 'utc_date': datetime.datetime(2015, 4, 10, 0, 0), 'total_minutes_visited': 72.4837255}\n",
      "{'lessons_completed': 0, 'account_key': '108', 'projects_completed': 0, 'num_courses_visited': 0, 'utc_date': datetime.datetime(2015, 4, 11, 0, 0), 'total_minutes_visited': 0.0}\n",
      "{'lessons_completed': 0, 'account_key': '108', 'projects_completed': 0, 'num_courses_visited': 0, 'utc_date': datetime.datetime(2015, 4, 12, 0, 0), 'total_minutes_visited': 0.0}\n",
      "{'lessons_completed': 0, 'account_key': '108', 'projects_completed': 0, 'num_courses_visited': 0, 'utc_date': datetime.datetime(2015, 4, 13, 0, 0), 'total_minutes_visited': 0.0}\n",
      "{'lessons_completed': 0, 'account_key': '108', 'projects_completed': 0, 'num_courses_visited': 1, 'utc_date': datetime.datetime(2015, 4, 14, 0, 0), 'total_minutes_visited': 36.9211676667}\n",
      "{'lessons_completed': 1, 'account_key': '108', 'projects_completed': 0, 'num_courses_visited': 2, 'utc_date': datetime.datetime(2015, 4, 15, 0, 0), 'total_minutes_visited': 179.353473333}\n",
      "{'lessons_completed': 0, 'account_key': '108', 'projects_completed': 0, 'num_courses_visited': 2, 'utc_date': datetime.datetime(2015, 4, 16, 0, 0), 'total_minutes_visited': 274.209734167}\n",
      "{'lessons_completed': 0, 'account_key': '108', 'projects_completed': 0, 'num_courses_visited': 1, 'utc_date': datetime.datetime(2015, 4, 17, 0, 0), 'total_minutes_visited': 40.340405}\n",
      "{'lessons_completed': 0, 'account_key': '108', 'projects_completed': 0, 'num_courses_visited': 0, 'utc_date': datetime.datetime(2015, 4, 18, 0, 0), 'total_minutes_visited': 0.0}\n",
      "{'lessons_completed': 0, 'account_key': '108', 'projects_completed': 0, 'num_courses_visited': 0, 'utc_date': datetime.datetime(2015, 4, 19, 0, 0), 'total_minutes_visited': 0.0}\n",
      "{'lessons_completed': 0, 'account_key': '108', 'projects_completed': 0, 'num_courses_visited': 2, 'utc_date': datetime.datetime(2015, 4, 20, 0, 0), 'total_minutes_visited': 25.9137858334}\n",
      "{'lessons_completed': 0, 'account_key': '108', 'projects_completed': 0, 'num_courses_visited': 1, 'utc_date': datetime.datetime(2015, 4, 21, 0, 0), 'total_minutes_visited': 3.40682316667}\n",
      "{'lessons_completed': 0, 'account_key': '108', 'projects_completed': 0, 'num_courses_visited': 2, 'utc_date': datetime.datetime(2015, 4, 22, 0, 0), 'total_minutes_visited': 99.1186611667}\n",
      "{'lessons_completed': 0, 'account_key': '108', 'projects_completed': 2, 'num_courses_visited': 1, 'utc_date': datetime.datetime(2015, 4, 23, 0, 0), 'total_minutes_visited': 35.8316206667}\n",
      "{'lessons_completed': 0, 'account_key': '108', 'projects_completed': 0, 'num_courses_visited': 0, 'utc_date': datetime.datetime(2015, 4, 24, 0, 0), 'total_minutes_visited': 0.0}\n",
      "{'lessons_completed': 0, 'account_key': '108', 'projects_completed': 0, 'num_courses_visited': 0, 'utc_date': datetime.datetime(2015, 4, 25, 0, 0), 'total_minutes_visited': 0.0}\n",
      "{'lessons_completed': 0, 'account_key': '108', 'projects_completed': 0, 'num_courses_visited': 0, 'utc_date': datetime.datetime(2015, 4, 26, 0, 0), 'total_minutes_visited': 0.0}\n",
      "count of first week engagement for account key 108: 110\n"
     ]
    }
   ],
   "source": [
    "#Quiz: Debugging Data Analysis Code: looking at engagement records for 108\n",
    "\n",
    "#printing records of suspicious data point (minutes spent exceeds available minutes)\n",
    "count = 0\n",
    "for record in paid_engagement_first_week:\n",
    "    if record['account_key'] == '108':\n",
    "        count += 1\n",
    "        print(record)\n",
    "        \n",
    "print('count of first week engagement for account key 108:',count)"
   ]
  },
  {
   "cell_type": "markdown",
   "metadata": {},
   "source": [
    "We see that the dates are not within one week of eachother. It's time to dig deeper."
   ]
  },
  {
   "cell_type": "code",
   "execution_count": null,
   "metadata": {
    "collapsed": true
   },
   "outputs": [],
   "source": []
  }
 ],
 "metadata": {
  "kernelspec": {
   "display_name": "Python 3",
   "language": "python",
   "name": "python3"
  },
  "language_info": {
   "codemirror_mode": {
    "name": "ipython",
    "version": 3
   },
   "file_extension": ".py",
   "mimetype": "text/x-python",
   "name": "python",
   "nbconvert_exporter": "python",
   "pygments_lexer": "ipython3",
   "version": "3.5.2"
  }
 },
 "nbformat": 4,
 "nbformat_minor": 0
}
