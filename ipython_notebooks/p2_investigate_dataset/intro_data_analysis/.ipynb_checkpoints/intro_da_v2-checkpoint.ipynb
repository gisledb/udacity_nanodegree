{
 "cells": [
  {
   "cell_type": "code",
   "execution_count": 53,
   "metadata": {
    "collapsed": false
   },
   "outputs": [
    {
     "name": "stdout",
     "output_type": "stream",
     "text": [
      "{'is_canceled': 'True', 'account_key': '448', 'join_date': '2014-11-10', 'days_to_cancel': '65', 'is_udacity': 'True', 'cancel_date': '2015-01-14', 'status': 'canceled'}\n",
      "{'projects_completed': '0.0', 'num_courses_visited': '1.0', 'acct': '0', 'utc_date': '2015-01-09', 'total_minutes_visited': '11.6793745', 'lessons_completed': '0.0'}\n",
      "{'creation_date': '2015-01-14', 'lesson_key': '3176718735', 'account_key': '256', 'processing_state': 'EVALUATED', 'completion_date': '2015-01-16', 'assigned_rating': 'UNGRADED'}\n"
     ]
    }
   ],
   "source": [
    "#CSVs in Python\n",
    "#write as function\n",
    "import unicodecsv\n",
    "\n",
    "def read_csv(filename):\n",
    "    with open(filename, 'rb') as f:\n",
    "        reader = unicodecsv.DictReader(f)\n",
    "        return list(reader)\n",
    "\n",
    "enrollments = read_csv('enrollments.csv')\n",
    "daily_engagement = read_csv('daily_engagement.csv')\n",
    "project_submissions = read_csv('project_submissions.csv')\n",
    "\n",
    "print(enrollments[0])\n",
    "print(daily_engagement[0])\n",
    "print(project_submissions[0])"
   ]
  },
  {
   "cell_type": "code",
   "execution_count": 54,
   "metadata": {
    "collapsed": false
   },
   "outputs": [],
   "source": [
    "#Fixing data types\n",
    "#taken from L1_Starter_code\n",
    "from datetime import datetime as dt\n",
    "\n",
    "# Takes a date as a string, and returns a Python datetime object. \n",
    "# If there is no date given, returns None\n",
    "def parse_date(date):\n",
    "    if date == '':\n",
    "        return None\n",
    "    else:\n",
    "        return dt.strptime(date, '%Y-%m-%d')\n",
    "    \n",
    "# Takes a string which is either an empty string or represents an integer,\n",
    "# and returns an int or None.\n",
    "def parse_maybe_int(i):\n",
    "    if i == '':\n",
    "        return None\n",
    "    else:\n",
    "        return int(i)"
   ]
  },
  {
   "cell_type": "code",
   "execution_count": 55,
   "metadata": {
    "collapsed": false
   },
   "outputs": [
    {
     "data": {
      "text/plain": [
       "{'account_key': '448',\n",
       " 'cancel_date': datetime.datetime(2015, 1, 14, 0, 0),\n",
       " 'days_to_cancel': 65,\n",
       " 'is_canceled': True,\n",
       " 'is_udacity': True,\n",
       " 'join_date': datetime.datetime(2014, 11, 10, 0, 0),\n",
       " 'status': 'canceled'}"
      ]
     },
     "execution_count": 55,
     "metadata": {},
     "output_type": "execute_result"
    }
   ],
   "source": [
    "# Clean up the data types in the enrollments table\n",
    "for enrollment in enrollments:\n",
    "    enrollment['cancel_date'] = parse_date(enrollment['cancel_date'])\n",
    "    enrollment['days_to_cancel'] = parse_maybe_int(enrollment['days_to_cancel'])\n",
    "    enrollment['is_canceled'] = enrollment['is_canceled'] == 'True'\n",
    "    enrollment['is_udacity'] = enrollment['is_udacity'] == 'True'\n",
    "    enrollment['join_date'] = parse_date(enrollment['join_date'])\n",
    "    \n",
    "enrollments[0]"
   ]
  },
  {
   "cell_type": "code",
   "execution_count": 56,
   "metadata": {
    "collapsed": false
   },
   "outputs": [
    {
     "data": {
      "text/plain": [
       "{'acct': '0',\n",
       " 'lessons_completed': 0,\n",
       " 'num_courses_visited': 1,\n",
       " 'projects_completed': 0,\n",
       " 'total_minutes_visited': 11.6793745,\n",
       " 'utc_date': datetime.datetime(2015, 1, 9, 0, 0)}"
      ]
     },
     "execution_count": 56,
     "metadata": {},
     "output_type": "execute_result"
    }
   ],
   "source": [
    "# Clean up the data types in the engagement table\n",
    "for engagement_record in daily_engagement:\n",
    "    engagement_record['lessons_completed'] = int(float(engagement_record['lessons_completed']))\n",
    "    engagement_record['num_courses_visited'] = int(float(engagement_record['num_courses_visited']))\n",
    "    engagement_record['projects_completed'] = int(float(engagement_record['projects_completed']))\n",
    "    engagement_record['total_minutes_visited'] = float(engagement_record['total_minutes_visited'])\n",
    "    engagement_record['utc_date'] = parse_date(engagement_record['utc_date'])\n",
    "    \n",
    "daily_engagement[0]"
   ]
  },
  {
   "cell_type": "code",
   "execution_count": 57,
   "metadata": {
    "collapsed": false
   },
   "outputs": [
    {
     "data": {
      "text/plain": [
       "{'account_key': '256',\n",
       " 'assigned_rating': 'UNGRADED',\n",
       " 'completion_date': datetime.datetime(2015, 1, 16, 0, 0),\n",
       " 'creation_date': datetime.datetime(2015, 1, 14, 0, 0),\n",
       " 'lesson_key': '3176718735',\n",
       " 'processing_state': 'EVALUATED'}"
      ]
     },
     "execution_count": 57,
     "metadata": {},
     "output_type": "execute_result"
    }
   ],
   "source": [
    "# Clean up the data types in the submissions table\n",
    "for submission in project_submissions:\n",
    "    submission['completion_date'] = parse_date(submission['completion_date'])\n",
    "    submission['creation_date'] = parse_date(submission['creation_date'])\n",
    "\n",
    "project_submissions[0]"
   ]
  },
  {
   "cell_type": "markdown",
   "metadata": {},
   "source": [
    "__Quiz: Questions about Student...__\n",
    "Questions to answer during analysis\n",
    "1. Does time of day for enrollment affect count or frequency of project submissions?\n",
    "2. Is there a point of daily engagement which noticeably increases or decreases count of project submissions?\n",
    "3. What is the average lessons completed per project submission?\n",
    "4. Of students who have submitted at least 1 project, what is the average number of project submissions within 6 months of enrolling?\n",
    "5. Looking only at students enrolled for at least 3 months, how many have submitted at least 1 project?\n",
    "6. On average, how long does it take to complete 6 projects?"
   ]
  },
  {
   "cell_type": "code",
   "execution_count": 58,
   "metadata": {
    "collapsed": false
   },
   "outputs": [
    {
     "name": "stdout",
     "output_type": "stream",
     "text": [
      "Enrollment count: 1640, projects count: 136240, engagement count: 3642\n",
      "Unique enrollments: 1640, Users with project submissions: 136240, users with some daily activity: 3642\n"
     ]
    }
   ],
   "source": [
    "#Quiz: Investigating the data: counts unique\n",
    "def unique_acc(table,col):\n",
    "    accounts = []\n",
    "    for account in table:\n",
    "        if account[col] not in accounts:\n",
    "            accounts.append(account[col])\n",
    "    return len(accounts)\n",
    "\n",
    "enrollment_num_rows = len(enrollments)            \n",
    "enrollment_num_unique_students = unique_acc(enrollments,'account_key')  \n",
    "\n",
    "engagement_num_rows = len(daily_engagement)             \n",
    "engagement_num_unique_students = unique_acc(daily_engagement,'acct')  \n",
    "\n",
    "submission_num_rows = len(project_submissions)             \n",
    "submission_num_unique_students = unique_acc(project_submissions,'account_key')  \n",
    "\n",
    "print('Enrollment count: {0}, projects count: {1}, engagement count: {2}'.format(\n",
    "enrollment_num_rows,engagement_num_rows,submission_num_rows))\n",
    "\n",
    "print('Unique enrollments: {0}, Users with project submissions: {1}, \\\n",
    "users with some daily activity: {2}'.format(\n",
    "enrollment_num_rows,engagement_num_rows,submission_num_rows))\n"
   ]
  },
  {
   "cell_type": "code",
   "execution_count": 59,
   "metadata": {
    "collapsed": false
   },
   "outputs": [
    {
     "name": "stdout",
     "output_type": "stream",
     "text": [
      "unique students: 1302\n",
      "unique engaged students: 1237\n",
      "unique project submitters: 743\n"
     ]
    }
   ],
   "source": [
    "##Quiz: Investigating the data: add unique tables\n",
    "def unique_table(table,variable):\n",
    "    tmp_table = set()\n",
    "    for record in table:\n",
    "        tmp_table.add(record[variable])\n",
    "    return tmp_table\n",
    "\n",
    "unique_enrolled_students = unique_table(enrollments,'account_key')\n",
    "unique_engagement_students = unique_table(daily_engagement,'acct')\n",
    "unique_project_submitters = unique_table(project_submissions,'account_key')\n",
    "\n",
    "print('unique students:',len(unique_enrolled_students))\n",
    "print('unique engaged students:',len(unique_engagement_students))\n",
    "print('unique project submitters:',len(unique_project_submitters))"
   ]
  },
  {
   "cell_type": "code",
   "execution_count": 63,
   "metadata": {
    "collapsed": false
   },
   "outputs": [
    {
     "name": "stdout",
     "output_type": "stream",
     "text": [
      "0\n",
      "0\n"
     ]
    }
   ],
   "source": [
    "#Quiz: Problems in the data\n",
    "#Unifying name for account key in all tables (dictionaries)\n",
    "\n",
    "print(daily_engagement[3]['acct'])\n",
    "\n",
    "for rec in daily_engagement:\n",
    "    rec['account_key'] = rec['acct']\n",
    "    del[rec['acct']]\n",
    "\n",
    "print(daily_engagement[3]['account_key'])"
   ]
  },
  {
   "cell_type": "code",
   "execution_count": 73,
   "metadata": {
    "collapsed": false
   },
   "outputs": [
    {
     "name": "stdout",
     "output_type": "stream",
     "text": [
      "['802', '1171', '870', '733', '1086', '997', '1044', '1241', '1101', '727']\n",
      "{'is_canceled': True, 'account_key': '802', 'join_date': datetime.datetime(2015, 1, 8, 0, 0), 'days_to_cancel': 0, 'is_udacity': False, 'cancel_date': datetime.datetime(2015, 1, 8, 0, 0), 'status': 'canceled'}\n",
      "{'is_canceled': True, 'account_key': '1171', 'join_date': datetime.datetime(2015, 1, 7, 0, 0), 'days_to_cancel': 0, 'is_udacity': False, 'cancel_date': datetime.datetime(2015, 1, 7, 0, 0), 'status': 'canceled'}\n",
      "{'is_canceled': True, 'account_key': '870', 'join_date': datetime.datetime(2015, 5, 12, 0, 0), 'days_to_cancel': 0, 'is_udacity': False, 'cancel_date': datetime.datetime(2015, 5, 12, 0, 0), 'status': 'canceled'}\n",
      "{'is_canceled': True, 'account_key': '733', 'join_date': datetime.datetime(2015, 1, 12, 0, 0), 'days_to_cancel': 0, 'is_udacity': False, 'cancel_date': datetime.datetime(2015, 1, 12, 0, 0), 'status': 'canceled'}\n",
      "{'is_canceled': True, 'account_key': '1086', 'join_date': datetime.datetime(2015, 6, 9, 0, 0), 'days_to_cancel': 0, 'is_udacity': False, 'cancel_date': datetime.datetime(2015, 6, 9, 0, 0), 'status': 'canceled'}\n"
     ]
    }
   ],
   "source": [
    "#Quiz: Missing engagement reports: Looking at some missing records\n",
    "\n",
    "missing_enrolled = []\n",
    "\n",
    "for missing in unique_enrolled_students:\n",
    "    if missing not in unique_engagement_students:\n",
    "        missing_enrolled.append(missing)\n",
    "        \n",
    "print(missing_enrolled[0:10])\n",
    "\n",
    "for missing in missing_enrolled[0:5]:\n",
    "    for match in enrollments:\n",
    "        if match['account_key'] == missing:\n",
    "            print(match)"
   ]
  },
  {
   "cell_type": "code",
   "execution_count": 74,
   "metadata": {
    "collapsed": false
   },
   "outputs": [
    {
     "name": "stdout",
     "output_type": "stream",
     "text": [
      "Not canceled: 1\n",
      "Canceled first day: 68\n",
      "Canceled later: 2\n"
     ]
    }
   ],
   "source": [
    "#Quiz: Missing engagement reports: Looking further at cancelations\n",
    "\n",
    "#hypothesis: cancelation on day 0 is not counted as daily engagement\n",
    "#Starting by checking count of missing not canceled \n",
    "#then checking count of canceled not canceled on day 0\n",
    "\n",
    "not_canceled = []\n",
    "days_to_cancel_zero = []\n",
    "canceled_later = []\n",
    "\n",
    "for missing in missing_enrolled:\n",
    "    for match in enrollments:\n",
    "        if match['account_key'] == missing:\n",
    "            if match['is_canceled'] == False:\n",
    "                not_canceled.append(match)\n",
    "            elif match['days_to_cancel'] == 0:\n",
    "                days_to_cancel_zero.append(match)\n",
    "            else:\n",
    "                canceled_later.append(match)\n",
    "\n",
    "print('Not canceled:',len(not_canceled))\n",
    "print('Canceled first day:',len(days_to_cancel_zero))\n",
    "print('Canceled later:',len(canceled_later))"
   ]
  },
  {
   "cell_type": "code",
   "execution_count": 75,
   "metadata": {
    "collapsed": false
   },
   "outputs": [
    {
     "name": "stdout",
     "output_type": "stream",
     "text": [
      "[{'is_canceled': False, 'account_key': '1101', 'join_date': datetime.datetime(2015, 2, 25, 0, 0), 'days_to_cancel': None, 'is_udacity': True, 'cancel_date': None, 'status': 'current'}]\n",
      "[{'is_canceled': True, 'account_key': '1304', 'join_date': datetime.datetime(2015, 1, 10, 0, 0), 'days_to_cancel': 59, 'is_udacity': True, 'cancel_date': datetime.datetime(2015, 3, 10, 0, 0), 'status': 'canceled'}, {'is_canceled': True, 'account_key': '1304', 'join_date': datetime.datetime(2015, 3, 10, 0, 0), 'days_to_cancel': 99, 'is_udacity': True, 'cancel_date': datetime.datetime(2015, 6, 17, 0, 0), 'status': 'canceled'}]\n"
     ]
    }
   ],
   "source": [
    "#Quiz: Missing engagement reports: Looking at non-canceled and later-canceled\n",
    "\n",
    "print(not_canceled)\n",
    "print(canceled_later)"
   ]
  },
  {
   "cell_type": "code",
   "execution_count": 94,
   "metadata": {
    "collapsed": false
   },
   "outputs": [
    {
     "name": "stdout",
     "output_type": "stream",
     "text": [
      "udacity testers missing from engagement: 4\n"
     ]
    }
   ],
   "source": [
    "#Quiz: Missing engagement reports: is_udacity count\n",
    "\n",
    "\n",
    "#checking count of is_udacity missing engagement records\n",
    "enrolled_is_udacity = []\n",
    "\n",
    "for missing in missing_enrolled:\n",
    "    for enrolled in enrollments:\n",
    "        if enrolled['account_key'] == missing:\n",
    "            if enrolled['is_udacity'] == True:\n",
    "                enrolled_is_udacity.append(missing)\n",
    "                \n",
    "print('udacity testers missing from engagement:',len(enrolled_is_udacity))"
   ]
  },
  {
   "cell_type": "code",
   "execution_count": 95,
   "metadata": {
    "collapsed": false
   },
   "outputs": [
    {
     "name": "stdout",
     "output_type": "stream",
     "text": [
      "['1101', '1069', '1304', '1304']\n"
     ]
    }
   ],
   "source": [
    "#Quiz: Missing engagement reports: is_udacity records\n",
    "\n",
    "print(enrolled_is_udacity)\n"
   ]
  },
  {
   "cell_type": "code",
   "execution_count": 100,
   "metadata": {
    "collapsed": false
   },
   "outputs": [
    {
     "name": "stdout",
     "output_type": "stream",
     "text": [
      "{'is_canceled': True, 'account_key': '1304', 'join_date': datetime.datetime(2015, 1, 10, 0, 0), 'days_to_cancel': 59, 'is_udacity': True, 'cancel_date': datetime.datetime(2015, 3, 10, 0, 0), 'status': 'canceled'}\n",
      "{'is_canceled': True, 'account_key': '1304', 'join_date': datetime.datetime(2015, 3, 10, 0, 0), 'days_to_cancel': 99, 'is_udacity': True, 'cancel_date': datetime.datetime(2015, 6, 17, 0, 0), 'status': 'canceled'}\n",
      "{'is_canceled': True, 'account_key': '1069', 'join_date': datetime.datetime(2015, 6, 1, 0, 0), 'days_to_cancel': 0, 'is_udacity': True, 'cancel_date': datetime.datetime(2015, 6, 1, 0, 0), 'status': 'canceled'}\n",
      "{'is_canceled': False, 'account_key': '1101', 'join_date': datetime.datetime(2015, 2, 25, 0, 0), 'days_to_cancel': None, 'is_udacity': True, 'cancel_date': None, 'status': 'current'}\n"
     ]
    }
   ],
   "source": [
    "for record in enrollments:\n",
    "    if record['account_key'] in ('1101', '1069', '1304', '1304'):\n",
    "        print(record)"
   ]
  },
  {
   "cell_type": "code",
   "execution_count": 106,
   "metadata": {
    "collapsed": false
   },
   "outputs": [
    {
     "name": "stdout",
     "output_type": "stream",
     "text": [
      "{'is_canceled': True, 'account_key': '1304', 'join_date': datetime.datetime(2015, 1, 10, 0, 0), 'days_to_cancel': 59, 'is_udacity': True, 'cancel_date': datetime.datetime(2015, 3, 10, 0, 0), 'status': 'canceled'}\n",
      "{'is_canceled': True, 'account_key': '1304', 'join_date': datetime.datetime(2015, 3, 10, 0, 0), 'days_to_cancel': 99, 'is_udacity': True, 'cancel_date': datetime.datetime(2015, 6, 17, 0, 0), 'status': 'canceled'}\n",
      "{'is_canceled': False, 'account_key': '1101', 'join_date': datetime.datetime(2015, 2, 25, 0, 0), 'days_to_cancel': None, 'is_udacity': True, 'cancel_date': None, 'status': 'current'}\n",
      "3\n",
      "{'is_canceled': True, 'account_key': '1304', 'join_date': datetime.datetime(2015, 1, 10, 0, 0), 'days_to_cancel': 59, 'is_udacity': True, 'cancel_date': datetime.datetime(2015, 3, 10, 0, 0), 'status': 'canceled'}\n",
      "{'is_canceled': True, 'account_key': '1304', 'join_date': datetime.datetime(2015, 3, 10, 0, 0), 'days_to_cancel': 99, 'is_udacity': True, 'cancel_date': datetime.datetime(2015, 6, 17, 0, 0), 'status': 'canceled'}\n",
      "{'is_canceled': False, 'account_key': '1101', 'join_date': datetime.datetime(2015, 2, 25, 0, 0), 'days_to_cancel': None, 'is_udacity': True, 'cancel_date': None, 'status': 'current'}\n"
     ]
    }
   ],
   "source": [
    "#Quiz: checking for more problems:\n",
    "#finding number of suspicious records not canceled on day 1 (answer from video)\n",
    "\n",
    "num_problem_students = 0\n",
    "for enrollment in enrollments:\n",
    "    student = enrollment['account_key']\n",
    "    if (student not in unique_engagement_students and \n",
    "            enrollment['join_date'] != enrollment['cancel_date']):\n",
    "        print(enrollment)\n",
    "        num_problem_students += 1\n",
    "        \n",
    "print(num_problem_students)\n",
    "#Suspecting it's the same as Udacity records, I am printing those as well\n",
    "for record in enrollments:\n",
    "    if record['account_key'] in ('1101', '1069', '1304', '1304'):\n",
    "        if record['days_to_cancel'] != 0:\n",
    "            print(record)"
   ]
  },
  {
   "cell_type": "code",
   "execution_count": 107,
   "metadata": {
    "collapsed": false
   },
   "outputs": [
    {
     "name": "stdout",
     "output_type": "stream",
     "text": [
      "6\n"
     ]
    }
   ],
   "source": [
    "#Tracking down remainining problems\n",
    "#Removing udacity accounts from data (inspired by video)\n",
    "udacity_test_accounts = set()\n",
    "\n",
    "for tester in enrollments:\n",
    "    if tester['is_udacity'] == True:\n",
    "        udacity_test_accounts.add(tester['account_key'])\n",
    "        \n",
    "print(len(udacity_test_accounts))\n",
    "\n",
    "#function to remove testers\n",
    "def remove_testers(table):\n",
    "    non_testers = list()\n",
    "    for record in table:\n",
    "        if record['account_key'] not in udacity_test_accounts:\n",
    "            non_testers.append(record) \n",
    "    return non_testers\n",
    "\n"
   ]
  },
  {
   "cell_type": "code",
   "execution_count": 108,
   "metadata": {
    "collapsed": false
   },
   "outputs": [
    {
     "name": "stdout",
     "output_type": "stream",
     "text": [
      "enrollments before: 1640 after: 1622\n",
      "engagement before: 136240 after: 135656\n",
      "submissions before: 3642 after: 3634\n"
     ]
    }
   ],
   "source": [
    "#calling function to remove testers\n",
    "\n",
    "non_udacity_enrollments = remove_testers(enrollments)\n",
    "non_udacity_engagement = remove_testers(daily_engagement)\n",
    "non_udacity_submissions = remove_testers(project_submissions)\n",
    "\n",
    "print('enrollments before:',len(enrollments),'after:',len(non_udacity_enrollments))\n",
    "print('engagement before:',len(daily_engagement),'after:',len(non_udacity_engagement))\n",
    "print('submissions before:',len(project_submissions),'after:',len(non_udacity_submissions))\n"
   ]
  },
  {
   "cell_type": "code",
   "execution_count": 115,
   "metadata": {
    "collapsed": false
   },
   "outputs": [
    {
     "name": "stdout",
     "output_type": "stream",
     "text": [
      "995\n",
      "852 2015-05-12 00:00:00\n",
      "628 2015-06-09 00:00:00\n",
      "586 2015-03-10 00:00:00\n",
      "665 2015-05-12 00:00:00\n",
      "126 2014-11-14 00:00:00\n"
     ]
    }
   ],
   "source": [
    "#Quiz: refining the question\n",
    "'''\n",
    "Exploration question: How do numbers in the daily engagement table differ for students who pass their first project?\n",
    "Revision after identifying Q problem areas: Only look at engagement from first week,\n",
    "and exclude students who cancel within a week\n",
    "'''\n",
    "\n",
    "#Creating table (dictionary). Conditions: have not canceled or have stayed enrolled more than 7 days.\n",
    "#Keys account_key, values enrollment_date\n",
    "paid_students = {}\n",
    "\n",
    "for paid in non_udacity_enrollments:\n",
    "    if paid['cancel_date'] == None or paid['days_to_cancel'] > 7:\n",
    "        account_key = paid['account_key']\n",
    "        enrollment_date = paid['join_date']\n",
    "        #if statement to ensure we're keeping the latest enrollment_date\n",
    "        if account_key not in paid_students or paid_students[account_key] < enrollment_date:\n",
    "            paid_students[account_key] = enrollment_date\n",
    "\n",
    "print(len(paid_students))\n",
    "\n",
    "count = 0\n",
    "for rec in paid_students:\n",
    "    count += 1 \n",
    "    print(rec,paid_students[rec])\n",
    "    if count == 5:\n",
    "        break\n",
    "        "
   ]
  },
  {
   "cell_type": "code",
   "execution_count": 119,
   "metadata": {
    "collapsed": false
   },
   "outputs": [
    {
     "name": "stdout",
     "output_type": "stream",
     "text": [
      "1293\n",
      "134549\n",
      "3618\n"
     ]
    }
   ],
   "source": [
    "#Quiz: getting data from first week, remove free trials\n",
    "#half own solution, half video\n",
    "\n",
    "\n",
    "def remove_free_trials(table):\n",
    "    no_trials = list()\n",
    "    for row in table:\n",
    "        if row['account_key'] in paid_students:\n",
    "            no_trials.append(row)\n",
    "    return no_trials\n",
    "            \n",
    "paid_enrollments = remove_free_trials(non_udacity_enrollments)\n",
    "paid_engagement = remove_free_trials(non_udacity_engagement)\n",
    "paid_submissions = remove_free_trials(non_udacity_submissions)\n",
    "\n",
    "print(len(paid_enrollments))\n",
    "print(len(paid_engagement))\n",
    "print(len(paid_submissions))\n"
   ]
  },
  {
   "cell_type": "code",
   "execution_count": 126,
   "metadata": {
    "collapsed": false
   },
   "outputs": [
    {
     "name": "stdout",
     "output_type": "stream",
     "text": [
      "130.36402567400364\n"
     ]
    }
   ],
   "source": [
    "import timeit\n",
    "\n",
    "start = timeit.default_timer()\n",
    "\n",
    "#Quiz: getting data from first week: first week engagement\n",
    "def within_one_week(join_date, engagement_date):\n",
    "    time_delta = engagement_date - join_date\n",
    "    return time_delta.days < 7 #and time_delta.days >= 0\n",
    "\n",
    "engagement_first_week = list()\n",
    "\n",
    "for row in paid_enrollments:\n",
    "    for active in paid_engagement:\n",
    "        if within_one_week(row['join_date'],active['utc_date']):\n",
    "            engagement_first_week.append(active)\n",
    "            \n",
    "stop = timeit.default_timer()\n",
    "\n",
    "print(stop-start)\n",
    "\n",
    "#too slow, abandoning"
   ]
  },
  {
   "cell_type": "code",
   "execution_count": 130,
   "metadata": {
    "collapsed": false
   },
   "outputs": [
    {
     "name": "stdout",
     "output_type": "stream",
     "text": [
      "55887489\n",
      "134549\n"
     ]
    }
   ],
   "source": [
    "print(len(engagement_first_week))\n",
    "print(len(paid_engagement))"
   ]
  },
  {
   "cell_type": "code",
   "execution_count": 145,
   "metadata": {
    "collapsed": false
   },
   "outputs": [
    {
     "data": {
      "text/plain": [
       "set"
      ]
     },
     "execution_count": 145,
     "metadata": {},
     "output_type": "execute_result"
    }
   ],
   "source": [
    "type(udacity_test_accounts)"
   ]
  },
  {
   "cell_type": "code",
   "execution_count": 150,
   "metadata": {
    "collapsed": true
   },
   "outputs": [],
   "source": [
    "#function to print 5 rows\n",
    "def five_rows(table):\n",
    "    count = 0\n",
    "    \n",
    "    if type(table) == dict:\n",
    "        for row in table:\n",
    "            count += 1 \n",
    "            print(row,table[row])\n",
    "            if count == 5:\n",
    "                break\n",
    "    else:\n",
    "        for row in table:\n",
    "            count += 1 \n",
    "            print(row)\n",
    "            if count == 5:\n",
    "                break"
   ]
  },
  {
   "cell_type": "code",
   "execution_count": 143,
   "metadata": {
    "collapsed": false
   },
   "outputs": [
    {
     "name": "stdout",
     "output_type": "stream",
     "text": [
      "21508\n",
      "{'account_key': '0', 'projects_completed': 0, 'num_courses_visited': 1, 'utc_date': datetime.datetime(2015, 1, 9, 0, 0), 'total_minutes_visited': 11.6793745, 'lessons_completed': 0}\n",
      "{'account_key': '0', 'projects_completed': 0, 'num_courses_visited': 2, 'utc_date': datetime.datetime(2015, 1, 10, 0, 0), 'total_minutes_visited': 37.2848873333, 'lessons_completed': 0}\n",
      "{'account_key': '0', 'projects_completed': 0, 'num_courses_visited': 2, 'utc_date': datetime.datetime(2015, 1, 11, 0, 0), 'total_minutes_visited': 53.6337463333, 'lessons_completed': 0}\n",
      "{'account_key': '0', 'projects_completed': 0, 'num_courses_visited': 1, 'utc_date': datetime.datetime(2015, 1, 12, 0, 0), 'total_minutes_visited': 33.4892696667, 'lessons_completed': 0}\n",
      "{'account_key': '0', 'projects_completed': 0, 'num_courses_visited': 1, 'utc_date': datetime.datetime(2015, 1, 13, 0, 0), 'total_minutes_visited': 64.7796776667, 'lessons_completed': 0}\n"
     ]
    }
   ],
   "source": [
    "#Quiz: getting data from first week: first week engagement\n",
    "#inspired by quick look at lesson answer\n",
    "\n",
    "def within_one_week(join_date, engagement_date):\n",
    "    time_delta = engagement_date - join_date\n",
    "    return time_delta.days < 7 #and time_delta.days >= 0\n",
    "\n",
    "paid_engagement_first_week = list()\n",
    "\n",
    "for engagement in paid_engagement:\n",
    "    account_key = engagement['account_key']\n",
    "    join_date = paid_students[account_key]\n",
    "    engagement_date = engagement['utc_date']\n",
    "    \n",
    "    if within_one_week(join_date,engagement_date):\n",
    "        paid_engagement_first_week.append(engagement)\n",
    "        \n",
    "print(len(paid_engagement_first_week))\n",
    "five_rows(paid_engagement_first_week)"
   ]
  },
  {
   "cell_type": "code",
   "execution_count": 152,
   "metadata": {
    "collapsed": false
   },
   "outputs": [
    {
     "ename": "NameError",
     "evalue": "name 'paid_engagement_in_first_week' is not defined",
     "output_type": "error",
     "traceback": [
      "\u001b[0;31m---------------------------------------------------------------------------\u001b[0m",
      "\u001b[0;31mNameError\u001b[0m                                 Traceback (most recent call last)",
      "\u001b[0;32m<ipython-input-152-c646c506fddb>\u001b[0m in \u001b[0;36m<module>\u001b[0;34m()\u001b[0m\n\u001b[1;32m      5\u001b[0m \u001b[0;31m# The keys are account keys, and the values are lists of engagement records.\u001b[0m\u001b[0;34m\u001b[0m\u001b[0;34m\u001b[0m\u001b[0m\n\u001b[1;32m      6\u001b[0m \u001b[0mengagement_by_account\u001b[0m \u001b[0;34m=\u001b[0m \u001b[0mdefaultdict\u001b[0m\u001b[0;34m(\u001b[0m\u001b[0mlist\u001b[0m\u001b[0;34m)\u001b[0m\u001b[0;34m\u001b[0m\u001b[0m\n\u001b[0;32m----> 7\u001b[0;31m \u001b[0;32mfor\u001b[0m \u001b[0mengagement_record\u001b[0m \u001b[0;32min\u001b[0m \u001b[0mpaid_engagement_in_first_week\u001b[0m\u001b[0;34m:\u001b[0m\u001b[0;34m\u001b[0m\u001b[0m\n\u001b[0m\u001b[1;32m      8\u001b[0m     \u001b[0maccount_key\u001b[0m \u001b[0;34m=\u001b[0m \u001b[0mengagement_record\u001b[0m\u001b[0;34m[\u001b[0m\u001b[0;34m'account_key'\u001b[0m\u001b[0;34m]\u001b[0m\u001b[0;34m\u001b[0m\u001b[0m\n\u001b[1;32m      9\u001b[0m     \u001b[0mengagement_by_account\u001b[0m\u001b[0;34m[\u001b[0m\u001b[0maccount_key\u001b[0m\u001b[0;34m]\u001b[0m\u001b[0;34m.\u001b[0m\u001b[0mappend\u001b[0m\u001b[0;34m(\u001b[0m\u001b[0mengagement_record\u001b[0m\u001b[0;34m)\u001b[0m\u001b[0;34m\u001b[0m\u001b[0m\n",
      "\u001b[0;31mNameError\u001b[0m: name 'paid_engagement_in_first_week' is not defined"
     ]
    }
   ],
   "source": [
    "#Exploring student engagement, code from video\n",
    "from collections import defaultdict\n",
    "\n",
    "# Create a dictionary of engagement grouped by student.\n",
    "# The keys are account keys, and the values are lists of engagement records.\n",
    "engagement_by_account = defaultdict(list)\n",
    "for engagement_record in paid_engagement_in_first_week:\n",
    "    account_key = engagement_record['account_key']\n",
    "    engagement_by_account[account_key].append(engagement_record)"
   ]
  },
  {
   "cell_type": "code",
   "execution_count": 153,
   "metadata": {
    "collapsed": true
   },
   "outputs": [],
   "source": [
    "#Exploring student engagement, code from video\n",
    "\n",
    "\n",
    "# Create a dictionary with the total minutes each student spent in the classroom during the first week.\n",
    "# The keys are account keys, and the values are numbers (total minutes)\n",
    "total_minutes_by_account = {}\n",
    "for account_key, engagement_for_student in engagement_by_account.items():\n",
    "    total_minutes = 0\n",
    "    for engagement_record in engagement_for_student:\n",
    "        total_minutes += engagement_record['total_minutes_visited']\n",
    "    total_minutes_by_account[account_key] = total_minutes"
   ]
  },
  {
   "cell_type": "markdown",
   "metadata": {},
   "source": [
    "#Exploring student engagement, code from video\n",
    "#My edit: made total_minutes into list, a necessity in Python 3\n",
    "\n",
    "import numpy as np\n",
    "\n",
    "# Summarize the data about minutes spent in the classroom\n",
    "total_minutes = list(total_minutes_by_account.values())\n",
    "print('Mean:', np.mean(total_minutes))\n",
    "print('Standard deviation:', np.std(total_minutes))\n",
    "print('Minimum:', np.min(total_minutes))\n",
    "print('Maximum:', np.max(total_minutes))m"
   ]
  }
 ],
 "metadata": {
  "kernelspec": {
   "display_name": "Python 3",
   "language": "python",
   "name": "python3"
  },
  "language_info": {
   "codemirror_mode": {
    "name": "ipython",
    "version": 3
   },
   "file_extension": ".py",
   "mimetype": "text/x-python",
   "name": "python",
   "nbconvert_exporter": "python",
   "pygments_lexer": "ipython3",
   "version": "3.5.1"
  }
 },
 "nbformat": 4,
 "nbformat_minor": 0
}
