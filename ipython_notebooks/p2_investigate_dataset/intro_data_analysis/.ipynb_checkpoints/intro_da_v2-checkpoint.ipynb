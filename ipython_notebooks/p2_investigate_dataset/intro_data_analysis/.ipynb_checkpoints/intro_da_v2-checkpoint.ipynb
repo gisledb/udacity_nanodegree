{
 "cells": [
  {
   "cell_type": "code",
   "execution_count": 223,
   "metadata": {
    "collapsed": true
   },
   "outputs": [],
   "source": [
    "#function to print 5 rows\n",
    "def five_rows(table):\n",
    "    count = 0\n",
    "    \n",
    "    if type(table) == dict:\n",
    "        for row in table:\n",
    "            count += 1 \n",
    "            print(row,table[row])\n",
    "            if count == 5:\n",
    "                break\n",
    "    else:\n",
    "        for row in table:\n",
    "            count += 1 \n",
    "            print(row)\n",
    "            if count == 5:\n",
    "                break"
   ]
  },
  {
   "cell_type": "code",
   "execution_count": 224,
   "metadata": {
    "collapsed": false
   },
   "outputs": [
    {
     "name": "stdout",
     "output_type": "stream",
     "text": [
      "{'status': 'canceled', 'join_date': '2014-11-10', 'days_to_cancel': '65', 'account_key': '448', 'is_canceled': 'True', 'cancel_date': '2015-01-14', 'is_udacity': 'True'}\n",
      "{'lessons_completed': '0.0', 'utc_date': '2015-01-09', 'acct': '0', 'projects_completed': '0.0', 'total_minutes_visited': '11.6793745', 'num_courses_visited': '1.0'}\n",
      "{'lesson_key': '3176718735', 'completion_date': '2015-01-16', 'account_key': '256', 'processing_state': 'EVALUATED', 'creation_date': '2015-01-14', 'assigned_rating': 'UNGRADED'}\n"
     ]
    }
   ],
   "source": [
    "#CSVs in Python\n",
    "#write as function\n",
    "import unicodecsv\n",
    "\n",
    "def read_csv(filename):\n",
    "    with open(filename, 'rb') as f:\n",
    "        reader = unicodecsv.DictReader(f)\n",
    "        return list(reader)\n",
    "\n",
    "enrollments = read_csv('enrollments.csv')\n",
    "daily_engagement = read_csv('daily_engagement.csv')\n",
    "project_submissions = read_csv('project_submissions.csv')\n",
    "\n",
    "print(enrollments[0])\n",
    "print(daily_engagement[0])\n",
    "print(project_submissions[0])"
   ]
  },
  {
   "cell_type": "code",
   "execution_count": 225,
   "metadata": {
    "collapsed": false
   },
   "outputs": [],
   "source": [
    "#Fixing data types\n",
    "#taken from L1_Starter_code\n",
    "from datetime import datetime as dt\n",
    "\n",
    "# Takes a date as a string, and returns a Python datetime object. \n",
    "# If there is no date given, returns None\n",
    "def parse_date(date):\n",
    "    if date == '':\n",
    "        return None\n",
    "    else:\n",
    "        return dt.strptime(date, '%Y-%m-%d')\n",
    "    \n",
    "# Takes a string which is either an empty string or represents an integer,\n",
    "# and returns an int or None.\n",
    "def parse_maybe_int(i):\n",
    "    if i == '':\n",
    "        return None\n",
    "    else:\n",
    "        return int(i)"
   ]
  },
  {
   "cell_type": "code",
   "execution_count": 226,
   "metadata": {
    "collapsed": false
   },
   "outputs": [
    {
     "data": {
      "text/plain": [
       "{'account_key': '448',\n",
       " 'cancel_date': datetime.datetime(2015, 1, 14, 0, 0),\n",
       " 'days_to_cancel': 65,\n",
       " 'is_canceled': True,\n",
       " 'is_udacity': True,\n",
       " 'join_date': datetime.datetime(2014, 11, 10, 0, 0),\n",
       " 'status': 'canceled'}"
      ]
     },
     "execution_count": 226,
     "metadata": {},
     "output_type": "execute_result"
    }
   ],
   "source": [
    "# Clean up the data types in the enrollments table\n",
    "for enrollment in enrollments:\n",
    "    enrollment['cancel_date'] = parse_date(enrollment['cancel_date'])\n",
    "    enrollment['days_to_cancel'] = parse_maybe_int(enrollment['days_to_cancel'])\n",
    "    enrollment['is_canceled'] = enrollment['is_canceled'] == 'True'\n",
    "    enrollment['is_udacity'] = enrollment['is_udacity'] == 'True'\n",
    "    enrollment['join_date'] = parse_date(enrollment['join_date'])\n",
    "    \n",
    "enrollments[0]"
   ]
  },
  {
   "cell_type": "code",
   "execution_count": 227,
   "metadata": {
    "collapsed": false
   },
   "outputs": [
    {
     "data": {
      "text/plain": [
       "{'acct': '0',\n",
       " 'lessons_completed': 0,\n",
       " 'num_courses_visited': 1,\n",
       " 'projects_completed': 0,\n",
       " 'total_minutes_visited': 11.6793745,\n",
       " 'utc_date': datetime.datetime(2015, 1, 9, 0, 0)}"
      ]
     },
     "execution_count": 227,
     "metadata": {},
     "output_type": "execute_result"
    }
   ],
   "source": [
    "# Clean up the data types in the engagement table\n",
    "for engagement_record in daily_engagement:\n",
    "    engagement_record['lessons_completed'] = int(float(engagement_record['lessons_completed']))\n",
    "    engagement_record['num_courses_visited'] = int(float(engagement_record['num_courses_visited']))\n",
    "    engagement_record['projects_completed'] = int(float(engagement_record['projects_completed']))\n",
    "    engagement_record['total_minutes_visited'] = float(engagement_record['total_minutes_visited'])\n",
    "    engagement_record['utc_date'] = parse_date(engagement_record['utc_date'])\n",
    "    \n",
    "daily_engagement[0]"
   ]
  },
  {
   "cell_type": "code",
   "execution_count": 228,
   "metadata": {
    "collapsed": false
   },
   "outputs": [
    {
     "data": {
      "text/plain": [
       "{'account_key': '256',\n",
       " 'assigned_rating': 'UNGRADED',\n",
       " 'completion_date': datetime.datetime(2015, 1, 16, 0, 0),\n",
       " 'creation_date': datetime.datetime(2015, 1, 14, 0, 0),\n",
       " 'lesson_key': '3176718735',\n",
       " 'processing_state': 'EVALUATED'}"
      ]
     },
     "execution_count": 228,
     "metadata": {},
     "output_type": "execute_result"
    }
   ],
   "source": [
    "# Clean up the data types in the submissions table\n",
    "for submission in project_submissions:\n",
    "    submission['completion_date'] = parse_date(submission['completion_date'])\n",
    "    submission['creation_date'] = parse_date(submission['creation_date'])\n",
    "\n",
    "project_submissions[0]"
   ]
  },
  {
   "cell_type": "markdown",
   "metadata": {},
   "source": [
    "__Quiz: Questions about Student...__\n",
    "Questions to answer during analysis\n",
    "1. Does time of day for enrollment affect count or frequency of project submissions?\n",
    "2. Is there a point of daily engagement which noticeably increases or decreases count of project submissions?\n",
    "3. What is the average lessons completed per project submission?\n",
    "4. Of students who have submitted at least 1 project, what is the average number of project submissions within 6 months of enrolling?\n",
    "5. Looking only at students enrolled for at least 3 months, how many have submitted at least 1 project?\n",
    "6. On average, how long does it take to complete 6 projects?"
   ]
  },
  {
   "cell_type": "markdown",
   "metadata": {
    "collapsed": false
   },
   "source": [
    "#Quiz: Investigating the data: counts unique\n",
    "def unique_acc(table,col):\n",
    "    accounts = []\n",
    "    for account in table:\n",
    "        if account[col] not in accounts:\n",
    "            accounts.append(account[col])\n",
    "    return len(accounts)\n",
    "\n",
    "enrollment_num_rows = len(enrollments)            \n",
    "enrollment_num_unique_students = unique_acc(enrollments,'account_key')  \n",
    "\n",
    "engagement_num_rows = len(daily_engagement)             \n",
    "engagement_num_unique_students = unique_acc(daily_engagement,'acct')  \n",
    "\n",
    "submission_num_rows = len(project_submissions)             \n",
    "submission_num_unique_students = unique_acc(project_submissions,'account_key')  \n",
    "\n",
    "print('Enrollment count: {0}, projects count: {1}, engagement count: {2}'.format(\n",
    "enrollment_num_rows,engagement_num_rows,submission_num_rows))\n",
    "\n",
    "print('Unique enrollments: {0}, Users with project submissions: {1}, \\\n",
    "users with some daily activity: {2}'.format(\n",
    "enrollment_num_rows,engagement_num_rows,submission_num_rows))\n"
   ]
  },
  {
   "cell_type": "code",
   "execution_count": 229,
   "metadata": {
    "collapsed": false
   },
   "outputs": [
    {
     "name": "stdout",
     "output_type": "stream",
     "text": [
      "unique students: 1302\n",
      "unique engaged students: 1237\n",
      "unique project submitters: 743\n"
     ]
    }
   ],
   "source": [
    "##Quiz: Investigating the data: add unique tables\n",
    "def unique_table(table,variable):\n",
    "    tmp_table = set()\n",
    "    for record in table:\n",
    "        tmp_table.add(record[variable])\n",
    "    return tmp_table\n",
    "\n",
    "unique_enrolled_students = unique_table(enrollments,'account_key')\n",
    "unique_engagement_students = unique_table(daily_engagement,'acct')\n",
    "unique_project_submitters = unique_table(project_submissions,'account_key')\n",
    "\n",
    "print('unique students:',len(unique_enrolled_students))\n",
    "print('unique engaged students:',len(unique_engagement_students))\n",
    "print('unique project submitters:',len(unique_project_submitters))"
   ]
  },
  {
   "cell_type": "code",
   "execution_count": 230,
   "metadata": {
    "collapsed": false
   },
   "outputs": [
    {
     "name": "stdout",
     "output_type": "stream",
     "text": [
      "0\n",
      "0\n"
     ]
    }
   ],
   "source": [
    "#Quiz: Problems in the data\n",
    "#Unifying name for account key in all tables (dictionaries)\n",
    "\n",
    "print(daily_engagement[3]['acct'])\n",
    "\n",
    "for rec in daily_engagement:\n",
    "    rec['account_key'] = rec['acct']\n",
    "    del[rec['acct']]\n",
    "\n",
    "print(daily_engagement[3]['account_key'])"
   ]
  },
  {
   "cell_type": "code",
   "execution_count": 231,
   "metadata": {
    "collapsed": false
   },
   "outputs": [
    {
     "name": "stdout",
     "output_type": "stream",
     "text": [
      "['1079', '1213', '1129', '1270', '728', '733', '1120', '789', '1304', '1010']\n",
      "{'status': 'canceled', 'join_date': datetime.datetime(2015, 2, 9, 0, 0), 'days_to_cancel': 0, 'account_key': '1079', 'is_canceled': True, 'cancel_date': datetime.datetime(2015, 2, 9, 0, 0), 'is_udacity': False}\n",
      "{'status': 'canceled', 'join_date': datetime.datetime(2015, 1, 12, 0, 0), 'days_to_cancel': 0, 'account_key': '1213', 'is_canceled': True, 'cancel_date': datetime.datetime(2015, 1, 12, 0, 0), 'is_udacity': False}\n",
      "{'status': 'canceled', 'join_date': datetime.datetime(2015, 3, 7, 0, 0), 'days_to_cancel': 0, 'account_key': '1129', 'is_canceled': True, 'cancel_date': datetime.datetime(2015, 3, 7, 0, 0), 'is_udacity': False}\n",
      "{'status': 'canceled', 'join_date': datetime.datetime(2015, 2, 11, 0, 0), 'days_to_cancel': 0, 'account_key': '1129', 'is_canceled': True, 'cancel_date': datetime.datetime(2015, 2, 11, 0, 0), 'is_udacity': False}\n",
      "{'status': 'canceled', 'join_date': datetime.datetime(2015, 7, 20, 0, 0), 'days_to_cancel': 0, 'account_key': '1270', 'is_canceled': True, 'cancel_date': datetime.datetime(2015, 7, 20, 0, 0), 'is_udacity': False}\n",
      "{'status': 'canceled', 'join_date': datetime.datetime(2014, 12, 5, 0, 0), 'days_to_cancel': 0, 'account_key': '728', 'is_canceled': True, 'cancel_date': datetime.datetime(2014, 12, 5, 0, 0), 'is_udacity': False}\n"
     ]
    }
   ],
   "source": [
    "#Quiz: Missing engagement reports: Looking at some missing records\n",
    "\n",
    "missing_enrolled = []\n",
    "\n",
    "for missing in unique_enrolled_students:\n",
    "    if missing not in unique_engagement_students:\n",
    "        missing_enrolled.append(missing)\n",
    "        \n",
    "print(missing_enrolled[0:10])\n",
    "\n",
    "for missing in missing_enrolled[0:5]:\n",
    "    for match in enrollments:\n",
    "        if match['account_key'] == missing:\n",
    "            print(match)"
   ]
  },
  {
   "cell_type": "code",
   "execution_count": 232,
   "metadata": {
    "collapsed": false
   },
   "outputs": [
    {
     "name": "stdout",
     "output_type": "stream",
     "text": [
      "Not canceled: 1\n",
      "Canceled first day: 68\n",
      "Canceled later: 2\n"
     ]
    }
   ],
   "source": [
    "#Quiz: Missing engagement reports: Looking further at cancelations\n",
    "\n",
    "#hypothesis: cancelation on day 0 is not counted as daily engagement\n",
    "#Starting by checking count of missing not canceled \n",
    "#then checking count of canceled not canceled on day 0\n",
    "\n",
    "not_canceled = []\n",
    "days_to_cancel_zero = []\n",
    "canceled_later = []\n",
    "\n",
    "for missing in missing_enrolled:\n",
    "    for match in enrollments:\n",
    "        if match['account_key'] == missing:\n",
    "            if match['is_canceled'] == False:\n",
    "                not_canceled.append(match)\n",
    "            elif match['days_to_cancel'] == 0:\n",
    "                days_to_cancel_zero.append(match)\n",
    "            else:\n",
    "                canceled_later.append(match)\n",
    "\n",
    "print('Not canceled:',len(not_canceled))\n",
    "print('Canceled first day:',len(days_to_cancel_zero))\n",
    "print('Canceled later:',len(canceled_later))"
   ]
  },
  {
   "cell_type": "code",
   "execution_count": 233,
   "metadata": {
    "collapsed": false
   },
   "outputs": [
    {
     "name": "stdout",
     "output_type": "stream",
     "text": [
      "[{'status': 'current', 'join_date': datetime.datetime(2015, 2, 25, 0, 0), 'days_to_cancel': None, 'account_key': '1101', 'is_canceled': False, 'cancel_date': None, 'is_udacity': True}]\n",
      "[{'status': 'canceled', 'join_date': datetime.datetime(2015, 1, 10, 0, 0), 'days_to_cancel': 59, 'account_key': '1304', 'is_canceled': True, 'cancel_date': datetime.datetime(2015, 3, 10, 0, 0), 'is_udacity': True}, {'status': 'canceled', 'join_date': datetime.datetime(2015, 3, 10, 0, 0), 'days_to_cancel': 99, 'account_key': '1304', 'is_canceled': True, 'cancel_date': datetime.datetime(2015, 6, 17, 0, 0), 'is_udacity': True}]\n"
     ]
    }
   ],
   "source": [
    "#Quiz: Missing engagement reports: Looking at non-canceled and later-canceled\n",
    "\n",
    "print(not_canceled)\n",
    "print(canceled_later)"
   ]
  },
  {
   "cell_type": "code",
   "execution_count": 234,
   "metadata": {
    "collapsed": false
   },
   "outputs": [
    {
     "name": "stdout",
     "output_type": "stream",
     "text": [
      "udacity testers missing from engagement: 4\n"
     ]
    }
   ],
   "source": [
    "#Quiz: Missing engagement reports: is_udacity count\n",
    "\n",
    "\n",
    "#checking count of is_udacity missing engagement records\n",
    "enrolled_is_udacity = []\n",
    "\n",
    "for missing in missing_enrolled:\n",
    "    for enrolled in enrollments:\n",
    "        if enrolled['account_key'] == missing:\n",
    "            if enrolled['is_udacity'] == True:\n",
    "                enrolled_is_udacity.append(missing)\n",
    "                \n",
    "print('udacity testers missing from engagement:',len(enrolled_is_udacity))"
   ]
  },
  {
   "cell_type": "code",
   "execution_count": 235,
   "metadata": {
    "collapsed": false
   },
   "outputs": [
    {
     "name": "stdout",
     "output_type": "stream",
     "text": [
      "['1304', '1304', '1069', '1101']\n"
     ]
    }
   ],
   "source": [
    "#Quiz: Missing engagement reports: is_udacity records\n",
    "\n",
    "print(enrolled_is_udacity)\n"
   ]
  },
  {
   "cell_type": "code",
   "execution_count": 236,
   "metadata": {
    "collapsed": false
   },
   "outputs": [
    {
     "name": "stdout",
     "output_type": "stream",
     "text": [
      "{'status': 'canceled', 'join_date': datetime.datetime(2015, 1, 10, 0, 0), 'days_to_cancel': 59, 'account_key': '1304', 'is_canceled': True, 'cancel_date': datetime.datetime(2015, 3, 10, 0, 0), 'is_udacity': True}\n",
      "{'status': 'canceled', 'join_date': datetime.datetime(2015, 3, 10, 0, 0), 'days_to_cancel': 99, 'account_key': '1304', 'is_canceled': True, 'cancel_date': datetime.datetime(2015, 6, 17, 0, 0), 'is_udacity': True}\n",
      "{'status': 'canceled', 'join_date': datetime.datetime(2015, 6, 1, 0, 0), 'days_to_cancel': 0, 'account_key': '1069', 'is_canceled': True, 'cancel_date': datetime.datetime(2015, 6, 1, 0, 0), 'is_udacity': True}\n",
      "{'status': 'current', 'join_date': datetime.datetime(2015, 2, 25, 0, 0), 'days_to_cancel': None, 'account_key': '1101', 'is_canceled': False, 'cancel_date': None, 'is_udacity': True}\n"
     ]
    }
   ],
   "source": [
    "for record in enrollments:\n",
    "    if record['account_key'] in ('1101', '1069', '1304', '1304'):\n",
    "        print(record)"
   ]
  },
  {
   "cell_type": "code",
   "execution_count": 237,
   "metadata": {
    "collapsed": false
   },
   "outputs": [
    {
     "name": "stdout",
     "output_type": "stream",
     "text": [
      "{'status': 'canceled', 'join_date': datetime.datetime(2015, 1, 10, 0, 0), 'days_to_cancel': 59, 'account_key': '1304', 'is_canceled': True, 'cancel_date': datetime.datetime(2015, 3, 10, 0, 0), 'is_udacity': True}\n",
      "{'status': 'canceled', 'join_date': datetime.datetime(2015, 3, 10, 0, 0), 'days_to_cancel': 99, 'account_key': '1304', 'is_canceled': True, 'cancel_date': datetime.datetime(2015, 6, 17, 0, 0), 'is_udacity': True}\n",
      "{'status': 'current', 'join_date': datetime.datetime(2015, 2, 25, 0, 0), 'days_to_cancel': None, 'account_key': '1101', 'is_canceled': False, 'cancel_date': None, 'is_udacity': True}\n",
      "3\n",
      "{'status': 'canceled', 'join_date': datetime.datetime(2015, 1, 10, 0, 0), 'days_to_cancel': 59, 'account_key': '1304', 'is_canceled': True, 'cancel_date': datetime.datetime(2015, 3, 10, 0, 0), 'is_udacity': True}\n",
      "{'status': 'canceled', 'join_date': datetime.datetime(2015, 3, 10, 0, 0), 'days_to_cancel': 99, 'account_key': '1304', 'is_canceled': True, 'cancel_date': datetime.datetime(2015, 6, 17, 0, 0), 'is_udacity': True}\n",
      "{'status': 'current', 'join_date': datetime.datetime(2015, 2, 25, 0, 0), 'days_to_cancel': None, 'account_key': '1101', 'is_canceled': False, 'cancel_date': None, 'is_udacity': True}\n"
     ]
    }
   ],
   "source": [
    "#Quiz: checking for more problems:\n",
    "#finding number of suspicious records not canceled on day 1 (answer from video)\n",
    "\n",
    "num_problem_students = 0\n",
    "for enrollment in enrollments:\n",
    "    student = enrollment['account_key']\n",
    "    if (student not in unique_engagement_students and \n",
    "            enrollment['join_date'] != enrollment['cancel_date']):\n",
    "        print(enrollment)\n",
    "        num_problem_students += 1\n",
    "        \n",
    "print(num_problem_students)\n",
    "#Suspecting it's the same as Udacity records, I am printing those as well\n",
    "for record in enrollments:\n",
    "    if record['account_key'] in ('1101', '1069', '1304', '1304'):\n",
    "        if record['days_to_cancel'] != 0:\n",
    "            print(record)"
   ]
  },
  {
   "cell_type": "code",
   "execution_count": 238,
   "metadata": {
    "collapsed": false
   },
   "outputs": [
    {
     "name": "stdout",
     "output_type": "stream",
     "text": [
      "6\n"
     ]
    }
   ],
   "source": [
    "#Tracking down remainining problems\n",
    "#Removing udacity accounts from data (inspired by video)\n",
    "udacity_test_accounts = set()\n",
    "\n",
    "for tester in enrollments:\n",
    "    if tester['is_udacity'] == True:\n",
    "        udacity_test_accounts.add(tester['account_key'])\n",
    "        \n",
    "print(len(udacity_test_accounts))\n",
    "\n",
    "#function to remove testers\n",
    "def remove_testers(table):\n",
    "    non_testers = list()\n",
    "    for record in table:\n",
    "        if record['account_key'] not in udacity_test_accounts:\n",
    "            non_testers.append(record) \n",
    "    return non_testers\n",
    "\n"
   ]
  },
  {
   "cell_type": "code",
   "execution_count": 239,
   "metadata": {
    "collapsed": false
   },
   "outputs": [
    {
     "name": "stdout",
     "output_type": "stream",
     "text": [
      "enrollments before: 1640 after: 1622\n",
      "engagement before: 136240 after: 135656\n",
      "submissions before: 3642 after: 3634\n"
     ]
    }
   ],
   "source": [
    "#calling function to remove testers\n",
    "\n",
    "non_udacity_enrollments = remove_testers(enrollments)\n",
    "non_udacity_engagement = remove_testers(daily_engagement)\n",
    "non_udacity_submissions = remove_testers(project_submissions)\n",
    "\n",
    "print('enrollments before:',len(enrollments),'after:',len(non_udacity_enrollments))\n",
    "print('engagement before:',len(daily_engagement),'after:',len(non_udacity_engagement))\n",
    "print('submissions before:',len(project_submissions),'after:',len(non_udacity_submissions))\n"
   ]
  },
  {
   "cell_type": "code",
   "execution_count": 240,
   "metadata": {
    "collapsed": false
   },
   "outputs": [
    {
     "name": "stdout",
     "output_type": "stream",
     "text": [
      "995\n",
      "426 2015-05-07 00:00:00\n",
      "852 2015-05-12 00:00:00\n",
      "1058 2015-03-10 00:00:00\n",
      "89 2015-05-07 00:00:00\n",
      "973 2015-07-13 00:00:00\n"
     ]
    }
   ],
   "source": [
    "#Quiz: refining the question\n",
    "'''\n",
    "Exploration question: How do numbers in the daily engagement table differ for students who pass their first project?\n",
    "Revision after identifying Q problem areas: Only look at engagement from first week,\n",
    "and exclude students who cancel within a week\n",
    "'''\n",
    "\n",
    "#Creating table (dictionary). Conditions: have not canceled or have stayed enrolled more than 7 days.\n",
    "#Keys account_key, values enrollment_date\n",
    "paid_students = {}\n",
    "\n",
    "for paid in non_udacity_enrollments:\n",
    "    if paid['cancel_date'] == None or paid['days_to_cancel'] > 7:\n",
    "        account_key = paid['account_key']\n",
    "        enrollment_date = paid['join_date']\n",
    "        #if statement to ensure we're keeping the latest enrollment_date\n",
    "        if account_key not in paid_students or paid_students[account_key] < enrollment_date:\n",
    "            paid_students[account_key] = enrollment_date\n",
    "\n",
    "print(len(paid_students))\n",
    "\n",
    "count = 0\n",
    "for rec in paid_students:\n",
    "    count += 1 \n",
    "    print(rec,paid_students[rec])\n",
    "    if count == 5:\n",
    "        break\n",
    "        "
   ]
  },
  {
   "cell_type": "code",
   "execution_count": 241,
   "metadata": {
    "collapsed": false
   },
   "outputs": [
    {
     "name": "stdout",
     "output_type": "stream",
     "text": [
      "1293\n",
      "134549\n",
      "3618\n"
     ]
    }
   ],
   "source": [
    "#Quiz: getting data from first week, remove free trials\n",
    "#half own solution, half video\n",
    "\n",
    "\n",
    "def remove_free_trials(table):\n",
    "    no_trials = list()\n",
    "    for row in table:\n",
    "        if row['account_key'] in paid_students:\n",
    "            no_trials.append(row)\n",
    "    return no_trials\n",
    "            \n",
    "paid_enrollments = remove_free_trials(non_udacity_enrollments)\n",
    "paid_engagement = remove_free_trials(non_udacity_engagement)\n",
    "paid_submissions = remove_free_trials(non_udacity_submissions)\n",
    "\n",
    "print(len(paid_enrollments))\n",
    "print(len(paid_engagement))\n",
    "print(len(paid_submissions))\n"
   ]
  },
  {
   "cell_type": "code",
   "execution_count": 242,
   "metadata": {
    "collapsed": false
   },
   "outputs": [
    {
     "name": "stdout",
     "output_type": "stream",
     "text": [
      "days students finished lessons: 36910\n",
      "days students logged on, but did not finish any lessons: 97639\n",
      "total engagement: 134549  records with has_visited field: 134549\n"
     ]
    }
   ],
   "source": [
    "#Quiz: number of visits in the first week: adding has_visited column to paid_engagement table\n",
    "#if has completed at least one lesson the value is 1, if not completed lesson the value is 0\n",
    "\n",
    "for engagement in paid_engagement:\n",
    "    if engagement['num_courses_visited'] > 0:\n",
    "        engagement['has_visited'] = 1\n",
    "    if engagement['num_courses_visited'] == 0:\n",
    "        engagement['has_visited'] = 0      \n",
    "\n",
    "count_one = 0\n",
    "count_zero = 0\n",
    "\n",
    "#Checking how many days students completed lessons when logged in\n",
    "for engagement in paid_engagement:\n",
    "    if engagement['has_visited'] == 1:\n",
    "        count_one += 1\n",
    "    if engagement['has_visited'] == 0:\n",
    "        count_zero += 1\n",
    "    if engagement['has_visited'] == 'error':#!= (1 or 0):\n",
    "        count_neither += 1\n",
    "        \n",
    "print(\"days students finished lessons:\",count_one)\n",
    "print(\"days students logged on, but did not finish any lessons:\",count_zero)\n",
    "#checking all records have has_visited field\n",
    "print('total engagement:',len(paid_engagement), \\\n",
    "      ' records with has_visited field:',count_one+count_zero)"
   ]
  },
  {
   "cell_type": "code",
   "execution_count": 243,
   "metadata": {
    "collapsed": true
   },
   "outputs": [],
   "source": [
    "# import timeit\n",
    "\n",
    "# start = timeit.default_timer()\n",
    "\n",
    "# #Quiz: getting data from first week: first week engagement\n",
    "# def within_one_week(join_date, engagement_date):\n",
    "#     time_delta = engagement_date - join_date\n",
    "#     return time_delta.days < 7 #and time_delta.days >= 0\n",
    "\n",
    "# engagement_first_week = list()\n",
    "\n",
    "# for row in paid_enrollments:\n",
    "#     for active in paid_engagement:\n",
    "#         if within_one_week(row['join_date'],active['utc_date']):\n",
    "#             engagement_first_week.append(active)\n",
    "            \n",
    "# stop = timeit.default_timer()\n",
    "\n",
    "# print(stop-start)\n",
    "\n",
    "##too slow, abandoning"
   ]
  },
  {
   "cell_type": "code",
   "execution_count": 244,
   "metadata": {
    "collapsed": false
   },
   "outputs": [
    {
     "name": "stdout",
     "output_type": "stream",
     "text": [
      "6919\n",
      "{'lessons_completed': 0, 'utc_date': datetime.datetime(2015, 1, 9, 0, 0), 'has_visited': 1, 'projects_completed': 0, 'account_key': '0', 'total_minutes_visited': 11.6793745, 'num_courses_visited': 1}\n",
      "{'lessons_completed': 0, 'utc_date': datetime.datetime(2015, 1, 10, 0, 0), 'has_visited': 1, 'projects_completed': 0, 'account_key': '0', 'total_minutes_visited': 37.2848873333, 'num_courses_visited': 2}\n",
      "{'lessons_completed': 0, 'utc_date': datetime.datetime(2015, 1, 11, 0, 0), 'has_visited': 1, 'projects_completed': 0, 'account_key': '0', 'total_minutes_visited': 53.6337463333, 'num_courses_visited': 2}\n",
      "{'lessons_completed': 0, 'utc_date': datetime.datetime(2015, 1, 12, 0, 0), 'has_visited': 1, 'projects_completed': 0, 'account_key': '0', 'total_minutes_visited': 33.4892696667, 'num_courses_visited': 1}\n",
      "{'lessons_completed': 0, 'utc_date': datetime.datetime(2015, 1, 13, 0, 0), 'has_visited': 1, 'projects_completed': 0, 'account_key': '0', 'total_minutes_visited': 64.7796776667, 'num_courses_visited': 1}\n"
     ]
    }
   ],
   "source": [
    "#Quiz: getting data from first week: first week engagement\n",
    "#inspired by quick look at lesson answer\n",
    "\n",
    "def within_one_week(join_date, engagement_date):\n",
    "    time_delta = engagement_date - join_date\n",
    "    return time_delta.days < 7 and time_delta.days >= 0\n",
    "\n",
    "paid_engagement_first_week = list()\n",
    "\n",
    "for engagement in paid_engagement:\n",
    "    account_key = engagement['account_key']\n",
    "    join_date = paid_students[account_key]\n",
    "    engagement_date = engagement['utc_date']\n",
    "    \n",
    "    if within_one_week(join_date,engagement_date):\n",
    "        paid_engagement_first_week.append(engagement)\n",
    "        \n",
    "print(len(paid_engagement_first_week))\n",
    "five_rows(paid_engagement_first_week)"
   ]
  },
  {
   "cell_type": "code",
   "execution_count": 245,
   "metadata": {
    "collapsed": false
   },
   "outputs": [
    {
     "name": "stdout",
     "output_type": "stream",
     "text": [
      "6919\n",
      "134549\n"
     ]
    }
   ],
   "source": [
    "print(len(paid_engagement_first_week))\n",
    "print(len(paid_engagement))"
   ]
  },
  {
   "cell_type": "code",
   "execution_count": 246,
   "metadata": {
    "collapsed": false
   },
   "outputs": [
    {
     "data": {
      "text/plain": [
       "set"
      ]
     },
     "execution_count": 246,
     "metadata": {},
     "output_type": "execute_result"
    }
   ],
   "source": [
    "type(udacity_test_accounts)"
   ]
  },
  {
   "cell_type": "code",
   "execution_count": 247,
   "metadata": {
    "collapsed": false
   },
   "outputs": [],
   "source": [
    "#Exploring student engagement, code from video\n",
    "from collections import defaultdict\n",
    "\n",
    "# Create a dictionary of engagement grouped by student.\n",
    "# The keys are account keys, and the values are lists of engagement records.\n",
    "engagement_by_account = defaultdict(list)\n",
    "for engagement_record in paid_engagement_first_week:\n",
    "    account_key = engagement_record['account_key']\n",
    "    engagement_by_account[account_key].append(engagement_record)"
   ]
  },
  {
   "cell_type": "code",
   "execution_count": 248,
   "metadata": {
    "collapsed": true
   },
   "outputs": [],
   "source": [
    "#Exploring student engagement, code from video\n",
    "\n",
    "\n",
    "# Create a dictionary with the total minutes each student spent in the classroom during the first week.\n",
    "# The keys are account keys, and the values are numbers (total minutes)\n",
    "total_minutes_by_account = {}\n",
    "for account_key, engagement_for_student in engagement_by_account.items():\n",
    "    total_minutes = 0\n",
    "    for engagement_record in engagement_for_student:\n",
    "        total_minutes += engagement_record['total_minutes_visited']\n",
    "    total_minutes_by_account[account_key] = total_minutes"
   ]
  },
  {
   "cell_type": "code",
   "execution_count": 249,
   "metadata": {
    "collapsed": false
   },
   "outputs": [
    {
     "name": "stdout",
     "output_type": "stream",
     "text": [
      "Mean: 306.708326753\n",
      "Standard deviation: 412.996933409\n",
      "Minimum: 0.0\n",
      "Maximum: 3564.7332645\n"
     ]
    }
   ],
   "source": [
    "#Exploring student engagement, code from video\n",
    "#My edit: made total_minutes into list, a necessity in Python 3\n",
    "\n",
    "import numpy as np\n",
    "\n",
    "# Summarize the data about minutes spent in the classroom\n",
    "total_minutes = list(total_minutes_by_account.values())\n",
    "print('Mean:', np.mean(total_minutes))\n",
    "print('Standard deviation:', np.std(total_minutes))\n",
    "print('Minimum:', np.min(total_minutes))\n",
    "print('Maximum:', np.max(total_minutes))"
   ]
  },
  {
   "cell_type": "markdown",
   "metadata": {},
   "source": [
    "We here see that maximum is greater than total number of hours in the week. It's time for debugging."
   ]
  },
  {
   "cell_type": "code",
   "execution_count": 250,
   "metadata": {
    "collapsed": false
   },
   "outputs": [
    {
     "name": "stdout",
     "output_type": "stream",
     "text": [
      "Minutes in a week: 10080\n",
      "ID: 163    Minutes: 3564.73   fraction of week: 0.35\n",
      "ID: 317    Minutes: 2778.32   fraction of week: 0.28\n",
      "ID: 303    Minutes: 2700.49   fraction of week: 0.27\n",
      "ID: 359    Minutes: 2530.56   fraction of week: 0.25\n",
      "ID: 218    Minutes: 2393.54   fraction of week: 0.24\n",
      "ID: 175    Minutes: 2375.8   fraction of week: 0.24\n",
      "ID: 140    Minutes: 2050.12   fraction of week: 0.2\n",
      "ID: 530    Minutes: 1896.75   fraction of week: 0.19\n",
      "ID: 604    Minutes: 1890.99   fraction of week: 0.19\n",
      "ID: 171    Minutes: 1887.39   fraction of week: 0.19\n"
     ]
    }
   ],
   "source": [
    "#Quiz: Debugging Data Analysis Code: identifying troublesome records\n",
    "\n",
    "import operator\n",
    "\n",
    "sorted_total = sorted(total_minutes_by_account.items(), key=operator.itemgetter(1),reverse=True)\n",
    "\n",
    "minutes_in_week = 60*24*7\n",
    "print('Minutes in a week: {0}'.format(minutes_in_week))\n",
    "\n",
    "for i in sorted_total[0:10]:\n",
    "    print('ID: {0}    Minutes: {1}   fraction of week: {2}'.format(i[0],round(i[1],2),round((i[1]/minutes_in_week),2)))\n",
    "    "
   ]
  },
  {
   "cell_type": "code",
   "execution_count": 251,
   "metadata": {
    "collapsed": false
   },
   "outputs": [
    {
     "name": "stdout",
     "output_type": "stream",
     "text": [
      "{'lessons_completed': 0, 'utc_date': datetime.datetime(2015, 4, 20, 0, 0), 'has_visited': 1, 'projects_completed': 0, 'account_key': '108', 'total_minutes_visited': 25.9137858334, 'num_courses_visited': 2}\n",
      "{'lessons_completed': 0, 'utc_date': datetime.datetime(2015, 4, 21, 0, 0), 'has_visited': 1, 'projects_completed': 0, 'account_key': '108', 'total_minutes_visited': 3.40682316667, 'num_courses_visited': 1}\n",
      "{'lessons_completed': 0, 'utc_date': datetime.datetime(2015, 4, 22, 0, 0), 'has_visited': 1, 'projects_completed': 0, 'account_key': '108', 'total_minutes_visited': 99.1186611667, 'num_courses_visited': 2}\n",
      "{'lessons_completed': 0, 'utc_date': datetime.datetime(2015, 4, 23, 0, 0), 'has_visited': 1, 'projects_completed': 2, 'account_key': '108', 'total_minutes_visited': 35.8316206667, 'num_courses_visited': 1}\n",
      "{'lessons_completed': 0, 'utc_date': datetime.datetime(2015, 4, 24, 0, 0), 'has_visited': 0, 'projects_completed': 0, 'account_key': '108', 'total_minutes_visited': 0.0, 'num_courses_visited': 0}\n",
      "{'lessons_completed': 0, 'utc_date': datetime.datetime(2015, 4, 25, 0, 0), 'has_visited': 0, 'projects_completed': 0, 'account_key': '108', 'total_minutes_visited': 0.0, 'num_courses_visited': 0}\n",
      "{'lessons_completed': 0, 'utc_date': datetime.datetime(2015, 4, 26, 0, 0), 'has_visited': 0, 'projects_completed': 0, 'account_key': '108', 'total_minutes_visited': 0.0, 'num_courses_visited': 0}\n",
      "count of first week engagement for account key 108: 7\n"
     ]
    }
   ],
   "source": [
    "#Quiz: Debugging Data Analysis Code: looking at engagement records for 108\n",
    "\n",
    "#printing records of suspicious data point (minutes spent exceeds available minutes)\n",
    "count = 0\n",
    "for record in paid_engagement_first_week:\n",
    "    if record['account_key'] == '108':\n",
    "        count += 1\n",
    "        print(record)\n",
    "        \n",
    "print('count of first week engagement for account key 108:',count)"
   ]
  },
  {
   "cell_type": "markdown",
   "metadata": {},
   "source": [
    "We see that the dates are not within one week of eachother. This indicates that the student has enrolled more than once. The next step will be to verify this assumption."
   ]
  },
  {
   "cell_type": "code",
   "execution_count": 252,
   "metadata": {
    "collapsed": false
   },
   "outputs": [
    {
     "name": "stdout",
     "output_type": "stream",
     "text": [
      "{'status': 'canceled', 'join_date': datetime.datetime(2015, 1, 7, 0, 0), 'days_to_cancel': 103, 'account_key': '108', 'is_canceled': True, 'cancel_date': datetime.datetime(2015, 4, 20, 0, 0), 'is_udacity': False}\n",
      "{'status': 'canceled', 'join_date': datetime.datetime(2015, 4, 20, 0, 0), 'days_to_cancel': 24, 'account_key': '108', 'is_canceled': True, 'cancel_date': datetime.datetime(2015, 5, 14, 0, 0), 'is_udacity': False}\n"
     ]
    }
   ],
   "source": [
    "#Quiz: Debugging Data Analysis Code: looking for duplicates enrollment records for account key 108\n",
    "\n",
    "for enrolled in enrollments:\n",
    "    if enrolled['account_key'] == '108':\n",
    "        print(enrolled)"
   ]
  },
  {
   "cell_type": "markdown",
   "metadata": {},
   "source": [
    "Looking closer at the engagement records, it becomes clear that there must be something wrong with the within_one_week function: it allows engagement records older than the join date. I will correct this and run the cells again."
   ]
  },
  {
   "cell_type": "markdown",
   "metadata": {},
   "source": [
    "Now things look accurate."
   ]
  },
  {
   "cell_type": "code",
   "execution_count": 253,
   "metadata": {
    "collapsed": true
   },
   "outputs": [],
   "source": [
    "#Quiz: Lessons completed in first week\n",
    "\n",
    "#creating function to add total of engagement parameter per student (SQL: grouped by, count())\n",
    "def total_activity(para):\n",
    "    total_pairs = {}\n",
    "    for account_key,amount in engagement_by_account.items():\n",
    "        total_amount = 0\n",
    "        for record in amount:\n",
    "            total_amount += record[para]\n",
    "        total_pairs[account_key] = total_amount        \n",
    "    return total_pairs\n",
    "\n",
    "total_lessons_by_account = total_activity('lessons_completed')    \n"
   ]
  },
  {
   "cell_type": "code",
   "execution_count": 254,
   "metadata": {
    "collapsed": false
   },
   "outputs": [
    {
     "name": "stdout",
     "output_type": "stream",
     "text": [
      "395\n",
      "600\n",
      "0\n"
     ]
    }
   ],
   "source": [
    "count_zero = 0\n",
    "not_zero = 0\n",
    "\n",
    "\n",
    "for account,record in engagement_by_account.items():\n",
    "    for para in record:\n",
    "        count = 0\n",
    "        if para['has_visited'] == 0 and para['lessons_completed'] == 0:\n",
    "            count += 1\n",
    "    if count == 0:\n",
    "        count_zero += 1\n",
    "    else:\n",
    "        not_zero += 1\n",
    "            \n",
    "print(count_zero)\n",
    "print(not_zero)\n",
    "print(len(engagement_by_account)-not_zero-count_zero)"
   ]
  },
  {
   "cell_type": "code",
   "execution_count": 255,
   "metadata": {
    "collapsed": false
   },
   "outputs": [
    {
     "name": "stdout",
     "output_type": "stream",
     "text": [
      "995\n",
      "Mean: 1.63618090452\n",
      "Standard deviation: 3.00256129983\n",
      "Minimum: 0\n",
      "Maximum: 36\n"
     ]
    }
   ],
   "source": [
    "#Quiz: Lessons completed in first week: descriptive stats\n",
    "\n",
    "print(len(total_lessons_by_account))\n",
    "\n",
    "# Summarize the data about minutes spent in the classroom\n",
    "#creating function to give descriptive statistics of dictionary\n",
    "def desc_stats_of_dictionary(dictionary):\n",
    "    total_list = list(dictionary.values())\n",
    "    print('Mean:', np.mean(total_list))\n",
    "    print('Standard deviation:', np.std(total_list))\n",
    "    print('Minimum:', np.min(total_list))\n",
    "    print('Maximum:', np.max(total_list))\n",
    "\n",
    "desc_stats_of_dictionary(total_lessons_by_account)"
   ]
  },
  {
   "cell_type": "code",
   "execution_count": 256,
   "metadata": {
    "collapsed": false
   },
   "outputs": [
    {
     "data": {
      "text/plain": [
       "995"
      ]
     },
     "execution_count": 256,
     "metadata": {},
     "output_type": "execute_result"
    }
   ],
   "source": [
    "#Quiz: number of visits in the first week: counting days active per account\n",
    "\n",
    "total_active_days_per_account = total_activity('has_visited')\n",
    "\n",
    "len(total_active_days_per_account)"
   ]
  },
  {
   "cell_type": "code",
   "execution_count": 257,
   "metadata": {
    "collapsed": false
   },
   "outputs": [
    {
     "name": "stdout",
     "output_type": "stream",
     "text": [
      "Mean: 2.86733668342\n",
      "Standard deviation: 2.25519800292\n",
      "Minimum: 0\n",
      "Maximum: 7\n"
     ]
    }
   ],
   "source": [
    "#Quiz: number of visits in the first week: descriptive stats for active days\n",
    "desc_stats_of_dictionary(total_active_days_per_account)"
   ]
  },
  {
   "cell_type": "markdown",
   "metadata": {},
   "source": [
    "According to lesson this is incorrect, so I have to debug a little."
   ]
  },
  {
   "cell_type": "markdown",
   "metadata": {
    "collapsed": false
   },
   "source": [
    "#Quiz: number of visits in the first week: debugging\n",
    "\n",
    "#removing zero activity\n",
    "non_zero_total_active_by_account = {}\n",
    "\n",
    "for account in total_active_days_per_account:\n",
    "#    print(account,total_lessons_by_account[account])\n",
    "    if total_active_days_per_account[account] != 0:\n",
    "        non_zero_total_active_by_account[account] = total_active_days_per_account[account]\n",
    "        \n",
    "#getting descriptive statistics for first week only non-zero sessions\n",
    "desc_stats_of_dictionary(non_zero_total_active_by_account)"
   ]
  },
  {
   "cell_type": "code",
   "execution_count": 258,
   "metadata": {
    "collapsed": false
   },
   "outputs": [],
   "source": [
    "#functions to simplify debugging\n",
    "def group_data(data, key_name):\n",
    "    grouped_data = defaultdict(list)\n",
    "    for data_point in data:\n",
    "        key = data_point[key_name]\n",
    "        grouped_data[key].append(data_point)\n",
    "    return grouped_data\n",
    "\n",
    "def group_int_dict(dictionary):\n",
    "    grouped_data = {}\n",
    "    for data_point in dictionary:\n",
    "        if dictionary[data_point] not in grouped_data.keys():\n",
    "            grouped_data[dictionary[data_point]] = 0\n",
    "        grouped_data[(dictionary[data_point])] += 1\n",
    "    return grouped_data\n",
    "\n",
    "def sum_grouped_items(grouped_data, field_name):\n",
    "    summed_data = {}\n",
    "    for key, data_points in grouped_data.items():\n",
    "        total = 0\n",
    "        for data_point in data_points:\n",
    "            total += data_point[field_name]\n",
    "        summed_data[key] = total\n",
    "    return summed_data"
   ]
  },
  {
   "cell_type": "code",
   "execution_count": 259,
   "metadata": {
    "collapsed": false
   },
   "outputs": [
    {
     "name": "stdout",
     "output_type": "stream",
     "text": [
      "{0: 184, 1: 172, 2: 135, 3: 132, 4: 92, 5: 109, 6: 95, 7: 76}\n"
     ]
    }
   ],
   "source": [
    "print(group_int_dict(total_active_days_per_account))"
   ]
  },
  {
   "cell_type": "code",
   "execution_count": 261,
   "metadata": {
    "collapsed": false
   },
   "outputs": [
    {
     "name": "stdout",
     "output_type": "stream",
     "text": [
      "305 [{'lessons_completed': 1, 'utc_date': datetime.datetime(2015, 3, 10, 0, 0), 'has_visited': 1, 'projects_completed': 0, 'account_key': '305', 'total_minutes_visited': 60.887327, 'num_courses_visited': 1}, {'lessons_completed': 0, 'utc_date': datetime.datetime(2015, 3, 11, 0, 0), 'has_visited': 1, 'projects_completed': 0, 'account_key': '305', 'total_minutes_visited': 13.7848605, 'num_courses_visited': 2}, {'lessons_completed': 0, 'utc_date': datetime.datetime(2015, 3, 12, 0, 0), 'has_visited': 1, 'projects_completed': 0, 'account_key': '305', 'total_minutes_visited': 71.1922911667, 'num_courses_visited': 1}, {'lessons_completed': 0, 'utc_date': datetime.datetime(2015, 3, 13, 0, 0), 'has_visited': 1, 'projects_completed': 0, 'account_key': '305', 'total_minutes_visited': 4.43458183333, 'num_courses_visited': 1}, {'lessons_completed': 1, 'utc_date': datetime.datetime(2015, 3, 14, 0, 0), 'has_visited': 1, 'projects_completed': 0, 'account_key': '305', 'total_minutes_visited': 121.454781833, 'num_courses_visited': 1}, {'lessons_completed': 1, 'utc_date': datetime.datetime(2015, 3, 15, 0, 0), 'has_visited': 1, 'projects_completed': 0, 'account_key': '305', 'total_minutes_visited': 262.8451065, 'num_courses_visited': 1}, {'lessons_completed': 0, 'utc_date': datetime.datetime(2015, 3, 16, 0, 0), 'has_visited': 1, 'projects_completed': 0, 'account_key': '305', 'total_minutes_visited': 4.2907965, 'num_courses_visited': 1}]\n",
      "1204 [{'lessons_completed': 0, 'utc_date': datetime.datetime(2014, 11, 10, 0, 0), 'has_visited': 1, 'projects_completed': 0, 'account_key': '1204', 'total_minutes_visited': 6.0727825, 'num_courses_visited': 1}, {'lessons_completed': 0, 'utc_date': datetime.datetime(2014, 11, 11, 0, 0), 'has_visited': 1, 'projects_completed': 0, 'account_key': '1204', 'total_minutes_visited': 28.19543, 'num_courses_visited': 2}, {'lessons_completed': 0, 'utc_date': datetime.datetime(2014, 11, 12, 0, 0), 'has_visited': 1, 'projects_completed': 0, 'account_key': '1204', 'total_minutes_visited': 61.6919513333, 'num_courses_visited': 1}, {'lessons_completed': 1, 'utc_date': datetime.datetime(2014, 11, 13, 0, 0), 'has_visited': 1, 'projects_completed': 0, 'account_key': '1204', 'total_minutes_visited': 52.8931383333, 'num_courses_visited': 1}, {'lessons_completed': 0, 'utc_date': datetime.datetime(2014, 11, 14, 0, 0), 'has_visited': 1, 'projects_completed': 0, 'account_key': '1204', 'total_minutes_visited': 20.9632471667, 'num_courses_visited': 1}, {'lessons_completed': 0, 'utc_date': datetime.datetime(2014, 11, 15, 0, 0), 'has_visited': 1, 'projects_completed': 0, 'account_key': '1204', 'total_minutes_visited': 62.5955443333, 'num_courses_visited': 1}, {'lessons_completed': 1, 'utc_date': datetime.datetime(2014, 11, 16, 0, 0), 'has_visited': 1, 'projects_completed': 0, 'account_key': '1204', 'total_minutes_visited': 59.3661835, 'num_courses_visited': 1}]\n",
      "496 [{'lessons_completed': 0, 'utc_date': datetime.datetime(2015, 6, 3, 0, 0), 'has_visited': 1, 'projects_completed': 0, 'account_key': '496', 'total_minutes_visited': 32.4190098333, 'num_courses_visited': 1}, {'lessons_completed': 3, 'utc_date': datetime.datetime(2015, 6, 4, 0, 0), 'has_visited': 1, 'projects_completed': 0, 'account_key': '496', 'total_minutes_visited': 263.884294334, 'num_courses_visited': 2}, {'lessons_completed': 1, 'utc_date': datetime.datetime(2015, 6, 5, 0, 0), 'has_visited': 1, 'projects_completed': 0, 'account_key': '496', 'total_minutes_visited': 191.5792615, 'num_courses_visited': 1}, {'lessons_completed': 1, 'utc_date': datetime.datetime(2015, 6, 6, 0, 0), 'has_visited': 1, 'projects_completed': 0, 'account_key': '496', 'total_minutes_visited': 227.691914667, 'num_courses_visited': 1}, {'lessons_completed': 1, 'utc_date': datetime.datetime(2015, 6, 7, 0, 0), 'has_visited': 1, 'projects_completed': 0, 'account_key': '496', 'total_minutes_visited': 213.611928833, 'num_courses_visited': 3}, {'lessons_completed': 1, 'utc_date': datetime.datetime(2015, 6, 8, 0, 0), 'has_visited': 1, 'projects_completed': 0, 'account_key': '496', 'total_minutes_visited': 119.6344, 'num_courses_visited': 1}, {'lessons_completed': 1, 'utc_date': datetime.datetime(2015, 6, 9, 0, 0), 'has_visited': 1, 'projects_completed': 0, 'account_key': '496', 'total_minutes_visited': 168.348048, 'num_courses_visited': 1}]\n",
      "645 [{'lessons_completed': 0, 'utc_date': datetime.datetime(2015, 2, 9, 0, 0), 'has_visited': 1, 'projects_completed': 0, 'account_key': '645', 'total_minutes_visited': 79.9115558333, 'num_courses_visited': 1}, {'lessons_completed': 0, 'utc_date': datetime.datetime(2015, 2, 10, 0, 0), 'has_visited': 1, 'projects_completed': 0, 'account_key': '645', 'total_minutes_visited': 30.901381, 'num_courses_visited': 2}, {'lessons_completed': 0, 'utc_date': datetime.datetime(2015, 2, 11, 0, 0), 'has_visited': 1, 'projects_completed': 0, 'account_key': '645', 'total_minutes_visited': 68.6383481667, 'num_courses_visited': 1}, {'lessons_completed': 0, 'utc_date': datetime.datetime(2015, 2, 12, 0, 0), 'has_visited': 1, 'projects_completed': 0, 'account_key': '645', 'total_minutes_visited': 45.7567616667, 'num_courses_visited': 1}, {'lessons_completed': 1, 'utc_date': datetime.datetime(2015, 2, 13, 0, 0), 'has_visited': 1, 'projects_completed': 0, 'account_key': '645', 'total_minutes_visited': 164.946112833, 'num_courses_visited': 2}, {'lessons_completed': 0, 'utc_date': datetime.datetime(2015, 2, 14, 0, 0), 'has_visited': 1, 'projects_completed': 0, 'account_key': '645', 'total_minutes_visited': 352.5105105, 'num_courses_visited': 2}, {'lessons_completed': 1, 'utc_date': datetime.datetime(2015, 2, 15, 0, 0), 'has_visited': 1, 'projects_completed': 0, 'account_key': '645', 'total_minutes_visited': 104.733316167, 'num_courses_visited': 1}]\n",
      "272 [{'lessons_completed': 0, 'utc_date': datetime.datetime(2015, 1, 8, 0, 0), 'has_visited': 1, 'projects_completed': 0, 'account_key': '272', 'total_minutes_visited': 96.8722978333, 'num_courses_visited': 2}, {'lessons_completed': 0, 'utc_date': datetime.datetime(2015, 1, 9, 0, 0), 'has_visited': 1, 'projects_completed': 0, 'account_key': '272', 'total_minutes_visited': 94.697137, 'num_courses_visited': 1}, {'lessons_completed': 2, 'utc_date': datetime.datetime(2015, 1, 10, 0, 0), 'has_visited': 1, 'projects_completed': 0, 'account_key': '272', 'total_minutes_visited': 395.875028167, 'num_courses_visited': 1}, {'lessons_completed': 3, 'utc_date': datetime.datetime(2015, 1, 11, 0, 0), 'has_visited': 1, 'projects_completed': 0, 'account_key': '272', 'total_minutes_visited': 457.487777833, 'num_courses_visited': 3}, {'lessons_completed': 1, 'utc_date': datetime.datetime(2015, 1, 12, 0, 0), 'has_visited': 1, 'projects_completed': 0, 'account_key': '272', 'total_minutes_visited': 49.4396233333, 'num_courses_visited': 1}, {'lessons_completed': 2, 'utc_date': datetime.datetime(2015, 1, 13, 0, 0), 'has_visited': 1, 'projects_completed': 0, 'account_key': '272', 'total_minutes_visited': 71.9463331667, 'num_courses_visited': 3}, {'lessons_completed': 0, 'utc_date': datetime.datetime(2015, 1, 14, 0, 0), 'has_visited': 1, 'projects_completed': 0, 'account_key': '272', 'total_minutes_visited': 36.9042455, 'num_courses_visited': 2}]\n",
      "160 [{'lessons_completed': 0, 'utc_date': datetime.datetime(2014, 11, 11, 0, 0), 'has_visited': 1, 'projects_completed': 0, 'account_key': '160', 'total_minutes_visited': 67.2679746667, 'num_courses_visited': 1}, {'lessons_completed': 0, 'utc_date': datetime.datetime(2014, 11, 12, 0, 0), 'has_visited': 1, 'projects_completed': 0, 'account_key': '160', 'total_minutes_visited': 74.110111, 'num_courses_visited': 1}, {'lessons_completed': 1, 'utc_date': datetime.datetime(2014, 11, 13, 0, 0), 'has_visited': 1, 'projects_completed': 0, 'account_key': '160', 'total_minutes_visited': 66.8720918333, 'num_courses_visited': 1}, {'lessons_completed': 0, 'utc_date': datetime.datetime(2014, 11, 14, 0, 0), 'has_visited': 1, 'projects_completed': 0, 'account_key': '160', 'total_minutes_visited': 25.240252, 'num_courses_visited': 1}, {'lessons_completed': 1, 'utc_date': datetime.datetime(2014, 11, 15, 0, 0), 'has_visited': 1, 'projects_completed': 0, 'account_key': '160', 'total_minutes_visited': 140.896617667, 'num_courses_visited': 1}, {'lessons_completed': 0, 'utc_date': datetime.datetime(2014, 11, 16, 0, 0), 'has_visited': 1, 'projects_completed': 0, 'account_key': '160', 'total_minutes_visited': 210.5181935, 'num_courses_visited': 1}, {'lessons_completed': 0, 'utc_date': datetime.datetime(2014, 11, 17, 0, 0), 'has_visited': 1, 'projects_completed': 0, 'account_key': '160', 'total_minutes_visited': 45.2623208333, 'num_courses_visited': 1}]\n",
      "200 [{'lessons_completed': 0, 'utc_date': datetime.datetime(2015, 5, 12, 0, 0), 'has_visited': 1, 'projects_completed': 0, 'account_key': '200', 'total_minutes_visited': 105.8822535, 'num_courses_visited': 2}, {'lessons_completed': 0, 'utc_date': datetime.datetime(2015, 5, 13, 0, 0), 'has_visited': 1, 'projects_completed': 0, 'account_key': '200', 'total_minutes_visited': 49.2852528333, 'num_courses_visited': 2}, {'lessons_completed': 0, 'utc_date': datetime.datetime(2015, 5, 14, 0, 0), 'has_visited': 1, 'projects_completed': 0, 'account_key': '200', 'total_minutes_visited': 44.709468, 'num_courses_visited': 1}, {'lessons_completed': 1, 'utc_date': datetime.datetime(2015, 5, 15, 0, 0), 'has_visited': 1, 'projects_completed': 0, 'account_key': '200', 'total_minutes_visited': 74.9190191667, 'num_courses_visited': 1}, {'lessons_completed': 0, 'utc_date': datetime.datetime(2015, 5, 16, 0, 0), 'has_visited': 1, 'projects_completed': 0, 'account_key': '200', 'total_minutes_visited': 106.423569833, 'num_courses_visited': 2}, {'lessons_completed': 0, 'utc_date': datetime.datetime(2015, 5, 17, 0, 0), 'has_visited': 1, 'projects_completed': 0, 'account_key': '200', 'total_minutes_visited': 29.7137113333, 'num_courses_visited': 1}, {'lessons_completed': 0, 'utc_date': datetime.datetime(2015, 5, 18, 0, 0), 'has_visited': 1, 'projects_completed': 0, 'account_key': '200', 'total_minutes_visited': 37.5992678333, 'num_courses_visited': 1}]\n",
      "450 [{'lessons_completed': 1, 'utc_date': datetime.datetime(2014, 12, 7, 0, 0), 'has_visited': 1, 'projects_completed': 0, 'account_key': '450', 'total_minutes_visited': 172.435191, 'num_courses_visited': 2}, {'lessons_completed': 0, 'utc_date': datetime.datetime(2014, 12, 8, 0, 0), 'has_visited': 1, 'projects_completed': 0, 'account_key': '450', 'total_minutes_visited': 122.994166167, 'num_courses_visited': 1}, {'lessons_completed': 2, 'utc_date': datetime.datetime(2014, 12, 9, 0, 0), 'has_visited': 1, 'projects_completed': 0, 'account_key': '450', 'total_minutes_visited': 294.040706833, 'num_courses_visited': 1}, {'lessons_completed': 0, 'utc_date': datetime.datetime(2014, 12, 10, 0, 0), 'has_visited': 1, 'projects_completed': 0, 'account_key': '450', 'total_minutes_visited': 183.855818833, 'num_courses_visited': 1}, {'lessons_completed': 1, 'utc_date': datetime.datetime(2014, 12, 11, 0, 0), 'has_visited': 1, 'projects_completed': 0, 'account_key': '450', 'total_minutes_visited': 148.496379333, 'num_courses_visited': 1}, {'lessons_completed': 1, 'utc_date': datetime.datetime(2014, 12, 12, 0, 0), 'has_visited': 1, 'projects_completed': 0, 'account_key': '450', 'total_minutes_visited': 166.8862805, 'num_courses_visited': 1}, {'lessons_completed': 0, 'utc_date': datetime.datetime(2014, 12, 13, 0, 0), 'has_visited': 1, 'projects_completed': 0, 'account_key': '450', 'total_minutes_visited': 8.01884683333, 'num_courses_visited': 1}]\n",
      "1070 [{'lessons_completed': 4, 'utc_date': datetime.datetime(2015, 7, 19, 0, 0), 'has_visited': 1, 'projects_completed': 0, 'account_key': '1070', 'total_minutes_visited': 349.890091333, 'num_courses_visited': 2}, {'lessons_completed': 2, 'utc_date': datetime.datetime(2015, 7, 20, 0, 0), 'has_visited': 1, 'projects_completed': 0, 'account_key': '1070', 'total_minutes_visited': 154.638518834, 'num_courses_visited': 2}, {'lessons_completed': 0, 'utc_date': datetime.datetime(2015, 7, 21, 0, 0), 'has_visited': 1, 'projects_completed': 0, 'account_key': '1070', 'total_minutes_visited': 54.2229573333, 'num_courses_visited': 1}, {'lessons_completed': 4, 'utc_date': datetime.datetime(2015, 7, 22, 0, 0), 'has_visited': 1, 'projects_completed': 0, 'account_key': '1070', 'total_minutes_visited': 142.909192833, 'num_courses_visited': 1}, {'lessons_completed': 1, 'utc_date': datetime.datetime(2015, 7, 23, 0, 0), 'has_visited': 1, 'projects_completed': 0, 'account_key': '1070', 'total_minutes_visited': 180.177037667, 'num_courses_visited': 1}, {'lessons_completed': 1, 'utc_date': datetime.datetime(2015, 7, 24, 0, 0), 'has_visited': 1, 'projects_completed': 0, 'account_key': '1070', 'total_minutes_visited': 25.407032, 'num_courses_visited': 1}, {'lessons_completed': 4, 'utc_date': datetime.datetime(2015, 7, 25, 0, 0), 'has_visited': 1, 'projects_completed': 0, 'account_key': '1070', 'total_minutes_visited': 401.939800167, 'num_courses_visited': 1}]\n",
      "140 [{'lessons_completed': 0, 'utc_date': datetime.datetime(2015, 1, 14, 0, 0), 'has_visited': 1, 'projects_completed': 0, 'account_key': '140', 'total_minutes_visited': 79.4930525, 'num_courses_visited': 1}, {'lessons_completed': 0, 'utc_date': datetime.datetime(2015, 1, 15, 0, 0), 'has_visited': 1, 'projects_completed': 0, 'account_key': '140', 'total_minutes_visited': 282.2645835, 'num_courses_visited': 1}, {'lessons_completed': 1, 'utc_date': datetime.datetime(2015, 1, 16, 0, 0), 'has_visited': 1, 'projects_completed': 0, 'account_key': '140', 'total_minutes_visited': 536.993184833, 'num_courses_visited': 1}, {'lessons_completed': 1, 'utc_date': datetime.datetime(2015, 1, 17, 0, 0), 'has_visited': 1, 'projects_completed': 0, 'account_key': '140', 'total_minutes_visited': 461.840850167, 'num_courses_visited': 1}, {'lessons_completed': 1, 'utc_date': datetime.datetime(2015, 1, 18, 0, 0), 'has_visited': 1, 'projects_completed': 0, 'account_key': '140', 'total_minutes_visited': 205.673807, 'num_courses_visited': 2}, {'lessons_completed': 0, 'utc_date': datetime.datetime(2015, 1, 19, 0, 0), 'has_visited': 1, 'projects_completed': 0, 'account_key': '140', 'total_minutes_visited': 403.5470465, 'num_courses_visited': 1}, {'lessons_completed': 0, 'utc_date': datetime.datetime(2015, 1, 20, 0, 0), 'has_visited': 1, 'projects_completed': 0, 'account_key': '140', 'total_minutes_visited': 80.3031506667, 'num_courses_visited': 1}]\n",
      "171 [{'lessons_completed': 1, 'utc_date': datetime.datetime(2015, 3, 8, 0, 0), 'has_visited': 1, 'projects_completed': 0, 'account_key': '171', 'total_minutes_visited': 155.964784333, 'num_courses_visited': 2}, {'lessons_completed': 0, 'utc_date': datetime.datetime(2015, 3, 9, 0, 0), 'has_visited': 1, 'projects_completed': 0, 'account_key': '171', 'total_minutes_visited': 188.414733334, 'num_courses_visited': 2}, {'lessons_completed': 0, 'utc_date': datetime.datetime(2015, 3, 10, 0, 0), 'has_visited': 1, 'projects_completed': 0, 'account_key': '171', 'total_minutes_visited': 554.302259833, 'num_courses_visited': 1}, {'lessons_completed': 0, 'utc_date': datetime.datetime(2015, 3, 11, 0, 0), 'has_visited': 1, 'projects_completed': 0, 'account_key': '171', 'total_minutes_visited': 365.751880333, 'num_courses_visited': 1}, {'lessons_completed': 1, 'utc_date': datetime.datetime(2015, 3, 12, 0, 0), 'has_visited': 1, 'projects_completed': 0, 'account_key': '171', 'total_minutes_visited': 307.215479167, 'num_courses_visited': 1}, {'lessons_completed': 1, 'utc_date': datetime.datetime(2015, 3, 13, 0, 0), 'has_visited': 1, 'projects_completed': 0, 'account_key': '171', 'total_minutes_visited': 85.5307195, 'num_courses_visited': 1}, {'lessons_completed': 2, 'utc_date': datetime.datetime(2015, 3, 14, 0, 0), 'has_visited': 1, 'projects_completed': 0, 'account_key': '171', 'total_minutes_visited': 230.211357333, 'num_courses_visited': 1}]\n",
      "583 [{'lessons_completed': 0, 'utc_date': datetime.datetime(2014, 12, 8, 0, 0), 'has_visited': 1, 'projects_completed': 0, 'account_key': '583', 'total_minutes_visited': 110.77164, 'num_courses_visited': 1}, {'lessons_completed': 1, 'utc_date': datetime.datetime(2014, 12, 9, 0, 0), 'has_visited': 1, 'projects_completed': 0, 'account_key': '583', 'total_minutes_visited': 119.998695167, 'num_courses_visited': 1}, {'lessons_completed': 1, 'utc_date': datetime.datetime(2014, 12, 10, 0, 0), 'has_visited': 1, 'projects_completed': 0, 'account_key': '583', 'total_minutes_visited': 129.385732333, 'num_courses_visited': 2}, {'lessons_completed': 1, 'utc_date': datetime.datetime(2014, 12, 11, 0, 0), 'has_visited': 1, 'projects_completed': 0, 'account_key': '583', 'total_minutes_visited': 127.964872167, 'num_courses_visited': 1}, {'lessons_completed': 1, 'utc_date': datetime.datetime(2014, 12, 12, 0, 0), 'has_visited': 1, 'projects_completed': 0, 'account_key': '583', 'total_minutes_visited': 87.901108, 'num_courses_visited': 1}, {'lessons_completed': 1, 'utc_date': datetime.datetime(2014, 12, 13, 0, 0), 'has_visited': 1, 'projects_completed': 0, 'account_key': '583', 'total_minutes_visited': 100.5604385, 'num_courses_visited': 1}, {'lessons_completed': 1, 'utc_date': datetime.datetime(2014, 12, 14, 0, 0), 'has_visited': 1, 'projects_completed': 0, 'account_key': '583', 'total_minutes_visited': 85.5867945, 'num_courses_visited': 1}]\n",
      "388 [{'lessons_completed': 1, 'utc_date': datetime.datetime(2015, 2, 3, 0, 0), 'has_visited': 1, 'projects_completed': 0, 'account_key': '388', 'total_minutes_visited': 140.584584833, 'num_courses_visited': 1}, {'lessons_completed': 1, 'utc_date': datetime.datetime(2015, 2, 4, 0, 0), 'has_visited': 1, 'projects_completed': 0, 'account_key': '388', 'total_minutes_visited': 204.928908, 'num_courses_visited': 1}, {'lessons_completed': 1, 'utc_date': datetime.datetime(2015, 2, 5, 0, 0), 'has_visited': 1, 'projects_completed': 0, 'account_key': '388', 'total_minutes_visited': 246.758515833, 'num_courses_visited': 1}, {'lessons_completed': 1, 'utc_date': datetime.datetime(2015, 2, 6, 0, 0), 'has_visited': 1, 'projects_completed': 0, 'account_key': '388', 'total_minutes_visited': 113.356591667, 'num_courses_visited': 1}, {'lessons_completed': 0, 'utc_date': datetime.datetime(2015, 2, 7, 0, 0), 'has_visited': 1, 'projects_completed': 0, 'account_key': '388', 'total_minutes_visited': 4.58690733333, 'num_courses_visited': 1}, {'lessons_completed': 1, 'utc_date': datetime.datetime(2015, 2, 8, 0, 0), 'has_visited': 1, 'projects_completed': 0, 'account_key': '388', 'total_minutes_visited': 142.210111, 'num_courses_visited': 2}, {'lessons_completed': 0, 'utc_date': datetime.datetime(2015, 2, 9, 0, 0), 'has_visited': 1, 'projects_completed': 0, 'account_key': '388', 'total_minutes_visited': 355.626536, 'num_courses_visited': 2}]\n",
      "23 [{'lessons_completed': 0, 'utc_date': datetime.datetime(2014, 11, 10, 0, 0), 'has_visited': 1, 'projects_completed': 0, 'account_key': '23', 'total_minutes_visited': 70.513244, 'num_courses_visited': 2}, {'lessons_completed': 1, 'utc_date': datetime.datetime(2014, 11, 11, 0, 0), 'has_visited': 1, 'projects_completed': 0, 'account_key': '23', 'total_minutes_visited': 242.2342925, 'num_courses_visited': 2}, {'lessons_completed': 1, 'utc_date': datetime.datetime(2014, 11, 12, 0, 0), 'has_visited': 1, 'projects_completed': 0, 'account_key': '23', 'total_minutes_visited': 278.59787, 'num_courses_visited': 2}, {'lessons_completed': 1, 'utc_date': datetime.datetime(2014, 11, 13, 0, 0), 'has_visited': 1, 'projects_completed': 0, 'account_key': '23', 'total_minutes_visited': 385.771906167, 'num_courses_visited': 2}, {'lessons_completed': 1, 'utc_date': datetime.datetime(2014, 11, 14, 0, 0), 'has_visited': 1, 'projects_completed': 0, 'account_key': '23', 'total_minutes_visited': 111.180808333, 'num_courses_visited': 1}, {'lessons_completed': 2, 'utc_date': datetime.datetime(2014, 11, 15, 0, 0), 'has_visited': 1, 'projects_completed': 0, 'account_key': '23', 'total_minutes_visited': 417.944309, 'num_courses_visited': 2}, {'lessons_completed': 0, 'utc_date': datetime.datetime(2014, 11, 16, 0, 0), 'has_visited': 1, 'projects_completed': 0, 'account_key': '23', 'total_minutes_visited': 85.0803843334, 'num_courses_visited': 3}]\n",
      "360 [{'lessons_completed': 0, 'utc_date': datetime.datetime(2015, 5, 6, 0, 0), 'has_visited': 1, 'projects_completed': 0, 'account_key': '360', 'total_minutes_visited': 48.8487535, 'num_courses_visited': 1}, {'lessons_completed': 1, 'utc_date': datetime.datetime(2015, 5, 7, 0, 0), 'has_visited': 1, 'projects_completed': 0, 'account_key': '360', 'total_minutes_visited': 136.246465833, 'num_courses_visited': 2}, {'lessons_completed': 0, 'utc_date': datetime.datetime(2015, 5, 8, 0, 0), 'has_visited': 1, 'projects_completed': 0, 'account_key': '360', 'total_minutes_visited': 76.8673838333, 'num_courses_visited': 1}, {'lessons_completed': 0, 'utc_date': datetime.datetime(2015, 5, 9, 0, 0), 'has_visited': 1, 'projects_completed': 0, 'account_key': '360', 'total_minutes_visited': 192.619842, 'num_courses_visited': 1}, {'lessons_completed': 1, 'utc_date': datetime.datetime(2015, 5, 10, 0, 0), 'has_visited': 1, 'projects_completed': 0, 'account_key': '360', 'total_minutes_visited': 23.7150191667, 'num_courses_visited': 1}, {'lessons_completed': 0, 'utc_date': datetime.datetime(2015, 5, 11, 0, 0), 'has_visited': 1, 'projects_completed': 0, 'account_key': '360', 'total_minutes_visited': 45.9516735, 'num_courses_visited': 1}, {'lessons_completed': 1, 'utc_date': datetime.datetime(2015, 5, 12, 0, 0), 'has_visited': 1, 'projects_completed': 0, 'account_key': '360', 'total_minutes_visited': 153.029935833, 'num_courses_visited': 2}]\n",
      "493 [{'lessons_completed': 1, 'utc_date': datetime.datetime(2015, 2, 5, 0, 0), 'has_visited': 1, 'projects_completed': 0, 'account_key': '493', 'total_minutes_visited': 85.7104451667, 'num_courses_visited': 2}, {'lessons_completed': 0, 'utc_date': datetime.datetime(2015, 2, 6, 0, 0), 'has_visited': 1, 'projects_completed': 0, 'account_key': '493', 'total_minutes_visited': 68.5559633333, 'num_courses_visited': 1}, {'lessons_completed': 1, 'utc_date': datetime.datetime(2015, 2, 7, 0, 0), 'has_visited': 1, 'projects_completed': 0, 'account_key': '493', 'total_minutes_visited': 118.755673833, 'num_courses_visited': 1}, {'lessons_completed': 1, 'utc_date': datetime.datetime(2015, 2, 8, 0, 0), 'has_visited': 1, 'projects_completed': 0, 'account_key': '493', 'total_minutes_visited': 96.811023, 'num_courses_visited': 2}, {'lessons_completed': 0, 'utc_date': datetime.datetime(2015, 2, 9, 0, 0), 'has_visited': 1, 'projects_completed': 0, 'account_key': '493', 'total_minutes_visited': 72.4067043333, 'num_courses_visited': 1}, {'lessons_completed': 0, 'utc_date': datetime.datetime(2015, 2, 10, 0, 0), 'has_visited': 1, 'projects_completed': 0, 'account_key': '493', 'total_minutes_visited': 53.3069373333, 'num_courses_visited': 1}, {'lessons_completed': 1, 'utc_date': datetime.datetime(2015, 2, 11, 0, 0), 'has_visited': 1, 'projects_completed': 0, 'account_key': '493', 'total_minutes_visited': 91.193774, 'num_courses_visited': 2}]\n",
      "206 [{'lessons_completed': 0, 'utc_date': datetime.datetime(2014, 11, 10, 0, 0), 'has_visited': 1, 'projects_completed': 0, 'account_key': '206', 'total_minutes_visited': 235.104621166, 'num_courses_visited': 2}, {'lessons_completed': 0, 'utc_date': datetime.datetime(2014, 11, 11, 0, 0), 'has_visited': 1, 'projects_completed': 0, 'account_key': '206', 'total_minutes_visited': 75.0560113333, 'num_courses_visited': 2}, {'lessons_completed': 1, 'utc_date': datetime.datetime(2014, 11, 12, 0, 0), 'has_visited': 1, 'projects_completed': 0, 'account_key': '206', 'total_minutes_visited': 32.9064898333, 'num_courses_visited': 1}, {'lessons_completed': 1, 'utc_date': datetime.datetime(2014, 11, 13, 0, 0), 'has_visited': 1, 'projects_completed': 0, 'account_key': '206', 'total_minutes_visited': 84.9632036667, 'num_courses_visited': 1}, {'lessons_completed': 0, 'utc_date': datetime.datetime(2014, 11, 14, 0, 0), 'has_visited': 1, 'projects_completed': 0, 'account_key': '206', 'total_minutes_visited': 28.958659, 'num_courses_visited': 1}, {'lessons_completed': 1, 'utc_date': datetime.datetime(2014, 11, 15, 0, 0), 'has_visited': 1, 'projects_completed': 0, 'account_key': '206', 'total_minutes_visited': 171.245912667, 'num_courses_visited': 1}, {'lessons_completed': 0, 'utc_date': datetime.datetime(2014, 11, 16, 0, 0), 'has_visited': 1, 'projects_completed': 0, 'account_key': '206', 'total_minutes_visited': 4.912459, 'num_courses_visited': 1}]\n",
      "540 [{'lessons_completed': 0, 'utc_date': datetime.datetime(2015, 5, 8, 0, 0), 'has_visited': 1, 'projects_completed': 0, 'account_key': '540', 'total_minutes_visited': 41.7981266666, 'num_courses_visited': 2}, {'lessons_completed': 0, 'utc_date': datetime.datetime(2015, 5, 9, 0, 0), 'has_visited': 1, 'projects_completed': 0, 'account_key': '540', 'total_minutes_visited': 11.1322943333, 'num_courses_visited': 1}, {'lessons_completed': 1, 'utc_date': datetime.datetime(2015, 5, 10, 0, 0), 'has_visited': 1, 'projects_completed': 0, 'account_key': '540', 'total_minutes_visited': 6.65330383333, 'num_courses_visited': 1}, {'lessons_completed': 0, 'utc_date': datetime.datetime(2015, 5, 11, 0, 0), 'has_visited': 1, 'projects_completed': 0, 'account_key': '540', 'total_minutes_visited': 123.946116667, 'num_courses_visited': 2}, {'lessons_completed': 0, 'utc_date': datetime.datetime(2015, 5, 12, 0, 0), 'has_visited': 1, 'projects_completed': 0, 'account_key': '540', 'total_minutes_visited': 30.0395761667, 'num_courses_visited': 1}, {'lessons_completed': 0, 'utc_date': datetime.datetime(2015, 5, 13, 0, 0), 'has_visited': 1, 'projects_completed': 0, 'account_key': '540', 'total_minutes_visited': 69.9443323333, 'num_courses_visited': 1}, {'lessons_completed': 1, 'utc_date': datetime.datetime(2015, 5, 14, 0, 0), 'has_visited': 1, 'projects_completed': 0, 'account_key': '540', 'total_minutes_visited': 157.447559167, 'num_courses_visited': 1}]\n",
      "175 [{'lessons_completed': 3, 'utc_date': datetime.datetime(2015, 5, 9, 0, 0), 'has_visited': 1, 'projects_completed': 0, 'account_key': '175', 'total_minutes_visited': 469.327925, 'num_courses_visited': 2}, {'lessons_completed': 1, 'utc_date': datetime.datetime(2015, 5, 10, 0, 0), 'has_visited': 1, 'projects_completed': 0, 'account_key': '175', 'total_minutes_visited': 265.835024167, 'num_courses_visited': 1}, {'lessons_completed': 2, 'utc_date': datetime.datetime(2015, 5, 11, 0, 0), 'has_visited': 1, 'projects_completed': 0, 'account_key': '175', 'total_minutes_visited': 287.549442, 'num_courses_visited': 1}, {'lessons_completed': 1, 'utc_date': datetime.datetime(2015, 5, 12, 0, 0), 'has_visited': 1, 'projects_completed': 0, 'account_key': '175', 'total_minutes_visited': 550.245353667, 'num_courses_visited': 1}, {'lessons_completed': 2, 'utc_date': datetime.datetime(2015, 5, 13, 0, 0), 'has_visited': 1, 'projects_completed': 0, 'account_key': '175', 'total_minutes_visited': 365.714609667, 'num_courses_visited': 2}, {'lessons_completed': 1, 'utc_date': datetime.datetime(2015, 5, 14, 0, 0), 'has_visited': 1, 'projects_completed': 0, 'account_key': '175', 'total_minutes_visited': 352.5950265, 'num_courses_visited': 2}, {'lessons_completed': 0, 'utc_date': datetime.datetime(2015, 5, 15, 0, 0), 'has_visited': 1, 'projects_completed': 0, 'account_key': '175', 'total_minutes_visited': 84.5281176667, 'num_courses_visited': 1}]\n",
      "274 [{'lessons_completed': 1, 'utc_date': datetime.datetime(2015, 5, 6, 0, 0), 'has_visited': 1, 'projects_completed': 0, 'account_key': '274', 'total_minutes_visited': 63.143215, 'num_courses_visited': 1}, {'lessons_completed': 0, 'utc_date': datetime.datetime(2015, 5, 7, 0, 0), 'has_visited': 1, 'projects_completed': 0, 'account_key': '274', 'total_minutes_visited': 84.112366, 'num_courses_visited': 1}, {'lessons_completed': 2, 'utc_date': datetime.datetime(2015, 5, 8, 0, 0), 'has_visited': 1, 'projects_completed': 0, 'account_key': '274', 'total_minutes_visited': 373.832377, 'num_courses_visited': 1}, {'lessons_completed': 1, 'utc_date': datetime.datetime(2015, 5, 9, 0, 0), 'has_visited': 1, 'projects_completed': 0, 'account_key': '274', 'total_minutes_visited': 404.408017833, 'num_courses_visited': 1}, {'lessons_completed': 0, 'utc_date': datetime.datetime(2015, 5, 10, 0, 0), 'has_visited': 1, 'projects_completed': 0, 'account_key': '274', 'total_minutes_visited': 46.5142261667, 'num_courses_visited': 1}, {'lessons_completed': 1, 'utc_date': datetime.datetime(2015, 5, 11, 0, 0), 'has_visited': 1, 'projects_completed': 0, 'account_key': '274', 'total_minutes_visited': 314.5463495, 'num_courses_visited': 1}, {'lessons_completed': 1, 'utc_date': datetime.datetime(2015, 5, 12, 0, 0), 'has_visited': 1, 'projects_completed': 0, 'account_key': '274', 'total_minutes_visited': 148.459508833, 'num_courses_visited': 1}]\n",
      "517 [{'lessons_completed': 0, 'utc_date': datetime.datetime(2015, 3, 6, 0, 0), 'has_visited': 1, 'projects_completed': 0, 'account_key': '517', 'total_minutes_visited': 28.4848881667, 'num_courses_visited': 1}, {'lessons_completed': 1, 'utc_date': datetime.datetime(2015, 3, 7, 0, 0), 'has_visited': 1, 'projects_completed': 0, 'account_key': '517', 'total_minutes_visited': 346.6533005, 'num_courses_visited': 2}, {'lessons_completed': 0, 'utc_date': datetime.datetime(2015, 3, 8, 0, 0), 'has_visited': 1, 'projects_completed': 0, 'account_key': '517', 'total_minutes_visited': 143.3894745, 'num_courses_visited': 2}, {'lessons_completed': 0, 'utc_date': datetime.datetime(2015, 3, 9, 0, 0), 'has_visited': 1, 'projects_completed': 0, 'account_key': '517', 'total_minutes_visited': 74.4287886667, 'num_courses_visited': 1}, {'lessons_completed': 0, 'utc_date': datetime.datetime(2015, 3, 10, 0, 0), 'has_visited': 1, 'projects_completed': 0, 'account_key': '517', 'total_minutes_visited': 213.589220167, 'num_courses_visited': 1}, {'lessons_completed': 0, 'utc_date': datetime.datetime(2015, 3, 11, 0, 0), 'has_visited': 1, 'projects_completed': 0, 'account_key': '517', 'total_minutes_visited': 339.994972, 'num_courses_visited': 1}, {'lessons_completed': 2, 'utc_date': datetime.datetime(2015, 3, 12, 0, 0), 'has_visited': 1, 'projects_completed': 0, 'account_key': '517', 'total_minutes_visited': 234.5621755, 'num_courses_visited': 1}]\n",
      "203 [{'lessons_completed': 1, 'utc_date': datetime.datetime(2015, 5, 12, 0, 0), 'has_visited': 1, 'projects_completed': 0, 'account_key': '203', 'total_minutes_visited': 177.575951, 'num_courses_visited': 3}, {'lessons_completed': 0, 'utc_date': datetime.datetime(2015, 5, 13, 0, 0), 'has_visited': 1, 'projects_completed': 0, 'account_key': '203', 'total_minutes_visited': 103.5379065, 'num_courses_visited': 1}, {'lessons_completed': 0, 'utc_date': datetime.datetime(2015, 5, 14, 0, 0), 'has_visited': 1, 'projects_completed': 0, 'account_key': '203', 'total_minutes_visited': 60.8117, 'num_courses_visited': 1}, {'lessons_completed': 0, 'utc_date': datetime.datetime(2015, 5, 15, 0, 0), 'has_visited': 1, 'projects_completed': 0, 'account_key': '203', 'total_minutes_visited': 12.5271273333, 'num_courses_visited': 1}, {'lessons_completed': 1, 'utc_date': datetime.datetime(2015, 5, 16, 0, 0), 'has_visited': 1, 'projects_completed': 0, 'account_key': '203', 'total_minutes_visited': 176.6559955, 'num_courses_visited': 1}, {'lessons_completed': 0, 'utc_date': datetime.datetime(2015, 5, 17, 0, 0), 'has_visited': 1, 'projects_completed': 0, 'account_key': '203', 'total_minutes_visited': 27.2412191667, 'num_courses_visited': 1}, {'lessons_completed': 0, 'utc_date': datetime.datetime(2015, 5, 18, 0, 0), 'has_visited': 1, 'projects_completed': 0, 'account_key': '203', 'total_minutes_visited': 47.420946, 'num_courses_visited': 1}]\n",
      "439 [{'lessons_completed': 1, 'utc_date': datetime.datetime(2015, 3, 10, 0, 0), 'has_visited': 1, 'projects_completed': 0, 'account_key': '439', 'total_minutes_visited': 139.331568, 'num_courses_visited': 1}, {'lessons_completed': 0, 'utc_date': datetime.datetime(2015, 3, 11, 0, 0), 'has_visited': 1, 'projects_completed': 0, 'account_key': '439', 'total_minutes_visited': 103.485488333, 'num_courses_visited': 1}, {'lessons_completed': 0, 'utc_date': datetime.datetime(2015, 3, 12, 0, 0), 'has_visited': 1, 'projects_completed': 0, 'account_key': '439', 'total_minutes_visited': 9.90588616667, 'num_courses_visited': 1}, {'lessons_completed': 0, 'utc_date': datetime.datetime(2015, 3, 13, 0, 0), 'has_visited': 1, 'projects_completed': 0, 'account_key': '439', 'total_minutes_visited': 78.749923, 'num_courses_visited': 2}, {'lessons_completed': 1, 'utc_date': datetime.datetime(2015, 3, 14, 0, 0), 'has_visited': 1, 'projects_completed': 0, 'account_key': '439', 'total_minutes_visited': 91.8917121667, 'num_courses_visited': 1}, {'lessons_completed': 0, 'utc_date': datetime.datetime(2015, 3, 15, 0, 0), 'has_visited': 1, 'projects_completed': 0, 'account_key': '439', 'total_minutes_visited': 324.888308667, 'num_courses_visited': 2}, {'lessons_completed': 0, 'utc_date': datetime.datetime(2015, 3, 16, 0, 0), 'has_visited': 1, 'projects_completed': 0, 'account_key': '439', 'total_minutes_visited': 99.1282673333, 'num_courses_visited': 1}]\n",
      "572 [{'lessons_completed': 1, 'utc_date': datetime.datetime(2015, 5, 28, 0, 0), 'has_visited': 1, 'projects_completed': 0, 'account_key': '572', 'total_minutes_visited': 76.5067748334, 'num_courses_visited': 2}, {'lessons_completed': 1, 'utc_date': datetime.datetime(2015, 5, 29, 0, 0), 'has_visited': 1, 'projects_completed': 0, 'account_key': '572', 'total_minutes_visited': 95.2932773333, 'num_courses_visited': 1}, {'lessons_completed': 2, 'utc_date': datetime.datetime(2015, 5, 30, 0, 0), 'has_visited': 1, 'projects_completed': 0, 'account_key': '572', 'total_minutes_visited': 306.377660667, 'num_courses_visited': 1}, {'lessons_completed': 0, 'utc_date': datetime.datetime(2015, 5, 31, 0, 0), 'has_visited': 1, 'projects_completed': 0, 'account_key': '572', 'total_minutes_visited': 106.786218167, 'num_courses_visited': 1}, {'lessons_completed': 1, 'utc_date': datetime.datetime(2015, 6, 1, 0, 0), 'has_visited': 1, 'projects_completed': 0, 'account_key': '572', 'total_minutes_visited': 68.0609898333, 'num_courses_visited': 1}, {'lessons_completed': 1, 'utc_date': datetime.datetime(2015, 6, 2, 0, 0), 'has_visited': 1, 'projects_completed': 0, 'account_key': '572', 'total_minutes_visited': 180.148867334, 'num_courses_visited': 2}, {'lessons_completed': 0, 'utc_date': datetime.datetime(2015, 6, 3, 0, 0), 'has_visited': 1, 'projects_completed': 0, 'account_key': '572', 'total_minutes_visited': 73.9375055, 'num_courses_visited': 1}]\n",
      "1149 [{'lessons_completed': 1, 'utc_date': datetime.datetime(2015, 4, 1, 0, 0), 'has_visited': 1, 'projects_completed': 0, 'account_key': '1149', 'total_minutes_visited': 54.9020681667, 'num_courses_visited': 1}, {'lessons_completed': 0, 'utc_date': datetime.datetime(2015, 4, 2, 0, 0), 'has_visited': 1, 'projects_completed': 0, 'account_key': '1149', 'total_minutes_visited': 122.6656015, 'num_courses_visited': 1}, {'lessons_completed': 1, 'utc_date': datetime.datetime(2015, 4, 3, 0, 0), 'has_visited': 1, 'projects_completed': 0, 'account_key': '1149', 'total_minutes_visited': 222.374075833, 'num_courses_visited': 1}, {'lessons_completed': 0, 'utc_date': datetime.datetime(2015, 4, 4, 0, 0), 'has_visited': 1, 'projects_completed': 0, 'account_key': '1149', 'total_minutes_visited': 87.6222501667, 'num_courses_visited': 1}, {'lessons_completed': 1, 'utc_date': datetime.datetime(2015, 4, 5, 0, 0), 'has_visited': 1, 'projects_completed': 0, 'account_key': '1149', 'total_minutes_visited': 62.5475125, 'num_courses_visited': 1}, {'lessons_completed': 0, 'utc_date': datetime.datetime(2015, 4, 6, 0, 0), 'has_visited': 1, 'projects_completed': 0, 'account_key': '1149', 'total_minutes_visited': 122.260688833, 'num_courses_visited': 1}, {'lessons_completed': 0, 'utc_date': datetime.datetime(2015, 4, 7, 0, 0), 'has_visited': 1, 'projects_completed': 0, 'account_key': '1149', 'total_minutes_visited': 204.273293, 'num_courses_visited': 1}]\n",
      "483 [{'lessons_completed': 0, 'utc_date': datetime.datetime(2014, 11, 10, 0, 0), 'has_visited': 1, 'projects_completed': 0, 'account_key': '483', 'total_minutes_visited': 117.6854695, 'num_courses_visited': 2}, {'lessons_completed': 0, 'utc_date': datetime.datetime(2014, 11, 11, 0, 0), 'has_visited': 1, 'projects_completed': 0, 'account_key': '483', 'total_minutes_visited': 41.3595573333, 'num_courses_visited': 1}, {'lessons_completed': 0, 'utc_date': datetime.datetime(2014, 11, 12, 0, 0), 'has_visited': 1, 'projects_completed': 0, 'account_key': '483', 'total_minutes_visited': 147.358991667, 'num_courses_visited': 3}, {'lessons_completed': 0, 'utc_date': datetime.datetime(2014, 11, 13, 0, 0), 'has_visited': 1, 'projects_completed': 0, 'account_key': '483', 'total_minutes_visited': 192.264204333, 'num_courses_visited': 1}, {'lessons_completed': 0, 'utc_date': datetime.datetime(2014, 11, 14, 0, 0), 'has_visited': 1, 'projects_completed': 0, 'account_key': '483', 'total_minutes_visited': 52.7487276667, 'num_courses_visited': 2}, {'lessons_completed': 0, 'utc_date': datetime.datetime(2014, 11, 15, 0, 0), 'has_visited': 1, 'projects_completed': 0, 'account_key': '483', 'total_minutes_visited': 36.727837, 'num_courses_visited': 1}, {'lessons_completed': 0, 'utc_date': datetime.datetime(2014, 11, 16, 0, 0), 'has_visited': 1, 'projects_completed': 0, 'account_key': '483', 'total_minutes_visited': 128.237736666, 'num_courses_visited': 2}]\n",
      "544 [{'lessons_completed': 0, 'utc_date': datetime.datetime(2014, 11, 10, 0, 0), 'has_visited': 1, 'projects_completed': 0, 'account_key': '544', 'total_minutes_visited': 82.0773793333, 'num_courses_visited': 2}, {'lessons_completed': 0, 'utc_date': datetime.datetime(2014, 11, 11, 0, 0), 'has_visited': 1, 'projects_completed': 0, 'account_key': '544', 'total_minutes_visited': 242.404601333, 'num_courses_visited': 2}, {'lessons_completed': 0, 'utc_date': datetime.datetime(2014, 11, 12, 0, 0), 'has_visited': 1, 'projects_completed': 0, 'account_key': '544', 'total_minutes_visited': 181.4594655, 'num_courses_visited': 2}, {'lessons_completed': 0, 'utc_date': datetime.datetime(2014, 11, 13, 0, 0), 'has_visited': 1, 'projects_completed': 0, 'account_key': '544', 'total_minutes_visited': 69.7775428333, 'num_courses_visited': 2}, {'lessons_completed': 0, 'utc_date': datetime.datetime(2014, 11, 14, 0, 0), 'has_visited': 1, 'projects_completed': 0, 'account_key': '544', 'total_minutes_visited': 60.586124, 'num_courses_visited': 1}, {'lessons_completed': 0, 'utc_date': datetime.datetime(2014, 11, 15, 0, 0), 'has_visited': 1, 'projects_completed': 0, 'account_key': '544', 'total_minutes_visited': 51.6638341667, 'num_courses_visited': 1}, {'lessons_completed': 6, 'utc_date': datetime.datetime(2014, 11, 16, 0, 0), 'has_visited': 1, 'projects_completed': 0, 'account_key': '544', 'total_minutes_visited': 733.774659167, 'num_courses_visited': 2}]\n",
      "232 [{'lessons_completed': 0, 'utc_date': datetime.datetime(2015, 1, 8, 0, 0), 'has_visited': 1, 'projects_completed': 0, 'account_key': '232', 'total_minutes_visited': 76.3267285, 'num_courses_visited': 2}, {'lessons_completed': 0, 'utc_date': datetime.datetime(2015, 1, 9, 0, 0), 'has_visited': 1, 'projects_completed': 0, 'account_key': '232', 'total_minutes_visited': 117.891563667, 'num_courses_visited': 1}, {'lessons_completed': 2, 'utc_date': datetime.datetime(2015, 1, 10, 0, 0), 'has_visited': 1, 'projects_completed': 0, 'account_key': '232', 'total_minutes_visited': 280.3845345, 'num_courses_visited': 1}, {'lessons_completed': 0, 'utc_date': datetime.datetime(2015, 1, 11, 0, 0), 'has_visited': 1, 'projects_completed': 0, 'account_key': '232', 'total_minutes_visited': 106.626291833, 'num_courses_visited': 1}, {'lessons_completed': 1, 'utc_date': datetime.datetime(2015, 1, 12, 0, 0), 'has_visited': 1, 'projects_completed': 0, 'account_key': '232', 'total_minutes_visited': 136.157563833, 'num_courses_visited': 1}, {'lessons_completed': 1, 'utc_date': datetime.datetime(2015, 1, 13, 0, 0), 'has_visited': 1, 'projects_completed': 0, 'account_key': '232', 'total_minutes_visited': 64.9678036667, 'num_courses_visited': 1}, {'lessons_completed': 1, 'utc_date': datetime.datetime(2015, 1, 14, 0, 0), 'has_visited': 1, 'projects_completed': 0, 'account_key': '232', 'total_minutes_visited': 385.898200167, 'num_courses_visited': 1}]\n",
      "706 [{'lessons_completed': 1, 'utc_date': datetime.datetime(2015, 4, 7, 0, 0), 'has_visited': 1, 'projects_completed': 0, 'account_key': '706', 'total_minutes_visited': 137.410877833, 'num_courses_visited': 2}, {'lessons_completed': 0, 'utc_date': datetime.datetime(2015, 4, 8, 0, 0), 'has_visited': 1, 'projects_completed': 0, 'account_key': '706', 'total_minutes_visited': 84.7885625, 'num_courses_visited': 1}, {'lessons_completed': 1, 'utc_date': datetime.datetime(2015, 4, 9, 0, 0), 'has_visited': 1, 'projects_completed': 0, 'account_key': '706', 'total_minutes_visited': 137.356878167, 'num_courses_visited': 1}, {'lessons_completed': 3, 'utc_date': datetime.datetime(2015, 4, 10, 0, 0), 'has_visited': 1, 'projects_completed': 0, 'account_key': '706', 'total_minutes_visited': 247.458181834, 'num_courses_visited': 2}, {'lessons_completed': 2, 'utc_date': datetime.datetime(2015, 4, 11, 0, 0), 'has_visited': 1, 'projects_completed': 0, 'account_key': '706', 'total_minutes_visited': 265.441772333, 'num_courses_visited': 1}, {'lessons_completed': 1, 'utc_date': datetime.datetime(2015, 4, 12, 0, 0), 'has_visited': 1, 'projects_completed': 0, 'account_key': '706', 'total_minutes_visited': 345.6225725, 'num_courses_visited': 2}, {'lessons_completed': 1, 'utc_date': datetime.datetime(2015, 4, 13, 0, 0), 'has_visited': 1, 'projects_completed': 0, 'account_key': '706', 'total_minutes_visited': 111.880985333, 'num_courses_visited': 1}]\n",
      "204 [{'lessons_completed': 0, 'utc_date': datetime.datetime(2014, 11, 10, 0, 0), 'has_visited': 1, 'projects_completed': 0, 'account_key': '204', 'total_minutes_visited': 62.5945193334, 'num_courses_visited': 2}, {'lessons_completed': 0, 'utc_date': datetime.datetime(2014, 11, 11, 0, 0), 'has_visited': 1, 'projects_completed': 0, 'account_key': '204', 'total_minutes_visited': 78.4168676667, 'num_courses_visited': 2}, {'lessons_completed': 0, 'utc_date': datetime.datetime(2014, 11, 12, 0, 0), 'has_visited': 1, 'projects_completed': 0, 'account_key': '204', 'total_minutes_visited': 58.1036585, 'num_courses_visited': 1}, {'lessons_completed': 2, 'utc_date': datetime.datetime(2014, 11, 13, 0, 0), 'has_visited': 1, 'projects_completed': 0, 'account_key': '204', 'total_minutes_visited': 83.1503453333, 'num_courses_visited': 1}, {'lessons_completed': 0, 'utc_date': datetime.datetime(2014, 11, 14, 0, 0), 'has_visited': 1, 'projects_completed': 0, 'account_key': '204', 'total_minutes_visited': 142.478368167, 'num_courses_visited': 1}, {'lessons_completed': 0, 'utc_date': datetime.datetime(2014, 11, 15, 0, 0), 'has_visited': 1, 'projects_completed': 0, 'account_key': '204', 'total_minutes_visited': 122.794463667, 'num_courses_visited': 1}, {'lessons_completed': 0, 'utc_date': datetime.datetime(2014, 11, 16, 0, 0), 'has_visited': 1, 'projects_completed': 0, 'account_key': '204', 'total_minutes_visited': 139.229938167, 'num_courses_visited': 1}]\n",
      "530 [{'lessons_completed': 0, 'utc_date': datetime.datetime(2015, 1, 7, 0, 0), 'has_visited': 1, 'projects_completed': 0, 'account_key': '530', 'total_minutes_visited': 140.934986333, 'num_courses_visited': 1}, {'lessons_completed': 2, 'utc_date': datetime.datetime(2015, 1, 8, 0, 0), 'has_visited': 1, 'projects_completed': 0, 'account_key': '530', 'total_minutes_visited': 231.710938833, 'num_courses_visited': 1}, {'lessons_completed': 2, 'utc_date': datetime.datetime(2015, 1, 9, 0, 0), 'has_visited': 1, 'projects_completed': 0, 'account_key': '530', 'total_minutes_visited': 615.146744, 'num_courses_visited': 1}, {'lessons_completed': 0, 'utc_date': datetime.datetime(2015, 1, 10, 0, 0), 'has_visited': 1, 'projects_completed': 0, 'account_key': '530', 'total_minutes_visited': 209.956175167, 'num_courses_visited': 3}, {'lessons_completed': 0, 'utc_date': datetime.datetime(2015, 1, 11, 0, 0), 'has_visited': 1, 'projects_completed': 0, 'account_key': '530', 'total_minutes_visited': 227.144004833, 'num_courses_visited': 2}, {'lessons_completed': 2, 'utc_date': datetime.datetime(2015, 1, 12, 0, 0), 'has_visited': 1, 'projects_completed': 0, 'account_key': '530', 'total_minutes_visited': 270.531526166, 'num_courses_visited': 2}, {'lessons_completed': 1, 'utc_date': datetime.datetime(2015, 1, 13, 0, 0), 'has_visited': 1, 'projects_completed': 0, 'account_key': '530', 'total_minutes_visited': 201.3297185, 'num_courses_visited': 2}]\n",
      "242 [{'lessons_completed': 0, 'utc_date': datetime.datetime(2015, 5, 11, 0, 0), 'has_visited': 1, 'projects_completed': 0, 'account_key': '242', 'total_minutes_visited': 18.7921958333, 'num_courses_visited': 1}, {'lessons_completed': 1, 'utc_date': datetime.datetime(2015, 5, 12, 0, 0), 'has_visited': 1, 'projects_completed': 0, 'account_key': '242', 'total_minutes_visited': 5.92685416667, 'num_courses_visited': 1}, {'lessons_completed': 0, 'utc_date': datetime.datetime(2015, 5, 13, 0, 0), 'has_visited': 1, 'projects_completed': 0, 'account_key': '242', 'total_minutes_visited': 116.256568167, 'num_courses_visited': 1}, {'lessons_completed': 0, 'utc_date': datetime.datetime(2015, 5, 14, 0, 0), 'has_visited': 1, 'projects_completed': 0, 'account_key': '242', 'total_minutes_visited': 121.6687495, 'num_courses_visited': 1}, {'lessons_completed': 1, 'utc_date': datetime.datetime(2015, 5, 15, 0, 0), 'has_visited': 1, 'projects_completed': 0, 'account_key': '242', 'total_minutes_visited': 86.7323611667, 'num_courses_visited': 1}, {'lessons_completed': 0, 'utc_date': datetime.datetime(2015, 5, 16, 0, 0), 'has_visited': 1, 'projects_completed': 0, 'account_key': '242', 'total_minutes_visited': 112.5961965, 'num_courses_visited': 1}, {'lessons_completed': 1, 'utc_date': datetime.datetime(2015, 5, 17, 0, 0), 'has_visited': 1, 'projects_completed': 0, 'account_key': '242', 'total_minutes_visited': 92.6196885, 'num_courses_visited': 1}]\n",
      "134 [{'lessons_completed': 0, 'utc_date': datetime.datetime(2015, 2, 5, 0, 0), 'has_visited': 1, 'projects_completed': 0, 'account_key': '134', 'total_minutes_visited': 10.1936145, 'num_courses_visited': 1}, {'lessons_completed': 2, 'utc_date': datetime.datetime(2015, 2, 6, 0, 0), 'has_visited': 1, 'projects_completed': 0, 'account_key': '134', 'total_minutes_visited': 419.114083667, 'num_courses_visited': 1}, {'lessons_completed': 0, 'utc_date': datetime.datetime(2015, 2, 7, 0, 0), 'has_visited': 1, 'projects_completed': 0, 'account_key': '134', 'total_minutes_visited': 90.9420196667, 'num_courses_visited': 1}, {'lessons_completed': 0, 'utc_date': datetime.datetime(2015, 2, 8, 0, 0), 'has_visited': 1, 'projects_completed': 0, 'account_key': '134', 'total_minutes_visited': 55.3872981667, 'num_courses_visited': 1}, {'lessons_completed': 0, 'utc_date': datetime.datetime(2015, 2, 9, 0, 0), 'has_visited': 1, 'projects_completed': 0, 'account_key': '134', 'total_minutes_visited': 31.4932595, 'num_courses_visited': 1}, {'lessons_completed': 2, 'utc_date': datetime.datetime(2015, 2, 10, 0, 0), 'has_visited': 1, 'projects_completed': 0, 'account_key': '134', 'total_minutes_visited': 291.053310333, 'num_courses_visited': 1}, {'lessons_completed': 2, 'utc_date': datetime.datetime(2015, 2, 11, 0, 0), 'has_visited': 1, 'projects_completed': 0, 'account_key': '134', 'total_minutes_visited': 118.919899333, 'num_courses_visited': 1}]\n",
      "344 [{'lessons_completed': 0, 'utc_date': datetime.datetime(2015, 1, 11, 0, 0), 'has_visited': 1, 'projects_completed': 0, 'account_key': '344', 'total_minutes_visited': 20.0477405, 'num_courses_visited': 2}, {'lessons_completed': 2, 'utc_date': datetime.datetime(2015, 1, 12, 0, 0), 'has_visited': 1, 'projects_completed': 0, 'account_key': '344', 'total_minutes_visited': 301.955414, 'num_courses_visited': 1}, {'lessons_completed': 0, 'utc_date': datetime.datetime(2015, 1, 13, 0, 0), 'has_visited': 1, 'projects_completed': 0, 'account_key': '344', 'total_minutes_visited': 57.5928861667, 'num_courses_visited': 1}, {'lessons_completed': 1, 'utc_date': datetime.datetime(2015, 1, 14, 0, 0), 'has_visited': 1, 'projects_completed': 0, 'account_key': '344', 'total_minutes_visited': 93.0164545, 'num_courses_visited': 1}, {'lessons_completed': 0, 'utc_date': datetime.datetime(2015, 1, 15, 0, 0), 'has_visited': 1, 'projects_completed': 0, 'account_key': '344', 'total_minutes_visited': 18.1819243333, 'num_courses_visited': 1}, {'lessons_completed': 0, 'utc_date': datetime.datetime(2015, 1, 16, 0, 0), 'has_visited': 1, 'projects_completed': 0, 'account_key': '344', 'total_minutes_visited': 40.3819395, 'num_courses_visited': 1}, {'lessons_completed': 1, 'utc_date': datetime.datetime(2015, 1, 17, 0, 0), 'has_visited': 1, 'projects_completed': 0, 'account_key': '344', 'total_minutes_visited': 83.8014973333, 'num_courses_visited': 1}]\n",
      "218 [{'lessons_completed': 0, 'utc_date': datetime.datetime(2015, 7, 8, 0, 0), 'has_visited': 1, 'projects_completed': 0, 'account_key': '218', 'total_minutes_visited': 66.8096811666, 'num_courses_visited': 2}, {'lessons_completed': 6, 'utc_date': datetime.datetime(2015, 7, 9, 0, 0), 'has_visited': 1, 'projects_completed': 0, 'account_key': '218', 'total_minutes_visited': 616.411116999, 'num_courses_visited': 4}, {'lessons_completed': 2, 'utc_date': datetime.datetime(2015, 7, 10, 0, 0), 'has_visited': 1, 'projects_completed': 0, 'account_key': '218', 'total_minutes_visited': 281.148905, 'num_courses_visited': 2}, {'lessons_completed': 6, 'utc_date': datetime.datetime(2015, 7, 11, 0, 0), 'has_visited': 1, 'projects_completed': 0, 'account_key': '218', 'total_minutes_visited': 745.578688666, 'num_courses_visited': 4}, {'lessons_completed': 1, 'utc_date': datetime.datetime(2015, 7, 12, 0, 0), 'has_visited': 1, 'projects_completed': 0, 'account_key': '218', 'total_minutes_visited': 88.1977403333, 'num_courses_visited': 1}, {'lessons_completed': 3, 'utc_date': datetime.datetime(2015, 7, 13, 0, 0), 'has_visited': 1, 'projects_completed': 0, 'account_key': '218', 'total_minutes_visited': 329.476609167, 'num_courses_visited': 1}, {'lessons_completed': 2, 'utc_date': datetime.datetime(2015, 7, 14, 0, 0), 'has_visited': 1, 'projects_completed': 0, 'account_key': '218', 'total_minutes_visited': 265.919416, 'num_courses_visited': 2}]\n",
      "277 [{'lessons_completed': 0, 'utc_date': datetime.datetime(2014, 11, 15, 0, 0), 'has_visited': 1, 'projects_completed': 0, 'account_key': '277', 'total_minutes_visited': 212.852492, 'num_courses_visited': 2}, {'lessons_completed': 0, 'utc_date': datetime.datetime(2014, 11, 16, 0, 0), 'has_visited': 1, 'projects_completed': 0, 'account_key': '277', 'total_minutes_visited': 193.08779, 'num_courses_visited': 1}, {'lessons_completed': 1, 'utc_date': datetime.datetime(2014, 11, 17, 0, 0), 'has_visited': 1, 'projects_completed': 0, 'account_key': '277', 'total_minutes_visited': 102.4860945, 'num_courses_visited': 2}, {'lessons_completed': 0, 'utc_date': datetime.datetime(2014, 11, 18, 0, 0), 'has_visited': 1, 'projects_completed': 0, 'account_key': '277', 'total_minutes_visited': 60.3272586667, 'num_courses_visited': 2}, {'lessons_completed': 1, 'utc_date': datetime.datetime(2014, 11, 19, 0, 0), 'has_visited': 1, 'projects_completed': 0, 'account_key': '277', 'total_minutes_visited': 199.56481, 'num_courses_visited': 2}, {'lessons_completed': 0, 'utc_date': datetime.datetime(2014, 11, 20, 0, 0), 'has_visited': 1, 'projects_completed': 0, 'account_key': '277', 'total_minutes_visited': 76.1423028333, 'num_courses_visited': 2}, {'lessons_completed': 0, 'utc_date': datetime.datetime(2014, 11, 21, 0, 0), 'has_visited': 1, 'projects_completed': 0, 'account_key': '277', 'total_minutes_visited': 40.454739, 'num_courses_visited': 1}]\n",
      "569 [{'lessons_completed': 3, 'utc_date': datetime.datetime(2015, 6, 2, 0, 0), 'has_visited': 1, 'projects_completed': 0, 'account_key': '569', 'total_minutes_visited': 401.777123333, 'num_courses_visited': 3}, {'lessons_completed': 0, 'utc_date': datetime.datetime(2015, 6, 3, 0, 0), 'has_visited': 1, 'projects_completed': 0, 'account_key': '569', 'total_minutes_visited': 96.7665955, 'num_courses_visited': 2}, {'lessons_completed': 3, 'utc_date': datetime.datetime(2015, 6, 4, 0, 0), 'has_visited': 1, 'projects_completed': 0, 'account_key': '569', 'total_minutes_visited': 299.849613166, 'num_courses_visited': 3}, {'lessons_completed': 0, 'utc_date': datetime.datetime(2015, 6, 5, 0, 0), 'has_visited': 1, 'projects_completed': 0, 'account_key': '569', 'total_minutes_visited': 17.5305023333, 'num_courses_visited': 1}, {'lessons_completed': 5, 'utc_date': datetime.datetime(2015, 6, 6, 0, 0), 'has_visited': 1, 'projects_completed': 0, 'account_key': '569', 'total_minutes_visited': 394.0437275, 'num_courses_visited': 1}, {'lessons_completed': 1, 'utc_date': datetime.datetime(2015, 6, 7, 0, 0), 'has_visited': 1, 'projects_completed': 0, 'account_key': '569', 'total_minutes_visited': 114.586222333, 'num_courses_visited': 2}, {'lessons_completed': 1, 'utc_date': datetime.datetime(2015, 6, 8, 0, 0), 'has_visited': 1, 'projects_completed': 0, 'account_key': '569', 'total_minutes_visited': 152.470164167, 'num_courses_visited': 1}]\n",
      "197 [{'lessons_completed': 0, 'utc_date': datetime.datetime(2015, 1, 7, 0, 0), 'has_visited': 1, 'projects_completed': 0, 'account_key': '197', 'total_minutes_visited': 4.17394716667, 'num_courses_visited': 1}, {'lessons_completed': 1, 'utc_date': datetime.datetime(2015, 1, 8, 0, 0), 'has_visited': 1, 'projects_completed': 0, 'account_key': '197', 'total_minutes_visited': 169.276868167, 'num_courses_visited': 2}, {'lessons_completed': 1, 'utc_date': datetime.datetime(2015, 1, 9, 0, 0), 'has_visited': 1, 'projects_completed': 0, 'account_key': '197', 'total_minutes_visited': 171.7017695, 'num_courses_visited': 1}, {'lessons_completed': 2, 'utc_date': datetime.datetime(2015, 1, 10, 0, 0), 'has_visited': 1, 'projects_completed': 0, 'account_key': '197', 'total_minutes_visited': 240.545874167, 'num_courses_visited': 1}, {'lessons_completed': 4, 'utc_date': datetime.datetime(2015, 1, 11, 0, 0), 'has_visited': 1, 'projects_completed': 0, 'account_key': '197', 'total_minutes_visited': 299.937875333, 'num_courses_visited': 1}, {'lessons_completed': 1, 'utc_date': datetime.datetime(2015, 1, 12, 0, 0), 'has_visited': 1, 'projects_completed': 0, 'account_key': '197', 'total_minutes_visited': 40.4563235, 'num_courses_visited': 1}, {'lessons_completed': 0, 'utc_date': datetime.datetime(2015, 1, 13, 0, 0), 'has_visited': 1, 'projects_completed': 0, 'account_key': '197', 'total_minutes_visited': 5.21500833333, 'num_courses_visited': 1}]\n",
      "37 [{'lessons_completed': 0, 'utc_date': datetime.datetime(2014, 11, 14, 0, 0), 'has_visited': 1, 'projects_completed': 0, 'account_key': '37', 'total_minutes_visited': 121.723849667, 'num_courses_visited': 2}, {'lessons_completed': 0, 'utc_date': datetime.datetime(2014, 11, 15, 0, 0), 'has_visited': 1, 'projects_completed': 0, 'account_key': '37', 'total_minutes_visited': 113.752526833, 'num_courses_visited': 1}, {'lessons_completed': 1, 'utc_date': datetime.datetime(2014, 11, 16, 0, 0), 'has_visited': 1, 'projects_completed': 0, 'account_key': '37', 'total_minutes_visited': 138.091537667, 'num_courses_visited': 1}, {'lessons_completed': 1, 'utc_date': datetime.datetime(2014, 11, 17, 0, 0), 'has_visited': 1, 'projects_completed': 0, 'account_key': '37', 'total_minutes_visited': 192.318497167, 'num_courses_visited': 1}, {'lessons_completed': 0, 'utc_date': datetime.datetime(2014, 11, 18, 0, 0), 'has_visited': 1, 'projects_completed': 0, 'account_key': '37', 'total_minutes_visited': 91.043618, 'num_courses_visited': 1}, {'lessons_completed': 1, 'utc_date': datetime.datetime(2014, 11, 19, 0, 0), 'has_visited': 1, 'projects_completed': 0, 'account_key': '37', 'total_minutes_visited': 239.956619834, 'num_courses_visited': 2}, {'lessons_completed': 2, 'utc_date': datetime.datetime(2014, 11, 20, 0, 0), 'has_visited': 1, 'projects_completed': 0, 'account_key': '37', 'total_minutes_visited': 481.3084425, 'num_courses_visited': 2}]\n",
      "317 [{'lessons_completed': 2, 'utc_date': datetime.datetime(2015, 7, 9, 0, 0), 'has_visited': 1, 'projects_completed': 0, 'account_key': '317', 'total_minutes_visited': 524.712173, 'num_courses_visited': 8}, {'lessons_completed': 2, 'utc_date': datetime.datetime(2015, 7, 10, 0, 0), 'has_visited': 1, 'projects_completed': 0, 'account_key': '317', 'total_minutes_visited': 553.439417667, 'num_courses_visited': 4}, {'lessons_completed': 8, 'utc_date': datetime.datetime(2015, 7, 11, 0, 0), 'has_visited': 1, 'projects_completed': 0, 'account_key': '317', 'total_minutes_visited': 1030.88319667, 'num_courses_visited': 4}, {'lessons_completed': 0, 'utc_date': datetime.datetime(2015, 7, 12, 0, 0), 'has_visited': 1, 'projects_completed': 0, 'account_key': '317', 'total_minutes_visited': 167.477563667, 'num_courses_visited': 3}, {'lessons_completed': 0, 'utc_date': datetime.datetime(2015, 7, 13, 0, 0), 'has_visited': 1, 'projects_completed': 0, 'account_key': '317', 'total_minutes_visited': 8.83320116667, 'num_courses_visited': 1}, {'lessons_completed': 1, 'utc_date': datetime.datetime(2015, 7, 14, 0, 0), 'has_visited': 1, 'projects_completed': 0, 'account_key': '317', 'total_minutes_visited': 160.034157167, 'num_courses_visited': 1}, {'lessons_completed': 4, 'utc_date': datetime.datetime(2015, 7, 15, 0, 0), 'has_visited': 1, 'projects_completed': 0, 'account_key': '317', 'total_minutes_visited': 332.936435333, 'num_courses_visited': 4}]\n",
      "125 [{'lessons_completed': 0, 'utc_date': datetime.datetime(2015, 1, 13, 0, 0), 'has_visited': 1, 'projects_completed': 0, 'account_key': '125', 'total_minutes_visited': 26.1959025, 'num_courses_visited': 2}, {'lessons_completed': 1, 'utc_date': datetime.datetime(2015, 1, 14, 0, 0), 'has_visited': 1, 'projects_completed': 0, 'account_key': '125', 'total_minutes_visited': 231.475984167, 'num_courses_visited': 1}, {'lessons_completed': 2, 'utc_date': datetime.datetime(2015, 1, 15, 0, 0), 'has_visited': 1, 'projects_completed': 0, 'account_key': '125', 'total_minutes_visited': 356.636229667, 'num_courses_visited': 1}, {'lessons_completed': 1, 'utc_date': datetime.datetime(2015, 1, 16, 0, 0), 'has_visited': 1, 'projects_completed': 0, 'account_key': '125', 'total_minutes_visited': 287.613339167, 'num_courses_visited': 1}, {'lessons_completed': 3, 'utc_date': datetime.datetime(2015, 1, 17, 0, 0), 'has_visited': 1, 'projects_completed': 0, 'account_key': '125', 'total_minutes_visited': 215.981581667, 'num_courses_visited': 1}, {'lessons_completed': 2, 'utc_date': datetime.datetime(2015, 1, 18, 0, 0), 'has_visited': 1, 'projects_completed': 0, 'account_key': '125', 'total_minutes_visited': 228.168367, 'num_courses_visited': 2}, {'lessons_completed': 0, 'utc_date': datetime.datetime(2015, 1, 19, 0, 0), 'has_visited': 1, 'projects_completed': 0, 'account_key': '125', 'total_minutes_visited': 64.4602288333, 'num_courses_visited': 1}]\n",
      "1215 [{'lessons_completed': 1, 'utc_date': datetime.datetime(2015, 5, 11, 0, 0), 'has_visited': 1, 'projects_completed': 0, 'account_key': '1215', 'total_minutes_visited': 396.754743, 'num_courses_visited': 4}, {'lessons_completed': 0, 'utc_date': datetime.datetime(2015, 5, 12, 0, 0), 'has_visited': 1, 'projects_completed': 0, 'account_key': '1215', 'total_minutes_visited': 44.3884125, 'num_courses_visited': 1}, {'lessons_completed': 0, 'utc_date': datetime.datetime(2015, 5, 13, 0, 0), 'has_visited': 1, 'projects_completed': 0, 'account_key': '1215', 'total_minutes_visited': 111.452005167, 'num_courses_visited': 2}, {'lessons_completed': 1, 'utc_date': datetime.datetime(2015, 5, 14, 0, 0), 'has_visited': 1, 'projects_completed': 0, 'account_key': '1215', 'total_minutes_visited': 203.483677833, 'num_courses_visited': 5}, {'lessons_completed': 1, 'utc_date': datetime.datetime(2015, 5, 15, 0, 0), 'has_visited': 1, 'projects_completed': 0, 'account_key': '1215', 'total_minutes_visited': 154.77845, 'num_courses_visited': 3}, {'lessons_completed': 2, 'utc_date': datetime.datetime(2015, 5, 16, 0, 0), 'has_visited': 1, 'projects_completed': 0, 'account_key': '1215', 'total_minutes_visited': 417.552782167, 'num_courses_visited': 1}, {'lessons_completed': 1, 'utc_date': datetime.datetime(2015, 5, 17, 0, 0), 'has_visited': 1, 'projects_completed': 0, 'account_key': '1215', 'total_minutes_visited': 32.3186295, 'num_courses_visited': 2}]\n",
      "303 [{'lessons_completed': 0, 'utc_date': datetime.datetime(2015, 5, 11, 0, 0), 'has_visited': 1, 'projects_completed': 0, 'account_key': '303', 'total_minutes_visited': 290.214531, 'num_courses_visited': 2}, {'lessons_completed': 1, 'utc_date': datetime.datetime(2015, 5, 12, 0, 0), 'has_visited': 1, 'projects_completed': 0, 'account_key': '303', 'total_minutes_visited': 254.2438145, 'num_courses_visited': 3}, {'lessons_completed': 2, 'utc_date': datetime.datetime(2015, 5, 13, 0, 0), 'has_visited': 1, 'projects_completed': 0, 'account_key': '303', 'total_minutes_visited': 500.728671667, 'num_courses_visited': 2}, {'lessons_completed': 1, 'utc_date': datetime.datetime(2015, 5, 14, 0, 0), 'has_visited': 1, 'projects_completed': 0, 'account_key': '303', 'total_minutes_visited': 856.634725666, 'num_courses_visited': 3}, {'lessons_completed': 0, 'utc_date': datetime.datetime(2015, 5, 15, 0, 0), 'has_visited': 1, 'projects_completed': 0, 'account_key': '303', 'total_minutes_visited': 242.699554333, 'num_courses_visited': 2}, {'lessons_completed': 0, 'utc_date': datetime.datetime(2015, 5, 16, 0, 0), 'has_visited': 1, 'projects_completed': 0, 'account_key': '303', 'total_minutes_visited': 272.620528833, 'num_courses_visited': 1}, {'lessons_completed': 0, 'utc_date': datetime.datetime(2015, 5, 17, 0, 0), 'has_visited': 1, 'projects_completed': 0, 'account_key': '303', 'total_minutes_visited': 283.3460515, 'num_courses_visited': 1}]\n",
      "367 [{'lessons_completed': 0, 'utc_date': datetime.datetime(2014, 11, 11, 0, 0), 'has_visited': 1, 'projects_completed': 0, 'account_key': '367', 'total_minutes_visited': 42.4386373334, 'num_courses_visited': 3}, {'lessons_completed': 0, 'utc_date': datetime.datetime(2014, 11, 12, 0, 0), 'has_visited': 1, 'projects_completed': 0, 'account_key': '367', 'total_minutes_visited': 49.028941, 'num_courses_visited': 1}, {'lessons_completed': 0, 'utc_date': datetime.datetime(2014, 11, 13, 0, 0), 'has_visited': 1, 'projects_completed': 0, 'account_key': '367', 'total_minutes_visited': 40.2649011667, 'num_courses_visited': 1}, {'lessons_completed': 0, 'utc_date': datetime.datetime(2014, 11, 14, 0, 0), 'has_visited': 1, 'projects_completed': 0, 'account_key': '367', 'total_minutes_visited': 26.4223436667, 'num_courses_visited': 1}, {'lessons_completed': 1, 'utc_date': datetime.datetime(2014, 11, 15, 0, 0), 'has_visited': 1, 'projects_completed': 0, 'account_key': '367', 'total_minutes_visited': 47.2435153333, 'num_courses_visited': 1}, {'lessons_completed': 0, 'utc_date': datetime.datetime(2014, 11, 16, 0, 0), 'has_visited': 1, 'projects_completed': 0, 'account_key': '367', 'total_minutes_visited': 2.5891285, 'num_courses_visited': 1}, {'lessons_completed': 0, 'utc_date': datetime.datetime(2014, 11, 17, 0, 0), 'has_visited': 1, 'projects_completed': 0, 'account_key': '367', 'total_minutes_visited': 12.2231616667, 'num_courses_visited': 1}]\n",
      "624 [{'lessons_completed': 1, 'utc_date': datetime.datetime(2015, 3, 4, 0, 0), 'has_visited': 1, 'projects_completed': 0, 'account_key': '624', 'total_minutes_visited': 41.0092748333, 'num_courses_visited': 1}, {'lessons_completed': 0, 'utc_date': datetime.datetime(2015, 3, 5, 0, 0), 'has_visited': 1, 'projects_completed': 0, 'account_key': '624', 'total_minutes_visited': 37.7615853333, 'num_courses_visited': 1}, {'lessons_completed': 0, 'utc_date': datetime.datetime(2015, 3, 6, 0, 0), 'has_visited': 1, 'projects_completed': 0, 'account_key': '624', 'total_minutes_visited': 45.1324321667, 'num_courses_visited': 1}, {'lessons_completed': 0, 'utc_date': datetime.datetime(2015, 3, 7, 0, 0), 'has_visited': 1, 'projects_completed': 0, 'account_key': '624', 'total_minutes_visited': 36.797738, 'num_courses_visited': 1}, {'lessons_completed': 0, 'utc_date': datetime.datetime(2015, 3, 8, 0, 0), 'has_visited': 1, 'projects_completed': 0, 'account_key': '624', 'total_minutes_visited': 168.192537834, 'num_courses_visited': 2}, {'lessons_completed': 0, 'utc_date': datetime.datetime(2015, 3, 9, 0, 0), 'has_visited': 1, 'projects_completed': 0, 'account_key': '624', 'total_minutes_visited': 366.032197833, 'num_courses_visited': 1}, {'lessons_completed': 0, 'utc_date': datetime.datetime(2015, 3, 10, 0, 0), 'has_visited': 1, 'projects_completed': 0, 'account_key': '624', 'total_minutes_visited': 331.922306833, 'num_courses_visited': 2}]\n",
      "324 [{'lessons_completed': 2, 'utc_date': datetime.datetime(2015, 7, 9, 0, 0), 'has_visited': 1, 'projects_completed': 0, 'account_key': '324', 'total_minutes_visited': 595.294146999, 'num_courses_visited': 4}, {'lessons_completed': 2, 'utc_date': datetime.datetime(2015, 7, 10, 0, 0), 'has_visited': 1, 'projects_completed': 0, 'account_key': '324', 'total_minutes_visited': 660.233090334, 'num_courses_visited': 4}, {'lessons_completed': 0, 'utc_date': datetime.datetime(2015, 7, 11, 0, 0), 'has_visited': 1, 'projects_completed': 0, 'account_key': '324', 'total_minutes_visited': 35.7848686666, 'num_courses_visited': 4}, {'lessons_completed': 1, 'utc_date': datetime.datetime(2015, 7, 12, 0, 0), 'has_visited': 1, 'projects_completed': 0, 'account_key': '324', 'total_minutes_visited': 152.313751167, 'num_courses_visited': 2}, {'lessons_completed': 0, 'utc_date': datetime.datetime(2015, 7, 13, 0, 0), 'has_visited': 1, 'projects_completed': 0, 'account_key': '324', 'total_minutes_visited': 46.6473936667, 'num_courses_visited': 2}, {'lessons_completed': 1, 'utc_date': datetime.datetime(2015, 7, 14, 0, 0), 'has_visited': 1, 'projects_completed': 0, 'account_key': '324', 'total_minutes_visited': 165.661293333, 'num_courses_visited': 3}, {'lessons_completed': 0, 'utc_date': datetime.datetime(2015, 7, 15, 0, 0), 'has_visited': 1, 'projects_completed': 0, 'account_key': '324', 'total_minutes_visited': 13.9661771667, 'num_courses_visited': 2}]\n",
      "686 [{'lessons_completed': 0, 'utc_date': datetime.datetime(2015, 8, 23, 0, 0), 'has_visited': 1, 'projects_completed': 0, 'account_key': '686', 'total_minutes_visited': 9.61211033333, 'num_courses_visited': 1}]\n",
      "187 [{'lessons_completed': 1, 'utc_date': datetime.datetime(2014, 11, 12, 0, 0), 'has_visited': 1, 'projects_completed': 0, 'account_key': '187', 'total_minutes_visited': 183.918751833, 'num_courses_visited': 2}, {'lessons_completed': 1, 'utc_date': datetime.datetime(2014, 11, 13, 0, 0), 'has_visited': 1, 'projects_completed': 0, 'account_key': '187', 'total_minutes_visited': 168.856323833, 'num_courses_visited': 2}, {'lessons_completed': 0, 'utc_date': datetime.datetime(2014, 11, 14, 0, 0), 'has_visited': 1, 'projects_completed': 0, 'account_key': '187', 'total_minutes_visited': 71.3376621666, 'num_courses_visited': 2}, {'lessons_completed': 0, 'utc_date': datetime.datetime(2014, 11, 15, 0, 0), 'has_visited': 1, 'projects_completed': 0, 'account_key': '187', 'total_minutes_visited': 72.9864418334, 'num_courses_visited': 2}, {'lessons_completed': 0, 'utc_date': datetime.datetime(2014, 11, 16, 0, 0), 'has_visited': 1, 'projects_completed': 0, 'account_key': '187', 'total_minutes_visited': 81.7790101667, 'num_courses_visited': 2}, {'lessons_completed': 0, 'utc_date': datetime.datetime(2014, 11, 17, 0, 0), 'has_visited': 1, 'projects_completed': 0, 'account_key': '187', 'total_minutes_visited': 4.24587883333, 'num_courses_visited': 1}, {'lessons_completed': 0, 'utc_date': datetime.datetime(2014, 11, 18, 0, 0), 'has_visited': 1, 'projects_completed': 0, 'account_key': '187', 'total_minutes_visited': 46.2526228333, 'num_courses_visited': 3}]\n",
      "573 [{'lessons_completed': 0, 'utc_date': datetime.datetime(2015, 6, 7, 0, 0), 'has_visited': 1, 'projects_completed': 0, 'account_key': '573', 'total_minutes_visited': 29.5791241667, 'num_courses_visited': 1}, {'lessons_completed': 1, 'utc_date': datetime.datetime(2015, 6, 8, 0, 0), 'has_visited': 1, 'projects_completed': 0, 'account_key': '573', 'total_minutes_visited': 90.918128, 'num_courses_visited': 2}, {'lessons_completed': 3, 'utc_date': datetime.datetime(2015, 6, 9, 0, 0), 'has_visited': 1, 'projects_completed': 0, 'account_key': '573', 'total_minutes_visited': 432.886974333, 'num_courses_visited': 1}, {'lessons_completed': 1, 'utc_date': datetime.datetime(2015, 6, 10, 0, 0), 'has_visited': 1, 'projects_completed': 0, 'account_key': '573', 'total_minutes_visited': 47.7419301667, 'num_courses_visited': 2}, {'lessons_completed': 0, 'utc_date': datetime.datetime(2015, 6, 11, 0, 0), 'has_visited': 1, 'projects_completed': 0, 'account_key': '573', 'total_minutes_visited': 3.4562425, 'num_courses_visited': 1}, {'lessons_completed': 0, 'utc_date': datetime.datetime(2015, 6, 12, 0, 0), 'has_visited': 1, 'projects_completed': 0, 'account_key': '573', 'total_minutes_visited': 153.532251, 'num_courses_visited': 1}, {'lessons_completed': 1, 'utc_date': datetime.datetime(2015, 6, 13, 0, 0), 'has_visited': 1, 'projects_completed': 0, 'account_key': '573', 'total_minutes_visited': 166.132289333, 'num_courses_visited': 1}]\n",
      "0 [{'lessons_completed': 0, 'utc_date': datetime.datetime(2015, 1, 9, 0, 0), 'has_visited': 1, 'projects_completed': 0, 'account_key': '0', 'total_minutes_visited': 11.6793745, 'num_courses_visited': 1}, {'lessons_completed': 0, 'utc_date': datetime.datetime(2015, 1, 10, 0, 0), 'has_visited': 1, 'projects_completed': 0, 'account_key': '0', 'total_minutes_visited': 37.2848873333, 'num_courses_visited': 2}, {'lessons_completed': 0, 'utc_date': datetime.datetime(2015, 1, 11, 0, 0), 'has_visited': 1, 'projects_completed': 0, 'account_key': '0', 'total_minutes_visited': 53.6337463333, 'num_courses_visited': 2}, {'lessons_completed': 0, 'utc_date': datetime.datetime(2015, 1, 12, 0, 0), 'has_visited': 1, 'projects_completed': 0, 'account_key': '0', 'total_minutes_visited': 33.4892696667, 'num_courses_visited': 1}, {'lessons_completed': 0, 'utc_date': datetime.datetime(2015, 1, 13, 0, 0), 'has_visited': 1, 'projects_completed': 0, 'account_key': '0', 'total_minutes_visited': 64.7796776667, 'num_courses_visited': 1}, {'lessons_completed': 1, 'utc_date': datetime.datetime(2015, 1, 14, 0, 0), 'has_visited': 1, 'projects_completed': 0, 'account_key': '0', 'total_minutes_visited': 151.617576833, 'num_courses_visited': 1}, {'lessons_completed': 0, 'utc_date': datetime.datetime(2015, 1, 15, 0, 0), 'has_visited': 1, 'projects_completed': 0, 'account_key': '0', 'total_minutes_visited': 142.395963833, 'num_courses_visited': 1}]\n",
      "649 [{'lessons_completed': 0, 'utc_date': datetime.datetime(2014, 11, 10, 0, 0), 'has_visited': 1, 'projects_completed': 0, 'account_key': '649', 'total_minutes_visited': 58.11653, 'num_courses_visited': 2}, {'lessons_completed': 3, 'utc_date': datetime.datetime(2014, 11, 11, 0, 0), 'has_visited': 1, 'projects_completed': 0, 'account_key': '649', 'total_minutes_visited': 219.388586333, 'num_courses_visited': 1}, {'lessons_completed': 2, 'utc_date': datetime.datetime(2014, 11, 12, 0, 0), 'has_visited': 1, 'projects_completed': 0, 'account_key': '649', 'total_minutes_visited': 145.0767475, 'num_courses_visited': 1}, {'lessons_completed': 1, 'utc_date': datetime.datetime(2014, 11, 13, 0, 0), 'has_visited': 1, 'projects_completed': 0, 'account_key': '649', 'total_minutes_visited': 72.5630816667, 'num_courses_visited': 1}, {'lessons_completed': 0, 'utc_date': datetime.datetime(2014, 11, 14, 0, 0), 'has_visited': 1, 'projects_completed': 0, 'account_key': '649', 'total_minutes_visited': 57.0833015, 'num_courses_visited': 1}, {'lessons_completed': 0, 'utc_date': datetime.datetime(2014, 11, 15, 0, 0), 'has_visited': 1, 'projects_completed': 0, 'account_key': '649', 'total_minutes_visited': 37.425332, 'num_courses_visited': 1}, {'lessons_completed': 2, 'utc_date': datetime.datetime(2014, 11, 16, 0, 0), 'has_visited': 1, 'projects_completed': 0, 'account_key': '649', 'total_minutes_visited': 110.820780833, 'num_courses_visited': 1}]\n",
      "8 [{'lessons_completed': 1, 'utc_date': datetime.datetime(2015, 5, 6, 0, 0), 'has_visited': 1, 'projects_completed': 0, 'account_key': '8', 'total_minutes_visited': 152.185322, 'num_courses_visited': 3}, {'lessons_completed': 0, 'utc_date': datetime.datetime(2015, 5, 7, 0, 0), 'has_visited': 1, 'projects_completed': 0, 'account_key': '8', 'total_minutes_visited': 93.6641945, 'num_courses_visited': 1}, {'lessons_completed': 1, 'utc_date': datetime.datetime(2015, 5, 8, 0, 0), 'has_visited': 1, 'projects_completed': 0, 'account_key': '8', 'total_minutes_visited': 136.103098667, 'num_courses_visited': 1}, {'lessons_completed': 0, 'utc_date': datetime.datetime(2015, 5, 9, 0, 0), 'has_visited': 1, 'projects_completed': 0, 'account_key': '8', 'total_minutes_visited': 32.9946208333, 'num_courses_visited': 1}, {'lessons_completed': 2, 'utc_date': datetime.datetime(2015, 5, 10, 0, 0), 'has_visited': 1, 'projects_completed': 0, 'account_key': '8', 'total_minutes_visited': 352.344563333, 'num_courses_visited': 1}, {'lessons_completed': 2, 'utc_date': datetime.datetime(2015, 5, 11, 0, 0), 'has_visited': 1, 'projects_completed': 0, 'account_key': '8', 'total_minutes_visited': 184.993429333, 'num_courses_visited': 1}, {'lessons_completed': 1, 'utc_date': datetime.datetime(2015, 5, 12, 0, 0), 'has_visited': 1, 'projects_completed': 0, 'account_key': '8', 'total_minutes_visited': 36.8284131667, 'num_courses_visited': 2}]\n",
      "313 [{'lessons_completed': 1, 'utc_date': datetime.datetime(2015, 2, 5, 0, 0), 'has_visited': 1, 'projects_completed': 0, 'account_key': '313', 'total_minutes_visited': 42.3937843333, 'num_courses_visited': 1}, {'lessons_completed': 0, 'utc_date': datetime.datetime(2015, 2, 6, 0, 0), 'has_visited': 1, 'projects_completed': 0, 'account_key': '313', 'total_minutes_visited': 106.536018, 'num_courses_visited': 1}, {'lessons_completed': 0, 'utc_date': datetime.datetime(2015, 2, 7, 0, 0), 'has_visited': 1, 'projects_completed': 0, 'account_key': '313', 'total_minutes_visited': 138.154811167, 'num_courses_visited': 1}, {'lessons_completed': 2, 'utc_date': datetime.datetime(2015, 2, 8, 0, 0), 'has_visited': 1, 'projects_completed': 0, 'account_key': '313', 'total_minutes_visited': 222.290766, 'num_courses_visited': 1}, {'lessons_completed': 0, 'utc_date': datetime.datetime(2015, 2, 9, 0, 0), 'has_visited': 1, 'projects_completed': 0, 'account_key': '313', 'total_minutes_visited': 73.320485, 'num_courses_visited': 2}, {'lessons_completed': 1, 'utc_date': datetime.datetime(2015, 2, 10, 0, 0), 'has_visited': 1, 'projects_completed': 0, 'account_key': '313', 'total_minutes_visited': 153.4765305, 'num_courses_visited': 2}, {'lessons_completed': 1, 'utc_date': datetime.datetime(2015, 2, 11, 0, 0), 'has_visited': 1, 'projects_completed': 0, 'account_key': '313', 'total_minutes_visited': 152.440022, 'num_courses_visited': 1}]\n",
      "50 [{'lessons_completed': 2, 'utc_date': datetime.datetime(2015, 3, 4, 0, 0), 'has_visited': 1, 'projects_completed': 0, 'account_key': '50', 'total_minutes_visited': 130.7086015, 'num_courses_visited': 2}, {'lessons_completed': 0, 'utc_date': datetime.datetime(2015, 3, 5, 0, 0), 'has_visited': 1, 'projects_completed': 0, 'account_key': '50', 'total_minutes_visited': 40.9400425, 'num_courses_visited': 2}, {'lessons_completed': 0, 'utc_date': datetime.datetime(2015, 3, 6, 0, 0), 'has_visited': 1, 'projects_completed': 0, 'account_key': '50', 'total_minutes_visited': 46.7473123334, 'num_courses_visited': 2}, {'lessons_completed': 0, 'utc_date': datetime.datetime(2015, 3, 7, 0, 0), 'has_visited': 1, 'projects_completed': 0, 'account_key': '50', 'total_minutes_visited': 69.9676941667, 'num_courses_visited': 1}, {'lessons_completed': 0, 'utc_date': datetime.datetime(2015, 3, 8, 0, 0), 'has_visited': 1, 'projects_completed': 0, 'account_key': '50', 'total_minutes_visited': 85.1014603334, 'num_courses_visited': 2}, {'lessons_completed': 0, 'utc_date': datetime.datetime(2015, 3, 9, 0, 0), 'has_visited': 1, 'projects_completed': 0, 'account_key': '50', 'total_minutes_visited': 67.8219568333, 'num_courses_visited': 1}, {'lessons_completed': 0, 'utc_date': datetime.datetime(2015, 3, 10, 0, 0), 'has_visited': 1, 'projects_completed': 0, 'account_key': '50', 'total_minutes_visited': 50.6216401667, 'num_courses_visited': 1}]\n",
      "580 [{'lessons_completed': 0, 'utc_date': datetime.datetime(2014, 11, 10, 0, 0), 'has_visited': 1, 'projects_completed': 0, 'account_key': '580', 'total_minutes_visited': 266.152642667, 'num_courses_visited': 3}, {'lessons_completed': 0, 'utc_date': datetime.datetime(2014, 11, 11, 0, 0), 'has_visited': 1, 'projects_completed': 0, 'account_key': '580', 'total_minutes_visited': 80.2002448333, 'num_courses_visited': 2}, {'lessons_completed': 0, 'utc_date': datetime.datetime(2014, 11, 12, 0, 0), 'has_visited': 1, 'projects_completed': 0, 'account_key': '580', 'total_minutes_visited': 90.999795, 'num_courses_visited': 1}, {'lessons_completed': 0, 'utc_date': datetime.datetime(2014, 11, 13, 0, 0), 'has_visited': 1, 'projects_completed': 0, 'account_key': '580', 'total_minutes_visited': 2.17946116667, 'num_courses_visited': 1}, {'lessons_completed': 0, 'utc_date': datetime.datetime(2014, 11, 14, 0, 0), 'has_visited': 1, 'projects_completed': 0, 'account_key': '580', 'total_minutes_visited': 66.5035191667, 'num_courses_visited': 3}, {'lessons_completed': 1, 'utc_date': datetime.datetime(2014, 11, 15, 0, 0), 'has_visited': 1, 'projects_completed': 0, 'account_key': '580', 'total_minutes_visited': 180.308552667, 'num_courses_visited': 1}, {'lessons_completed': 0, 'utc_date': datetime.datetime(2014, 11, 16, 0, 0), 'has_visited': 1, 'projects_completed': 0, 'account_key': '580', 'total_minutes_visited': 25.814672, 'num_courses_visited': 1}]\n",
      "151 [{'lessons_completed': 3, 'utc_date': datetime.datetime(2015, 1, 11, 0, 0), 'has_visited': 1, 'projects_completed': 0, 'account_key': '151', 'total_minutes_visited': 400.591681, 'num_courses_visited': 2}, {'lessons_completed': 1, 'utc_date': datetime.datetime(2015, 1, 12, 0, 0), 'has_visited': 1, 'projects_completed': 0, 'account_key': '151', 'total_minutes_visited': 156.718906667, 'num_courses_visited': 2}, {'lessons_completed': 1, 'utc_date': datetime.datetime(2015, 1, 13, 0, 0), 'has_visited': 1, 'projects_completed': 0, 'account_key': '151', 'total_minutes_visited': 85.6688938333, 'num_courses_visited': 1}, {'lessons_completed': 1, 'utc_date': datetime.datetime(2015, 1, 14, 0, 0), 'has_visited': 1, 'projects_completed': 0, 'account_key': '151', 'total_minutes_visited': 121.821611167, 'num_courses_visited': 1}, {'lessons_completed': 0, 'utc_date': datetime.datetime(2015, 1, 15, 0, 0), 'has_visited': 1, 'projects_completed': 0, 'account_key': '151', 'total_minutes_visited': 17.7132271667, 'num_courses_visited': 1}, {'lessons_completed': 1, 'utc_date': datetime.datetime(2015, 1, 16, 0, 0), 'has_visited': 1, 'projects_completed': 0, 'account_key': '151', 'total_minutes_visited': 95.7302968333, 'num_courses_visited': 1}, {'lessons_completed': 0, 'utc_date': datetime.datetime(2015, 1, 17, 0, 0), 'has_visited': 1, 'projects_completed': 0, 'account_key': '151', 'total_minutes_visited': 30.2214733333, 'num_courses_visited': 1}]\n",
      "604 [{'lessons_completed': 1, 'utc_date': datetime.datetime(2014, 11, 10, 0, 0), 'has_visited': 1, 'projects_completed': 0, 'account_key': '604', 'total_minutes_visited': 305.9340095, 'num_courses_visited': 7}, {'lessons_completed': 3, 'utc_date': datetime.datetime(2014, 11, 11, 0, 0), 'has_visited': 1, 'projects_completed': 0, 'account_key': '604', 'total_minutes_visited': 363.629171833, 'num_courses_visited': 3}, {'lessons_completed': 1, 'utc_date': datetime.datetime(2014, 11, 12, 0, 0), 'has_visited': 1, 'projects_completed': 0, 'account_key': '604', 'total_minutes_visited': 209.754652, 'num_courses_visited': 3}, {'lessons_completed': 0, 'utc_date': datetime.datetime(2014, 11, 13, 0, 0), 'has_visited': 1, 'projects_completed': 0, 'account_key': '604', 'total_minutes_visited': 215.876857666, 'num_courses_visited': 2}, {'lessons_completed': 0, 'utc_date': datetime.datetime(2014, 11, 14, 0, 0), 'has_visited': 1, 'projects_completed': 0, 'account_key': '604', 'total_minutes_visited': 360.877511667, 'num_courses_visited': 5}, {'lessons_completed': 2, 'utc_date': datetime.datetime(2014, 11, 15, 0, 0), 'has_visited': 1, 'projects_completed': 0, 'account_key': '604', 'total_minutes_visited': 396.623835, 'num_courses_visited': 2}, {'lessons_completed': 1, 'utc_date': datetime.datetime(2014, 11, 16, 0, 0), 'has_visited': 1, 'projects_completed': 0, 'account_key': '604', 'total_minutes_visited': 38.2976648334, 'num_courses_visited': 2}]\n",
      "118 [{'lessons_completed': 1, 'utc_date': datetime.datetime(2015, 4, 6, 0, 0), 'has_visited': 1, 'projects_completed': 0, 'account_key': '118', 'total_minutes_visited': 167.261227833, 'num_courses_visited': 2}, {'lessons_completed': 2, 'utc_date': datetime.datetime(2015, 4, 7, 0, 0), 'has_visited': 1, 'projects_completed': 0, 'account_key': '118', 'total_minutes_visited': 198.443388833, 'num_courses_visited': 1}, {'lessons_completed': 0, 'utc_date': datetime.datetime(2015, 4, 8, 0, 0), 'has_visited': 1, 'projects_completed': 0, 'account_key': '118', 'total_minutes_visited': 203.134040167, 'num_courses_visited': 1}, {'lessons_completed': 1, 'utc_date': datetime.datetime(2015, 4, 9, 0, 0), 'has_visited': 1, 'projects_completed': 0, 'account_key': '118', 'total_minutes_visited': 165.999306, 'num_courses_visited': 1}, {'lessons_completed': 0, 'utc_date': datetime.datetime(2015, 4, 10, 0, 0), 'has_visited': 1, 'projects_completed': 0, 'account_key': '118', 'total_minutes_visited': 58.6248025, 'num_courses_visited': 1}, {'lessons_completed': 1, 'utc_date': datetime.datetime(2015, 4, 11, 0, 0), 'has_visited': 1, 'projects_completed': 0, 'account_key': '118', 'total_minutes_visited': 64.5009928333, 'num_courses_visited': 1}, {'lessons_completed': 0, 'utc_date': datetime.datetime(2015, 4, 12, 0, 0), 'has_visited': 1, 'projects_completed': 0, 'account_key': '118', 'total_minutes_visited': 33.9095998333, 'num_courses_visited': 1}]\n",
      "21 [{'lessons_completed': 4, 'utc_date': datetime.datetime(2015, 7, 17, 0, 0), 'has_visited': 1, 'projects_completed': 0, 'account_key': '21', 'total_minutes_visited': 333.773288166, 'num_courses_visited': 2}, {'lessons_completed': 0, 'utc_date': datetime.datetime(2015, 7, 18, 0, 0), 'has_visited': 1, 'projects_completed': 0, 'account_key': '21', 'total_minutes_visited': 2.355257, 'num_courses_visited': 1}, {'lessons_completed': 1, 'utc_date': datetime.datetime(2015, 7, 19, 0, 0), 'has_visited': 1, 'projects_completed': 0, 'account_key': '21', 'total_minutes_visited': 45.3878131667, 'num_courses_visited': 1}, {'lessons_completed': 0, 'utc_date': datetime.datetime(2015, 7, 20, 0, 0), 'has_visited': 1, 'projects_completed': 0, 'account_key': '21', 'total_minutes_visited': 2.50203766667, 'num_courses_visited': 1}, {'lessons_completed': 3, 'utc_date': datetime.datetime(2015, 7, 21, 0, 0), 'has_visited': 1, 'projects_completed': 0, 'account_key': '21', 'total_minutes_visited': 244.166696167, 'num_courses_visited': 2}, {'lessons_completed': 1, 'utc_date': datetime.datetime(2015, 7, 22, 0, 0), 'has_visited': 1, 'projects_completed': 0, 'account_key': '21', 'total_minutes_visited': 49.3370568333, 'num_courses_visited': 1}, {'lessons_completed': 3, 'utc_date': datetime.datetime(2015, 7, 23, 0, 0), 'has_visited': 1, 'projects_completed': 0, 'account_key': '21', 'total_minutes_visited': 253.581542167, 'num_courses_visited': 1}]\n",
      "416 [{'lessons_completed': 0, 'utc_date': datetime.datetime(2015, 4, 8, 0, 0), 'has_visited': 1, 'projects_completed': 0, 'account_key': '416', 'total_minutes_visited': 133.2434615, 'num_courses_visited': 2}, {'lessons_completed': 0, 'utc_date': datetime.datetime(2015, 4, 9, 0, 0), 'has_visited': 1, 'projects_completed': 0, 'account_key': '416', 'total_minutes_visited': 4.29217966667, 'num_courses_visited': 1}, {'lessons_completed': 0, 'utc_date': datetime.datetime(2015, 4, 10, 0, 0), 'has_visited': 1, 'projects_completed': 0, 'account_key': '416', 'total_minutes_visited': 139.292122667, 'num_courses_visited': 1}, {'lessons_completed': 0, 'utc_date': datetime.datetime(2015, 4, 11, 0, 0), 'has_visited': 1, 'projects_completed': 0, 'account_key': '416', 'total_minutes_visited': 24.1589036667, 'num_courses_visited': 2}, {'lessons_completed': 0, 'utc_date': datetime.datetime(2015, 4, 12, 0, 0), 'has_visited': 1, 'projects_completed': 0, 'account_key': '416', 'total_minutes_visited': 174.04851, 'num_courses_visited': 1}, {'lessons_completed': 0, 'utc_date': datetime.datetime(2015, 4, 13, 0, 0), 'has_visited': 1, 'projects_completed': 0, 'account_key': '416', 'total_minutes_visited': 154.3376065, 'num_courses_visited': 1}, {'lessons_completed': 0, 'utc_date': datetime.datetime(2015, 4, 14, 0, 0), 'has_visited': 1, 'projects_completed': 0, 'account_key': '416', 'total_minutes_visited': 93.4693208333, 'num_courses_visited': 1}]\n",
      "116 [{'lessons_completed': 2, 'utc_date': datetime.datetime(2015, 5, 6, 0, 0), 'has_visited': 1, 'projects_completed': 0, 'account_key': '116', 'total_minutes_visited': 183.417640333, 'num_courses_visited': 2}, {'lessons_completed': 0, 'utc_date': datetime.datetime(2015, 5, 7, 0, 0), 'has_visited': 1, 'projects_completed': 0, 'account_key': '116', 'total_minutes_visited': 14.4581716666, 'num_courses_visited': 2}, {'lessons_completed': 0, 'utc_date': datetime.datetime(2015, 5, 8, 0, 0), 'has_visited': 1, 'projects_completed': 0, 'account_key': '116', 'total_minutes_visited': 99.5045268333, 'num_courses_visited': 2}, {'lessons_completed': 1, 'utc_date': datetime.datetime(2015, 5, 9, 0, 0), 'has_visited': 1, 'projects_completed': 0, 'account_key': '116', 'total_minutes_visited': 102.580582167, 'num_courses_visited': 2}, {'lessons_completed': 0, 'utc_date': datetime.datetime(2015, 5, 10, 0, 0), 'has_visited': 1, 'projects_completed': 0, 'account_key': '116', 'total_minutes_visited': 90.1329605, 'num_courses_visited': 1}, {'lessons_completed': 0, 'utc_date': datetime.datetime(2015, 5, 11, 0, 0), 'has_visited': 1, 'projects_completed': 0, 'account_key': '116', 'total_minutes_visited': 118.468732333, 'num_courses_visited': 2}, {'lessons_completed': 2, 'utc_date': datetime.datetime(2015, 5, 12, 0, 0), 'has_visited': 1, 'projects_completed': 0, 'account_key': '116', 'total_minutes_visited': 277.507761167, 'num_courses_visited': 1}]\n",
      "314 [{'lessons_completed': 2, 'utc_date': datetime.datetime(2015, 5, 11, 0, 0), 'has_visited': 1, 'projects_completed': 0, 'account_key': '314', 'total_minutes_visited': 388.753792334, 'num_courses_visited': 2}, {'lessons_completed': 1, 'utc_date': datetime.datetime(2015, 5, 12, 0, 0), 'has_visited': 1, 'projects_completed': 0, 'account_key': '314', 'total_minutes_visited': 236.651781833, 'num_courses_visited': 1}, {'lessons_completed': 2, 'utc_date': datetime.datetime(2015, 5, 13, 0, 0), 'has_visited': 1, 'projects_completed': 0, 'account_key': '314', 'total_minutes_visited': 343.248207667, 'num_courses_visited': 1}, {'lessons_completed': 1, 'utc_date': datetime.datetime(2015, 5, 14, 0, 0), 'has_visited': 1, 'projects_completed': 0, 'account_key': '314', 'total_minutes_visited': 71.2964701667, 'num_courses_visited': 1}, {'lessons_completed': 0, 'utc_date': datetime.datetime(2015, 5, 15, 0, 0), 'has_visited': 1, 'projects_completed': 0, 'account_key': '314', 'total_minutes_visited': 83.816056, 'num_courses_visited': 1}, {'lessons_completed': 2, 'utc_date': datetime.datetime(2015, 5, 16, 0, 0), 'has_visited': 1, 'projects_completed': 0, 'account_key': '314', 'total_minutes_visited': 187.107375833, 'num_courses_visited': 1}, {'lessons_completed': 1, 'utc_date': datetime.datetime(2015, 5, 17, 0, 0), 'has_visited': 1, 'projects_completed': 0, 'account_key': '314', 'total_minutes_visited': 30.8468338333, 'num_courses_visited': 1}]\n",
      "179 [{'lessons_completed': 0, 'utc_date': datetime.datetime(2014, 11, 10, 0, 0), 'has_visited': 1, 'projects_completed': 0, 'account_key': '179', 'total_minutes_visited': 7.74253766667, 'num_courses_visited': 1}, {'lessons_completed': 0, 'utc_date': datetime.datetime(2014, 11, 11, 0, 0), 'has_visited': 1, 'projects_completed': 0, 'account_key': '179', 'total_minutes_visited': 53.0285923333, 'num_courses_visited': 2}, {'lessons_completed': 1, 'utc_date': datetime.datetime(2014, 11, 12, 0, 0), 'has_visited': 1, 'projects_completed': 0, 'account_key': '179', 'total_minutes_visited': 262.488002, 'num_courses_visited': 1}, {'lessons_completed': 1, 'utc_date': datetime.datetime(2014, 11, 13, 0, 0), 'has_visited': 1, 'projects_completed': 0, 'account_key': '179', 'total_minutes_visited': 195.501943333, 'num_courses_visited': 1}, {'lessons_completed': 1, 'utc_date': datetime.datetime(2014, 11, 14, 0, 0), 'has_visited': 1, 'projects_completed': 0, 'account_key': '179', 'total_minutes_visited': 184.320763667, 'num_courses_visited': 1}, {'lessons_completed': 2, 'utc_date': datetime.datetime(2014, 11, 15, 0, 0), 'has_visited': 1, 'projects_completed': 0, 'account_key': '179', 'total_minutes_visited': 200.753508667, 'num_courses_visited': 2}, {'lessons_completed': 0, 'utc_date': datetime.datetime(2014, 11, 16, 0, 0), 'has_visited': 1, 'projects_completed': 0, 'account_key': '179', 'total_minutes_visited': 9.84054133333, 'num_courses_visited': 1}]\n",
      "1033 [{'lessons_completed': 1, 'utc_date': datetime.datetime(2015, 2, 6, 0, 0), 'has_visited': 1, 'projects_completed': 0, 'account_key': '1033', 'total_minutes_visited': 182.793287333, 'num_courses_visited': 2}, {'lessons_completed': 1, 'utc_date': datetime.datetime(2015, 2, 7, 0, 0), 'has_visited': 1, 'projects_completed': 0, 'account_key': '1033', 'total_minutes_visited': 55.4731226667, 'num_courses_visited': 1}, {'lessons_completed': 1, 'utc_date': datetime.datetime(2015, 2, 8, 0, 0), 'has_visited': 1, 'projects_completed': 0, 'account_key': '1033', 'total_minutes_visited': 119.578459833, 'num_courses_visited': 1}, {'lessons_completed': 3, 'utc_date': datetime.datetime(2015, 2, 9, 0, 0), 'has_visited': 1, 'projects_completed': 0, 'account_key': '1033', 'total_minutes_visited': 406.251784, 'num_courses_visited': 1}, {'lessons_completed': 1, 'utc_date': datetime.datetime(2015, 2, 10, 0, 0), 'has_visited': 1, 'projects_completed': 0, 'account_key': '1033', 'total_minutes_visited': 55.8825776667, 'num_courses_visited': 1}, {'lessons_completed': 0, 'utc_date': datetime.datetime(2015, 2, 11, 0, 0), 'has_visited': 1, 'projects_completed': 0, 'account_key': '1033', 'total_minutes_visited': 22.2181096667, 'num_courses_visited': 1}, {'lessons_completed': 2, 'utc_date': datetime.datetime(2015, 2, 12, 0, 0), 'has_visited': 1, 'projects_completed': 0, 'account_key': '1033', 'total_minutes_visited': 117.7560965, 'num_courses_visited': 1}]\n",
      "967 [{'lessons_completed': 0, 'utc_date': datetime.datetime(2015, 8, 23, 0, 0), 'has_visited': 1, 'projects_completed': 0, 'account_key': '967', 'total_minutes_visited': 14.7752001667, 'num_courses_visited': 1}, {'lessons_completed': 1, 'utc_date': datetime.datetime(2015, 8, 24, 0, 0), 'has_visited': 1, 'projects_completed': 0, 'account_key': '967', 'total_minutes_visited': 53.848049, 'num_courses_visited': 1}, {'lessons_completed': 0, 'utc_date': datetime.datetime(2015, 8, 25, 0, 0), 'has_visited': 1, 'projects_completed': 0, 'account_key': '967', 'total_minutes_visited': 32.5094423333, 'num_courses_visited': 1}, {'lessons_completed': 0, 'utc_date': datetime.datetime(2015, 8, 26, 0, 0), 'has_visited': 1, 'projects_completed': 0, 'account_key': '967', 'total_minutes_visited': 55.0060993333, 'num_courses_visited': 1}, {'lessons_completed': 1, 'utc_date': datetime.datetime(2015, 8, 27, 0, 0), 'has_visited': 1, 'projects_completed': 0, 'account_key': '967', 'total_minutes_visited': 293.488189333, 'num_courses_visited': 2}]\n",
      "1176 [{'lessons_completed': 0, 'utc_date': datetime.datetime(2015, 8, 12, 0, 0), 'has_visited': 1, 'projects_completed': 0, 'account_key': '1176', 'total_minutes_visited': 89.9813851667, 'num_courses_visited': 2}, {'lessons_completed': 1, 'utc_date': datetime.datetime(2015, 8, 13, 0, 0), 'has_visited': 1, 'projects_completed': 0, 'account_key': '1176', 'total_minutes_visited': 71.3216011667, 'num_courses_visited': 1}, {'lessons_completed': 1, 'utc_date': datetime.datetime(2015, 8, 14, 0, 0), 'has_visited': 1, 'projects_completed': 0, 'account_key': '1176', 'total_minutes_visited': 154.262894333, 'num_courses_visited': 1}, {'lessons_completed': 1, 'utc_date': datetime.datetime(2015, 8, 15, 0, 0), 'has_visited': 1, 'projects_completed': 0, 'account_key': '1176', 'total_minutes_visited': 140.3834635, 'num_courses_visited': 1}, {'lessons_completed': 1, 'utc_date': datetime.datetime(2015, 8, 16, 0, 0), 'has_visited': 1, 'projects_completed': 0, 'account_key': '1176', 'total_minutes_visited': 247.763295333, 'num_courses_visited': 1}, {'lessons_completed': 0, 'utc_date': datetime.datetime(2015, 8, 17, 0, 0), 'has_visited': 1, 'projects_completed': 0, 'account_key': '1176', 'total_minutes_visited': 27.9619468333, 'num_courses_visited': 1}, {'lessons_completed': 0, 'utc_date': datetime.datetime(2015, 8, 18, 0, 0), 'has_visited': 1, 'projects_completed': 0, 'account_key': '1176', 'total_minutes_visited': 22.9044518333, 'num_courses_visited': 1}]\n",
      "36 [{'lessons_completed': 1, 'utc_date': datetime.datetime(2015, 5, 13, 0, 0), 'has_visited': 1, 'projects_completed': 0, 'account_key': '36', 'total_minutes_visited': 99.4884, 'num_courses_visited': 1}, {'lessons_completed': 1, 'utc_date': datetime.datetime(2015, 5, 14, 0, 0), 'has_visited': 1, 'projects_completed': 0, 'account_key': '36', 'total_minutes_visited': 124.892390667, 'num_courses_visited': 2}, {'lessons_completed': 0, 'utc_date': datetime.datetime(2015, 5, 15, 0, 0), 'has_visited': 1, 'projects_completed': 0, 'account_key': '36', 'total_minutes_visited': 99.1640393333, 'num_courses_visited': 1}, {'lessons_completed': 1, 'utc_date': datetime.datetime(2015, 5, 16, 0, 0), 'has_visited': 1, 'projects_completed': 0, 'account_key': '36', 'total_minutes_visited': 203.577347667, 'num_courses_visited': 1}, {'lessons_completed': 0, 'utc_date': datetime.datetime(2015, 5, 17, 0, 0), 'has_visited': 1, 'projects_completed': 0, 'account_key': '36', 'total_minutes_visited': 22.8080943333, 'num_courses_visited': 2}, {'lessons_completed': 0, 'utc_date': datetime.datetime(2015, 5, 18, 0, 0), 'has_visited': 1, 'projects_completed': 0, 'account_key': '36', 'total_minutes_visited': 59.4953813333, 'num_courses_visited': 1}, {'lessons_completed': 1, 'utc_date': datetime.datetime(2015, 5, 19, 0, 0), 'has_visited': 1, 'projects_completed': 0, 'account_key': '36', 'total_minutes_visited': 199.7882425, 'num_courses_visited': 2}]\n",
      "58 [{'lessons_completed': 1, 'utc_date': datetime.datetime(2015, 5, 9, 0, 0), 'has_visited': 1, 'projects_completed': 0, 'account_key': '58', 'total_minutes_visited': 178.58885, 'num_courses_visited': 2}, {'lessons_completed': 0, 'utc_date': datetime.datetime(2015, 5, 10, 0, 0), 'has_visited': 1, 'projects_completed': 0, 'account_key': '58', 'total_minutes_visited': 153.5908475, 'num_courses_visited': 1}, {'lessons_completed': 1, 'utc_date': datetime.datetime(2015, 5, 11, 0, 0), 'has_visited': 1, 'projects_completed': 0, 'account_key': '58', 'total_minutes_visited': 90.5777906667, 'num_courses_visited': 1}, {'lessons_completed': 0, 'utc_date': datetime.datetime(2015, 5, 12, 0, 0), 'has_visited': 1, 'projects_completed': 0, 'account_key': '58', 'total_minutes_visited': 109.5311985, 'num_courses_visited': 1}, {'lessons_completed': 1, 'utc_date': datetime.datetime(2015, 5, 13, 0, 0), 'has_visited': 1, 'projects_completed': 0, 'account_key': '58', 'total_minutes_visited': 187.195628167, 'num_courses_visited': 1}, {'lessons_completed': 0, 'utc_date': datetime.datetime(2015, 5, 14, 0, 0), 'has_visited': 1, 'projects_completed': 0, 'account_key': '58', 'total_minutes_visited': 207.821358667, 'num_courses_visited': 1}, {'lessons_completed': 0, 'utc_date': datetime.datetime(2015, 5, 15, 0, 0), 'has_visited': 1, 'projects_completed': 0, 'account_key': '58', 'total_minutes_visited': 96.8036533333, 'num_courses_visited': 1}]\n",
      "502 [{'lessons_completed': 0, 'utc_date': datetime.datetime(2014, 12, 8, 0, 0), 'has_visited': 1, 'projects_completed': 0, 'account_key': '502', 'total_minutes_visited': 11.4136736667, 'num_courses_visited': 2}, {'lessons_completed': 0, 'utc_date': datetime.datetime(2014, 12, 9, 0, 0), 'has_visited': 1, 'projects_completed': 0, 'account_key': '502', 'total_minutes_visited': 50.4802435, 'num_courses_visited': 1}, {'lessons_completed': 0, 'utc_date': datetime.datetime(2014, 12, 10, 0, 0), 'has_visited': 1, 'projects_completed': 0, 'account_key': '502', 'total_minutes_visited': 18.2609623333, 'num_courses_visited': 1}, {'lessons_completed': 0, 'utc_date': datetime.datetime(2014, 12, 11, 0, 0), 'has_visited': 1, 'projects_completed': 0, 'account_key': '502', 'total_minutes_visited': 70.0191761667, 'num_courses_visited': 2}, {'lessons_completed': 1, 'utc_date': datetime.datetime(2014, 12, 12, 0, 0), 'has_visited': 1, 'projects_completed': 0, 'account_key': '502', 'total_minutes_visited': 116.798308167, 'num_courses_visited': 1}, {'lessons_completed': 0, 'utc_date': datetime.datetime(2014, 12, 13, 0, 0), 'has_visited': 1, 'projects_completed': 0, 'account_key': '502', 'total_minutes_visited': 58.1505915, 'num_courses_visited': 1}, {'lessons_completed': 2, 'utc_date': datetime.datetime(2014, 12, 14, 0, 0), 'has_visited': 1, 'projects_completed': 0, 'account_key': '502', 'total_minutes_visited': 178.921973833, 'num_courses_visited': 1}]\n",
      "404 [{'lessons_completed': 0, 'utc_date': datetime.datetime(2015, 4, 8, 0, 0), 'has_visited': 1, 'projects_completed': 0, 'account_key': '404', 'total_minutes_visited': 10.3741821667, 'num_courses_visited': 1}, {'lessons_completed': 0, 'utc_date': datetime.datetime(2015, 4, 9, 0, 0), 'has_visited': 1, 'projects_completed': 0, 'account_key': '404', 'total_minutes_visited': 20.1094798333, 'num_courses_visited': 1}, {'lessons_completed': 0, 'utc_date': datetime.datetime(2015, 4, 10, 0, 0), 'has_visited': 1, 'projects_completed': 0, 'account_key': '404', 'total_minutes_visited': 145.416302167, 'num_courses_visited': 2}, {'lessons_completed': 0, 'utc_date': datetime.datetime(2015, 4, 11, 0, 0), 'has_visited': 1, 'projects_completed': 0, 'account_key': '404', 'total_minutes_visited': 47.9729756667, 'num_courses_visited': 1}, {'lessons_completed': 0, 'utc_date': datetime.datetime(2015, 4, 12, 0, 0), 'has_visited': 1, 'projects_completed': 0, 'account_key': '404', 'total_minutes_visited': 51.5328661667, 'num_courses_visited': 1}, {'lessons_completed': 1, 'utc_date': datetime.datetime(2015, 4, 13, 0, 0), 'has_visited': 1, 'projects_completed': 0, 'account_key': '404', 'total_minutes_visited': 181.073733667, 'num_courses_visited': 1}, {'lessons_completed': 1, 'utc_date': datetime.datetime(2015, 4, 14, 0, 0), 'has_visited': 1, 'projects_completed': 0, 'account_key': '404', 'total_minutes_visited': 154.9400305, 'num_courses_visited': 1}]\n",
      "225 [{'lessons_completed': 0, 'utc_date': datetime.datetime(2014, 11, 10, 0, 0), 'has_visited': 1, 'projects_completed': 0, 'account_key': '225', 'total_minutes_visited': 13.341386, 'num_courses_visited': 1}, {'lessons_completed': 0, 'utc_date': datetime.datetime(2014, 11, 11, 0, 0), 'has_visited': 1, 'projects_completed': 0, 'account_key': '225', 'total_minutes_visited': 3.7465245, 'num_courses_visited': 1}, {'lessons_completed': 0, 'utc_date': datetime.datetime(2014, 11, 12, 0, 0), 'has_visited': 1, 'projects_completed': 0, 'account_key': '225', 'total_minutes_visited': 18.798328, 'num_courses_visited': 2}, {'lessons_completed': 0, 'utc_date': datetime.datetime(2014, 11, 13, 0, 0), 'has_visited': 1, 'projects_completed': 0, 'account_key': '225', 'total_minutes_visited': 32.7827886667, 'num_courses_visited': 1}, {'lessons_completed': 0, 'utc_date': datetime.datetime(2014, 11, 14, 0, 0), 'has_visited': 1, 'projects_completed': 0, 'account_key': '225', 'total_minutes_visited': 57.9573418333, 'num_courses_visited': 1}, {'lessons_completed': 0, 'utc_date': datetime.datetime(2014, 11, 15, 0, 0), 'has_visited': 1, 'projects_completed': 0, 'account_key': '225', 'total_minutes_visited': 25.2937736667, 'num_courses_visited': 1}, {'lessons_completed': 1, 'utc_date': datetime.datetime(2014, 11, 16, 0, 0), 'has_visited': 1, 'projects_completed': 0, 'account_key': '225', 'total_minutes_visited': 96.0494571667, 'num_courses_visited': 1}]\n",
      "557 [{'lessons_completed': 0, 'utc_date': datetime.datetime(2015, 3, 10, 0, 0), 'has_visited': 1, 'projects_completed': 0, 'account_key': '557', 'total_minutes_visited': 252.941792167, 'num_courses_visited': 1}, {'lessons_completed': 0, 'utc_date': datetime.datetime(2015, 3, 11, 0, 0), 'has_visited': 1, 'projects_completed': 0, 'account_key': '557', 'total_minutes_visited': 182.065372333, 'num_courses_visited': 1}, {'lessons_completed': 0, 'utc_date': datetime.datetime(2015, 3, 12, 0, 0), 'has_visited': 1, 'projects_completed': 0, 'account_key': '557', 'total_minutes_visited': 154.7433135, 'num_courses_visited': 1}, {'lessons_completed': 1, 'utc_date': datetime.datetime(2015, 3, 13, 0, 0), 'has_visited': 1, 'projects_completed': 0, 'account_key': '557', 'total_minutes_visited': 76.1666098333, 'num_courses_visited': 1}, {'lessons_completed': 1, 'utc_date': datetime.datetime(2015, 3, 14, 0, 0), 'has_visited': 1, 'projects_completed': 0, 'account_key': '557', 'total_minutes_visited': 180.296993167, 'num_courses_visited': 2}, {'lessons_completed': 0, 'utc_date': datetime.datetime(2015, 3, 15, 0, 0), 'has_visited': 1, 'projects_completed': 0, 'account_key': '557', 'total_minutes_visited': 173.8447035, 'num_courses_visited': 2}, {'lessons_completed': 0, 'utc_date': datetime.datetime(2015, 3, 16, 0, 0), 'has_visited': 1, 'projects_completed': 0, 'account_key': '557', 'total_minutes_visited': 225.7594305, 'num_courses_visited': 2}]\n",
      "441 [{'lessons_completed': 0, 'utc_date': datetime.datetime(2014, 11, 12, 0, 0), 'has_visited': 1, 'projects_completed': 0, 'account_key': '441', 'total_minutes_visited': 183.888394, 'num_courses_visited': 3}, {'lessons_completed': 1, 'utc_date': datetime.datetime(2014, 11, 13, 0, 0), 'has_visited': 1, 'projects_completed': 0, 'account_key': '441', 'total_minutes_visited': 203.001277334, 'num_courses_visited': 3}, {'lessons_completed': 1, 'utc_date': datetime.datetime(2014, 11, 14, 0, 0), 'has_visited': 1, 'projects_completed': 0, 'account_key': '441', 'total_minutes_visited': 97.0059886667, 'num_courses_visited': 1}, {'lessons_completed': 0, 'utc_date': datetime.datetime(2014, 11, 15, 0, 0), 'has_visited': 1, 'projects_completed': 0, 'account_key': '441', 'total_minutes_visited': 88.0827136667, 'num_courses_visited': 1}, {'lessons_completed': 1, 'utc_date': datetime.datetime(2014, 11, 16, 0, 0), 'has_visited': 1, 'projects_completed': 0, 'account_key': '441', 'total_minutes_visited': 170.358130833, 'num_courses_visited': 1}, {'lessons_completed': 2, 'utc_date': datetime.datetime(2014, 11, 17, 0, 0), 'has_visited': 1, 'projects_completed': 0, 'account_key': '441', 'total_minutes_visited': 296.641984167, 'num_courses_visited': 1}, {'lessons_completed': 0, 'utc_date': datetime.datetime(2014, 11, 18, 0, 0), 'has_visited': 1, 'projects_completed': 0, 'account_key': '441', 'total_minutes_visited': 26.3166405, 'num_courses_visited': 1}]\n",
      "633 [{'lessons_completed': 10, 'utc_date': datetime.datetime(2015, 7, 17, 0, 0), 'has_visited': 1, 'projects_completed': 0, 'account_key': '633', 'total_minutes_visited': 489.042620667, 'num_courses_visited': 4}, {'lessons_completed': 8, 'utc_date': datetime.datetime(2015, 7, 18, 0, 0), 'has_visited': 1, 'projects_completed': 0, 'account_key': '633', 'total_minutes_visited': 264.106566334, 'num_courses_visited': 2}, {'lessons_completed': 3, 'utc_date': datetime.datetime(2015, 7, 19, 0, 0), 'has_visited': 1, 'projects_completed': 0, 'account_key': '633', 'total_minutes_visited': 173.814019, 'num_courses_visited': 1}, {'lessons_completed': 6, 'utc_date': datetime.datetime(2015, 7, 20, 0, 0), 'has_visited': 1, 'projects_completed': 0, 'account_key': '633', 'total_minutes_visited': 259.304326334, 'num_courses_visited': 2}, {'lessons_completed': 2, 'utc_date': datetime.datetime(2015, 7, 21, 0, 0), 'has_visited': 1, 'projects_completed': 0, 'account_key': '633', 'total_minutes_visited': 108.428018, 'num_courses_visited': 1}, {'lessons_completed': 6, 'utc_date': datetime.datetime(2015, 7, 22, 0, 0), 'has_visited': 1, 'projects_completed': 0, 'account_key': '633', 'total_minutes_visited': 290.0114085, 'num_courses_visited': 2}, {'lessons_completed': 1, 'utc_date': datetime.datetime(2015, 7, 23, 0, 0), 'has_visited': 1, 'projects_completed': 0, 'account_key': '633', 'total_minutes_visited': 104.482101, 'num_courses_visited': 1}]\n",
      "1060 [{'lessons_completed': 0, 'utc_date': datetime.datetime(2015, 1, 11, 0, 0), 'has_visited': 1, 'projects_completed': 0, 'account_key': '1060', 'total_minutes_visited': 157.604542833, 'num_courses_visited': 1}, {'lessons_completed': 0, 'utc_date': datetime.datetime(2015, 1, 12, 0, 0), 'has_visited': 1, 'projects_completed': 0, 'account_key': '1060', 'total_minutes_visited': 341.673267, 'num_courses_visited': 2}, {'lessons_completed': 0, 'utc_date': datetime.datetime(2015, 1, 13, 0, 0), 'has_visited': 1, 'projects_completed': 0, 'account_key': '1060', 'total_minutes_visited': 224.766829167, 'num_courses_visited': 2}, {'lessons_completed': 0, 'utc_date': datetime.datetime(2015, 1, 14, 0, 0), 'has_visited': 1, 'projects_completed': 0, 'account_key': '1060', 'total_minutes_visited': 349.296568166, 'num_courses_visited': 2}, {'lessons_completed': 0, 'utc_date': datetime.datetime(2015, 1, 15, 0, 0), 'has_visited': 1, 'projects_completed': 0, 'account_key': '1060', 'total_minutes_visited': 207.638172, 'num_courses_visited': 1}, {'lessons_completed': 0, 'utc_date': datetime.datetime(2015, 1, 16, 0, 0), 'has_visited': 1, 'projects_completed': 0, 'account_key': '1060', 'total_minutes_visited': 156.466291833, 'num_courses_visited': 1}, {'lessons_completed': 1, 'utc_date': datetime.datetime(2015, 1, 17, 0, 0), 'has_visited': 1, 'projects_completed': 0, 'account_key': '1060', 'total_minutes_visited': 331.077078333, 'num_courses_visited': 1}]\n",
      "316 [{'lessons_completed': 2, 'utc_date': datetime.datetime(2014, 12, 6, 0, 0), 'has_visited': 1, 'projects_completed': 0, 'account_key': '316', 'total_minutes_visited': 411.938381166, 'num_courses_visited': 2}, {'lessons_completed': 1, 'utc_date': datetime.datetime(2014, 12, 7, 0, 0), 'has_visited': 1, 'projects_completed': 0, 'account_key': '316', 'total_minutes_visited': 247.555710167, 'num_courses_visited': 1}, {'lessons_completed': 1, 'utc_date': datetime.datetime(2014, 12, 8, 0, 0), 'has_visited': 1, 'projects_completed': 0, 'account_key': '316', 'total_minutes_visited': 212.681522833, 'num_courses_visited': 1}, {'lessons_completed': 0, 'utc_date': datetime.datetime(2014, 12, 9, 0, 0), 'has_visited': 1, 'projects_completed': 0, 'account_key': '316', 'total_minutes_visited': 152.075830833, 'num_courses_visited': 1}, {'lessons_completed': 3, 'utc_date': datetime.datetime(2014, 12, 10, 0, 0), 'has_visited': 1, 'projects_completed': 0, 'account_key': '316', 'total_minutes_visited': 345.209481333, 'num_courses_visited': 1}, {'lessons_completed': 1, 'utc_date': datetime.datetime(2014, 12, 11, 0, 0), 'has_visited': 1, 'projects_completed': 0, 'account_key': '316', 'total_minutes_visited': 125.071243167, 'num_courses_visited': 1}, {'lessons_completed': 1, 'utc_date': datetime.datetime(2014, 12, 12, 0, 0), 'has_visited': 1, 'projects_completed': 0, 'account_key': '316', 'total_minutes_visited': 241.411437667, 'num_courses_visited': 2}]\n",
      "48 [{'lessons_completed': 3, 'utc_date': datetime.datetime(2015, 7, 16, 0, 0), 'has_visited': 1, 'projects_completed': 0, 'account_key': '48', 'total_minutes_visited': 339.904666167, 'num_courses_visited': 2}, {'lessons_completed': 1, 'utc_date': datetime.datetime(2015, 7, 17, 0, 0), 'has_visited': 1, 'projects_completed': 0, 'account_key': '48', 'total_minutes_visited': 22.5341976667, 'num_courses_visited': 1}, {'lessons_completed': 3, 'utc_date': datetime.datetime(2015, 7, 18, 0, 0), 'has_visited': 1, 'projects_completed': 0, 'account_key': '48', 'total_minutes_visited': 221.722222167, 'num_courses_visited': 2}, {'lessons_completed': 1, 'utc_date': datetime.datetime(2015, 7, 19, 0, 0), 'has_visited': 1, 'projects_completed': 0, 'account_key': '48', 'total_minutes_visited': 71.7201426667, 'num_courses_visited': 1}, {'lessons_completed': 1, 'utc_date': datetime.datetime(2015, 7, 20, 0, 0), 'has_visited': 1, 'projects_completed': 0, 'account_key': '48', 'total_minutes_visited': 83.3186448333, 'num_courses_visited': 1}, {'lessons_completed': 1, 'utc_date': datetime.datetime(2015, 7, 21, 0, 0), 'has_visited': 1, 'projects_completed': 0, 'account_key': '48', 'total_minutes_visited': 146.231742333, 'num_courses_visited': 1}, {'lessons_completed': 2, 'utc_date': datetime.datetime(2015, 7, 22, 0, 0), 'has_visited': 1, 'projects_completed': 0, 'account_key': '48', 'total_minutes_visited': 170.255573833, 'num_courses_visited': 1}]\n",
      "651 [{'lessons_completed': 1, 'utc_date': datetime.datetime(2015, 4, 6, 0, 0), 'has_visited': 1, 'projects_completed': 0, 'account_key': '651', 'total_minutes_visited': 276.340611666, 'num_courses_visited': 2}, {'lessons_completed': 1, 'utc_date': datetime.datetime(2015, 4, 7, 0, 0), 'has_visited': 1, 'projects_completed': 0, 'account_key': '651', 'total_minutes_visited': 40.6862636667, 'num_courses_visited': 1}, {'lessons_completed': 2, 'utc_date': datetime.datetime(2015, 4, 8, 0, 0), 'has_visited': 1, 'projects_completed': 0, 'account_key': '651', 'total_minutes_visited': 256.770152, 'num_courses_visited': 1}, {'lessons_completed': 1, 'utc_date': datetime.datetime(2015, 4, 9, 0, 0), 'has_visited': 1, 'projects_completed': 0, 'account_key': '651', 'total_minutes_visited': 162.124112167, 'num_courses_visited': 1}, {'lessons_completed': 1, 'utc_date': datetime.datetime(2015, 4, 10, 0, 0), 'has_visited': 1, 'projects_completed': 0, 'account_key': '651', 'total_minutes_visited': 169.823468667, 'num_courses_visited': 1}, {'lessons_completed': 1, 'utc_date': datetime.datetime(2015, 4, 11, 0, 0), 'has_visited': 1, 'projects_completed': 0, 'account_key': '651', 'total_minutes_visited': 231.380503333, 'num_courses_visited': 1}, {'lessons_completed': 1, 'utc_date': datetime.datetime(2015, 4, 12, 0, 0), 'has_visited': 1, 'projects_completed': 0, 'account_key': '651', 'total_minutes_visited': 209.590736833, 'num_courses_visited': 1}]\n",
      "473\n",
      "1517\n",
      "78\n",
      "['305', '1204', '496', '645', '272', '160', '200', '450', '1070', '140', '171', '583', '388', '23', '360', '493', '206', '540', '175', '274', '517', '203', '439', '572', '1149', '483', '544', '232', '706', '204', '530', '242', '134', '344', '218', '277', '569', '197', '37', '317', '125', '1215', '303', '367', '624', '324', '686', '187', '573', '0', '649', '8', '313', '50', '580', '151', '604', '118', '21', '416', '116', '314', '179', '1033', '967', '1176', '36', '58', '502', '404', '225', '557', '441', '633', '1060', '316', '48', '651']\n"
     ]
    }
   ],
   "source": [
    "# for account_key,amount in engagement_by_account.items():\n",
    "#     total_amount = 0\n",
    "#     for record in amount:\n",
    "#         total_amount += record[para]\n",
    "#     total_pairs[account_key] = total_amount        \n",
    "#return total_pairs\n",
    "\n",
    "zero_activity_accounts = list()\n",
    "\n",
    "for account,record in engagement_by_account.items():\n",
    "    count = 0\n",
    "    for para in record:\n",
    "        if para['has_visited'] == 0:# and para['lessons_completed'] == 0:\n",
    "            count += 1\n",
    "    if count == 0:\n",
    "        count_zero += 1\n",
    "        zero_activity_accounts.append(account)\n",
    "        print(account,record)\n",
    "    else:\n",
    "        not_zero += 1\n",
    "        \n",
    "print(count_zero)\n",
    "print(not_zero)\n",
    "print(len(zero_activity_accounts))\n",
    "print(zero_activity_accounts)\n",
    "\n",
    "count_zero = 0\n",
    "not_zero = 0"
   ]
  },
  {
   "cell_type": "code",
   "execution_count": 267,
   "metadata": {
    "collapsed": false
   },
   "outputs": [
    {
     "name": "stdout",
     "output_type": "stream",
     "text": [
      "{'lesson_key': '3176718735', 'completion_date': datetime.datetime(2015, 1, 16, 0, 0), 'account_key': '256', 'processing_state': 'EVALUATED', 'creation_date': datetime.datetime(2015, 1, 14, 0, 0), 'assigned_rating': 'UNGRADED'}\n",
      "{'lesson_key': '3176718735', 'completion_date': datetime.datetime(2015, 1, 13, 0, 0), 'account_key': '256', 'processing_state': 'EVALUATED', 'creation_date': datetime.datetime(2015, 1, 10, 0, 0), 'assigned_rating': 'INCOMPLETE'}\n",
      "{'lesson_key': '3176718735', 'completion_date': datetime.datetime(2015, 1, 20, 0, 0), 'account_key': '256', 'processing_state': 'EVALUATED', 'creation_date': datetime.datetime(2015, 1, 20, 0, 0), 'assigned_rating': 'PASSED'}\n",
      "{'lesson_key': '3176718735', 'completion_date': datetime.datetime(2015, 3, 13, 0, 0), 'account_key': '434', 'processing_state': 'EVALUATED', 'creation_date': datetime.datetime(2015, 3, 10, 0, 0), 'assigned_rating': 'PASSED'}\n",
      "{'lesson_key': '3176718735', 'completion_date': datetime.datetime(2015, 3, 3, 0, 0), 'account_key': '434', 'processing_state': 'EVALUATED', 'creation_date': datetime.datetime(2015, 2, 17, 0, 0), 'assigned_rating': 'INCOMPLETE'}\n",
      "----\n",
      "426\n",
      "1058\n",
      "89\n",
      "1070\n",
      "79\n",
      "----\n",
      "426 2015-05-07 00:00:00\n",
      "852 2015-05-12 00:00:00\n",
      "1058 2015-03-10 00:00:00\n",
      "89 2015-05-07 00:00:00\n",
      "973 2015-07-13 00:00:00\n"
     ]
    },
    {
     "data": {
      "text/plain": [
       "dict"
      ]
     },
     "execution_count": 267,
     "metadata": {},
     "output_type": "execute_result"
    }
   ],
   "source": [
    "#Quiz: Splitting Out Passing Students\n",
    "\n",
    "## Create two lists of engagement data for paid students in the first week.\n",
    "## The first list should contain data for students who eventually pass the\n",
    "## subway project, and the second list should contain data for students\n",
    "## who do not.\n",
    "\n",
    "#starting by taking a look at submitted projects table and other relevant objects\n",
    "five_rows(project_submissions)\n",
    "print(\"----\")\n",
    "five_rows(unique_project_submitters)\n",
    "print(\"----\")\n",
    "five_rows(paid_students)\n",
    "type(paid_students)"
   ]
  },
  {
   "cell_type": "code",
   "execution_count": 265,
   "metadata": {
    "collapsed": false
   },
   "outputs": [
    {
     "data": {
      "text/plain": [
       "{'', 'DISTINCTION', 'INCOMPLETE', 'PASSED', 'UNGRADED'}"
      ]
     },
     "execution_count": 265,
     "metadata": {},
     "output_type": "execute_result"
    }
   ],
   "source": [
    "#Quiz: Splitting Out Passing Students: finding unique values for assigned_rating\n",
    "\n",
    "unique_table(project_submissions,'assigned_rating')\n"
   ]
  },
  {
   "cell_type": "code",
   "execution_count": null,
   "metadata": {
    "collapsed": true
   },
   "outputs": [],
   "source": []
  },
  {
   "cell_type": "code",
   "execution_count": 277,
   "metadata": {
    "collapsed": false
   },
   "outputs": [
    {
     "name": "stdout",
     "output_type": "stream",
     "text": [
      "passing students: 647\n",
      "non-passed students: 348\n",
      "995\n",
      "995\n"
     ]
    }
   ],
   "source": [
    "#Quiz: Splitting Out Passing Students: assigning values\n",
    "\n",
    "\n",
    "subway_project_lesson_keys = ['746169184', '3176718735']\n",
    "\n",
    "passed_students = set()\n",
    "non_passed_students = set()\n",
    "\n",
    "for student in paid_students:\n",
    "    for project in project_submissions:\n",
    "        for lesson in subway_project_lesson_keys:\n",
    "            if project['account_key'] == student:\n",
    "                if project['lesson_key'] == lesson:\n",
    "                    if project['assigned_rating'] in ('DISTINCTION','PASSED'):\n",
    "                        passed_students.add(student)\n",
    "    if student not in passed_students:\n",
    "        non_passed_students.add(student)\n",
    "\n",
    "print('passing students:',len(passed_students))\n",
    "print('non-passed students:',len(non_passed_students))\n",
    "print(len(paid_students))\n",
    "print(len(passed_students)+len(non_passed_students))\n",
    "\n",
    "\n",
    "#passing_engagement = \n",
    "#non_passing_engagement ="
   ]
  },
  {
   "cell_type": "code",
   "execution_count": 283,
   "metadata": {
    "collapsed": false
   },
   "outputs": [
    {
     "name": "stdout",
     "output_type": "stream",
     "text": [
      "4527\n",
      "2392\n"
     ]
    }
   ],
   "source": [
    "#Quiz: Splitting Out Passing Students: creating engagement tables and counting\n",
    "\n",
    "\n",
    "def if_in_add(table,para,in_list):\n",
    "    tmp_list = list()\n",
    "    for record in table:\n",
    "        if record[para] in in_list:\n",
    "            tmp_list.append(record)\n",
    "    return tmp_list\n",
    "\n",
    "passing_engagement = if_in_add(paid_engagement_first_week,'account_key',passed_students)\n",
    "non_passing_engagement = if_in_add(paid_engagement_first_week,'account_key',non_passed_students)\n",
    "\n",
    "print(len(passing_engagement))\n",
    "print(len(non_passing_engagement))"
   ]
  },
  {
   "cell_type": "code",
   "execution_count": null,
   "metadata": {
    "collapsed": true
   },
   "outputs": [],
   "source": [
    "#alternate way, from video\n",
    "\"\"\"\n",
    "len(pass_subway_project)\n",
    "\n",
    "passing_engagement = []\n",
    "non_passing_engagement = []\n",
    "\n",
    "for engagement_record in paid_engagement_in_first_week:\n",
    "    if engagement_record['account_key'] in pass_subway_project:\n",
    "        passing_engagement.append(engagement_record)\n",
    "    else:\n",
    "        non_passing_engagement.append(engagement_record)\n",
    "\n",
    "print len(passing_engagement)\n",
    "print len(non_passing_engagement)\n",
    "\"\"\""
   ]
  }
 ],
 "metadata": {
  "kernelspec": {
   "display_name": "Python 3",
   "language": "python",
   "name": "python3"
  },
  "language_info": {
   "codemirror_mode": {
    "name": "ipython",
    "version": 3
   },
   "file_extension": ".py",
   "mimetype": "text/x-python",
   "name": "python",
   "nbconvert_exporter": "python",
   "pygments_lexer": "ipython3",
   "version": "3.5.2"
  }
 },
 "nbformat": 4,
 "nbformat_minor": 0
}
