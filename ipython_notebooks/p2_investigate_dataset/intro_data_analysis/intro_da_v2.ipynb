{
 "cells": [
  {
   "cell_type": "code",
   "execution_count": 53,
   "metadata": {
    "collapsed": false
   },
   "outputs": [
    {
     "name": "stdout",
     "output_type": "stream",
     "text": [
      "{'is_canceled': 'True', 'account_key': '448', 'join_date': '2014-11-10', 'days_to_cancel': '65', 'is_udacity': 'True', 'cancel_date': '2015-01-14', 'status': 'canceled'}\n",
      "{'projects_completed': '0.0', 'num_courses_visited': '1.0', 'acct': '0', 'utc_date': '2015-01-09', 'total_minutes_visited': '11.6793745', 'lessons_completed': '0.0'}\n",
      "{'creation_date': '2015-01-14', 'lesson_key': '3176718735', 'account_key': '256', 'processing_state': 'EVALUATED', 'completion_date': '2015-01-16', 'assigned_rating': 'UNGRADED'}\n"
     ]
    }
   ],
   "source": [
    "#CSVs in Python\n",
    "#write as function\n",
    "import unicodecsv\n",
    "\n",
    "def read_csv(filename):\n",
    "    with open(filename, 'rb') as f:\n",
    "        reader = unicodecsv.DictReader(f)\n",
    "        return list(reader)\n",
    "\n",
    "enrollments = read_csv('enrollments.csv')\n",
    "daily_engagement = read_csv('daily_engagement.csv')\n",
    "project_submissions = read_csv('project_submissions.csv')\n",
    "\n",
    "print(enrollments[0])\n",
    "print(daily_engagement[0])\n",
    "print(project_submissions[0])"
   ]
  },
  {
   "cell_type": "code",
   "execution_count": 54,
   "metadata": {
    "collapsed": false
   },
   "outputs": [],
   "source": [
    "#Fixing data types\n",
    "#taken from L1_Starter_code\n",
    "from datetime import datetime as dt\n",
    "\n",
    "# Takes a date as a string, and returns a Python datetime object. \n",
    "# If there is no date given, returns None\n",
    "def parse_date(date):\n",
    "    if date == '':\n",
    "        return None\n",
    "    else:\n",
    "        return dt.strptime(date, '%Y-%m-%d')\n",
    "    \n",
    "# Takes a string which is either an empty string or represents an integer,\n",
    "# and returns an int or None.\n",
    "def parse_maybe_int(i):\n",
    "    if i == '':\n",
    "        return None\n",
    "    else:\n",
    "        return int(i)"
   ]
  },
  {
   "cell_type": "code",
   "execution_count": 55,
   "metadata": {
    "collapsed": false
   },
   "outputs": [
    {
     "data": {
      "text/plain": [
       "{'account_key': '448',\n",
       " 'cancel_date': datetime.datetime(2015, 1, 14, 0, 0),\n",
       " 'days_to_cancel': 65,\n",
       " 'is_canceled': True,\n",
       " 'is_udacity': True,\n",
       " 'join_date': datetime.datetime(2014, 11, 10, 0, 0),\n",
       " 'status': 'canceled'}"
      ]
     },
     "execution_count": 55,
     "metadata": {},
     "output_type": "execute_result"
    }
   ],
   "source": [
    "# Clean up the data types in the enrollments table\n",
    "for enrollment in enrollments:\n",
    "    enrollment['cancel_date'] = parse_date(enrollment['cancel_date'])\n",
    "    enrollment['days_to_cancel'] = parse_maybe_int(enrollment['days_to_cancel'])\n",
    "    enrollment['is_canceled'] = enrollment['is_canceled'] == 'True'\n",
    "    enrollment['is_udacity'] = enrollment['is_udacity'] == 'True'\n",
    "    enrollment['join_date'] = parse_date(enrollment['join_date'])\n",
    "    \n",
    "enrollments[0]"
   ]
  },
  {
   "cell_type": "code",
   "execution_count": 56,
   "metadata": {
    "collapsed": false
   },
   "outputs": [
    {
     "data": {
      "text/plain": [
       "{'acct': '0',\n",
       " 'lessons_completed': 0,\n",
       " 'num_courses_visited': 1,\n",
       " 'projects_completed': 0,\n",
       " 'total_minutes_visited': 11.6793745,\n",
       " 'utc_date': datetime.datetime(2015, 1, 9, 0, 0)}"
      ]
     },
     "execution_count": 56,
     "metadata": {},
     "output_type": "execute_result"
    }
   ],
   "source": [
    "# Clean up the data types in the engagement table\n",
    "for engagement_record in daily_engagement:\n",
    "    engagement_record['lessons_completed'] = int(float(engagement_record['lessons_completed']))\n",
    "    engagement_record['num_courses_visited'] = int(float(engagement_record['num_courses_visited']))\n",
    "    engagement_record['projects_completed'] = int(float(engagement_record['projects_completed']))\n",
    "    engagement_record['total_minutes_visited'] = float(engagement_record['total_minutes_visited'])\n",
    "    engagement_record['utc_date'] = parse_date(engagement_record['utc_date'])\n",
    "    \n",
    "daily_engagement[0]"
   ]
  },
  {
   "cell_type": "code",
   "execution_count": 57,
   "metadata": {
    "collapsed": false
   },
   "outputs": [
    {
     "data": {
      "text/plain": [
       "{'account_key': '256',\n",
       " 'assigned_rating': 'UNGRADED',\n",
       " 'completion_date': datetime.datetime(2015, 1, 16, 0, 0),\n",
       " 'creation_date': datetime.datetime(2015, 1, 14, 0, 0),\n",
       " 'lesson_key': '3176718735',\n",
       " 'processing_state': 'EVALUATED'}"
      ]
     },
     "execution_count": 57,
     "metadata": {},
     "output_type": "execute_result"
    }
   ],
   "source": [
    "# Clean up the data types in the submissions table\n",
    "for submission in project_submissions:\n",
    "    submission['completion_date'] = parse_date(submission['completion_date'])\n",
    "    submission['creation_date'] = parse_date(submission['creation_date'])\n",
    "\n",
    "project_submissions[0]"
   ]
  },
  {
   "cell_type": "markdown",
   "metadata": {},
   "source": [
    "__Quiz: Questions about Student...__\n",
    "Questions to answer during analysis\n",
    "1. Does time of day for enrollment affect count or frequency of project submissions?\n",
    "2. Is there a point of daily engagement which noticeably increases or decreases count of project submissions?\n",
    "3. What is the average lessons completed per project submission?\n",
    "4. Of students who have submitted at least 1 project, what is the average number of project submissions within 6 months of enrolling?\n",
    "5. Looking only at students enrolled for at least 3 months, how many have submitted at least 1 project?\n",
    "6. On average, how long does it take to complete 6 projects?"
   ]
  },
  {
   "cell_type": "code",
   "execution_count": 58,
   "metadata": {
    "collapsed": false
   },
   "outputs": [
    {
     "name": "stdout",
     "output_type": "stream",
     "text": [
      "Enrollment count: 1640, projects count: 136240, engagement count: 3642\n",
      "Unique enrollments: 1640, Users with project submissions: 136240, users with some daily activity: 3642\n"
     ]
    }
   ],
   "source": [
    "#Quiz: Investigating the data: counts unique\n",
    "def unique_acc(table,col):\n",
    "    accounts = []\n",
    "    for account in table:\n",
    "        if account[col] not in accounts:\n",
    "            accounts.append(account[col])\n",
    "    return len(accounts)\n",
    "\n",
    "enrollment_num_rows = len(enrollments)            \n",
    "enrollment_num_unique_students = unique_acc(enrollments,'account_key')  \n",
    "\n",
    "engagement_num_rows = len(daily_engagement)             \n",
    "engagement_num_unique_students = unique_acc(daily_engagement,'acct')  \n",
    "\n",
    "submission_num_rows = len(project_submissions)             \n",
    "submission_num_unique_students = unique_acc(project_submissions,'account_key')  \n",
    "\n",
    "print('Enrollment count: {0}, projects count: {1}, engagement count: {2}'.format(\n",
    "enrollment_num_rows,engagement_num_rows,submission_num_rows))\n",
    "\n",
    "print('Unique enrollments: {0}, Users with project submissions: {1}, \\\n",
    "users with some daily activity: {2}'.format(\n",
    "enrollment_num_rows,engagement_num_rows,submission_num_rows))\n"
   ]
  },
  {
   "cell_type": "code",
   "execution_count": 59,
   "metadata": {
    "collapsed": false
   },
   "outputs": [
    {
     "name": "stdout",
     "output_type": "stream",
     "text": [
      "unique students: 1302\n",
      "unique engaged students: 1237\n",
      "unique project submitters: 743\n"
     ]
    }
   ],
   "source": [
    "##Quiz: Investigating the data: add unique tables\n",
    "def unique_table(table,variable):\n",
    "    tmp_table = set()\n",
    "    for record in table:\n",
    "        tmp_table.add(record[variable])\n",
    "    return tmp_table\n",
    "\n",
    "unique_enrolled_students = unique_table(enrollments,'account_key')\n",
    "unique_engagement_students = unique_table(daily_engagement,'acct')\n",
    "unique_project_submitters = unique_table(project_submissions,'account_key')\n",
    "\n",
    "print('unique students:',len(unique_enrolled_students))\n",
    "print('unique engaged students:',len(unique_engagement_students))\n",
    "print('unique project submitters:',len(unique_project_submitters))"
   ]
  },
  {
   "cell_type": "code",
   "execution_count": 63,
   "metadata": {
    "collapsed": false
   },
   "outputs": [
    {
     "name": "stdout",
     "output_type": "stream",
     "text": [
      "0\n",
      "0\n"
     ]
    }
   ],
   "source": [
    "#Quiz: Problems in the data\n",
    "#Unifying name for account key in all tables (dictionaries)\n",
    "\n",
    "print(daily_engagement[3]['acct'])\n",
    "\n",
    "for rec in daily_engagement:\n",
    "    rec['account_key'] = rec['acct']\n",
    "    del[rec['acct']]\n",
    "\n",
    "print(daily_engagement[3]['account_key'])"
   ]
  },
  {
   "cell_type": "code",
   "execution_count": 73,
   "metadata": {
    "collapsed": false
   },
   "outputs": [
    {
     "name": "stdout",
     "output_type": "stream",
     "text": [
      "['802', '1171', '870', '733', '1086', '997', '1044', '1241', '1101', '727']\n",
      "{'is_canceled': True, 'account_key': '802', 'join_date': datetime.datetime(2015, 1, 8, 0, 0), 'days_to_cancel': 0, 'is_udacity': False, 'cancel_date': datetime.datetime(2015, 1, 8, 0, 0), 'status': 'canceled'}\n",
      "{'is_canceled': True, 'account_key': '1171', 'join_date': datetime.datetime(2015, 1, 7, 0, 0), 'days_to_cancel': 0, 'is_udacity': False, 'cancel_date': datetime.datetime(2015, 1, 7, 0, 0), 'status': 'canceled'}\n",
      "{'is_canceled': True, 'account_key': '870', 'join_date': datetime.datetime(2015, 5, 12, 0, 0), 'days_to_cancel': 0, 'is_udacity': False, 'cancel_date': datetime.datetime(2015, 5, 12, 0, 0), 'status': 'canceled'}\n",
      "{'is_canceled': True, 'account_key': '733', 'join_date': datetime.datetime(2015, 1, 12, 0, 0), 'days_to_cancel': 0, 'is_udacity': False, 'cancel_date': datetime.datetime(2015, 1, 12, 0, 0), 'status': 'canceled'}\n",
      "{'is_canceled': True, 'account_key': '1086', 'join_date': datetime.datetime(2015, 6, 9, 0, 0), 'days_to_cancel': 0, 'is_udacity': False, 'cancel_date': datetime.datetime(2015, 6, 9, 0, 0), 'status': 'canceled'}\n"
     ]
    }
   ],
   "source": [
    "#Quiz: Missing engagement reports: Looking at some missing records\n",
    "\n",
    "missing_enrolled = []\n",
    "\n",
    "for missing in unique_enrolled_students:\n",
    "    if missing not in unique_engagement_students:\n",
    "        missing_enrolled.append(missing)\n",
    "        \n",
    "print(missing_enrolled[0:10])\n",
    "\n",
    "for missing in missing_enrolled[0:5]:\n",
    "    for match in enrollments:\n",
    "        if match['account_key'] == missing:\n",
    "            print(match)"
   ]
  },
  {
   "cell_type": "code",
   "execution_count": 74,
   "metadata": {
    "collapsed": false
   },
   "outputs": [
    {
     "name": "stdout",
     "output_type": "stream",
     "text": [
      "Not canceled: 1\n",
      "Canceled first day: 68\n",
      "Canceled later: 2\n"
     ]
    }
   ],
   "source": [
    "#Quiz: Missing engagement reports: Looking further at cancelations\n",
    "\n",
    "#hypothesis: cancelation on day 0 is not counted as daily engagement\n",
    "#Starting by checking count of missing not canceled \n",
    "#then checking count of canceled not canceled on day 0\n",
    "\n",
    "not_canceled = []\n",
    "days_to_cancel_zero = []\n",
    "canceled_later = []\n",
    "\n",
    "for missing in missing_enrolled:\n",
    "    for match in enrollments:\n",
    "        if match['account_key'] == missing:\n",
    "            if match['is_canceled'] == False:\n",
    "                not_canceled.append(match)\n",
    "            elif match['days_to_cancel'] == 0:\n",
    "                days_to_cancel_zero.append(match)\n",
    "            else:\n",
    "                canceled_later.append(match)\n",
    "\n",
    "print('Not canceled:',len(not_canceled))\n",
    "print('Canceled first day:',len(days_to_cancel_zero))\n",
    "print('Canceled later:',len(canceled_later))"
   ]
  },
  {
   "cell_type": "code",
   "execution_count": 75,
   "metadata": {
    "collapsed": false
   },
   "outputs": [
    {
     "name": "stdout",
     "output_type": "stream",
     "text": [
      "[{'is_canceled': False, 'account_key': '1101', 'join_date': datetime.datetime(2015, 2, 25, 0, 0), 'days_to_cancel': None, 'is_udacity': True, 'cancel_date': None, 'status': 'current'}]\n",
      "[{'is_canceled': True, 'account_key': '1304', 'join_date': datetime.datetime(2015, 1, 10, 0, 0), 'days_to_cancel': 59, 'is_udacity': True, 'cancel_date': datetime.datetime(2015, 3, 10, 0, 0), 'status': 'canceled'}, {'is_canceled': True, 'account_key': '1304', 'join_date': datetime.datetime(2015, 3, 10, 0, 0), 'days_to_cancel': 99, 'is_udacity': True, 'cancel_date': datetime.datetime(2015, 6, 17, 0, 0), 'status': 'canceled'}]\n"
     ]
    }
   ],
   "source": [
    "#Quiz: Missing engagement reports: Looking at non-canceled and later-canceled\n",
    "\n",
    "print(not_canceled)\n",
    "print(canceled_later)"
   ]
  },
  {
   "cell_type": "code",
   "execution_count": 94,
   "metadata": {
    "collapsed": false
   },
   "outputs": [
    {
     "name": "stdout",
     "output_type": "stream",
     "text": [
      "udacity testers missing from engagement: 4\n"
     ]
    }
   ],
   "source": [
    "#Quiz: Missing engagement reports: is_udacity and multiples\n",
    "\n",
    "\n",
    "#checking count of is_udacity missing engagement records\n",
    "enrolled_is_udacity = []\n",
    "\n",
    "for missing in missing_enrolled:\n",
    "    for enrolled in enrollments:\n",
    "        if enrolled['account_key'] == missing:\n",
    "            if enrolled['is_udacity'] == True:\n",
    "                enrolled_is_udacity.append(missing)\n",
    "                \n",
    "print('udacity testers missing from engagement:',len(enrolled_is_udacity))"
   ]
  }
 ],
 "metadata": {
  "kernelspec": {
   "display_name": "Python 3",
   "language": "python",
   "name": "python3"
  },
  "language_info": {
   "codemirror_mode": {
    "name": "ipython",
    "version": 3
   },
   "file_extension": ".py",
   "mimetype": "text/x-python",
   "name": "python",
   "nbconvert_exporter": "python",
   "pygments_lexer": "ipython3",
   "version": "3.5.1"
  }
 },
 "nbformat": 4,
 "nbformat_minor": 0
}
