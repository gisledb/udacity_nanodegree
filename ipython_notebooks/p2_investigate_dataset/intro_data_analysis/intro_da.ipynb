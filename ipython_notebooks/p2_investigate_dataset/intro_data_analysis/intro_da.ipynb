{
 "cells": [
  {
   "cell_type": "code",
   "execution_count": 109,
   "metadata": {
    "collapsed": true
   },
   "outputs": [],
   "source": [
    "#CSVs in Python\n",
    "# Representing a CSV as a list of rows\n",
    "\n",
    "#Option 1: Each row is a list\n",
    "csv = [['A1','A2','A3'],\n",
    "      ['B2', 'B2', 'B3']]\n",
    "\n",
    "#Option 2: \n",
    "csv = [{'name1': 'A1', 'name2': 'A2', 'name3': 'A3'},\n",
    "      {'name1': 'B1', 'name2': 'B2', 'name3': 'B3'}]\n",
    "\n",
    "#better to use libraries, for example unicodecsv"
   ]
  },
  {
   "cell_type": "code",
   "execution_count": 110,
   "metadata": {
    "collapsed": false
   },
   "outputs": [
    {
     "data": {
      "text/plain": [
       "{'account_key': '448',\n",
       " 'cancel_date': '2015-01-27',\n",
       " 'days_to_cancel': '0',\n",
       " 'is_canceled': 'True',\n",
       " 'is_udacity': 'True',\n",
       " 'join_date': '2015-01-27',\n",
       " 'status': 'canceled'}"
      ]
     },
     "execution_count": 110,
     "metadata": {},
     "output_type": "execute_result"
    }
   ],
   "source": [
    "#CSVs in Python\n",
    "import unicodecsv\n",
    "\n",
    "enrollments = []\n",
    "f = open('enrollments.csv', 'rb')\n",
    "reader = unicodecsv.DictReader(f)\n",
    "\n",
    "for row in reader:\n",
    "    enrollments.append(row)\n",
    "    \n",
    "f.close()\n",
    "enrollments[2]"
   ]
  },
  {
   "cell_type": "code",
   "execution_count": 111,
   "metadata": {
    "collapsed": false
   },
   "outputs": [
    {
     "data": {
      "text/plain": [
       "{'account_key': '448',\n",
       " 'cancel_date': '2015-01-27',\n",
       " 'days_to_cancel': '0',\n",
       " 'is_canceled': 'True',\n",
       " 'is_udacity': 'True',\n",
       " 'join_date': '2015-01-27',\n",
       " 'status': 'canceled'}"
      ]
     },
     "execution_count": 111,
     "metadata": {},
     "output_type": "execute_result"
    }
   ],
   "source": [
    "#CSVs in Python\n",
    "#Shorter version of above, using with\n",
    "\n",
    "import unicodecsv\n",
    "\n",
    "with open('enrollments.csv', 'rb') as f:\n",
    "    reader = unicodecsv.DictReader(f)\n",
    "    enrollments = list(reader)\n",
    "    \n",
    "enrollments[2]"
   ]
  },
  {
   "cell_type": "code",
   "execution_count": 112,
   "metadata": {
    "collapsed": false
   },
   "outputs": [
    {
     "name": "stdout",
     "output_type": "stream",
     "text": [
      "{'lessons_completed': '0.0', 'projects_completed': '0.0', 'total_minutes_visited': '11.6793745', 'utc_date': '2015-01-09', 'acct': '0', 'num_courses_visited': '1.0'}\n",
      "{'processing_state': 'EVALUATED', 'completion_date': '2015-01-16', 'account_key': '256', 'assigned_rating': 'UNGRADED', 'creation_date': '2015-01-14', 'lesson_key': '3176718735'}\n"
     ]
    }
   ],
   "source": [
    "#CSVs in Python\n",
    "#Reading in the other files, own code\n",
    "import unicodecsv\n",
    "\n",
    "with open('daily_engagement.csv', 'rb') as f:\n",
    "    reader = unicodecsv.DictReader(f)\n",
    "    daily_engagement = list(reader)\n",
    "    \n",
    "with open('project_submissions.csv', 'rb') as f:\n",
    "    reader = unicodecsv.DictReader(f)\n",
    "    project_submissions = list(reader)\n",
    "    \n",
    "print(daily_engagement[0])\n",
    "print(project_submissions[0])"
   ]
  },
  {
   "cell_type": "code",
   "execution_count": 113,
   "metadata": {
    "collapsed": false
   },
   "outputs": [
    {
     "name": "stdout",
     "output_type": "stream",
     "text": [
      "{'status': 'canceled', 'join_date': '2014-11-10', 'account_key': '448', 'days_to_cancel': '65', 'is_udacity': 'True', 'cancel_date': '2015-01-14', 'is_canceled': 'True'}\n",
      "{'lessons_completed': '0.0', 'projects_completed': '0.0', 'total_minutes_visited': '11.6793745', 'utc_date': '2015-01-09', 'acct': '0', 'num_courses_visited': '1.0'}\n",
      "{'processing_state': 'EVALUATED', 'completion_date': '2015-01-16', 'account_key': '256', 'assigned_rating': 'UNGRADED', 'creation_date': '2015-01-14', 'lesson_key': '3176718735'}\n"
     ]
    }
   ],
   "source": [
    "#CSVs in Python\n",
    "#write as function\n",
    "\n",
    "def read_csv(filename):\n",
    "    with open(filename, 'rb') as f:\n",
    "        reader = unicodecsv.DictReader(f)\n",
    "        return list(reader)\n",
    "\n",
    "enrollments = read_csv('enrollments.csv')\n",
    "daily_engagement = read_csv('daily_engagement.csv')\n",
    "project_submissions = read_csv('project_submissions.csv')\n",
    "\n",
    "print(enrollments[0])\n",
    "print(daily_engagement[0])\n",
    "print(project_submissions[0])"
   ]
  },
  {
   "cell_type": "code",
   "execution_count": 114,
   "metadata": {
    "collapsed": false
   },
   "outputs": [
    {
     "data": {
      "text/plain": [
       "{'account_key': '256',\n",
       " 'assigned_rating': 'UNGRADED',\n",
       " 'completion_date': datetime.datetime(2015, 1, 16, 0, 0),\n",
       " 'creation_date': datetime.datetime(2015, 1, 14, 0, 0),\n",
       " 'lesson_key': '3176718735',\n",
       " 'processing_state': 'EVALUATED'}"
      ]
     },
     "execution_count": 114,
     "metadata": {},
     "output_type": "execute_result"
    }
   ],
   "source": [
    "#Fixing data types\n",
    "#taken from L1_Starter_code\n",
    "from datetime import datetime as dt\n",
    "\n",
    "# Takes a date as a string, and returns a Python datetime object. \n",
    "# If there is no date given, returns None\n",
    "def parse_date(date):\n",
    "    if date == '':\n",
    "        return None\n",
    "    else:\n",
    "        return dt.strptime(date, '%Y-%m-%d')\n",
    "    \n",
    "# Takes a string which is either an empty string or represents an integer,\n",
    "# and returns an int or None.\n",
    "def parse_maybe_int(i):\n",
    "    if i == '':\n",
    "        return None\n",
    "    else:\n",
    "        return int(i)\n",
    "\n",
    "# Clean up the data types in the enrollments table\n",
    "for enrollment in enrollments:\n",
    "    enrollment['cancel_date'] = parse_date(enrollment['cancel_date'])\n",
    "    enrollment['days_to_cancel'] = parse_maybe_int(enrollment['days_to_cancel'])\n",
    "    enrollment['is_canceled'] = enrollment['is_canceled'] == 'True'\n",
    "    enrollment['is_udacity'] = enrollment['is_udacity'] == 'True'\n",
    "    enrollment['join_date'] = parse_date(enrollment['join_date'])\n",
    "    \n",
    "enrollments[0]\n",
    "\n",
    "for engagement_record in daily_engagement:\n",
    "    engagement_record['lessons_completed'] = int(float(engagement_record['lessons_completed']))\n",
    "    engagement_record['num_courses_visited'] = int(float(engagement_record['num_courses_visited']))\n",
    "    engagement_record['projects_completed'] = int(float(engagement_record['projects_completed']))\n",
    "    engagement_record['total_minutes_visited'] = float(engagement_record['total_minutes_visited'])\n",
    "    engagement_record['utc_date'] = parse_date(engagement_record['utc_date'])\n",
    "    \n",
    "daily_engagement[0]\n",
    "\n",
    "# Clean up the data types in the submissions table\n",
    "for submission in project_submissions:\n",
    "    submission['completion_date'] = parse_date(submission['completion_date'])\n",
    "    submission['creation_date'] = parse_date(submission['creation_date'])\n",
    "\n",
    "project_submissions[0]"
   ]
  },
  {
   "cell_type": "code",
   "execution_count": 115,
   "metadata": {
    "collapsed": false
   },
   "outputs": [
    {
     "name": "stdout",
     "output_type": "stream",
     "text": [
      "None\n"
     ]
    }
   ],
   "source": [
    "print(enrollment['cancel_date'])"
   ]
  },
  {
   "cell_type": "markdown",
   "metadata": {},
   "source": [
    "__Quiz: Questions about Student...__\n",
    "1. Does time of day for enrollment affect count or frequency of project submissions?\n",
    "2. Is there a point of daily engagement which noticeably increases or decreases count of project submissions?\n",
    "3. What is the average lessons completed per project submission?\n",
    "4. Of students who have submitted at least 1 project, what is the average number of project submissions within 6 months of enrolling?\n",
    "5. Looking only at students enrolled for at least 3 months, how many have submitted at least 1 project?\n",
    "6. On average, how long does it take to complete 6 projects?"
   ]
  },
  {
   "cell_type": "code",
   "execution_count": null,
   "metadata": {
    "collapsed": true
   },
   "outputs": [],
   "source": []
  },
  {
   "cell_type": "code",
   "execution_count": 116,
   "metadata": {
    "collapsed": false
   },
   "outputs": [
    {
     "name": "stdout",
     "output_type": "stream",
     "text": [
      "Enrollment count: 1640, projects count: 3642, engagement count: 136240\n",
      "Unique enrollments: 1302, Users with project submissions: 743, users with some daily activity: 1237\n"
     ]
    }
   ],
   "source": [
    "#Quiz: Investigating the data\n",
    "enrollments_count = len(enrollments)\n",
    "projects_count = len(project_submissions)\n",
    "engagement_count = len(daily_engagement)\n",
    "\n",
    "print('Enrollment count: {0}, projects count: {1}, engagement count: {2}'.format(enrollments_count,projects_count,engagement_count))\n",
    "\n",
    "def unique_acc(table,col):\n",
    "    accounts = []\n",
    "    for account in table:\n",
    "        if account[col] not in accounts:\n",
    "            accounts.append(account[col])\n",
    "    return len(accounts)\n",
    "\n",
    "enrollments_unique = unique_acc(enrollments,'account_key')\n",
    "projects_unique_users = unique_acc(project_submissions,'account_key')\n",
    "engagement_unique = unique_acc(daily_engagement,'acct')\n",
    "\n",
    "print('Unique enrollments: {0}, Users with project submissions: {1}, users with some daily activity: {2}'.format(enrollments_unique,projects_unique_users,engagement_unique))"
   ]
  },
  {
   "cell_type": "code",
   "execution_count": 117,
   "metadata": {
    "collapsed": false
   },
   "outputs": [
    {
     "name": "stdout",
     "output_type": "stream",
     "text": [
      "1.4733701959994505\n"
     ]
    }
   ],
   "source": [
    "#Same as above, with variable names from course framework\n",
    "\n",
    "import unicodecsv\n",
    "import timeit\n",
    "\n",
    "def read_csv(filename):\n",
    "    with open(filename, 'rb') as f:\n",
    "        reader = unicodecsv.DictReader(f)\n",
    "        return list(reader)\n",
    "\n",
    "#enrollments = read_csv('/datasets/ud170/udacity-students/enrollments.csv')\n",
    "#daily_engagement = read_csv('/datasets/ud170/udacity-students/daily_engagement.csv')\n",
    "#project_submissions = read_csv('/datasets/ud170/udacity-students/project_submissions.csv')\n",
    "    \n",
    "### For each of these three tables, find the number of rows in the table and\n",
    "### the number of unique students in the table. To find the number of unique\n",
    "### students, you might want to create a set of the account keys in each table.\n",
    "start = timeit.default_timer()\n",
    "def unique_acc(table,col):\n",
    "    accounts = []\n",
    "    for account in table:\n",
    "        if account[col] not in accounts:\n",
    "            accounts.append(account[col])\n",
    "    return len(accounts)\n",
    "\n",
    "enrollment_num_rows = len(enrollments)            # Replace this with your code\n",
    "enrollment_num_unique_students = unique_acc(enrollments,'account_key')  # Replace this with your code\n",
    "\n",
    "engagement_num_rows = len(daily_engagement)             # Replace this with your code\n",
    "engagement_num_unique_students = unique_acc(daily_engagement,'acct')  # Replace this with your code\n",
    "\n",
    "submission_num_rows = len(project_submissions)             # Replace this with your code\n",
    "submission_num_unique_students = unique_acc(project_submissions,'account_key')  # Replace this with your code\n",
    "\n",
    "stop = timeit.default_timer()\n",
    "\n",
    "print(stop - start)"
   ]
  },
  {
   "cell_type": "code",
   "execution_count": 118,
   "metadata": {
    "collapsed": false
   },
   "outputs": [
    {
     "name": "stdout",
     "output_type": "stream",
     "text": [
      "0.051765757001703605\n"
     ]
    }
   ],
   "source": [
    "#Quiz: Investigating the data: answer from course video\n",
    "import timeit\n",
    "start = timeit.default_timer()\n",
    "\n",
    "len(enrollments)\n",
    "\n",
    "unique_enrolled_students = set()\n",
    "for enrollment in enrollments:\n",
    "    unique_enrolled_students.add(enrollment['account_key'])\n",
    "len(unique_enrolled_students)\n",
    "\n",
    "len(daily_engagement)\n",
    "\n",
    "unique_engagement_students = set()\n",
    "for engagement_record in daily_engagement:\n",
    "    unique_engagement_students.add(engagement_record['acct'])\n",
    "len(unique_engagement_students)\n",
    "\n",
    "len(project_submissions)\n",
    "\n",
    "unique_project_submitters = set()\n",
    "for submission in project_submissions:\n",
    "    unique_project_submitters.add(submission['account_key'])\n",
    "len(unique_project_submitters)\n",
    "\n",
    "stop = timeit.default_timer()\n",
    "\n",
    "print(stop - start)"
   ]
  },
  {
   "cell_type": "code",
   "execution_count": 119,
   "metadata": {
    "collapsed": false
   },
   "outputs": [
    {
     "name": "stdout",
     "output_type": "stream",
     "text": [
      "{'lessons_completed': 0, 'projects_completed': 0, 'total_minutes_visited': 33.4892696667, 'utc_date': datetime.datetime(2015, 1, 12, 0, 0), 'acct': '0', 'num_courses_visited': 1}\n"
     ]
    }
   ],
   "source": [
    "#Quiz: Problems in the data\n",
    "#Unifying name for account key in all tables (dictionaries)\n",
    "\n",
    "print(daily_engagement[3])#['acct'])\n",
    "\n",
    "for rec in daily_engagement:\n",
    "    rec['account_key'] = rec['acct']\n",
    "    del[rec['acct']]\n",
    "\n"
   ]
  },
  {
   "cell_type": "code",
   "execution_count": 120,
   "metadata": {
    "collapsed": false
   },
   "outputs": [
    {
     "name": "stdout",
     "output_type": "stream",
     "text": [
      "<class 'set'>\n",
      "766 from enrolled\n"
     ]
    }
   ],
   "source": [
    "#Missing engagement reports\n",
    "print(type(unique_enrolled_students))\n",
    "\n",
    "for missing in unique_engagement_students:\n",
    "    if missing not in unique_enrolled_students:\n",
    "        print(missing + \" from engagement\")\n",
    "        break\n",
    "\n",
    "for missing in unique_enrolled_students:\n",
    "    if missing not in unique_engagement_students:\n",
    "        if missing not in ('799','926','870','1079'):\n",
    "            print(missing + \" from enrolled\")\n",
    "            break\n"
   ]
  },
  {
   "cell_type": "code",
   "execution_count": 121,
   "metadata": {
    "collapsed": false
   },
   "outputs": [
    {
     "name": "stdout",
     "output_type": "stream",
     "text": [
      "{'status': 'canceled', 'join_date': datetime.datetime(2015, 4, 6, 0, 0), 'account_key': '926', 'days_to_cancel': 0, 'is_udacity': False, 'cancel_date': datetime.datetime(2015, 4, 6, 0, 0), 'is_canceled': True}\n",
      "{'status': 'canceled', 'join_date': datetime.datetime(2015, 2, 6, 0, 0), 'account_key': '799', 'days_to_cancel': 0, 'is_udacity': False, 'cancel_date': datetime.datetime(2015, 2, 6, 0, 0), 'is_canceled': True}\n",
      "{'status': 'canceled', 'join_date': datetime.datetime(2015, 5, 12, 0, 0), 'account_key': '870', 'days_to_cancel': 0, 'is_udacity': False, 'cancel_date': datetime.datetime(2015, 5, 12, 0, 0), 'is_canceled': True}\n",
      "{'status': 'canceled', 'join_date': datetime.datetime(2015, 2, 9, 0, 0), 'account_key': '1079', 'days_to_cancel': 0, 'is_udacity': False, 'cancel_date': datetime.datetime(2015, 2, 9, 0, 0), 'is_canceled': True}\n",
      "988 652\n"
     ]
    }
   ],
   "source": [
    "for enrolled in enrollments:\n",
    "    if enrolled['account_key'] in ('799','926','870','1079'):\n",
    "        print(enrolled)\n",
    "        \n",
    "# def thebest():\n",
    "#   entries = [enr['key2'] for d in list if d['key1']]\n",
    "#   return len(entries), sum(entries)\n",
    "\n",
    "canceled = int()\n",
    "not_canceled = int()\n",
    "\n",
    "for i in enrollments:\n",
    "    if i['status'] == 'canceled':\n",
    "        canceled += 1\n",
    "    else:\n",
    "        not_canceled += 1\n",
    "\n",
    "print(canceled,not_canceled)"
   ]
  },
  {
   "cell_type": "code",
   "execution_count": 122,
   "metadata": {
    "collapsed": false
   },
   "outputs": [
    {
     "name": "stdout",
     "output_type": "stream",
     "text": [
      "988 652\n",
      "Count of days_to_cancel:0 is 92. Count of other values for days_to_cancel is 1548\n"
     ]
    }
   ],
   "source": [
    "canceled = int()\n",
    "not_canceled = int()\n",
    "\n",
    "for i in enrollments:\n",
    "    if i['is_canceled']:\n",
    "        canceled += 1\n",
    "    else:\n",
    "        not_canceled += 1\n",
    "\n",
    "print(canceled,not_canceled)\n",
    "\n",
    "def counter(table,dic,val):\n",
    "    count_true = int()\n",
    "    count_false = int()\n",
    "    for i in table:\n",
    "        if i[dic] == val:\n",
    "            count_true += 1\n",
    "        else:\n",
    "            count_false += 1\n",
    "    print('Count of {0}:{1} is {2}. Count of other values for {0} is {3}'.format(dic,val,count_true,count_false))\n",
    "    del count_true,count_false\n",
    "    \n",
    "counter(enrollments,'days_to_cancel',0)"
   ]
  },
  {
   "cell_type": "code",
   "execution_count": 123,
   "metadata": {
    "collapsed": false
   },
   "outputs": [
    {
     "name": "stdout",
     "output_type": "stream",
     "text": [
      "65\n",
      "Count of days_to_cancel:0 is 68. Count of other values for days_to_cancel is 3\n"
     ]
    }
   ],
   "source": [
    "#quiz checking for more problems\n",
    "missing_students = unique_enrolled_students - unique_engagement_students\n",
    "\n",
    "print(len(missing_students))\n",
    "\n",
    "count_true = int()\n",
    "count_false = int()\n",
    "\n",
    "for act in missing_students:\n",
    "    for miss in enrollments:\n",
    "        if act == miss['account_key']:\n",
    "            if miss['days_to_cancel'] == 0:\n",
    "                count_true += 1\n",
    "            else:\n",
    "                count_false += 1\n",
    "\n",
    "print('Count of days_to_cancel:0 is {0}. Count of other values for days_to_cancel is {1}'.format(count_true,count_false))\n",
    "\n",
    "del count_true,count_false\n",
    "            \n",
    "            \n",
    "            "
   ]
  },
  {
   "cell_type": "code",
   "execution_count": 124,
   "metadata": {
    "collapsed": false
   },
   "outputs": [
    {
     "name": "stdout",
     "output_type": "stream",
     "text": [
      "{'status': 'current', 'join_date': datetime.datetime(2015, 2, 25, 0, 0), 'account_key': '1101', 'days_to_cancel': None, 'is_udacity': True, 'cancel_date': None, 'is_canceled': False}\n",
      "{'status': 'canceled', 'join_date': datetime.datetime(2015, 1, 10, 0, 0), 'account_key': '1304', 'days_to_cancel': 59, 'is_udacity': True, 'cancel_date': datetime.datetime(2015, 3, 10, 0, 0), 'is_canceled': True}\n",
      "{'status': 'canceled', 'join_date': datetime.datetime(2015, 3, 10, 0, 0), 'account_key': '1304', 'days_to_cancel': 99, 'is_udacity': True, 'cancel_date': datetime.datetime(2015, 6, 17, 0, 0), 'is_canceled': True}\n"
     ]
    }
   ],
   "source": [
    "for act in missing_students:\n",
    "    for miss in enrollments:\n",
    "        if act == miss['account_key']:\n",
    "            if miss['days_to_cancel'] != 0:\n",
    "                print(miss)"
   ]
  },
  {
   "cell_type": "code",
   "execution_count": 125,
   "metadata": {
    "collapsed": false
   },
   "outputs": [
    {
     "name": "stdout",
     "output_type": "stream",
     "text": [
      "{'status': 'canceled', 'join_date': datetime.datetime(2015, 1, 10, 0, 0), 'account_key': '1304', 'days_to_cancel': 59, 'is_udacity': True, 'cancel_date': datetime.datetime(2015, 3, 10, 0, 0), 'is_canceled': True}\n",
      "{'status': 'canceled', 'join_date': datetime.datetime(2015, 3, 10, 0, 0), 'account_key': '1304', 'days_to_cancel': 99, 'is_udacity': True, 'cancel_date': datetime.datetime(2015, 6, 17, 0, 0), 'is_canceled': True}\n",
      "{'status': 'current', 'join_date': datetime.datetime(2015, 2, 25, 0, 0), 'account_key': '1101', 'days_to_cancel': None, 'is_udacity': True, 'cancel_date': None, 'is_canceled': False}\n"
     ]
    },
    {
     "data": {
      "text/plain": [
       "3"
      ]
     },
     "execution_count": 125,
     "metadata": {},
     "output_type": "execute_result"
    }
   ],
   "source": [
    "#Quiz: answer from video\n",
    "num_problem_students = 0\n",
    "for enrollment in enrollments:\n",
    "    student = enrollment['account_key']\n",
    "    if (student not in unique_engagement_students and \n",
    "            enrollment['join_date'] != enrollment['cancel_date']):\n",
    "        print(enrollment)\n",
    "        num_problem_students += 1\n",
    "\n",
    "num_problem_students"
   ]
  },
  {
   "cell_type": "code",
   "execution_count": 126,
   "metadata": {
    "collapsed": false
   },
   "outputs": [
    {
     "name": "stdout",
     "output_type": "stream",
     "text": [
      "{'status': 'canceled', 'join_date': datetime.datetime(2014, 11, 10, 0, 0), 'account_key': '448', 'days_to_cancel': 65, 'is_udacity': True, 'cancel_date': datetime.datetime(2015, 1, 14, 0, 0), 'is_canceled': True}\n",
      "{'status': 'canceled', 'join_date': datetime.datetime(2014, 11, 5, 0, 0), 'account_key': '448', 'days_to_cancel': 5, 'is_udacity': True, 'cancel_date': datetime.datetime(2014, 11, 10, 0, 0), 'is_canceled': True}\n",
      "{'status': 'canceled', 'join_date': datetime.datetime(2015, 1, 27, 0, 0), 'account_key': '448', 'days_to_cancel': 0, 'is_udacity': True, 'cancel_date': datetime.datetime(2015, 1, 27, 0, 0), 'is_canceled': True}\n",
      "{'status': 'canceled', 'join_date': datetime.datetime(2014, 11, 10, 0, 0), 'account_key': '448', 'days_to_cancel': 0, 'is_udacity': True, 'cancel_date': datetime.datetime(2014, 11, 10, 0, 0), 'is_canceled': True}\n",
      "{'status': 'current', 'join_date': datetime.datetime(2015, 3, 10, 0, 0), 'account_key': '448', 'days_to_cancel': None, 'is_udacity': True, 'cancel_date': None, 'is_canceled': False}\n",
      "{'status': 'canceled', 'join_date': datetime.datetime(2015, 1, 14, 0, 0), 'account_key': '448', 'days_to_cancel': 13, 'is_udacity': True, 'cancel_date': datetime.datetime(2015, 1, 27, 0, 0), 'is_canceled': True}\n",
      "{'status': 'canceled', 'join_date': datetime.datetime(2015, 1, 27, 0, 0), 'account_key': '448', 'days_to_cancel': 42, 'is_udacity': True, 'cancel_date': datetime.datetime(2015, 3, 10, 0, 0), 'is_canceled': True}\n",
      "{'status': 'canceled', 'join_date': datetime.datetime(2015, 1, 27, 0, 0), 'account_key': '448', 'days_to_cancel': 0, 'is_udacity': True, 'cancel_date': datetime.datetime(2015, 1, 27, 0, 0), 'is_canceled': True}\n",
      "{'status': 'canceled', 'join_date': datetime.datetime(2015, 1, 27, 0, 0), 'account_key': '448', 'days_to_cancel': 0, 'is_udacity': True, 'cancel_date': datetime.datetime(2015, 1, 27, 0, 0), 'is_canceled': True}\n",
      "{'status': 'canceled', 'join_date': datetime.datetime(2015, 1, 10, 0, 0), 'account_key': '1304', 'days_to_cancel': 59, 'is_udacity': True, 'cancel_date': datetime.datetime(2015, 3, 10, 0, 0), 'is_canceled': True}\n",
      "{'status': 'canceled', 'join_date': datetime.datetime(2015, 3, 10, 0, 0), 'account_key': '1304', 'days_to_cancel': 99, 'is_udacity': True, 'cancel_date': datetime.datetime(2015, 6, 17, 0, 0), 'is_canceled': True}\n",
      "{'status': 'canceled', 'join_date': datetime.datetime(2014, 11, 10, 0, 0), 'account_key': '312', 'days_to_cancel': 120, 'is_udacity': True, 'cancel_date': datetime.datetime(2015, 3, 10, 0, 0), 'is_canceled': True}\n",
      "{'status': 'canceled', 'join_date': datetime.datetime(2015, 3, 10, 0, 0), 'account_key': '312', 'days_to_cancel': 22, 'is_udacity': True, 'cancel_date': datetime.datetime(2015, 4, 1, 0, 0), 'is_canceled': True}\n",
      "{'status': 'canceled', 'join_date': datetime.datetime(2015, 4, 1, 0, 0), 'account_key': '312', 'days_to_cancel': 92, 'is_udacity': True, 'cancel_date': datetime.datetime(2015, 7, 2, 0, 0), 'is_canceled': True}\n",
      "{'status': 'current', 'join_date': datetime.datetime(2015, 7, 8, 0, 0), 'account_key': '312', 'days_to_cancel': None, 'is_udacity': True, 'cancel_date': None, 'is_canceled': False}\n",
      "{'status': 'canceled', 'join_date': datetime.datetime(2015, 1, 7, 0, 0), 'account_key': '818', 'days_to_cancel': 5, 'is_udacity': True, 'cancel_date': datetime.datetime(2015, 1, 12, 0, 0), 'is_canceled': True}\n",
      "{'status': 'canceled', 'join_date': datetime.datetime(2015, 6, 1, 0, 0), 'account_key': '1069', 'days_to_cancel': 0, 'is_udacity': True, 'cancel_date': datetime.datetime(2015, 6, 1, 0, 0), 'is_canceled': True}\n",
      "{'status': 'current', 'join_date': datetime.datetime(2015, 2, 25, 0, 0), 'account_key': '1101', 'days_to_cancel': None, 'is_udacity': True, 'cancel_date': None, 'is_canceled': False}\n",
      "18\n"
     ]
    }
   ],
   "source": [
    "testers = list()\n",
    "\n",
    "for tester in enrollments:\n",
    "    if tester['is_udacity']:\n",
    "        print(tester)\n",
    "        testers.append(tester)\n",
    "\n",
    "print(len(testers))"
   ]
  },
  {
   "cell_type": "code",
   "execution_count": 127,
   "metadata": {
    "collapsed": false
   },
   "outputs": [
    {
     "name": "stdout",
     "output_type": "stream",
     "text": [
      "{'1304', '1101', '818', '1069', '312', '448'}\n"
     ]
    }
   ],
   "source": [
    "#above we see there's test users in the dataset. Writing function to remove them.\n",
    "test_accounts = set()\n",
    "\n",
    "for i in testers:\n",
    "    test_accounts.add(i['account_key'])\n",
    "\n",
    "def remove_udacity(table):\n",
    "    new = list()\n",
    "    for row in table:\n",
    "        if row['account_key'] not in test_accounts:\n",
    "            new.append(row)\n",
    "    return new\n",
    "            \n",
    "print(test_accounts)"
   ]
  },
  {
   "cell_type": "code",
   "execution_count": 128,
   "metadata": {
    "collapsed": false
   },
   "outputs": [
    {
     "name": "stdout",
     "output_type": "stream",
     "text": [
      "1640\n",
      "1622\n",
      "{'status': 'current', 'join_date': datetime.datetime(2015, 3, 10, 0, 0), 'account_key': '448', 'days_to_cancel': None, 'is_udacity': True, 'cancel_date': None, 'is_canceled': False}\n",
      "{'status': 'canceled', 'join_date': datetime.datetime(2014, 11, 10, 0, 0), 'account_key': '1300', 'days_to_cancel': 6, 'is_udacity': False, 'cancel_date': datetime.datetime(2014, 11, 16, 0, 0), 'is_canceled': True}\n",
      "3642\n",
      "3634\n",
      "{'processing_state': 'EVALUATED', 'completion_date': datetime.datetime(2015, 3, 3, 0, 0), 'account_key': '434', 'assigned_rating': 'INCOMPLETE', 'creation_date': datetime.datetime(2015, 2, 17, 0, 0), 'lesson_key': '3176718735'}\n",
      "{'processing_state': 'EVALUATED', 'completion_date': datetime.datetime(2015, 3, 3, 0, 0), 'account_key': '434', 'assigned_rating': 'INCOMPLETE', 'creation_date': datetime.datetime(2015, 2, 17, 0, 0), 'lesson_key': '3176718735'}\n",
      "136240\n",
      "135656\n",
      "{'lessons_completed': 0, 'projects_completed': 0, 'total_minutes_visited': 64.7796776667, 'account_key': '0', 'utc_date': datetime.datetime(2015, 1, 13, 0, 0), 'num_courses_visited': 1}\n",
      "{'lessons_completed': 0, 'projects_completed': 0, 'total_minutes_visited': 64.7796776667, 'account_key': '0', 'utc_date': datetime.datetime(2015, 1, 13, 0, 0), 'num_courses_visited': 1}\n"
     ]
    }
   ],
   "source": [
    "#removing test users\n",
    "enrollments_non_udacity = remove_udacity(enrollments)\n",
    "project_submissions_non_udacity = remove_udacity(project_submissions)\n",
    "daily_engagement_non_udacity = remove_udacity(daily_engagement)\n",
    "\n",
    "print(len(enrollments))\n",
    "print(len(enrollments_non_udacity))\n",
    "print(enrollments[4])\n",
    "print(enrollments_non_udacity[6])\n",
    "\n",
    "print(len(project_submissions))\n",
    "print(len(project_submissions_non_udacity))\n",
    "print(project_submissions[4])\n",
    "print(project_submissions_non_udacity[4])\n",
    "\n",
    "print(len(daily_engagement))\n",
    "print(len(daily_engagement_non_udacity))\n",
    "print(daily_engagement[4])\n",
    "print(daily_engagement_non_udacity[4])\n"
   ]
  },
  {
   "cell_type": "code",
   "execution_count": 129,
   "metadata": {
    "collapsed": false
   },
   "outputs": [
    {
     "name": "stdout",
     "output_type": "stream",
     "text": [
      "995\n",
      "175 2015-05-09 00:00:00\n",
      "800 2015-03-04 00:00:00\n",
      "696 2014-11-10 00:00:00\n",
      "825 2015-05-09 00:00:00\n",
      "1048 2015-03-11 00:00:00\n"
     ]
    }
   ],
   "source": [
    "#Quiz: refining the question\n",
    "'''\n",
    "Exploration question: How do numbers in the daily engagement table differ for students who pass their first project?\n",
    "Revision after identifying Q problem areas: Only look at engagement from first week,\n",
    "and exclude students who cancel within a week\n",
    "'''\n",
    "\n",
    "#Creating table (dictionary). Conditions: have not canceled or have stayed enrolled more than 7 days.\n",
    "#Keys account_key, values enrollment_date\n",
    "paid_students = {}\n",
    "\n",
    "for paid in enrollments_non_udacity:\n",
    "    if paid['cancel_date'] == None or paid['days_to_cancel'] > 7:\n",
    "        account_key = paid['account_key']\n",
    "        enrollment_date = paid['join_date']\n",
    "        #if statement to ensure we're keeping the latest enrollment_date\n",
    "        if account_key not in paid_students or paid_students[account_key] < enrollment_date:\n",
    "            paid_students[account_key] = enrollment_date\n",
    "        \n",
    "print(len(paid_students))\n",
    "\n",
    "count = 0\n",
    "for rec in paid_students:\n",
    "    count += 1 \n",
    "    print(rec,paid_students[rec])\n",
    "    if co == 5:\n",
    "        break\n",
    "        "
   ]
  },
  {
   "cell_type": "code",
   "execution_count": 152,
   "metadata": {
    "collapsed": false
   },
   "outputs": [
    {
     "ename": "KeyError",
     "evalue": "1",
     "output_type": "error",
     "traceback": [
      "\u001b[0;31m---------------------------------------------------------------------------\u001b[0m",
      "\u001b[0;31mKeyError\u001b[0m                                  Traceback (most recent call last)",
      "\u001b[0;32m<ipython-input-152-1dd890327493>\u001b[0m in \u001b[0;36m<module>\u001b[0;34m()\u001b[0m\n\u001b[0;32m----> 1\u001b[0;31m \u001b[0mpaid_students\u001b[0m\u001b[0;34m[\u001b[0m\u001b[0;36m1\u001b[0m\u001b[0;34m]\u001b[0m\u001b[0;34m\u001b[0m\u001b[0m\n\u001b[0m",
      "\u001b[0;31mKeyError\u001b[0m: 1"
     ]
    }
   ],
   "source": [
    "paid_students[1]"
   ]
  },
  {
   "cell_type": "code",
   "execution_count": 130,
   "metadata": {
    "collapsed": false
   },
   "outputs": [
    {
     "name": "stdout",
     "output_type": "stream",
     "text": [
      "135656\n",
      "6919\n",
      "[{'lessons_completed': 1, 'projects_completed': 0, 'total_minutes_visited': 265.835024167, 'account_key': '175', 'utc_date': datetime.datetime(2015, 5, 10, 0, 0), 'num_courses_visited': 1}, {'lessons_completed': 2, 'projects_completed': 0, 'total_minutes_visited': 287.549442, 'account_key': '175', 'utc_date': datetime.datetime(2015, 5, 11, 0, 0), 'num_courses_visited': 1}, {'lessons_completed': 1, 'projects_completed': 0, 'total_minutes_visited': 550.245353667, 'account_key': '175', 'utc_date': datetime.datetime(2015, 5, 12, 0, 0), 'num_courses_visited': 1}, {'lessons_completed': 2, 'projects_completed': 0, 'total_minutes_visited': 365.714609667, 'account_key': '175', 'utc_date': datetime.datetime(2015, 5, 13, 0, 0), 'num_courses_visited': 2}, {'lessons_completed': 1, 'projects_completed': 0, 'total_minutes_visited': 352.5950265, 'account_key': '175', 'utc_date': datetime.datetime(2015, 5, 14, 0, 0), 'num_courses_visited': 2}, {'lessons_completed': 0, 'projects_completed': 0, 'total_minutes_visited': 84.5281176667, 'account_key': '175', 'utc_date': datetime.datetime(2015, 5, 15, 0, 0), 'num_courses_visited': 1}, {'lessons_completed': 0, 'projects_completed': 0, 'total_minutes_visited': 0.0, 'account_key': '800', 'utc_date': datetime.datetime(2015, 3, 4, 0, 0), 'num_courses_visited': 0}, {'lessons_completed': 1, 'projects_completed': 0, 'total_minutes_visited': 41.5772898333, 'account_key': '800', 'utc_date': datetime.datetime(2015, 3, 5, 0, 0), 'num_courses_visited': 1}, {'lessons_completed': 0, 'projects_completed': 0, 'total_minutes_visited': 30.496644, 'account_key': '800', 'utc_date': datetime.datetime(2015, 3, 6, 0, 0), 'num_courses_visited': 2}]\n",
      "28.086041454000224\n"
     ]
    }
   ],
   "source": [
    "#Quiz: getting data from first week\n",
    "stop = timeit.default_timer()\n",
    "\n",
    "def within_one_week(join_date, engagement_date):\n",
    "    time_delta = engagement_date - join_date\n",
    "    return time_delta.days < 7 and time_delta.days >= 0\n",
    "\n",
    "engagement_first_week = []\n",
    "\n",
    "for row in paid_students:\n",
    "    for day in daily_engagement_non_udacity:\n",
    "        if row == day['account_key']:\n",
    "            if within_one_week(paid_students[row],day['utc_date']):\n",
    "                engagement_first_week.append(day)\n",
    "\n",
    "print(len(daily_engagement_non_udacity))\n",
    "print(len(engagement_first_week))\n",
    "print(engagement_first_week[1:10])\n",
    "\n",
    "stop = timeit.default_timer()\n",
    "\n",
    "print(stop - start)"
   ]
  },
  {
   "cell_type": "code",
   "execution_count": 177,
   "metadata": {
    "collapsed": false
   },
   "outputs": [
    {
     "name": "stdout",
     "output_type": "stream",
     "text": [
      "paid_enrollments: 1293\n",
      "paid_engagement: 134549\n",
      "paid_engagement: 3618\n",
      "135656\n",
      "6919\n",
      "[{'lessons_completed': 1, 'projects_completed': 0, 'total_minutes_visited': 265.835024167, 'account_key': '175', 'utc_date': datetime.datetime(2015, 5, 10, 0, 0), 'has_visited': 1, 'num_courses_visited': 1}, {'lessons_completed': 2, 'projects_completed': 0, 'total_minutes_visited': 287.549442, 'account_key': '175', 'utc_date': datetime.datetime(2015, 5, 11, 0, 0), 'has_visited': 1, 'num_courses_visited': 1}, {'lessons_completed': 1, 'projects_completed': 0, 'total_minutes_visited': 550.245353667, 'account_key': '175', 'utc_date': datetime.datetime(2015, 5, 12, 0, 0), 'has_visited': 1, 'num_courses_visited': 1}, {'lessons_completed': 2, 'projects_completed': 0, 'total_minutes_visited': 365.714609667, 'account_key': '175', 'utc_date': datetime.datetime(2015, 5, 13, 0, 0), 'has_visited': 1, 'num_courses_visited': 2}, {'lessons_completed': 1, 'projects_completed': 0, 'total_minutes_visited': 352.5950265, 'account_key': '175', 'utc_date': datetime.datetime(2015, 5, 14, 0, 0), 'has_visited': 1, 'num_courses_visited': 2}, {'lessons_completed': 0, 'projects_completed': 0, 'total_minutes_visited': 84.5281176667, 'account_key': '175', 'utc_date': datetime.datetime(2015, 5, 15, 0, 0), 'has_visited': 0, 'num_courses_visited': 1}, {'lessons_completed': 0, 'projects_completed': 0, 'total_minutes_visited': 0.0, 'account_key': '800', 'utc_date': datetime.datetime(2015, 3, 4, 0, 0), 'has_visited': 0, 'num_courses_visited': 0}, {'lessons_completed': 1, 'projects_completed': 0, 'total_minutes_visited': 41.5772898333, 'account_key': '800', 'utc_date': datetime.datetime(2015, 3, 5, 0, 0), 'has_visited': 1, 'num_courses_visited': 1}, {'lessons_completed': 0, 'projects_completed': 0, 'total_minutes_visited': 30.496644, 'account_key': '800', 'utc_date': datetime.datetime(2015, 3, 6, 0, 0), 'has_visited': 0, 'num_courses_visited': 2}]\n",
      "0.2310574910006835\n"
     ]
    }
   ],
   "source": [
    "#Quiz: getting data from first week, answer from video. Written here to test performance vs own solution\n",
    "\n",
    "start = timeit.default_timer()\n",
    "\n",
    "def remove_free_trial_cancels(data):\n",
    "    new_data = []\n",
    "    for data_point in data:\n",
    "        if data_point['account_key'] in paid_students:\n",
    "            new_data.append(data_point)\n",
    "    return new_data\n",
    "\n",
    "paid_enrollments = remove_free_trial_cancels(enrollments_non_udacity)\n",
    "paid_engagement = remove_free_trial_cancels(daily_engagement_non_udacity)\n",
    "paid_submissions = remove_free_trial_cancels(project_submissions_non_udacity)\n",
    "\n",
    "for rec in paid_engagement:\n",
    "    if rec['lessons_completed'] > 0:\n",
    "        rec['has_visited'] = 1\n",
    "    elif rec['lessons_completed'] == 0:\n",
    "        rec['has_visited'] = 0\n",
    "\n",
    "print('paid_enrollments:',len(paid_enrollments))\n",
    "print('paid_engagement:',len(paid_engagement))\n",
    "print('paid_engagement:',len(paid_submissions))\n",
    "\n",
    "paid_engagement_in_first_week = []\n",
    "for engagement_record in paid_engagement:\n",
    "    account_key = engagement_record['account_key']\n",
    "    join_date = paid_students[account_key]\n",
    "    engagement_record_date = engagement_record['utc_date']\n",
    "\n",
    "    if within_one_week(join_date, engagement_record_date):\n",
    "        paid_engagement_in_first_week.append(engagement_record)\n",
    "\n",
    "print(len(daily_engagement_non_udacity))\n",
    "print(len(engagement_first_week))\n",
    "print(engagement_first_week[1:10])\n",
    "\n",
    "stop = timeit.default_timer()\n",
    "\n",
    "print(stop - start)"
   ]
  },
  {
   "cell_type": "code",
   "execution_count": 179,
   "metadata": {
    "collapsed": false
   },
   "outputs": [
    {
     "name": "stdout",
     "output_type": "stream",
     "text": [
      "has visited: 12854\n",
      "has not visited: 121695\n",
      "134549\n",
      "134549\n"
     ]
    }
   ],
   "source": [
    "has_count = 0\n",
    "has_not_count = 0\n",
    "for rec in paid_engagement:\n",
    "    if rec['has_visited'] == 1:\n",
    "        has_count += 1\n",
    "    elif rec['has_visited'] == 0:\n",
    "        has_not_count += 1\n",
    "        \n",
    "print('has visited:',has_count)\n",
    "print('has not visited:',has_not_count)\n",
    "print(has_count+has_not_count)\n",
    "print(len(paid_engagement))"
   ]
  },
  {
   "cell_type": "code",
   "execution_count": 181,
   "metadata": {
    "collapsed": true
   },
   "outputs": [],
   "source": [
    "#Exploring student engagement, code from video\n",
    "from collections import defaultdict\n",
    "\n",
    "# Create a dictionary of engagement grouped by student.\n",
    "# The keys are account keys, and the values are lists of engagement records.\n",
    "engagement_by_account = defaultdict(list)\n",
    "for engagement_record in paid_engagement_in_first_week:\n",
    "    account_key = engagement_record['account_key']\n",
    "    engagement_by_account[account_key].append(engagement_record)"
   ]
  },
  {
   "cell_type": "code",
   "execution_count": 182,
   "metadata": {
    "collapsed": true
   },
   "outputs": [],
   "source": [
    "#Exploring student engagement, code from video\n",
    "\n",
    "\n",
    "# Create a dictionary with the total minutes each student spent in the classroom during the first week.\n",
    "# The keys are account keys, and the values are numbers (total minutes)\n",
    "total_minutes_by_account = {}\n",
    "for account_key, engagement_for_student in engagement_by_account.items():\n",
    "    total_minutes = 0\n",
    "    for engagement_record in engagement_for_student:\n",
    "        total_minutes += engagement_record['total_minutes_visited']\n",
    "    total_minutes_by_account[account_key] = total_minutes"
   ]
  },
  {
   "cell_type": "code",
   "execution_count": 183,
   "metadata": {
    "collapsed": false
   },
   "outputs": [
    {
     "name": "stdout",
     "output_type": "stream",
     "text": [
      "Mean: 306.708326753\n",
      "Standard deviation: 412.996933409\n",
      "Minimum: 0.0\n",
      "Maximum: 3564.7332645\n"
     ]
    }
   ],
   "source": [
    "#Exploring student engagement, code from video\n",
    "#My edit: made total_minutes into list, a necessity in Python 3\n",
    "\n",
    "import numpy as np\n",
    "\n",
    "# Summarize the data about minutes spent in the classroom\n",
    "total_minutes = list(total_minutes_by_account.values())\n",
    "print('Mean:', np.mean(total_minutes))\n",
    "print('Standard deviation:', np.std(total_minutes))\n",
    "print('Minimum:', np.min(total_minutes))\n",
    "print('Maximum:', np.max(total_minutes))"
   ]
  },
  {
   "cell_type": "markdown",
   "metadata": {},
   "source": [
    "We here see that maximum is greater than total number of hours in the week. It's time for debugging."
   ]
  },
  {
   "cell_type": "code",
   "execution_count": 184,
   "metadata": {
    "collapsed": false
   },
   "outputs": [
    {
     "name": "stdout",
     "output_type": "stream",
     "text": [
      "Minutes in a week: 10080\n",
      "ID: 163    Minutes: 3564.73   fraction of week: 0.35\n",
      "ID: 317    Minutes: 2778.32   fraction of week: 0.28\n",
      "ID: 303    Minutes: 2700.49   fraction of week: 0.27\n",
      "ID: 359    Minutes: 2530.56   fraction of week: 0.25\n",
      "ID: 218    Minutes: 2393.54   fraction of week: 0.24\n",
      "ID: 175    Minutes: 2375.8   fraction of week: 0.24\n",
      "ID: 140    Minutes: 2050.12   fraction of week: 0.2\n",
      "ID: 530    Minutes: 1896.75   fraction of week: 0.19\n",
      "ID: 604    Minutes: 1890.99   fraction of week: 0.19\n",
      "ID: 171    Minutes: 1887.39   fraction of week: 0.19\n"
     ]
    }
   ],
   "source": [
    "import operator\n",
    "\n",
    "sorted_total = sorted(total_minutes_by_account.items(), key=operator.itemgetter(1),reverse=True)\n",
    "\n",
    "minutes_in_week = 60*24*7\n",
    "print('Minutes in a week: {0}'.format(minutes_in_week))\n",
    "\n",
    "for i in sorted_total[0:10]:\n",
    "    print('ID: {0}    Minutes: {1}   fraction of week: {2}'.format(i[0],round(i[1],2),round((i[1]/minutes_in_week),2)))\n",
    "    "
   ]
  },
  {
   "cell_type": "code",
   "execution_count": 185,
   "metadata": {
    "collapsed": false
   },
   "outputs": [
    {
     "data": {
      "text/plain": [
       "1389.1580723353352"
      ]
     },
     "execution_count": 185,
     "metadata": {},
     "output_type": "execute_result"
    }
   ],
   "source": [
    "sorted_total[1][1]/2"
   ]
  },
  {
   "cell_type": "code",
   "execution_count": 186,
   "metadata": {
    "collapsed": false
   },
   "outputs": [
    {
     "name": "stdout",
     "output_type": "stream",
     "text": [
      "{'lessons_completed': 0, 'projects_completed': 0, 'total_minutes_visited': 25.9137858334, 'account_key': '108', 'utc_date': datetime.datetime(2015, 4, 20, 0, 0), 'has_visited': 0, 'num_courses_visited': 2}\n",
      "{'lessons_completed': 0, 'projects_completed': 0, 'total_minutes_visited': 3.40682316667, 'account_key': '108', 'utc_date': datetime.datetime(2015, 4, 21, 0, 0), 'has_visited': 0, 'num_courses_visited': 1}\n",
      "{'lessons_completed': 0, 'projects_completed': 0, 'total_minutes_visited': 99.1186611667, 'account_key': '108', 'utc_date': datetime.datetime(2015, 4, 22, 0, 0), 'has_visited': 0, 'num_courses_visited': 2}\n",
      "{'lessons_completed': 0, 'projects_completed': 2, 'total_minutes_visited': 35.8316206667, 'account_key': '108', 'utc_date': datetime.datetime(2015, 4, 23, 0, 0), 'has_visited': 0, 'num_courses_visited': 1}\n",
      "{'lessons_completed': 0, 'projects_completed': 0, 'total_minutes_visited': 0.0, 'account_key': '108', 'utc_date': datetime.datetime(2015, 4, 24, 0, 0), 'has_visited': 0, 'num_courses_visited': 0}\n",
      "{'lessons_completed': 0, 'projects_completed': 0, 'total_minutes_visited': 0.0, 'account_key': '108', 'utc_date': datetime.datetime(2015, 4, 25, 0, 0), 'has_visited': 0, 'num_courses_visited': 0}\n",
      "{'lessons_completed': 0, 'projects_completed': 0, 'total_minutes_visited': 0.0, 'account_key': '108', 'utc_date': datetime.datetime(2015, 4, 26, 0, 0), 'has_visited': 0, 'num_courses_visited': 0}\n",
      "7\n"
     ]
    }
   ],
   "source": [
    "#printing records of suspicious data point (minutes spent exceeds available minutes)\n",
    "count = 0\n",
    "for record in paid_engagement_in_first_week:\n",
    "    if record['account_key'] == '108':\n",
    "        count += 1\n",
    "        print(record)\n",
    "        \n",
    "print(count)"
   ]
  },
  {
   "cell_type": "code",
   "execution_count": 187,
   "metadata": {
    "collapsed": false
   },
   "outputs": [
    {
     "name": "stdout",
     "output_type": "stream",
     "text": [
      "{'lessons_completed': 0, 'projects_completed': 0, 'total_minutes_visited': 50.9938951667, 'account_key': '108', 'utc_date': datetime.datetime(2015, 1, 7, 0, 0), 'has_visited': 0, 'num_courses_visited': 1}\n",
      "{'lessons_completed': 5, 'projects_completed': 0, 'total_minutes_visited': 688.3034385, 'account_key': '108', 'utc_date': datetime.datetime(2015, 1, 8, 0, 0), 'has_visited': 1, 'num_courses_visited': 2}\n",
      "{'lessons_completed': 1, 'projects_completed': 0, 'total_minutes_visited': 427.691757667, 'account_key': '108', 'utc_date': datetime.datetime(2015, 1, 9, 0, 0), 'has_visited': 1, 'num_courses_visited': 2}\n",
      "{'lessons_completed': 0, 'projects_completed': 0, 'total_minutes_visited': 165.6270925, 'account_key': '108', 'utc_date': datetime.datetime(2015, 1, 10, 0, 0), 'has_visited': 0, 'num_courses_visited': 3}\n",
      "{'lessons_completed': 0, 'projects_completed': 0, 'total_minutes_visited': 0.0, 'account_key': '108', 'utc_date': datetime.datetime(2015, 1, 11, 0, 0), 'has_visited': 0, 'num_courses_visited': 0}\n",
      "{'lessons_completed': 0, 'projects_completed': 0, 'total_minutes_visited': 199.746703834, 'account_key': '108', 'utc_date': datetime.datetime(2015, 1, 12, 0, 0), 'has_visited': 0, 'num_courses_visited': 2}\n",
      "{'lessons_completed': 0, 'projects_completed': 0, 'total_minutes_visited': 522.626804333, 'account_key': '108', 'utc_date': datetime.datetime(2015, 1, 13, 0, 0), 'has_visited': 0, 'num_courses_visited': 1}\n",
      "{'lessons_completed': 0, 'projects_completed': 0, 'total_minutes_visited': 19.3757686667, 'account_key': '108', 'utc_date': datetime.datetime(2015, 1, 14, 0, 0), 'has_visited': 0, 'num_courses_visited': 1}\n",
      "{'lessons_completed': 1, 'projects_completed': 0, 'total_minutes_visited': 159.846594, 'account_key': '108', 'utc_date': datetime.datetime(2015, 1, 15, 0, 0), 'has_visited': 1, 'num_courses_visited': 1}\n",
      "{'lessons_completed': 0, 'projects_completed': 0, 'total_minutes_visited': 188.953028166, 'account_key': '108', 'utc_date': datetime.datetime(2015, 1, 16, 0, 0), 'has_visited': 0, 'num_courses_visited': 2}\n",
      "{'lessons_completed': 1, 'projects_completed': 0, 'total_minutes_visited': 150.338208833, 'account_key': '108', 'utc_date': datetime.datetime(2015, 1, 17, 0, 0), 'has_visited': 1, 'num_courses_visited': 3}\n",
      "{'lessons_completed': 0, 'projects_completed': 0, 'total_minutes_visited': 46.2042118333, 'account_key': '108', 'utc_date': datetime.datetime(2015, 1, 18, 0, 0), 'has_visited': 0, 'num_courses_visited': 2}\n",
      "{'lessons_completed': 0, 'projects_completed': 0, 'total_minutes_visited': 0.0, 'account_key': '108', 'utc_date': datetime.datetime(2015, 1, 19, 0, 0), 'has_visited': 0, 'num_courses_visited': 0}\n",
      "{'lessons_completed': 0, 'projects_completed': 0, 'total_minutes_visited': 0.0, 'account_key': '108', 'utc_date': datetime.datetime(2015, 1, 20, 0, 0), 'has_visited': 0, 'num_courses_visited': 0}\n",
      "{'lessons_completed': 0, 'projects_completed': 0, 'total_minutes_visited': 0.0, 'account_key': '108', 'utc_date': datetime.datetime(2015, 1, 21, 0, 0), 'has_visited': 0, 'num_courses_visited': 0}\n",
      "{'lessons_completed': 0, 'projects_completed': 0, 'total_minutes_visited': 31.7297723333, 'account_key': '108', 'utc_date': datetime.datetime(2015, 1, 22, 0, 0), 'has_visited': 0, 'num_courses_visited': 2}\n",
      "{'lessons_completed': 0, 'projects_completed': 0, 'total_minutes_visited': 206.586538333, 'account_key': '108', 'utc_date': datetime.datetime(2015, 1, 23, 0, 0), 'has_visited': 0, 'num_courses_visited': 1}\n",
      "{'lessons_completed': 0, 'projects_completed': 0, 'total_minutes_visited': 0.0, 'account_key': '108', 'utc_date': datetime.datetime(2015, 1, 24, 0, 0), 'has_visited': 0, 'num_courses_visited': 0}\n",
      "{'lessons_completed': 0, 'projects_completed': 0, 'total_minutes_visited': 0.0, 'account_key': '108', 'utc_date': datetime.datetime(2015, 1, 25, 0, 0), 'has_visited': 0, 'num_courses_visited': 0}\n",
      "{'lessons_completed': 0, 'projects_completed': 0, 'total_minutes_visited': 129.350111833, 'account_key': '108', 'utc_date': datetime.datetime(2015, 1, 26, 0, 0), 'has_visited': 0, 'num_courses_visited': 1}\n",
      "{'lessons_completed': 0, 'projects_completed': 0, 'total_minutes_visited': 73.5691376667, 'account_key': '108', 'utc_date': datetime.datetime(2015, 1, 27, 0, 0), 'has_visited': 0, 'num_courses_visited': 1}\n",
      "{'lessons_completed': 0, 'projects_completed': 0, 'total_minutes_visited': 0.0, 'account_key': '108', 'utc_date': datetime.datetime(2015, 1, 28, 0, 0), 'has_visited': 0, 'num_courses_visited': 0}\n",
      "{'lessons_completed': 0, 'projects_completed': 0, 'total_minutes_visited': 271.0895865, 'account_key': '108', 'utc_date': datetime.datetime(2015, 1, 29, 0, 0), 'has_visited': 0, 'num_courses_visited': 1}\n",
      "{'lessons_completed': 1, 'projects_completed': 0, 'total_minutes_visited': 432.252650333, 'account_key': '108', 'utc_date': datetime.datetime(2015, 1, 30, 0, 0), 'has_visited': 1, 'num_courses_visited': 1}\n",
      "{'lessons_completed': 0, 'projects_completed': 0, 'total_minutes_visited': 196.13898, 'account_key': '108', 'utc_date': datetime.datetime(2015, 1, 31, 0, 0), 'has_visited': 0, 'num_courses_visited': 1}\n",
      "{'lessons_completed': 0, 'projects_completed': 0, 'total_minutes_visited': 68.9915653333, 'account_key': '108', 'utc_date': datetime.datetime(2015, 2, 1, 0, 0), 'has_visited': 0, 'num_courses_visited': 1}\n",
      "{'lessons_completed': 0, 'projects_completed': 0, 'total_minutes_visited': 86.3277713333, 'account_key': '108', 'utc_date': datetime.datetime(2015, 2, 2, 0, 0), 'has_visited': 0, 'num_courses_visited': 2}\n",
      "{'lessons_completed': 0, 'projects_completed': 0, 'total_minutes_visited': 0.0, 'account_key': '108', 'utc_date': datetime.datetime(2015, 2, 3, 0, 0), 'has_visited': 0, 'num_courses_visited': 0}\n",
      "{'lessons_completed': 0, 'projects_completed': 0, 'total_minutes_visited': 0.0, 'account_key': '108', 'utc_date': datetime.datetime(2015, 2, 4, 0, 0), 'has_visited': 0, 'num_courses_visited': 0}\n",
      "{'lessons_completed': 0, 'projects_completed': 0, 'total_minutes_visited': 153.230525, 'account_key': '108', 'utc_date': datetime.datetime(2015, 2, 5, 0, 0), 'has_visited': 0, 'num_courses_visited': 1}\n",
      "{'lessons_completed': 0, 'projects_completed': 0, 'total_minutes_visited': 0.0, 'account_key': '108', 'utc_date': datetime.datetime(2015, 2, 6, 0, 0), 'has_visited': 0, 'num_courses_visited': 0}\n",
      "{'lessons_completed': 0, 'projects_completed': 0, 'total_minutes_visited': 0.0, 'account_key': '108', 'utc_date': datetime.datetime(2015, 2, 7, 0, 0), 'has_visited': 0, 'num_courses_visited': 0}\n",
      "{'lessons_completed': 0, 'projects_completed': 0, 'total_minutes_visited': 0.0, 'account_key': '108', 'utc_date': datetime.datetime(2015, 2, 8, 0, 0), 'has_visited': 0, 'num_courses_visited': 0}\n",
      "{'lessons_completed': 0, 'projects_completed': 0, 'total_minutes_visited': 16.687455, 'account_key': '108', 'utc_date': datetime.datetime(2015, 2, 9, 0, 0), 'has_visited': 0, 'num_courses_visited': 1}\n",
      "{'lessons_completed': 0, 'projects_completed': 0, 'total_minutes_visited': 133.047518833, 'account_key': '108', 'utc_date': datetime.datetime(2015, 2, 10, 0, 0), 'has_visited': 0, 'num_courses_visited': 1}\n",
      "{'lessons_completed': 0, 'projects_completed': 0, 'total_minutes_visited': 60.2176756667, 'account_key': '108', 'utc_date': datetime.datetime(2015, 2, 11, 0, 0), 'has_visited': 0, 'num_courses_visited': 2}\n",
      "{'lessons_completed': 0, 'projects_completed': 0, 'total_minutes_visited': 160.438302667, 'account_key': '108', 'utc_date': datetime.datetime(2015, 2, 12, 0, 0), 'has_visited': 0, 'num_courses_visited': 3}\n",
      "{'lessons_completed': 4, 'projects_completed': 0, 'total_minutes_visited': 506.220547, 'account_key': '108', 'utc_date': datetime.datetime(2015, 2, 13, 0, 0), 'has_visited': 1, 'num_courses_visited': 2}\n",
      "{'lessons_completed': 0, 'projects_completed': 0, 'total_minutes_visited': 105.095858167, 'account_key': '108', 'utc_date': datetime.datetime(2015, 2, 14, 0, 0), 'has_visited': 0, 'num_courses_visited': 1}\n",
      "{'lessons_completed': 0, 'projects_completed': 0, 'total_minutes_visited': 0.0, 'account_key': '108', 'utc_date': datetime.datetime(2015, 2, 15, 0, 0), 'has_visited': 0, 'num_courses_visited': 0}\n",
      "{'lessons_completed': 0, 'projects_completed': 0, 'total_minutes_visited': 0.0, 'account_key': '108', 'utc_date': datetime.datetime(2015, 2, 16, 0, 0), 'has_visited': 0, 'num_courses_visited': 0}\n",
      "{'lessons_completed': 0, 'projects_completed': 0, 'total_minutes_visited': 2.851689, 'account_key': '108', 'utc_date': datetime.datetime(2015, 2, 17, 0, 0), 'has_visited': 0, 'num_courses_visited': 1}\n",
      "{'lessons_completed': 1, 'projects_completed': 0, 'total_minutes_visited': 10.9540768333, 'account_key': '108', 'utc_date': datetime.datetime(2015, 2, 18, 0, 0), 'has_visited': 1, 'num_courses_visited': 1}\n",
      "{'lessons_completed': 3, 'projects_completed': 0, 'total_minutes_visited': 474.2906025, 'account_key': '108', 'utc_date': datetime.datetime(2015, 2, 19, 0, 0), 'has_visited': 1, 'num_courses_visited': 1}\n",
      "{'lessons_completed': 5, 'projects_completed': 0, 'total_minutes_visited': 820.879483167, 'account_key': '108', 'utc_date': datetime.datetime(2015, 2, 20, 0, 0), 'has_visited': 1, 'num_courses_visited': 2}\n",
      "{'lessons_completed': 2, 'projects_completed': 0, 'total_minutes_visited': 189.447189334, 'account_key': '108', 'utc_date': datetime.datetime(2015, 2, 21, 0, 0), 'has_visited': 1, 'num_courses_visited': 2}\n",
      "{'lessons_completed': 1, 'projects_completed': 0, 'total_minutes_visited': 97.7356985, 'account_key': '108', 'utc_date': datetime.datetime(2015, 2, 22, 0, 0), 'has_visited': 1, 'num_courses_visited': 2}\n",
      "{'lessons_completed': 0, 'projects_completed': 0, 'total_minutes_visited': 16.399642, 'account_key': '108', 'utc_date': datetime.datetime(2015, 2, 23, 0, 0), 'has_visited': 0, 'num_courses_visited': 1}\n",
      "{'lessons_completed': 0, 'projects_completed': 0, 'total_minutes_visited': 0.0, 'account_key': '108', 'utc_date': datetime.datetime(2015, 2, 24, 0, 0), 'has_visited': 0, 'num_courses_visited': 0}\n",
      "{'lessons_completed': 0, 'projects_completed': 0, 'total_minutes_visited': 0.0, 'account_key': '108', 'utc_date': datetime.datetime(2015, 2, 25, 0, 0), 'has_visited': 0, 'num_courses_visited': 0}\n",
      "{'lessons_completed': 0, 'projects_completed': 0, 'total_minutes_visited': 0.0, 'account_key': '108', 'utc_date': datetime.datetime(2015, 2, 26, 0, 0), 'has_visited': 0, 'num_courses_visited': 0}\n",
      "{'lessons_completed': 0, 'projects_completed': 0, 'total_minutes_visited': 0.0, 'account_key': '108', 'utc_date': datetime.datetime(2015, 2, 27, 0, 0), 'has_visited': 0, 'num_courses_visited': 0}\n",
      "{'lessons_completed': 0, 'projects_completed': 0, 'total_minutes_visited': 0.0, 'account_key': '108', 'utc_date': datetime.datetime(2015, 2, 28, 0, 0), 'has_visited': 0, 'num_courses_visited': 0}\n",
      "{'lessons_completed': 0, 'projects_completed': 0, 'total_minutes_visited': 0.0, 'account_key': '108', 'utc_date': datetime.datetime(2015, 3, 1, 0, 0), 'has_visited': 0, 'num_courses_visited': 0}\n",
      "{'lessons_completed': 0, 'projects_completed': 0, 'total_minutes_visited': 0.0, 'account_key': '108', 'utc_date': datetime.datetime(2015, 3, 2, 0, 0), 'has_visited': 0, 'num_courses_visited': 0}\n",
      "{'lessons_completed': 0, 'projects_completed': 0, 'total_minutes_visited': 0.0, 'account_key': '108', 'utc_date': datetime.datetime(2015, 3, 3, 0, 0), 'has_visited': 0, 'num_courses_visited': 0}\n",
      "{'lessons_completed': 0, 'projects_completed': 0, 'total_minutes_visited': 2.0494365, 'account_key': '108', 'utc_date': datetime.datetime(2015, 3, 4, 0, 0), 'has_visited': 0, 'num_courses_visited': 1}\n",
      "{'lessons_completed': 0, 'projects_completed': 0, 'total_minutes_visited': 0.0, 'account_key': '108', 'utc_date': datetime.datetime(2015, 3, 5, 0, 0), 'has_visited': 0, 'num_courses_visited': 0}\n",
      "{'lessons_completed': 2, 'projects_completed': 0, 'total_minutes_visited': 431.799976167, 'account_key': '108', 'utc_date': datetime.datetime(2015, 3, 6, 0, 0), 'has_visited': 1, 'num_courses_visited': 2}\n",
      "{'lessons_completed': 1, 'projects_completed': 0, 'total_minutes_visited': 119.514411833, 'account_key': '108', 'utc_date': datetime.datetime(2015, 3, 7, 0, 0), 'has_visited': 1, 'num_courses_visited': 1}\n",
      "{'lessons_completed': 1, 'projects_completed': 0, 'total_minutes_visited': 164.2608825, 'account_key': '108', 'utc_date': datetime.datetime(2015, 3, 8, 0, 0), 'has_visited': 1, 'num_courses_visited': 1}\n",
      "{'lessons_completed': 0, 'projects_completed': 0, 'total_minutes_visited': 179.749760666, 'account_key': '108', 'utc_date': datetime.datetime(2015, 3, 9, 0, 0), 'has_visited': 0, 'num_courses_visited': 2}\n",
      "{'lessons_completed': 0, 'projects_completed': 0, 'total_minutes_visited': 0.0, 'account_key': '108', 'utc_date': datetime.datetime(2015, 3, 10, 0, 0), 'has_visited': 0, 'num_courses_visited': 0}\n",
      "{'lessons_completed': 0, 'projects_completed': 0, 'total_minutes_visited': 0.0, 'account_key': '108', 'utc_date': datetime.datetime(2015, 3, 11, 0, 0), 'has_visited': 0, 'num_courses_visited': 0}\n",
      "{'lessons_completed': 0, 'projects_completed': 0, 'total_minutes_visited': 10.787165, 'account_key': '108', 'utc_date': datetime.datetime(2015, 3, 12, 0, 0), 'has_visited': 0, 'num_courses_visited': 1}\n",
      "{'lessons_completed': 0, 'projects_completed': 0, 'total_minutes_visited': 53.0065191667, 'account_key': '108', 'utc_date': datetime.datetime(2015, 3, 13, 0, 0), 'has_visited': 0, 'num_courses_visited': 1}\n",
      "{'lessons_completed': 1, 'projects_completed': 0, 'total_minutes_visited': 203.048973667, 'account_key': '108', 'utc_date': datetime.datetime(2015, 3, 14, 0, 0), 'has_visited': 1, 'num_courses_visited': 1}\n",
      "{'lessons_completed': 0, 'projects_completed': 0, 'total_minutes_visited': 51.2993831667, 'account_key': '108', 'utc_date': datetime.datetime(2015, 3, 15, 0, 0), 'has_visited': 0, 'num_courses_visited': 1}\n",
      "{'lessons_completed': 0, 'projects_completed': 0, 'total_minutes_visited': 0.0, 'account_key': '108', 'utc_date': datetime.datetime(2015, 3, 16, 0, 0), 'has_visited': 0, 'num_courses_visited': 0}\n",
      "{'lessons_completed': 0, 'projects_completed': 0, 'total_minutes_visited': 148.2304025, 'account_key': '108', 'utc_date': datetime.datetime(2015, 3, 17, 0, 0), 'has_visited': 0, 'num_courses_visited': 1}\n",
      "{'lessons_completed': 0, 'projects_completed': 0, 'total_minutes_visited': 27.5826056667, 'account_key': '108', 'utc_date': datetime.datetime(2015, 3, 18, 0, 0), 'has_visited': 0, 'num_courses_visited': 1}\n",
      "{'lessons_completed': 0, 'projects_completed': 0, 'total_minutes_visited': 0.0, 'account_key': '108', 'utc_date': datetime.datetime(2015, 3, 19, 0, 0), 'has_visited': 0, 'num_courses_visited': 0}\n",
      "{'lessons_completed': 0, 'projects_completed': 0, 'total_minutes_visited': 0.0, 'account_key': '108', 'utc_date': datetime.datetime(2015, 3, 20, 0, 0), 'has_visited': 0, 'num_courses_visited': 0}\n",
      "{'lessons_completed': 0, 'projects_completed': 0, 'total_minutes_visited': 14.4492643333, 'account_key': '108', 'utc_date': datetime.datetime(2015, 3, 21, 0, 0), 'has_visited': 0, 'num_courses_visited': 1}\n",
      "{'lessons_completed': 1, 'projects_completed': 0, 'total_minutes_visited': 159.175812667, 'account_key': '108', 'utc_date': datetime.datetime(2015, 3, 22, 0, 0), 'has_visited': 1, 'num_courses_visited': 1}\n",
      "{'lessons_completed': 0, 'projects_completed': 0, 'total_minutes_visited': 23.0641448333, 'account_key': '108', 'utc_date': datetime.datetime(2015, 3, 23, 0, 0), 'has_visited': 0, 'num_courses_visited': 1}\n",
      "{'lessons_completed': 3, 'projects_completed': 1, 'total_minutes_visited': 327.687187333, 'account_key': '108', 'utc_date': datetime.datetime(2015, 3, 24, 0, 0), 'has_visited': 1, 'num_courses_visited': 2}\n",
      "{'lessons_completed': 5, 'projects_completed': 0, 'total_minutes_visited': 210.324669, 'account_key': '108', 'utc_date': datetime.datetime(2015, 3, 25, 0, 0), 'has_visited': 1, 'num_courses_visited': 1}\n",
      "{'lessons_completed': 0, 'projects_completed': 0, 'total_minutes_visited': 114.421496, 'account_key': '108', 'utc_date': datetime.datetime(2015, 3, 26, 0, 0), 'has_visited': 0, 'num_courses_visited': 2}\n",
      "{'lessons_completed': 0, 'projects_completed': 0, 'total_minutes_visited': 85.2018686667, 'account_key': '108', 'utc_date': datetime.datetime(2015, 3, 27, 0, 0), 'has_visited': 0, 'num_courses_visited': 1}\n",
      "{'lessons_completed': 0, 'projects_completed': 0, 'total_minutes_visited': 9.53501516667, 'account_key': '108', 'utc_date': datetime.datetime(2015, 3, 28, 0, 0), 'has_visited': 0, 'num_courses_visited': 1}\n",
      "{'lessons_completed': 0, 'projects_completed': 0, 'total_minutes_visited': 0.0, 'account_key': '108', 'utc_date': datetime.datetime(2015, 3, 29, 0, 0), 'has_visited': 0, 'num_courses_visited': 0}\n",
      "{'lessons_completed': 0, 'projects_completed': 0, 'total_minutes_visited': 0.0, 'account_key': '108', 'utc_date': datetime.datetime(2015, 3, 30, 0, 0), 'has_visited': 0, 'num_courses_visited': 0}\n",
      "{'lessons_completed': 0, 'projects_completed': 0, 'total_minutes_visited': 0.0, 'account_key': '108', 'utc_date': datetime.datetime(2015, 3, 31, 0, 0), 'has_visited': 0, 'num_courses_visited': 0}\n",
      "{'lessons_completed': 0, 'projects_completed': 0, 'total_minutes_visited': 147.569145833, 'account_key': '108', 'utc_date': datetime.datetime(2015, 4, 1, 0, 0), 'has_visited': 0, 'num_courses_visited': 3}\n",
      "{'lessons_completed': 0, 'projects_completed': 0, 'total_minutes_visited': 77.2467501667, 'account_key': '108', 'utc_date': datetime.datetime(2015, 4, 2, 0, 0), 'has_visited': 0, 'num_courses_visited': 3}\n",
      "{'lessons_completed': 0, 'projects_completed': 0, 'total_minutes_visited': 84.8263243333, 'account_key': '108', 'utc_date': datetime.datetime(2015, 4, 3, 0, 0), 'has_visited': 0, 'num_courses_visited': 3}\n",
      "{'lessons_completed': 0, 'projects_completed': 0, 'total_minutes_visited': 0.0, 'account_key': '108', 'utc_date': datetime.datetime(2015, 4, 4, 0, 0), 'has_visited': 0, 'num_courses_visited': 0}\n",
      "{'lessons_completed': 0, 'projects_completed': 0, 'total_minutes_visited': 0.0, 'account_key': '108', 'utc_date': datetime.datetime(2015, 4, 5, 0, 0), 'has_visited': 0, 'num_courses_visited': 0}\n",
      "{'lessons_completed': 0, 'projects_completed': 0, 'total_minutes_visited': 32.9969003333, 'account_key': '108', 'utc_date': datetime.datetime(2015, 4, 6, 0, 0), 'has_visited': 0, 'num_courses_visited': 2}\n",
      "{'lessons_completed': 0, 'projects_completed': 0, 'total_minutes_visited': 173.764699333, 'account_key': '108', 'utc_date': datetime.datetime(2015, 4, 7, 0, 0), 'has_visited': 0, 'num_courses_visited': 1}\n",
      "{'lessons_completed': 0, 'projects_completed': 0, 'total_minutes_visited': 0.0, 'account_key': '108', 'utc_date': datetime.datetime(2015, 4, 8, 0, 0), 'has_visited': 0, 'num_courses_visited': 0}\n",
      "{'lessons_completed': 0, 'projects_completed': 0, 'total_minutes_visited': 85.6887951667, 'account_key': '108', 'utc_date': datetime.datetime(2015, 4, 9, 0, 0), 'has_visited': 0, 'num_courses_visited': 1}\n",
      "{'lessons_completed': 0, 'projects_completed': 0, 'total_minutes_visited': 72.4837255, 'account_key': '108', 'utc_date': datetime.datetime(2015, 4, 10, 0, 0), 'has_visited': 0, 'num_courses_visited': 2}\n",
      "{'lessons_completed': 0, 'projects_completed': 0, 'total_minutes_visited': 0.0, 'account_key': '108', 'utc_date': datetime.datetime(2015, 4, 11, 0, 0), 'has_visited': 0, 'num_courses_visited': 0}\n",
      "{'lessons_completed': 0, 'projects_completed': 0, 'total_minutes_visited': 0.0, 'account_key': '108', 'utc_date': datetime.datetime(2015, 4, 12, 0, 0), 'has_visited': 0, 'num_courses_visited': 0}\n",
      "{'lessons_completed': 0, 'projects_completed': 0, 'total_minutes_visited': 0.0, 'account_key': '108', 'utc_date': datetime.datetime(2015, 4, 13, 0, 0), 'has_visited': 0, 'num_courses_visited': 0}\n",
      "{'lessons_completed': 0, 'projects_completed': 0, 'total_minutes_visited': 36.9211676667, 'account_key': '108', 'utc_date': datetime.datetime(2015, 4, 14, 0, 0), 'has_visited': 0, 'num_courses_visited': 1}\n",
      "{'lessons_completed': 1, 'projects_completed': 0, 'total_minutes_visited': 179.353473333, 'account_key': '108', 'utc_date': datetime.datetime(2015, 4, 15, 0, 0), 'has_visited': 1, 'num_courses_visited': 2}\n",
      "{'lessons_completed': 0, 'projects_completed': 0, 'total_minutes_visited': 274.209734167, 'account_key': '108', 'utc_date': datetime.datetime(2015, 4, 16, 0, 0), 'has_visited': 0, 'num_courses_visited': 2}\n",
      "{'lessons_completed': 0, 'projects_completed': 0, 'total_minutes_visited': 40.340405, 'account_key': '108', 'utc_date': datetime.datetime(2015, 4, 17, 0, 0), 'has_visited': 0, 'num_courses_visited': 1}\n",
      "{'lessons_completed': 0, 'projects_completed': 0, 'total_minutes_visited': 0.0, 'account_key': '108', 'utc_date': datetime.datetime(2015, 4, 18, 0, 0), 'has_visited': 0, 'num_courses_visited': 0}\n",
      "{'lessons_completed': 0, 'projects_completed': 0, 'total_minutes_visited': 0.0, 'account_key': '108', 'utc_date': datetime.datetime(2015, 4, 19, 0, 0), 'has_visited': 0, 'num_courses_visited': 0}\n",
      "{'lessons_completed': 0, 'projects_completed': 0, 'total_minutes_visited': 25.9137858334, 'account_key': '108', 'utc_date': datetime.datetime(2015, 4, 20, 0, 0), 'has_visited': 0, 'num_courses_visited': 2}\n",
      "{'lessons_completed': 0, 'projects_completed': 0, 'total_minutes_visited': 3.40682316667, 'account_key': '108', 'utc_date': datetime.datetime(2015, 4, 21, 0, 0), 'has_visited': 0, 'num_courses_visited': 1}\n",
      "{'lessons_completed': 0, 'projects_completed': 0, 'total_minutes_visited': 99.1186611667, 'account_key': '108', 'utc_date': datetime.datetime(2015, 4, 22, 0, 0), 'has_visited': 0, 'num_courses_visited': 2}\n",
      "{'lessons_completed': 0, 'projects_completed': 2, 'total_minutes_visited': 35.8316206667, 'account_key': '108', 'utc_date': datetime.datetime(2015, 4, 23, 0, 0), 'has_visited': 0, 'num_courses_visited': 1}\n",
      "{'lessons_completed': 0, 'projects_completed': 0, 'total_minutes_visited': 0.0, 'account_key': '108', 'utc_date': datetime.datetime(2015, 4, 24, 0, 0), 'has_visited': 0, 'num_courses_visited': 0}\n",
      "{'lessons_completed': 0, 'projects_completed': 0, 'total_minutes_visited': 0.0, 'account_key': '108', 'utc_date': datetime.datetime(2015, 4, 25, 0, 0), 'has_visited': 0, 'num_courses_visited': 0}\n",
      "{'lessons_completed': 0, 'projects_completed': 0, 'total_minutes_visited': 0.0, 'account_key': '108', 'utc_date': datetime.datetime(2015, 4, 26, 0, 0), 'has_visited': 0, 'num_courses_visited': 0}\n",
      "{'lessons_completed': 0, 'projects_completed': 2, 'total_minutes_visited': 0.0, 'account_key': '108', 'utc_date': datetime.datetime(2015, 4, 27, 0, 0), 'has_visited': 0, 'num_courses_visited': 0}\n",
      "{'lessons_completed': 0, 'projects_completed': 0, 'total_minutes_visited': 0.0, 'account_key': '108', 'utc_date': datetime.datetime(2015, 4, 28, 0, 0), 'has_visited': 0, 'num_courses_visited': 0}\n",
      "{'lessons_completed': 0, 'projects_completed': 0, 'total_minutes_visited': 23.1241541667, 'account_key': '108', 'utc_date': datetime.datetime(2015, 4, 29, 0, 0), 'has_visited': 0, 'num_courses_visited': 1}\n",
      "{'lessons_completed': 0, 'projects_completed': 0, 'total_minutes_visited': 0.0, 'account_key': '108', 'utc_date': datetime.datetime(2015, 4, 30, 0, 0), 'has_visited': 0, 'num_courses_visited': 0}\n",
      "{'lessons_completed': 0, 'projects_completed': 0, 'total_minutes_visited': 0.0, 'account_key': '108', 'utc_date': datetime.datetime(2015, 5, 1, 0, 0), 'has_visited': 0, 'num_courses_visited': 0}\n",
      "{'lessons_completed': 0, 'projects_completed': 0, 'total_minutes_visited': 0.0, 'account_key': '108', 'utc_date': datetime.datetime(2015, 5, 2, 0, 0), 'has_visited': 0, 'num_courses_visited': 0}\n",
      "{'lessons_completed': 0, 'projects_completed': 0, 'total_minutes_visited': 0.0, 'account_key': '108', 'utc_date': datetime.datetime(2015, 5, 3, 0, 0), 'has_visited': 0, 'num_courses_visited': 0}\n",
      "{'lessons_completed': 0, 'projects_completed': 0, 'total_minutes_visited': 0.0, 'account_key': '108', 'utc_date': datetime.datetime(2015, 5, 4, 0, 0), 'has_visited': 0, 'num_courses_visited': 0}\n",
      "{'lessons_completed': 0, 'projects_completed': 0, 'total_minutes_visited': 0.0, 'account_key': '108', 'utc_date': datetime.datetime(2015, 5, 5, 0, 0), 'has_visited': 0, 'num_courses_visited': 0}\n",
      "{'lessons_completed': 0, 'projects_completed': 0, 'total_minutes_visited': 0.0, 'account_key': '108', 'utc_date': datetime.datetime(2015, 5, 6, 0, 0), 'has_visited': 0, 'num_courses_visited': 0}\n",
      "{'lessons_completed': 0, 'projects_completed': 0, 'total_minutes_visited': 0.0, 'account_key': '108', 'utc_date': datetime.datetime(2015, 5, 7, 0, 0), 'has_visited': 0, 'num_courses_visited': 0}\n",
      "{'lessons_completed': 0, 'projects_completed': 0, 'total_minutes_visited': 21.8722345, 'account_key': '108', 'utc_date': datetime.datetime(2015, 5, 8, 0, 0), 'has_visited': 0, 'num_courses_visited': 1}\n",
      "{'lessons_completed': 0, 'projects_completed': 1, 'total_minutes_visited': 0.0, 'account_key': '108', 'utc_date': datetime.datetime(2015, 5, 9, 0, 0), 'has_visited': 0, 'num_courses_visited': 0}\n",
      "{'lessons_completed': 0, 'projects_completed': 0, 'total_minutes_visited': 0.0, 'account_key': '108', 'utc_date': datetime.datetime(2015, 5, 10, 0, 0), 'has_visited': 0, 'num_courses_visited': 0}\n",
      "{'lessons_completed': 0, 'projects_completed': 0, 'total_minutes_visited': 0.0, 'account_key': '108', 'utc_date': datetime.datetime(2015, 5, 11, 0, 0), 'has_visited': 0, 'num_courses_visited': 0}\n",
      "{'lessons_completed': 0, 'projects_completed': 0, 'total_minutes_visited': 0.0, 'account_key': '108', 'utc_date': datetime.datetime(2015, 5, 12, 0, 0), 'has_visited': 0, 'num_courses_visited': 0}\n",
      "{'lessons_completed': 0, 'projects_completed': 0, 'total_minutes_visited': 0.0, 'account_key': '108', 'utc_date': datetime.datetime(2015, 5, 13, 0, 0), 'has_visited': 0, 'num_courses_visited': 0}\n"
     ]
    }
   ],
   "source": [
    "#Checking for duplicate entries of account key 108 in paid_engagements\n",
    "for entry in paid_engagement:\n",
    "    if entry['account_key'] == '108':\n",
    "        print(entry)"
   ]
  },
  {
   "cell_type": "markdown",
   "metadata": {},
   "source": [
    "Based on the findings, which is that the function adding records to paid_engagement_first_week is inaccurate, I will change that function."
   ]
  },
  {
   "cell_type": "code",
   "execution_count": 188,
   "metadata": {
    "collapsed": false
   },
   "outputs": [],
   "source": [
    "#Quiz: Lessons completed in first week\n",
    "\n",
    "#creating function to add total of engagement parameter per student (SQL: grouped by, count())\n",
    "def total_activity(para):\n",
    "    total_pairs = {}\n",
    "    for account_key,amount in engagement_by_account.items():\n",
    "        total_amount = 0\n",
    "        for record in amount:\n",
    "            total_amount += record[para]\n",
    "        total_pairs[account_key] = total_amount        \n",
    "    return total_pairs\n",
    "\n",
    "total_lessons_by_account = total_activity('lessons_completed')    \n"
   ]
  },
  {
   "cell_type": "code",
   "execution_count": 189,
   "metadata": {
    "collapsed": false
   },
   "outputs": [
    {
     "name": "stdout",
     "output_type": "stream",
     "text": [
      "995\n",
      "Mean: 1.63618090452\n",
      "Standard deviation: 3.00256129983\n",
      "Minimum: 0\n",
      "Maximum: 36\n"
     ]
    }
   ],
   "source": [
    "print(len(total_lessons_by_account))\n",
    "\n",
    "# Summarize the data about minutes spent in the classroom\n",
    "#creating function to give descriptive statistics of dictionary\n",
    "def desc_stats_of_dictionary(dictionary):\n",
    "    total_list = list(dictionary.values())\n",
    "    print('Mean:', np.mean(total_list))\n",
    "    print('Standard deviation:', np.std(total_list))\n",
    "    print('Minimum:', np.min(total_list))\n",
    "    print('Maximum:', np.max(total_list))\n",
    "\n",
    "desc_stats_of_dictionary(total_lessons_by_account)"
   ]
  },
  {
   "cell_type": "code",
   "execution_count": 190,
   "metadata": {
    "collapsed": false
   },
   "outputs": [
    {
     "ename": "SyntaxError",
     "evalue": "invalid syntax (<ipython-input-190-bc6aba49644f>, line 30)",
     "output_type": "error",
     "traceback": [
      "\u001b[0;36m  File \u001b[0;32m\"<ipython-input-190-bc6aba49644f>\"\u001b[0;36m, line \u001b[0;32m30\u001b[0m\n\u001b[0;31m    print 'Mean:', np.mean(data)\u001b[0m\n\u001b[0m                ^\u001b[0m\n\u001b[0;31mSyntaxError\u001b[0m\u001b[0;31m:\u001b[0m invalid syntax\n"
     ]
    }
   ],
   "source": [
    "#Quiz: Lessons completed in first week, answer from video\n",
    "\n",
    "from collections import defaultdict\n",
    "\n",
    "def group_data(data, key_name):\n",
    "    grouped_data = defaultdict(list)\n",
    "    for data_point in data:\n",
    "        key = data_point[key_name]\n",
    "        grouped_data[key].append(data_point)\n",
    "    return grouped_data\n",
    "\n",
    "engagement_by_account = group_data(paid_engagement_in_first_week,\n",
    "                                   'account_key')\n",
    "\n",
    "def sum_grouped_items(grouped_data, field_name):\n",
    "    summed_data = {}\n",
    "    for key, data_points in grouped_data.items():\n",
    "        total = 0\n",
    "        for data_point in data_points:\n",
    "            total += data_point[field_name]\n",
    "        summed_data[key] = total\n",
    "    return summed_data\n",
    "\n",
    "total_minutes_by_account = sum_grouped_items(engagement_by_account,\n",
    "                                             'total_minutes_visited')\n",
    "\n",
    "import numpy as np\n",
    "\n",
    "def describe_data(data):\n",
    "    print('Mean:', np.mean(data))\n",
    "    print('Standard deviation:', np.std(data))\n",
    "    print('Minimum:', np.min(data))\n",
    "    print ('Maximum:', np.max(data))\n",
    "\n",
    "describe_data(total_minutes_by_account.values())\n",
    "#Then she called the functions she created to analyze the lessons completed in the first week as follows:\n",
    "\n",
    "lessons_completed_by_account = sum_grouped_items(engagement_by_account,\n",
    "                                                 'lessons_completed')\n",
    "describe_data(lessons_completed_by_account.values())\n"
   ]
  },
  {
   "cell_type": "code",
   "execution_count": 192,
   "metadata": {
    "collapsed": false
   },
   "outputs": [
    {
     "name": "stdout",
     "output_type": "stream",
     "text": [
      "1075\n"
     ]
    }
   ],
   "source": [
    "count = 0\n",
    "for rec in engagement_by_account:\n",
    "    for day in engagement_by_account[rec]:\n",
    "        if day['lessons_completed'] > 0:\n",
    "            count += 1    \n",
    "\n",
    "print(count)"
   ]
  },
  {
   "cell_type": "code",
   "execution_count": 195,
   "metadata": {
    "collapsed": false
   },
   "outputs": [
    {
     "name": "stdout",
     "output_type": "stream",
     "text": [
      "Mean: 1.08040201005\n",
      "Standard deviation: 1.47596075148\n",
      "Minimum: 0\n",
      "Maximum: 7\n"
     ]
    }
   ],
   "source": [
    "#def desc_stats_of_dictionary(dictionary):\n",
    "#    total_list = list(dictionary.values())\n",
    "#    print('Mean:', np.mean(total_list))\n",
    "#    print('Standard deviation:', np.std(total_list))\n",
    "#    print('Minimum:', np.min(total_list))\n",
    "#    print('Maximum:', np.max(total_list))\n",
    "\n",
    "desc_stats_of_dictionary(total_activity('has_visited'))"
   ]
  },
  {
   "cell_type": "code",
   "execution_count": 148,
   "metadata": {
    "collapsed": true
   },
   "outputs": [],
   "source": [
    "def sum_grouped_items(grouped_data, field_name):\n",
    "    summed_data = {}\n",
    "    for key, data_points in grouped_data.items():\n",
    "        total = 0\n",
    "        for data_point in data_points:\n",
    "            total += data_point[field_name]\n",
    "        summed_data[key] = total\n",
    "    return summed_data"
   ]
  },
  {
   "cell_type": "code",
   "execution_count": 196,
   "metadata": {
    "collapsed": true
   },
   "outputs": [],
   "source": [
    "days_with_lesson_completed = sum_grouped_items(engagement_by_account,'has_visited')"
   ]
  },
  {
   "cell_type": "code",
   "execution_count": 207,
   "metadata": {
    "collapsed": false
   },
   "outputs": [
    {
     "data": {
      "text/plain": [
       "[]"
      ]
     },
     "execution_count": 207,
     "metadata": {},
     "output_type": "execute_result"
    }
   ],
   "source": [
    "engagement_by_account['995']"
   ]
  },
  {
   "cell_type": "code",
   "execution_count": 217,
   "metadata": {
    "collapsed": false
   },
   "outputs": [
    {
     "data": {
      "text/plain": [
       "489"
      ]
     },
     "execution_count": 217,
     "metadata": {},
     "output_type": "execute_result"
    }
   ],
   "source": [
    "sum(1 for x in days_with_lesson_completed.values() if x > 0)"
   ]
  },
  {
   "cell_type": "code",
   "execution_count": 220,
   "metadata": {
    "collapsed": false
   },
   "outputs": [
    {
     "name": "stdout",
     "output_type": "stream",
     "text": [
      "18\n",
      "1622\n"
     ]
    },
    {
     "data": {
      "text/plain": [
       "1640"
      ]
     },
     "execution_count": 220,
     "metadata": {},
     "output_type": "execute_result"
    }
   ],
   "source": [
    "print(sum(1 for x in enrollments if x['is_udacity'] == True))\n",
    "print(sum(1 for x in enrollments if x['is_udacity'] == False))\n",
    "\n",
    "len(enrollments)"
   ]
  },
  {
   "cell_type": "code",
   "execution_count": 205,
   "metadata": {
    "collapsed": true
   },
   "outputs": [],
   "source": [
    "def print_10_rows(dictionary):\n",
    "    count = 0\n",
    "    for key in dictionary:\n",
    "        print(key,':',dictionary[key])\n",
    "        count += 1\n",
    "        if count > 10:\n",
    "            break"
   ]
  },
  {
   "cell_type": "code",
   "execution_count": 206,
   "metadata": {
    "collapsed": false
   },
   "outputs": [
    {
     "name": "stdout",
     "output_type": "stream",
     "text": [
      "995\n",
      "175 : 6\n",
      "800 : 1\n",
      "277 : 2\n",
      "694 : 1\n",
      "825 : 0\n",
      "1048 : 0\n",
      "887 : 0\n",
      "670 : 2\n",
      "55 : 2\n",
      "1001 : 0\n",
      "125 : 5\n"
     ]
    }
   ],
   "source": [
    "print_10_rows(days_with_lesson_completed)"
   ]
  },
  {
   "cell_type": "code",
   "execution_count": 198,
   "metadata": {
    "collapsed": false
   },
   "outputs": [
    {
     "name": "stdout",
     "output_type": "stream",
     "text": [
      "Mean: 1.08040201005\n",
      "Standard deviation: 1.47596075148\n",
      "Minimum: 0\n",
      "Maximum: 7\n"
     ]
    }
   ],
   "source": [
    "desc_stats_of_dictionary(days_with_lesson_completed)"
   ]
  },
  {
   "cell_type": "code",
   "execution_count": 216,
   "metadata": {
    "collapsed": false
   },
   "outputs": [
    {
     "name": "stdout",
     "output_type": "stream",
     "text": [
      "1075\n",
      "506 217 110 65 59 24 11 3\n"
     ]
    },
    {
     "data": {
      "text/plain": [
       "2.198364008179959"
      ]
     },
     "execution_count": 216,
     "metadata": {},
     "output_type": "execute_result"
    }
   ],
   "source": [
    "summa = 0\n",
    "for key in days_with_lesson_completed:\n",
    "    summa += days_with_lesson_completed[key]\n",
    "    \n",
    "print(summa)\n",
    "\n",
    "zero,one,two,three,four,five,six,seven = 0,0,0,0,0,0,0,0\n",
    "\n",
    "for key in days_with_lesson_completed:\n",
    "   if days_with_lesson_completed[key] == 0:\n",
    "    zero += 1\n",
    "   elif days_with_lesson_completed[key] == 1: \n",
    "    one += 1\n",
    "   elif days_with_lesson_completed[key] == 2: \n",
    "    two += 1\n",
    "   elif days_with_lesson_completed[key] == 3: \n",
    "    three += 1\n",
    "   elif days_with_lesson_completed[key] == 4: \n",
    "    four += 1\n",
    "   elif days_with_lesson_completed[key] == 5: \n",
    "    five += 1\n",
    "   elif days_with_lesson_completed[key] == 6: \n",
    "    six += 1\n",
    "   elif days_with_lesson_completed[key] == 7: \n",
    "    seven += 1\n",
    "    \n",
    "print(zero,one,two,three,four,five,six,seven)\n",
    "\n",
    "1075/489"
   ]
  },
  {
   "cell_type": "code",
   "execution_count": 147,
   "metadata": {
    "collapsed": false
   },
   "outputs": [
    {
     "data": {
      "text/plain": [
       "[{'account_key': '743',\n",
       "  'has_visited': 0,\n",
       "  'lessons_completed': 0,\n",
       "  'num_courses_visited': 0,\n",
       "  'projects_completed': 0,\n",
       "  'total_minutes_visited': 0.0,\n",
       "  'utc_date': datetime.datetime(2014, 12, 9, 0, 0)},\n",
       " {'account_key': '743',\n",
       "  'has_visited': 0,\n",
       "  'lessons_completed': 0,\n",
       "  'num_courses_visited': 0,\n",
       "  'projects_completed': 0,\n",
       "  'total_minutes_visited': 0.0,\n",
       "  'utc_date': datetime.datetime(2014, 12, 10, 0, 0)},\n",
       " {'account_key': '743',\n",
       "  'has_visited': 0,\n",
       "  'lessons_completed': 0,\n",
       "  'num_courses_visited': 0,\n",
       "  'projects_completed': 0,\n",
       "  'total_minutes_visited': 0.0,\n",
       "  'utc_date': datetime.datetime(2014, 12, 11, 0, 0)},\n",
       " {'account_key': '743',\n",
       "  'has_visited': 0,\n",
       "  'lessons_completed': 0,\n",
       "  'num_courses_visited': 0,\n",
       "  'projects_completed': 0,\n",
       "  'total_minutes_visited': 0.0,\n",
       "  'utc_date': datetime.datetime(2014, 12, 12, 0, 0)},\n",
       " {'account_key': '743',\n",
       "  'has_visited': 0,\n",
       "  'lessons_completed': 0,\n",
       "  'num_courses_visited': 0,\n",
       "  'projects_completed': 0,\n",
       "  'total_minutes_visited': 0.0,\n",
       "  'utc_date': datetime.datetime(2014, 12, 13, 0, 0)},\n",
       " {'account_key': '743',\n",
       "  'has_visited': 0,\n",
       "  'lessons_completed': 0,\n",
       "  'num_courses_visited': 0,\n",
       "  'projects_completed': 0,\n",
       "  'total_minutes_visited': 0.0,\n",
       "  'utc_date': datetime.datetime(2014, 12, 14, 0, 0)},\n",
       " {'account_key': '743',\n",
       "  'has_visited': 0,\n",
       "  'lessons_completed': 0,\n",
       "  'num_courses_visited': 0,\n",
       "  'projects_completed': 0,\n",
       "  'total_minutes_visited': 0.0,\n",
       "  'utc_date': datetime.datetime(2014, 12, 15, 0, 0)}]"
      ]
     },
     "execution_count": 147,
     "metadata": {},
     "output_type": "execute_result"
    }
   ],
   "source": [
    "engagement_by_account['743']"
   ]
  }
 ],
 "metadata": {
  "kernelspec": {
   "display_name": "Python 3",
   "language": "python",
   "name": "python3"
  },
  "language_info": {
   "codemirror_mode": {
    "name": "ipython",
    "version": 3
   },
   "file_extension": ".py",
   "mimetype": "text/x-python",
   "name": "python",
   "nbconvert_exporter": "python",
   "pygments_lexer": "ipython3",
   "version": "3.5.1"
  }
 },
 "nbformat": 4,
 "nbformat_minor": 0
}
