{
 "cells": [
  {
   "cell_type": "code",
   "execution_count": 57,
   "metadata": {
    "collapsed": true
   },
   "outputs": [],
   "source": [
    "#CSVs in Python\n",
    "# Representing a CSV as a list of rows\n",
    "\n",
    "#Option 1: Each row is a list\n",
    "csv = [['A1','A2','A3'],\n",
    "      ['B2', 'B2', 'B3']]\n",
    "\n",
    "#Option 2: \n",
    "csv = [{'name1': 'A1', 'name2': 'A2', 'name3': 'A3'},\n",
    "      {'name1': 'B1', 'name2': 'B2', 'name3': 'B3'}]\n",
    "\n",
    "#better to use libraries, for example unicodecsv"
   ]
  },
  {
   "cell_type": "code",
   "execution_count": 58,
   "metadata": {
    "collapsed": false
   },
   "outputs": [
    {
     "data": {
      "text/plain": [
       "{'account_key': '448',\n",
       " 'cancel_date': '2015-01-27',\n",
       " 'days_to_cancel': '0',\n",
       " 'is_canceled': 'True',\n",
       " 'is_udacity': 'True',\n",
       " 'join_date': '2015-01-27',\n",
       " 'status': 'canceled'}"
      ]
     },
     "execution_count": 58,
     "metadata": {},
     "output_type": "execute_result"
    }
   ],
   "source": [
    "#CSVs in Python\n",
    "import unicodecsv\n",
    "\n",
    "enrollments = []\n",
    "f = open('enrollments.csv', 'rb')\n",
    "reader = unicodecsv.DictReader(f)\n",
    "\n",
    "for row in reader:\n",
    "    enrollments.append(row)\n",
    "    \n",
    "f.close()\n",
    "enrollments[2]"
   ]
  },
  {
   "cell_type": "code",
   "execution_count": 59,
   "metadata": {
    "collapsed": false
   },
   "outputs": [
    {
     "data": {
      "text/plain": [
       "{'account_key': '448',\n",
       " 'cancel_date': '2015-01-27',\n",
       " 'days_to_cancel': '0',\n",
       " 'is_canceled': 'True',\n",
       " 'is_udacity': 'True',\n",
       " 'join_date': '2015-01-27',\n",
       " 'status': 'canceled'}"
      ]
     },
     "execution_count": 59,
     "metadata": {},
     "output_type": "execute_result"
    }
   ],
   "source": [
    "#CSVs in Python\n",
    "#Shorter version of above, using with\n",
    "\n",
    "import unicodecsv\n",
    "\n",
    "with open('enrollments.csv', 'rb') as f:\n",
    "    reader = unicodecsv.DictReader(f)\n",
    "    enrollments = list(reader)\n",
    "    \n",
    "enrollments[2]"
   ]
  },
  {
   "cell_type": "code",
   "execution_count": 60,
   "metadata": {
    "collapsed": false
   },
   "outputs": [
    {
     "name": "stdout",
     "output_type": "stream",
     "text": [
      "{'utc_date': '2015-01-09', 'lessons_completed': '0.0', 'acct': '0', 'total_minutes_visited': '11.6793745', 'projects_completed': '0.0', 'num_courses_visited': '1.0'}\n",
      "{'account_key': '256', 'assigned_rating': 'UNGRADED', 'completion_date': '2015-01-16', 'creation_date': '2015-01-14', 'lesson_key': '3176718735', 'processing_state': 'EVALUATED'}\n"
     ]
    }
   ],
   "source": [
    "#CSVs in Python\n",
    "#Reading in the other files, own code\n",
    "import unicodecsv\n",
    "\n",
    "with open('daily_engagement.csv', 'rb') as f:\n",
    "    reader = unicodecsv.DictReader(f)\n",
    "    daily_engagement = list(reader)\n",
    "    \n",
    "with open('project_submissions.csv', 'rb') as f:\n",
    "    reader = unicodecsv.DictReader(f)\n",
    "    project_submissions = list(reader)\n",
    "    \n",
    "print(daily_engagement[0])\n",
    "print(project_submissions[0])"
   ]
  },
  {
   "cell_type": "code",
   "execution_count": 61,
   "metadata": {
    "collapsed": false
   },
   "outputs": [
    {
     "name": "stdout",
     "output_type": "stream",
     "text": [
      "{'status': 'canceled', 'account_key': '448', 'is_udacity': 'True', 'join_date': '2014-11-10', 'cancel_date': '2015-01-14', 'days_to_cancel': '65', 'is_canceled': 'True'}\n",
      "{'utc_date': '2015-01-09', 'lessons_completed': '0.0', 'acct': '0', 'total_minutes_visited': '11.6793745', 'projects_completed': '0.0', 'num_courses_visited': '1.0'}\n",
      "{'account_key': '256', 'assigned_rating': 'UNGRADED', 'completion_date': '2015-01-16', 'creation_date': '2015-01-14', 'lesson_key': '3176718735', 'processing_state': 'EVALUATED'}\n"
     ]
    }
   ],
   "source": [
    "#CSVs in Python\n",
    "#write as function\n",
    "\n",
    "def read_csv(filename):\n",
    "    with open(filename, 'rb') as f:\n",
    "        reader = unicodecsv.DictReader(f)\n",
    "        return list(reader)\n",
    "\n",
    "enrollments = read_csv('enrollments.csv')\n",
    "daily_engagement = read_csv('daily_engagement.csv')\n",
    "project_submissions = read_csv('project_submissions.csv')\n",
    "\n",
    "print(enrollments[0])\n",
    "print(daily_engagement[0])\n",
    "print(project_submissions[0])"
   ]
  },
  {
   "cell_type": "code",
   "execution_count": 62,
   "metadata": {
    "collapsed": false
   },
   "outputs": [
    {
     "data": {
      "text/plain": [
       "{'account_key': '256',\n",
       " 'assigned_rating': 'UNGRADED',\n",
       " 'completion_date': datetime.datetime(2015, 1, 16, 0, 0),\n",
       " 'creation_date': datetime.datetime(2015, 1, 14, 0, 0),\n",
       " 'lesson_key': '3176718735',\n",
       " 'processing_state': 'EVALUATED'}"
      ]
     },
     "execution_count": 62,
     "metadata": {},
     "output_type": "execute_result"
    }
   ],
   "source": [
    "#Fixing data types\n",
    "#taken from L1_Starter_code\n",
    "from datetime import datetime as dt\n",
    "\n",
    "# Takes a date as a string, and returns a Python datetime object. \n",
    "# If there is no date given, returns None\n",
    "def parse_date(date):\n",
    "    if date == '':\n",
    "        return None\n",
    "    else:\n",
    "        return dt.strptime(date, '%Y-%m-%d')\n",
    "    \n",
    "# Takes a string which is either an empty string or represents an integer,\n",
    "# and returns an int or None.\n",
    "def parse_maybe_int(i):\n",
    "    if i == '':\n",
    "        return None\n",
    "    else:\n",
    "        return int(i)\n",
    "\n",
    "# Clean up the data types in the enrollments table\n",
    "for enrollment in enrollments:\n",
    "    enrollment['cancel_date'] = parse_date(enrollment['cancel_date'])\n",
    "    enrollment['days_to_cancel'] = parse_maybe_int(enrollment['days_to_cancel'])\n",
    "    enrollment['is_canceled'] = enrollment['is_canceled'] == 'True'\n",
    "    enrollment['is_udacity'] = enrollment['is_udacity'] == 'True'\n",
    "    enrollment['join_date'] = parse_date(enrollment['join_date'])\n",
    "    \n",
    "enrollments[0]\n",
    "\n",
    "for engagement_record in daily_engagement:\n",
    "    engagement_record['lessons_completed'] = int(float(engagement_record['lessons_completed']))\n",
    "    engagement_record['num_courses_visited'] = int(float(engagement_record['num_courses_visited']))\n",
    "    engagement_record['projects_completed'] = int(float(engagement_record['projects_completed']))\n",
    "    engagement_record['total_minutes_visited'] = float(engagement_record['total_minutes_visited'])\n",
    "    engagement_record['utc_date'] = parse_date(engagement_record['utc_date'])\n",
    "    \n",
    "daily_engagement[0]\n",
    "\n",
    "# Clean up the data types in the submissions table\n",
    "for submission in project_submissions:\n",
    "    submission['completion_date'] = parse_date(submission['completion_date'])\n",
    "    submission['creation_date'] = parse_date(submission['creation_date'])\n",
    "\n",
    "project_submissions[0]"
   ]
  },
  {
   "cell_type": "code",
   "execution_count": 63,
   "metadata": {
    "collapsed": false
   },
   "outputs": [
    {
     "name": "stdout",
     "output_type": "stream",
     "text": [
      "None\n"
     ]
    }
   ],
   "source": [
    "print(enrollment['cancel_date'])"
   ]
  },
  {
   "cell_type": "markdown",
   "metadata": {},
   "source": [
    "__Quiz: Questions about Student...__\n",
    "1. Does time of day for enrollment affect count or frequency of project submissions?\n",
    "2. Is there a point of daily engagement which noticeably increases or decreases count of project submissions?\n",
    "3. What is the average lessons completed per project submission?\n",
    "4. Of students who have submitted at least 1 project, what is the average number of project submissions within 6 months of enrolling?\n",
    "5. Looking only at students enrolled for at least 3 months, how many have submitted at least 1 project?\n",
    "6. On average, how long does it take to complete 6 projects?"
   ]
  },
  {
   "cell_type": "code",
   "execution_count": null,
   "metadata": {
    "collapsed": true
   },
   "outputs": [],
   "source": []
  },
  {
   "cell_type": "code",
   "execution_count": 64,
   "metadata": {
    "collapsed": false
   },
   "outputs": [
    {
     "name": "stdout",
     "output_type": "stream",
     "text": [
      "Enrollment count: 1640, projects count: 3642, engagement count: 136240\n",
      "Unique enrollments: 1302, Users with project submissions: 743, users with some daily activity: 1237\n"
     ]
    }
   ],
   "source": [
    "#Quiz: Investigating the data\n",
    "enrollments_count = len(enrollments)\n",
    "projects_count = len(project_submissions)\n",
    "engagement_count = len(daily_engagement)\n",
    "\n",
    "print('Enrollment count: {0}, projects count: {1}, engagement count: {2}'.format(enrollments_count,projects_count,engagement_count))\n",
    "\n",
    "def unique_acc(table,col):\n",
    "    accounts = []\n",
    "    for account in table:\n",
    "        if account[col] not in accounts:\n",
    "            accounts.append(account[col])\n",
    "    return len(accounts)\n",
    "\n",
    "enrollments_unique = unique_acc(enrollments,'account_key')\n",
    "projects_unique_users = unique_acc(project_submissions,'account_key')\n",
    "engagement_unique = unique_acc(daily_engagement,'acct')\n",
    "\n",
    "print('Unique enrollments: {0}, Users with project submissions: {1}, users with some daily activity: {2}'.format(enrollments_unique,projects_unique_users,engagement_unique))"
   ]
  },
  {
   "cell_type": "code",
   "execution_count": 65,
   "metadata": {
    "collapsed": false
   },
   "outputs": [
    {
     "name": "stdout",
     "output_type": "stream",
     "text": [
      "1.3603042589966208\n"
     ]
    }
   ],
   "source": [
    "#Same as above, with variable names from course framework\n",
    "\n",
    "import unicodecsv\n",
    "import timeit\n",
    "\n",
    "def read_csv(filename):\n",
    "    with open(filename, 'rb') as f:\n",
    "        reader = unicodecsv.DictReader(f)\n",
    "        return list(reader)\n",
    "\n",
    "#enrollments = read_csv('/datasets/ud170/udacity-students/enrollments.csv')\n",
    "#daily_engagement = read_csv('/datasets/ud170/udacity-students/daily_engagement.csv')\n",
    "#project_submissions = read_csv('/datasets/ud170/udacity-students/project_submissions.csv')\n",
    "    \n",
    "### For each of these three tables, find the number of rows in the table and\n",
    "### the number of unique students in the table. To find the number of unique\n",
    "### students, you might want to create a set of the account keys in each table.\n",
    "start = timeit.default_timer()\n",
    "def unique_acc(table,col):\n",
    "    accounts = []\n",
    "    for account in table:\n",
    "        if account[col] not in accounts:\n",
    "            accounts.append(account[col])\n",
    "    return len(accounts)\n",
    "\n",
    "enrollment_num_rows = len(enrollments)            # Replace this with your code\n",
    "enrollment_num_unique_students = unique_acc(enrollments,'account_key')  # Replace this with your code\n",
    "\n",
    "engagement_num_rows = len(daily_engagement)             # Replace this with your code\n",
    "engagement_num_unique_students = unique_acc(daily_engagement,'acct')  # Replace this with your code\n",
    "\n",
    "submission_num_rows = len(project_submissions)             # Replace this with your code\n",
    "submission_num_unique_students = unique_acc(project_submissions,'account_key')  # Replace this with your code\n",
    "\n",
    "stop = timeit.default_timer()\n",
    "\n",
    "print(stop - start)"
   ]
  },
  {
   "cell_type": "code",
   "execution_count": 66,
   "metadata": {
    "collapsed": false
   },
   "outputs": [
    {
     "name": "stdout",
     "output_type": "stream",
     "text": [
      "0.06548697198741138\n"
     ]
    }
   ],
   "source": [
    "#Quiz: Investigating the data: answer from course video\n",
    "import timeit\n",
    "start = timeit.default_timer()\n",
    "\n",
    "len(enrollments)\n",
    "\n",
    "unique_enrolled_students = set()\n",
    "for enrollment in enrollments:\n",
    "    unique_enrolled_students.add(enrollment['account_key'])\n",
    "len(unique_enrolled_students)\n",
    "\n",
    "len(daily_engagement)\n",
    "\n",
    "unique_engagement_students = set()\n",
    "for engagement_record in daily_engagement:\n",
    "    unique_engagement_students.add(engagement_record['acct'])\n",
    "len(unique_engagement_students)\n",
    "\n",
    "len(project_submissions)\n",
    "\n",
    "unique_project_submitters = set()\n",
    "for submission in project_submissions:\n",
    "    unique_project_submitters.add(submission['account_key'])\n",
    "len(unique_project_submitters)\n",
    "\n",
    "stop = timeit.default_timer()\n",
    "\n",
    "print(stop - start)"
   ]
  },
  {
   "cell_type": "code",
   "execution_count": 67,
   "metadata": {
    "collapsed": false
   },
   "outputs": [
    {
     "name": "stdout",
     "output_type": "stream",
     "text": [
      "{'utc_date': datetime.datetime(2015, 1, 12, 0, 0), 'lessons_completed': 0, 'acct': '0', 'total_minutes_visited': 33.4892696667, 'projects_completed': 0, 'num_courses_visited': 1}\n"
     ]
    }
   ],
   "source": [
    "#Quiz: Problems in the data\n",
    "#Unifying name for account key in all tables (dictionaries)\n",
    "\n",
    "print(daily_engagement[3])#['acct'])\n",
    "\n",
    "for rec in daily_engagement:\n",
    "    rec['account_key'] = rec['acct']\n",
    "    del[rec['acct']]\n",
    "\n"
   ]
  },
  {
   "cell_type": "code",
   "execution_count": 68,
   "metadata": {
    "collapsed": false
   },
   "outputs": [
    {
     "name": "stdout",
     "output_type": "stream",
     "text": [
      "<class 'set'>\n",
      "1291 from enrolled\n"
     ]
    }
   ],
   "source": [
    "#Missing engagement reports\n",
    "print(type(unique_enrolled_students))\n",
    "\n",
    "for missing in unique_engagement_students:\n",
    "    if missing not in unique_enrolled_students:\n",
    "        print(missing + \" from engagement\")\n",
    "        break\n",
    "\n",
    "for missing in unique_enrolled_students:\n",
    "    if missing not in unique_engagement_students:\n",
    "        if missing not in ('799','926','870','1079'):\n",
    "            print(missing + \" from enrolled\")\n",
    "            break\n"
   ]
  },
  {
   "cell_type": "code",
   "execution_count": 69,
   "metadata": {
    "collapsed": false
   },
   "outputs": [
    {
     "name": "stdout",
     "output_type": "stream",
     "text": [
      "{'status': 'canceled', 'account_key': '926', 'is_udacity': False, 'join_date': datetime.datetime(2015, 4, 6, 0, 0), 'cancel_date': datetime.datetime(2015, 4, 6, 0, 0), 'days_to_cancel': 0, 'is_canceled': True}\n",
      "{'status': 'canceled', 'account_key': '799', 'is_udacity': False, 'join_date': datetime.datetime(2015, 2, 6, 0, 0), 'cancel_date': datetime.datetime(2015, 2, 6, 0, 0), 'days_to_cancel': 0, 'is_canceled': True}\n",
      "{'status': 'canceled', 'account_key': '870', 'is_udacity': False, 'join_date': datetime.datetime(2015, 5, 12, 0, 0), 'cancel_date': datetime.datetime(2015, 5, 12, 0, 0), 'days_to_cancel': 0, 'is_canceled': True}\n",
      "{'status': 'canceled', 'account_key': '1079', 'is_udacity': False, 'join_date': datetime.datetime(2015, 2, 9, 0, 0), 'cancel_date': datetime.datetime(2015, 2, 9, 0, 0), 'days_to_cancel': 0, 'is_canceled': True}\n",
      "988 652\n"
     ]
    }
   ],
   "source": [
    "for enrolled in enrollments:\n",
    "    if enrolled['account_key'] in ('799','926','870','1079'):\n",
    "        print(enrolled)\n",
    "        \n",
    "# def thebest():\n",
    "#   entries = [enr['key2'] for d in list if d['key1']]\n",
    "#   return len(entries), sum(entries)\n",
    "\n",
    "canceled = int()\n",
    "not_canceled = int()\n",
    "\n",
    "for i in enrollments:\n",
    "    if i['status'] == 'canceled':\n",
    "        canceled += 1\n",
    "    else:\n",
    "        not_canceled += 1\n",
    "\n",
    "print(canceled,not_canceled)"
   ]
  },
  {
   "cell_type": "code",
   "execution_count": 70,
   "metadata": {
    "collapsed": false
   },
   "outputs": [
    {
     "name": "stdout",
     "output_type": "stream",
     "text": [
      "988 0\n",
      "Count of days_to_cancel:0 is 92. Count of other values for days_to_cancel is 1548\n"
     ]
    }
   ],
   "source": [
    "canceled = int()\n",
    "not_canceled = int()\n",
    "\n",
    "for i in enrollments:\n",
    "    if i['is_canceled']:\n",
    "        canceled += 1\n",
    "    else:\n",
    "        notCanceled += 1\n",
    "\n",
    "print(canceled,not_canceled)\n",
    "\n",
    "def counter(table,dic,val):\n",
    "    count_true = int()\n",
    "    count_false = int()\n",
    "    for i in table:\n",
    "        if i[dic] == val:\n",
    "            count_true += 1\n",
    "        else:\n",
    "            count_false += 1\n",
    "    print('Count of {0}:{1} is {2}. Count of other values for {0} is {3}'.format(dic,val,count_true,count_false))\n",
    "    del count_true,count_false\n",
    "    \n",
    "counter(enrollments,'days_to_cancel',0)"
   ]
  },
  {
   "cell_type": "code",
   "execution_count": 75,
   "metadata": {
    "collapsed": false
   },
   "outputs": [
    {
     "name": "stdout",
     "output_type": "stream",
     "text": [
      "65\n",
      "Count of days_to_cancel:0 is 68. Count of other values for days_to_cancel is 3\n"
     ]
    }
   ],
   "source": [
    "missing_students = unique_enrolled_students - unique_engagement_students\n",
    "\n",
    "print(len(missing_students))\n",
    "\n",
    "count_true = int()\n",
    "count_false = int()\n",
    "\n",
    "for act in missing_students:\n",
    "    for miss in enrollments:\n",
    "        if act == miss['account_key']:\n",
    "            if miss['days_to_cancel'] == 0:\n",
    "                count_true += 1\n",
    "            else:\n",
    "                count_false += 1\n",
    "\n",
    "print('Count of days_to_cancel:0 is {0}. Count of other values for days_to_cancel is {1}'.format(count_true,count_false))\n",
    "\n",
    "del count_true,count_false\n",
    "            \n",
    "            \n",
    "            "
   ]
  },
  {
   "cell_type": "code",
   "execution_count": 76,
   "metadata": {
    "collapsed": false
   },
   "outputs": [
    {
     "name": "stdout",
     "output_type": "stream",
     "text": [
      "{'status': 'current', 'account_key': '1101', 'is_udacity': True, 'join_date': datetime.datetime(2015, 2, 25, 0, 0), 'cancel_date': None, 'days_to_cancel': None, 'is_canceled': False}\n",
      "{'status': 'canceled', 'account_key': '1304', 'is_udacity': True, 'join_date': datetime.datetime(2015, 1, 10, 0, 0), 'cancel_date': datetime.datetime(2015, 3, 10, 0, 0), 'days_to_cancel': 59, 'is_canceled': True}\n",
      "{'status': 'canceled', 'account_key': '1304', 'is_udacity': True, 'join_date': datetime.datetime(2015, 3, 10, 0, 0), 'cancel_date': datetime.datetime(2015, 6, 17, 0, 0), 'days_to_cancel': 99, 'is_canceled': True}\n"
     ]
    }
   ],
   "source": [
    "for act in missing_students:\n",
    "    for miss in enrollments:\n",
    "        if act == miss['account_key']:\n",
    "            if miss['days_to_cancel'] != 0:\n",
    "                print(miss)"
   ]
  }
 ],
 "metadata": {
  "kernelspec": {
   "display_name": "Python 3",
   "language": "python",
   "name": "python3"
  },
  "language_info": {
   "codemirror_mode": {
    "name": "ipython",
    "version": 3
   },
   "file_extension": ".py",
   "mimetype": "text/x-python",
   "name": "python",
   "nbconvert_exporter": "python",
   "pygments_lexer": "ipython3",
   "version": "3.5.1"
  }
 },
 "nbformat": 4,
 "nbformat_minor": 0
}
