{
 "cells": [
  {
   "cell_type": "code",
   "execution_count": 1,
   "metadata": {
    "collapsed": true
   },
   "outputs": [],
   "source": [
    "#CSVs in Python\n",
    "# Representing a CSV as a list of rows\n",
    "\n",
    "#Option 1: Each row is a list\n",
    "csv = [['A1','A2','A3'],\n",
    "      ['B2', 'B2', 'B3']]\n",
    "\n",
    "#Option 2: \n",
    "csv = [{'name1': 'A1', 'name2': 'A2', 'name3': 'A3'},\n",
    "      {'name1': 'B1', 'name2': 'B2', 'name3': 'B3'}]\n",
    "\n",
    "#better to use libraries, for example unicodecsv"
   ]
  },
  {
   "cell_type": "code",
   "execution_count": 2,
   "metadata": {
    "collapsed": false
   },
   "outputs": [
    {
     "data": {
      "text/plain": [
       "{'account_key': '448',\n",
       " 'cancel_date': '2015-01-27',\n",
       " 'days_to_cancel': '0',\n",
       " 'is_canceled': 'True',\n",
       " 'is_udacity': 'True',\n",
       " 'join_date': '2015-01-27',\n",
       " 'status': 'canceled'}"
      ]
     },
     "execution_count": 2,
     "metadata": {},
     "output_type": "execute_result"
    }
   ],
   "source": [
    "#CSVs in Python\n",
    "import unicodecsv\n",
    "\n",
    "enrollments = []\n",
    "f = open('enrollments.csv', 'rb')\n",
    "reader = unicodecsv.DictReader(f)\n",
    "\n",
    "for row in reader:\n",
    "    enrollments.append(row)\n",
    "    \n",
    "f.close()\n",
    "enrollments[2]"
   ]
  },
  {
   "cell_type": "code",
   "execution_count": 3,
   "metadata": {
    "collapsed": false
   },
   "outputs": [
    {
     "data": {
      "text/plain": [
       "{'account_key': '448',\n",
       " 'cancel_date': '2015-01-27',\n",
       " 'days_to_cancel': '0',\n",
       " 'is_canceled': 'True',\n",
       " 'is_udacity': 'True',\n",
       " 'join_date': '2015-01-27',\n",
       " 'status': 'canceled'}"
      ]
     },
     "execution_count": 3,
     "metadata": {},
     "output_type": "execute_result"
    }
   ],
   "source": [
    "#CSVs in Python\n",
    "#Shorter version of above, using with\n",
    "\n",
    "import unicodecsv\n",
    "\n",
    "with open('enrollments.csv', 'rb') as f:\n",
    "    reader = unicodecsv.DictReader(f)\n",
    "    enrollments = list(reader)\n",
    "    \n",
    "enrollments[2]"
   ]
  },
  {
   "cell_type": "code",
   "execution_count": 4,
   "metadata": {
    "collapsed": false
   },
   "outputs": [
    {
     "name": "stdout",
     "output_type": "stream",
     "text": [
      "{'num_courses_visited': '1.0', 'total_minutes_visited': '11.6793745', 'lessons_completed': '0.0', 'utc_date': '2015-01-09', 'acct': '0', 'projects_completed': '0.0'}\n",
      "{'processing_state': 'EVALUATED', 'lesson_key': '3176718735', 'completion_date': '2015-01-16', 'assigned_rating': 'UNGRADED', 'account_key': '256', 'creation_date': '2015-01-14'}\n"
     ]
    }
   ],
   "source": [
    "#CSVs in Python\n",
    "#Reading in the other files, own code\n",
    "import unicodecsv\n",
    "\n",
    "with open('daily_engagement.csv', 'rb') as f:\n",
    "    reader = unicodecsv.DictReader(f)\n",
    "    daily_engagement = list(reader)\n",
    "    \n",
    "with open('project_submissions.csv', 'rb') as f:\n",
    "    reader = unicodecsv.DictReader(f)\n",
    "    project_submissions = list(reader)\n",
    "    \n",
    "print(daily_engagement[0])\n",
    "print(project_submissions[0])"
   ]
  },
  {
   "cell_type": "code",
   "execution_count": 5,
   "metadata": {
    "collapsed": false
   },
   "outputs": [
    {
     "name": "stdout",
     "output_type": "stream",
     "text": [
      "{'is_canceled': 'True', 'status': 'canceled', 'account_key': '448', 'is_udacity': 'True', 'days_to_cancel': '65', 'cancel_date': '2015-01-14', 'join_date': '2014-11-10'}\n",
      "{'num_courses_visited': '1.0', 'total_minutes_visited': '11.6793745', 'lessons_completed': '0.0', 'utc_date': '2015-01-09', 'acct': '0', 'projects_completed': '0.0'}\n",
      "{'processing_state': 'EVALUATED', 'lesson_key': '3176718735', 'completion_date': '2015-01-16', 'assigned_rating': 'UNGRADED', 'account_key': '256', 'creation_date': '2015-01-14'}\n"
     ]
    }
   ],
   "source": [
    "#CSVs in Python\n",
    "#write as function\n",
    "\n",
    "def read_csv(filename):\n",
    "    with open(filename, 'rb') as f:\n",
    "        reader = unicodecsv.DictReader(f)\n",
    "        return list(reader)\n",
    "\n",
    "enrollments = read_csv('enrollments.csv')\n",
    "daily_engagement = read_csv('daily_engagement.csv')\n",
    "project_submissions = read_csv('project_submissions.csv')\n",
    "\n",
    "print(enrollments[0])\n",
    "print(daily_engagement[0])\n",
    "print(project_submissions[0])"
   ]
  },
  {
   "cell_type": "code",
   "execution_count": 6,
   "metadata": {
    "collapsed": false
   },
   "outputs": [
    {
     "data": {
      "text/plain": [
       "{'account_key': '256',\n",
       " 'assigned_rating': 'UNGRADED',\n",
       " 'completion_date': datetime.datetime(2015, 1, 16, 0, 0),\n",
       " 'creation_date': datetime.datetime(2015, 1, 14, 0, 0),\n",
       " 'lesson_key': '3176718735',\n",
       " 'processing_state': 'EVALUATED'}"
      ]
     },
     "execution_count": 6,
     "metadata": {},
     "output_type": "execute_result"
    }
   ],
   "source": [
    "#Fixing data types\n",
    "#taken from L1_Starter_code\n",
    "from datetime import datetime as dt\n",
    "\n",
    "# Takes a date as a string, and returns a Python datetime object. \n",
    "# If there is no date given, returns None\n",
    "def parse_date(date):\n",
    "    if date == '':\n",
    "        return None\n",
    "    else:\n",
    "        return dt.strptime(date, '%Y-%m-%d')\n",
    "    \n",
    "# Takes a string which is either an empty string or represents an integer,\n",
    "# and returns an int or None.\n",
    "def parse_maybe_int(i):\n",
    "    if i == '':\n",
    "        return None\n",
    "    else:\n",
    "        return int(i)\n",
    "\n",
    "# Clean up the data types in the enrollments table\n",
    "for enrollment in enrollments:\n",
    "    enrollment['cancel_date'] = parse_date(enrollment['cancel_date'])\n",
    "    enrollment['days_to_cancel'] = parse_maybe_int(enrollment['days_to_cancel'])\n",
    "    enrollment['is_canceled'] = enrollment['is_canceled'] == 'True'\n",
    "    enrollment['is_udacity'] = enrollment['is_udacity'] == 'True'\n",
    "    enrollment['join_date'] = parse_date(enrollment['join_date'])\n",
    "    \n",
    "enrollments[0]\n",
    "\n",
    "for engagement_record in daily_engagement:\n",
    "    engagement_record['lessons_completed'] = int(float(engagement_record['lessons_completed']))\n",
    "    engagement_record['num_courses_visited'] = int(float(engagement_record['num_courses_visited']))\n",
    "    engagement_record['projects_completed'] = int(float(engagement_record['projects_completed']))\n",
    "    engagement_record['total_minutes_visited'] = float(engagement_record['total_minutes_visited'])\n",
    "    engagement_record['utc_date'] = parse_date(engagement_record['utc_date'])\n",
    "    \n",
    "daily_engagement[0]\n",
    "\n",
    "# Clean up the data types in the submissions table\n",
    "for submission in project_submissions:\n",
    "    submission['completion_date'] = parse_date(submission['completion_date'])\n",
    "    submission['creation_date'] = parse_date(submission['creation_date'])\n",
    "\n",
    "project_submissions[0]"
   ]
  },
  {
   "cell_type": "code",
   "execution_count": 7,
   "metadata": {
    "collapsed": false
   },
   "outputs": [
    {
     "name": "stdout",
     "output_type": "stream",
     "text": [
      "None\n"
     ]
    }
   ],
   "source": [
    "print(enrollment['cancel_date'])"
   ]
  },
  {
   "cell_type": "markdown",
   "metadata": {},
   "source": [
    "__Quiz: Questions about Student...__\n",
    "1. Does time of day for enrollment affect count or frequency of project submissions?\n",
    "2. Is there a point of daily engagement which noticeably increases or decreases count of project submissions?\n",
    "3. What is the average lessons completed per project submission?\n",
    "4. Of students who have submitted at least 1 project, what is the average number of project submissions within 6 months of enrolling?\n",
    "5. Looking only at students enrolled for at least 3 months, how many have submitted at least 1 project?\n",
    "6. On average, how long does it take to complete 6 projects?"
   ]
  },
  {
   "cell_type": "code",
   "execution_count": null,
   "metadata": {
    "collapsed": true
   },
   "outputs": [],
   "source": []
  },
  {
   "cell_type": "code",
   "execution_count": 8,
   "metadata": {
    "collapsed": false
   },
   "outputs": [
    {
     "name": "stdout",
     "output_type": "stream",
     "text": [
      "Enrollment count: 1640, projects count: 3642, engagement count: 136240\n",
      "Unique enrollments: 1302, Users with project submissions: 743, users with some daily activity: 1237\n"
     ]
    }
   ],
   "source": [
    "#Quiz: Investigating the data\n",
    "enrollments_count = len(enrollments)\n",
    "projects_count = len(project_submissions)\n",
    "engagement_count = len(daily_engagement)\n",
    "\n",
    "print('Enrollment count: {0}, projects count: {1}, engagement count: {2}'.format(enrollments_count,projects_count,engagement_count))\n",
    "\n",
    "def unique_acc(table,col):\n",
    "    accounts = []\n",
    "    for account in table:\n",
    "        if account[col] not in accounts:\n",
    "            accounts.append(account[col])\n",
    "    return len(accounts)\n",
    "\n",
    "enrollments_unique = unique_acc(enrollments,'account_key')\n",
    "projects_unique_users = unique_acc(project_submissions,'account_key')\n",
    "engagement_unique = unique_acc(daily_engagement,'acct')\n",
    "\n",
    "print('Unique enrollments: {0}, Users with project submissions: {1}, users with some daily activity: {2}'.format(enrollments_unique,projects_unique_users,engagement_unique))"
   ]
  },
  {
   "cell_type": "code",
   "execution_count": 9,
   "metadata": {
    "collapsed": false
   },
   "outputs": [
    {
     "name": "stdout",
     "output_type": "stream",
     "text": [
      "1.2978067540097982\n"
     ]
    }
   ],
   "source": [
    "#Same as above, with variable names from course framework\n",
    "\n",
    "import unicodecsv\n",
    "import timeit\n",
    "\n",
    "def read_csv(filename):\n",
    "    with open(filename, 'rb') as f:\n",
    "        reader = unicodecsv.DictReader(f)\n",
    "        return list(reader)\n",
    "\n",
    "#enrollments = read_csv('/datasets/ud170/udacity-students/enrollments.csv')\n",
    "#daily_engagement = read_csv('/datasets/ud170/udacity-students/daily_engagement.csv')\n",
    "#project_submissions = read_csv('/datasets/ud170/udacity-students/project_submissions.csv')\n",
    "    \n",
    "### For each of these three tables, find the number of rows in the table and\n",
    "### the number of unique students in the table. To find the number of unique\n",
    "### students, you might want to create a set of the account keys in each table.\n",
    "start = timeit.default_timer()\n",
    "def unique_acc(table,col):\n",
    "    accounts = []\n",
    "    for account in table:\n",
    "        if account[col] not in accounts:\n",
    "            accounts.append(account[col])\n",
    "    return len(accounts)\n",
    "\n",
    "enrollment_num_rows = len(enrollments)            # Replace this with your code\n",
    "enrollment_num_unique_students = unique_acc(enrollments,'account_key')  # Replace this with your code\n",
    "\n",
    "engagement_num_rows = len(daily_engagement)             # Replace this with your code\n",
    "engagement_num_unique_students = unique_acc(daily_engagement,'acct')  # Replace this with your code\n",
    "\n",
    "submission_num_rows = len(project_submissions)             # Replace this with your code\n",
    "submission_num_unique_students = unique_acc(project_submissions,'account_key')  # Replace this with your code\n",
    "\n",
    "stop = timeit.default_timer()\n",
    "\n",
    "print(stop - start)"
   ]
  },
  {
   "cell_type": "code",
   "execution_count": 10,
   "metadata": {
    "collapsed": false
   },
   "outputs": [
    {
     "name": "stdout",
     "output_type": "stream",
     "text": [
      "0.06136813201010227\n"
     ]
    }
   ],
   "source": [
    "#Quiz: Investigating the data: answer from course video\n",
    "import timeit\n",
    "start = timeit.default_timer()\n",
    "\n",
    "len(enrollments)\n",
    "\n",
    "unique_enrolled_students = set()\n",
    "for enrollment in enrollments:\n",
    "    unique_enrolled_students.add(enrollment['account_key'])\n",
    "len(unique_enrolled_students)\n",
    "\n",
    "len(daily_engagement)\n",
    "\n",
    "unique_engagement_students = set()\n",
    "for engagement_record in daily_engagement:\n",
    "    unique_engagement_students.add(engagement_record['acct'])\n",
    "len(unique_engagement_students)\n",
    "\n",
    "len(project_submissions)\n",
    "\n",
    "unique_project_submitters = set()\n",
    "for submission in project_submissions:\n",
    "    unique_project_submitters.add(submission['account_key'])\n",
    "len(unique_project_submitters)\n",
    "\n",
    "stop = timeit.default_timer()\n",
    "\n",
    "print(stop - start)"
   ]
  },
  {
   "cell_type": "code",
   "execution_count": 11,
   "metadata": {
    "collapsed": false
   },
   "outputs": [
    {
     "name": "stdout",
     "output_type": "stream",
     "text": [
      "{'num_courses_visited': 1, 'total_minutes_visited': 33.4892696667, 'lessons_completed': 0, 'utc_date': datetime.datetime(2015, 1, 12, 0, 0), 'acct': '0', 'projects_completed': 0}\n"
     ]
    }
   ],
   "source": [
    "#Quiz: Problems in the data\n",
    "#Unifying name for account key in all tables (dictionaries)\n",
    "\n",
    "print(daily_engagement[3])#['acct'])\n",
    "\n",
    "for rec in daily_engagement:\n",
    "    rec['account_key'] = rec['acct']\n",
    "    del[rec['acct']]\n",
    "\n"
   ]
  },
  {
   "cell_type": "code",
   "execution_count": 12,
   "metadata": {
    "collapsed": false
   },
   "outputs": [
    {
     "name": "stdout",
     "output_type": "stream",
     "text": [
      "<class 'set'>\n",
      "1273 from enrolled\n"
     ]
    }
   ],
   "source": [
    "#Missing engagement reports\n",
    "print(type(unique_enrolled_students))\n",
    "\n",
    "for missing in unique_engagement_students:\n",
    "    if missing not in unique_enrolled_students:\n",
    "        print(missing + \" from engagement\")\n",
    "        break\n",
    "\n",
    "for missing in unique_enrolled_students:\n",
    "    if missing not in unique_engagement_students:\n",
    "        if missing not in ('799','926','870','1079'):\n",
    "            print(missing + \" from enrolled\")\n",
    "            break\n"
   ]
  },
  {
   "cell_type": "code",
   "execution_count": 13,
   "metadata": {
    "collapsed": false
   },
   "outputs": [
    {
     "name": "stdout",
     "output_type": "stream",
     "text": [
      "{'is_canceled': True, 'status': 'canceled', 'account_key': '926', 'is_udacity': False, 'days_to_cancel': 0, 'cancel_date': datetime.datetime(2015, 4, 6, 0, 0), 'join_date': datetime.datetime(2015, 4, 6, 0, 0)}\n",
      "{'is_canceled': True, 'status': 'canceled', 'account_key': '799', 'is_udacity': False, 'days_to_cancel': 0, 'cancel_date': datetime.datetime(2015, 2, 6, 0, 0), 'join_date': datetime.datetime(2015, 2, 6, 0, 0)}\n",
      "{'is_canceled': True, 'status': 'canceled', 'account_key': '870', 'is_udacity': False, 'days_to_cancel': 0, 'cancel_date': datetime.datetime(2015, 5, 12, 0, 0), 'join_date': datetime.datetime(2015, 5, 12, 0, 0)}\n",
      "{'is_canceled': True, 'status': 'canceled', 'account_key': '1079', 'is_udacity': False, 'days_to_cancel': 0, 'cancel_date': datetime.datetime(2015, 2, 9, 0, 0), 'join_date': datetime.datetime(2015, 2, 9, 0, 0)}\n",
      "988 652\n"
     ]
    }
   ],
   "source": [
    "for enrolled in enrollments:\n",
    "    if enrolled['account_key'] in ('799','926','870','1079'):\n",
    "        print(enrolled)\n",
    "        \n",
    "# def thebest():\n",
    "#   entries = [enr['key2'] for d in list if d['key1']]\n",
    "#   return len(entries), sum(entries)\n",
    "\n",
    "canceled = int()\n",
    "not_canceled = int()\n",
    "\n",
    "for i in enrollments:\n",
    "    if i['status'] == 'canceled':\n",
    "        canceled += 1\n",
    "    else:\n",
    "        not_canceled += 1\n",
    "\n",
    "print(canceled,not_canceled)"
   ]
  },
  {
   "cell_type": "code",
   "execution_count": 14,
   "metadata": {
    "collapsed": false
   },
   "outputs": [
    {
     "name": "stdout",
     "output_type": "stream",
     "text": [
      "988 652\n",
      "Count of days_to_cancel:0 is 92. Count of other values for days_to_cancel is 1548\n"
     ]
    }
   ],
   "source": [
    "canceled = int()\n",
    "not_canceled = int()\n",
    "\n",
    "for i in enrollments:\n",
    "    if i['is_canceled']:\n",
    "        canceled += 1\n",
    "    else:\n",
    "        not_canceled += 1\n",
    "\n",
    "print(canceled,not_canceled)\n",
    "\n",
    "def counter(table,dic,val):\n",
    "    count_true = int()\n",
    "    count_false = int()\n",
    "    for i in table:\n",
    "        if i[dic] == val:\n",
    "            count_true += 1\n",
    "        else:\n",
    "            count_false += 1\n",
    "    print('Count of {0}:{1} is {2}. Count of other values for {0} is {3}'.format(dic,val,count_true,count_false))\n",
    "    del count_true,count_false\n",
    "    \n",
    "counter(enrollments,'days_to_cancel',0)"
   ]
  },
  {
   "cell_type": "code",
   "execution_count": 15,
   "metadata": {
    "collapsed": false
   },
   "outputs": [
    {
     "name": "stdout",
     "output_type": "stream",
     "text": [
      "65\n",
      "Count of days_to_cancel:0 is 68. Count of other values for days_to_cancel is 3\n"
     ]
    }
   ],
   "source": [
    "#quiz checking for more problems\n",
    "missing_students = unique_enrolled_students - unique_engagement_students\n",
    "\n",
    "print(len(missing_students))\n",
    "\n",
    "count_true = int()\n",
    "count_false = int()\n",
    "\n",
    "for act in missing_students:\n",
    "    for miss in enrollments:\n",
    "        if act == miss['account_key']:\n",
    "            if miss['days_to_cancel'] == 0:\n",
    "                count_true += 1\n",
    "            else:\n",
    "                count_false += 1\n",
    "\n",
    "print('Count of days_to_cancel:0 is {0}. Count of other values for days_to_cancel is {1}'.format(count_true,count_false))\n",
    "\n",
    "del count_true,count_false\n",
    "            \n",
    "            \n",
    "            "
   ]
  },
  {
   "cell_type": "code",
   "execution_count": 16,
   "metadata": {
    "collapsed": false
   },
   "outputs": [
    {
     "name": "stdout",
     "output_type": "stream",
     "text": [
      "{'is_canceled': True, 'status': 'canceled', 'account_key': '1304', 'is_udacity': True, 'days_to_cancel': 59, 'cancel_date': datetime.datetime(2015, 3, 10, 0, 0), 'join_date': datetime.datetime(2015, 1, 10, 0, 0)}\n",
      "{'is_canceled': True, 'status': 'canceled', 'account_key': '1304', 'is_udacity': True, 'days_to_cancel': 99, 'cancel_date': datetime.datetime(2015, 6, 17, 0, 0), 'join_date': datetime.datetime(2015, 3, 10, 0, 0)}\n",
      "{'is_canceled': False, 'status': 'current', 'account_key': '1101', 'is_udacity': True, 'days_to_cancel': None, 'cancel_date': None, 'join_date': datetime.datetime(2015, 2, 25, 0, 0)}\n"
     ]
    }
   ],
   "source": [
    "for act in missing_students:\n",
    "    for miss in enrollments:\n",
    "        if act == miss['account_key']:\n",
    "            if miss['days_to_cancel'] != 0:\n",
    "                print(miss)"
   ]
  },
  {
   "cell_type": "code",
   "execution_count": 17,
   "metadata": {
    "collapsed": false
   },
   "outputs": [
    {
     "name": "stdout",
     "output_type": "stream",
     "text": [
      "{'is_canceled': True, 'status': 'canceled', 'account_key': '1304', 'is_udacity': True, 'days_to_cancel': 59, 'cancel_date': datetime.datetime(2015, 3, 10, 0, 0), 'join_date': datetime.datetime(2015, 1, 10, 0, 0)}\n",
      "{'is_canceled': True, 'status': 'canceled', 'account_key': '1304', 'is_udacity': True, 'days_to_cancel': 99, 'cancel_date': datetime.datetime(2015, 6, 17, 0, 0), 'join_date': datetime.datetime(2015, 3, 10, 0, 0)}\n",
      "{'is_canceled': False, 'status': 'current', 'account_key': '1101', 'is_udacity': True, 'days_to_cancel': None, 'cancel_date': None, 'join_date': datetime.datetime(2015, 2, 25, 0, 0)}\n"
     ]
    },
    {
     "data": {
      "text/plain": [
       "3"
      ]
     },
     "execution_count": 17,
     "metadata": {},
     "output_type": "execute_result"
    }
   ],
   "source": [
    "#Quiz: answer from video\n",
    "num_problem_students = 0\n",
    "for enrollment in enrollments:\n",
    "    student = enrollment['account_key']\n",
    "    if (student not in unique_engagement_students and \n",
    "            enrollment['join_date'] != enrollment['cancel_date']):\n",
    "        print(enrollment)\n",
    "        num_problem_students += 1\n",
    "\n",
    "num_problem_students"
   ]
  },
  {
   "cell_type": "code",
   "execution_count": 18,
   "metadata": {
    "collapsed": false
   },
   "outputs": [
    {
     "name": "stdout",
     "output_type": "stream",
     "text": [
      "{'is_canceled': True, 'status': 'canceled', 'account_key': '448', 'is_udacity': True, 'days_to_cancel': 65, 'cancel_date': datetime.datetime(2015, 1, 14, 0, 0), 'join_date': datetime.datetime(2014, 11, 10, 0, 0)}\n",
      "{'is_canceled': True, 'status': 'canceled', 'account_key': '448', 'is_udacity': True, 'days_to_cancel': 5, 'cancel_date': datetime.datetime(2014, 11, 10, 0, 0), 'join_date': datetime.datetime(2014, 11, 5, 0, 0)}\n",
      "{'is_canceled': True, 'status': 'canceled', 'account_key': '448', 'is_udacity': True, 'days_to_cancel': 0, 'cancel_date': datetime.datetime(2015, 1, 27, 0, 0), 'join_date': datetime.datetime(2015, 1, 27, 0, 0)}\n",
      "{'is_canceled': True, 'status': 'canceled', 'account_key': '448', 'is_udacity': True, 'days_to_cancel': 0, 'cancel_date': datetime.datetime(2014, 11, 10, 0, 0), 'join_date': datetime.datetime(2014, 11, 10, 0, 0)}\n",
      "{'is_canceled': False, 'status': 'current', 'account_key': '448', 'is_udacity': True, 'days_to_cancel': None, 'cancel_date': None, 'join_date': datetime.datetime(2015, 3, 10, 0, 0)}\n",
      "{'is_canceled': True, 'status': 'canceled', 'account_key': '448', 'is_udacity': True, 'days_to_cancel': 13, 'cancel_date': datetime.datetime(2015, 1, 27, 0, 0), 'join_date': datetime.datetime(2015, 1, 14, 0, 0)}\n",
      "{'is_canceled': True, 'status': 'canceled', 'account_key': '448', 'is_udacity': True, 'days_to_cancel': 42, 'cancel_date': datetime.datetime(2015, 3, 10, 0, 0), 'join_date': datetime.datetime(2015, 1, 27, 0, 0)}\n",
      "{'is_canceled': True, 'status': 'canceled', 'account_key': '448', 'is_udacity': True, 'days_to_cancel': 0, 'cancel_date': datetime.datetime(2015, 1, 27, 0, 0), 'join_date': datetime.datetime(2015, 1, 27, 0, 0)}\n",
      "{'is_canceled': True, 'status': 'canceled', 'account_key': '448', 'is_udacity': True, 'days_to_cancel': 0, 'cancel_date': datetime.datetime(2015, 1, 27, 0, 0), 'join_date': datetime.datetime(2015, 1, 27, 0, 0)}\n",
      "{'is_canceled': True, 'status': 'canceled', 'account_key': '1304', 'is_udacity': True, 'days_to_cancel': 59, 'cancel_date': datetime.datetime(2015, 3, 10, 0, 0), 'join_date': datetime.datetime(2015, 1, 10, 0, 0)}\n",
      "{'is_canceled': True, 'status': 'canceled', 'account_key': '1304', 'is_udacity': True, 'days_to_cancel': 99, 'cancel_date': datetime.datetime(2015, 6, 17, 0, 0), 'join_date': datetime.datetime(2015, 3, 10, 0, 0)}\n",
      "{'is_canceled': True, 'status': 'canceled', 'account_key': '312', 'is_udacity': True, 'days_to_cancel': 120, 'cancel_date': datetime.datetime(2015, 3, 10, 0, 0), 'join_date': datetime.datetime(2014, 11, 10, 0, 0)}\n",
      "{'is_canceled': True, 'status': 'canceled', 'account_key': '312', 'is_udacity': True, 'days_to_cancel': 22, 'cancel_date': datetime.datetime(2015, 4, 1, 0, 0), 'join_date': datetime.datetime(2015, 3, 10, 0, 0)}\n",
      "{'is_canceled': True, 'status': 'canceled', 'account_key': '312', 'is_udacity': True, 'days_to_cancel': 92, 'cancel_date': datetime.datetime(2015, 7, 2, 0, 0), 'join_date': datetime.datetime(2015, 4, 1, 0, 0)}\n",
      "{'is_canceled': False, 'status': 'current', 'account_key': '312', 'is_udacity': True, 'days_to_cancel': None, 'cancel_date': None, 'join_date': datetime.datetime(2015, 7, 8, 0, 0)}\n",
      "{'is_canceled': True, 'status': 'canceled', 'account_key': '818', 'is_udacity': True, 'days_to_cancel': 5, 'cancel_date': datetime.datetime(2015, 1, 12, 0, 0), 'join_date': datetime.datetime(2015, 1, 7, 0, 0)}\n",
      "{'is_canceled': True, 'status': 'canceled', 'account_key': '1069', 'is_udacity': True, 'days_to_cancel': 0, 'cancel_date': datetime.datetime(2015, 6, 1, 0, 0), 'join_date': datetime.datetime(2015, 6, 1, 0, 0)}\n",
      "{'is_canceled': False, 'status': 'current', 'account_key': '1101', 'is_udacity': True, 'days_to_cancel': None, 'cancel_date': None, 'join_date': datetime.datetime(2015, 2, 25, 0, 0)}\n",
      "18\n"
     ]
    }
   ],
   "source": [
    "testers = list()\n",
    "\n",
    "for tester in enrollments:\n",
    "    if tester['is_udacity']:\n",
    "        print(tester)\n",
    "        testers.append(tester)\n",
    "\n",
    "print(len(testers))"
   ]
  },
  {
   "cell_type": "code",
   "execution_count": 19,
   "metadata": {
    "collapsed": false
   },
   "outputs": [
    {
     "name": "stdout",
     "output_type": "stream",
     "text": [
      "{'448', '312', '1069', '818', '1304', '1101'}\n"
     ]
    }
   ],
   "source": [
    "#above we see there's test users in the dataset. Writing function to remove them.\n",
    "test_accounts = set()\n",
    "\n",
    "for i in testers:\n",
    "    test_accounts.add(i['account_key'])\n",
    "\n",
    "def remove_udacity(table):\n",
    "    new = list()\n",
    "    for row in table:\n",
    "        if row['account_key'] not in test_accounts:\n",
    "            new.append(row)\n",
    "    return new\n",
    "            \n",
    "print(test_accounts)"
   ]
  },
  {
   "cell_type": "code",
   "execution_count": 20,
   "metadata": {
    "collapsed": false
   },
   "outputs": [
    {
     "name": "stdout",
     "output_type": "stream",
     "text": [
      "1640\n",
      "1622\n",
      "{'is_canceled': False, 'status': 'current', 'account_key': '448', 'is_udacity': True, 'days_to_cancel': None, 'cancel_date': None, 'join_date': datetime.datetime(2015, 3, 10, 0, 0)}\n",
      "{'is_canceled': True, 'status': 'canceled', 'account_key': '1300', 'is_udacity': False, 'days_to_cancel': 6, 'cancel_date': datetime.datetime(2014, 11, 16, 0, 0), 'join_date': datetime.datetime(2014, 11, 10, 0, 0)}\n",
      "3642\n",
      "3634\n",
      "{'processing_state': 'EVALUATED', 'lesson_key': '3176718735', 'completion_date': datetime.datetime(2015, 3, 3, 0, 0), 'assigned_rating': 'INCOMPLETE', 'account_key': '434', 'creation_date': datetime.datetime(2015, 2, 17, 0, 0)}\n",
      "{'processing_state': 'EVALUATED', 'lesson_key': '3176718735', 'completion_date': datetime.datetime(2015, 3, 3, 0, 0), 'assigned_rating': 'INCOMPLETE', 'account_key': '434', 'creation_date': datetime.datetime(2015, 2, 17, 0, 0)}\n",
      "136240\n",
      "135656\n",
      "{'num_courses_visited': 1, 'total_minutes_visited': 64.7796776667, 'lessons_completed': 0, 'utc_date': datetime.datetime(2015, 1, 13, 0, 0), 'account_key': '0', 'projects_completed': 0}\n",
      "{'num_courses_visited': 1, 'total_minutes_visited': 64.7796776667, 'lessons_completed': 0, 'utc_date': datetime.datetime(2015, 1, 13, 0, 0), 'account_key': '0', 'projects_completed': 0}\n"
     ]
    }
   ],
   "source": [
    "#removing test users\n",
    "enrollments_non_udacity = remove_udacity(enrollments)\n",
    "project_submissions_non_udacity = remove_udacity(project_submissions)\n",
    "daily_engagement_non_udacity = remove_udacity(daily_engagement)\n",
    "\n",
    "print(len(enrollments))\n",
    "print(len(enrollments_non_udacity))\n",
    "print(enrollments[4])\n",
    "print(enrollments_non_udacity[6])\n",
    "\n",
    "print(len(project_submissions))\n",
    "print(len(project_submissions_non_udacity))\n",
    "print(project_submissions[4])\n",
    "print(project_submissions_non_udacity[4])\n",
    "\n",
    "print(len(daily_engagement))\n",
    "print(len(daily_engagement_non_udacity))\n",
    "print(daily_engagement[4])\n",
    "print(daily_engagement_non_udacity[4])\n"
   ]
  },
  {
   "cell_type": "code",
   "execution_count": 21,
   "metadata": {
    "collapsed": false
   },
   "outputs": [
    {
     "name": "stdout",
     "output_type": "stream",
     "text": [
      "995\n",
      "990 2015-08-23 00:00:00\n",
      "796 2015-04-07 00:00:00\n",
      "228 2015-05-07 00:00:00\n",
      "101 2014-11-12 00:00:00\n",
      "468 2015-04-02 00:00:00\n"
     ]
    }
   ],
   "source": [
    "#Quiz: refining the question\n",
    "'''\n",
    "Exploration question: How do numbers in the daily engagement table differ for students who pass their first project?\n",
    "Revision after identifying Q problem areas: Only look at engagement from first week,\n",
    "and exclude students who cancel within a week\n",
    "'''\n",
    "\n",
    "#Creating table (dictionary). Conditions: have not canceled or have stayed enrolled more than 7 days.\n",
    "#Keys account_key, values enrollment_date\n",
    "paid_students = {}\n",
    "\n",
    "for paid in enrollments_non_udacity:\n",
    "    if paid['cancel_date'] == None or paid['days_to_cancel'] > 7:\n",
    "        account_key = paid['account_key']\n",
    "        enrollment_date = paid['join_date']\n",
    "        #if statement to ensure we're keeping the latest enrollment_date\n",
    "        if account_key not in paid_students or paid_students[account_key] < enrollment_date:\n",
    "            paid_students[account_key] = enrollment_date\n",
    "        \n",
    "print(len(paid_students))\n",
    "\n",
    "co = 0\n",
    "for rec in paid_students:\n",
    "    co += 1 \n",
    "    print(rec,paid_students[rec])\n",
    "    if co == 5:\n",
    "        break\n",
    "        "
   ]
  },
  {
   "cell_type": "code",
   "execution_count": 72,
   "metadata": {
    "collapsed": false
   },
   "outputs": [
    {
     "name": "stdout",
     "output_type": "stream",
     "text": [
      "135656\n",
      "21508\n",
      "[{'num_courses_visited': 0, 'total_minutes_visited': 0.0, 'lessons_completed': 0, 'utc_date': datetime.datetime(2015, 8, 24, 0, 0), 'account_key': '990', 'projects_completed': 0}, {'num_courses_visited': 2, 'total_minutes_visited': 47.1120331667, 'lessons_completed': 0, 'utc_date': datetime.datetime(2015, 8, 25, 0, 0), 'account_key': '990', 'projects_completed': 0}, {'num_courses_visited': 0, 'total_minutes_visited': 0.0, 'lessons_completed': 0, 'utc_date': datetime.datetime(2015, 8, 26, 0, 0), 'account_key': '990', 'projects_completed': 0}, {'num_courses_visited': 2, 'total_minutes_visited': 55.8003148334, 'lessons_completed': 0, 'utc_date': datetime.datetime(2015, 8, 27, 0, 0), 'account_key': '990', 'projects_completed': 0}, {'num_courses_visited': 0, 'total_minutes_visited': 0.0, 'lessons_completed': 0, 'utc_date': datetime.datetime(2015, 4, 7, 0, 0), 'account_key': '796', 'projects_completed': 0}, {'num_courses_visited': 0, 'total_minutes_visited': 0.0, 'lessons_completed': 0, 'utc_date': datetime.datetime(2015, 4, 8, 0, 0), 'account_key': '796', 'projects_completed': 0}, {'num_courses_visited': 0, 'total_minutes_visited': 0.0, 'lessons_completed': 0, 'utc_date': datetime.datetime(2015, 4, 9, 0, 0), 'account_key': '796', 'projects_completed': 0}, {'num_courses_visited': 0, 'total_minutes_visited': 0.0, 'lessons_completed': 0, 'utc_date': datetime.datetime(2015, 4, 10, 0, 0), 'account_key': '796', 'projects_completed': 0}, {'num_courses_visited': 0, 'total_minutes_visited': 0.0, 'lessons_completed': 0, 'utc_date': datetime.datetime(2015, 4, 11, 0, 0), 'account_key': '796', 'projects_completed': 0}]\n",
      "30.85944929899415\n"
     ]
    }
   ],
   "source": [
    "#Quiz: getting data from first week\n",
    "stop = timeit.default_timer()\n",
    "\n",
    "def within_one_week(join_date, engagement_date):\n",
    "    time_delta = engagement_date - join_date\n",
    "    return time_delta.days < 7\n",
    "\n",
    "engagement_first_week = []\n",
    "\n",
    "for row in paid_students:\n",
    "    for day in daily_engagement_non_udacity:\n",
    "        if row == day['account_key']:\n",
    "            if within_one_week(paid_students[row],day['utc_date']):\n",
    "                engagement_first_week.append(day)\n",
    "\n",
    "print(len(daily_engagement_non_udacity))\n",
    "print(len(engagement_first_week))\n",
    "print(engagement_first_week[1:10])\n",
    "\n",
    "stop = timeit.default_timer()\n",
    "\n",
    "print(stop - start)"
   ]
  },
  {
   "cell_type": "code",
   "execution_count": 71,
   "metadata": {
    "collapsed": false
   },
   "outputs": [
    {
     "name": "stdout",
     "output_type": "stream",
     "text": [
      "1293\n",
      "134549\n",
      "3618\n",
      "135656\n",
      "21508\n",
      "[{'num_courses_visited': 0, 'total_minutes_visited': 0.0, 'lessons_completed': 0, 'utc_date': datetime.datetime(2015, 8, 24, 0, 0), 'account_key': '990', 'projects_completed': 0}, {'num_courses_visited': 2, 'total_minutes_visited': 47.1120331667, 'lessons_completed': 0, 'utc_date': datetime.datetime(2015, 8, 25, 0, 0), 'account_key': '990', 'projects_completed': 0}, {'num_courses_visited': 0, 'total_minutes_visited': 0.0, 'lessons_completed': 0, 'utc_date': datetime.datetime(2015, 8, 26, 0, 0), 'account_key': '990', 'projects_completed': 0}, {'num_courses_visited': 2, 'total_minutes_visited': 55.8003148334, 'lessons_completed': 0, 'utc_date': datetime.datetime(2015, 8, 27, 0, 0), 'account_key': '990', 'projects_completed': 0}, {'num_courses_visited': 0, 'total_minutes_visited': 0.0, 'lessons_completed': 0, 'utc_date': datetime.datetime(2015, 4, 7, 0, 0), 'account_key': '796', 'projects_completed': 0}, {'num_courses_visited': 0, 'total_minutes_visited': 0.0, 'lessons_completed': 0, 'utc_date': datetime.datetime(2015, 4, 8, 0, 0), 'account_key': '796', 'projects_completed': 0}, {'num_courses_visited': 0, 'total_minutes_visited': 0.0, 'lessons_completed': 0, 'utc_date': datetime.datetime(2015, 4, 9, 0, 0), 'account_key': '796', 'projects_completed': 0}, {'num_courses_visited': 0, 'total_minutes_visited': 0.0, 'lessons_completed': 0, 'utc_date': datetime.datetime(2015, 4, 10, 0, 0), 'account_key': '796', 'projects_completed': 0}, {'num_courses_visited': 0, 'total_minutes_visited': 0.0, 'lessons_completed': 0, 'utc_date': datetime.datetime(2015, 4, 11, 0, 0), 'account_key': '796', 'projects_completed': 0}]\n",
      "0.15490214599412866\n"
     ]
    }
   ],
   "source": [
    "#Quiz: getting data from first week, answer from video. Written here to test performance vs own solution\n",
    "\n",
    "start = timeit.default_timer()\n",
    "\n",
    "def remove_free_trial_cancels(data):\n",
    "    new_data = []\n",
    "    for data_point in data:\n",
    "        if data_point['account_key'] in paid_students:\n",
    "            new_data.append(data_point)\n",
    "    return new_data\n",
    "\n",
    "paid_enrollments = remove_free_trial_cancels(enrollments_non_udacity)\n",
    "paid_engagement = remove_free_trial_cancels(daily_engagement_non_udacity)\n",
    "paid_submissions = remove_free_trial_cancels(project_submissions_non_udacity)\n",
    "\n",
    "print(len(paid_enrollments))\n",
    "print(len(paid_engagement))\n",
    "print(len(paid_submissions))\n",
    "\n",
    "paid_engagement_in_first_week = []\n",
    "for engagement_record in paid_engagement:\n",
    "    account_key = engagement_record['account_key']\n",
    "    join_date = paid_students[account_key]\n",
    "    engagement_record_date = engagement_record['utc_date']\n",
    "\n",
    "    if within_one_week(join_date, engagement_record_date):\n",
    "        paid_engagement_in_first_week.append(engagement_record)\n",
    "\n",
    "print(len(daily_engagement_non_udacity))\n",
    "print(len(engagement_first_week))\n",
    "print(engagement_first_week[1:10])\n",
    "\n",
    "stop = timeit.default_timer()\n",
    "\n",
    "print(stop - start)"
   ]
  },
  {
   "cell_type": "code",
   "execution_count": 73,
   "metadata": {
    "collapsed": true
   },
   "outputs": [],
   "source": [
    "#Exploring student engagement, code from video\n",
    "from collections import defaultdict\n",
    "\n",
    "# Create a dictionary of engagement grouped by student.\n",
    "# The keys are account keys, and the values are lists of engagement records.\n",
    "engagement_by_account = defaultdict(list)\n",
    "for engagement_record in paid_engagement_in_first_week:\n",
    "    account_key = engagement_record['account_key']\n",
    "    engagement_by_account[account_key].append(engagement_record)"
   ]
  },
  {
   "cell_type": "code",
   "execution_count": 74,
   "metadata": {
    "collapsed": true
   },
   "outputs": [],
   "source": [
    "#Exploring student engagement, code from video\n",
    "\n",
    "\n",
    "# Create a dictionary with the total minutes each student spent in the classroom during the first week.\n",
    "# The keys are account keys, and the values are numbers (total minutes)\n",
    "total_minutes_by_account = {}\n",
    "for account_key, engagement_for_student in engagement_by_account.items():\n",
    "    total_minutes = 0\n",
    "    for engagement_record in engagement_for_student:\n",
    "        total_minutes += engagement_record['total_minutes_visited']\n",
    "    total_minutes_by_account[account_key] = total_minutes"
   ]
  },
  {
   "cell_type": "code",
   "execution_count": 79,
   "metadata": {
    "collapsed": false
   },
   "outputs": [
    {
     "name": "stdout",
     "output_type": "stream",
     "text": [
      "Mean: 647.590173826\n",
      "Standard deviation: 1129.27121042\n",
      "Minimum: 0.0\n",
      "Maximum: 10568.1008673\n"
     ]
    }
   ],
   "source": [
    "#Exploring student engagement, code from video\n",
    "#My edit: made total_minutes into list, a necessity in Python 3\n",
    "\n",
    "import numpy as np\n",
    "\n",
    "# Summarize the data about minutes spent in the classroom\n",
    "total_minutes = list(total_minutes_by_account.values())\n",
    "print('Mean:', np.mean(total_minutes))\n",
    "print('Standard deviation:', np.std(total_minutes))\n",
    "print('Minimum:', np.min(total_minutes))\n",
    "print('Maximum:', np.max(total_minutes))"
   ]
  },
  {
   "cell_type": "markdown",
   "metadata": {},
   "source": [
    "We here see that maximum is greater than total number of hours in the week. It's time for debugging."
   ]
  },
  {
   "cell_type": "code",
   "execution_count": 116,
   "metadata": {
    "collapsed": false
   },
   "outputs": [
    {
     "name": "stdout",
     "output_type": "stream",
     "text": [
      "Minutes in a week: 10080\n",
      "ID: 108    Minutes: 10568.1   fraction of week: 1.05\n",
      "ID: 460    Minutes: 7482.94   fraction of week: 0.74\n",
      "ID: 140    Minutes: 7263.99   fraction of week: 0.72\n",
      "ID: 78    Minutes: 7229.79   fraction of week: 0.72\n",
      "ID: 412    Minutes: 6882.98   fraction of week: 0.68\n",
      "ID: 142    Minutes: 6709.42   fraction of week: 0.67\n",
      "ID: 366    Minutes: 6284.62   fraction of week: 0.62\n",
      "ID: 191    Minutes: 6027.85   fraction of week: 0.6\n",
      "ID: 74    Minutes: 5879.23   fraction of week: 0.58\n",
      "ID: 558    Minutes: 5822.26   fraction of week: 0.58\n"
     ]
    }
   ],
   "source": [
    "import operator\n",
    "\n",
    "sorted_total = sorted(total_minutes_by_account.items(), key=operator.itemgetter(1),reverse=True)\n",
    "\n",
    "minutes_in_week = 60*24*7\n",
    "print('Minutes in a week: {0}'.format(minutes_in_week))\n",
    "\n",
    "for i in sorted_total[0:10]:\n",
    "    print('ID: {0}    Minutes: {1}   fraction of week: {2}'.format(i[0],round(i[1],2),round((i[1]/minutes_in_week),2)))\n",
    "    "
   ]
  },
  {
   "cell_type": "code",
   "execution_count": 112,
   "metadata": {
    "collapsed": false
   },
   "outputs": [
    {
     "data": {
      "text/plain": [
       "3741.467781333206"
      ]
     },
     "execution_count": 112,
     "metadata": {},
     "output_type": "execute_result"
    }
   ],
   "source": [
    "sorted_total[1][1]/2"
   ]
  }
 ],
 "metadata": {
  "kernelspec": {
   "display_name": "Python 3",
   "language": "python",
   "name": "python3"
  },
  "language_info": {
   "codemirror_mode": {
    "name": "ipython",
    "version": 3
   },
   "file_extension": ".py",
   "mimetype": "text/x-python",
   "name": "python",
   "nbconvert_exporter": "python",
   "pygments_lexer": "ipython3",
   "version": "3.5.1"
  }
 },
 "nbformat": 4,
 "nbformat_minor": 0
}
