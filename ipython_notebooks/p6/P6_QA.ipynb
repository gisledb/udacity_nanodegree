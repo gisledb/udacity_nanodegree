{
 "cells": [
  {
   "cell_type": "code",
   "execution_count": 1,
   "metadata": {},
   "outputs": [],
   "source": [
    "import pandas as pd\n",
    "import numpy as np\n",
    "import matplotlib.pyplot as plt\n",
    "from IPython.display import display, Markdown\n",
    "%matplotlib inline"
   ]
  },
  {
   "cell_type": "code",
   "execution_count": 4,
   "metadata": {},
   "outputs": [],
   "source": [
    "df = pd.read_csv('Project/data_files/san_francisco/airbnb_union.csv')"
   ]
  },
  {
   "cell_type": "code",
   "execution_count": 5,
   "metadata": {},
   "outputs": [
    {
     "data": {
      "text/html": [
       "<div>\n",
       "<style scoped>\n",
       "    .dataframe tbody tr th:only-of-type {\n",
       "        vertical-align: middle;\n",
       "    }\n",
       "\n",
       "    .dataframe tbody tr th {\n",
       "        vertical-align: top;\n",
       "    }\n",
       "\n",
       "    .dataframe thead th {\n",
       "        text-align: right;\n",
       "    }\n",
       "</style>\n",
       "<table border=\"1\" class=\"dataframe\">\n",
       "  <thead>\n",
       "    <tr style=\"text-align: right;\">\n",
       "      <th></th>\n",
       "      <th>room_id</th>\n",
       "      <th>host_id</th>\n",
       "      <th>borough</th>\n",
       "      <th>reviews</th>\n",
       "      <th>overall_satisfaction</th>\n",
       "      <th>accommodates</th>\n",
       "      <th>bedrooms</th>\n",
       "      <th>price</th>\n",
       "      <th>minstay</th>\n",
       "      <th>latitude</th>\n",
       "      <th>longitude</th>\n",
       "    </tr>\n",
       "  </thead>\n",
       "  <tbody>\n",
       "    <tr>\n",
       "      <th>count</th>\n",
       "      <td>2.055320e+05</td>\n",
       "      <td>2.055260e+05</td>\n",
       "      <td>0.0</td>\n",
       "      <td>205483.000000</td>\n",
       "      <td>159178.000000</td>\n",
       "      <td>197111.000000</td>\n",
       "      <td>194842.000000</td>\n",
       "      <td>205532.000000</td>\n",
       "      <td>134055.000000</td>\n",
       "      <td>205532.000000</td>\n",
       "      <td>205532.000000</td>\n",
       "    </tr>\n",
       "    <tr>\n",
       "      <th>mean</th>\n",
       "      <td>7.020337e+06</td>\n",
       "      <td>1.820178e+07</td>\n",
       "      <td>NaN</td>\n",
       "      <td>21.064959</td>\n",
       "      <td>3.959432</td>\n",
       "      <td>3.082111</td>\n",
       "      <td>1.346198</td>\n",
       "      <td>252.027290</td>\n",
       "      <td>3.528656</td>\n",
       "      <td>37.768150</td>\n",
       "      <td>-122.430243</td>\n",
       "    </tr>\n",
       "    <tr>\n",
       "      <th>std</th>\n",
       "      <td>4.841478e+06</td>\n",
       "      <td>2.250471e+07</td>\n",
       "      <td>NaN</td>\n",
       "      <td>39.716682</td>\n",
       "      <td>1.807185</td>\n",
       "      <td>1.931360</td>\n",
       "      <td>0.897208</td>\n",
       "      <td>437.442457</td>\n",
       "      <td>9.051024</td>\n",
       "      <td>0.021394</td>\n",
       "      <td>0.025123</td>\n",
       "    </tr>\n",
       "    <tr>\n",
       "      <th>min</th>\n",
       "      <td>9.580000e+02</td>\n",
       "      <td>4.600000e+01</td>\n",
       "      <td>NaN</td>\n",
       "      <td>0.000000</td>\n",
       "      <td>0.000000</td>\n",
       "      <td>1.000000</td>\n",
       "      <td>0.000000</td>\n",
       "      <td>0.000000</td>\n",
       "      <td>1.000000</td>\n",
       "      <td>37.708278</td>\n",
       "      <td>-122.513065</td>\n",
       "    </tr>\n",
       "    <tr>\n",
       "      <th>25%</th>\n",
       "      <td>2.433743e+06</td>\n",
       "      <td>2.597104e+06</td>\n",
       "      <td>NaN</td>\n",
       "      <td>1.000000</td>\n",
       "      <td>4.500000</td>\n",
       "      <td>2.000000</td>\n",
       "      <td>1.000000</td>\n",
       "      <td>108.000000</td>\n",
       "      <td>1.000000</td>\n",
       "      <td>37.754118</td>\n",
       "      <td>-122.441740</td>\n",
       "    </tr>\n",
       "    <tr>\n",
       "      <th>50%</th>\n",
       "      <td>6.988943e+06</td>\n",
       "      <td>8.539143e+06</td>\n",
       "      <td>NaN</td>\n",
       "      <td>5.000000</td>\n",
       "      <td>5.000000</td>\n",
       "      <td>2.000000</td>\n",
       "      <td>1.000000</td>\n",
       "      <td>167.000000</td>\n",
       "      <td>2.000000</td>\n",
       "      <td>37.770237</td>\n",
       "      <td>-122.425592</td>\n",
       "    </tr>\n",
       "    <tr>\n",
       "      <th>75%</th>\n",
       "      <td>1.077237e+07</td>\n",
       "      <td>2.580596e+07</td>\n",
       "      <td>NaN</td>\n",
       "      <td>22.000000</td>\n",
       "      <td>5.000000</td>\n",
       "      <td>4.000000</td>\n",
       "      <td>2.000000</td>\n",
       "      <td>256.000000</td>\n",
       "      <td>3.000000</td>\n",
       "      <td>37.785236</td>\n",
       "      <td>-122.412920</td>\n",
       "    </tr>\n",
       "    <tr>\n",
       "      <th>max</th>\n",
       "      <td>1.978199e+07</td>\n",
       "      <td>1.395538e+08</td>\n",
       "      <td>NaN</td>\n",
       "      <td>513.000000</td>\n",
       "      <td>5.000000</td>\n",
       "      <td>18.000000</td>\n",
       "      <td>10.000000</td>\n",
       "      <td>30000.000000</td>\n",
       "      <td>1000.000000</td>\n",
       "      <td>37.831093</td>\n",
       "      <td>-122.363243</td>\n",
       "    </tr>\n",
       "  </tbody>\n",
       "</table>\n",
       "</div>"
      ],
      "text/plain": [
       "            room_id       host_id  borough        reviews  \\\n",
       "count  2.055320e+05  2.055260e+05      0.0  205483.000000   \n",
       "mean   7.020337e+06  1.820178e+07      NaN      21.064959   \n",
       "std    4.841478e+06  2.250471e+07      NaN      39.716682   \n",
       "min    9.580000e+02  4.600000e+01      NaN       0.000000   \n",
       "25%    2.433743e+06  2.597104e+06      NaN       1.000000   \n",
       "50%    6.988943e+06  8.539143e+06      NaN       5.000000   \n",
       "75%    1.077237e+07  2.580596e+07      NaN      22.000000   \n",
       "max    1.978199e+07  1.395538e+08      NaN     513.000000   \n",
       "\n",
       "       overall_satisfaction   accommodates       bedrooms          price  \\\n",
       "count         159178.000000  197111.000000  194842.000000  205532.000000   \n",
       "mean               3.959432       3.082111       1.346198     252.027290   \n",
       "std                1.807185       1.931360       0.897208     437.442457   \n",
       "min                0.000000       1.000000       0.000000       0.000000   \n",
       "25%                4.500000       2.000000       1.000000     108.000000   \n",
       "50%                5.000000       2.000000       1.000000     167.000000   \n",
       "75%                5.000000       4.000000       2.000000     256.000000   \n",
       "max                5.000000      18.000000      10.000000   30000.000000   \n",
       "\n",
       "             minstay       latitude      longitude  \n",
       "count  134055.000000  205532.000000  205532.000000  \n",
       "mean        3.528656      37.768150    -122.430243  \n",
       "std         9.051024       0.021394       0.025123  \n",
       "min         1.000000      37.708278    -122.513065  \n",
       "25%         1.000000      37.754118    -122.441740  \n",
       "50%         2.000000      37.770237    -122.425592  \n",
       "75%         3.000000      37.785236    -122.412920  \n",
       "max      1000.000000      37.831093    -122.363243  "
      ]
     },
     "execution_count": 5,
     "metadata": {},
     "output_type": "execute_result"
    }
   ],
   "source": [
    "df.describe()"
   ]
  },
  {
   "cell_type": "code",
   "execution_count": 6,
   "metadata": {},
   "outputs": [
    {
     "name": "stdout",
     "output_type": "stream",
     "text": [
      "<class 'pandas.core.frame.DataFrame'>\n",
      "RangeIndex: 205532 entries, 0 to 205531\n",
      "Data columns (total 15 columns):\n",
      "room_id                 205532 non-null int64\n",
      "host_id                 205526 non-null float64\n",
      "room_type               205489 non-null object\n",
      "borough                 0 non-null float64\n",
      "neighborhood            205532 non-null object\n",
      "reviews                 205483 non-null float64\n",
      "overall_satisfaction    159178 non-null float64\n",
      "accommodates            197111 non-null float64\n",
      "bedrooms                194842 non-null float64\n",
      "price                   205532 non-null int64\n",
      "minstay                 134055 non-null float64\n",
      "latitude                205532 non-null float64\n",
      "longitude               205532 non-null float64\n",
      "last_modified           205532 non-null object\n",
      "date_collected          205532 non-null object\n",
      "dtypes: float64(9), int64(2), object(4)\n",
      "memory usage: 23.5+ MB\n"
     ]
    }
   ],
   "source": [
    "df.info()"
   ]
  },
  {
   "cell_type": "code",
   "execution_count": 8,
   "metadata": {},
   "outputs": [
    {
     "data": {
      "text/plain": [
       "room_type\n",
       "Entire home/apt    121681\n",
       "Private room        76404\n",
       "Shared room          7404\n",
       "Name: room_type, dtype: int64"
      ]
     },
     "metadata": {},
     "output_type": "display_data"
    }
   ],
   "source": [
    "display(df.groupby('room_type')['room_type'].count())"
   ]
  },
  {
   "cell_type": "code",
   "execution_count": 43,
   "metadata": {},
   "outputs": [],
   "source": [
    "host_grouped = df[df['room_type'] == 'Entire home/apt'].\\\n",
    "groupby(['date_collected','host_id'])['room_id'].count().to_frame()"
   ]
  },
  {
   "cell_type": "code",
   "execution_count": 44,
   "metadata": {},
   "outputs": [
    {
     "data": {
      "text/html": [
       "<div>\n",
       "<style scoped>\n",
       "    .dataframe tbody tr th:only-of-type {\n",
       "        vertical-align: middle;\n",
       "    }\n",
       "\n",
       "    .dataframe tbody tr th {\n",
       "        vertical-align: top;\n",
       "    }\n",
       "\n",
       "    .dataframe thead th {\n",
       "        text-align: right;\n",
       "    }\n",
       "</style>\n",
       "<table border=\"1\" class=\"dataframe\">\n",
       "  <thead>\n",
       "    <tr style=\"text-align: right;\">\n",
       "      <th></th>\n",
       "      <th></th>\n",
       "      <th>room_id</th>\n",
       "    </tr>\n",
       "    <tr>\n",
       "      <th>date_collected</th>\n",
       "      <th>host_id</th>\n",
       "      <th></th>\n",
       "    </tr>\n",
       "  </thead>\n",
       "  <tbody>\n",
       "    <tr>\n",
       "      <th rowspan=\"5\" valign=\"top\">2017-07-10</th>\n",
       "      <th>139004053.0</th>\n",
       "      <td>1</td>\n",
       "    </tr>\n",
       "    <tr>\n",
       "      <th>139132883.0</th>\n",
       "      <td>1</td>\n",
       "    </tr>\n",
       "    <tr>\n",
       "      <th>139134376.0</th>\n",
       "      <td>1</td>\n",
       "    </tr>\n",
       "    <tr>\n",
       "      <th>139315170.0</th>\n",
       "      <td>1</td>\n",
       "    </tr>\n",
       "    <tr>\n",
       "      <th>139553832.0</th>\n",
       "      <td>1</td>\n",
       "    </tr>\n",
       "  </tbody>\n",
       "</table>\n",
       "</div>"
      ],
      "text/plain": [
       "                            room_id\n",
       "date_collected host_id             \n",
       "2017-07-10     139004053.0        1\n",
       "               139132883.0        1\n",
       "               139134376.0        1\n",
       "               139315170.0        1\n",
       "               139553832.0        1"
      ]
     },
     "execution_count": 44,
     "metadata": {},
     "output_type": "execute_result"
    }
   ],
   "source": [
    "host_grouped.tail()"
   ]
  },
  {
   "cell_type": "code",
   "execution_count": 42,
   "metadata": {},
   "outputs": [
    {
     "name": "stdout",
     "output_type": "stream",
     "text": [
      "<class 'pandas.core.frame.DataFrame'>\n",
      "MultiIndex: 20 entries, (2013-11-17, 38836.0) to (2013-11-17, 652918.0)\n",
      "Data columns (total 1 columns):\n",
      "room_id    20 non-null int64\n",
      "dtypes: int64(1)\n",
      "memory usage: 95.4+ KB\n"
     ]
    }
   ],
   "source": [
    "host_grouped.info()"
   ]
  },
  {
   "cell_type": "code",
   "execution_count": 72,
   "metadata": {},
   "outputs": [],
   "source": [
    "host_grouped['bin'] = pd.cut(x = host_grouped['room_id'], bins =[0,1,1000], labels = ['1','2+'])"
   ]
  },
  {
   "cell_type": "code",
   "execution_count": 83,
   "metadata": {},
   "outputs": [
    {
     "data": {
      "text/html": [
       "<div>\n",
       "<style scoped>\n",
       "    .dataframe tbody tr th:only-of-type {\n",
       "        vertical-align: middle;\n",
       "    }\n",
       "\n",
       "    .dataframe tbody tr th {\n",
       "        vertical-align: top;\n",
       "    }\n",
       "\n",
       "    .dataframe thead th {\n",
       "        text-align: right;\n",
       "    }\n",
       "</style>\n",
       "<table border=\"1\" class=\"dataframe\">\n",
       "  <thead>\n",
       "    <tr style=\"text-align: right;\">\n",
       "      <th></th>\n",
       "      <th></th>\n",
       "      <th>room_id</th>\n",
       "      <th>bin</th>\n",
       "    </tr>\n",
       "    <tr>\n",
       "      <th>date_collected</th>\n",
       "      <th>host_id</th>\n",
       "      <th></th>\n",
       "      <th></th>\n",
       "    </tr>\n",
       "  </thead>\n",
       "  <tbody>\n",
       "    <tr>\n",
       "      <th rowspan=\"5\" valign=\"top\">2017-07-10</th>\n",
       "      <th>139004053.0</th>\n",
       "      <td>1</td>\n",
       "      <td>1</td>\n",
       "    </tr>\n",
       "    <tr>\n",
       "      <th>139132883.0</th>\n",
       "      <td>1</td>\n",
       "      <td>1</td>\n",
       "    </tr>\n",
       "    <tr>\n",
       "      <th>139134376.0</th>\n",
       "      <td>1</td>\n",
       "      <td>1</td>\n",
       "    </tr>\n",
       "    <tr>\n",
       "      <th>139315170.0</th>\n",
       "      <td>1</td>\n",
       "      <td>1</td>\n",
       "    </tr>\n",
       "    <tr>\n",
       "      <th>139553832.0</th>\n",
       "      <td>1</td>\n",
       "      <td>1</td>\n",
       "    </tr>\n",
       "  </tbody>\n",
       "</table>\n",
       "</div>"
      ],
      "text/plain": [
       "                            room_id bin\n",
       "date_collected host_id                 \n",
       "2017-07-10     139004053.0        1   1\n",
       "               139132883.0        1   1\n",
       "               139134376.0        1   1\n",
       "               139315170.0        1   1\n",
       "               139553832.0        1   1"
      ]
     },
     "execution_count": 83,
     "metadata": {},
     "output_type": "execute_result"
    }
   ],
   "source": [
    "host_grouped.tail()"
   ]
  },
  {
   "cell_type": "code",
   "execution_count": 86,
   "metadata": {},
   "outputs": [
    {
     "data": {
      "text/html": [
       "<div>\n",
       "<style scoped>\n",
       "    .dataframe tbody tr th:only-of-type {\n",
       "        vertical-align: middle;\n",
       "    }\n",
       "\n",
       "    .dataframe tbody tr th {\n",
       "        vertical-align: top;\n",
       "    }\n",
       "\n",
       "    .dataframe thead th {\n",
       "        text-align: right;\n",
       "    }\n",
       "</style>\n",
       "<table border=\"1\" class=\"dataframe\">\n",
       "  <thead>\n",
       "    <tr style=\"text-align: right;\">\n",
       "      <th></th>\n",
       "      <th>room_id</th>\n",
       "    </tr>\n",
       "    <tr>\n",
       "      <th>bin</th>\n",
       "      <th></th>\n",
       "    </tr>\n",
       "  </thead>\n",
       "  <tbody>\n",
       "    <tr>\n",
       "      <th>1</th>\n",
       "      <td>103629</td>\n",
       "    </tr>\n",
       "    <tr>\n",
       "      <th>2+</th>\n",
       "      <td>6335</td>\n",
       "    </tr>\n",
       "  </tbody>\n",
       "</table>\n",
       "</div>"
      ],
      "text/plain": [
       "     room_id\n",
       "bin         \n",
       "1     103629\n",
       "2+      6335"
      ]
     },
     "execution_count": 86,
     "metadata": {},
     "output_type": "execute_result"
    }
   ],
   "source": [
    "host_grouped.groupby('bin').count()"
   ]
  },
  {
   "cell_type": "code",
   "execution_count": 87,
   "metadata": {},
   "outputs": [
    {
     "data": {
      "text/plain": [
       "bin\n",
       "1     103629\n",
       "2+      6335\n",
       "dtype: int64"
      ]
     },
     "execution_count": 87,
     "metadata": {},
     "output_type": "execute_result"
    }
   ],
   "source": [
    "pd.crosstab(host_grouped['room_id'],host_grouped['bin']).sum()"
   ]
  },
  {
   "cell_type": "code",
   "execution_count": 89,
   "metadata": {},
   "outputs": [
    {
     "data": {
      "text/plain": [
       "103629"
      ]
     },
     "execution_count": 89,
     "metadata": {},
     "output_type": "execute_result"
    }
   ],
   "source": [
    "host_grouped[host_grouped['bin'] == '1']['room_id'].sum()"
   ]
  },
  {
   "cell_type": "code",
   "execution_count": 91,
   "metadata": {},
   "outputs": [
    {
     "data": {
      "text/plain": [
       "18052"
      ]
     },
     "execution_count": 91,
     "metadata": {},
     "output_type": "execute_result"
    }
   ],
   "source": [
    "host_grouped[host_grouped['bin'] == '2+']['room_id'].sum()"
   ]
  },
  {
   "cell_type": "code",
   "execution_count": 94,
   "metadata": {},
   "outputs": [
    {
     "ename": "AttributeError",
     "evalue": "'numpy.int64' object has no attribute 'plot'",
     "output_type": "error",
     "traceback": [
      "\u001b[0;31m---------------------------------------------------------------------------\u001b[0m",
      "\u001b[0;31mAttributeError\u001b[0m                            Traceback (most recent call last)",
      "\u001b[0;32m<ipython-input-94-b5c3b6184ccb>\u001b[0m in \u001b[0;36m<module>\u001b[0;34m()\u001b[0m\n\u001b[0;32m----> 1\u001b[0;31m \u001b[0mhost_grouped\u001b[0m\u001b[0;34m[\u001b[0m\u001b[0mhost_grouped\u001b[0m\u001b[0;34m[\u001b[0m\u001b[0;34m'bin'\u001b[0m\u001b[0;34m]\u001b[0m \u001b[0;34m==\u001b[0m \u001b[0;34m'2+'\u001b[0m\u001b[0;34m]\u001b[0m\u001b[0;34m[\u001b[0m\u001b[0;34m'room_id'\u001b[0m\u001b[0;34m]\u001b[0m\u001b[0;34m.\u001b[0m\u001b[0msum\u001b[0m\u001b[0;34m(\u001b[0m\u001b[0;34m)\u001b[0m\u001b[0;34m.\u001b[0m\u001b[0mplot\u001b[0m\u001b[0;34m(\u001b[0m\u001b[0;34m)\u001b[0m\u001b[0;34m\u001b[0m\u001b[0m\n\u001b[0m",
      "\u001b[0;31mAttributeError\u001b[0m: 'numpy.int64' object has no attribute 'plot'"
     ]
    }
   ],
   "source": [
    "host_grouped[host_grouped['bin'] == '2+']['room_id'].plot()"
   ]
  }
 ],
 "metadata": {
  "kernelspec": {
   "display_name": "Python [conda root]",
   "language": "python",
   "name": "conda-root-py"
  },
  "language_info": {
   "codemirror_mode": {
    "name": "ipython",
    "version": 3
   },
   "file_extension": ".py",
   "mimetype": "text/x-python",
   "name": "python",
   "nbconvert_exporter": "python",
   "pygments_lexer": "ipython3",
   "version": "3.6.0"
  }
 },
 "nbformat": 4,
 "nbformat_minor": 2
}
