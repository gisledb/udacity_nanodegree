{
 "cells": [
  {
   "cell_type": "code",
   "execution_count": 4,
   "metadata": {
    "collapsed": false
   },
   "outputs": [],
   "source": [
    "import numpy as np\n",
    "import pandas as pd\n",
    "import matplotlib.pyplot as plt\n",
    "from pandas import DataFrame, Series"
   ]
  },
  {
   "cell_type": "code",
   "execution_count": 8,
   "metadata": {
    "collapsed": false
   },
   "outputs": [],
   "source": [
    "df = pd.read_csv('data_files/stroopdata.csv')"
   ]
  },
  {
   "cell_type": "code",
   "execution_count": null,
   "metadata": {
    "collapsed": true
   },
   "outputs": [],
   "source": []
  },
  {
   "cell_type": "code",
   "execution_count": 31,
   "metadata": {
    "collapsed": false
   },
   "outputs": [
    {
     "name": "stdout",
     "output_type": "stream",
     "text": [
      "<class 'pandas.core.frame.DataFrame'>\n",
      "Congruent      14.051125\n",
      "Incongruent    22.015917\n",
      "dtype: float64\n"
     ]
    },
    {
     "data": {
      "text/plain": [
       "array([ 12.079,  16.791,   9.564,   8.63 ,  14.669,  12.238,  14.692,\n",
       "         8.987,   9.401,  14.48 ,  22.328,  15.298,  15.073,  16.929,\n",
       "        18.2  ,  12.13 ,  18.495,  10.639,  11.344,  12.369,  12.944,\n",
       "        14.233,  19.71 ,  16.004])"
      ]
     },
     "execution_count": 31,
     "metadata": {},
     "output_type": "execute_result"
    }
   ],
   "source": [
    "print(type(df))\n",
    "#print(df)\n",
    "\n",
    "#df.count()\n",
    "\n",
    "#df.diff()\n",
    "print(df.mean())\n",
    "#print(df.median())\n",
    "#print(df.where(df > 20, other='cook'))\n",
    "\n",
    "#np.nan\n",
    "\n",
    "#df[['Congruent']]\n",
    "#df['Congruent']\n",
    "#df['Congruent'].values #creates an array containing a list of the values of the column\n"
   ]
  }
 ],
 "metadata": {
  "kernelspec": {
   "display_name": "Python 3",
   "language": "python",
   "name": "python3"
  },
  "language_info": {
   "codemirror_mode": {
    "name": "ipython",
    "version": 3
   },
   "file_extension": ".py",
   "mimetype": "text/x-python",
   "name": "python",
   "nbconvert_exporter": "python",
   "pygments_lexer": "ipython3",
   "version": "3.5.1"
  }
 },
 "nbformat": 4,
 "nbformat_minor": 0
}
