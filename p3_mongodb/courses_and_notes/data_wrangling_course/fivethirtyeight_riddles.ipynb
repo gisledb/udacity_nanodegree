{
 "cells": [
  {
   "cell_type": "markdown",
   "metadata": {},
   "source": [
    "# Riddler Express"
   ]
  },
  {
   "cell_type": "code",
   "execution_count": 2,
   "metadata": {
    "collapsed": false
   },
   "outputs": [],
   "source": [
    "coins = {}\n",
    "\n",
    "for i in range(1,101):\n",
    "    coins[i] = 'head'\n"
   ]
  },
  {
   "cell_type": "code",
   "execution_count": 11,
   "metadata": {
    "collapsed": false
   },
   "outputs": [
    {
     "data": {
      "text/plain": [
       "{1: 1,\n",
       " 2: 2,\n",
       " 3: 2,\n",
       " 4: 3,\n",
       " 5: 2,\n",
       " 6: 4,\n",
       " 7: 2,\n",
       " 8: 4,\n",
       " 9: 3,\n",
       " 10: 4,\n",
       " 11: 2,\n",
       " 12: 6,\n",
       " 13: 2,\n",
       " 14: 4,\n",
       " 15: 4,\n",
       " 16: 5,\n",
       " 17: 2,\n",
       " 18: 6,\n",
       " 19: 2,\n",
       " 20: 6,\n",
       " 21: 4,\n",
       " 22: 4,\n",
       " 23: 2,\n",
       " 24: 8,\n",
       " 25: 3,\n",
       " 26: 4,\n",
       " 27: 4,\n",
       " 28: 6,\n",
       " 29: 2,\n",
       " 30: 8,\n",
       " 31: 2,\n",
       " 32: 6,\n",
       " 33: 4,\n",
       " 34: 4,\n",
       " 35: 4,\n",
       " 36: 9,\n",
       " 37: 2,\n",
       " 38: 4,\n",
       " 39: 4,\n",
       " 40: 8,\n",
       " 41: 2,\n",
       " 42: 8,\n",
       " 43: 2,\n",
       " 44: 6,\n",
       " 45: 6,\n",
       " 46: 4,\n",
       " 47: 2,\n",
       " 48: 10,\n",
       " 49: 3,\n",
       " 50: 6,\n",
       " 51: 4,\n",
       " 52: 6,\n",
       " 53: 2,\n",
       " 54: 8,\n",
       " 55: 4,\n",
       " 56: 8,\n",
       " 57: 4,\n",
       " 58: 4,\n",
       " 59: 2,\n",
       " 60: 12,\n",
       " 61: 2,\n",
       " 62: 4,\n",
       " 63: 6,\n",
       " 64: 7,\n",
       " 65: 4,\n",
       " 66: 8,\n",
       " 67: 2,\n",
       " 68: 6,\n",
       " 69: 4,\n",
       " 70: 8,\n",
       " 71: 2,\n",
       " 72: 12,\n",
       " 73: 2,\n",
       " 74: 4,\n",
       " 75: 6,\n",
       " 76: 6,\n",
       " 77: 4,\n",
       " 78: 8,\n",
       " 79: 2,\n",
       " 80: 10,\n",
       " 81: 5,\n",
       " 82: 4,\n",
       " 83: 2,\n",
       " 84: 12,\n",
       " 85: 4,\n",
       " 86: 4,\n",
       " 87: 4,\n",
       " 88: 8,\n",
       " 89: 2,\n",
       " 90: 12,\n",
       " 91: 4,\n",
       " 92: 6,\n",
       " 93: 4,\n",
       " 94: 4,\n",
       " 95: 4,\n",
       " 96: 12,\n",
       " 97: 2,\n",
       " 98: 6,\n",
       " 99: 6,\n",
       " 100: 9}"
      ]
     },
     "execution_count": 11,
     "metadata": {},
     "output_type": "execute_result"
    }
   ],
   "source": [
    "times_turned = {}\n",
    "\n",
    "for coin in range(1,101):\n",
    "    count = 0\n",
    "    for multiplier in range(1,101):\n",
    "        if coin % multiplier == 0:\n",
    "            count += 1\n",
    "            if coins[coin] == 'head':\n",
    "                coins[coin] = 'tails'\n",
    "            elif coins[coin] == 'tails':\n",
    "                coins[coin] = 'head'\n",
    "    times_turned[coin] = count\n",
    "\n",
    "\n",
    "times_turned"
   ]
  },
  {
   "cell_type": "markdown",
   "metadata": {},
   "source": [
    "## Riddler classic"
   ]
  },
  {
   "cell_type": "code",
   "execution_count": 44,
   "metadata": {
    "collapsed": false
   },
   "outputs": [
    {
     "data": {
      "text/plain": [
       "defaultdict(None,\n",
       "            {2: 1,\n",
       "             3: 2,\n",
       "             4: 3,\n",
       "             5: 4,\n",
       "             6: 5,\n",
       "             7: 6,\n",
       "             8: 5,\n",
       "             9: 4,\n",
       "             10: 3,\n",
       "             11: 2,\n",
       "             12: 1})"
      ]
     },
     "execution_count": 44,
     "metadata": {},
     "output_type": "execute_result"
    }
   ],
   "source": [
    "from collections import defaultdict\n",
    "\n",
    "dice1 = [1,2,3,4,5,6]\n",
    "dice2 = [1,2,3,4,5,6]\n",
    "board = list(range(1,1001))\n",
    "\n",
    "possible_dice_rolls = defaultdict()\n",
    "\n",
    "\n",
    "for first in dice1:\n",
    "    total_count = 0\n",
    "    for second in dice2:\n",
    "        #possible_dice_rolls.append(first+second)\n",
    "        value = first + second\n",
    "        if value in possible_dice_rolls:\n",
    "            possible_dice_rolls[value] += 1\n",
    "        else:\n",
    "            possible_dice_rolls[value] = 1\n",
    "            \n",
    "possible_dice_rolls"
   ]
  }
 ],
 "metadata": {
  "anaconda-cloud": {},
  "kernelspec": {
   "display_name": "Python [Root]",
   "language": "python",
   "name": "Python [Root]"
  },
  "language_info": {
   "codemirror_mode": {
    "name": "ipython",
    "version": 3
   },
   "file_extension": ".py",
   "mimetype": "text/x-python",
   "name": "python",
   "nbconvert_exporter": "python",
   "pygments_lexer": "ipython3",
   "version": "3.5.2"
  }
 },
 "nbformat": 4,
 "nbformat_minor": 0
}
