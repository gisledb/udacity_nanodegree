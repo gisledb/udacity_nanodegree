{
 "cells": [
  {
   "cell_type": "code",
   "execution_count": 1,
   "metadata": {
    "collapsed": true
   },
   "outputs": [],
   "source": [
    "#Importing libraries\n",
    "import pandas as pd\n",
    "import numpy as np\n",
    "import matplotlib.pyplot as plt\n",
    "from IPython.display import display\n",
    "\n",
    "%matplotlib inline"
   ]
  },
  {
   "cell_type": "code",
   "execution_count": 2,
   "metadata": {
    "collapsed": true
   },
   "outputs": [],
   "source": [
    "#Reading data\n",
    "df = pd.read_csv('HoursKeeper.data.2016.9.9.csv', skiprows=1)"
   ]
  },
  {
   "cell_type": "code",
   "execution_count": 3,
   "metadata": {
    "collapsed": false
   },
   "outputs": [
    {
     "data": {
      "text/html": [
       "<div>\n",
       "<table border=\"1\" class=\"dataframe\">\n",
       "  <thead>\n",
       "    <tr style=\"text-align: right;\">\n",
       "      <th></th>\n",
       "      <th>Client Name</th>\n",
       "      <th>Start Time</th>\n",
       "      <th>End Time</th>\n",
       "      <th>Break Time</th>\n",
       "      <th>Worked Hours</th>\n",
       "      <th>Rate/h</th>\n",
       "      <th>Amount</th>\n",
       "      <th>Note</th>\n",
       "    </tr>\n",
       "  </thead>\n",
       "  <tbody>\n",
       "    <tr>\n",
       "      <th>0</th>\n",
       "      <td>P2</td>\n",
       "      <td>7 September 2016 at 17:42:03</td>\n",
       "      <td>7 September 2016 at 19:09:40</td>\n",
       "      <td>0h 00m</td>\n",
       "      <td>1h 28m</td>\n",
       "      <td>$1,00</td>\n",
       "      <td>$1,47</td>\n",
       "      <td>NaN</td>\n",
       "    </tr>\n",
       "    <tr>\n",
       "      <th>1</th>\n",
       "      <td>P1</td>\n",
       "      <td>7 September 2016 at 17:41:56</td>\n",
       "      <td>7 September 2016 at 17:41:58</td>\n",
       "      <td>0h 00m</td>\n",
       "      <td>0h 01m</td>\n",
       "      <td>$1,00</td>\n",
       "      <td>$0,02</td>\n",
       "      <td>NaN</td>\n",
       "    </tr>\n",
       "    <tr>\n",
       "      <th>2</th>\n",
       "      <td>Break</td>\n",
       "      <td>7 September 2016 at 16:41:16</td>\n",
       "      <td>7 September 2016 at 17:41:48</td>\n",
       "      <td>0h 00m</td>\n",
       "      <td>1h 01m</td>\n",
       "      <td>$0,05</td>\n",
       "      <td>$0,05</td>\n",
       "      <td>NaN</td>\n",
       "    </tr>\n",
       "    <tr>\n",
       "      <th>3</th>\n",
       "      <td>P2</td>\n",
       "      <td>7 September 2016 at 15:38:41</td>\n",
       "      <td>7 September 2016 at 16:41:05</td>\n",
       "      <td>0h 00m</td>\n",
       "      <td>1h 03m</td>\n",
       "      <td>$1,00</td>\n",
       "      <td>$1,05</td>\n",
       "      <td>NaN</td>\n",
       "    </tr>\n",
       "    <tr>\n",
       "      <th>4</th>\n",
       "      <td>P2</td>\n",
       "      <td>4 September 2016 at 16:23:00</td>\n",
       "      <td>4 September 2016 at 17:23:00</td>\n",
       "      <td>0h 00m</td>\n",
       "      <td>1h 00m</td>\n",
       "      <td>$1,00</td>\n",
       "      <td>$1,00</td>\n",
       "      <td>NaN</td>\n",
       "    </tr>\n",
       "  </tbody>\n",
       "</table>\n",
       "</div>"
      ],
      "text/plain": [
       "  Client Name                    Start Time                      End Time  \\\n",
       "0          P2  7 September 2016 at 17:42:03  7 September 2016 at 19:09:40   \n",
       "1          P1  7 September 2016 at 17:41:56  7 September 2016 at 17:41:58   \n",
       "2       Break  7 September 2016 at 16:41:16  7 September 2016 at 17:41:48   \n",
       "3          P2  7 September 2016 at 15:38:41  7 September 2016 at 16:41:05   \n",
       "4          P2  4 September 2016 at 16:23:00  4 September 2016 at 17:23:00   \n",
       "\n",
       "  Break Time Worked Hours Rate/h Amount  Note  \n",
       "0     0h 00m       1h 28m  $1,00  $1,47   NaN  \n",
       "1     0h 00m       0h 01m  $1,00  $0,02   NaN  \n",
       "2     0h 00m       1h 01m  $0,05  $0,05   NaN  \n",
       "3     0h 00m       1h 03m  $1,00  $1,05   NaN  \n",
       "4     0h 00m       1h 00m  $1,00  $1,00   NaN  "
      ]
     },
     "metadata": {},
     "output_type": "display_data"
    },
    {
     "name": "stderr",
     "output_type": "stream",
     "text": [
      "/Users/ggaasemyr/anaconda3/lib/python3.5/site-packages/numpy/lib/function_base.py:3834: RuntimeWarning: Invalid value encountered in percentile\n",
      "  RuntimeWarning)\n"
     ]
    },
    {
     "data": {
      "text/html": [
       "<div>\n",
       "<table border=\"1\" class=\"dataframe\">\n",
       "  <thead>\n",
       "    <tr style=\"text-align: right;\">\n",
       "      <th></th>\n",
       "      <th>Note</th>\n",
       "    </tr>\n",
       "  </thead>\n",
       "  <tbody>\n",
       "    <tr>\n",
       "      <th>count</th>\n",
       "      <td>0.0</td>\n",
       "    </tr>\n",
       "    <tr>\n",
       "      <th>mean</th>\n",
       "      <td>NaN</td>\n",
       "    </tr>\n",
       "    <tr>\n",
       "      <th>std</th>\n",
       "      <td>NaN</td>\n",
       "    </tr>\n",
       "    <tr>\n",
       "      <th>min</th>\n",
       "      <td>NaN</td>\n",
       "    </tr>\n",
       "    <tr>\n",
       "      <th>25%</th>\n",
       "      <td>NaN</td>\n",
       "    </tr>\n",
       "    <tr>\n",
       "      <th>50%</th>\n",
       "      <td>NaN</td>\n",
       "    </tr>\n",
       "    <tr>\n",
       "      <th>75%</th>\n",
       "      <td>NaN</td>\n",
       "    </tr>\n",
       "    <tr>\n",
       "      <th>max</th>\n",
       "      <td>NaN</td>\n",
       "    </tr>\n",
       "  </tbody>\n",
       "</table>\n",
       "</div>"
      ],
      "text/plain": [
       "       Note\n",
       "count   0.0\n",
       "mean    NaN\n",
       "std     NaN\n",
       "min     NaN\n",
       "25%     NaN\n",
       "50%     NaN\n",
       "75%     NaN\n",
       "max     NaN"
      ]
     },
     "metadata": {},
     "output_type": "display_data"
    }
   ],
   "source": [
    "display(df.head(5))\n",
    "display(df.describe())"
   ]
  },
  {
   "cell_type": "code",
   "execution_count": 4,
   "metadata": {
    "collapsed": false
   },
   "outputs": [
    {
     "data": {
      "text/plain": [
       "Index(['Client Name', 'Start Time', 'End Time', 'Break Time', 'Worked Hours',\n",
       "       'Rate/h', 'Amount', 'Note'],\n",
       "      dtype='object')"
      ]
     },
     "execution_count": 4,
     "metadata": {},
     "output_type": "execute_result"
    }
   ],
   "source": [
    "df.columns"
   ]
  },
  {
   "cell_type": "code",
   "execution_count": 5,
   "metadata": {
    "collapsed": false
   },
   "outputs": [
    {
     "data": {
      "text/html": [
       "<div>\n",
       "<table border=\"1\" class=\"dataframe\">\n",
       "  <thead>\n",
       "    <tr style=\"text-align: right;\">\n",
       "      <th></th>\n",
       "      <th>Client Name</th>\n",
       "      <th>Start Time</th>\n",
       "      <th>End Time</th>\n",
       "      <th>Break Time</th>\n",
       "      <th>Worked Hours</th>\n",
       "      <th>Rate/h</th>\n",
       "      <th>Amount</th>\n",
       "      <th>Note</th>\n",
       "    </tr>\n",
       "  </thead>\n",
       "  <tbody>\n",
       "    <tr>\n",
       "      <th>0</th>\n",
       "      <td>P2</td>\n",
       "      <td>2016-09-07 17:42:03</td>\n",
       "      <td>2016-09-07 19:09:40</td>\n",
       "      <td>0h 00m</td>\n",
       "      <td>1.466667</td>\n",
       "      <td>$1,00</td>\n",
       "      <td>$1,47</td>\n",
       "      <td>NaN</td>\n",
       "    </tr>\n",
       "    <tr>\n",
       "      <th>1</th>\n",
       "      <td>P1</td>\n",
       "      <td>2016-09-07 17:41:56</td>\n",
       "      <td>2016-09-07 17:41:58</td>\n",
       "      <td>0h 00m</td>\n",
       "      <td>0.016667</td>\n",
       "      <td>$1,00</td>\n",
       "      <td>$0,02</td>\n",
       "      <td>NaN</td>\n",
       "    </tr>\n",
       "    <tr>\n",
       "      <th>2</th>\n",
       "      <td>Break</td>\n",
       "      <td>2016-09-07 16:41:16</td>\n",
       "      <td>2016-09-07 17:41:48</td>\n",
       "      <td>0h 00m</td>\n",
       "      <td>1.016667</td>\n",
       "      <td>$0,05</td>\n",
       "      <td>$0,05</td>\n",
       "      <td>NaN</td>\n",
       "    </tr>\n",
       "    <tr>\n",
       "      <th>3</th>\n",
       "      <td>P2</td>\n",
       "      <td>2016-09-07 15:38:41</td>\n",
       "      <td>2016-09-07 16:41:05</td>\n",
       "      <td>0h 00m</td>\n",
       "      <td>1.050000</td>\n",
       "      <td>$1,00</td>\n",
       "      <td>$1,05</td>\n",
       "      <td>NaN</td>\n",
       "    </tr>\n",
       "    <tr>\n",
       "      <th>4</th>\n",
       "      <td>P2</td>\n",
       "      <td>2016-09-04 16:23:00</td>\n",
       "      <td>2016-09-04 17:23:00</td>\n",
       "      <td>0h 00m</td>\n",
       "      <td>1.000000</td>\n",
       "      <td>$1,00</td>\n",
       "      <td>$1,00</td>\n",
       "      <td>NaN</td>\n",
       "    </tr>\n",
       "  </tbody>\n",
       "</table>\n",
       "</div>"
      ],
      "text/plain": [
       "  Client Name          Start Time            End Time Break Time  \\\n",
       "0          P2 2016-09-07 17:42:03 2016-09-07 19:09:40     0h 00m   \n",
       "1          P1 2016-09-07 17:41:56 2016-09-07 17:41:58     0h 00m   \n",
       "2       Break 2016-09-07 16:41:16 2016-09-07 17:41:48     0h 00m   \n",
       "3          P2 2016-09-07 15:38:41 2016-09-07 16:41:05     0h 00m   \n",
       "4          P2 2016-09-04 16:23:00 2016-09-04 17:23:00     0h 00m   \n",
       "\n",
       "   Worked Hours Rate/h Amount  Note  \n",
       "0      1.466667  $1,00  $1,47   NaN  \n",
       "1      0.016667  $1,00  $0,02   NaN  \n",
       "2      1.016667  $0,05  $0,05   NaN  \n",
       "3      1.050000  $1,00  $1,05   NaN  \n",
       "4      1.000000  $1,00  $1,00   NaN  "
      ]
     },
     "execution_count": 5,
     "metadata": {},
     "output_type": "execute_result"
    }
   ],
   "source": [
    "#cleaning data, making time and amounts numeric\n",
    "\n",
    "df['Start Time'] = pd.to_datetime(df['Start Time'])\n",
    "df['End Time'] = pd.to_datetime(df['End Time'])\n",
    "df['Worked Hours'] = (pd.to_timedelta(df['Worked Hours']) / np.timedelta64(1, 'm') / 60)\n",
    "\n",
    "df.head(5)"
   ]
  },
  {
   "cell_type": "code",
   "execution_count": 6,
   "metadata": {
    "collapsed": false
   },
   "outputs": [
    {
     "name": "stderr",
     "output_type": "stream",
     "text": [
      "/Users/ggaasemyr/anaconda3/lib/python3.5/site-packages/numpy/lib/function_base.py:3834: RuntimeWarning: Invalid value encountered in percentile\n",
      "  RuntimeWarning)\n"
     ]
    },
    {
     "data": {
      "text/html": [
       "<div>\n",
       "<table border=\"1\" class=\"dataframe\">\n",
       "  <thead>\n",
       "    <tr style=\"text-align: right;\">\n",
       "      <th></th>\n",
       "      <th>Worked Hours</th>\n",
       "      <th>Note</th>\n",
       "    </tr>\n",
       "  </thead>\n",
       "  <tbody>\n",
       "    <tr>\n",
       "      <th>count</th>\n",
       "      <td>172.000000</td>\n",
       "      <td>0.0</td>\n",
       "    </tr>\n",
       "    <tr>\n",
       "      <th>mean</th>\n",
       "      <td>0.689632</td>\n",
       "      <td>NaN</td>\n",
       "    </tr>\n",
       "    <tr>\n",
       "      <th>std</th>\n",
       "      <td>0.619725</td>\n",
       "      <td>NaN</td>\n",
       "    </tr>\n",
       "    <tr>\n",
       "      <th>min</th>\n",
       "      <td>0.016667</td>\n",
       "      <td>NaN</td>\n",
       "    </tr>\n",
       "    <tr>\n",
       "      <th>25%</th>\n",
       "      <td>0.266667</td>\n",
       "      <td>NaN</td>\n",
       "    </tr>\n",
       "    <tr>\n",
       "      <th>50%</th>\n",
       "      <td>0.516667</td>\n",
       "      <td>NaN</td>\n",
       "    </tr>\n",
       "    <tr>\n",
       "      <th>75%</th>\n",
       "      <td>0.950000</td>\n",
       "      <td>NaN</td>\n",
       "    </tr>\n",
       "    <tr>\n",
       "      <th>max</th>\n",
       "      <td>3.133333</td>\n",
       "      <td>NaN</td>\n",
       "    </tr>\n",
       "  </tbody>\n",
       "</table>\n",
       "</div>"
      ],
      "text/plain": [
       "       Worked Hours  Note\n",
       "count    172.000000   0.0\n",
       "mean       0.689632   NaN\n",
       "std        0.619725   NaN\n",
       "min        0.016667   NaN\n",
       "25%        0.266667   NaN\n",
       "50%        0.516667   NaN\n",
       "75%        0.950000   NaN\n",
       "max        3.133333   NaN"
      ]
     },
     "execution_count": 6,
     "metadata": {},
     "output_type": "execute_result"
    }
   ],
   "source": [
    "df.describe()"
   ]
  },
  {
   "cell_type": "code",
   "execution_count": 7,
   "metadata": {
    "collapsed": false
   },
   "outputs": [],
   "source": [
    "gb_client = df.groupby('Client Name')"
   ]
  },
  {
   "cell_type": "code",
   "execution_count": 8,
   "metadata": {
    "collapsed": false
   },
   "outputs": [
    {
     "data": {
      "text/plain": [
       "Client Name\n",
       "P2                    71\n",
       "Break                 38\n",
       "P1                    31\n",
       "Other, optional       14\n",
       "Python                10\n",
       "Statistics             5\n",
       "Other, needed          2\n",
       "Resource gathering     1\n",
       "Name: Worked Hours, dtype: int64"
      ]
     },
     "execution_count": 8,
     "metadata": {},
     "output_type": "execute_result"
    }
   ],
   "source": [
    "gb_client['Worked Hours'].agg('count').sort_values(ascending=False)"
   ]
  },
  {
   "cell_type": "markdown",
   "metadata": {},
   "source": [
    "Stopping now as this has become proking. To still do: add week numbers and day of the week. Do analysis based on that. Make charts."
   ]
  }
 ],
 "metadata": {
  "anaconda-cloud": {},
  "kernelspec": {
   "display_name": "Python [Root]",
   "language": "python",
   "name": "Python [Root]"
  },
  "language_info": {
   "codemirror_mode": {
    "name": "ipython",
    "version": 3
   },
   "file_extension": ".py",
   "mimetype": "text/x-python",
   "name": "python",
   "nbconvert_exporter": "python",
   "pygments_lexer": "ipython3",
   "version": "3.5.2"
  }
 },
 "nbformat": 4,
 "nbformat_minor": 0
}
